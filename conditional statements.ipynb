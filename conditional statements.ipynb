{
 "cells": [
  {
   "cell_type": "code",
   "execution_count": 1,
   "metadata": {},
   "outputs": [
    {
     "name": "stdout",
     "output_type": "stream",
     "text": [
      "a is big\n",
      "b is big\n"
     ]
    }
   ],
   "source": [
    "a=10#raw_input(\"Enter a vaie\")\n",
    "b=20\n",
    "print \"a is big\"\n",
    "print \"b is big\""
   ]
  },
  {
   "cell_type": "code",
   "execution_count": 2,
   "metadata": {},
   "outputs": [
    {
     "name": "stdout",
     "output_type": "stream",
     "text": [
      "program started\n",
      "False\n",
      "b is big\n",
      "other statements in program\n",
      "program ended\n"
     ]
    }
   ],
   "source": [
    "print \"program started\"\n",
    "a=10#raw_input(\"Enter a vaie\")\n",
    "b=20\n",
    "print a>b\n",
    "if a>b:\n",
    "    print \"a is big\"\n",
    "else:\n",
    "    print \"b is big\"\n",
    "print \"other statements in program\"\n",
    "print \"program ended\""
   ]
  },
  {
   "cell_type": "code",
   "execution_count": 3,
   "metadata": {},
   "outputs": [
    {
     "name": "stdout",
     "output_type": "stream",
     "text": [
      "program started\n",
      "True\n",
      "a is big\n",
      "other statements in program\n",
      "program ended\n"
     ]
    }
   ],
   "source": [
    "print \"program started\"\n",
    "a=100#raw_input(\"Enter a vaie\")\n",
    "b=20\n",
    "print a>b\n",
    "if a>b:\n",
    "    print \"a is big\"\n",
    "else:\n",
    "    print \"b is big\"\n",
    "print \"other statements in program\"\n",
    "print \"program ended\""
   ]
  },
  {
   "cell_type": "code",
   "execution_count": 4,
   "metadata": {},
   "outputs": [
    {
     "name": "stdout",
     "output_type": "stream",
     "text": [
      "program started\n",
      "True\n",
      "if block started\n",
      "a is big\n",
      "else block ended\n",
      "other statements in program\n",
      "program ended\n"
     ]
    }
   ],
   "source": [
    "print \"program started\"\n",
    "a=100#raw_input(\"Enter a vaie\")\n",
    "b=20\n",
    "print a>b\n",
    "if a>b:\n",
    " print \"if block started\"\n",
    " print \"a is big\"\n",
    " print \"else block ended\"\n",
    "else:\n",
    "    print \"else block started\"\n",
    "    print \"b is big\"\n",
    "    print \"else block ended\"\n",
    "print \"other statements in program\"\n",
    "print \"program ended\""
   ]
  },
  {
   "cell_type": "code",
   "execution_count": 5,
   "metadata": {},
   "outputs": [
    {
     "ename": "IndentationError",
     "evalue": "unindent does not match any outer indentation level (<ipython-input-5-721fd0377919>, line 7)",
     "output_type": "error",
     "traceback": [
      "\u001b[0;36m  File \u001b[0;32m\"<ipython-input-5-721fd0377919>\"\u001b[0;36m, line \u001b[0;32m7\u001b[0m\n\u001b[0;31m    print \"a is big\"\u001b[0m\n\u001b[0m                    ^\u001b[0m\n\u001b[0;31mIndentationError\u001b[0m\u001b[0;31m:\u001b[0m unindent does not match any outer indentation level\n"
     ]
    }
   ],
   "source": [
    "print \"program started\"\n",
    "a=100#raw_input(\"Enter a vaie\")\n",
    "b=20\n",
    "print a>b\n",
    "if a>b:\n",
    "    print \"if block started\"\n",
    " print \"a is big\"\n",
    " print \"else block ended\"\n",
    "else:\n",
    "    print \"else block started\"\n",
    "    print \"b is big\"\n",
    "    print \"else block ended\"\n",
    "print \"other statements in program\"\n",
    "print \"program ended\""
   ]
  },
  {
   "cell_type": "code",
   "execution_count": 6,
   "metadata": {},
   "outputs": [
    {
     "name": "stdout",
     "output_type": "stream",
     "text": [
      "program started\n",
      "True\n",
      "if block started\n",
      "a is big\n",
      "else block ended\n",
      "other statements in program\n",
      "program ended\n"
     ]
    }
   ],
   "source": [
    "print \"program started\"\n",
    "a=100#raw_input(\"Enter a vaie\")\n",
    "b=20\n",
    "print a>b\n",
    "if a>b:\n",
    "    print \"if block started\"\n",
    "    print \"a is big\"\n",
    "    print \"else block ended\"\n",
    "else:\n",
    "    print \"else block started\"\n",
    "    print \"b is big\"\n",
    "    print \"else block ended\"\n",
    "print \"other statements in program\"\n",
    "print \"program ended\""
   ]
  },
  {
   "cell_type": "code",
   "execution_count": 7,
   "metadata": {},
   "outputs": [
    {
     "name": "stdout",
     "output_type": "stream",
     "text": [
      "program started\n",
      "True\n",
      "if block started\n",
      "a is big\n",
      "else block ended\n",
      "other statements in program\n",
      "program ended\n"
     ]
    }
   ],
   "source": [
    "print \"program started\"\n",
    "a=100#raw_input(\"Enter a vaie\")\n",
    "b=20\n",
    "print a>b\n",
    "if a>b:\n",
    "    print \"if block started\"\n",
    "    print \"a is big\"\n",
    "    print \"else block ended\"\n",
    "\n",
    "print \"other statements in program\"\n",
    "print \"program ended\""
   ]
  },
  {
   "cell_type": "code",
   "execution_count": 8,
   "metadata": {},
   "outputs": [
    {
     "name": "stdout",
     "output_type": "stream",
     "text": [
      "program started\n",
      "False\n",
      "other statements in program\n",
      "program ended\n"
     ]
    }
   ],
   "source": [
    "print \"program started\"\n",
    "a=10#raw_input(\"Enter a vaie\")\n",
    "b=20\n",
    "print a>b\n",
    "if a>b:\n",
    "    print \"if block started\"\n",
    "    print \"a is big\"\n",
    "    print \"else block ended\"\n",
    "\n",
    "print \"other statements in program\"\n",
    "print \"program ended\""
   ]
  },
  {
   "cell_type": "code",
   "execution_count": 9,
   "metadata": {},
   "outputs": [
    {
     "ename": "SyntaxError",
     "evalue": "invalid syntax (<ipython-input-9-842dae8c78d3>, line 5)",
     "output_type": "error",
     "traceback": [
      "\u001b[0;36m  File \u001b[0;32m\"<ipython-input-9-842dae8c78d3>\"\u001b[0;36m, line \u001b[0;32m5\u001b[0m\n\u001b[0;31m    else:\u001b[0m\n\u001b[0m       ^\u001b[0m\n\u001b[0;31mSyntaxError\u001b[0m\u001b[0;31m:\u001b[0m invalid syntax\n"
     ]
    }
   ],
   "source": [
    "print \"program started\"\n",
    "a=10#raw_input(\"Enter a vaie\")\n",
    "b=20\n",
    "print a>b\n",
    "else:\n",
    "    print \"if block started\"\n",
    "    print \"a is big\"\n",
    "    print \"else block ended\"\n",
    "\n",
    "print \"other statements in program\"\n",
    "print \"program ended\""
   ]
  },
  {
   "cell_type": "code",
   "execution_count": 10,
   "metadata": {},
   "outputs": [
    {
     "ename": "SyntaxError",
     "evalue": "invalid syntax (<ipython-input-10-87812be948cd>, line 9)",
     "output_type": "error",
     "traceback": [
      "\u001b[0;36m  File \u001b[0;32m\"<ipython-input-10-87812be948cd>\"\u001b[0;36m, line \u001b[0;32m9\u001b[0m\n\u001b[0;31m    else:\u001b[0m\n\u001b[0m       ^\u001b[0m\n\u001b[0;31mSyntaxError\u001b[0m\u001b[0;31m:\u001b[0m invalid syntax\n"
     ]
    }
   ],
   "source": [
    "print \"program started\"\n",
    "a=100#raw_input(\"Enter a vaie\")\n",
    "b=20\n",
    "print a>b\n",
    "if a>b:\n",
    "    print \"if block started\"\n",
    "    print \"a is big\"\n",
    "print \"if block ended\"\n",
    "else:\n",
    "    print \"else block started\"\n",
    "    print \"b is big\"\n",
    "    print \"else block ended\"\n",
    "print \"other statements in program\"\n",
    "print \"program ended\""
   ]
  },
  {
   "cell_type": "code",
   "execution_count": null,
   "metadata": {
    "collapsed": true
   },
   "outputs": [],
   "source": [
    "Welcome to mobile store\n",
    "    1. Android\n",
    "    2. Mac\n",
    "    3. windows\n",
    "    "
   ]
  },
  {
   "cell_type": "code",
   "execution_count": 11,
   "metadata": {},
   "outputs": [
    {
     "name": "stdout",
     "output_type": "stream",
     "text": [
      "Welcome to mobile store\n",
      "\t1.Android\n",
      "\t2.Mac\n",
      "\t3.windows\n"
     ]
    }
   ],
   "source": [
    "print \"Welcome to mobile store\\n\\t1.Android\\n\\t2.Mac\\n\\t3.windows\""
   ]
  },
  {
   "cell_type": "code",
   "execution_count": 12,
   "metadata": {},
   "outputs": [
    {
     "name": "stdout",
     "output_type": "stream",
     "text": [
      "Welcome to mobile store\n",
      "\t1.Android\n",
      "\t2.Mac\n",
      "\t3.windows\n",
      "Enter an optiion:1\n",
      "1\n"
     ]
    }
   ],
   "source": [
    "print \"Welcome to mobile store\\n\\t1.Android\\n\\t2.Mac\\n\\t3.windows\"\n",
    "flag = raw_input(\"Enter an optiion:\")\n",
    "print flag"
   ]
  },
  {
   "cell_type": "code",
   "execution_count": 13,
   "metadata": {},
   "outputs": [
    {
     "name": "stdout",
     "output_type": "stream",
     "text": [
      "Welcome to mobile store\n",
      "\t1.Android\n",
      "\t2.Mac\n",
      "\t3.windows\n",
      "Enter an optiion:1\n",
      "You are selected: 1\n",
      "GOTO fist floor\n",
      "GOTO second floor\n",
      "GOTO third floor\n",
      "Thank you, Happy shoping\n"
     ]
    }
   ],
   "source": [
    "print \"Welcome to mobile store\\n\\t1.Android\\n\\t2.Mac\\n\\t3.windows\"\n",
    "flag = raw_input(\"Enter an optiion:\")\n",
    "print \"You are selected:\",flag\n",
    "\n",
    "print \"GOTO fist floor\"\n",
    "print \"GOTO second floor\"\n",
    "print \"GOTO third floor\"\n",
    "\n",
    "print \"Thank you, Happy shoping\""
   ]
  },
  {
   "cell_type": "code",
   "execution_count": 14,
   "metadata": {},
   "outputs": [
    {
     "name": "stdout",
     "output_type": "stream",
     "text": [
      "Welcome to mobile store\n",
      "\t1.Android\n",
      "\t2.Mac\n",
      "\t3.windows\n",
      "Enter an optiion:1\n",
      "You are selected: 1\n",
      "Thank you, Happy shoping\n"
     ]
    }
   ],
   "source": [
    "print \"Welcome to mobile store\\n\\t1.Android\\n\\t2.Mac\\n\\t3.windows\"\n",
    "flag = raw_input(\"Enter an optiion:\")\n",
    "print \"You are selected:\",flag\n",
    "if flag==1:\n",
    "    print \"GOTO fist floor\"\n",
    "if flag==2:\n",
    "    print \"GOTO second floor\"\n",
    "if flag==3:\n",
    "    print \"GOTO third floor\"\n",
    "\n",
    "print \"Thank you, Happy shoping\""
   ]
  },
  {
   "cell_type": "code",
   "execution_count": 15,
   "metadata": {},
   "outputs": [
    {
     "data": {
      "text/plain": [
       "False"
      ]
     },
     "execution_count": 15,
     "metadata": {},
     "output_type": "execute_result"
    }
   ],
   "source": [
    "\"1\"==1"
   ]
  },
  {
   "cell_type": "code",
   "execution_count": 16,
   "metadata": {},
   "outputs": [
    {
     "data": {
      "text/plain": [
       "True"
      ]
     },
     "execution_count": 16,
     "metadata": {},
     "output_type": "execute_result"
    }
   ],
   "source": [
    "\"1\"==\"1\""
   ]
  },
  {
   "cell_type": "code",
   "execution_count": 17,
   "metadata": {},
   "outputs": [
    {
     "name": "stdout",
     "output_type": "stream",
     "text": [
      "Welcome to mobile store\n",
      "\t1.Android\n",
      "\t2.Mac\n",
      "\t3.windows\n",
      "Enter an optiion:1\n",
      "You are selected: 1\n",
      "GOTO fist floor\n",
      "Thank you, Happy shoping\n"
     ]
    }
   ],
   "source": [
    "print \"Welcome to mobile store\\n\\t1.Android\\n\\t2.Mac\\n\\t3.windows\"\n",
    "flag = raw_input(\"Enter an optiion:\")\n",
    "print \"You are selected:\",flag\n",
    "if flag==\"1\":\n",
    "    print \"GOTO fist floor\"\n",
    "if flag==\"2\":\n",
    "    print \"GOTO second floor\"\n",
    "if flag==\"3\":\n",
    "    print \"GOTO third floor\"\n",
    "\n",
    "print \"Thank you, Happy shoping\""
   ]
  },
  {
   "cell_type": "code",
   "execution_count": 18,
   "metadata": {},
   "outputs": [
    {
     "name": "stdout",
     "output_type": "stream",
     "text": [
      "Welcome to mobile store\n",
      "\t1.Android\n",
      "\t2.Mac\n",
      "\t3.windows\n",
      "Enter an optiion:2\n",
      "You are selected: 2\n",
      "GOTO second floor\n",
      "Thank you, Happy shoping\n"
     ]
    }
   ],
   "source": [
    "print \"Welcome to mobile store\\n\\t1.Android\\n\\t2.Mac\\n\\t3.windows\"\n",
    "flag = raw_input(\"Enter an optiion:\")\n",
    "print \"You are selected:\",flag\n",
    "if flag==\"1\":\n",
    "    print \"GOTO fist floor\"\n",
    "if flag==\"2\":\n",
    "    print \"GOTO second floor\"\n",
    "if flag==\"3\":\n",
    "    print \"GOTO third floor\"\n",
    "\n",
    "print \"Thank you, Happy shoping\""
   ]
  },
  {
   "cell_type": "code",
   "execution_count": 19,
   "metadata": {},
   "outputs": [
    {
     "name": "stdout",
     "output_type": "stream",
     "text": [
      "Welcome to mobile store\n",
      "\t1.Android\n",
      "\t2.Mac\n",
      "\t3.windows\n",
      "Enter an optiion:3\n",
      "You are selected: 3\n",
      "GOTO third floor\n",
      "Thank you, Happy shoping\n"
     ]
    }
   ],
   "source": [
    "print \"Welcome to mobile store\\n\\t1.Android\\n\\t2.Mac\\n\\t3.windows\"\n",
    "flag = raw_input(\"Enter an optiion:\")\n",
    "print \"You are selected:\",flag\n",
    "if flag==\"1\":\n",
    "    print \"GOTO fist floor\"\n",
    "if flag==\"2\":\n",
    "    print \"GOTO second floor\"\n",
    "if flag==\"3\":\n",
    "    print \"GOTO third floor\"\n",
    "\n",
    "print \"Thank you, Happy shoping\""
   ]
  },
  {
   "cell_type": "code",
   "execution_count": 20,
   "metadata": {},
   "outputs": [
    {
     "name": "stdout",
     "output_type": "stream",
     "text": [
      "Welcome to mobile store\n",
      "\t1.Android\n",
      "\t2.Mac\n",
      "\t3.windows\n",
      "Enter an optiion:4\n",
      "You are selected: 4\n",
      "Thank you, Happy shoping\n"
     ]
    }
   ],
   "source": [
    "print \"Welcome to mobile store\\n\\t1.Android\\n\\t2.Mac\\n\\t3.windows\"\n",
    "flag = raw_input(\"Enter an optiion:\")\n",
    "print \"You are selected:\",flag\n",
    "if flag==\"1\":\n",
    "    print \"GOTO fist floor\"\n",
    "if flag==\"2\":\n",
    "    print \"GOTO second floor\"\n",
    "if flag==\"3\":\n",
    "    print \"GOTO third floor\"\n",
    "\n",
    "print \"Thank you, Happy shoping\""
   ]
  },
  {
   "cell_type": "code",
   "execution_count": 21,
   "metadata": {},
   "outputs": [
    {
     "name": "stdout",
     "output_type": "stream",
     "text": [
      "Welcome to mobile store\n",
      "\t1.Android\n",
      "\t2.Mac\n",
      "\t3.windows\n",
      "Enter an optiion:4\n",
      "You are selected: 4\n",
      "Have only htree floors!!. Select 1 or 2 or 3\n",
      "Thank you, Happy shoping\n"
     ]
    }
   ],
   "source": [
    "print \"Welcome to mobile store\\n\\t1.Android\\n\\t2.Mac\\n\\t3.windows\"\n",
    "flag = raw_input(\"Enter an option:\")\n",
    "print \"You are selected:\",flag\n",
    "if flag==\"1\":\n",
    "    print \"GOTO fist floor\"\n",
    "if flag==\"2\":\n",
    "    print \"GOTO second floor\"\n",
    "if flag==\"3\":\n",
    "    print \"GOTO third floor\"\n",
    "else:\n",
    "    print \"Have only three floors!!. Select 1 or 2 or 3\"\n",
    "print \"Thank you, Happy shoping\""
   ]
  },
  {
   "cell_type": "code",
   "execution_count": 22,
   "metadata": {},
   "outputs": [
    {
     "name": "stdout",
     "output_type": "stream",
     "text": [
      "Welcome to mobile store\n",
      "\t1.Android\n",
      "\t2.Mac\n",
      "\t3.windows\n",
      "Enter an option:3\n",
      "You are selected: 3\n",
      "GOTO third floor\n",
      "Thank you, Happy shoping\n"
     ]
    }
   ],
   "source": [
    "print \"Welcome to mobile store\\n\\t1.Android\\n\\t2.Mac\\n\\t3.windows\"\n",
    "flag = raw_input(\"Enter an option:\")\n",
    "print \"You are selected:\",flag\n",
    "if flag==\"1\":\n",
    "    print \"GOTO fist floor\"\n",
    "if flag==\"2\":\n",
    "    print \"GOTO second floor\"\n",
    "if flag==\"3\":\n",
    "    print \"GOTO third floor\"\n",
    "else:\n",
    "    print \"Have only three floors!!. Select 1 or 2 or 3\"\n",
    "print \"Thank you, Happy shoping\""
   ]
  },
  {
   "cell_type": "code",
   "execution_count": 23,
   "metadata": {},
   "outputs": [
    {
     "name": "stdout",
     "output_type": "stream",
     "text": [
      "Welcome to mobile store\n",
      "\t1.Android\n",
      "\t2.Mac\n",
      "\t3.windows\n",
      "Enter an option:2\n",
      "You are selected: 2\n",
      "GOTO second floor\n",
      "Have only three floors!!. Select 1 or 2 or 3\n",
      "Thank you, Happy shoping\n"
     ]
    }
   ],
   "source": [
    "print \"Welcome to mobile store\\n\\t1.Android\\n\\t2.Mac\\n\\t3.windows\"\n",
    "flag = raw_input(\"Enter an option:\")\n",
    "print \"You are selected:\",flag\n",
    "if flag==\"1\":\n",
    "    print \"GOTO fist floor\"\n",
    "    \n",
    "if flag==\"2\":\n",
    "    print \"GOTO second floor\"\n",
    "if flag==\"3\":\n",
    "    print \"GOTO third floor\"\n",
    "else:\n",
    "    print \"Have only three floors!!. Select 1 or 2 or 3\"\n",
    "print \"Thank you, Happy shoping\""
   ]
  },
  {
   "cell_type": "code",
   "execution_count": 24,
   "metadata": {},
   "outputs": [
    {
     "name": "stdout",
     "output_type": "stream",
     "text": [
      "Welcome to mobile store\n",
      "\t1.Android\n",
      "\t2.Mac\n",
      "\t3.windows\n",
      "Enter an option:2\n",
      "You are selected: 2\n",
      "selcted other than 1\n",
      "GOTO second floor\n",
      "Have only three floors!!. Select 1 or 2 or 3\n",
      "Thank you, Happy shoping\n"
     ]
    }
   ],
   "source": [
    "print \"Welcome to mobile store\\n\\t1.Android\\n\\t2.Mac\\n\\t3.windows\"\n",
    "flag = raw_input(\"Enter an option:\")\n",
    "print \"You are selected:\",flag\n",
    "if flag==\"1\":\n",
    "    print \"GOTO fist floor\"\n",
    "else:\n",
    "    print \"selcted other than 1\"\n",
    "if flag==\"2\":\n",
    "    print \"GOTO second floor\"\n",
    "else:\n",
    "    print \"selcted other than 2\"\n",
    "if flag==\"3\":\n",
    "    print \"GOTO third floor\"\n",
    "else:\n",
    "    print \"Have only three floors!!. Select 1 or 2 or 3\"\n",
    "print \"Thank you, Happy shoping\""
   ]
  },
  {
   "cell_type": "code",
   "execution_count": 25,
   "metadata": {},
   "outputs": [
    {
     "name": "stdout",
     "output_type": "stream",
     "text": [
      "Welcome to mobile store\n",
      "\t1.Android\n",
      "\t2.Mac\n",
      "\t3.windows\n",
      "Enter an option:\n",
      "You are selected: \n",
      "Have only three floors!!. Select 1 or 2 or 3\n",
      "Thank you, Happy shoping\n"
     ]
    }
   ],
   "source": [
    "print \"Welcome to mobile store\\n\\t1.Android\\n\\t2.Mac\\n\\t3.windows\"\n",
    "flag = raw_input(\"Enter an option:\")\n",
    "print \"You are selected:\",flag\n",
    "if flag==\"1\":\n",
    "    print \"GOTO fist floor\"\n",
    "if flag==\"2\":\n",
    "    print \"GOTO second floor\"\n",
    "if flag==\"3\":\n",
    "    print \"GOTO third floor\"\n",
    "else:\n",
    "    print \"Have only three floors!!. Select 1 or 2 or 3\"\n",
    "print \"Thank you, Happy shoping\""
   ]
  },
  {
   "cell_type": "code",
   "execution_count": null,
   "metadata": {
    "collapsed": true
   },
   "outputs": [],
   "source": []
  }
 ],
 "metadata": {
  "kernelspec": {
   "display_name": "Python 2",
   "language": "python",
   "name": "python2"
  },
  "language_info": {
   "codemirror_mode": {
    "name": "ipython",
    "version": 2
   },
   "file_extension": ".py",
   "mimetype": "text/x-python",
   "name": "python",
   "nbconvert_exporter": "python",
   "pygments_lexer": "ipython2",
   "version": "2.7.14"
  }
 },
 "nbformat": 4,
 "nbformat_minor": 2
}
