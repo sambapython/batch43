{
 "cells": [
  {
   "cell_type": "code",
   "execution_count": 1,
   "metadata": {},
   "outputs": [
    {
     "name": "stdout",
     "output_type": "stream",
     "text": [
      "Welcome to mobile store\n",
      "\t1.Android\n",
      "\t2.Mac\n",
      "\t3.windows\n",
      "Enter an option:1\n",
      "You are selected: 1\n",
      "GOTO fist floor\n",
      "Thank you, Happy shoping\n"
     ]
    }
   ],
   "source": [
    "print \"Welcome to mobile store\\n\\t1.Android\\n\\t2.Mac\\n\\t3.windows\"\n",
    "flag = raw_input(\"Enter an option:\")\n",
    "print \"You are selected:\",flag\n",
    "if flag==\"1\":\n",
    "    print \"GOTO fist floor\"\n",
    "elif flag==\"2\":\n",
    "    print \"GOTO second floor\"\n",
    "elif flag==\"3\":\n",
    "    print \"GOTO third floor\"\n",
    "else:\n",
    "    print \"Have only three floors!!. Select 1 or 2 or 3\"\n",
    "print \"Thank you, Happy shoping\""
   ]
  },
  {
   "cell_type": "code",
   "execution_count": 2,
   "metadata": {},
   "outputs": [
    {
     "name": "stdout",
     "output_type": "stream",
     "text": [
      "Welcome to mobile store\n",
      "\t1.Android\n",
      "\t2.Mac\n",
      "\t3.windows\n",
      "Enter an option:2\n",
      "You are selected: 2\n",
      "GOTO second floor\n",
      "Thank you, Happy shoping\n"
     ]
    }
   ],
   "source": [
    "print \"Welcome to mobile store\\n\\t1.Android\\n\\t2.Mac\\n\\t3.windows\"\n",
    "flag = raw_input(\"Enter an option:\")\n",
    "print \"You are selected:\",flag\n",
    "if flag==\"1\":\n",
    "    print \"GOTO fist floor\"\n",
    "elif flag==\"2\":\n",
    "    print \"GOTO second floor\"\n",
    "elif flag==\"3\":\n",
    "    print \"GOTO third floor\"\n",
    "else:\n",
    "    print \"Have only three floors!!. Select 1 or 2 or 3\"\n",
    "print \"Thank you, Happy shoping\""
   ]
  },
  {
   "cell_type": "code",
   "execution_count": 3,
   "metadata": {},
   "outputs": [
    {
     "name": "stdout",
     "output_type": "stream",
     "text": [
      "Welcome to mobile store\n",
      "\t1.Android\n",
      "\t2.Mac\n",
      "\t3.windows\n",
      "Enter an option:3\n",
      "You are selected: 3\n",
      "GOTO third floor\n",
      "Thank you, Happy shoping\n"
     ]
    }
   ],
   "source": [
    "print \"Welcome to mobile store\\n\\t1.Android\\n\\t2.Mac\\n\\t3.windows\"\n",
    "flag = raw_input(\"Enter an option:\")\n",
    "print \"You are selected:\",flag\n",
    "if flag==\"1\":\n",
    "    print \"GOTO fist floor\"\n",
    "elif flag==\"2\":\n",
    "    print \"GOTO second floor\"\n",
    "elif flag==\"3\":\n",
    "    print \"GOTO third floor\"\n",
    "else:\n",
    "    print \"Have only three floors!!. Select 1 or 2 or 3\"\n",
    "print \"Thank you, Happy shoping\""
   ]
  },
  {
   "cell_type": "code",
   "execution_count": 4,
   "metadata": {},
   "outputs": [
    {
     "name": "stdout",
     "output_type": "stream",
     "text": [
      "Welcome to mobile store\n",
      "\t1.Android\n",
      "\t2.Mac\n",
      "\t3.windows\n",
      "Enter an option:5\n",
      "You are selected: 5\n",
      "Have only three floors!!. Select 1 or 2 or 3\n",
      "Thank you, Happy shoping\n"
     ]
    }
   ],
   "source": [
    "print \"Welcome to mobile store\\n\\t1.Android\\n\\t2.Mac\\n\\t3.windows\"\n",
    "flag = raw_input(\"Enter an option:\")\n",
    "print \"You are selected:\",flag\n",
    "if flag==\"1\":\n",
    "    print \"GOTO fist floor\"\n",
    "elif flag==\"2\":\n",
    "    print \"GOTO second floor\"\n",
    "elif flag==\"3\":\n",
    "    print \"GOTO third floor\"\n",
    "else:\n",
    "    print \"Have only three floors!!. Select 1 or 2 or 3\"\n",
    "print \"Thank you, Happy shoping\""
   ]
  },
  {
   "cell_type": "code",
   "execution_count": 5,
   "metadata": {},
   "outputs": [
    {
     "name": "stdout",
     "output_type": "stream",
     "text": [
      "Welcome to mobile store\n",
      "\t1.Android\n",
      "\t2.Mac\n",
      "\t3.windows\n",
      "Enter an option:2\n",
      "You are selected: 2\n",
      "GOTO second floor\n",
      "you have selected other than 3\n",
      "Thank you, Happy shoping\n"
     ]
    }
   ],
   "source": [
    "print \"Welcome to mobile store\\n\\t1.Android\\n\\t2.Mac\\n\\t3.windows\"\n",
    "flag = raw_input(\"Enter an option:\")\n",
    "print \"You are selected:\",flag\n",
    "if flag==\"1\":\n",
    "    print \"GOTO fist floor\"\n",
    "elif flag==\"2\":\n",
    "    print \"GOTO second floor\"\n",
    "elif flag==\"3\":\n",
    "    print \"GOTO third floor\"\n",
    "else:\n",
    "    print \"Have only three floors!!. Select 1 or 2 or 3\"\n",
    "if flag==\"3\":\n",
    "    print \"Goto thrd flor\"\n",
    "else:\n",
    "    print \"you have selected other than 3\"\n",
    "print \"Thank you, Happy shoping\""
   ]
  },
  {
   "cell_type": "code",
   "execution_count": 6,
   "metadata": {},
   "outputs": [
    {
     "name": "stdout",
     "output_type": "stream",
     "text": [
      "Welcome to mobile store\n",
      "\t1.Android\n",
      "\t2.Mac\n",
      "\t3.windows\n",
      "Enter an option:3\n",
      "You are selected: 3\n",
      "GOTO third floor\n",
      "Goto thrd flor\n",
      "Thank you, Happy shoping\n"
     ]
    }
   ],
   "source": [
    "print \"Welcome to mobile store\\n\\t1.Android\\n\\t2.Mac\\n\\t3.windows\"\n",
    "flag = raw_input(\"Enter an option:\")\n",
    "print \"You are selected:\",flag\n",
    "if flag==\"1\":\n",
    "    print \"GOTO fist floor\"\n",
    "elif flag==\"2\":\n",
    "    print \"GOTO second floor\"\n",
    "elif flag==\"3\":\n",
    "    print \"GOTO third floor\"\n",
    "    \n",
    "if flag==\"3\":\n",
    "    print \"Goto thrd flor\"\n",
    "else:\n",
    "    print \"you have selected other than 3\"\n",
    "print \"Thank you, Happy shoping\""
   ]
  },
  {
   "cell_type": "code",
   "execution_count": 7,
   "metadata": {},
   "outputs": [
    {
     "name": "stdout",
     "output_type": "stream",
     "text": [
      "Welcome to mobile store\n",
      "\t1.Android\n",
      "\t2.Mac\n",
      "\t3.windows\n",
      "Enter an option:2\n",
      "You are selected: 2\n",
      "GOTO second floor\n",
      "Have only three floors!!. Select 1 or 2 or 3\n",
      "Thank you, Happy shoping\n"
     ]
    }
   ],
   "source": [
    "print \"Welcome to mobile store\\n\\t1.Android\\n\\t2.Mac\\n\\t3.windows\"\n",
    "flag = raw_input(\"Enter an option:\")\n",
    "print \"You are selected:\",flag\n",
    "if flag==\"1\":\n",
    "    print \"GOTO fist floor\"\n",
    "if flag==\"2\":\n",
    "    print \"GOTO second floor\"\n",
    "if flag==\"3\":\n",
    "    print \"GOTO third floor\"\n",
    "else:\n",
    "    print \"Have only three floors!!. Select 1 or 2 or 3\"\n",
    "print \"Thank you, Happy shoping\""
   ]
  },
  {
   "cell_type": "code",
   "execution_count": 8,
   "metadata": {},
   "outputs": [
    {
     "name": "stdout",
     "output_type": "stream",
     "text": [
      "Welcome to mobile store\n",
      "\t1.Android\n",
      "\t2.Mac\n",
      "\t3.windows\n",
      "Enter an option:1\n",
      "You are selected: 1\n",
      "GOTO fist floor\n",
      "Have only three floors!!. Select 1 or 2 or 3\n",
      "Thank you, Happy shoping\n"
     ]
    }
   ],
   "source": [
    "print \"Welcome to mobile store\\n\\t1.Android\\n\\t2.Mac\\n\\t3.windows\"\n",
    "flag = raw_input(\"Enter an option:\")\n",
    "print \"You are selected:\",flag\n",
    "if flag==\"1\":\n",
    "    print \"GOTO fist floor\"\n",
    "if flag==\"2\":\n",
    "    print \"GOTO second floor\"\n",
    "if flag==\"3\":\n",
    "    print \"GOTO third floor\"\n",
    "else:\n",
    "    print \"Have only three floors!!. Select 1 or 2 or 3\"\n",
    "print \"Thank you, Happy shoping\""
   ]
  },
  {
   "cell_type": "code",
   "execution_count": 9,
   "metadata": {},
   "outputs": [
    {
     "name": "stdout",
     "output_type": "stream",
     "text": [
      "Welcome to mobile store\n",
      "\t1.Android\n",
      "\t2.Mac\n",
      "\t3.windows\n",
      "Enter an option:6\n",
      "You are selected: 6\n",
      "Have only three floors!!. Select 1 or 2 or 3\n",
      "Thank you, Happy shoping\n"
     ]
    }
   ],
   "source": [
    "print \"Welcome to mobile store\\n\\t1.Android\\n\\t2.Mac\\n\\t3.windows\"\n",
    "flag = raw_input(\"Enter an option:\")\n",
    "print \"You are selected:\",flag\n",
    "if flag==\"1\":\n",
    "    print \"GOTO fist floor\"\n",
    "elif flag==\"2\":\n",
    "    print \"GOTO second floor\"\n",
    "elif flag==\"3\":\n",
    "    print \"GOTO third floor\"\n",
    "else:\n",
    "    print \"Have only three floors!!. Select 1 or 2 or 3\"\n",
    "print \"Thank you, Happy shoping\""
   ]
  },
  {
   "cell_type": "code",
   "execution_count": 10,
   "metadata": {},
   "outputs": [
    {
     "name": "stdout",
     "output_type": "stream",
     "text": [
      "program started\n",
      "this is if block\n",
      "other statements in program\n",
      "program ended\n"
     ]
    }
   ],
   "source": [
    "# while for->else ; break continue \n",
    "print \"program started\"\n",
    "a=0\n",
    "if a<10:\n",
    "    print \"this is if block\"\n",
    "else:\n",
    "    print \"this an else\"\n",
    "print \"other statements in program\"\n",
    "print \"program ended\""
   ]
  },
  {
   "cell_type": "code",
   "execution_count": 11,
   "metadata": {},
   "outputs": [
    {
     "name": "stdout",
     "output_type": "stream",
     "text": [
      "program started\n",
      "this is if block\n",
      "other statements in program\n",
      "program ended\n"
     ]
    }
   ],
   "source": [
    "# while for->else ; break continue \n",
    "print \"program started\"\n",
    "a=0\n",
    "if a<10:\n",
    "    print \"this is if block\"\n",
    "\n",
    "print \"other statements in program\"\n",
    "print \"program ended\""
   ]
  },
  {
   "cell_type": "code",
   "execution_count": null,
   "metadata": {
    "collapsed": true
   },
   "outputs": [],
   "source": [
    "# while for->else ; break continue \n",
    "print \"program started\"\n",
    "a=0\n",
    "while a<10:\n",
    "    print \"this is while block\"\n",
    "    \n",
    "\n",
    "print \"other statements in program\"\n",
    "print \"program ended\""
   ]
  },
  {
   "cell_type": "code",
   "execution_count": null,
   "metadata": {
    "collapsed": true
   },
   "outputs": [],
   "source": [
    "# while for->else ; break continue \n",
    "print \"program started\"\n",
    "a=0\n",
    "while a<10:\n",
    "    print \"iteration started\"\n",
    "    print \"a=\",a\n",
    "    print \"iterstion ended\"\n",
    "    \n",
    "print \"other statements in program\"\n",
    "print \"program ended\""
   ]
  }
 ],
 "metadata": {
  "kernelspec": {
   "display_name": "Python 2",
   "language": "python",
   "name": "python2"
  },
  "language_info": {
   "codemirror_mode": {
    "name": "ipython",
    "version": 2
   },
   "file_extension": ".py",
   "mimetype": "text/x-python",
   "name": "python",
   "nbconvert_exporter": "python",
   "pygments_lexer": "ipython2",
   "version": "2.7.14"
  }
 },
 "nbformat": 4,
 "nbformat_minor": 2
}
