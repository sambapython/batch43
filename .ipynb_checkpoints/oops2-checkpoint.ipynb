{
 "cells": [
  {
   "cell_type": "code",
   "execution_count": 1,
   "metadata": {
    "collapsed": true
   },
   "outputs": [],
   "source": [
    "class Emp:\n",
    "    def set_data(self, name, sal, address):\n",
    "        self.name=name\n",
    "        self.age=sal\n",
    "        self.address=address\n",
    "    def get_data(self):\n",
    "        return self.name, self.sal, self.address\n",
    "    def cal_sal(self):\n",
    "        self.u_sal = self.sal+self.sal*0.1\n",
    "p1=Emp()\n",
    "p1.set_data(\"person1\",1234,\"ad1\")\n",
    "p2=Emp()\n",
    "p2.set_data(\"person2\",1234,\"ad2\")\n",
    "p3=Emp()\n",
    "p3.set_data(\"person3\",1234,\"ad3\")"
   ]
  },
  {
   "cell_type": "code",
   "execution_count": 3,
   "metadata": {},
   "outputs": [
    {
     "name": "stdout",
     "output_type": "stream",
     "text": [
      "('person1', 1234, 'ad1')\n",
      "('person2', 1234, 'ad2')\n",
      "('person3', 1234, 'ad3')\n"
     ]
    }
   ],
   "source": [
    "class Emp:\n",
    "    def set_data(self, name, sal, address):\n",
    "        self.name=name\n",
    "        self.sal=sal\n",
    "        self.address=address\n",
    "        \n",
    "    def get_data(self):\n",
    "        return self.name, self.sal, self.address\n",
    "    def cal_sal(self):\n",
    "        self.u_sal = self.sal+self.sal*0.1\n",
    "p1=Emp()\n",
    "p1.set_data(\"person1\",1234,\"ad1\")\n",
    "p2=Emp()\n",
    "p2.set_data(\"person2\",1234,\"ad2\")\n",
    "p3=Emp()\n",
    "p3.set_data(\"person3\",1234,\"ad3\")\n",
    "print p1.get_data()\n",
    "print p2.get_data()\n",
    "print p3.get_data()"
   ]
  },
  {
   "cell_type": "code",
   "execution_count": 4,
   "metadata": {},
   "outputs": [
    {
     "name": "stdout",
     "output_type": "stream",
     "text": [
      "1357.4\n",
      "('person1', 1234, 'ad1')\n",
      "('person2', 1234, 'ad2')\n",
      "('person3', 1234, 'ad3')\n"
     ]
    }
   ],
   "source": [
    "class Emp:\n",
    "    def set_data(self, name, sal, address):\n",
    "        self.name=name\n",
    "        self.sal=sal\n",
    "        self.address=address\n",
    "        \n",
    "    def get_data(self):\n",
    "        return self.name, self.sal, self.address\n",
    "    def cal_sal(self):\n",
    "        self.u_sal = self.sal+self.sal*0.1\n",
    "p1=Emp()\n",
    "p1.set_data(\"person1\",1234,\"ad1\")\n",
    "p1.cal_sal()\n",
    "print p1.u_sal\n",
    "p2=Emp()\n",
    "p2.set_data(\"person2\",1234,\"ad2\")\n",
    "p3=Emp()\n",
    "p3.set_data(\"person3\",1234,\"ad3\")\n",
    "print p1.get_data()\n",
    "print p2.get_data()\n",
    "print p3.get_data()"
   ]
  },
  {
   "cell_type": "code",
   "execution_count": 5,
   "metadata": {},
   "outputs": [
    {
     "name": "stdout",
     "output_type": "stream",
     "text": [
      "1357.4\n",
      "('person1', 1234, 'ad1')\n",
      "('person2', 1234, 'ad2')\n",
      "('person3', 1234, 'ad3')\n"
     ]
    },
    {
     "ename": "AttributeError",
     "evalue": "Emp instance has no attribute 'u_sal'",
     "output_type": "error",
     "traceback": [
      "\u001b[0;31m---------------------------------------------------------------------------\u001b[0m",
      "\u001b[0;31mAttributeError\u001b[0m                            Traceback (most recent call last)",
      "\u001b[0;32m<ipython-input-5-4bc7b5102b5c>\u001b[0m in \u001b[0;36m<module>\u001b[0;34m()\u001b[0m\n\u001b[1;32m     20\u001b[0m \u001b[0;32mprint\u001b[0m \u001b[0mp2\u001b[0m\u001b[0;34m.\u001b[0m\u001b[0mget_data\u001b[0m\u001b[0;34m(\u001b[0m\u001b[0;34m)\u001b[0m\u001b[0;34m\u001b[0m\u001b[0m\n\u001b[1;32m     21\u001b[0m \u001b[0;32mprint\u001b[0m \u001b[0mp3\u001b[0m\u001b[0;34m.\u001b[0m\u001b[0mget_data\u001b[0m\u001b[0;34m(\u001b[0m\u001b[0;34m)\u001b[0m\u001b[0;34m\u001b[0m\u001b[0m\n\u001b[0;32m---> 22\u001b[0;31m \u001b[0;32mprint\u001b[0m \u001b[0mp3\u001b[0m\u001b[0;34m.\u001b[0m\u001b[0mu_sal\u001b[0m\u001b[0;34m\u001b[0m\u001b[0m\n\u001b[0m",
      "\u001b[0;31mAttributeError\u001b[0m: Emp instance has no attribute 'u_sal'"
     ]
    }
   ],
   "source": [
    "class Emp:\n",
    "    def set_data(self, name, sal, address):\n",
    "        self.name=name\n",
    "        self.sal=sal\n",
    "        self.address=address\n",
    "        \n",
    "    def get_data(self):\n",
    "        return self.name, self.sal, self.address\n",
    "    def cal_sal(self):\n",
    "        self.u_sal = self.sal+self.sal*0.1\n",
    "p1=Emp()\n",
    "p1.set_data(\"person1\",1234,\"ad1\")\n",
    "p1.cal_sal()\n",
    "print p1.u_sal\n",
    "p2=Emp()\n",
    "p2.set_data(\"person2\",1234,\"ad2\")\n",
    "p3=Emp()\n",
    "p3.set_data(\"person3\",1234,\"ad3\")\n",
    "print p1.get_data()\n",
    "print p2.get_data()\n",
    "print p3.get_data()\n",
    "print p3.u_sal"
   ]
  },
  {
   "cell_type": "code",
   "execution_count": 6,
   "metadata": {},
   "outputs": [
    {
     "name": "stdout",
     "output_type": "stream",
     "text": [
      "1357.4\n",
      "('person1', 1234, 'ad1')\n",
      "('person2', 1234, 'ad2')\n",
      "('person3', 1234, 'ad3')\n",
      "1357.4\n"
     ]
    }
   ],
   "source": [
    "class Emp:\n",
    "    def set_data(self, name, sal, address):\n",
    "        self.name=name\n",
    "        self.sal=sal\n",
    "        self.address=address\n",
    "        self.u_sal=self.cal_sal()\n",
    "    def get_data(self):\n",
    "        return self.name, self.sal, self.address\n",
    "    def cal_sal(self):\n",
    "        return self.sal+self.sal*0.1\n",
    "p1=Emp()\n",
    "p1.set_data(\"person1\",1234,\"ad1\")\n",
    "p1.cal_sal()\n",
    "print p1.u_sal\n",
    "p2=Emp()\n",
    "p2.set_data(\"person2\",1234,\"ad2\")\n",
    "p3=Emp()\n",
    "p3.set_data(\"person3\",1234,\"ad3\")\n",
    "print p1.get_data()\n",
    "print p2.get_data()\n",
    "print p3.get_data()\n",
    "print p3.u_sal"
   ]
  },
  {
   "cell_type": "code",
   "execution_count": 7,
   "metadata": {},
   "outputs": [
    {
     "name": "stdout",
     "output_type": "stream",
     "text": [
      "1357.4\n",
      "('person1', 1234, 'ad1')\n",
      "('person2', 1234, 'ad2')\n",
      "('person3', 1234, 'ad3')\n",
      "1357.4\n"
     ]
    }
   ],
   "source": [
    "class Emp:\n",
    "    def set_data(self, name, sal, address):\n",
    "        self.name=name\n",
    "        self.sal=sal\n",
    "        self.address=address\n",
    "        self.u_sal=self.cal_sal()\n",
    "    def get_data(self):\n",
    "        return self.name, self.sal, self.address\n",
    "    def cal_sal(self):\n",
    "        return self.sal+self.sal*0.1\n",
    "p1=Emp()\n",
    "p1.set_data(\"person1\",1234,\"ad1\")\n",
    "p1.cal_sal()\n",
    "print p1.u_sal\n",
    "p2=Emp()\n",
    "p2.set_data(\"person2\",1234,\"ad2\")\n",
    "p3=Emp()\n",
    "p3.set_data(\"person3\",1234,\"ad3\")\n",
    "print p1.get_data()\n",
    "print p2.get_data()\n",
    "print p3.get_data()\n",
    "print p3.u_sal\n",
    "p4=Emp()"
   ]
  },
  {
   "cell_type": "code",
   "execution_count": 8,
   "metadata": {},
   "outputs": [
    {
     "ename": "AttributeError",
     "evalue": "Emp instance has no attribute 'name'",
     "output_type": "error",
     "traceback": [
      "\u001b[0;31m---------------------------------------------------------------------------\u001b[0m",
      "\u001b[0;31mAttributeError\u001b[0m                            Traceback (most recent call last)",
      "\u001b[0;32m<ipython-input-8-d0b3973270cb>\u001b[0m in \u001b[0;36m<module>\u001b[0;34m()\u001b[0m\n\u001b[1;32m     10\u001b[0m         \u001b[0;32mreturn\u001b[0m \u001b[0mself\u001b[0m\u001b[0;34m.\u001b[0m\u001b[0msal\u001b[0m\u001b[0;34m+\u001b[0m\u001b[0mself\u001b[0m\u001b[0;34m.\u001b[0m\u001b[0msal\u001b[0m\u001b[0;34m*\u001b[0m\u001b[0;36m0.1\u001b[0m\u001b[0;34m\u001b[0m\u001b[0m\n\u001b[1;32m     11\u001b[0m \u001b[0mp1\u001b[0m\u001b[0;34m=\u001b[0m\u001b[0mEmp\u001b[0m\u001b[0;34m(\u001b[0m\u001b[0;34m)\u001b[0m\u001b[0;34m\u001b[0m\u001b[0m\n\u001b[0;32m---> 12\u001b[0;31m \u001b[0;32mprint\u001b[0m \u001b[0mp1\u001b[0m\u001b[0;34m.\u001b[0m\u001b[0mget_data\u001b[0m\u001b[0;34m(\u001b[0m\u001b[0;34m)\u001b[0m\u001b[0;34m\u001b[0m\u001b[0m\n\u001b[0m",
      "\u001b[0;32m<ipython-input-8-d0b3973270cb>\u001b[0m in \u001b[0;36mget_data\u001b[0;34m(self)\u001b[0m\n\u001b[1;32m      6\u001b[0m         \u001b[0mself\u001b[0m\u001b[0;34m.\u001b[0m\u001b[0mu_sal\u001b[0m\u001b[0;34m=\u001b[0m\u001b[0mself\u001b[0m\u001b[0;34m.\u001b[0m\u001b[0mcal_sal\u001b[0m\u001b[0;34m(\u001b[0m\u001b[0;34m)\u001b[0m\u001b[0;34m\u001b[0m\u001b[0m\n\u001b[1;32m      7\u001b[0m     \u001b[0;32mdef\u001b[0m \u001b[0mget_data\u001b[0m\u001b[0;34m(\u001b[0m\u001b[0mself\u001b[0m\u001b[0;34m)\u001b[0m\u001b[0;34m:\u001b[0m\u001b[0;34m\u001b[0m\u001b[0m\n\u001b[0;32m----> 8\u001b[0;31m         \u001b[0;32mreturn\u001b[0m \u001b[0mself\u001b[0m\u001b[0;34m.\u001b[0m\u001b[0mname\u001b[0m\u001b[0;34m,\u001b[0m \u001b[0mself\u001b[0m\u001b[0;34m.\u001b[0m\u001b[0msal\u001b[0m\u001b[0;34m,\u001b[0m \u001b[0mself\u001b[0m\u001b[0;34m.\u001b[0m\u001b[0maddress\u001b[0m\u001b[0;34m\u001b[0m\u001b[0m\n\u001b[0m\u001b[1;32m      9\u001b[0m     \u001b[0;32mdef\u001b[0m \u001b[0mcal_sal\u001b[0m\u001b[0;34m(\u001b[0m\u001b[0mself\u001b[0m\u001b[0;34m)\u001b[0m\u001b[0;34m:\u001b[0m\u001b[0;34m\u001b[0m\u001b[0m\n\u001b[1;32m     10\u001b[0m         \u001b[0;32mreturn\u001b[0m \u001b[0mself\u001b[0m\u001b[0;34m.\u001b[0m\u001b[0msal\u001b[0m\u001b[0;34m+\u001b[0m\u001b[0mself\u001b[0m\u001b[0;34m.\u001b[0m\u001b[0msal\u001b[0m\u001b[0;34m*\u001b[0m\u001b[0;36m0.1\u001b[0m\u001b[0;34m\u001b[0m\u001b[0m\n",
      "\u001b[0;31mAttributeError\u001b[0m: Emp instance has no attribute 'name'"
     ]
    }
   ],
   "source": [
    "class Emp:\n",
    "    def set_data(self, name, sal, address):\n",
    "        self.name=name\n",
    "        self.sal=sal\n",
    "        self.address=address\n",
    "        self.u_sal=self.cal_sal()\n",
    "    def get_data(self):\n",
    "        return self.name, self.sal, self.address\n",
    "    def cal_sal(self):\n",
    "        return self.sal+self.sal*0.1\n",
    "p1=Emp()\n",
    "print p1.get_data()"
   ]
  },
  {
   "cell_type": "code",
   "execution_count": 9,
   "metadata": {},
   "outputs": [
    {
     "name": "stdout",
     "output_type": "stream",
     "text": [
      "this is class\n"
     ]
    }
   ],
   "source": [
    "class Emp:\n",
    "    print \"this is class\"\n",
    "    company=\"KHYAATHI\"\n",
    "    def __init__(self):\n",
    "        print \"this is init\"\n",
    "    def get(self):\n",
    "        print \"this is get\"\n"
   ]
  },
  {
   "cell_type": "code",
   "execution_count": 10,
   "metadata": {},
   "outputs": [
    {
     "name": "stdout",
     "output_type": "stream",
     "text": [
      "this is class\n",
      "this is init\n"
     ]
    }
   ],
   "source": [
    "class Emp:\n",
    "    print \"this is class\"\n",
    "    company=\"KHYAATHI\"\n",
    "    def __init__(self):\n",
    "        print \"this is init\"\n",
    "    def get(self):\n",
    "        print \"this is get\"\n",
    "p1=Emp()"
   ]
  },
  {
   "cell_type": "code",
   "execution_count": 11,
   "metadata": {},
   "outputs": [
    {
     "name": "stdout",
     "output_type": "stream",
     "text": [
      "this is class\n",
      "this is init\n",
      "this is init\n",
      "this is init\n"
     ]
    }
   ],
   "source": [
    "class Emp:\n",
    "    print \"this is class\"\n",
    "    company=\"KHYAATHI\"\n",
    "    def __init__(self):\n",
    "        print \"this is init\"\n",
    "    def get(self):\n",
    "        print \"this is get\"\n",
    "p1=Emp()\n",
    "p2=Emp()\n",
    "p3=Emp()"
   ]
  },
  {
   "cell_type": "code",
   "execution_count": 12,
   "metadata": {},
   "outputs": [
    {
     "name": "stdout",
     "output_type": "stream",
     "text": [
      "this is class\n"
     ]
    },
    {
     "ename": "TypeError",
     "evalue": "__init__() takes exactly 4 arguments (1 given)",
     "output_type": "error",
     "traceback": [
      "\u001b[0;31m---------------------------------------------------------------------------\u001b[0m",
      "\u001b[0;31mTypeError\u001b[0m                                 Traceback (most recent call last)",
      "\u001b[0;32m<ipython-input-12-1be7b37bcda4>\u001b[0m in \u001b[0;36m<module>\u001b[0;34m()\u001b[0m\n\u001b[1;32m      6\u001b[0m     \u001b[0;32mdef\u001b[0m \u001b[0mget\u001b[0m\u001b[0;34m(\u001b[0m\u001b[0mself\u001b[0m\u001b[0;34m)\u001b[0m\u001b[0;34m:\u001b[0m\u001b[0;34m\u001b[0m\u001b[0m\n\u001b[1;32m      7\u001b[0m         \u001b[0;32mprint\u001b[0m \u001b[0;34m\"this is get\"\u001b[0m\u001b[0;34m\u001b[0m\u001b[0m\n\u001b[0;32m----> 8\u001b[0;31m \u001b[0mp1\u001b[0m\u001b[0;34m=\u001b[0m\u001b[0mEmp\u001b[0m\u001b[0;34m(\u001b[0m\u001b[0;34m)\u001b[0m\u001b[0;34m\u001b[0m\u001b[0m\n\u001b[0m\u001b[1;32m      9\u001b[0m \u001b[0mp2\u001b[0m\u001b[0;34m=\u001b[0m\u001b[0mEmp\u001b[0m\u001b[0;34m(\u001b[0m\u001b[0;34m)\u001b[0m\u001b[0;34m\u001b[0m\u001b[0m\n\u001b[1;32m     10\u001b[0m \u001b[0mp3\u001b[0m\u001b[0;34m=\u001b[0m\u001b[0mEmp\u001b[0m\u001b[0;34m(\u001b[0m\u001b[0;34m)\u001b[0m\u001b[0;34m\u001b[0m\u001b[0m\n",
      "\u001b[0;31mTypeError\u001b[0m: __init__() takes exactly 4 arguments (1 given)"
     ]
    }
   ],
   "source": [
    "class Emp:\n",
    "    print \"this is class\"\n",
    "    company=\"KHYAATHI\"\n",
    "    def __init__(self,name,address,sal):\n",
    "        print \"this is init\"\n",
    "    def get(self):\n",
    "        print \"this is get\"\n",
    "p1=Emp()\n",
    "p2=Emp()\n",
    "p3=Emp()"
   ]
  },
  {
   "cell_type": "code",
   "execution_count": 13,
   "metadata": {},
   "outputs": [
    {
     "name": "stdout",
     "output_type": "stream",
     "text": [
      "this is class\n",
      "this is init\n",
      "this is init\n",
      "this is init\n"
     ]
    }
   ],
   "source": [
    "class Emp:\n",
    "    print \"this is class\"\n",
    "    company=\"KHYAATHI\"\n",
    "    def __init__(self,name,address,sal):\n",
    "        print \"this is init\"\n",
    "    def get(self):\n",
    "        print \"this is get\"\n",
    "p1=Emp(\"p1\",\"ad1\",23456)\n",
    "p2=Emp(\"p2\",\"ad2\",23457)\n",
    "p3=Emp(\"p3\",\"ad3\",23458)"
   ]
  },
  {
   "cell_type": "code",
   "execution_count": 15,
   "metadata": {},
   "outputs": [
    {
     "name": "stdout",
     "output_type": "stream",
     "text": [
      "this is class\n",
      "this is init\n",
      "this is init\n",
      "this is init\n",
      "this is get\n",
      "('p1', 23456, 'ad1')\n"
     ]
    }
   ],
   "source": [
    "class Emp:\n",
    "    print \"this is class\"\n",
    "    company=\"KHYAATHI\"\n",
    "    def __init__(self,name,address,sal):\n",
    "        print \"this is init\"\n",
    "        self.name=name\n",
    "        self.address=address\n",
    "        self.sal=sal\n",
    "    def get(self):\n",
    "        print \"this is get\"\n",
    "        return self.name, self.sal,self.address\n",
    "p1=Emp(\"p1\",\"ad1\",23456)\n",
    "p2=Emp(\"p2\",\"ad2\",23457)\n",
    "p3=Emp(\"p3\",\"ad3\",23458)\n",
    "print p1.get()"
   ]
  },
  {
   "cell_type": "code",
   "execution_count": 16,
   "metadata": {},
   "outputs": [
    {
     "name": "stdout",
     "output_type": "stream",
     "text": [
      "this is class\n",
      "this is init\n",
      "this is init\n",
      "this is init\n",
      "this is get\n",
      "('p1', 23456, 'ad1')\n"
     ]
    }
   ],
   "source": [
    "# instance, classmethods, static methods\n",
    "class Emp:\n",
    "    print \"this is class\"\n",
    "    company=\"KHYAATHI\"\n",
    "    def __init__(self,name,address,sal):\n",
    "        print \"this is init\"\n",
    "        self.name=name\n",
    "        self.address=address\n",
    "        self.sal=sal\n",
    "        return None\n",
    "    def get(self):\n",
    "        print \"this is get\"\n",
    "        return self.name, self.sal,self.address\n",
    "p1=Emp(\"p1\",\"ad1\",23456)\n",
    "p2=Emp(\"p2\",\"ad2\",23457)\n",
    "p3=Emp(\"p3\",\"ad3\",23458)\n",
    "print p1.get()\n"
   ]
  },
  {
   "cell_type": "code",
   "execution_count": 17,
   "metadata": {},
   "outputs": [
    {
     "name": "stdout",
     "output_type": "stream",
     "text": [
      "this is class\n",
      "this is init\n"
     ]
    },
    {
     "ename": "TypeError",
     "evalue": "__init__() should return None",
     "output_type": "error",
     "traceback": [
      "\u001b[0;31m---------------------------------------------------------------------------\u001b[0m",
      "\u001b[0;31mTypeError\u001b[0m                                 Traceback (most recent call last)",
      "\u001b[0;32m<ipython-input-17-6b3479f56abb>\u001b[0m in \u001b[0;36m<module>\u001b[0;34m()\u001b[0m\n\u001b[1;32m     12\u001b[0m         \u001b[0;32mprint\u001b[0m \u001b[0;34m\"this is get\"\u001b[0m\u001b[0;34m\u001b[0m\u001b[0m\n\u001b[1;32m     13\u001b[0m         \u001b[0;32mreturn\u001b[0m \u001b[0mself\u001b[0m\u001b[0;34m.\u001b[0m\u001b[0mname\u001b[0m\u001b[0;34m,\u001b[0m \u001b[0mself\u001b[0m\u001b[0;34m.\u001b[0m\u001b[0msal\u001b[0m\u001b[0;34m,\u001b[0m\u001b[0mself\u001b[0m\u001b[0;34m.\u001b[0m\u001b[0maddress\u001b[0m\u001b[0;34m\u001b[0m\u001b[0m\n\u001b[0;32m---> 14\u001b[0;31m \u001b[0mp1\u001b[0m\u001b[0;34m=\u001b[0m\u001b[0mEmp\u001b[0m\u001b[0;34m(\u001b[0m\u001b[0;34m\"p1\"\u001b[0m\u001b[0;34m,\u001b[0m\u001b[0;34m\"ad1\"\u001b[0m\u001b[0;34m,\u001b[0m\u001b[0;36m23456\u001b[0m\u001b[0;34m)\u001b[0m\u001b[0;34m\u001b[0m\u001b[0m\n\u001b[0m\u001b[1;32m     15\u001b[0m \u001b[0mp2\u001b[0m\u001b[0;34m=\u001b[0m\u001b[0mEmp\u001b[0m\u001b[0;34m(\u001b[0m\u001b[0;34m\"p2\"\u001b[0m\u001b[0;34m,\u001b[0m\u001b[0;34m\"ad2\"\u001b[0m\u001b[0;34m,\u001b[0m\u001b[0;36m23457\u001b[0m\u001b[0;34m)\u001b[0m\u001b[0;34m\u001b[0m\u001b[0m\n\u001b[1;32m     16\u001b[0m \u001b[0mp3\u001b[0m\u001b[0;34m=\u001b[0m\u001b[0mEmp\u001b[0m\u001b[0;34m(\u001b[0m\u001b[0;34m\"p3\"\u001b[0m\u001b[0;34m,\u001b[0m\u001b[0;34m\"ad3\"\u001b[0m\u001b[0;34m,\u001b[0m\u001b[0;36m23458\u001b[0m\u001b[0;34m)\u001b[0m\u001b[0;34m\u001b[0m\u001b[0m\n",
      "\u001b[0;31mTypeError\u001b[0m: __init__() should return None"
     ]
    }
   ],
   "source": [
    "# instance, classmethods, static methods\n",
    "class Emp:\n",
    "    print \"this is class\"\n",
    "    company=\"KHYAATHI\"\n",
    "    def __init__(self,name,address,sal):\n",
    "        print \"this is init\"\n",
    "        self.name=name\n",
    "        self.address=address\n",
    "        self.sal=sal\n",
    "        return \"this is init\"\n",
    "    def get(self):\n",
    "        print \"this is get\"\n",
    "        return self.name, self.sal,self.address\n",
    "p1=Emp(\"p1\",\"ad1\",23456)\n",
    "p2=Emp(\"p2\",\"ad2\",23457)\n",
    "p3=Emp(\"p3\",\"ad3\",23458)\n",
    "print p1.get()\n"
   ]
  },
  {
   "cell_type": "code",
   "execution_count": 18,
   "metadata": {},
   "outputs": [
    {
     "name": "stdout",
     "output_type": "stream",
     "text": [
      "('p1', 'ad1', 23456)\n",
      "('p1', 'ad1', 23456)\n"
     ]
    }
   ],
   "source": [
    "class Emp:\n",
    "    company=\"KHYAATHI\"\n",
    "    def __init__(self,name,address,sal):\n",
    "        self.name=name\n",
    "        self.address=address\n",
    "        self.sal=sal\n",
    "    def get(self):\n",
    "        return self.name, self.address, self.sal\n",
    "    @classmethod\n",
    "    def clm(cls,a):\n",
    "        print \"this is class method\"\n",
    "    @staticmethod\n",
    "    def stam(a,b):\n",
    "        print \"this is static method\"\n",
    "p1=Emp(\"p1\",\"ad1\",23456)\n",
    "print Emp.get(p1)\n",
    "print p1.get()"
   ]
  },
  {
   "cell_type": "code",
   "execution_count": 19,
   "metadata": {},
   "outputs": [
    {
     "name": "stdout",
     "output_type": "stream",
     "text": [
      "('p1', 'ad1', 23456)\n",
      "('p1', 'ad1', 23456)\n"
     ]
    },
    {
     "ename": "TypeError",
     "evalue": "unbound method get() must be called with Emp instance as first argument (got nothing instead)",
     "output_type": "error",
     "traceback": [
      "\u001b[0;31m---------------------------------------------------------------------------\u001b[0m",
      "\u001b[0;31mTypeError\u001b[0m                                 Traceback (most recent call last)",
      "\u001b[0;32m<ipython-input-19-c5b117e5cf13>\u001b[0m in \u001b[0;36m<module>\u001b[0;34m()\u001b[0m\n\u001b[1;32m     16\u001b[0m \u001b[0;32mprint\u001b[0m \u001b[0mEmp\u001b[0m\u001b[0;34m.\u001b[0m\u001b[0mget\u001b[0m\u001b[0;34m(\u001b[0m\u001b[0mp1\u001b[0m\u001b[0;34m)\u001b[0m\u001b[0;34m\u001b[0m\u001b[0m\n\u001b[1;32m     17\u001b[0m \u001b[0;32mprint\u001b[0m \u001b[0mp1\u001b[0m\u001b[0;34m.\u001b[0m\u001b[0mget\u001b[0m\u001b[0;34m(\u001b[0m\u001b[0;34m)\u001b[0m\u001b[0;34m\u001b[0m\u001b[0m\n\u001b[0;32m---> 18\u001b[0;31m \u001b[0;32mprint\u001b[0m \u001b[0mEmp\u001b[0m\u001b[0;34m.\u001b[0m\u001b[0mget\u001b[0m\u001b[0;34m(\u001b[0m\u001b[0;34m)\u001b[0m\u001b[0;34m\u001b[0m\u001b[0m\n\u001b[0m",
      "\u001b[0;31mTypeError\u001b[0m: unbound method get() must be called with Emp instance as first argument (got nothing instead)"
     ]
    }
   ],
   "source": [
    "class Emp:\n",
    "    company=\"KHYAATHI\"\n",
    "    def __init__(self,name,address,sal):\n",
    "        self.name=name\n",
    "        self.address=address\n",
    "        self.sal=sal\n",
    "    def get(self):\n",
    "        return self.name, self.address, self.sal\n",
    "    @classmethod\n",
    "    def clm(cls,a):\n",
    "        print \"this is class method\"\n",
    "    @staticmethod\n",
    "    def stam(a,b):\n",
    "        print \"this is static method\"\n",
    "p1=Emp(\"p1\",\"ad1\",23456)\n",
    "print Emp.get(p1)\n",
    "print p1.get()\n",
    "print Emp.get()"
   ]
  },
  {
   "cell_type": "code",
   "execution_count": 20,
   "metadata": {},
   "outputs": [
    {
     "name": "stdout",
     "output_type": "stream",
     "text": [
      "p1= <__main__.Emp instance at 0x7ffb843a49e0>\n",
      "id(p1)= 140718231931360\n",
      "Emp= __main__.Emp\n",
      "id(Emp)= 140718231897288\n",
      "self= <__main__.Emp instance at 0x7ffb843a49e0>\n",
      "id(self)= 140718231931360\n",
      "('p1', 'ad1', 23456)\n",
      "self= <__main__.Emp instance at 0x7ffb843a49e0>\n",
      "id(self)= 140718231931360\n",
      "('p1', 'ad1', 23456)\n",
      "this is class method\n",
      "this is class method\n",
      "cls= __main__.Emp\n",
      "id(cls)= 140718231897288\n",
      "a= 20\n",
      "End classmethod\n",
      "this is class method\n",
      "this is class method\n",
      "cls= __main__.Emp\n",
      "id(cls)= 140718231897288\n",
      "a= 20\n",
      "End classmethod\n",
      "this is static method\n",
      "a=10, b=20\n",
      "End static method\n",
      "this is static method\n",
      "a=100, b=200\n",
      "End static method\n"
     ]
    }
   ],
   "source": [
    "class Emp:\n",
    "    company=\"KHYAATHI\"\n",
    "    def __init__(self,name,address,sal):\n",
    "        self.name=name\n",
    "        self.address=address\n",
    "        self.sal=sal\n",
    "        \n",
    "    def inst(self):\n",
    "        print \"this is instance method\"\n",
    "        \n",
    "    def get(self):\n",
    "        print \"self=\",self\n",
    "        print \"id(self)=\",id(self)\n",
    "        return self.name, self.address, self.sal\n",
    "    \n",
    "    @classmethod\n",
    "    def classmethod_dup(cls):\n",
    "        print \"this is class method\"\n",
    "    @classmethod\n",
    "    def clm(cls,a):\n",
    "        cls.classmethod_dup()\n",
    "        print \"this is class method\"\n",
    "        print \"cls=\",cls\n",
    "        print \"id(cls)=\",id(cls)\n",
    "        print \"a=\",a\n",
    "        print \"End classmethod\"\n",
    "        \n",
    "    @staticmethod\n",
    "    def stam(a,b):\n",
    "        print \"this is static method\"\n",
    "        print \"a=%s, b=%s\"%(a,b)\n",
    "        print \"End static method\"\n",
    "p1=Emp(\"p1\",\"ad1\",23456)\n",
    "print \"p1=\",p1\n",
    "print \"id(p1)=\",id(p1)\n",
    "print \"Emp=\",Emp\n",
    "print \"id(Emp)=\",id(Emp)\n",
    "print Emp.get(p1)\n",
    "print p1.get()\n",
    "#print Emp.get()\n",
    "Emp.clm(20)\n",
    "p1.clm(20)\n",
    "Emp.stam(10,20)\n",
    "p1.stam(100,200)"
   ]
  },
  {
   "cell_type": "code",
   "execution_count": 21,
   "metadata": {},
   "outputs": [
    {
     "name": "stdout",
     "output_type": "stream",
     "text": [
      "p1= <__main__.Emp instance at 0x7ffb843a4e60>\n",
      "id(p1)= 140718231932512\n",
      "Emp= __main__.Emp\n",
      "id(Emp)= 140718231897808\n",
      "self= <__main__.Emp instance at 0x7ffb843a4e60>\n",
      "id(self)= 140718231932512\n",
      "('p1', 'ad1', 23456, 'KHYAATHI')\n",
      "self= <__main__.Emp instance at 0x7ffb843a4e60>\n",
      "id(self)= 140718231932512\n",
      "('p1', 'ad1', 23456, 'KHYAATHI')\n",
      "this is class method\n",
      "this is class method\n",
      "cls= __main__.Emp\n",
      "id(cls)= 140718231897808\n",
      "a= 20\n",
      "End classmethod\n",
      "this is class method\n",
      "this is class method\n",
      "cls= __main__.Emp\n",
      "id(cls)= 140718231897808\n",
      "a= 20\n",
      "End classmethod\n",
      "this is static method\n",
      "a=10, b=20\n",
      "End static method\n",
      "this is static method\n",
      "a=100, b=200\n",
      "End static method\n"
     ]
    }
   ],
   "source": [
    "class Emp:\n",
    "    company=\"KHYAATHI\"\n",
    "    def __init__(self,name,address,sal):\n",
    "        self.name=name\n",
    "        self.address=address\n",
    "        self.sal=sal\n",
    "        \n",
    "    def inst(self):\n",
    "        print \"this is instance method\"\n",
    "        \n",
    "    def get(self):\n",
    "        print \"self=\",self\n",
    "        print \"id(self)=\",id(self)\n",
    "        return self.name, self.address, self.sal,self.company\n",
    "    \n",
    "    @classmethod\n",
    "    def classmethod_dup(cls):\n",
    "        print \"this is class method\"\n",
    "    @classmethod\n",
    "    def clm(cls,a):\n",
    "        cls.classmethod_dup()\n",
    "        print \"this is class method\"\n",
    "        print \"cls=\",cls\n",
    "        print \"id(cls)=\",id(cls)\n",
    "        print \"a=\",a\n",
    "        print \"End classmethod\"\n",
    "        \n",
    "    @staticmethod\n",
    "    def stam(a,b):\n",
    "        print \"this is static method\"\n",
    "        print \"a=%s, b=%s\"%(a,b)\n",
    "        print \"End static method\"\n",
    "p1=Emp(\"p1\",\"ad1\",23456)\n",
    "print \"p1=\",p1\n",
    "print \"id(p1)=\",id(p1)\n",
    "print \"Emp=\",Emp\n",
    "print \"id(Emp)=\",id(Emp)\n",
    "print Emp.get(p1)\n",
    "print p1.get()\n",
    "#print Emp.get()\n",
    "Emp.clm(20)\n",
    "p1.clm(20)\n",
    "Emp.stam(10,20)\n",
    "p1.stam(100,200)"
   ]
  },
  {
   "cell_type": "code",
   "execution_count": 22,
   "metadata": {},
   "outputs": [
    {
     "name": "stdout",
     "output_type": "stream",
     "text": [
      "p1= <__main__.Emp instance at 0x7ffb843a8170>\n",
      "id(p1)= 140718231945584\n",
      "Emp= __main__.Emp\n",
      "id(Emp)= 140718231897912\n",
      "self= <__main__.Emp instance at 0x7ffb843a8170>\n",
      "id(self)= 140718231945584\n",
      "('p1', 'ad1', 23456, 'KHYAATHI')\n",
      "self= <__main__.Emp instance at 0x7ffb843a8170>\n",
      "id(self)= 140718231945584\n",
      "('p1', 'ad1', 23456, 'KHYAATHI')\n",
      "this is class method\n",
      "this is class method\n",
      "cls= __main__.Emp\n",
      "id(cls)= 140718231897912\n",
      "a= 20\n",
      "End classmethod\n",
      "this is class method\n",
      "this is class method\n",
      "cls= __main__.Emp\n",
      "id(cls)= 140718231897912\n",
      "a= 20\n",
      "End classmethod\n",
      "this is static method\n",
      "a=10, b=20\n",
      "End static method\n",
      "this is static method\n",
      "a=100, b=200\n",
      "End static method\n",
      "KHYAATHI\n"
     ]
    },
    {
     "ename": "AttributeError",
     "evalue": "class Emp has no attribute 'name'",
     "output_type": "error",
     "traceback": [
      "\u001b[0;31m---------------------------------------------------------------------------\u001b[0m",
      "\u001b[0;31mAttributeError\u001b[0m                            Traceback (most recent call last)",
      "\u001b[0;32m<ipython-input-22-ed85b76bed80>\u001b[0m in \u001b[0;36m<module>\u001b[0;34m()\u001b[0m\n\u001b[1;32m     44\u001b[0m \u001b[0mp1\u001b[0m\u001b[0;34m.\u001b[0m\u001b[0mstam\u001b[0m\u001b[0;34m(\u001b[0m\u001b[0;36m100\u001b[0m\u001b[0;34m,\u001b[0m\u001b[0;36m200\u001b[0m\u001b[0;34m)\u001b[0m\u001b[0;34m\u001b[0m\u001b[0m\n\u001b[1;32m     45\u001b[0m \u001b[0;32mprint\u001b[0m \u001b[0mEmp\u001b[0m\u001b[0;34m.\u001b[0m\u001b[0mcompany\u001b[0m\u001b[0;34m\u001b[0m\u001b[0m\n\u001b[0;32m---> 46\u001b[0;31m \u001b[0;32mprint\u001b[0m \u001b[0mEmp\u001b[0m\u001b[0;34m.\u001b[0m\u001b[0mname\u001b[0m\u001b[0;34m\u001b[0m\u001b[0m\n\u001b[0m",
      "\u001b[0;31mAttributeError\u001b[0m: class Emp has no attribute 'name'"
     ]
    }
   ],
   "source": [
    "class Emp:\n",
    "    company=\"KHYAATHI\"\n",
    "    def __init__(self,name,address,sal):\n",
    "        self.name=name\n",
    "        self.address=address\n",
    "        self.sal=sal\n",
    "        \n",
    "    def inst(self):\n",
    "        print \"this is instance method\"\n",
    "        \n",
    "    def get(self):\n",
    "        print \"self=\",self\n",
    "        print \"id(self)=\",id(self)\n",
    "        return self.name, self.address, self.sal,self.company\n",
    "    \n",
    "    @classmethod\n",
    "    def classmethod_dup(cls):\n",
    "        print \"this is class method\"\n",
    "    @classmethod\n",
    "    def clm(cls,a):\n",
    "        cls.classmethod_dup()\n",
    "        print \"this is class method\"\n",
    "        print \"cls=\",cls\n",
    "        print \"id(cls)=\",id(cls)\n",
    "        print \"a=\",a\n",
    "        print \"End classmethod\"\n",
    "        \n",
    "    @staticmethod\n",
    "    def stam(a,b):\n",
    "        print \"this is static method\"\n",
    "        print \"a=%s, b=%s\"%(a,b)\n",
    "        print \"End static method\"\n",
    "p1=Emp(\"p1\",\"ad1\",23456)\n",
    "print \"p1=\",p1\n",
    "print \"id(p1)=\",id(p1)\n",
    "print \"Emp=\",Emp\n",
    "print \"id(Emp)=\",id(Emp)\n",
    "print Emp.get(p1)\n",
    "print p1.get()\n",
    "#print Emp.get()\n",
    "Emp.clm(20)\n",
    "p1.clm(20)\n",
    "Emp.stam(10,20)\n",
    "p1.stam(100,200)\n",
    "print Emp.company\n",
    "print Emp.name"
   ]
  },
  {
   "cell_type": "code",
   "execution_count": 23,
   "metadata": {},
   "outputs": [
    {
     "name": "stdout",
     "output_type": "stream",
     "text": [
      "p1= <__main__.Emp instance at 0x7ffb843a8ef0>\n",
      "id(p1)= 140718231949040\n",
      "Emp= __main__.Emp\n",
      "id(Emp)= 140718232759632\n",
      "self= <__main__.Emp instance at 0x7ffb843a8ef0>\n",
      "id(self)= 140718231949040\n",
      "('p1', 'ad1', 23456, 'KHYAATHI')\n",
      "self= <__main__.Emp instance at 0x7ffb843a8ef0>\n",
      "id(self)= 140718231949040\n",
      "('p1', 'ad1', 23456, 'KHYAATHI')\n",
      "this is class method\n",
      "this is class method\n",
      "cls= __main__.Emp\n",
      "id(cls)= 140718232759632\n",
      "a= 20\n",
      "End classmethod\n",
      "this is class method\n",
      "this is class method\n",
      "cls= __main__.Emp\n",
      "id(cls)= 140718232759632\n",
      "a= 20\n",
      "End classmethod\n",
      "this is static method\n",
      "a=10, b=20\n",
      "End static method\n",
      "this is static method\n",
      "a=100, b=200\n",
      "End static method\n",
      "KHYAATHI\n",
      "KHYAATHI\n"
     ]
    }
   ],
   "source": [
    "class Emp:\n",
    "    company=\"KHYAATHI\"\n",
    "    def __init__(self,name,address,sal):\n",
    "        self.name=name\n",
    "        self.address=address\n",
    "        self.sal=sal\n",
    "        \n",
    "    def inst(self):\n",
    "        print \"this is instance method\"\n",
    "        \n",
    "    def get(self):\n",
    "        print \"self=\",self\n",
    "        print \"id(self)=\",id(self)\n",
    "        return self.name, self.address, self.sal,self.company\n",
    "    \n",
    "    @classmethod\n",
    "    def classmethod_dup(cls):\n",
    "        print \"this is class method\"\n",
    "    @classmethod\n",
    "    def clm(cls,a):\n",
    "        cls.classmethod_dup()\n",
    "        print \"this is class method\"\n",
    "        print \"cls=\",cls\n",
    "        print \"id(cls)=\",id(cls)\n",
    "        print \"a=\",a\n",
    "        print \"End classmethod\"\n",
    "        \n",
    "    @staticmethod\n",
    "    def stam(a,b):\n",
    "        print \"this is static method\"\n",
    "        print \"a=%s, b=%s\"%(a,b)\n",
    "        print \"End static method\"\n",
    "p1=Emp(\"p1\",\"ad1\",23456)\n",
    "print \"p1=\",p1\n",
    "print \"id(p1)=\",id(p1)\n",
    "print \"Emp=\",Emp\n",
    "print \"id(Emp)=\",id(Emp)\n",
    "print Emp.get(p1)\n",
    "print p1.get()\n",
    "#print Emp.get()\n",
    "Emp.clm(20)\n",
    "p1.clm(20)\n",
    "Emp.stam(10,20)\n",
    "p1.stam(100,200)\n",
    "print Emp.company\n",
    "#print Emp.name\n",
    "print p1.company"
   ]
  },
  {
   "cell_type": "code",
   "execution_count": 24,
   "metadata": {},
   "outputs": [
    {
     "name": "stdout",
     "output_type": "stream",
     "text": [
      "p1= <__main__.Emp instance at 0x7ffb843b6248>\n",
      "id(p1)= 140718232003144\n",
      "Emp= __main__.Emp\n",
      "id(Emp)= 140718231899784\n",
      "self= <__main__.Emp instance at 0x7ffb843b6248>\n",
      "id(self)= 140718232003144\n",
      "('p1', 'ad1', 23456, 'KHYAATHI')\n",
      "self= <__main__.Emp instance at 0x7ffb843b6248>\n",
      "id(self)= 140718232003144\n",
      "('p1', 'ad1', 23456, 'KHYAATHI')\n",
      "this is class method\n"
     ]
    },
    {
     "ename": "AttributeError",
     "evalue": "class Emp has no attribute 'name'",
     "output_type": "error",
     "traceback": [
      "\u001b[0;31m---------------------------------------------------------------------------\u001b[0m",
      "\u001b[0;31mAttributeError\u001b[0m                            Traceback (most recent call last)",
      "\u001b[0;32m<ipython-input-24-fcf329020adb>\u001b[0m in \u001b[0;36m<module>\u001b[0;34m()\u001b[0m\n\u001b[1;32m     40\u001b[0m \u001b[0;32mprint\u001b[0m \u001b[0mp1\u001b[0m\u001b[0;34m.\u001b[0m\u001b[0mget\u001b[0m\u001b[0;34m(\u001b[0m\u001b[0;34m)\u001b[0m\u001b[0;34m\u001b[0m\u001b[0m\n\u001b[1;32m     41\u001b[0m \u001b[0;31m#print Emp.get()\u001b[0m\u001b[0;34m\u001b[0m\u001b[0;34m\u001b[0m\u001b[0m\n\u001b[0;32m---> 42\u001b[0;31m \u001b[0mEmp\u001b[0m\u001b[0;34m.\u001b[0m\u001b[0mclm\u001b[0m\u001b[0;34m(\u001b[0m\u001b[0;36m20\u001b[0m\u001b[0;34m)\u001b[0m\u001b[0;34m\u001b[0m\u001b[0m\n\u001b[0m\u001b[1;32m     43\u001b[0m \u001b[0mp1\u001b[0m\u001b[0;34m.\u001b[0m\u001b[0mclm\u001b[0m\u001b[0;34m(\u001b[0m\u001b[0;36m20\u001b[0m\u001b[0;34m)\u001b[0m\u001b[0;34m\u001b[0m\u001b[0m\n\u001b[1;32m     44\u001b[0m \u001b[0mEmp\u001b[0m\u001b[0;34m.\u001b[0m\u001b[0mstam\u001b[0m\u001b[0;34m(\u001b[0m\u001b[0;36m10\u001b[0m\u001b[0;34m,\u001b[0m\u001b[0;36m20\u001b[0m\u001b[0;34m)\u001b[0m\u001b[0;34m\u001b[0m\u001b[0m\n",
      "\u001b[0;32m<ipython-input-24-fcf329020adb>\u001b[0m in \u001b[0;36mclm\u001b[0;34m(cls, a)\u001b[0m\n\u001b[1;32m     20\u001b[0m     \u001b[0;32mdef\u001b[0m \u001b[0mclm\u001b[0m\u001b[0;34m(\u001b[0m\u001b[0mcls\u001b[0m\u001b[0;34m,\u001b[0m\u001b[0ma\u001b[0m\u001b[0;34m)\u001b[0m\u001b[0;34m:\u001b[0m\u001b[0;34m\u001b[0m\u001b[0m\n\u001b[1;32m     21\u001b[0m         \u001b[0mcls\u001b[0m\u001b[0;34m.\u001b[0m\u001b[0mclassmethod_dup\u001b[0m\u001b[0;34m(\u001b[0m\u001b[0;34m)\u001b[0m\u001b[0;34m\u001b[0m\u001b[0m\n\u001b[0;32m---> 22\u001b[0;31m         \u001b[0;32mprint\u001b[0m \u001b[0mcls\u001b[0m\u001b[0;34m.\u001b[0m\u001b[0mname\u001b[0m\u001b[0;34m\u001b[0m\u001b[0m\n\u001b[0m\u001b[1;32m     23\u001b[0m         \u001b[0;32mprint\u001b[0m \u001b[0;34m\"this is class method\"\u001b[0m\u001b[0;34m\u001b[0m\u001b[0m\n\u001b[1;32m     24\u001b[0m         \u001b[0;32mprint\u001b[0m \u001b[0;34m\"cls=\"\u001b[0m\u001b[0;34m,\u001b[0m\u001b[0mcls\u001b[0m\u001b[0;34m\u001b[0m\u001b[0m\n",
      "\u001b[0;31mAttributeError\u001b[0m: class Emp has no attribute 'name'"
     ]
    }
   ],
   "source": [
    "class Emp:\n",
    "    company=\"KHYAATHI\"\n",
    "    def __init__(self,name,address,sal):\n",
    "        self.name=name\n",
    "        self.address=address\n",
    "        self.sal=sal\n",
    "        \n",
    "    def inst(self):\n",
    "        print \"this is instance method\"\n",
    "        \n",
    "    def get(self):\n",
    "        print \"self=\",self\n",
    "        print \"id(self)=\",id(self)\n",
    "        return self.name, self.address, self.sal,self.company\n",
    "    \n",
    "    @classmethod\n",
    "    def classmethod_dup(cls):\n",
    "        print \"this is class method\"\n",
    "    @classmethod\n",
    "    def clm(cls,a):\n",
    "        cls.classmethod_dup()\n",
    "        print cls.name\n",
    "        print \"this is class method\"\n",
    "        print \"cls=\",cls\n",
    "        print \"id(cls)=\",id(cls)\n",
    "        print \"a=\",a\n",
    "        print \"End classmethod\"\n",
    "        \n",
    "    @staticmethod\n",
    "    def stam(a,b):\n",
    "        print \"this is static method\"\n",
    "        print \"a=%s, b=%s\"%(a,b)\n",
    "        print \"End static method\"\n",
    "p1=Emp(\"p1\",\"ad1\",23456)\n",
    "print \"p1=\",p1\n",
    "print \"id(p1)=\",id(p1)\n",
    "print \"Emp=\",Emp\n",
    "print \"id(Emp)=\",id(Emp)\n",
    "print Emp.get(p1)\n",
    "print p1.get()\n",
    "#print Emp.get()\n",
    "Emp.clm(20)\n",
    "p1.clm(20)\n",
    "Emp.stam(10,20)\n",
    "p1.stam(100,200)\n",
    "print Emp.company\n",
    "#print Emp.name\n",
    "print p1.company"
   ]
  },
  {
   "cell_type": "code",
   "execution_count": 25,
   "metadata": {},
   "outputs": [
    {
     "name": "stdout",
     "output_type": "stream",
     "text": [
      "p1= <__main__.Emp instance at 0x7ffb843b6638>\n",
      "id(p1)= 140718232004152\n",
      "Emp= __main__.Emp\n",
      "id(Emp)= 140718231899680\n",
      "self= <__main__.Emp instance at 0x7ffb843b6638>\n",
      "id(self)= 140718232004152\n",
      "('p1', 'ad1', 23456, 'KHYAATHI')\n",
      "self= <__main__.Emp instance at 0x7ffb843b6638>\n",
      "id(self)= 140718232004152\n",
      "('p1', 'ad1', 23456, 'KHYAATHI')\n",
      "this is class method\n"
     ]
    },
    {
     "ename": "TypeError",
     "evalue": "unbound method get() must be called with Emp instance as first argument (got nothing instead)",
     "output_type": "error",
     "traceback": [
      "\u001b[0;31m---------------------------------------------------------------------------\u001b[0m",
      "\u001b[0;31mTypeError\u001b[0m                                 Traceback (most recent call last)",
      "\u001b[0;32m<ipython-input-25-f8276587e25d>\u001b[0m in \u001b[0;36m<module>\u001b[0;34m()\u001b[0m\n\u001b[1;32m     41\u001b[0m \u001b[0;32mprint\u001b[0m \u001b[0mp1\u001b[0m\u001b[0;34m.\u001b[0m\u001b[0mget\u001b[0m\u001b[0;34m(\u001b[0m\u001b[0;34m)\u001b[0m\u001b[0;34m\u001b[0m\u001b[0m\n\u001b[1;32m     42\u001b[0m \u001b[0;31m#print Emp.get()\u001b[0m\u001b[0;34m\u001b[0m\u001b[0;34m\u001b[0m\u001b[0m\n\u001b[0;32m---> 43\u001b[0;31m \u001b[0mEmp\u001b[0m\u001b[0;34m.\u001b[0m\u001b[0mclm\u001b[0m\u001b[0;34m(\u001b[0m\u001b[0;36m20\u001b[0m\u001b[0;34m)\u001b[0m\u001b[0;34m\u001b[0m\u001b[0m\n\u001b[0m\u001b[1;32m     44\u001b[0m \u001b[0mp1\u001b[0m\u001b[0;34m.\u001b[0m\u001b[0mclm\u001b[0m\u001b[0;34m(\u001b[0m\u001b[0;36m20\u001b[0m\u001b[0;34m)\u001b[0m\u001b[0;34m\u001b[0m\u001b[0m\n\u001b[1;32m     45\u001b[0m \u001b[0mEmp\u001b[0m\u001b[0;34m.\u001b[0m\u001b[0mstam\u001b[0m\u001b[0;34m(\u001b[0m\u001b[0;36m10\u001b[0m\u001b[0;34m,\u001b[0m\u001b[0;36m20\u001b[0m\u001b[0;34m)\u001b[0m\u001b[0;34m\u001b[0m\u001b[0m\n",
      "\u001b[0;32m<ipython-input-25-f8276587e25d>\u001b[0m in \u001b[0;36mclm\u001b[0;34m(cls, a)\u001b[0m\n\u001b[1;32m     21\u001b[0m         \u001b[0mcls\u001b[0m\u001b[0;34m.\u001b[0m\u001b[0mclassmethod_dup\u001b[0m\u001b[0;34m(\u001b[0m\u001b[0;34m)\u001b[0m\u001b[0;34m\u001b[0m\u001b[0m\n\u001b[1;32m     22\u001b[0m         \u001b[0;31m#print cls.name\u001b[0m\u001b[0;34m\u001b[0m\u001b[0;34m\u001b[0m\u001b[0m\n\u001b[0;32m---> 23\u001b[0;31m         \u001b[0;32mprint\u001b[0m \u001b[0mcls\u001b[0m\u001b[0;34m.\u001b[0m\u001b[0mget\u001b[0m\u001b[0;34m(\u001b[0m\u001b[0;34m)\u001b[0m\u001b[0;34m\u001b[0m\u001b[0m\n\u001b[0m\u001b[1;32m     24\u001b[0m         \u001b[0;32mprint\u001b[0m \u001b[0;34m\"this is class method\"\u001b[0m\u001b[0;34m\u001b[0m\u001b[0m\n\u001b[1;32m     25\u001b[0m         \u001b[0;32mprint\u001b[0m \u001b[0;34m\"cls=\"\u001b[0m\u001b[0;34m,\u001b[0m\u001b[0mcls\u001b[0m\u001b[0;34m\u001b[0m\u001b[0m\n",
      "\u001b[0;31mTypeError\u001b[0m: unbound method get() must be called with Emp instance as first argument (got nothing instead)"
     ]
    }
   ],
   "source": [
    "class Emp:\n",
    "    company=\"KHYAATHI\"\n",
    "    def __init__(self,name,address,sal):\n",
    "        self.name=name\n",
    "        self.address=address\n",
    "        self.sal=sal\n",
    "        \n",
    "    def inst(self):\n",
    "        print \"this is instance method\"\n",
    "        \n",
    "    def get(self):\n",
    "        print \"self=\",self\n",
    "        print \"id(self)=\",id(self)\n",
    "        return self.name, self.address, self.sal,self.company\n",
    "    \n",
    "    @classmethod\n",
    "    def classmethod_dup(cls):\n",
    "        print \"this is class method\"\n",
    "    @classmethod\n",
    "    def clm(cls,a):\n",
    "        cls.classmethod_dup()\n",
    "        #print cls.name\n",
    "        print cls.get()\n",
    "        print \"this is class method\"\n",
    "        print \"cls=\",cls\n",
    "        print \"id(cls)=\",id(cls)\n",
    "        print \"a=\",a\n",
    "        print \"End classmethod\"\n",
    "        \n",
    "    @staticmethod\n",
    "    def stam(a,b):\n",
    "        print \"this is static method\"\n",
    "        print \"a=%s, b=%s\"%(a,b)\n",
    "        print \"End static method\"\n",
    "p1=Emp(\"p1\",\"ad1\",23456)\n",
    "print \"p1=\",p1\n",
    "print \"id(p1)=\",id(p1)\n",
    "print \"Emp=\",Emp\n",
    "print \"id(Emp)=\",id(Emp)\n",
    "print Emp.get(p1)\n",
    "print p1.get()\n",
    "#print Emp.get()\n",
    "Emp.clm(20)\n",
    "p1.clm(20)\n",
    "Emp.stam(10,20)\n",
    "p1.stam(100,200)\n",
    "print Emp.company\n",
    "#print Emp.name\n",
    "print p1.company"
   ]
  },
  {
   "cell_type": "code",
   "execution_count": 26,
   "metadata": {},
   "outputs": [
    {
     "name": "stdout",
     "output_type": "stream",
     "text": [
      "KHYAATHI\n"
     ]
    }
   ],
   "source": [
    "class Emp:\n",
    "    company=\"KHYAATHI\"\n",
    "    def __init__(self,name,address,sal):\n",
    "        self.name=name\n",
    "        self.address=address\n",
    "        self.sal=sal\n",
    "        \n",
    "    def get_compnay(self):\n",
    "        return self.company\n",
    "    \n",
    "anil=Emp(\"Anil kumar\",\"ad1\",23456)\n",
    "print anil.get_compnay()"
   ]
  },
  {
   "cell_type": "code",
   "execution_count": null,
   "metadata": {
    "collapsed": true
   },
   "outputs": [],
   "source": [
    "class Emp:\n",
    "    company=\"KHYAATHI\"\n",
    "    def __init__(self,name,address,sal):\n",
    "        self.name=name\n",
    "        self.address=address\n",
    "        self.sal=sal\n",
    "    @classmethod\n",
    "    def get_compnay_cls(cls):\n",
    "        return cls.company\n",
    "        \n",
    "    def get_compnay(self):\n",
    "        return self.company\n",
    "    \n",
    "anil=Emp(\"Anil kumar\",\"ad1\",23456)\n",
    "print anil.get_compnay()"
   ]
  }
 ],
 "metadata": {
  "kernelspec": {
   "display_name": "Python 2",
   "language": "python",
   "name": "python2"
  },
  "language_info": {
   "codemirror_mode": {
    "name": "ipython",
    "version": 2
   },
   "file_extension": ".py",
   "mimetype": "text/x-python",
   "name": "python",
   "nbconvert_exporter": "python",
   "pygments_lexer": "ipython2",
   "version": "2.7.14"
  }
 },
 "nbformat": 4,
 "nbformat_minor": 2
}
