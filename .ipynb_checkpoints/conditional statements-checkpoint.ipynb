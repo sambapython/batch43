{
 "cells": [
  {
   "cell_type": "code",
   "execution_count": 1,
   "metadata": {},
   "outputs": [
    {
     "name": "stdout",
     "output_type": "stream",
     "text": [
      "a is big\n",
      "b is big\n"
     ]
    }
   ],
   "source": [
    "a=10#raw_input(\"Enter a vaie\")\n",
    "b=20\n",
    "print \"a is big\"\n",
    "print \"b is big\""
   ]
  },
  {
   "cell_type": "code",
   "execution_count": 2,
   "metadata": {},
   "outputs": [
    {
     "name": "stdout",
     "output_type": "stream",
     "text": [
      "program started\n",
      "False\n",
      "b is big\n",
      "other statements in program\n",
      "program ended\n"
     ]
    }
   ],
   "source": [
    "print \"program started\"\n",
    "a=10#raw_input(\"Enter a vaie\")\n",
    "b=20\n",
    "print a>b\n",
    "if a>b:\n",
    "    print \"a is big\"\n",
    "else:\n",
    "    print \"b is big\"\n",
    "print \"other statements in program\"\n",
    "print \"program ended\""
   ]
  },
  {
   "cell_type": "code",
   "execution_count": 3,
   "metadata": {},
   "outputs": [
    {
     "name": "stdout",
     "output_type": "stream",
     "text": [
      "program started\n",
      "True\n",
      "a is big\n",
      "other statements in program\n",
      "program ended\n"
     ]
    }
   ],
   "source": [
    "print \"program started\"\n",
    "a=100#raw_input(\"Enter a vaie\")\n",
    "b=20\n",
    "print a>b\n",
    "if a>b:\n",
    "    print \"a is big\"\n",
    "else:\n",
    "    print \"b is big\"\n",
    "print \"other statements in program\"\n",
    "print \"program ended\""
   ]
  },
  {
   "cell_type": "code",
   "execution_count": null,
   "metadata": {
    "collapsed": true
   },
   "outputs": [],
   "source": [
    "print \"program started\"\n",
    "a=100#raw_input(\"Enter a vaie\")\n",
    "b=20\n",
    "print a>b\n",
    "if a>b:\n",
    " print \"if block started\"\n",
    " print \"a is big\"\n",
    " print \"else block ended\"\n",
    "else:\n",
    "    print \"else block started\"\n",
    "    print \"b is big\"\n",
    "    print \"else block ended\"\n",
    "print \"other statements in program\"\n",
    "print \"program ended\""
   ]
  }
 ],
 "metadata": {
  "kernelspec": {
   "display_name": "Python 2",
   "language": "python",
   "name": "python2"
  },
  "language_info": {
   "codemirror_mode": {
    "name": "ipython",
    "version": 2
   },
   "file_extension": ".py",
   "mimetype": "text/x-python",
   "name": "python",
   "nbconvert_exporter": "python",
   "pygments_lexer": "ipython2",
   "version": "2.7.14"
  }
 },
 "nbformat": 4,
 "nbformat_minor": 2
}
