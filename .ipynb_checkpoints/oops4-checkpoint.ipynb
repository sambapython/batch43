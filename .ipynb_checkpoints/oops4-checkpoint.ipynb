{
 "cells": [
  {
   "cell_type": "code",
   "execution_count": 1,
   "metadata": {},
   "outputs": [
    {
     "ename": "TypeError",
     "evalue": "unsupported operand type(s) for +: 'instance' and 'instance'",
     "output_type": "error",
     "traceback": [
      "\u001b[0;31m---------------------------------------------------------------------------\u001b[0m",
      "\u001b[0;31mTypeError\u001b[0m                                 Traceback (most recent call last)",
      "\u001b[0;32m<ipython-input-1-8783073fb7ed>\u001b[0m in \u001b[0;36m<module>\u001b[0;34m()\u001b[0m\n\u001b[1;32m      8\u001b[0m \u001b[0msamba\u001b[0m\u001b[0;34m=\u001b[0m\u001b[0mEmp\u001b[0m\u001b[0;34m(\u001b[0m\u001b[0;34m\"sambasiva\"\u001b[0m\u001b[0;34m,\u001b[0m\u001b[0;34m\"228\"\u001b[0m\u001b[0;34m)\u001b[0m\u001b[0;34m\u001b[0m\u001b[0m\n\u001b[1;32m      9\u001b[0m \u001b[0manil\u001b[0m\u001b[0;34m=\u001b[0m\u001b[0mEmp\u001b[0m\u001b[0;34m(\u001b[0m\u001b[0;34m\"Anil kumar\"\u001b[0m\u001b[0;34m,\u001b[0m\u001b[0;34m\"229\"\u001b[0m\u001b[0;34m,\u001b[0m\u001b[0;36m34\u001b[0m\u001b[0;34m,\u001b[0m\u001b[0;34m\"23456werty\"\u001b[0m\u001b[0;34m)\u001b[0m\u001b[0;34m\u001b[0m\u001b[0m\n\u001b[0;32m---> 10\u001b[0;31m \u001b[0;32mprint\u001b[0m \u001b[0msamba\u001b[0m\u001b[0;34m+\u001b[0m\u001b[0manil\u001b[0m\u001b[0;34m\u001b[0m\u001b[0m\n\u001b[0m",
      "\u001b[0;31mTypeError\u001b[0m: unsupported operand type(s) for +: 'instance' and 'instance'"
     ]
    }
   ],
   "source": [
    "class Emp:\n",
    "    def __init__(self, name,empid, age=26, passport=\"\", adhar=\"\"):\n",
    "        self.name=name\n",
    "        self.empid=empid\n",
    "        self.age=age\n",
    "        self.passport=passport\n",
    "        self.adhar=adhar\n",
    "samba=Emp(\"sambasiva\",\"228\")\n",
    "anil=Emp(\"Anil kumar\",\"229\",34,\"23456werty\")\n",
    "print samba+anil"
   ]
  },
  {
   "cell_type": "code",
   "execution_count": 2,
   "metadata": {},
   "outputs": [
    {
     "name": "stdout",
     "output_type": "stream",
     "text": [
      "+ supported now\n"
     ]
    }
   ],
   "source": [
    "class Emp:\n",
    "    def __init__(self, name,empid, age=26, passport=\"\", adhar=\"\"):\n",
    "        self.name=name\n",
    "        self.empid=empid\n",
    "        self.age=age\n",
    "        self.passport=passport\n",
    "        self.adhar=adhar\n",
    "    def __add__(self1,self2):\n",
    "        return \"+ supported now\"\n",
    "        \n",
    "samba=Emp(\"sambasiva\",\"228\")\n",
    "anil=Emp(\"Anil kumar\",\"229\",34,\"23456werty\")\n",
    "print samba+anil"
   ]
  },
  {
   "cell_type": "code",
   "execution_count": 3,
   "metadata": {},
   "outputs": [
    {
     "name": "stdout",
     "output_type": "stream",
     "text": [
      "(('sambasiva', 'Anil kumar'), (26, 34))\n"
     ]
    }
   ],
   "source": [
    "class Emp:\n",
    "    def __init__(self, name,empid, age=26, passport=\"\", adhar=\"\"):\n",
    "        self.name=name\n",
    "        self.empid=empid\n",
    "        self.age=age\n",
    "        self.passport=passport\n",
    "        self.adhar=adhar\n",
    "    def __add__(self1,self2):\n",
    "        return ((self1.name,self2.name),(self1.age,self2.age))\n",
    "        \n",
    "samba=Emp(\"sambasiva\",\"228\")\n",
    "anil=Emp(\"Anil kumar\",\"229\",34,\"23456werty\")\n",
    "print samba+anil"
   ]
  },
  {
   "cell_type": "code",
   "execution_count": 4,
   "metadata": {},
   "outputs": [
    {
     "name": "stdout",
     "output_type": "stream",
     "text": [
      "(('sambasiva', 'Anil kumar'), (26, 34))\n",
      "(('sambasiva', 'Anil kumar'), -8)\n"
     ]
    }
   ],
   "source": [
    "class Emp:\n",
    "    def __init__(self, name,empid, age=26, passport=\"\", adhar=\"\"):\n",
    "        self.name=name\n",
    "        self.empid=empid\n",
    "        self.age=age\n",
    "        self.passport=passport\n",
    "        self.adhar=adhar\n",
    "    def __add__(self1,self2):\n",
    "        return ((self1.name,self2.name),(self1.age,self2.age))\n",
    "    def __sub__(self1,self2):\n",
    "        return ((self1.name,self2.name),(self1.age-self2.age))\n",
    "        \n",
    "samba=Emp(\"sambasiva\",\"228\")\n",
    "anil=Emp(\"Anil kumar\",\"229\",34,\"23456werty\")\n",
    "print samba+anil\n",
    "print samba-anil"
   ]
  },
  {
   "cell_type": "code",
   "execution_count": 5,
   "metadata": {},
   "outputs": [
    {
     "name": "stdout",
     "output_type": "stream",
     "text": [
      "(('sambasiva', 'Anil kumar'), (26, 34))\n",
      "(('sambasiva', 'Anil kumar'), -8)\n"
     ]
    },
    {
     "ename": "AttributeError",
     "evalue": "Emp instance has no attribute '__len__'",
     "output_type": "error",
     "traceback": [
      "\u001b[0;31m---------------------------------------------------------------------------\u001b[0m",
      "\u001b[0;31mAttributeError\u001b[0m                            Traceback (most recent call last)",
      "\u001b[0;32m<ipython-input-5-798b580cd261>\u001b[0m in \u001b[0;36m<module>\u001b[0;34m()\u001b[0m\n\u001b[1;32m     15\u001b[0m \u001b[0;32mprint\u001b[0m \u001b[0msamba\u001b[0m\u001b[0;34m+\u001b[0m\u001b[0manil\u001b[0m\u001b[0;34m\u001b[0m\u001b[0m\n\u001b[1;32m     16\u001b[0m \u001b[0;32mprint\u001b[0m \u001b[0msamba\u001b[0m\u001b[0;34m-\u001b[0m\u001b[0manil\u001b[0m\u001b[0;34m\u001b[0m\u001b[0m\n\u001b[0;32m---> 17\u001b[0;31m \u001b[0;32mprint\u001b[0m \u001b[0mlen\u001b[0m\u001b[0;34m(\u001b[0m\u001b[0msamba\u001b[0m\u001b[0;34m)\u001b[0m\u001b[0;34m\u001b[0m\u001b[0m\n\u001b[0m",
      "\u001b[0;31mAttributeError\u001b[0m: Emp instance has no attribute '__len__'"
     ]
    }
   ],
   "source": [
    "class Emp:\n",
    "    def __init__(self, name,empid, age=26, passport=\"\", adhar=\"\"):\n",
    "        self.name=name\n",
    "        self.empid=empid\n",
    "        self.age=age\n",
    "        self.passport=passport\n",
    "        self.adhar=adhar\n",
    "    def __add__(self1,self2):\n",
    "        return ((self1.name,self2.name),(self1.age,self2.age))\n",
    "    def __sub__(self1,self2):\n",
    "        return ((self1.name,self2.name),(self1.age-self2.age))\n",
    "        \n",
    "samba=Emp(\"sambasiva\",\"228\")\n",
    "anil=Emp(\"Anil kumar\",\"229\",34,\"23456werty\")\n",
    "print samba+anil\n",
    "print samba-anil\n",
    "print len(samba)"
   ]
  },
  {
   "cell_type": "code",
   "execution_count": 6,
   "metadata": {},
   "outputs": [
    {
     "name": "stdout",
     "output_type": "stream",
     "text": [
      "(('sambasiva', 'Anil kumar'), (26, 34))\n",
      "(('sambasiva', 'Anil kumar'), -8)\n",
      "{'empid': '228', 'age': 26, 'name': 'sambasiva', 'passport': '', 'adhar': ''}\n",
      "5\n"
     ]
    }
   ],
   "source": [
    "class Emp:\n",
    "    def __init__(self, name,empid, age=26, passport=\"\", adhar=\"\"):\n",
    "        self.name=name\n",
    "        self.empid=empid\n",
    "        self.age=age\n",
    "        self.passport=passport\n",
    "        self.adhar=adhar\n",
    "    def __add__(self1,self2):\n",
    "        return ((self1.name,self2.name),(self1.age,self2.age))\n",
    "    def __sub__(self1,self2):\n",
    "        return ((self1.name,self2.name),(self1.age-self2.age))\n",
    "    def __len__(self):\n",
    "        print self.__dict__\n",
    "        return len(self.__dict__)\n",
    "        \n",
    "samba=Emp(\"sambasiva\",\"228\")\n",
    "anil=Emp(\"Anil kumar\",\"229\",34,\"23456werty\")\n",
    "print samba+anil\n",
    "print samba-anil\n",
    "print len(samba)"
   ]
  },
  {
   "cell_type": "code",
   "execution_count": 7,
   "metadata": {},
   "outputs": [
    {
     "name": "stdout",
     "output_type": "stream",
     "text": [
      "(('sambasiva', 'Anil kumar'), (26, 34))\n",
      "(('sambasiva', 'Anil kumar'), -8)\n",
      "5\n"
     ]
    },
    {
     "ename": "TypeError",
     "evalue": "iteration over non-sequence",
     "output_type": "error",
     "traceback": [
      "\u001b[0;31m---------------------------------------------------------------------------\u001b[0m",
      "\u001b[0;31mTypeError\u001b[0m                                 Traceback (most recent call last)",
      "\u001b[0;32m<ipython-input-7-e993ffb33c71>\u001b[0m in \u001b[0;36m<module>\u001b[0;34m()\u001b[0m\n\u001b[1;32m     18\u001b[0m \u001b[0;32mprint\u001b[0m \u001b[0msamba\u001b[0m\u001b[0;34m-\u001b[0m\u001b[0manil\u001b[0m\u001b[0;34m\u001b[0m\u001b[0m\n\u001b[1;32m     19\u001b[0m \u001b[0;32mprint\u001b[0m \u001b[0mlen\u001b[0m\u001b[0;34m(\u001b[0m\u001b[0msamba\u001b[0m\u001b[0;34m)\u001b[0m\u001b[0;34m\u001b[0m\u001b[0m\n\u001b[0;32m---> 20\u001b[0;31m \u001b[0;32mfor\u001b[0m \u001b[0mi\u001b[0m \u001b[0;32min\u001b[0m \u001b[0msamba\u001b[0m\u001b[0;34m:\u001b[0m\u001b[0;34m\u001b[0m\u001b[0m\n\u001b[0m\u001b[1;32m     21\u001b[0m     \u001b[0;32mprint\u001b[0m \u001b[0mi\u001b[0m\u001b[0;34m\u001b[0m\u001b[0m\n",
      "\u001b[0;31mTypeError\u001b[0m: iteration over non-sequence"
     ]
    }
   ],
   "source": [
    "class Emp:\n",
    "    def __init__(self, name,empid, age=26, passport=\"\", adhar=\"\"):\n",
    "        self.name=name\n",
    "        self.empid=empid\n",
    "        self.age=age\n",
    "        self.passport=passport\n",
    "        self.adhar=adhar\n",
    "    def __add__(self1,self2):\n",
    "        return ((self1.name,self2.name),(self1.age,self2.age))\n",
    "    def __sub__(self1,self2):\n",
    "        return ((self1.name,self2.name),(self1.age-self2.age))\n",
    "    def __len__(self):\n",
    "        return len(self.__dict__)\n",
    "        \n",
    "samba=Emp(\"sambasiva\",\"228\")\n",
    "anil=Emp(\"Anil kumar\",\"229\",34,\"23456werty\")\n",
    "print samba+anil\n",
    "print samba-anil\n",
    "print len(samba)\n",
    "for i in samba:\n",
    "    print i"
   ]
  },
  {
   "cell_type": "code",
   "execution_count": 8,
   "metadata": {},
   "outputs": [
    {
     "name": "stdout",
     "output_type": "stream",
     "text": [
      "(('sambasiva', 'Anil kumar'), (26, 34))\n",
      "(('sambasiva', 'Anil kumar'), -8)\n",
      "5\n",
      "('empid', '228')\n",
      "('age', 26)\n",
      "('name', 'sambasiva')\n",
      "('passport', '')\n",
      "('adhar', '')\n"
     ]
    }
   ],
   "source": [
    "class Emp:\n",
    "    def __init__(self, name,empid, age=26, passport=\"\", adhar=\"\"):\n",
    "        self.name=name\n",
    "        self.empid=empid\n",
    "        self.age=age\n",
    "        self.passport=passport\n",
    "        self.adhar=adhar\n",
    "    def __add__(self1,self2):\n",
    "        return ((self1.name,self2.name),(self1.age,self2.age))\n",
    "    def __sub__(self1,self2):\n",
    "        return ((self1.name,self2.name),(self1.age-self2.age))\n",
    "    def __len__(self):\n",
    "        return len(self.__dict__)\n",
    "    def __iter__(self):\n",
    "        for elem in self.__dict__.items():\n",
    "            yield elem\n",
    "        \n",
    "samba=Emp(\"sambasiva\",\"228\")\n",
    "anil=Emp(\"Anil kumar\",\"229\",34,\"23456werty\")\n",
    "print samba+anil\n",
    "print samba-anil\n",
    "print len(samba)\n",
    "for i in samba:\n",
    "    print i"
   ]
  },
  {
   "cell_type": "code",
   "execution_count": 10,
   "metadata": {},
   "outputs": [
    {
     "name": "stdout",
     "output_type": "stream",
     "text": [
      "(('sambasiva', 'Anil kumar'), (26, 34))\n",
      "(('sambasiva', 'Anil kumar'), -8)\n",
      "5\n",
      "0\n",
      "1\n",
      "2\n",
      "3\n",
      "4\n",
      "5\n",
      "6\n",
      "7\n",
      "8\n",
      "9\n"
     ]
    }
   ],
   "source": [
    "class Emp:\n",
    "    def __init__(self, name,empid, age=26, passport=\"\", adhar=\"\"):\n",
    "        self.name=name\n",
    "        self.empid=empid\n",
    "        self.age=age\n",
    "        self.passport=passport\n",
    "        self.adhar=adhar\n",
    "    def __add__(self1,self2):\n",
    "        return ((self1.name,self2.name),(self1.age,self2.age))\n",
    "    def __sub__(self1,self2):\n",
    "        return ((self1.name,self2.name),(self1.age-self2.age))\n",
    "    def __len__(self):\n",
    "        return len(self.__dict__)\n",
    "    def __iter__(self):\n",
    "        '''\n",
    "        for elem in self.__dict__.items():\n",
    "            yield elem\n",
    "        '''\n",
    "        for i in xrange(10):\n",
    "            yield i\n",
    "        \n",
    "        \n",
    "samba=Emp(\"sambasiva\",\"228\")\n",
    "anil=Emp(\"Anil kumar\",\"229\",34,\"23456werty\")\n",
    "print samba+anil\n",
    "print samba-anil\n",
    "print len(samba)\n",
    "for i in samba:\n",
    "    print i"
   ]
  },
  {
   "cell_type": "code",
   "execution_count": 11,
   "metadata": {},
   "outputs": [
    {
     "name": "stdout",
     "output_type": "stream",
     "text": [
      "(('sambasiva', 'Anil kumar'), (26, 34))\n",
      "(('sambasiva', 'Anil kumar'), -8)\n",
      "5\n",
      "('empid', '228')\n",
      "('age', 26)\n",
      "('name', 'sambasiva')\n",
      "('passport', '')\n",
      "('adhar', '')\n"
     ]
    }
   ],
   "source": [
    "class Emp:\n",
    "    def __init__(self, name,empid, age=26, passport=\"\", adhar=\"\"):\n",
    "        self.name=name\n",
    "        self.empid=empid\n",
    "        self.age=age\n",
    "        self.passport=passport\n",
    "        self.adhar=adhar\n",
    "    def __add__(self1,self2):\n",
    "        return ((self1.name,self2.name),(self1.age,self2.age))\n",
    "    def __sub__(self1,self2):\n",
    "        return ((self1.name,self2.name),(self1.age-self2.age))\n",
    "    def __len__(self):\n",
    "        return len(self.__dict__)\n",
    "    def __iter__(self):\n",
    "        for elem in self.__dict__.items():\n",
    "            yield elem\n",
    "        \n",
    "        \n",
    "        \n",
    "samba=Emp(\"sambasiva\",\"228\")\n",
    "anil=Emp(\"Anil kumar\",\"229\",34,\"23456werty\")\n",
    "print samba+anil\n",
    "print samba-anil\n",
    "print len(samba)\n",
    "for i in samba:\n",
    "    print i"
   ]
  },
  {
   "cell_type": "code",
   "execution_count": 12,
   "metadata": {},
   "outputs": [
    {
     "ename": "TypeError",
     "evalue": "'int' object is not iterable",
     "output_type": "error",
     "traceback": [
      "\u001b[0;31m---------------------------------------------------------------------------\u001b[0m",
      "\u001b[0;31mTypeError\u001b[0m                                 Traceback (most recent call last)",
      "\u001b[0;32m<ipython-input-12-dae0df8168f7>\u001b[0m in \u001b[0;36m<module>\u001b[0;34m()\u001b[0m\n\u001b[0;32m----> 1\u001b[0;31m \u001b[0;32mfor\u001b[0m \u001b[0mi\u001b[0m \u001b[0;32min\u001b[0m \u001b[0;36m10\u001b[0m\u001b[0;34m:\u001b[0m\u001b[0;34m\u001b[0m\u001b[0m\n\u001b[0m\u001b[1;32m      2\u001b[0m     \u001b[0;32mprint\u001b[0m \u001b[0mi\u001b[0m\u001b[0;34m\u001b[0m\u001b[0m\n",
      "\u001b[0;31mTypeError\u001b[0m: 'int' object is not iterable"
     ]
    }
   ],
   "source": [
    "for i in 10:\n",
    "    print i"
   ]
  },
  {
   "cell_type": "code",
   "execution_count": null,
   "metadata": {
    "collapsed": true
   },
   "outputs": [],
   "source": [
    "# singleton __new__"
   ]
  }
 ],
 "metadata": {
  "kernelspec": {
   "display_name": "Python 2",
   "language": "python",
   "name": "python2"
  },
  "language_info": {
   "codemirror_mode": {
    "name": "ipython",
    "version": 2
   },
   "file_extension": ".py",
   "mimetype": "text/x-python",
   "name": "python",
   "nbconvert_exporter": "python",
   "pygments_lexer": "ipython2",
   "version": "2.7.14"
  }
 },
 "nbformat": 4,
 "nbformat_minor": 2
}
