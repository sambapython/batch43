{
 "cells": [
  {
   "cell_type": "code",
   "execution_count": 1,
   "metadata": {
    "collapsed": true
   },
   "outputs": [],
   "source": [
    "from github import Github\n",
    "username=\"\"\n",
    "password=\"\"\n",
    "g=Github(username, password)"
   ]
  },
  {
   "cell_type": "code",
   "execution_count": 2,
   "metadata": {},
   "outputs": [
    {
     "data": {
      "text/plain": [
       "['FIX_REPO_GET_GIT_REF',\n",
       " '_Github__get_FIX_REPO_GET_GIT_REF',\n",
       " '_Github__get_per_page',\n",
       " '_Github__requester',\n",
       " '_Github__set_FIX_REPO_GET_GIT_REF',\n",
       " '_Github__set_per_page',\n",
       " '__class__',\n",
       " '__delattr__',\n",
       " '__dict__',\n",
       " '__doc__',\n",
       " '__format__',\n",
       " '__getattribute__',\n",
       " '__hash__',\n",
       " '__init__',\n",
       " '__module__',\n",
       " '__new__',\n",
       " '__reduce__',\n",
       " '__reduce_ex__',\n",
       " '__repr__',\n",
       " '__setattr__',\n",
       " '__sizeof__',\n",
       " '__str__',\n",
       " '__subclasshook__',\n",
       " '__weakref__',\n",
       " 'create_from_raw_data',\n",
       " 'dump',\n",
       " 'get_api_status',\n",
       " 'get_api_status_messages',\n",
       " 'get_emojis',\n",
       " 'get_gist',\n",
       " 'get_gists',\n",
       " 'get_gitignore_template',\n",
       " 'get_gitignore_templates',\n",
       " 'get_hook',\n",
       " 'get_hooks',\n",
       " 'get_installation',\n",
       " 'get_last_api_status_message',\n",
       " 'get_organization',\n",
       " 'get_rate_limit',\n",
       " 'get_repo',\n",
       " 'get_repos',\n",
       " 'get_user',\n",
       " 'get_users',\n",
       " 'legacy_search_repos',\n",
       " 'legacy_search_user_by_email',\n",
       " 'legacy_search_users',\n",
       " 'load',\n",
       " 'oauth_scopes',\n",
       " 'per_page',\n",
       " 'rate_limiting',\n",
       " 'rate_limiting_resettime',\n",
       " 'render_markdown',\n",
       " 'search_code',\n",
       " 'search_issues',\n",
       " 'search_repositories',\n",
       " 'search_users']"
      ]
     },
     "execution_count": 2,
     "metadata": {},
     "output_type": "execute_result"
    }
   ],
   "source": [
    "dir(g)"
   ]
  },
  {
   "cell_type": "code",
   "execution_count": 4,
   "metadata": {},
   "outputs": [
    {
     "ename": "TypeError",
     "evalue": "get_organization() takes exactly 2 arguments (1 given)",
     "output_type": "error",
     "traceback": [
      "\u001b[0;31m---------------------------------------------------------------------------\u001b[0m",
      "\u001b[0;31mTypeError\u001b[0m                                 Traceback (most recent call last)",
      "\u001b[0;32m<ipython-input-4-c7fd4c6472a4>\u001b[0m in \u001b[0;36m<module>\u001b[0;34m()\u001b[0m\n\u001b[0;32m----> 1\u001b[0;31m \u001b[0mg\u001b[0m\u001b[0;34m.\u001b[0m\u001b[0mget_organization\u001b[0m\u001b[0;34m(\u001b[0m\u001b[0;34m)\u001b[0m\u001b[0;34m\u001b[0m\u001b[0m\n\u001b[0m",
      "\u001b[0;31mTypeError\u001b[0m: get_organization() takes exactly 2 arguments (1 given)"
     ]
    }
   ],
   "source": [
    "g.get_organization()"
   ]
  },
  {
   "cell_type": "code",
   "execution_count": 5,
   "metadata": {},
   "outputs": [
    {
     "ename": "UnknownObjectException",
     "evalue": "404 {u'documentation_url': u'https://developer.github.com/v3/orgs/#get-an-organization', u'message': u'Not Found'}",
     "output_type": "error",
     "traceback": [
      "\u001b[0;31m---------------------------------------------------------------------------\u001b[0m",
      "\u001b[0;31mUnknownObjectException\u001b[0m                    Traceback (most recent call last)",
      "\u001b[0;32m<ipython-input-5-8137f41dac16>\u001b[0m in \u001b[0;36m<module>\u001b[0;34m()\u001b[0m\n\u001b[0;32m----> 1\u001b[0;31m \u001b[0morg\u001b[0m \u001b[0;34m=\u001b[0m \u001b[0mg\u001b[0m\u001b[0;34m.\u001b[0m\u001b[0mget_organization\u001b[0m\u001b[0;34m(\u001b[0m\u001b[0;34m\"uday1834\"\u001b[0m\u001b[0;34m)\u001b[0m\u001b[0;34m\u001b[0m\u001b[0m\n\u001b[0m",
      "\u001b[0;32m/home/khyaathi-python/anaconda2/lib/python2.7/site-packages/github/MainClass.pyc\u001b[0m in \u001b[0;36mget_organization\u001b[0;34m(self, login)\u001b[0m\n\u001b[1;32m    196\u001b[0m         headers, data = self.__requester.requestJsonAndCheck(\n\u001b[1;32m    197\u001b[0m             \u001b[0;34m\"GET\"\u001b[0m\u001b[0;34m,\u001b[0m\u001b[0;34m\u001b[0m\u001b[0m\n\u001b[0;32m--> 198\u001b[0;31m             \u001b[0;34m\"/orgs/\"\u001b[0m \u001b[0;34m+\u001b[0m \u001b[0mlogin\u001b[0m\u001b[0;34m\u001b[0m\u001b[0m\n\u001b[0m\u001b[1;32m    199\u001b[0m         )\n\u001b[1;32m    200\u001b[0m         \u001b[0;32mreturn\u001b[0m \u001b[0mgithub\u001b[0m\u001b[0;34m.\u001b[0m\u001b[0mOrganization\u001b[0m\u001b[0;34m.\u001b[0m\u001b[0mOrganization\u001b[0m\u001b[0;34m(\u001b[0m\u001b[0mself\u001b[0m\u001b[0;34m.\u001b[0m\u001b[0m__requester\u001b[0m\u001b[0;34m,\u001b[0m \u001b[0mheaders\u001b[0m\u001b[0;34m,\u001b[0m \u001b[0mdata\u001b[0m\u001b[0;34m,\u001b[0m \u001b[0mcompleted\u001b[0m\u001b[0;34m=\u001b[0m\u001b[0mTrue\u001b[0m\u001b[0;34m)\u001b[0m\u001b[0;34m\u001b[0m\u001b[0m\n",
      "\u001b[0;32m/home/khyaathi-python/anaconda2/lib/python2.7/site-packages/github/Requester.pyc\u001b[0m in \u001b[0;36mrequestJsonAndCheck\u001b[0;34m(self, verb, url, parameters, headers, input, cnx)\u001b[0m\n\u001b[1;32m    170\u001b[0m \u001b[0;34m\u001b[0m\u001b[0m\n\u001b[1;32m    171\u001b[0m     \u001b[0;32mdef\u001b[0m \u001b[0mrequestJsonAndCheck\u001b[0m\u001b[0;34m(\u001b[0m\u001b[0mself\u001b[0m\u001b[0;34m,\u001b[0m \u001b[0mverb\u001b[0m\u001b[0;34m,\u001b[0m \u001b[0murl\u001b[0m\u001b[0;34m,\u001b[0m \u001b[0mparameters\u001b[0m\u001b[0;34m=\u001b[0m\u001b[0mNone\u001b[0m\u001b[0;34m,\u001b[0m \u001b[0mheaders\u001b[0m\u001b[0;34m=\u001b[0m\u001b[0mNone\u001b[0m\u001b[0;34m,\u001b[0m \u001b[0minput\u001b[0m\u001b[0;34m=\u001b[0m\u001b[0mNone\u001b[0m\u001b[0;34m,\u001b[0m \u001b[0mcnx\u001b[0m\u001b[0;34m=\u001b[0m\u001b[0mNone\u001b[0m\u001b[0;34m)\u001b[0m\u001b[0;34m:\u001b[0m\u001b[0;34m\u001b[0m\u001b[0m\n\u001b[0;32m--> 172\u001b[0;31m         \u001b[0;32mreturn\u001b[0m \u001b[0mself\u001b[0m\u001b[0;34m.\u001b[0m\u001b[0m__check\u001b[0m\u001b[0;34m(\u001b[0m\u001b[0;34m*\u001b[0m\u001b[0mself\u001b[0m\u001b[0;34m.\u001b[0m\u001b[0mrequestJson\u001b[0m\u001b[0;34m(\u001b[0m\u001b[0mverb\u001b[0m\u001b[0;34m,\u001b[0m \u001b[0murl\u001b[0m\u001b[0;34m,\u001b[0m \u001b[0mparameters\u001b[0m\u001b[0;34m,\u001b[0m \u001b[0mheaders\u001b[0m\u001b[0;34m,\u001b[0m \u001b[0minput\u001b[0m\u001b[0;34m,\u001b[0m \u001b[0mcnx\u001b[0m\u001b[0;34m)\u001b[0m\u001b[0;34m)\u001b[0m\u001b[0;34m\u001b[0m\u001b[0m\n\u001b[0m\u001b[1;32m    173\u001b[0m \u001b[0;34m\u001b[0m\u001b[0m\n\u001b[1;32m    174\u001b[0m     \u001b[0;32mdef\u001b[0m \u001b[0mrequestMultipartAndCheck\u001b[0m\u001b[0;34m(\u001b[0m\u001b[0mself\u001b[0m\u001b[0;34m,\u001b[0m \u001b[0mverb\u001b[0m\u001b[0;34m,\u001b[0m \u001b[0murl\u001b[0m\u001b[0;34m,\u001b[0m \u001b[0mparameters\u001b[0m\u001b[0;34m=\u001b[0m\u001b[0mNone\u001b[0m\u001b[0;34m,\u001b[0m \u001b[0mheaders\u001b[0m\u001b[0;34m=\u001b[0m\u001b[0mNone\u001b[0m\u001b[0;34m,\u001b[0m \u001b[0minput\u001b[0m\u001b[0;34m=\u001b[0m\u001b[0mNone\u001b[0m\u001b[0;34m)\u001b[0m\u001b[0;34m:\u001b[0m\u001b[0;34m\u001b[0m\u001b[0m\n",
      "\u001b[0;32m/home/khyaathi-python/anaconda2/lib/python2.7/site-packages/github/Requester.pyc\u001b[0m in \u001b[0;36m__check\u001b[0;34m(self, status, responseHeaders, output)\u001b[0m\n\u001b[1;32m    178\u001b[0m         \u001b[0moutput\u001b[0m \u001b[0;34m=\u001b[0m \u001b[0mself\u001b[0m\u001b[0;34m.\u001b[0m\u001b[0m__structuredFromJson\u001b[0m\u001b[0;34m(\u001b[0m\u001b[0moutput\u001b[0m\u001b[0;34m)\u001b[0m\u001b[0;34m\u001b[0m\u001b[0m\n\u001b[1;32m    179\u001b[0m         \u001b[0;32mif\u001b[0m \u001b[0mstatus\u001b[0m \u001b[0;34m>=\u001b[0m \u001b[0;36m400\u001b[0m\u001b[0;34m:\u001b[0m\u001b[0;34m\u001b[0m\u001b[0m\n\u001b[0;32m--> 180\u001b[0;31m             \u001b[0;32mraise\u001b[0m \u001b[0mself\u001b[0m\u001b[0;34m.\u001b[0m\u001b[0m__createException\u001b[0m\u001b[0;34m(\u001b[0m\u001b[0mstatus\u001b[0m\u001b[0;34m,\u001b[0m \u001b[0mresponseHeaders\u001b[0m\u001b[0;34m,\u001b[0m \u001b[0moutput\u001b[0m\u001b[0;34m)\u001b[0m\u001b[0;34m\u001b[0m\u001b[0m\n\u001b[0m\u001b[1;32m    181\u001b[0m         \u001b[0;32mreturn\u001b[0m \u001b[0mresponseHeaders\u001b[0m\u001b[0;34m,\u001b[0m \u001b[0moutput\u001b[0m\u001b[0;34m\u001b[0m\u001b[0m\n\u001b[1;32m    182\u001b[0m \u001b[0;34m\u001b[0m\u001b[0m\n",
      "\u001b[0;31mUnknownObjectException\u001b[0m: 404 {u'documentation_url': u'https://developer.github.com/v3/orgs/#get-an-organization', u'message': u'Not Found'}"
     ]
    }
   ],
   "source": [
    "org = g.get_organization(\"uday1834\")"
   ]
  },
  {
   "cell_type": "code",
   "execution_count": 6,
   "metadata": {
    "collapsed": true
   },
   "outputs": [],
   "source": [
    "user = g.get_user()"
   ]
  },
  {
   "cell_type": "code",
   "execution_count": 7,
   "metadata": {},
   "outputs": [
    {
     "name": "stdout",
     "output_type": "stream",
     "text": [
      "AuthenticatedUser(login=None)\n"
     ]
    }
   ],
   "source": [
    "print user"
   ]
  },
  {
   "cell_type": "code",
   "execution_count": 8,
   "metadata": {
    "collapsed": true
   },
   "outputs": [],
   "source": [
    "user.name"
   ]
  },
  {
   "cell_type": "code",
   "execution_count": 9,
   "metadata": {},
   "outputs": [
    {
     "data": {
      "text/plain": [
       "['CHECK_AFTER_INIT_FLAG',\n",
       " '_CompletableGithubObject__complete',\n",
       " '_CompletableGithubObject__completed',\n",
       " '_GithubObject__makeSimpleAttribute',\n",
       " '_GithubObject__makeSimpleListAttribute',\n",
       " '_GithubObject__makeTransformedAttribute',\n",
       " '__class__',\n",
       " '__delattr__',\n",
       " '__dict__',\n",
       " '__doc__',\n",
       " '__eq__',\n",
       " '__format__',\n",
       " '__getattribute__',\n",
       " '__hash__',\n",
       " '__init__',\n",
       " '__module__',\n",
       " '__ne__',\n",
       " '__new__',\n",
       " '__reduce__',\n",
       " '__reduce_ex__',\n",
       " '__repr__',\n",
       " '__setattr__',\n",
       " '__sizeof__',\n",
       " '__str__',\n",
       " '__subclasshook__',\n",
       " '__weakref__',\n",
       " '_avatar_url',\n",
       " '_bio',\n",
       " '_blog',\n",
       " '_collaborators',\n",
       " '_company',\n",
       " '_completeIfNeeded',\n",
       " '_completeIfNotSet',\n",
       " '_created_at',\n",
       " '_disk_usage',\n",
       " '_email',\n",
       " '_events_url',\n",
       " '_followers',\n",
       " '_followers_url',\n",
       " '_following',\n",
       " '_following_url',\n",
       " '_gists_url',\n",
       " '_gravatar_id',\n",
       " '_headers',\n",
       " '_hireable',\n",
       " '_html_url',\n",
       " '_id',\n",
       " '_initAttributes',\n",
       " '_location',\n",
       " '_login',\n",
       " '_makeBoolAttribute',\n",
       " '_makeClassAttribute',\n",
       " '_makeDatetimeAttribute',\n",
       " '_makeDictAttribute',\n",
       " '_makeDictOfStringsToClassesAttribute',\n",
       " '_makeIntAttribute',\n",
       " '_makeListOfClassesAttribute',\n",
       " '_makeListOfIntsAttribute',\n",
       " '_makeListOfListOfStringsAttribute',\n",
       " '_makeListOfStringsAttribute',\n",
       " '_makeStringAttribute',\n",
       " '_makeTimestampAttribute',\n",
       " '_name',\n",
       " '_organizations_url',\n",
       " '_owned_private_repos',\n",
       " '_parentUrl',\n",
       " '_plan',\n",
       " '_private_gists',\n",
       " '_public_gists',\n",
       " '_public_repos',\n",
       " '_rawData',\n",
       " '_received_events_url',\n",
       " '_repos_url',\n",
       " '_requester',\n",
       " '_site_admin',\n",
       " '_starred_url',\n",
       " '_storeAndUseAttributes',\n",
       " '_subscriptions_url',\n",
       " '_total_private_repos',\n",
       " '_type',\n",
       " '_updated_at',\n",
       " '_url',\n",
       " '_useAttributes',\n",
       " 'accept_invitation',\n",
       " 'add_to_emails',\n",
       " 'add_to_following',\n",
       " 'add_to_starred',\n",
       " 'add_to_subscriptions',\n",
       " 'add_to_watched',\n",
       " 'avatar_url',\n",
       " 'bio',\n",
       " 'blog',\n",
       " 'collaborators',\n",
       " 'company',\n",
       " 'create_authorization',\n",
       " 'create_fork',\n",
       " 'create_gist',\n",
       " 'create_key',\n",
       " 'create_repo',\n",
       " 'created_at',\n",
       " 'disk_usage',\n",
       " 'edit',\n",
       " 'email',\n",
       " 'etag',\n",
       " 'events_url',\n",
       " 'followers',\n",
       " 'followers_url',\n",
       " 'following',\n",
       " 'following_url',\n",
       " 'get__repr__',\n",
       " 'get_authorization',\n",
       " 'get_authorizations',\n",
       " 'get_emails',\n",
       " 'get_events',\n",
       " 'get_followers',\n",
       " 'get_following',\n",
       " 'get_gists',\n",
       " 'get_issues',\n",
       " 'get_key',\n",
       " 'get_keys',\n",
       " 'get_notification',\n",
       " 'get_notifications',\n",
       " 'get_organization_events',\n",
       " 'get_orgs',\n",
       " 'get_repo',\n",
       " 'get_repos',\n",
       " 'get_starred',\n",
       " 'get_starred_gists',\n",
       " 'get_subscriptions',\n",
       " 'get_teams',\n",
       " 'get_user_issues',\n",
       " 'get_watched',\n",
       " 'gists_url',\n",
       " 'gravatar_id',\n",
       " 'has_in_following',\n",
       " 'has_in_starred',\n",
       " 'has_in_subscriptions',\n",
       " 'has_in_watched',\n",
       " 'hireable',\n",
       " 'html_url',\n",
       " 'id',\n",
       " 'last_modified',\n",
       " 'location',\n",
       " 'login',\n",
       " 'name',\n",
       " 'organizations_url',\n",
       " 'owned_private_repos',\n",
       " 'plan',\n",
       " 'private_gists',\n",
       " 'public_gists',\n",
       " 'public_repos',\n",
       " 'raw_data',\n",
       " 'raw_headers',\n",
       " 'received_events_url',\n",
       " 'remove_from_emails',\n",
       " 'remove_from_following',\n",
       " 'remove_from_starred',\n",
       " 'remove_from_subscriptions',\n",
       " 'remove_from_watched',\n",
       " 'repos_url',\n",
       " 'setCheckAfterInitFlag',\n",
       " 'site_admin',\n",
       " 'starred_url',\n",
       " 'subscriptions_url',\n",
       " 'total_private_repos',\n",
       " 'type',\n",
       " 'update',\n",
       " 'updated_at',\n",
       " 'url']"
      ]
     },
     "execution_count": 9,
     "metadata": {},
     "output_type": "execute_result"
    }
   ],
   "source": [
    "dir(user)"
   ]
  },
  {
   "cell_type": "code",
   "execution_count": 10,
   "metadata": {},
   "outputs": [
    {
     "name": "stdout",
     "output_type": "stream",
     "text": [
      "Organization(name=None, id=34699715)\n",
      "Organization(name=None, id=34699732)\n",
      "Organization(name=None, id=37465038)\n"
     ]
    }
   ],
   "source": [
    "for org in user.get_orgs():\n",
    "    print org"
   ]
  },
  {
   "cell_type": "code",
   "execution_count": 11,
   "metadata": {},
   "outputs": [
    {
     "name": "stdout",
     "output_type": "stream",
     "text": [
      "None\n",
      "None\n",
      "None\n"
     ]
    }
   ],
   "source": [
    "for org in user.get_orgs():\n",
    "    print org.name"
   ]
  },
  {
   "cell_type": "code",
   "execution_count": 12,
   "metadata": {},
   "outputs": [
    {
     "data": {
      "text/plain": [
       "['CHECK_AFTER_INIT_FLAG',\n",
       " '_CompletableGithubObject__complete',\n",
       " '_CompletableGithubObject__completed',\n",
       " '_GithubObject__makeSimpleAttribute',\n",
       " '_GithubObject__makeSimpleListAttribute',\n",
       " '_GithubObject__makeTransformedAttribute',\n",
       " '__class__',\n",
       " '__delattr__',\n",
       " '__dict__',\n",
       " '__doc__',\n",
       " '__eq__',\n",
       " '__format__',\n",
       " '__getattribute__',\n",
       " '__hash__',\n",
       " '__init__',\n",
       " '__module__',\n",
       " '__ne__',\n",
       " '__new__',\n",
       " '__reduce__',\n",
       " '__reduce_ex__',\n",
       " '__repr__',\n",
       " '__setattr__',\n",
       " '__sizeof__',\n",
       " '__str__',\n",
       " '__subclasshook__',\n",
       " '__weakref__',\n",
       " '_avatar_url',\n",
       " '_billing_email',\n",
       " '_blog',\n",
       " '_collaborators',\n",
       " '_company',\n",
       " '_completeIfNeeded',\n",
       " '_completeIfNotSet',\n",
       " '_created_at',\n",
       " '_disk_usage',\n",
       " '_email',\n",
       " '_events_url',\n",
       " '_followers',\n",
       " '_following',\n",
       " '_gravatar_id',\n",
       " '_headers',\n",
       " '_html_url',\n",
       " '_id',\n",
       " '_initAttributes',\n",
       " '_location',\n",
       " '_login',\n",
       " '_makeBoolAttribute',\n",
       " '_makeClassAttribute',\n",
       " '_makeDatetimeAttribute',\n",
       " '_makeDictAttribute',\n",
       " '_makeDictOfStringsToClassesAttribute',\n",
       " '_makeIntAttribute',\n",
       " '_makeListOfClassesAttribute',\n",
       " '_makeListOfIntsAttribute',\n",
       " '_makeListOfListOfStringsAttribute',\n",
       " '_makeListOfStringsAttribute',\n",
       " '_makeStringAttribute',\n",
       " '_makeTimestampAttribute',\n",
       " '_members_url',\n",
       " '_name',\n",
       " '_owned_private_repos',\n",
       " '_parentUrl',\n",
       " '_plan',\n",
       " '_private_gists',\n",
       " '_public_gists',\n",
       " '_public_members_url',\n",
       " '_public_repos',\n",
       " '_rawData',\n",
       " '_repos_url',\n",
       " '_requester',\n",
       " '_storeAndUseAttributes',\n",
       " '_total_private_repos',\n",
       " '_type',\n",
       " '_updated_at',\n",
       " '_url',\n",
       " '_useAttributes',\n",
       " 'add_to_public_members',\n",
       " 'avatar_url',\n",
       " 'billing_email',\n",
       " 'blog',\n",
       " 'collaborators',\n",
       " 'company',\n",
       " 'create_fork',\n",
       " 'create_repo',\n",
       " 'create_team',\n",
       " 'created_at',\n",
       " 'disk_usage',\n",
       " 'edit',\n",
       " 'email',\n",
       " 'etag',\n",
       " 'events_url',\n",
       " 'followers',\n",
       " 'following',\n",
       " 'get__repr__',\n",
       " 'get_events',\n",
       " 'get_issues',\n",
       " 'get_members',\n",
       " 'get_public_members',\n",
       " 'get_repo',\n",
       " 'get_repos',\n",
       " 'get_team',\n",
       " 'get_teams',\n",
       " 'gravatar_id',\n",
       " 'has_in_members',\n",
       " 'has_in_public_members',\n",
       " 'html_url',\n",
       " 'id',\n",
       " 'last_modified',\n",
       " 'location',\n",
       " 'login',\n",
       " 'members_url',\n",
       " 'name',\n",
       " 'owned_private_repos',\n",
       " 'plan',\n",
       " 'private_gists',\n",
       " 'public_gists',\n",
       " 'public_members_url',\n",
       " 'public_repos',\n",
       " 'raw_data',\n",
       " 'raw_headers',\n",
       " 'remove_from_members',\n",
       " 'remove_from_public_members',\n",
       " 'repos_url',\n",
       " 'setCheckAfterInitFlag',\n",
       " 'total_private_repos',\n",
       " 'type',\n",
       " 'update',\n",
       " 'updated_at',\n",
       " 'url']"
      ]
     },
     "execution_count": 12,
     "metadata": {},
     "output_type": "execute_result"
    }
   ],
   "source": [
    "dir(org)"
   ]
  },
  {
   "cell_type": "code",
   "execution_count": 13,
   "metadata": {},
   "outputs": [
    {
     "name": "stdout",
     "output_type": "stream",
     "text": [
      "Repository(full_name=\"khyaathi/batch44_repo0\")\n",
      "Repository(full_name=\"tcloud123/batch44_repo1\")\n",
      "Repository(full_name=\"khyaathiinstitute/batch44_repo2\")\n"
     ]
    }
   ],
   "source": [
    "i=0\n",
    "for org in user.get_orgs():\n",
    "    print org.create_repo(\"batch44_repo%s\"%i)\n",
    "    i=i+1\n",
    "    "
   ]
  },
  {
   "cell_type": "code",
   "execution_count": 14,
   "metadata": {
    "collapsed": true
   },
   "outputs": [],
   "source": [
    "import requests"
   ]
  },
  {
   "cell_type": "code",
   "execution_count": 15,
   "metadata": {
    "collapsed": true
   },
   "outputs": [],
   "source": [
    "requests.post?"
   ]
  },
  {
   "cell_type": "code",
   "execution_count": null,
   "metadata": {
    "collapsed": true
   },
   "outputs": [],
   "source": [
    "requests.get"
   ]
  },
  {
   "cell_type": "code",
   "execution_count": null,
   "metadata": {
    "collapsed": true
   },
   "outputs": [],
   "source": [
    "requests.put"
   ]
  },
  {
   "cell_type": "code",
   "execution_count": null,
   "metadata": {
    "collapsed": true
   },
   "outputs": [],
   "source": [
    "requests.delete"
   ]
  },
  {
   "cell_type": "code",
   "execution_count": 17,
   "metadata": {
    "collapsed": true
   },
   "outputs": [],
   "source": [
    "resp = requests.get(\"https://api.github.com/orgs/khyaathi/repos\",auth=(username, password))"
   ]
  },
  {
   "cell_type": "code",
   "execution_count": 18,
   "metadata": {},
   "outputs": [
    {
     "data": {
      "text/plain": [
       "<Response [200]>"
      ]
     },
     "execution_count": 18,
     "metadata": {},
     "output_type": "execute_result"
    }
   ],
   "source": [
    "resp"
   ]
  },
  {
   "cell_type": "code",
   "execution_count": 19,
   "metadata": {
    "collapsed": true
   },
   "outputs": [],
   "source": [
    "repos = resp.json()"
   ]
  },
  {
   "cell_type": "code",
   "execution_count": 21,
   "metadata": {},
   "outputs": [
    {
     "name": "stdout",
     "output_type": "stream",
     "text": [
      "[{u'issues_url': u'https://api.github.com/repos/khyaathi/khyaathirepo1/issues{/number}', u'deployments_url': u'https://api.github.com/repos/khyaathi/khyaathirepo1/deployments', u'stargazers_count': 0, u'forks_url': u'https://api.github.com/repos/khyaathi/khyaathirepo1/forks', u'mirror_url': None, u'subscription_url': u'https://api.github.com/repos/khyaathi/khyaathirepo1/subscription', u'notifications_url': u'https://api.github.com/repos/khyaathi/khyaathirepo1/notifications{?since,all,participating}', u'collaborators_url': u'https://api.github.com/repos/khyaathi/khyaathirepo1/collaborators{/collaborator}', u'updated_at': u'2017-12-20T03:13:48Z', u'private': False, u'pulls_url': u'https://api.github.com/repos/khyaathi/khyaathirepo1/pulls{/number}', u'issue_comment_url': u'https://api.github.com/repos/khyaathi/khyaathirepo1/issues/comments{/number}', u'labels_url': u'https://api.github.com/repos/khyaathi/khyaathirepo1/labels{/name}', u'has_wiki': True, u'full_name': u'khyaathi/khyaathirepo1', u'owner': {u'following_url': u'https://api.github.com/users/khyaathi/following{/other_user}', u'events_url': u'https://api.github.com/users/khyaathi/events{/privacy}', u'organizations_url': u'https://api.github.com/users/khyaathi/orgs', u'url': u'https://api.github.com/users/khyaathi', u'gists_url': u'https://api.github.com/users/khyaathi/gists{/gist_id}', u'html_url': u'https://github.com/khyaathi', u'subscriptions_url': u'https://api.github.com/users/khyaathi/subscriptions', u'avatar_url': u'https://avatars2.githubusercontent.com/u/34699715?v=4', u'repos_url': u'https://api.github.com/users/khyaathi/repos', u'received_events_url': u'https://api.github.com/users/khyaathi/received_events', u'gravatar_id': u'', u'starred_url': u'https://api.github.com/users/khyaathi/starred{/owner}{/repo}', u'site_admin': False, u'login': u'khyaathi', u'type': u'Organization', u'id': 34699715, u'followers_url': u'https://api.github.com/users/khyaathi/followers'}, u'statuses_url': u'https://api.github.com/repos/khyaathi/khyaathirepo1/statuses/{sha}', u'id': 114837420, u'keys_url': u'https://api.github.com/repos/khyaathi/khyaathirepo1/keys{/key_id}', u'description': u'khyaathirepo1', u'tags_url': u'https://api.github.com/repos/khyaathi/khyaathirepo1/tags', u'archived': False, u'downloads_url': u'https://api.github.com/repos/khyaathi/khyaathirepo1/downloads', u'assignees_url': u'https://api.github.com/repos/khyaathi/khyaathirepo1/assignees{/user}', u'contents_url': u'https://api.github.com/repos/khyaathi/khyaathirepo1/contents/{+path}', u'has_pages': False, u'git_refs_url': u'https://api.github.com/repos/khyaathi/khyaathirepo1/git/refs{/sha}', u'open_issues_count': 0, u'has_projects': True, u'clone_url': u'https://github.com/khyaathi/khyaathirepo1.git', u'watchers_count': 0, u'git_tags_url': u'https://api.github.com/repos/khyaathi/khyaathirepo1/git/tags{/sha}', u'milestones_url': u'https://api.github.com/repos/khyaathi/khyaathirepo1/milestones{/number}', u'languages_url': u'https://api.github.com/repos/khyaathi/khyaathirepo1/languages', u'size': 0, u'homepage': None, u'fork': False, u'commits_url': u'https://api.github.com/repos/khyaathi/khyaathirepo1/commits{/sha}', u'releases_url': u'https://api.github.com/repos/khyaathi/khyaathirepo1/releases{/id}', u'issue_events_url': u'https://api.github.com/repos/khyaathi/khyaathirepo1/issues/events{/number}', u'archive_url': u'https://api.github.com/repos/khyaathi/khyaathirepo1/{archive_format}{/ref}', u'comments_url': u'https://api.github.com/repos/khyaathi/khyaathirepo1/comments{/number}', u'events_url': u'https://api.github.com/repos/khyaathi/khyaathirepo1/events', u'contributors_url': u'https://api.github.com/repos/khyaathi/khyaathirepo1/contributors', u'html_url': u'https://github.com/khyaathi/khyaathirepo1', u'forks': 0, u'compare_url': u'https://api.github.com/repos/khyaathi/khyaathirepo1/compare/{base}...{head}', u'open_issues': 0, u'watchers': 0, u'git_url': u'git://github.com/khyaathi/khyaathirepo1.git', u'svn_url': u'https://github.com/khyaathi/khyaathirepo1', u'merges_url': u'https://api.github.com/repos/khyaathi/khyaathirepo1/merges', u'has_issues': True, u'ssh_url': u'git@github.com:khyaathi/khyaathirepo1.git', u'blobs_url': u'https://api.github.com/repos/khyaathi/khyaathirepo1/git/blobs{/sha}', u'git_commits_url': u'https://api.github.com/repos/khyaathi/khyaathirepo1/git/commits{/sha}', u'hooks_url': u'https://api.github.com/repos/khyaathi/khyaathirepo1/hooks', u'has_downloads': True, u'license': None, u'name': u'khyaathirepo1', u'language': None, u'url': u'https://api.github.com/repos/khyaathi/khyaathirepo1', u'created_at': u'2017-12-20T03:13:48Z', u'pushed_at': u'2017-12-20T03:13:48Z', u'forks_count': 0, u'default_branch': u'master', u'teams_url': u'https://api.github.com/repos/khyaathi/khyaathirepo1/teams', u'trees_url': u'https://api.github.com/repos/khyaathi/khyaathirepo1/git/trees{/sha}', u'branches_url': u'https://api.github.com/repos/khyaathi/khyaathirepo1/branches{/branch}', u'subscribers_url': u'https://api.github.com/repos/khyaathi/khyaathirepo1/subscribers', u'permissions': {u'admin': True, u'push': True, u'pull': True}, u'stargazers_url': u'https://api.github.com/repos/khyaathi/khyaathirepo1/stargazers'}, {u'issues_url': u'https://api.github.com/repos/khyaathi/khyaathirepo2/issues{/number}', u'deployments_url': u'https://api.github.com/repos/khyaathi/khyaathirepo2/deployments', u'stargazers_count': 0, u'forks_url': u'https://api.github.com/repos/khyaathi/khyaathirepo2/forks', u'mirror_url': None, u'subscription_url': u'https://api.github.com/repos/khyaathi/khyaathirepo2/subscription', u'notifications_url': u'https://api.github.com/repos/khyaathi/khyaathirepo2/notifications{?since,all,participating}', u'collaborators_url': u'https://api.github.com/repos/khyaathi/khyaathirepo2/collaborators{/collaborator}', u'updated_at': u'2017-12-20T03:16:22Z', u'private': False, u'pulls_url': u'https://api.github.com/repos/khyaathi/khyaathirepo2/pulls{/number}', u'issue_comment_url': u'https://api.github.com/repos/khyaathi/khyaathirepo2/issues/comments{/number}', u'labels_url': u'https://api.github.com/repos/khyaathi/khyaathirepo2/labels{/name}', u'has_wiki': True, u'full_name': u'khyaathi/khyaathirepo2', u'owner': {u'following_url': u'https://api.github.com/users/khyaathi/following{/other_user}', u'events_url': u'https://api.github.com/users/khyaathi/events{/privacy}', u'organizations_url': u'https://api.github.com/users/khyaathi/orgs', u'url': u'https://api.github.com/users/khyaathi', u'gists_url': u'https://api.github.com/users/khyaathi/gists{/gist_id}', u'html_url': u'https://github.com/khyaathi', u'subscriptions_url': u'https://api.github.com/users/khyaathi/subscriptions', u'avatar_url': u'https://avatars2.githubusercontent.com/u/34699715?v=4', u'repos_url': u'https://api.github.com/users/khyaathi/repos', u'received_events_url': u'https://api.github.com/users/khyaathi/received_events', u'gravatar_id': u'', u'starred_url': u'https://api.github.com/users/khyaathi/starred{/owner}{/repo}', u'site_admin': False, u'login': u'khyaathi', u'type': u'Organization', u'id': 34699715, u'followers_url': u'https://api.github.com/users/khyaathi/followers'}, u'statuses_url': u'https://api.github.com/repos/khyaathi/khyaathirepo2/statuses/{sha}', u'id': 114837626, u'keys_url': u'https://api.github.com/repos/khyaathi/khyaathirepo2/keys{/key_id}', u'description': None, u'tags_url': u'https://api.github.com/repos/khyaathi/khyaathirepo2/tags', u'archived': False, u'downloads_url': u'https://api.github.com/repos/khyaathi/khyaathirepo2/downloads', u'assignees_url': u'https://api.github.com/repos/khyaathi/khyaathirepo2/assignees{/user}', u'contents_url': u'https://api.github.com/repos/khyaathi/khyaathirepo2/contents/{+path}', u'has_pages': False, u'git_refs_url': u'https://api.github.com/repos/khyaathi/khyaathirepo2/git/refs{/sha}', u'open_issues_count': 0, u'has_projects': True, u'clone_url': u'https://github.com/khyaathi/khyaathirepo2.git', u'watchers_count': 0, u'git_tags_url': u'https://api.github.com/repos/khyaathi/khyaathirepo2/git/tags{/sha}', u'milestones_url': u'https://api.github.com/repos/khyaathi/khyaathirepo2/milestones{/number}', u'languages_url': u'https://api.github.com/repos/khyaathi/khyaathirepo2/languages', u'size': 0, u'homepage': None, u'fork': False, u'commits_url': u'https://api.github.com/repos/khyaathi/khyaathirepo2/commits{/sha}', u'releases_url': u'https://api.github.com/repos/khyaathi/khyaathirepo2/releases{/id}', u'issue_events_url': u'https://api.github.com/repos/khyaathi/khyaathirepo2/issues/events{/number}', u'archive_url': u'https://api.github.com/repos/khyaathi/khyaathirepo2/{archive_format}{/ref}', u'comments_url': u'https://api.github.com/repos/khyaathi/khyaathirepo2/comments{/number}', u'events_url': u'https://api.github.com/repos/khyaathi/khyaathirepo2/events', u'contributors_url': u'https://api.github.com/repos/khyaathi/khyaathirepo2/contributors', u'html_url': u'https://github.com/khyaathi/khyaathirepo2', u'forks': 0, u'compare_url': u'https://api.github.com/repos/khyaathi/khyaathirepo2/compare/{base}...{head}', u'open_issues': 0, u'watchers': 0, u'git_url': u'git://github.com/khyaathi/khyaathirepo2.git', u'svn_url': u'https://github.com/khyaathi/khyaathirepo2', u'merges_url': u'https://api.github.com/repos/khyaathi/khyaathirepo2/merges', u'has_issues': True, u'ssh_url': u'git@github.com:khyaathi/khyaathirepo2.git', u'blobs_url': u'https://api.github.com/repos/khyaathi/khyaathirepo2/git/blobs{/sha}', u'git_commits_url': u'https://api.github.com/repos/khyaathi/khyaathirepo2/git/commits{/sha}', u'hooks_url': u'https://api.github.com/repos/khyaathi/khyaathirepo2/hooks', u'has_downloads': True, u'license': None, u'name': u'khyaathirepo2', u'language': None, u'url': u'https://api.github.com/repos/khyaathi/khyaathirepo2', u'created_at': u'2017-12-20T03:16:22Z', u'pushed_at': u'2017-12-20T03:16:23Z', u'forks_count': 0, u'default_branch': u'master', u'teams_url': u'https://api.github.com/repos/khyaathi/khyaathirepo2/teams', u'trees_url': u'https://api.github.com/repos/khyaathi/khyaathirepo2/git/trees{/sha}', u'branches_url': u'https://api.github.com/repos/khyaathi/khyaathirepo2/branches{/branch}', u'subscribers_url': u'https://api.github.com/repos/khyaathi/khyaathirepo2/subscribers', u'permissions': {u'admin': True, u'push': True, u'pull': True}, u'stargazers_url': u'https://api.github.com/repos/khyaathi/khyaathirepo2/stargazers'}, {u'issues_url': u'https://api.github.com/repos/khyaathi/python_repo/issues{/number}', u'deployments_url': u'https://api.github.com/repos/khyaathi/python_repo/deployments', u'stargazers_count': 0, u'forks_url': u'https://api.github.com/repos/khyaathi/python_repo/forks', u'mirror_url': None, u'subscription_url': u'https://api.github.com/repos/khyaathi/python_repo/subscription', u'notifications_url': u'https://api.github.com/repos/khyaathi/python_repo/notifications{?since,all,participating}', u'collaborators_url': u'https://api.github.com/repos/khyaathi/python_repo/collaborators{/collaborator}', u'updated_at': u'2018-01-20T05:35:44Z', u'private': False, u'pulls_url': u'https://api.github.com/repos/khyaathi/python_repo/pulls{/number}', u'issue_comment_url': u'https://api.github.com/repos/khyaathi/python_repo/issues/comments{/number}', u'labels_url': u'https://api.github.com/repos/khyaathi/python_repo/labels{/name}', u'has_wiki': True, u'full_name': u'khyaathi/python_repo', u'owner': {u'following_url': u'https://api.github.com/users/khyaathi/following{/other_user}', u'events_url': u'https://api.github.com/users/khyaathi/events{/privacy}', u'organizations_url': u'https://api.github.com/users/khyaathi/orgs', u'url': u'https://api.github.com/users/khyaathi', u'gists_url': u'https://api.github.com/users/khyaathi/gists{/gist_id}', u'html_url': u'https://github.com/khyaathi', u'subscriptions_url': u'https://api.github.com/users/khyaathi/subscriptions', u'avatar_url': u'https://avatars2.githubusercontent.com/u/34699715?v=4', u'repos_url': u'https://api.github.com/users/khyaathi/repos', u'received_events_url': u'https://api.github.com/users/khyaathi/received_events', u'gravatar_id': u'', u'starred_url': u'https://api.github.com/users/khyaathi/starred{/owner}{/repo}', u'site_admin': False, u'login': u'khyaathi', u'type': u'Organization', u'id': 34699715, u'followers_url': u'https://api.github.com/users/khyaathi/followers'}, u'statuses_url': u'https://api.github.com/repos/khyaathi/python_repo/statuses/{sha}', u'id': 118212671, u'keys_url': u'https://api.github.com/repos/khyaathi/python_repo/keys{/key_id}', u'description': None, u'tags_url': u'https://api.github.com/repos/khyaathi/python_repo/tags', u'archived': False, u'downloads_url': u'https://api.github.com/repos/khyaathi/python_repo/downloads', u'assignees_url': u'https://api.github.com/repos/khyaathi/python_repo/assignees{/user}', u'contents_url': u'https://api.github.com/repos/khyaathi/python_repo/contents/{+path}', u'has_pages': False, u'git_refs_url': u'https://api.github.com/repos/khyaathi/python_repo/git/refs{/sha}', u'open_issues_count': 0, u'has_projects': True, u'clone_url': u'https://github.com/khyaathi/python_repo.git', u'watchers_count': 0, u'git_tags_url': u'https://api.github.com/repos/khyaathi/python_repo/git/tags{/sha}', u'milestones_url': u'https://api.github.com/repos/khyaathi/python_repo/milestones{/number}', u'languages_url': u'https://api.github.com/repos/khyaathi/python_repo/languages', u'size': 0, u'homepage': None, u'fork': False, u'commits_url': u'https://api.github.com/repos/khyaathi/python_repo/commits{/sha}', u'releases_url': u'https://api.github.com/repos/khyaathi/python_repo/releases{/id}', u'issue_events_url': u'https://api.github.com/repos/khyaathi/python_repo/issues/events{/number}', u'archive_url': u'https://api.github.com/repos/khyaathi/python_repo/{archive_format}{/ref}', u'comments_url': u'https://api.github.com/repos/khyaathi/python_repo/comments{/number}', u'events_url': u'https://api.github.com/repos/khyaathi/python_repo/events', u'contributors_url': u'https://api.github.com/repos/khyaathi/python_repo/contributors', u'html_url': u'https://github.com/khyaathi/python_repo', u'forks': 0, u'compare_url': u'https://api.github.com/repos/khyaathi/python_repo/compare/{base}...{head}', u'open_issues': 0, u'watchers': 0, u'git_url': u'git://github.com/khyaathi/python_repo.git', u'svn_url': u'https://github.com/khyaathi/python_repo', u'merges_url': u'https://api.github.com/repos/khyaathi/python_repo/merges', u'has_issues': True, u'ssh_url': u'git@github.com:khyaathi/python_repo.git', u'blobs_url': u'https://api.github.com/repos/khyaathi/python_repo/git/blobs{/sha}', u'git_commits_url': u'https://api.github.com/repos/khyaathi/python_repo/git/commits{/sha}', u'hooks_url': u'https://api.github.com/repos/khyaathi/python_repo/hooks', u'has_downloads': True, u'license': None, u'name': u'python_repo', u'language': None, u'url': u'https://api.github.com/repos/khyaathi/python_repo', u'created_at': u'2018-01-20T05:35:44Z', u'pushed_at': u'2018-01-20T05:35:45Z', u'forks_count': 0, u'default_branch': u'master', u'teams_url': u'https://api.github.com/repos/khyaathi/python_repo/teams', u'trees_url': u'https://api.github.com/repos/khyaathi/python_repo/git/trees{/sha}', u'branches_url': u'https://api.github.com/repos/khyaathi/python_repo/branches{/branch}', u'subscribers_url': u'https://api.github.com/repos/khyaathi/python_repo/subscribers', u'permissions': {u'admin': True, u'push': True, u'pull': True}, u'stargazers_url': u'https://api.github.com/repos/khyaathi/python_repo/stargazers'}, {u'issues_url': u'https://api.github.com/repos/khyaathi/repo410/issues{/number}', u'deployments_url': u'https://api.github.com/repos/khyaathi/repo410/deployments', u'stargazers_count': 0, u'forks_url': u'https://api.github.com/repos/khyaathi/repo410/forks', u'mirror_url': None, u'subscription_url': u'https://api.github.com/repos/khyaathi/repo410/subscription', u'notifications_url': u'https://api.github.com/repos/khyaathi/repo410/notifications{?since,all,participating}', u'collaborators_url': u'https://api.github.com/repos/khyaathi/repo410/collaborators{/collaborator}', u'updated_at': u'2018-02-11T02:03:42Z', u'private': False, u'pulls_url': u'https://api.github.com/repos/khyaathi/repo410/pulls{/number}', u'issue_comment_url': u'https://api.github.com/repos/khyaathi/repo410/issues/comments{/number}', u'labels_url': u'https://api.github.com/repos/khyaathi/repo410/labels{/name}', u'has_wiki': True, u'full_name': u'khyaathi/repo410', u'owner': {u'following_url': u'https://api.github.com/users/khyaathi/following{/other_user}', u'events_url': u'https://api.github.com/users/khyaathi/events{/privacy}', u'organizations_url': u'https://api.github.com/users/khyaathi/orgs', u'url': u'https://api.github.com/users/khyaathi', u'gists_url': u'https://api.github.com/users/khyaathi/gists{/gist_id}', u'html_url': u'https://github.com/khyaathi', u'subscriptions_url': u'https://api.github.com/users/khyaathi/subscriptions', u'avatar_url': u'https://avatars2.githubusercontent.com/u/34699715?v=4', u'repos_url': u'https://api.github.com/users/khyaathi/repos', u'received_events_url': u'https://api.github.com/users/khyaathi/received_events', u'gravatar_id': u'', u'starred_url': u'https://api.github.com/users/khyaathi/starred{/owner}{/repo}', u'site_admin': False, u'login': u'khyaathi', u'type': u'Organization', u'id': 34699715, u'followers_url': u'https://api.github.com/users/khyaathi/followers'}, u'statuses_url': u'https://api.github.com/repos/khyaathi/repo410/statuses/{sha}', u'id': 121073615, u'keys_url': u'https://api.github.com/repos/khyaathi/repo410/keys{/key_id}', u'description': None, u'tags_url': u'https://api.github.com/repos/khyaathi/repo410/tags', u'archived': False, u'downloads_url': u'https://api.github.com/repos/khyaathi/repo410/downloads', u'assignees_url': u'https://api.github.com/repos/khyaathi/repo410/assignees{/user}', u'contents_url': u'https://api.github.com/repos/khyaathi/repo410/contents/{+path}', u'has_pages': False, u'git_refs_url': u'https://api.github.com/repos/khyaathi/repo410/git/refs{/sha}', u'open_issues_count': 0, u'has_projects': True, u'clone_url': u'https://github.com/khyaathi/repo410.git', u'watchers_count': 0, u'git_tags_url': u'https://api.github.com/repos/khyaathi/repo410/git/tags{/sha}', u'milestones_url': u'https://api.github.com/repos/khyaathi/repo410/milestones{/number}', u'languages_url': u'https://api.github.com/repos/khyaathi/repo410/languages', u'size': 0, u'homepage': None, u'fork': False, u'commits_url': u'https://api.github.com/repos/khyaathi/repo410/commits{/sha}', u'releases_url': u'https://api.github.com/repos/khyaathi/repo410/releases{/id}', u'issue_events_url': u'https://api.github.com/repos/khyaathi/repo410/issues/events{/number}', u'archive_url': u'https://api.github.com/repos/khyaathi/repo410/{archive_format}{/ref}', u'comments_url': u'https://api.github.com/repos/khyaathi/repo410/comments{/number}', u'events_url': u'https://api.github.com/repos/khyaathi/repo410/events', u'contributors_url': u'https://api.github.com/repos/khyaathi/repo410/contributors', u'html_url': u'https://github.com/khyaathi/repo410', u'forks': 0, u'compare_url': u'https://api.github.com/repos/khyaathi/repo410/compare/{base}...{head}', u'open_issues': 0, u'watchers': 0, u'git_url': u'git://github.com/khyaathi/repo410.git', u'svn_url': u'https://github.com/khyaathi/repo410', u'merges_url': u'https://api.github.com/repos/khyaathi/repo410/merges', u'has_issues': True, u'ssh_url': u'git@github.com:khyaathi/repo410.git', u'blobs_url': u'https://api.github.com/repos/khyaathi/repo410/git/blobs{/sha}', u'git_commits_url': u'https://api.github.com/repos/khyaathi/repo410/git/commits{/sha}', u'hooks_url': u'https://api.github.com/repos/khyaathi/repo410/hooks', u'has_downloads': True, u'license': None, u'name': u'repo410', u'language': None, u'url': u'https://api.github.com/repos/khyaathi/repo410', u'created_at': u'2018-02-11T02:03:42Z', u'pushed_at': u'2018-02-11T02:03:42Z', u'forks_count': 0, u'default_branch': u'master', u'teams_url': u'https://api.github.com/repos/khyaathi/repo410/teams', u'trees_url': u'https://api.github.com/repos/khyaathi/repo410/git/trees{/sha}', u'branches_url': u'https://api.github.com/repos/khyaathi/repo410/branches{/branch}', u'subscribers_url': u'https://api.github.com/repos/khyaathi/repo410/subscribers', u'permissions': {u'admin': True, u'push': True, u'pull': True}, u'stargazers_url': u'https://api.github.com/repos/khyaathi/repo410/stargazers'}, {u'issues_url': u'https://api.github.com/repos/khyaathi/repo_api/issues{/number}', u'deployments_url': u'https://api.github.com/repos/khyaathi/repo_api/deployments', u'stargazers_count': 0, u'forks_url': u'https://api.github.com/repos/khyaathi/repo_api/forks', u'mirror_url': None, u'subscription_url': u'https://api.github.com/repos/khyaathi/repo_api/subscription', u'notifications_url': u'https://api.github.com/repos/khyaathi/repo_api/notifications{?since,all,participating}', u'collaborators_url': u'https://api.github.com/repos/khyaathi/repo_api/collaborators{/collaborator}', u'updated_at': u'2018-02-11T02:13:33Z', u'private': False, u'pulls_url': u'https://api.github.com/repos/khyaathi/repo_api/pulls{/number}', u'issue_comment_url': u'https://api.github.com/repos/khyaathi/repo_api/issues/comments{/number}', u'labels_url': u'https://api.github.com/repos/khyaathi/repo_api/labels{/name}', u'has_wiki': True, u'full_name': u'khyaathi/repo_api', u'owner': {u'following_url': u'https://api.github.com/users/khyaathi/following{/other_user}', u'events_url': u'https://api.github.com/users/khyaathi/events{/privacy}', u'organizations_url': u'https://api.github.com/users/khyaathi/orgs', u'url': u'https://api.github.com/users/khyaathi', u'gists_url': u'https://api.github.com/users/khyaathi/gists{/gist_id}', u'html_url': u'https://github.com/khyaathi', u'subscriptions_url': u'https://api.github.com/users/khyaathi/subscriptions', u'avatar_url': u'https://avatars2.githubusercontent.com/u/34699715?v=4', u'repos_url': u'https://api.github.com/users/khyaathi/repos', u'received_events_url': u'https://api.github.com/users/khyaathi/received_events', u'gravatar_id': u'', u'starred_url': u'https://api.github.com/users/khyaathi/starred{/owner}{/repo}', u'site_admin': False, u'login': u'khyaathi', u'type': u'Organization', u'id': 34699715, u'followers_url': u'https://api.github.com/users/khyaathi/followers'}, u'statuses_url': u'https://api.github.com/repos/khyaathi/repo_api/statuses/{sha}', u'id': 121074417, u'keys_url': u'https://api.github.com/repos/khyaathi/repo_api/keys{/key_id}', u'description': None, u'tags_url': u'https://api.github.com/repos/khyaathi/repo_api/tags', u'archived': False, u'downloads_url': u'https://api.github.com/repos/khyaathi/repo_api/downloads', u'assignees_url': u'https://api.github.com/repos/khyaathi/repo_api/assignees{/user}', u'contents_url': u'https://api.github.com/repos/khyaathi/repo_api/contents/{+path}', u'has_pages': False, u'git_refs_url': u'https://api.github.com/repos/khyaathi/repo_api/git/refs{/sha}', u'open_issues_count': 0, u'has_projects': True, u'clone_url': u'https://github.com/khyaathi/repo_api.git', u'watchers_count': 0, u'git_tags_url': u'https://api.github.com/repos/khyaathi/repo_api/git/tags{/sha}', u'milestones_url': u'https://api.github.com/repos/khyaathi/repo_api/milestones{/number}', u'languages_url': u'https://api.github.com/repos/khyaathi/repo_api/languages', u'size': 0, u'homepage': None, u'fork': False, u'commits_url': u'https://api.github.com/repos/khyaathi/repo_api/commits{/sha}', u'releases_url': u'https://api.github.com/repos/khyaathi/repo_api/releases{/id}', u'issue_events_url': u'https://api.github.com/repos/khyaathi/repo_api/issues/events{/number}', u'archive_url': u'https://api.github.com/repos/khyaathi/repo_api/{archive_format}{/ref}', u'comments_url': u'https://api.github.com/repos/khyaathi/repo_api/comments{/number}', u'events_url': u'https://api.github.com/repos/khyaathi/repo_api/events', u'contributors_url': u'https://api.github.com/repos/khyaathi/repo_api/contributors', u'html_url': u'https://github.com/khyaathi/repo_api', u'forks': 0, u'compare_url': u'https://api.github.com/repos/khyaathi/repo_api/compare/{base}...{head}', u'open_issues': 0, u'watchers': 0, u'git_url': u'git://github.com/khyaathi/repo_api.git', u'svn_url': u'https://github.com/khyaathi/repo_api', u'merges_url': u'https://api.github.com/repos/khyaathi/repo_api/merges', u'has_issues': True, u'ssh_url': u'git@github.com:khyaathi/repo_api.git', u'blobs_url': u'https://api.github.com/repos/khyaathi/repo_api/git/blobs{/sha}', u'git_commits_url': u'https://api.github.com/repos/khyaathi/repo_api/git/commits{/sha}', u'hooks_url': u'https://api.github.com/repos/khyaathi/repo_api/hooks', u'has_downloads': True, u'license': None, u'name': u'repo_api', u'language': None, u'url': u'https://api.github.com/repos/khyaathi/repo_api', u'created_at': u'2018-02-11T02:13:33Z', u'pushed_at': u'2018-02-11T02:13:33Z', u'forks_count': 0, u'default_branch': u'master', u'teams_url': u'https://api.github.com/repos/khyaathi/repo_api/teams', u'trees_url': u'https://api.github.com/repos/khyaathi/repo_api/git/trees{/sha}', u'branches_url': u'https://api.github.com/repos/khyaathi/repo_api/branches{/branch}', u'subscribers_url': u'https://api.github.com/repos/khyaathi/repo_api/subscribers', u'permissions': {u'admin': True, u'push': True, u'pull': True}, u'stargazers_url': u'https://api.github.com/repos/khyaathi/repo_api/stargazers'}, {u'issues_url': u'https://api.github.com/repos/khyaathi/batch44_repo0/issues{/number}', u'deployments_url': u'https://api.github.com/repos/khyaathi/batch44_repo0/deployments', u'stargazers_count': 0, u'forks_url': u'https://api.github.com/repos/khyaathi/batch44_repo0/forks', u'mirror_url': None, u'subscription_url': u'https://api.github.com/repos/khyaathi/batch44_repo0/subscription', u'notifications_url': u'https://api.github.com/repos/khyaathi/batch44_repo0/notifications{?since,all,participating}', u'collaborators_url': u'https://api.github.com/repos/khyaathi/batch44_repo0/collaborators{/collaborator}', u'updated_at': u'2018-03-26T03:24:45Z', u'private': False, u'pulls_url': u'https://api.github.com/repos/khyaathi/batch44_repo0/pulls{/number}', u'issue_comment_url': u'https://api.github.com/repos/khyaathi/batch44_repo0/issues/comments{/number}', u'labels_url': u'https://api.github.com/repos/khyaathi/batch44_repo0/labels{/name}', u'has_wiki': True, u'full_name': u'khyaathi/batch44_repo0', u'owner': {u'following_url': u'https://api.github.com/users/khyaathi/following{/other_user}', u'events_url': u'https://api.github.com/users/khyaathi/events{/privacy}', u'organizations_url': u'https://api.github.com/users/khyaathi/orgs', u'url': u'https://api.github.com/users/khyaathi', u'gists_url': u'https://api.github.com/users/khyaathi/gists{/gist_id}', u'html_url': u'https://github.com/khyaathi', u'subscriptions_url': u'https://api.github.com/users/khyaathi/subscriptions', u'avatar_url': u'https://avatars2.githubusercontent.com/u/34699715?v=4', u'repos_url': u'https://api.github.com/users/khyaathi/repos', u'received_events_url': u'https://api.github.com/users/khyaathi/received_events', u'gravatar_id': u'', u'starred_url': u'https://api.github.com/users/khyaathi/starred{/owner}{/repo}', u'site_admin': False, u'login': u'khyaathi', u'type': u'Organization', u'id': 34699715, u'followers_url': u'https://api.github.com/users/khyaathi/followers'}, u'statuses_url': u'https://api.github.com/repos/khyaathi/batch44_repo0/statuses/{sha}', u'id': 126768133, u'keys_url': u'https://api.github.com/repos/khyaathi/batch44_repo0/keys{/key_id}', u'description': None, u'tags_url': u'https://api.github.com/repos/khyaathi/batch44_repo0/tags', u'archived': False, u'downloads_url': u'https://api.github.com/repos/khyaathi/batch44_repo0/downloads', u'assignees_url': u'https://api.github.com/repos/khyaathi/batch44_repo0/assignees{/user}', u'contents_url': u'https://api.github.com/repos/khyaathi/batch44_repo0/contents/{+path}', u'has_pages': False, u'git_refs_url': u'https://api.github.com/repos/khyaathi/batch44_repo0/git/refs{/sha}', u'open_issues_count': 0, u'has_projects': True, u'clone_url': u'https://github.com/khyaathi/batch44_repo0.git', u'watchers_count': 0, u'git_tags_url': u'https://api.github.com/repos/khyaathi/batch44_repo0/git/tags{/sha}', u'milestones_url': u'https://api.github.com/repos/khyaathi/batch44_repo0/milestones{/number}', u'languages_url': u'https://api.github.com/repos/khyaathi/batch44_repo0/languages', u'size': 0, u'homepage': None, u'fork': False, u'commits_url': u'https://api.github.com/repos/khyaathi/batch44_repo0/commits{/sha}', u'releases_url': u'https://api.github.com/repos/khyaathi/batch44_repo0/releases{/id}', u'issue_events_url': u'https://api.github.com/repos/khyaathi/batch44_repo0/issues/events{/number}', u'archive_url': u'https://api.github.com/repos/khyaathi/batch44_repo0/{archive_format}{/ref}', u'comments_url': u'https://api.github.com/repos/khyaathi/batch44_repo0/comments{/number}', u'events_url': u'https://api.github.com/repos/khyaathi/batch44_repo0/events', u'contributors_url': u'https://api.github.com/repos/khyaathi/batch44_repo0/contributors', u'html_url': u'https://github.com/khyaathi/batch44_repo0', u'forks': 0, u'compare_url': u'https://api.github.com/repos/khyaathi/batch44_repo0/compare/{base}...{head}', u'open_issues': 0, u'watchers': 0, u'git_url': u'git://github.com/khyaathi/batch44_repo0.git', u'svn_url': u'https://github.com/khyaathi/batch44_repo0', u'merges_url': u'https://api.github.com/repos/khyaathi/batch44_repo0/merges', u'has_issues': True, u'ssh_url': u'git@github.com:khyaathi/batch44_repo0.git', u'blobs_url': u'https://api.github.com/repos/khyaathi/batch44_repo0/git/blobs{/sha}', u'git_commits_url': u'https://api.github.com/repos/khyaathi/batch44_repo0/git/commits{/sha}', u'hooks_url': u'https://api.github.com/repos/khyaathi/batch44_repo0/hooks', u'has_downloads': True, u'license': None, u'name': u'batch44_repo0', u'language': None, u'url': u'https://api.github.com/repos/khyaathi/batch44_repo0', u'created_at': u'2018-03-26T03:24:45Z', u'pushed_at': u'2018-03-26T03:24:45Z', u'forks_count': 0, u'default_branch': u'master', u'teams_url': u'https://api.github.com/repos/khyaathi/batch44_repo0/teams', u'trees_url': u'https://api.github.com/repos/khyaathi/batch44_repo0/git/trees{/sha}', u'branches_url': u'https://api.github.com/repos/khyaathi/batch44_repo0/branches{/branch}', u'subscribers_url': u'https://api.github.com/repos/khyaathi/batch44_repo0/subscribers', u'permissions': {u'admin': True, u'push': True, u'pull': True}, u'stargazers_url': u'https://api.github.com/repos/khyaathi/batch44_repo0/stargazers'}]\n"
     ]
    }
   ],
   "source": [
    "print repos"
   ]
  },
  {
   "cell_type": "code",
   "execution_count": 23,
   "metadata": {},
   "outputs": [
    {
     "name": "stdout",
     "output_type": "stream",
     "text": [
      "[u'issues_url', u'deployments_url', u'stargazers_count', u'forks_url', u'mirror_url', u'subscription_url', u'notifications_url', u'collaborators_url', u'updated_at', u'private', u'pulls_url', u'issue_comment_url', u'labels_url', u'has_wiki', u'full_name', u'owner', u'statuses_url', u'id', u'keys_url', u'description', u'tags_url', u'archived', u'downloads_url', u'assignees_url', u'contents_url', u'has_pages', u'git_refs_url', u'open_issues_count', u'has_projects', u'clone_url', u'watchers_count', u'git_tags_url', u'milestones_url', u'languages_url', u'size', u'homepage', u'fork', u'commits_url', u'releases_url', u'issue_events_url', u'archive_url', u'comments_url', u'events_url', u'contributors_url', u'html_url', u'forks', u'compare_url', u'open_issues', u'watchers', u'git_url', u'svn_url', u'merges_url', u'has_issues', u'ssh_url', u'blobs_url', u'git_commits_url', u'hooks_url', u'has_downloads', u'license', u'name', u'language', u'url', u'created_at', u'pushed_at', u'forks_count', u'default_branch', u'teams_url', u'trees_url', u'branches_url', u'subscribers_url', u'permissions', u'stargazers_url']\n",
      "[u'issues_url', u'deployments_url', u'stargazers_count', u'forks_url', u'mirror_url', u'subscription_url', u'notifications_url', u'collaborators_url', u'updated_at', u'private', u'pulls_url', u'issue_comment_url', u'labels_url', u'has_wiki', u'full_name', u'owner', u'statuses_url', u'id', u'keys_url', u'description', u'tags_url', u'archived', u'downloads_url', u'assignees_url', u'contents_url', u'has_pages', u'git_refs_url', u'open_issues_count', u'has_projects', u'clone_url', u'watchers_count', u'git_tags_url', u'milestones_url', u'languages_url', u'size', u'homepage', u'fork', u'commits_url', u'releases_url', u'issue_events_url', u'archive_url', u'comments_url', u'events_url', u'contributors_url', u'html_url', u'forks', u'compare_url', u'open_issues', u'watchers', u'git_url', u'svn_url', u'merges_url', u'has_issues', u'ssh_url', u'blobs_url', u'git_commits_url', u'hooks_url', u'has_downloads', u'license', u'name', u'language', u'url', u'created_at', u'pushed_at', u'forks_count', u'default_branch', u'teams_url', u'trees_url', u'branches_url', u'subscribers_url', u'permissions', u'stargazers_url']\n",
      "[u'issues_url', u'deployments_url', u'stargazers_count', u'forks_url', u'mirror_url', u'subscription_url', u'notifications_url', u'collaborators_url', u'updated_at', u'private', u'pulls_url', u'issue_comment_url', u'labels_url', u'has_wiki', u'full_name', u'owner', u'statuses_url', u'id', u'keys_url', u'description', u'tags_url', u'archived', u'downloads_url', u'assignees_url', u'contents_url', u'has_pages', u'git_refs_url', u'open_issues_count', u'has_projects', u'clone_url', u'watchers_count', u'git_tags_url', u'milestones_url', u'languages_url', u'size', u'homepage', u'fork', u'commits_url', u'releases_url', u'issue_events_url', u'archive_url', u'comments_url', u'events_url', u'contributors_url', u'html_url', u'forks', u'compare_url', u'open_issues', u'watchers', u'git_url', u'svn_url', u'merges_url', u'has_issues', u'ssh_url', u'blobs_url', u'git_commits_url', u'hooks_url', u'has_downloads', u'license', u'name', u'language', u'url', u'created_at', u'pushed_at', u'forks_count', u'default_branch', u'teams_url', u'trees_url', u'branches_url', u'subscribers_url', u'permissions', u'stargazers_url']\n",
      "[u'issues_url', u'deployments_url', u'stargazers_count', u'forks_url', u'mirror_url', u'subscription_url', u'notifications_url', u'collaborators_url', u'updated_at', u'private', u'pulls_url', u'issue_comment_url', u'labels_url', u'has_wiki', u'full_name', u'owner', u'statuses_url', u'id', u'keys_url', u'description', u'tags_url', u'archived', u'downloads_url', u'assignees_url', u'contents_url', u'has_pages', u'git_refs_url', u'open_issues_count', u'has_projects', u'clone_url', u'watchers_count', u'git_tags_url', u'milestones_url', u'languages_url', u'size', u'homepage', u'fork', u'commits_url', u'releases_url', u'issue_events_url', u'archive_url', u'comments_url', u'events_url', u'contributors_url', u'html_url', u'forks', u'compare_url', u'open_issues', u'watchers', u'git_url', u'svn_url', u'merges_url', u'has_issues', u'ssh_url', u'blobs_url', u'git_commits_url', u'hooks_url', u'has_downloads', u'license', u'name', u'language', u'url', u'created_at', u'pushed_at', u'forks_count', u'default_branch', u'teams_url', u'trees_url', u'branches_url', u'subscribers_url', u'permissions', u'stargazers_url']\n",
      "[u'issues_url', u'deployments_url', u'stargazers_count', u'forks_url', u'mirror_url', u'subscription_url', u'notifications_url', u'collaborators_url', u'updated_at', u'private', u'pulls_url', u'issue_comment_url', u'labels_url', u'has_wiki', u'full_name', u'owner', u'statuses_url', u'id', u'keys_url', u'description', u'tags_url', u'archived', u'downloads_url', u'assignees_url', u'contents_url', u'has_pages', u'git_refs_url', u'open_issues_count', u'has_projects', u'clone_url', u'watchers_count', u'git_tags_url', u'milestones_url', u'languages_url', u'size', u'homepage', u'fork', u'commits_url', u'releases_url', u'issue_events_url', u'archive_url', u'comments_url', u'events_url', u'contributors_url', u'html_url', u'forks', u'compare_url', u'open_issues', u'watchers', u'git_url', u'svn_url', u'merges_url', u'has_issues', u'ssh_url', u'blobs_url', u'git_commits_url', u'hooks_url', u'has_downloads', u'license', u'name', u'language', u'url', u'created_at', u'pushed_at', u'forks_count', u'default_branch', u'teams_url', u'trees_url', u'branches_url', u'subscribers_url', u'permissions', u'stargazers_url']\n",
      "[u'issues_url', u'deployments_url', u'stargazers_count', u'forks_url', u'mirror_url', u'subscription_url', u'notifications_url', u'collaborators_url', u'updated_at', u'private', u'pulls_url', u'issue_comment_url', u'labels_url', u'has_wiki', u'full_name', u'owner', u'statuses_url', u'id', u'keys_url', u'description', u'tags_url', u'archived', u'downloads_url', u'assignees_url', u'contents_url', u'has_pages', u'git_refs_url', u'open_issues_count', u'has_projects', u'clone_url', u'watchers_count', u'git_tags_url', u'milestones_url', u'languages_url', u'size', u'homepage', u'fork', u'commits_url', u'releases_url', u'issue_events_url', u'archive_url', u'comments_url', u'events_url', u'contributors_url', u'html_url', u'forks', u'compare_url', u'open_issues', u'watchers', u'git_url', u'svn_url', u'merges_url', u'has_issues', u'ssh_url', u'blobs_url', u'git_commits_url', u'hooks_url', u'has_downloads', u'license', u'name', u'language', u'url', u'created_at', u'pushed_at', u'forks_count', u'default_branch', u'teams_url', u'trees_url', u'branches_url', u'subscribers_url', u'permissions', u'stargazers_url']\n"
     ]
    }
   ],
   "source": [
    "for repo in repos:\n",
    "    print repo.keys()"
   ]
  },
  {
   "cell_type": "code",
   "execution_count": 25,
   "metadata": {},
   "outputs": [
    {
     "name": "stdout",
     "output_type": "stream",
     "text": [
      "khyaathi/khyaathirepo1\n",
      "khyaathi/khyaathirepo2\n",
      "khyaathi/python_repo\n",
      "khyaathi/repo410\n",
      "khyaathi/repo_api\n",
      "khyaathi/batch44_repo0\n"
     ]
    }
   ],
   "source": [
    "for repo in repos:\n",
    "    print repo.get('full_name')"
   ]
  },
  {
   "cell_type": "code",
   "execution_count": 26,
   "metadata": {
    "collapsed": true
   },
   "outputs": [],
   "source": [
    "resp = requests.post(\"https://api.github.com/orgs/khyaathi/repos\",auth=(username, password),data={\"full_name\":\"repocreatedbyAPI\"})"
   ]
  },
  {
   "cell_type": "code",
   "execution_count": 27,
   "metadata": {},
   "outputs": [
    {
     "data": {
      "text/plain": [
       "<Response [400]>"
      ]
     },
     "execution_count": 27,
     "metadata": {},
     "output_type": "execute_result"
    }
   ],
   "source": [
    "resp"
   ]
  },
  {
   "cell_type": "code",
   "execution_count": 28,
   "metadata": {},
   "outputs": [
    {
     "data": {
      "text/plain": [
       "'Bad Request'"
      ]
     },
     "execution_count": 28,
     "metadata": {},
     "output_type": "execute_result"
    }
   ],
   "source": [
    "resp.reason"
   ]
  },
  {
   "cell_type": "code",
   "execution_count": 29,
   "metadata": {
    "collapsed": true
   },
   "outputs": [],
   "source": [
    "resp = requests.post(\"https://api.github.com/orgs/khyaathi/repos\",auth=(username, password),json={\"full_name\":\"repocreatedbyAPI\"})"
   ]
  },
  {
   "cell_type": "code",
   "execution_count": 30,
   "metadata": {},
   "outputs": [
    {
     "data": {
      "text/plain": [
       "<Response [422]>"
      ]
     },
     "execution_count": 30,
     "metadata": {},
     "output_type": "execute_result"
    }
   ],
   "source": [
    "resp"
   ]
  },
  {
   "cell_type": "code",
   "execution_count": 31,
   "metadata": {},
   "outputs": [
    {
     "data": {
      "text/plain": [
       "'Unprocessable Entity'"
      ]
     },
     "execution_count": 31,
     "metadata": {},
     "output_type": "execute_result"
    }
   ],
   "source": [
    "resp.reason"
   ]
  },
  {
   "cell_type": "code",
   "execution_count": 32,
   "metadata": {
    "collapsed": true
   },
   "outputs": [],
   "source": [
    "resp = requests.post(\"https://api.github.com/orgs/khyaathi/repos\",auth=(username, password),json={\"name\":\"repocreatedbyAPI\"})"
   ]
  },
  {
   "cell_type": "code",
   "execution_count": 33,
   "metadata": {},
   "outputs": [
    {
     "data": {
      "text/plain": [
       "<Response [201]>"
      ]
     },
     "execution_count": 33,
     "metadata": {},
     "output_type": "execute_result"
    }
   ],
   "source": [
    "resp"
   ]
  },
  {
   "cell_type": "code",
   "execution_count": 34,
   "metadata": {},
   "outputs": [
    {
     "name": "stdout",
     "output_type": "stream",
     "text": [
      "khyaathi/khyaathirepo1\n",
      "khyaathi/khyaathirepo2\n",
      "khyaathi/python_repo\n",
      "khyaathi/repo410\n",
      "khyaathi/repo_api\n",
      "khyaathi/batch44_repo0\n",
      "khyaathi/repocreatedbyAPI\n"
     ]
    }
   ],
   "source": [
    "resp = requests.get(\"https://api.github.com/orgs/khyaathi/repos\",auth=(username, password))\n",
    "for repo in resp.json():\n",
    "    print repo.get(\"full_name\")"
   ]
  },
  {
   "cell_type": "code",
   "execution_count": 1,
   "metadata": {
    "collapsed": true
   },
   "outputs": [],
   "source": [
    "import os"
   ]
  },
  {
   "cell_type": "code",
   "execution_count": 2,
   "metadata": {},
   "outputs": [
    {
     "data": {
      "text/plain": [
       "0"
      ]
     },
     "execution_count": 2,
     "metadata": {},
     "output_type": "execute_result"
    }
   ],
   "source": [
    "os.system(\"mkdir local\")"
   ]
  },
  {
   "cell_type": "code",
   "execution_count": 3,
   "metadata": {},
   "outputs": [
    {
     "data": {
      "text/plain": [
       "0"
      ]
     },
     "execution_count": 3,
     "metadata": {},
     "output_type": "execute_result"
    }
   ],
   "source": [
    "os.system(\"mkdir remote\")"
   ]
  },
  {
   "cell_type": "code",
   "execution_count": 4,
   "metadata": {},
   "outputs": [
    {
     "data": {
      "text/plain": [
       "0"
      ]
     },
     "execution_count": 4,
     "metadata": {},
     "output_type": "execute_result"
    }
   ],
   "source": [
    "os.system(\"rm -r local\")"
   ]
  },
  {
   "cell_type": "code",
   "execution_count": 5,
   "metadata": {},
   "outputs": [
    {
     "data": {
      "text/plain": [
       "0"
      ]
     },
     "execution_count": 5,
     "metadata": {},
     "output_type": "execute_result"
    }
   ],
   "source": [
    "os.system(\"rm -r remote\")"
   ]
  },
  {
   "cell_type": "code",
   "execution_count": 6,
   "metadata": {},
   "outputs": [
    {
     "data": {
      "text/plain": [
       "0"
      ]
     },
     "execution_count": 6,
     "metadata": {},
     "output_type": "execute_result"
    }
   ],
   "source": [
    "os.system(\"ls -l\")"
   ]
  },
  {
   "cell_type": "code",
   "execution_count": 7,
   "metadata": {
    "collapsed": true
   },
   "outputs": [],
   "source": [
    "from subprocess import check_output"
   ]
  },
  {
   "cell_type": "code",
   "execution_count": 8,
   "metadata": {
    "collapsed": true
   },
   "outputs": [],
   "source": [
    "res=  check_output([\"ls\",\"-l\"])"
   ]
  },
  {
   "cell_type": "code",
   "execution_count": 9,
   "metadata": {},
   "outputs": [
    {
     "name": "stdout",
     "output_type": "stream",
     "text": [
      "total 1964\n",
      "-rw-r--r-- 1 khyaathi-python khyaathi-python 30466 Mar 17 08:31 1_copy.jpg\n",
      "-rw-r--r-- 1 khyaathi-python khyaathi-python 30466 Mar  8 09:43 1.jpg\n",
      "-rw-r--r-- 1 khyaathi-python khyaathi-python 32513 Mar  8 08:05 2.jpg\n",
      "-rw-r--r-- 1 khyaathi-python khyaathi-python    45 Feb 20 08:19 a.py\n",
      "-rw-r--r-- 1 khyaathi-python khyaathi-python   165 Feb 19 08:26 a.pyc\n",
      "-rw-r--r-- 1 khyaathi-python khyaathi-python 14650 Mar 25 08:08 assignments.txt\n",
      "-rw-r--r-- 1 khyaathi-python khyaathi-python 54657 Mar 22 07:13 class.jpg\n",
      "-rw-r--r-- 1 khyaathi-python khyaathi-python 23105 Feb 27 09:08 conditional statements and looping.ipynb\n",
      "-rw-r--r-- 1 khyaathi-python khyaathi-python 19830 Feb 26 09:29 conditional statements.ipynb\n",
      "-rw-r--r-- 1 khyaathi-python khyaathi-python    21 Mar 16 08:46 data1.csv\n",
      "-rw-r--r-- 1 khyaathi-python khyaathi-python  1142 Mar 16 08:53 data2.csv\n",
      "-rw-r--r-- 1 khyaathi-python khyaathi-python    81 Mar 17 08:43 data4.txt\n",
      "-rw-r--r-- 1 khyaathi-python khyaathi-python   419 Mar 20 08:36 data.csv\n",
      "-rw-r--r-- 1 khyaathi-python khyaathi-python   583 Mar 17 08:36 data.json\n",
      "-rw-r--r-- 1 khyaathi-python khyaathi-python 13050 Feb 20 09:19 datatypes2.ipynb\n",
      "-rw-r--r-- 1 khyaathi-python khyaathi-python 39576 Feb 21 09:17 datatypes3.ipynb\n",
      "-rw-r--r-- 1 khyaathi-python khyaathi-python  7200 Feb 24 08:24 datatypes.ipynb\n",
      "-rw-r--r-- 1 khyaathi-python khyaathi-python   117 Mar 17 08:32 data.yaml\n",
      "-rw-r--r-- 1 khyaathi-python khyaathi-python  8192 Mar 24 10:03 db1.db\n",
      "-rw-r--r-- 1 khyaathi-python khyaathi-python 64402 Mar 27 08:37 device automation.ipynb\n",
      "-rw-r--r-- 1 khyaathi-python khyaathi-python 44828 Mar 13 09:00 dictionaries.ipynb\n",
      "-rw-r--r-- 1 khyaathi-python khyaathi-python 40756 Mar 19 09:16 exceptions.ipynb\n",
      "-rw-r--r-- 1 khyaathi-python khyaathi-python 45206 Mar 19 08:32 files-database.ipynb\n",
      "-rw-r--r-- 1 khyaathi-python khyaathi-python 12436 Mar 16 08:55 files.ipynb\n",
      "-rw-r--r-- 1 khyaathi-python khyaathi-python 46878 Mar 22 07:30 fun1.jpg\n",
      "-rw-r--r-- 1 khyaathi-python khyaathi-python 44473 Mar  3 08:18 fun1_mem.jpg\n",
      "-rw-r--r-- 1 khyaathi-python khyaathi-python 43845 Mar  3 08:22 fun2_mem.jpg\n",
      "-rw-r--r-- 1 khyaathi-python khyaathi-python 57614 Mar  3 08:35 fun4_mem.jpg\n",
      "-rw-r--r-- 1 khyaathi-python khyaathi-python 30296 Mar  3 08:42 fun5_mem.jpg\n",
      "-rw-r--r-- 1 khyaathi-python khyaathi-python 57578 Mar  9 09:07 functions4.ipynb\n",
      "-rw-r--r-- 1 khyaathi-python khyaathi-python 34322 Mar  3 09:56 functions-string slicing.ipynb\n",
      "-rw-r--r-- 1 khyaathi-python khyaathi-python 25996 Mar 12 09:04 functions-yield map, lambda, list and tuple comprehension.ipynb\n",
      "-rw-r--r-- 1 khyaathi-python khyaathi-python 66293 Mar  2 09:20 fun_mem.jpg\n",
      "-rw-r--r-- 1 khyaathi-python khyaathi-python    57 Mar  1 09:29 infinite.py\n",
      "-rw-r--r-- 1 khyaathi-python khyaathi-python 39564 Mar  3 08:53 int_assign.jpg\n",
      "-rw-r--r-- 1 khyaathi-python khyaathi-python 44993 Feb 17 08:27 int memory organization.jpg\n",
      "-rw-r--r-- 1 khyaathi-python khyaathi-python 65674 Mar  8 08:32 list1.jpg\n",
      "-rw-r--r-- 1 khyaathi-python khyaathi-python 67913 Mar  8 08:35 list2.jpg\n",
      "-rw-r--r-- 1 khyaathi-python khyaathi-python 28639 Mar  8 09:43 list3.jpg\n",
      "-rw-r--r-- 1 khyaathi-python khyaathi-python 74090 Mar  8 09:38 lists.ipynb\n",
      "drwxr-xr-x 2 khyaathi-python khyaathi-python  4096 Mar 20 09:17 loggin_modules\n",
      "-rw-r--r-- 1 khyaathi-python khyaathi-python 27939 Mar  2 09:05 loop-examples-functions intro.ipynb\n",
      "-rw-r--r-- 1 khyaathi-python khyaathi-python 30705 Mar  1 09:26 looping control statements.ipynb\n",
      "-rw-r--r-- 1 khyaathi-python khyaathi-python   461 Mar 22 09:30 mails.txt\n",
      "-rw-r--r-- 1 khyaathi-python khyaathi-python  6005 Feb 17 09:03 memory organization.ipynb\n",
      "drwxr-xr-x 2 khyaathi-python khyaathi-python  4096 Feb 16 08:18 modules\n",
      "-rw-r--r-- 1 khyaathi-python khyaathi-python 44357 Feb 17 08:54 mutable and immutable.jpg\n",
      "-rw-r--r-- 1 khyaathi-python khyaathi-python 70944 Mar 24 10:04 oops2.ipynb\n",
      "-rw-r--r-- 1 khyaathi-python khyaathi-python 41139 Mar 25 09:35 oops3.ipynb\n",
      "-rw-r--r-- 1 khyaathi-python khyaathi-python 15787 Mar 26 08:34 oops4.ipynb\n",
      "-rw-r--r-- 1 khyaathi-python khyaathi-python 59267 Mar 22 09:19 oops.ipynb\n",
      "-rw-r--r-- 1 khyaathi-python khyaathi-python 41908 Feb 23 09:24 print formatspecifiers.ipynb\n",
      "-rw-r--r-- 1 khyaathi-python khyaathi-python 40870 Feb 22 09:15 print format specifiers raw_input.ipynb\n",
      "drwxr-xr-x 3 khyaathi-python khyaathi-python  4096 Mar 16 08:32 py_modules\n",
      "-rw-r--r-- 1 khyaathi-python khyaathi-python  3331 Mar 15 09:00 py_modules.zip\n",
      "-rw-r--r-- 1 khyaathi-python khyaathi-python 57335 Mar 20 09:11 reg.ipynb\n",
      "-rw-r--r-- 1 khyaathi-python khyaathi-python 12973 Mar 27 08:28 singleton.ipynb\n",
      "drwxr-xr-x 2 khyaathi-python khyaathi-python  4096 Mar 21 08:41 socket_program\n",
      "-rw-r--r-- 1 khyaathi-python khyaathi-python  1166 Mar 21 09:44 socket_program.zip\n",
      "-rw-r--r-- 1 khyaathi-python khyaathi-python 43697 Mar  6 09:30 string function2.ipynb\n",
      "-rw-r--r-- 1 khyaathi-python khyaathi-python 24729 Mar  5 09:03 string-functions.ipynb\n",
      "-rw-r--r-- 1 khyaathi-python khyaathi-python 33231 Mar  7 09:14 strings3.ipynb\n",
      "-rw-r--r-- 1 khyaathi-python khyaathi-python 38336 Feb 17 08:43 strings memory organization.jpg\n",
      "-rw-r--r-- 1 khyaathi-python khyaathi-python  8415 Feb 24 09:31 Untitled1.ipynb\n",
      "-rw-r--r-- 1 khyaathi-python khyaathi-python  5891 Feb 26 08:07 Untitled2.ipynb\n",
      "-rw-r--r-- 1 khyaathi-python khyaathi-python 26221 Feb 16 09:00 Untitled4.ipynb\n",
      "-rw-r--r-- 1 khyaathi-python khyaathi-python   582 Feb 16 08:05 Untitled.ipynb\n",
      "\n"
     ]
    }
   ],
   "source": [
    "print res"
   ]
  },
  {
   "cell_type": "code",
   "execution_count": 10,
   "metadata": {},
   "outputs": [
    {
     "name": "stdout",
     "output_type": "stream",
     "text": [
      "<type 'str'>\n"
     ]
    }
   ],
   "source": [
    "print type(res)"
   ]
  },
  {
   "cell_type": "code",
   "execution_count": 11,
   "metadata": {
    "collapsed": true
   },
   "outputs": [],
   "source": [
    "import paramiko as pmk"
   ]
  },
  {
   "cell_type": "code",
   "execution_count": 12,
   "metadata": {
    "collapsed": true
   },
   "outputs": [],
   "source": [
    "ssh= pmk.SSHClient()"
   ]
  },
  {
   "cell_type": "code",
   "execution_count": 13,
   "metadata": {},
   "outputs": [
    {
     "ename": "TypeError",
     "evalue": "connect() takes at least 2 arguments (1 given)",
     "output_type": "error",
     "traceback": [
      "\u001b[0;31m---------------------------------------------------------------------------\u001b[0m",
      "\u001b[0;31mTypeError\u001b[0m                                 Traceback (most recent call last)",
      "\u001b[0;32m<ipython-input-13-10df8043619b>\u001b[0m in \u001b[0;36m<module>\u001b[0;34m()\u001b[0m\n\u001b[0;32m----> 1\u001b[0;31m \u001b[0mssh\u001b[0m\u001b[0;34m.\u001b[0m\u001b[0mconnect\u001b[0m\u001b[0;34m(\u001b[0m\u001b[0;34m)\u001b[0m\u001b[0;34m\u001b[0m\u001b[0m\n\u001b[0m",
      "\u001b[0;31mTypeError\u001b[0m: connect() takes at least 2 arguments (1 given)"
     ]
    }
   ],
   "source": [
    "ssh.connect()"
   ]
  },
  {
   "cell_type": "code",
   "execution_count": 14,
   "metadata": {
    "collapsed": true
   },
   "outputs": [],
   "source": [
    "import paramiko as pmk\n",
    "import re\n",
    "ssh = pmk.SSHClient()\n",
    "ssh.set_missing_host_key_policy(pmk.AutoAddPolicy())\n",
    "user=\"\"\n",
    "password=\"\"\n",
    "host=\"localhost\"\n",
    "ssh.connect(host,username=user,password=password)"
   ]
  },
  {
   "cell_type": "code",
   "execution_count": 15,
   "metadata": {},
   "outputs": [
    {
     "data": {
      "text/plain": [
       "(<paramiko.ChannelFile from <paramiko.Channel 0 (closed) -> <paramiko.Transport at 0x6dbc5d90L (cipher aes128-ctr, 128 bits) (active; 0 open channel(s))>>>,\n",
       " <paramiko.ChannelFile from <paramiko.Channel 0 (closed) -> <paramiko.Transport at 0x6dbc5d90L (cipher aes128-ctr, 128 bits) (active; 0 open channel(s))>>>,\n",
       " <paramiko.ChannelFile from <paramiko.Channel 0 (closed) -> <paramiko.Transport at 0x6dbc5d90L (cipher aes128-ctr, 128 bits) (active; 0 open channel(s))>>>)"
      ]
     },
     "execution_count": 15,
     "metadata": {},
     "output_type": "execute_result"
    }
   ],
   "source": [
    "ssh.exec_command(\"ls -l\")"
   ]
  },
  {
   "cell_type": "code",
   "execution_count": 16,
   "metadata": {
    "collapsed": true
   },
   "outputs": [],
   "source": [
    "inp, outp, erp = ssh.exec_command(\"ls -l\")"
   ]
  },
  {
   "cell_type": "code",
   "execution_count": 17,
   "metadata": {
    "collapsed": true
   },
   "outputs": [],
   "source": [
    "data = outp.read()"
   ]
  },
  {
   "cell_type": "code",
   "execution_count": 18,
   "metadata": {},
   "outputs": [
    {
     "name": "stdout",
     "output_type": "stream",
     "text": [
      "total 472\n",
      "-rw-r--r--  1 khyaathi-python khyaathi-python   282 Feb 17 10:35 a.html\n",
      "drwxr-xr-x 22 khyaathi-python khyaathi-python  4096 Dec  1 09:51 anaconda2\n",
      "-rw-r--r--  1 khyaathi-python khyaathi-python     0 Dec 28 09:03 app1.py\n",
      "-rw-r--r--  1 khyaathi-python khyaathi-python    21 Dec 28 09:02 app.py\n",
      "-rw-r--r--  1 khyaathi-python khyaathi-python 37152 Feb 17 10:55 app structure.jpg\n",
      "-rw-r--r--  1 khyaathi-python khyaathi-python    14 Feb 27 09:21 a.py\n",
      "-rw-r--r--  1 khyaathi-python khyaathi-python   104 Feb 10 08:24 data1.csv\n",
      "drwxr-xr-x  3 khyaathi-python khyaathi-python  4096 Feb 21 10:49 Desktop\n",
      "-rw-r--r--  1 khyaathi-python khyaathi-python  1361 Feb 18 10:25 django content\n",
      "drwxr-xr-x  2 khyaathi-python khyaathi-python  4096 Feb 10 08:25 Documents\n",
      "drwxr-xr-x  5 khyaathi-python khyaathi-python 12288 Mar 26 09:18 Downloads\n",
      "-rw-r--r--  1 khyaathi-python khyaathi-python  8980 Nov 29 14:53 examples.desktop\n",
      "-rw-r--r--  1 khyaathi-python khyaathi-python    45 Mar 15 08:25 f3.py\n",
      "-rw-r--r--  1 khyaathi-python khyaathi-python   266 Mar 15 08:29 f3.pyc\n",
      "-rw-r--r--  1 khyaathi-python khyaathi-python    29 Dec 27 07:57 file3.py\n",
      "-rw-r--r--  1 khyaathi-python khyaathi-python   148 Dec 27 07:59 file3.pyc\n",
      "-rw-r--r--  1 khyaathi-python khyaathi-python     0 Dec 20 10:20 first.py\n",
      "-rw-r--r--  1 khyaathi-python khyaathi-python 57578 Mar  9 09:07 functions4.ipynb\n",
      "-rw-r--r--  1 khyaathi-python khyaathi-python    20 Dec 20 10:17 hello.py\n",
      "-rw-r--r--  1 khyaathi-python khyaathi-python     0 Jan 23 08:33 hr.py\n",
      "-rw-r--r--  1 khyaathi-python khyaathi-python 10753 Mar 18 10:22 images.jpeg\n",
      "-rw-r--r--  1 khyaathi-python khyaathi-python  5147 Mar 18 10:03 index.jpeg\n",
      "-rw-r--r--  1 khyaathi-python khyaathi-python 44030 Feb 24 09:25 int mem.jpg\n",
      "-rw-r--r--  1 khyaathi-python khyaathi-python     0 Dec  3 09:22 log.py\n",
      "drwxr-xr-x  2 khyaathi-python khyaathi-python  4096 Jan 25 22:01 Madan python\n",
      "drwxr-xr-x  2 khyaathi-python khyaathi-python  4096 Nov 29 15:02 Music\n",
      "-rw-r--r--  1 khyaathi-python khyaathi-python   354 Dec 14 08:37 pgadmin.log\n",
      "drwxr-xr-x  2 khyaathi-python khyaathi-python  4096 Nov 29 15:02 Pictures\n",
      "drwxr-xr-x  4 khyaathi-python khyaathi-python  4096 Feb 11 09:23 proj_batch41\n",
      "-rw-r--r--  1 khyaathi-python khyaathi-python 20232 Feb 11 09:33 proj_batch41.zip\n",
      "drwxr-xr-x  2 khyaathi-python khyaathi-python  4096 Nov 29 15:02 Public\n",
      "-rw-r--r--  1 khyaathi-python khyaathi-python     5 Dec 28 09:04 pur.py\n",
      "drwxr-xr-x 12 khyaathi-python khyaathi-python  4096 Mar 17 08:13 pythonexamples\n",
      "-rw-r--r--  1 khyaathi-python khyaathi-python   269 Dec 20 10:39 readinput.py\n",
      "-rw-r--r--  1 khyaathi-python khyaathi-python     5 Dec 28 09:04 sales.py\n",
      "-rw-r--r--  1 khyaathi-python khyaathi-python     0 Dec  3 08:45 service.py\n",
      "-rw-r--r--  1 khyaathi-python khyaathi-python 58443 Feb 24 09:25 string mem.jpg\n",
      "drwxr-xr-x  2 khyaathi-python khyaathi-python  4096 Nov 29 15:02 Templates\n",
      "-rw-r--r--  1 khyaathi-python khyaathi-python   154 Dec  3 07:45 udata.csv\n",
      "-rw-r--r--  1 khyaathi-python khyaathi-python  1486 Dec  8 07:23 Untitled1.ipynb\n",
      "-rw-r--r--  1 khyaathi-python khyaathi-python  8284 Dec  9 08:01 Untitled2.ipynb\n",
      "-rw-r--r--  1 khyaathi-python khyaathi-python 12454 Dec 16 10:50 Untitled3.ipynb\n",
      "-rw-r--r--  1 khyaathi-python khyaathi-python  9783 Dec 17 11:43 Untitled4.ipynb\n",
      "-rw-r--r--  1 khyaathi-python khyaathi-python  6021 Dec 28 09:13 Untitled5.ipynb\n",
      "-rw-r--r--  1 khyaathi-python khyaathi-python  7469 Jan 23 08:27 Untitled6.ipynb\n",
      "-rw-r--r--  1 khyaathi-python khyaathi-python   582 Feb 10 10:40 Untitled7.ipynb\n",
      "-rw-r--r--  1 khyaathi-python khyaathi-python  1753 Feb 10 11:09 Untitled8.ipynb\n",
      "-rw-r--r--  1 khyaathi-python khyaathi-python 31143 Dec  3 14:04 Untitled.ipynb\n",
      "drwxr-xr-x  2 khyaathi-python khyaathi-python  4096 Nov 29 15:02 Videos\n",
      "-rw-r--r--  1 khyaathi-python khyaathi-python     0 Jan 23 08:34 war.py\n",
      "\n"
     ]
    }
   ],
   "source": [
    "print data"
   ]
  },
  {
   "cell_type": "code",
   "execution_count": 19,
   "metadata": {
    "collapsed": true
   },
   "outputs": [],
   "source": [
    "inp, outp, erp = ssh.exec_command(\"mkdir local\")"
   ]
  },
  {
   "cell_type": "code",
   "execution_count": 20,
   "metadata": {
    "collapsed": true
   },
   "outputs": [],
   "source": [
    "inp, outp, erp = ssh.exec_command(\"mkdir remote\")"
   ]
  },
  {
   "cell_type": "code",
   "execution_count": 21,
   "metadata": {
    "collapsed": true
   },
   "outputs": [],
   "source": [
    "inp, outp, erp = ssh.exec_command(\"rm -r remowertyuytrewqte\")"
   ]
  },
  {
   "cell_type": "code",
   "execution_count": 22,
   "metadata": {},
   "outputs": [
    {
     "data": {
      "text/plain": [
       "\"rm: cannot remove 'remowertyuytrewqte': No such file or directory\\n\""
      ]
     },
     "execution_count": 22,
     "metadata": {},
     "output_type": "execute_result"
    }
   ],
   "source": [
    "erp.read()"
   ]
  },
  {
   "cell_type": "code",
   "execution_count": 23,
   "metadata": {
    "collapsed": true
   },
   "outputs": [],
   "source": [
    "inp, outp, erp = ssh.exec_command(\"echo %s| sudo -S ls /proc\"%password)"
   ]
  },
  {
   "cell_type": "code",
   "execution_count": 24,
   "metadata": {},
   "outputs": [
    {
     "name": "stdout",
     "output_type": "stream",
     "text": [
      "1\n",
      "10\n",
      "11\n",
      "11098\n",
      "113\n",
      "114\n",
      "115\n",
      "12\n",
      "13\n",
      "13178\n",
      "13181\n",
      "13249\n",
      "13250\n",
      "1370\n",
      "1378\n",
      "14\n",
      "1403\n",
      "14823\n",
      "15\n",
      "157\n",
      "15742\n",
      "1580\n",
      "1586\n",
      "1587\n",
      "1588\n",
      "1589\n",
      "1590\n",
      "16\n",
      "16513\n",
      "16548\n",
      "16578\n",
      "166\n",
      "167\n",
      "168\n",
      "169\n",
      "16962\n",
      "17\n",
      "1723\n",
      "17239\n",
      "17433\n",
      "17496\n",
      "1766\n",
      "17711\n",
      "1778\n",
      "17784\n",
      "17786\n",
      "17789\n",
      "17790\n",
      "17791\n",
      "17792\n",
      "17793\n",
      "17794\n",
      "17795\n",
      "17796\n",
      "17797\n",
      "17798\n",
      "1785\n",
      "1789\n",
      "18\n",
      "1836\n",
      "1840\n",
      "1872\n",
      "1897\n",
      "19\n",
      "1902\n",
      "191\n",
      "1915\n",
      "192\n",
      "1945\n",
      "1948\n",
      "1989\n",
      "2\n",
      "20\n",
      "2034\n",
      "2036\n",
      "2045\n",
      "2046\n",
      "2050\n",
      "2055\n",
      "2068\n",
      "2089\n",
      "2098\n",
      "21\n",
      "2105\n",
      "2113\n",
      "2115\n",
      "2119\n",
      "2121\n",
      "2126\n",
      "2144\n",
      "2152\n",
      "2154\n",
      "2168\n",
      "22\n",
      "2255\n",
      "226\n",
      "2272\n",
      "2276\n",
      "23\n",
      "2322\n",
      "2324\n",
      "2326\n",
      "233\n",
      "2356\n",
      "2373\n",
      "2381\n",
      "24\n",
      "2403\n",
      "2419\n",
      "2421\n",
      "2424\n",
      "2427\n",
      "2431\n",
      "2434\n",
      "2438\n",
      "2439\n",
      "2441\n",
      "2447\n",
      "2450\n",
      "2456\n",
      "2482\n",
      "2487\n",
      "25\n",
      "2507\n",
      "2513\n",
      "2514\n",
      "253\n",
      "2540\n",
      "2547\n",
      "2558\n",
      "2562\n",
      "2566\n",
      "2572\n",
      "2574\n",
      "2579\n",
      "2586\n",
      "26\n",
      "2611\n",
      "2620\n",
      "2622\n",
      "2643\n",
      "2662\n",
      "27\n",
      "2715\n",
      "2722\n",
      "2726\n",
      "2734\n",
      "2799\n",
      "28\n",
      "2808\n",
      "2865\n",
      "3\n",
      "3138\n",
      "3144\n",
      "3177\n",
      "32\n",
      "3257\n",
      "33\n",
      "3308\n",
      "34\n",
      "341\n",
      "409\n",
      "5\n",
      "5043\n",
      "6072\n",
      "6084\n",
      "6085\n",
      "6125\n",
      "613\n",
      "614\n",
      "620\n",
      "623\n",
      "626\n",
      "631\n",
      "632\n",
      "646\n",
      "650\n",
      "657\n",
      "685\n",
      "692\n",
      "7\n",
      "7012\n",
      "7030\n",
      "704\n",
      "715\n",
      "73\n",
      "74\n",
      "75\n",
      "76\n",
      "77\n",
      "78\n",
      "79\n",
      "8\n",
      "80\n",
      "81\n",
      "82\n",
      "83\n",
      "84\n",
      "85\n",
      "851\n",
      "86\n",
      "873\n",
      "874\n",
      "884\n",
      "9\n",
      "92\n",
      "934\n",
      "943\n",
      "945\n",
      "961\n",
      "acpi\n",
      "asound\n",
      "buddyinfo\n",
      "bus\n",
      "cgroups\n",
      "cmdline\n",
      "consoles\n",
      "cpuinfo\n",
      "crypto\n",
      "devices\n",
      "diskstats\n",
      "dma\n",
      "driver\n",
      "execdomains\n",
      "fb\n",
      "filesystems\n",
      "fs\n",
      "interrupts\n",
      "iomem\n",
      "ioports\n",
      "irq\n",
      "kallsyms\n",
      "kcore\n",
      "keys\n",
      "key-users\n",
      "kmsg\n",
      "kpagecgroup\n",
      "kpagecount\n",
      "kpageflags\n",
      "loadavg\n",
      "locks\n",
      "mdstat\n",
      "meminfo\n",
      "misc\n",
      "modules\n",
      "mounts\n",
      "mtrr\n",
      "net\n",
      "pagetypeinfo\n",
      "partitions\n",
      "sched_debug\n",
      "schedstat\n",
      "scsi\n",
      "self\n",
      "slabinfo\n",
      "softirqs\n",
      "stat\n",
      "swaps\n",
      "sys\n",
      "sysrq-trigger\n",
      "sysvipc\n",
      "thread-self\n",
      "timer_list\n",
      "timer_stats\n",
      "tty\n",
      "uptime\n",
      "version\n",
      "version_signature\n",
      "vmallocinfo\n",
      "vmstat\n",
      "zoneinfo\n",
      "\n"
     ]
    }
   ],
   "source": [
    "print outp.read()"
   ]
  },
  {
   "cell_type": "code",
   "execution_count": 25,
   "metadata": {
    "collapsed": true
   },
   "outputs": [],
   "source": [
    "sftp = ssh.open_sftp()"
   ]
  },
  {
   "cell_type": "code",
   "execution_count": 26,
   "metadata": {},
   "outputs": [
    {
     "data": {
      "text/plain": [
       "<SFTPAttributes: [ size=21 uid=1000 gid=1000 mode=0100664 atime=1522120971 mtime=1522120971 ]>"
      ]
     },
     "execution_count": 26,
     "metadata": {},
     "output_type": "execute_result"
    }
   ],
   "source": [
    "sftp.put(\"/home/khyaathi-python/local/a.py\",\"/home/khyaathi-python/remote/b.py\")"
   ]
  },
  {
   "cell_type": "code",
   "execution_count": 27,
   "metadata": {
    "collapsed": true
   },
   "outputs": [],
   "source": [
    "sftp.get(\"/home/khyaathi-python/remote/b.py\",\"/home/khyaathi-python/local/c.py\")"
   ]
  },
  {
   "cell_type": "code",
   "execution_count": null,
   "metadata": {
    "collapsed": true
   },
   "outputs": [],
   "source": []
  }
 ],
 "metadata": {
  "kernelspec": {
   "display_name": "Python 2",
   "language": "python",
   "name": "python2"
  },
  "language_info": {
   "codemirror_mode": {
    "name": "ipython",
    "version": 2
   },
   "file_extension": ".py",
   "mimetype": "text/x-python",
   "name": "python",
   "nbconvert_exporter": "python",
   "pygments_lexer": "ipython2",
   "version": "2.7.14"
  }
 },
 "nbformat": 4,
 "nbformat_minor": 2
}
