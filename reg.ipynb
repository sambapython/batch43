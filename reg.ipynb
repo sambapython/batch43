{
 "cells": [
  {
   "cell_type": "code",
   "execution_count": 1,
   "metadata": {},
   "outputs": [
    {
     "name": "stdout",
     "output_type": "stream",
     "text": [
      "program started\n",
      "try\n",
      "finally\n",
      "main block statements\n"
     ]
    }
   ],
   "source": [
    "print \"program started\"\n",
    "try:\n",
    "    print \"try\"\n",
    "except:\n",
    "    print \"except\"\n",
    "finally:\n",
    "    print \"finally\"\n",
    "print \"main block statements\""
   ]
  },
  {
   "cell_type": "code",
   "execution_count": 2,
   "metadata": {},
   "outputs": [
    {
     "name": "stdout",
     "output_type": "stream",
     "text": [
      "program started\n",
      "try\n",
      "except\n",
      "finally\n",
      "main block statements\n"
     ]
    }
   ],
   "source": [
    "print \"program started\"\n",
    "try:\n",
    "    print \"try\"\n",
    "    print 1/0\n",
    "except:\n",
    "    print \"except\"\n",
    "finally:\n",
    "    print \"finally\"\n",
    "print \"main block statements\""
   ]
  },
  {
   "cell_type": "code",
   "execution_count": 3,
   "metadata": {},
   "outputs": [
    {
     "name": "stdout",
     "output_type": "stream",
     "text": [
      "program started\n",
      "try\n",
      "finally\n"
     ]
    },
    {
     "ename": "ZeroDivisionError",
     "evalue": "integer division or modulo by zero",
     "output_type": "error",
     "traceback": [
      "\u001b[0;31m---------------------------------------------------------------------------\u001b[0m",
      "\u001b[0;31mZeroDivisionError\u001b[0m                         Traceback (most recent call last)",
      "\u001b[0;32m<ipython-input-3-3cfb6bd021ec>\u001b[0m in \u001b[0;36m<module>\u001b[0;34m()\u001b[0m\n\u001b[1;32m      2\u001b[0m \u001b[0;32mtry\u001b[0m\u001b[0;34m:\u001b[0m\u001b[0;34m\u001b[0m\u001b[0m\n\u001b[1;32m      3\u001b[0m     \u001b[0;32mprint\u001b[0m \u001b[0;34m\"try\"\u001b[0m\u001b[0;34m\u001b[0m\u001b[0m\n\u001b[0;32m----> 4\u001b[0;31m     \u001b[0;32mprint\u001b[0m \u001b[0;36m1\u001b[0m\u001b[0;34m/\u001b[0m\u001b[0;36m0\u001b[0m\u001b[0;34m\u001b[0m\u001b[0m\n\u001b[0m\u001b[1;32m      5\u001b[0m \u001b[0;32mfinally\u001b[0m\u001b[0;34m:\u001b[0m\u001b[0;34m\u001b[0m\u001b[0m\n\u001b[1;32m      6\u001b[0m     \u001b[0;32mprint\u001b[0m \u001b[0;34m\"finally\"\u001b[0m\u001b[0;34m\u001b[0m\u001b[0m\n",
      "\u001b[0;31mZeroDivisionError\u001b[0m: integer division or modulo by zero"
     ]
    }
   ],
   "source": [
    "print \"program started\"\n",
    "try:\n",
    "    print \"try\"\n",
    "    print 1/0\n",
    "finally:\n",
    "    print \"finally\"\n",
    "print \"main block statements\""
   ]
  },
  {
   "cell_type": "code",
   "execution_count": 4,
   "metadata": {},
   "outputs": [
    {
     "name": "stdout",
     "output_type": "stream",
     "text": [
      "st1\n",
      "a= 10\n"
     ]
    }
   ],
   "source": [
    "def fun():\n",
    "    print \"st1\"\n",
    "    return 10\n",
    "    print \"st2\"\n",
    "    return 20\n",
    "a=fun()\n",
    "print \"a=\",a"
   ]
  },
  {
   "cell_type": "code",
   "execution_count": 5,
   "metadata": {},
   "outputs": [
    {
     "name": "stdout",
     "output_type": "stream",
     "text": [
      "st1\n",
      "st2\n",
      "finally\n",
      "other staements in function\n",
      "result: 100\n"
     ]
    }
   ],
   "source": [
    "def fun():\n",
    "    try:\n",
    "        print \"st1\"\n",
    "        #return 10\n",
    "        print \"st2\"\n",
    "        #return 20\n",
    "    except:\n",
    "        print \"except\"\n",
    "    finally:\n",
    "        print \"finally\"\n",
    "    print \"other staements in function\"\n",
    "    return 100\n",
    "res=fun()\n",
    "print \"result:\",res"
   ]
  },
  {
   "cell_type": "code",
   "execution_count": 6,
   "metadata": {},
   "outputs": [
    {
     "name": "stdout",
     "output_type": "stream",
     "text": [
      "st1\n",
      "finally\n",
      "result: 10\n"
     ]
    }
   ],
   "source": [
    "def fun():\n",
    "    try:\n",
    "        print \"st1\"\n",
    "        return 10\n",
    "        print \"st2\"\n",
    "        return 20\n",
    "    except:\n",
    "        print \"except\"\n",
    "    finally:\n",
    "        print \"finally\"\n",
    "    print \"other staements in function\"\n",
    "    return 100\n",
    "res=fun()\n",
    "print \"result:\",res"
   ]
  },
  {
   "cell_type": "code",
   "execution_count": 7,
   "metadata": {},
   "outputs": [
    {
     "name": "stdout",
     "output_type": "stream",
     "text": [
      "st1\n",
      "finally\n",
      "result: 200\n"
     ]
    }
   ],
   "source": [
    "def fun():\n",
    "    try:\n",
    "        print \"st1\"\n",
    "        return 10\n",
    "        print \"st2\"\n",
    "        return 20\n",
    "    except:\n",
    "        print \"except\"\n",
    "    finally:\n",
    "        print \"finally\"\n",
    "        return 200\n",
    "    print \"other staements in function\"\n",
    "    return 100\n",
    "res=fun()\n",
    "print \"result:\",res"
   ]
  },
  {
   "cell_type": "code",
   "execution_count": 9,
   "metadata": {},
   "outputs": [
    {
     "name": "stdout",
     "output_type": "stream",
     "text": [
      "program started\n",
      "try for: 0\n",
      "finally for : 0\n",
      "other statements in loop for: 0\n",
      "try for: 1\n",
      "finally for : 1\n",
      "other statements in loop for: 1\n",
      "try for: 2\n",
      "finally for : 2\n",
      "other statements in program\n",
      "progeam ended\n"
     ]
    }
   ],
   "source": [
    "print \"program started\"\n",
    "for i in range(10):\n",
    "    try:\n",
    "        print \"try for:\",i\n",
    "        if i==2:\n",
    "            break\n",
    "    except:\n",
    "        print \"except for:\",i\n",
    "    finally:\n",
    "        print \"finally for :\",i\n",
    "    print \"other statements in loop for:\",i\n",
    "print \"other statements in program\"\n",
    "print \"progeam ended\""
   ]
  },
  {
   "cell_type": "code",
   "execution_count": 12,
   "metadata": {
    "collapsed": true
   },
   "outputs": [],
   "source": [
    "f=open(\"data.csv\",\"w\")\n",
    "for i in range(10):\n",
    "    f.write(\"name:%s, age:%s,967662202%s,email%s@gmail.com\\n\"%(i,i,i,i))\n",
    "f.close()"
   ]
  },
  {
   "cell_type": "code",
   "execution_count": 13,
   "metadata": {},
   "outputs": [
    {
     "name": "stdout",
     "output_type": "stream",
     "text": [
      "name:0, age:0,9676622020,email0@gmail.com\n",
      "\n",
      "name:1, age:1,9676622021,email1@gmail.com\n",
      "\n",
      "name:2, age:2,9676622022,email2@gmail.com\n",
      "\n",
      "name:3, age:3,9676622023,email3@gmail.com\n",
      "\n",
      "name:4, age:4,9676622024,email4@gmail.com\n",
      "\n",
      "name:5, age:5,9676622025,email5@gmail.com\n",
      "\n",
      "name:6, age:6,9676622026,email6@gmail.com\n",
      "\n",
      "name:7, age:7,9676622027,email7@gmail.com\n",
      "\n",
      "name:8, age:8,9676622028,email8@gmail.com\n",
      "\n",
      "name:9, age:9,9676622029,email9@gmail.com\n",
      "\n"
     ]
    }
   ],
   "source": [
    "for row in open(\"data.csv\"):\n",
    "    print row"
   ]
  },
  {
   "cell_type": "code",
   "execution_count": 14,
   "metadata": {},
   "outputs": [
    {
     "name": "stdout",
     "output_type": "stream",
     "text": [
      "['name:0', ' age:0', '9676622020', 'email0@gmail.com\\n']\n",
      "['name:1', ' age:1', '9676622021', 'email1@gmail.com\\n']\n",
      "['name:2', ' age:2', '9676622022', 'email2@gmail.com\\n']\n",
      "['name:3', ' age:3', '9676622023', 'email3@gmail.com\\n']\n",
      "['name:4', ' age:4', '9676622024', 'email4@gmail.com\\n']\n",
      "['name:5', ' age:5', '9676622025', 'email5@gmail.com\\n']\n",
      "['name:6', ' age:6', '9676622026', 'email6@gmail.com\\n']\n",
      "['name:7', ' age:7', '9676622027', 'email7@gmail.com\\n']\n",
      "['name:8', ' age:8', '9676622028', 'email8@gmail.com\\n']\n",
      "['name:9', ' age:9', '9676622029', 'email9@gmail.com\\n']\n"
     ]
    }
   ],
   "source": [
    "for row in open(\"data.csv\"):\n",
    "    print row.split(\",\")"
   ]
  },
  {
   "cell_type": "code",
   "execution_count": 15,
   "metadata": {},
   "outputs": [
    {
     "name": "stdout",
     "output_type": "stream",
     "text": [
      "9676622020\n",
      "9676622021\n",
      "9676622022\n",
      "9676622023\n",
      "9676622024\n",
      "9676622025\n",
      "9676622026\n",
      "9676622027\n",
      "9676622028\n",
      "9676622029\n"
     ]
    }
   ],
   "source": [
    "for row in open(\"data.csv\"):\n",
    "    print row.split(\",\")[2]"
   ]
  },
  {
   "cell_type": "code",
   "execution_count": 16,
   "metadata": {},
   "outputs": [
    {
     "name": "stdout",
     "output_type": "stream",
     "text": [
      "email0@gmail.com\n",
      "\n",
      "email1@gmail.com\n",
      "\n",
      "email2@gmail.com\n",
      "\n",
      "email3@gmail.com\n",
      "\n",
      "email4@gmail.com\n",
      "\n",
      "email5@gmail.com\n",
      "\n",
      "email6@gmail.com\n",
      "\n",
      "email7@gmail.com\n",
      "\n",
      "email8@gmail.com\n",
      "\n",
      "email9@gmail.com\n",
      "\n"
     ]
    }
   ],
   "source": [
    "for row in open(\"data.csv\"):\n",
    "    print row.split(\",\")[3]"
   ]
  },
  {
   "cell_type": "code",
   "execution_count": 17,
   "metadata": {},
   "outputs": [
    {
     "name": "stdout",
     "output_type": "stream",
     "text": [
      "name:0, age:0,9676622020,email0@gmail.com\n",
      "name:1, age:1,9676622021,email1@gmail.com\n",
      "name:2, age:2,9676622022,email2@gmail.com\n",
      "name:3, age:3,9676622023,email3@gmail.com\n",
      "name:4, age:4,9676622024,email4@gmail.com\n",
      "name:5, age:5,9676622025,email5@gmail.com\n",
      "name:6, age:6,9676622026,email6@gmail.com\n",
      "name:7, age:7,9676622027,email7@gmail.com\n",
      "name:8, age:8,9676622028,email8@gmail.com\n",
      "name:9, age:9,9676622029,email9@gmail.com\n",
      "\n"
     ]
    }
   ],
   "source": [
    "f=open(\"data.csv\")\n",
    "data=f.read()\n",
    "print data"
   ]
  },
  {
   "cell_type": "code",
   "execution_count": 18,
   "metadata": {},
   "outputs": [
    {
     "name": "stdout",
     "output_type": "stream",
     "text": [
      "name:0, age:0,9676622020,email0@gmail.com\n",
      "email1@gmail.com,name:1, age:1,9676622021\n",
      "9676622022,name:2, age:2,email2@gmail.com\n",
      "age:3,name:3, 9676622023,email3@gmail.com\n",
      "email4@gmail.com,name:4, age:4,9676622024\n",
      "9676622025,name:5, age:5,email5@gmail.com\n",
      "age:6,name:6, 9676622026,email6@gmail.com\n",
      "name:7, age:7,email7@gmail.com,9676622027\n",
      "9676622028,name:8, age:8,email8@gmail.com\n",
      "name:9, age:9,email9@gmail.com,9676622029\n",
      "\n"
     ]
    }
   ],
   "source": [
    "f=open(\"data.csv\")\n",
    "data=f.read()\n",
    "print data"
   ]
  },
  {
   "cell_type": "code",
   "execution_count": 20,
   "metadata": {},
   "outputs": [
    {
     "name": "stdout",
     "output_type": "stream",
     "text": [
      "['9676622020', '9676622021', '9676622022', '9676622023', '9676622024', '9676622025', '9676622026', '9676622027', '9676622028', '9676622029']\n"
     ]
    }
   ],
   "source": [
    "import re\n",
    "f=open(\"data.csv\")\n",
    "data=f.read()\n",
    "print re.findall(\"[0-9]{10}\",data)"
   ]
  },
  {
   "cell_type": "code",
   "execution_count": 21,
   "metadata": {},
   "outputs": [
    {
     "name": "stdout",
     "output_type": "stream",
     "text": [
      "['a', 'a', 'a', 'a', 'c', 'a', 'a', 'c', 'a', 'a', 'a', 'a', 'a', 'a', 'c', 'a', 'a', 'a', 'a', 'c', 'a', 'a', 'c', 'a', 'a', 'a', 'a', 'a', 'c', 'a', 'a', 'a', 'a', 'c', 'a', 'a', 'a', 'a', 'c', 'a', 'a', 'a', 'a', 'c', 'a', 'a', 'a', 'c']\n"
     ]
    }
   ],
   "source": [
    "import re\n",
    "f=open(\"data.csv\")\n",
    "data=f.read()\n",
    "print re.findall(\"[abcd]\",data)"
   ]
  },
  {
   "cell_type": "code",
   "execution_count": 22,
   "metadata": {},
   "outputs": [
    {
     "name": "stdout",
     "output_type": "stream",
     "text": [
      "['a', 'a', 'a', 'a', 'c', 'a', 'a', 'c', 'a', 'a', 'a', 'a', 'a', 'a', 'c', 'a', 'a', 'a', 'a', 'c', 'a', 'a', 'c', 'a', 'A', 'a', 'a', 'a', 'a', 'c', 'a', 'a', 'a', 'a', 'c', 'a', 'a', 'a', 'a', 'c', 'a', 'a', 'a', 'a', 'c', 'a', 'a', 'A', 'a', 'c']\n"
     ]
    }
   ],
   "source": [
    "import re\n",
    "f=open(\"data.csv\")\n",
    "data=f.read()\n",
    "print re.findall(\"[abcdABCD]\",data)"
   ]
  },
  {
   "cell_type": "code",
   "execution_count": 23,
   "metadata": {},
   "outputs": [
    {
     "name": "stdout",
     "output_type": "stream",
     "text": [
      "['a', 'a', 'a', 'a', 'c', 'a', 'a', 'c', 'a', 'a', 'a', 'a', 'a', 'a', 'c', 'a', 'a', 'a', 'a', 'c', 'a', 'a', 'c', 'a', 'A', 'a', 'a', 'a', 'a', 'c', 'a', 'a', 'a', 'a', 'c', 'a', 'a', 'a', 'a', 'c', 'a', 'a', 'a', 'a', 'c', 'a', 'a', 'A', 'a', 'c']\n"
     ]
    }
   ],
   "source": [
    "import re\n",
    "f=open(\"data.csv\")\n",
    "data=f.read()\n",
    "print re.findall(\"[abcd]\",data,re.I)"
   ]
  },
  {
   "cell_type": "code",
   "execution_count": 24,
   "metadata": {},
   "outputs": [
    {
     "name": "stdout",
     "output_type": "stream",
     "text": [
      "['n', 'a', 'm', 'e', 'a', 'g', 'e', 'e', 'm', 'a', 'i', 'l', 'g', 'm', 'a', 'i', 'l', 'c', 'o', 'm', 'e', 'm', 'a', 'i', 'l', 'g', 'm', 'a', 'i', 'l', 'c', 'o', 'm', 'n', 'a', 'm', 'e', 'a', 'g', 'e', 'n', 'a', 'm', 'e', 'a', 'g', 'e', 'e', 'm', 'a', 'i', 'l', 'g', 'm', 'a', 'i', 'l', 'c', 'o', 'm', 'a', 'g', 'e', 'n', 'a', 'm', 'e', 'e', 'm', 'a', 'i', 'l', 'g', 'm', 'a', 'i', 'l', 'c', 'o', 'm', 'e', 'm', 'a', 'i', 'l', 'g', 'm', 'a', 'i', 'l', 'c', 'o', 'm', 'n', 'a', 'm', 'e', 'A', 'G', 'E', 'n', 'a', 'm', 'e', 'a', 'g', 'e', 'e', 'm', 'a', 'i', 'l', 'g', 'm', 'a', 'i', 'l', 'c', 'o', 'm', 'a', 'g', 'e', 'n', 'a', 'm', 'e', 'e', 'm', 'a', 'i', 'l', 'g', 'm', 'a', 'i', 'l', 'c', 'o', 'm', 'n', 'a', 'm', 'e', 'a', 'g', 'e', 'e', 'm', 'a', 'i', 'l', 'g', 'm', 'a', 'i', 'l', 'c', 'o', 'm', 'n', 'a', 'm', 'e', 'a', 'g', 'e', 'e', 'm', 'a', 'i', 'l', 'g', 'm', 'a', 'i', 'l', 'c', 'o', 'm', 'n', 'a', 'm', 'e', 'a', 'g', 'e', 'E', 'M', 'A', 'l', 'g', 'm', 'a', 'i', 'l', 'c', 'o', 'm']\n"
     ]
    }
   ],
   "source": [
    "import re\n",
    "f=open(\"data.csv\")\n",
    "data=f.read()\n",
    "print re.findall(\"[a-z]\",data,re.I)"
   ]
  },
  {
   "cell_type": "code",
   "execution_count": 25,
   "metadata": {},
   "outputs": [
    {
     "name": "stdout",
     "output_type": "stream",
     "text": [
      "['0', '0', '9', '6', '7', '6', '6', '2', '2', '0', '2', '0', '0', '1', '1', '1', '9', '6', '7', '6', '6', '2', '2', '0', '2', '1', '9', '6', '7', '6', '6', '2', '2', '0', '2', '2', '2', '2', '2', '3', '3', '9', '6', '7', '6', '6', '2', '2', '0', '2', '3', '3', '4', '4', '4', '9', '6', '7', '6', '6', '2', '2', '0', '2', '4', '9', '6', '7', '6', '6', '2', '2', '0', '2', '5', '5', '5', '5', '6', '6', '9', '6', '7', '6', '6', '2', '2', '0', '2', '6', '6', '7', '7', '7', '9', '6', '7', '6', '6', '2', '2', '0', '2', '7', '9', '6', '7', '6', '6', '2', '2', '0', '2', '8', '8', '8', '8', '9', '9', '9', '9', '6', '7', '6', '6', '2', '2', '0', '2', '9']\n"
     ]
    }
   ],
   "source": [
    "import re\n",
    "f=open(\"data.csv\")\n",
    "data=f.read()\n",
    "print re.findall(\"[0-9]\",data,re.I)"
   ]
  },
  {
   "cell_type": "code",
   "execution_count": 26,
   "metadata": {},
   "outputs": [
    {
     "name": "stdout",
     "output_type": "stream",
     "text": [
      "['l0', 'l1', 'l2', 'l3', 'l4', 'l5', 'l6', 'l7', 'l8', 'l9']\n"
     ]
    }
   ],
   "source": [
    "import re\n",
    "f=open(\"data.csv\")\n",
    "data=f.read()\n",
    "print re.findall(\"[a-z][0-9]\",data,re.I)"
   ]
  },
  {
   "cell_type": "code",
   "execution_count": 27,
   "metadata": {},
   "outputs": [
    {
     "name": "stdout",
     "output_type": "stream",
     "text": [
      "['967', '662', '202', '967', '662', '202', '967', '662', '202', '967', '662', '202', '967', '662', '202', '967', '662', '202', '967', '662', '202', '967', '662', '202', '967', '662', '202', '967', '662', '202']\n"
     ]
    }
   ],
   "source": [
    "import re\n",
    "f=open(\"data.csv\")\n",
    "data=f.read()\n",
    "print re.findall(\"[0-9][0-9][0-9]\",data,re.I)"
   ]
  },
  {
   "cell_type": "code",
   "execution_count": 28,
   "metadata": {},
   "outputs": [
    {
     "name": "stdout",
     "output_type": "stream",
     "text": [
      "['9676622020', '9676622021', '9676622022', '9676622023', '9676622024', '9676622025', '9676622026', '9676622027', '9676622028', '9676622029']\n"
     ]
    }
   ],
   "source": [
    "import re\n",
    "f=open(\"data.csv\")\n",
    "data=f.read()\n",
    "print re.findall(\"[0-9]{10}\",data,re.I)"
   ]
  },
  {
   "cell_type": "code",
   "execution_count": 29,
   "metadata": {},
   "outputs": [
    {
     "name": "stdout",
     "output_type": "stream",
     "text": [
      "['9676622020', '9676622021', '9676622022', '9676622023', '9676622024', '9676622025', '9676622026', '9676622027', '9676622028', '9676622029']\n"
     ]
    }
   ],
   "source": [
    "import re\n",
    "f=open(\"data.csv\")\n",
    "data=f.read()\n",
    "print re.findall(\"[0-9]{5,10}\",data,re.I)"
   ]
  },
  {
   "cell_type": "code",
   "execution_count": 30,
   "metadata": {},
   "outputs": [
    {
     "name": "stdout",
     "output_type": "stream",
     "text": [
      "['0', '0', '9676622020', '0', '1', '1', '1', '9676622021', '9676622022', '2', '2', '2', '3', '3', '9676622023', '3', '4', '4', '4', '9676622024', '9676622025', '5', '5', '5', '6', '6', '9676622026', '6', '7', '7', '7', '9676622027', '9676622028', '8', '8', '8', '9', '9', '9', '9676622029']\n"
     ]
    }
   ],
   "source": [
    "import re\n",
    "f=open(\"data.csv\")\n",
    "data=f.read()\n",
    "print re.findall(\"[0-9]{1,10}\",data,re.I)"
   ]
  },
  {
   "cell_type": "code",
   "execution_count": 31,
   "metadata": {},
   "outputs": [
    {
     "name": "stdout",
     "output_type": "stream",
     "text": [
      "['0', '0', '9676622020', '0', '1', '1', '1', '9676622021', '9676622022', '2', '2', '2', '3', '3', '9676622023', '3', '4', '4', '4', '9676622024', '9676622025', '5', '5', '5', '6', '6', '9676622026', '6', '7', '7', '7', '9676622027', '9676622028', '8', '8', '8', '9', '9', '9', '9676622029']\n"
     ]
    }
   ],
   "source": [
    "import re\n",
    "f=open(\"data.csv\")\n",
    "data=f.read()\n",
    "print re.findall(\"[0-9]{1,}\",data,re.I)"
   ]
  },
  {
   "cell_type": "code",
   "execution_count": 32,
   "metadata": {},
   "outputs": [
    {
     "name": "stdout",
     "output_type": "stream",
     "text": [
      "['0', '0', '9676622020', '0', '1', '1', '1', '9676622021', '9676622022', '2', '2', '2', '3', '3', '9676622023', '3', '4', '4', '4', '9676622024', '9676622025', '5', '5', '5', '6', '6', '9676622026', '6', '7', '7', '7', '9676622027', '9676622028', '8', '8', '8', '9', '9', '9', '9676622029']\n"
     ]
    }
   ],
   "source": [
    "import re\n",
    "f=open(\"data.csv\")\n",
    "data=f.read()\n",
    "print re.findall(\"[0-9]+\",data,re.I)"
   ]
  },
  {
   "cell_type": "code",
   "execution_count": 33,
   "metadata": {},
   "outputs": [
    {
     "name": "stdout",
     "output_type": "stream",
     "text": [
      "['', '', '', '', '', '0', '', '', '', '', '', '', '0', '', '9676622020', '', '', '', '', '', '', '0', '', '', '', '', '', '', '', '', '', '', '', '', '', '', '', '', '1', '', '', '', '', '', '', '', '', '', '', '', '', '', '', '', '', '1', '', '', '', '', '', '', '1', '', '9676622021', '', '9676622022', '', '', '', '', '', '', '2', '', '', '', '', '', '', '2', '', '', '', '', '', '', '2', '', '', '', '', '', '', '', '', '', '', '', '', '', '', '', '3', '', '', '', '', '', '', '3', '', '', '9676622023', '', '', '', '', '', '', '3', '', '', '', '', '', '', '', '', '', '', '', '', '', '', '', '', '4', '', '', '', '', '', '', '', '', '', '', '', '', '', '', '', '', '4', '', '', '', '', '', '', '4', '', '9676622024', '', '9676622025', '', '', '', '', '', '', '5', '', '', '', '', '', '', '5', '', '', '', '', '', '', '5', '', '', '', '', '', '', '', '', '', '', '', '', '', '', '', '6', '', '', '', '', '', '', '6', '', '', '9676622026', '', '', '', '', '', '', '6', '', '', '', '', '', '', '', '', '', '', '', '', '', '', '', '', '7', '', '', '', '', '', '', '7', '', '', '', '', '', '', '7', '', '', '', '', '', '', '', '', '', '', '', '9676622027', '', '9676622028', '', '', '', '', '', '', '8', '', '', '', '', '', '', '8', '', '', '', '', '', '', '8', '', '', '', '', '', '', '', '', '', '', '', '', '', '', '', '', '9', '', '', '', '', '', '', '9', '', '', '', '', '', '9', '', '', '', '', '', '', '', '', '', '', '', '9676622029', '', '']\n"
     ]
    }
   ],
   "source": [
    "import re\n",
    "f=open(\"data.csv\")\n",
    "data=f.read()\n",
    "print re.findall(\"[0-9]{0,}\",data,re.I)"
   ]
  },
  {
   "cell_type": "code",
   "execution_count": 34,
   "metadata": {},
   "outputs": [
    {
     "name": "stdout",
     "output_type": "stream",
     "text": [
      "['', '', '', '', '', '0', '', '', '', '', '', '', '0', '', '9676622020', '', '', '', '', '', '', '0', '', '', '', '', '', '', '', '', '', '', '', '', '', '', '', '', '1', '', '', '', '', '', '', '', '', '', '', '', '', '', '', '', '', '1', '', '', '', '', '', '', '1', '', '9676622021', '', '9676622022', '', '', '', '', '', '', '2', '', '', '', '', '', '', '2', '', '', '', '', '', '', '2', '', '', '', '', '', '', '', '', '', '', '', '', '', '', '', '3', '', '', '', '', '', '', '3', '', '', '9676622023', '', '', '', '', '', '', '3', '', '', '', '', '', '', '', '', '', '', '', '', '', '', '', '', '4', '', '', '', '', '', '', '', '', '', '', '', '', '', '', '', '', '4', '', '', '', '', '', '', '4', '', '9676622024', '', '9676622025', '', '', '', '', '', '', '5', '', '', '', '', '', '', '5', '', '', '', '', '', '', '5', '', '', '', '', '', '', '', '', '', '', '', '', '', '', '', '6', '', '', '', '', '', '', '6', '', '', '9676622026', '', '', '', '', '', '', '6', '', '', '', '', '', '', '', '', '', '', '', '', '', '', '', '', '7', '', '', '', '', '', '', '7', '', '', '', '', '', '', '7', '', '', '', '', '', '', '', '', '', '', '', '9676622027', '', '9676622028', '', '', '', '', '', '', '8', '', '', '', '', '', '', '8', '', '', '', '', '', '', '8', '', '', '', '', '', '', '', '', '', '', '', '', '', '', '', '', '9', '', '', '', '', '', '', '9', '', '', '', '', '', '9', '', '', '', '', '', '', '', '', '', '', '', '9676622029', '', '']\n"
     ]
    }
   ],
   "source": [
    "import re\n",
    "f=open(\"data.csv\")\n",
    "data=f.read()\n",
    "print re.findall(\"[0-9]*\",data,re.I)"
   ]
  },
  {
   "cell_type": "code",
   "execution_count": 35,
   "metadata": {},
   "outputs": [
    {
     "name": "stdout",
     "output_type": "stream",
     "text": [
      "['', '', '', '', '', '0', '', '', '', '', '', '', '0', '', '9', '6', '7', '6', '6', '2', '2', '0', '2', '0', '', '', '', '', '', '', '0', '', '', '', '', '', '', '', '', '', '', '', '', '', '', '', '', '1', '', '', '', '', '', '', '', '', '', '', '', '', '', '', '', '', '1', '', '', '', '', '', '', '1', '', '9', '6', '7', '6', '6', '2', '2', '0', '2', '1', '', '9', '6', '7', '6', '6', '2', '2', '0', '2', '2', '', '', '', '', '', '', '2', '', '', '', '', '', '', '2', '', '', '', '', '', '', '2', '', '', '', '', '', '', '', '', '', '', '', '', '', '', '', '3', '', '', '', '', '', '', '3', '', '', '9', '6', '7', '6', '6', '2', '2', '0', '2', '3', '', '', '', '', '', '', '3', '', '', '', '', '', '', '', '', '', '', '', '', '', '', '', '', '4', '', '', '', '', '', '', '', '', '', '', '', '', '', '', '', '', '4', '', '', '', '', '', '', '4', '', '9', '6', '7', '6', '6', '2', '2', '0', '2', '4', '', '9', '6', '7', '6', '6', '2', '2', '0', '2', '5', '', '', '', '', '', '', '5', '', '', '', '', '', '', '5', '', '', '', '', '', '', '5', '', '', '', '', '', '', '', '', '', '', '', '', '', '', '', '6', '', '', '', '', '', '', '6', '', '', '9', '6', '7', '6', '6', '2', '2', '0', '2', '6', '', '', '', '', '', '', '6', '', '', '', '', '', '', '', '', '', '', '', '', '', '', '', '', '7', '', '', '', '', '', '', '7', '', '', '', '', '', '', '7', '', '', '', '', '', '', '', '', '', '', '', '9', '6', '7', '6', '6', '2', '2', '0', '2', '7', '', '9', '6', '7', '6', '6', '2', '2', '0', '2', '8', '', '', '', '', '', '', '8', '', '', '', '', '', '', '8', '', '', '', '', '', '', '8', '', '', '', '', '', '', '', '', '', '', '', '', '', '', '', '', '9', '', '', '', '', '', '', '9', '', '', '', '', '', '9', '', '', '', '', '', '', '', '', '', '', '', '9', '6', '7', '6', '6', '2', '2', '0', '2', '9', '', '']\n"
     ]
    }
   ],
   "source": [
    "import re\n",
    "f=open(\"data.csv\")\n",
    "data=f.read()\n",
    "print re.findall(\"[0-9]{0,1}\",data,re.I)"
   ]
  },
  {
   "cell_type": "code",
   "execution_count": 36,
   "metadata": {},
   "outputs": [
    {
     "name": "stdout",
     "output_type": "stream",
     "text": [
      "['', '', '', '', '', '0', '', '', '', '', '', '', '0', '', '9', '6', '7', '6', '6', '2', '2', '0', '2', '0', '', '', '', '', '', '', '0', '', '', '', '', '', '', '', '', '', '', '', '', '', '', '', '', '1', '', '', '', '', '', '', '', '', '', '', '', '', '', '', '', '', '1', '', '', '', '', '', '', '1', '', '9', '6', '7', '6', '6', '2', '2', '0', '2', '1', '', '9', '6', '7', '6', '6', '2', '2', '0', '2', '2', '', '', '', '', '', '', '2', '', '', '', '', '', '', '2', '', '', '', '', '', '', '2', '', '', '', '', '', '', '', '', '', '', '', '', '', '', '', '3', '', '', '', '', '', '', '3', '', '', '9', '6', '7', '6', '6', '2', '2', '0', '2', '3', '', '', '', '', '', '', '3', '', '', '', '', '', '', '', '', '', '', '', '', '', '', '', '', '4', '', '', '', '', '', '', '', '', '', '', '', '', '', '', '', '', '4', '', '', '', '', '', '', '4', '', '9', '6', '7', '6', '6', '2', '2', '0', '2', '4', '', '9', '6', '7', '6', '6', '2', '2', '0', '2', '5', '', '', '', '', '', '', '5', '', '', '', '', '', '', '5', '', '', '', '', '', '', '5', '', '', '', '', '', '', '', '', '', '', '', '', '', '', '', '6', '', '', '', '', '', '', '6', '', '', '9', '6', '7', '6', '6', '2', '2', '0', '2', '6', '', '', '', '', '', '', '6', '', '', '', '', '', '', '', '', '', '', '', '', '', '', '', '', '7', '', '', '', '', '', '', '7', '', '', '', '', '', '', '7', '', '', '', '', '', '', '', '', '', '', '', '9', '6', '7', '6', '6', '2', '2', '0', '2', '7', '', '9', '6', '7', '6', '6', '2', '2', '0', '2', '8', '', '', '', '', '', '', '8', '', '', '', '', '', '', '8', '', '', '', '', '', '', '8', '', '', '', '', '', '', '', '', '', '', '', '', '', '', '', '', '9', '', '', '', '', '', '', '9', '', '', '', '', '', '9', '', '', '', '', '', '', '', '', '', '', '', '9', '6', '7', '6', '6', '2', '2', '0', '2', '9', '', '']\n"
     ]
    }
   ],
   "source": [
    "import re\n",
    "f=open(\"data.csv\")\n",
    "data=f.read()\n",
    "print re.findall(\"[0-9]?\",data,re.I)"
   ]
  },
  {
   "cell_type": "code",
   "execution_count": 37,
   "metadata": {},
   "outputs": [
    {
     "name": "stdout",
     "output_type": "stream",
     "text": [
      "['0', '0', '9', '6', '7', '6', '6', '2', '2', '0', '2', '0', '0', '1', '1', '1', '9', '6', '7', '6', '6', '2', '2', '0', '2', '1', '9', '6', '7', '6', '6', '2', '2', '0', '2', '2', '2', '2', '2', '3', '3', '9', '6', '7', '6', '6', '2', '2', '0', '2', '3', '3', '4', '4', '4', '9', '6', '7', '6', '6', '2', '2', '0', '2', '4', '9', '6', '7', '6', '6', '2', '2', '0', '2', '5', '5', '5', '5', '6', '6', '9', '6', '7', '6', '6', '2', '2', '0', '2', '6', '6', '7', '7', '7', '9', '6', '7', '6', '6', '2', '2', '0', '2', '7', '9', '6', '7', '6', '6', '2', '2', '0', '2', '8', '8', '8', '8', '9', '9', '9', '9', '6', '7', '6', '6', '2', '2', '0', '2', '9']\n"
     ]
    }
   ],
   "source": [
    "import re\n",
    "f=open(\"data.csv\")\n",
    "data=f.read()\n",
    "print re.findall(\"[0-9]\",data,re.I)"
   ]
  },
  {
   "cell_type": "code",
   "execution_count": 38,
   "metadata": {},
   "outputs": [
    {
     "name": "stdout",
     "output_type": "stream",
     "text": [
      "['n', 'a', 'm', 'e', ':', ',', ' ', 'a', 'g', 'e', ':', ',', ',', 'e', 'm', 'a', 'i', 'l', '@', 'g', 'm', 'a', 'i', 'l', '.', 'c', 'o', 'm', '\\n', 'e', 'm', 'a', 'i', 'l', '@', 'g', 'm', 'a', 'i', 'l', '.', 'c', 'o', 'm', ',', 'n', 'a', 'm', 'e', ':', ',', ' ', 'a', 'g', 'e', ':', ',', '\\n', ',', 'n', 'a', 'm', 'e', ':', ',', ' ', 'a', 'g', 'e', ':', ',', 'e', 'm', 'a', 'i', 'l', '@', 'g', 'm', 'a', 'i', 'l', '.', 'c', 'o', 'm', '\\n', 'a', 'g', 'e', ':', ',', 'n', 'a', 'm', 'e', ':', ',', ' ', ',', 'e', 'm', 'a', 'i', 'l', '@', 'g', 'm', 'a', 'i', 'l', '.', 'c', 'o', 'm', '\\n', 'e', 'm', 'a', 'i', 'l', '@', 'g', 'm', 'a', 'i', 'l', '.', 'c', 'o', 'm', ',', 'n', 'a', 'm', 'e', ':', ',', ' ', 'A', 'G', 'E', ':', ',', '\\n', ',', 'n', 'a', 'm', 'e', ':', ',', ' ', 'a', 'g', 'e', ':', ',', 'e', 'm', 'a', 'i', 'l', '@', 'g', 'm', 'a', 'i', 'l', '.', 'c', 'o', 'm', '\\n', 'a', 'g', 'e', ':', ',', 'n', 'a', 'm', 'e', ':', ',', ' ', ',', 'e', 'm', 'a', 'i', 'l', '@', 'g', 'm', 'a', 'i', 'l', '.', 'c', 'o', 'm', '\\n', 'n', 'a', 'm', 'e', ':', ',', ' ', 'a', 'g', 'e', ':', ',', 'e', 'm', 'a', 'i', 'l', '@', 'g', 'm', 'a', 'i', 'l', '.', 'c', 'o', 'm', ',', '\\n', ',', 'n', 'a', 'm', 'e', ':', ',', ' ', 'a', 'g', 'e', ':', ',', 'e', 'm', 'a', 'i', 'l', '@', 'g', 'm', 'a', 'i', 'l', '.', 'c', 'o', 'm', '\\n', 'n', 'a', 'm', 'e', ':', ',', ' ', 'a', 'g', 'e', ':', ',', 'E', 'M', 'A', 'l', '@', 'g', 'm', 'a', 'i', 'l', '.', 'c', 'o', 'm', ',', '\\n']\n"
     ]
    }
   ],
   "source": [
    "import re\n",
    "f=open(\"data.csv\")\n",
    "data=f.read()\n",
    "print re.findall(\"[^0-9]\",data,re.I)"
   ]
  },
  {
   "cell_type": "code",
   "execution_count": 39,
   "metadata": {},
   "outputs": [
    {
     "name": "stdout",
     "output_type": "stream",
     "text": [
      "['n', 'a', 'm', 'e', ':', '0', ',', ' ', 'a', 'g', 'e', ':', '0', ',', '9', '6', '7', '6', '6', '2', '2', '0', '2', '0', ',', 'e', 'm', 'a', 'i', 'l', '0', '@', 'g', 'm', 'a', 'i', 'l', '.', 'c', 'o', 'm', 'e', 'm', 'a', 'i', 'l', '1', '@', 'g', 'm', 'a', 'i', 'l', '.', 'c', 'o', 'm', ',', 'n', 'a', 'm', 'e', ':', '1', ',', ' ', 'a', 'g', 'e', ':', '1', ',', '9', '6', '7', '6', '6', '2', '2', '0', '2', '1', '9', '6', '7', '6', '6', '2', '2', '0', '2', '2', ',', 'n', 'a', 'm', 'e', ':', '2', ',', ' ', 'a', 'g', 'e', ':', '2', ',', 'e', 'm', 'a', 'i', 'l', '2', '@', 'g', 'm', 'a', 'i', 'l', '.', 'c', 'o', 'm', 'a', 'g', 'e', ':', '3', ',', 'n', 'a', 'm', 'e', ':', '3', ',', ' ', '9', '6', '7', '6', '6', '2', '2', '0', '2', '3', ',', 'e', 'm', 'a', 'i', 'l', '3', '@', 'g', 'm', 'a', 'i', 'l', '.', 'c', 'o', 'm', 'e', 'm', 'a', 'i', 'l', '4', '@', 'g', 'm', 'a', 'i', 'l', '.', 'c', 'o', 'm', ',', 'n', 'a', 'm', 'e', ':', '4', ',', ' ', 'A', 'G', 'E', ':', '4', ',', '9', '6', '7', '6', '6', '2', '2', '0', '2', '4', '9', '6', '7', '6', '6', '2', '2', '0', '2', '5', ',', 'n', 'a', 'm', 'e', ':', '5', ',', ' ', 'a', 'g', 'e', ':', '5', ',', 'e', 'm', 'a', 'i', 'l', '5', '@', 'g', 'm', 'a', 'i', 'l', '.', 'c', 'o', 'm', 'a', 'g', 'e', ':', '6', ',', 'n', 'a', 'm', 'e', ':', '6', ',', ' ', '9', '6', '7', '6', '6', '2', '2', '0', '2', '6', ',', 'e', 'm', 'a', 'i', 'l', '6', '@', 'g', 'm', 'a', 'i', 'l', '.', 'c', 'o', 'm', 'n', 'a', 'm', 'e', ':', '7', ',', ' ', 'a', 'g', 'e', ':', '7', ',', 'e', 'm', 'a', 'i', 'l', '7', '@', 'g', 'm', 'a', 'i', 'l', '.', 'c', 'o', 'm', ',', '9', '6', '7', '6', '6', '2', '2', '0', '2', '7', '9', '6', '7', '6', '6', '2', '2', '0', '2', '8', ',', 'n', 'a', 'm', 'e', ':', '8', ',', ' ', 'a', 'g', 'e', ':', '8', ',', 'e', 'm', 'a', 'i', 'l', '8', '@', 'g', 'm', 'a', 'i', 'l', '.', 'c', 'o', 'm', 'n', 'a', 'm', 'e', ':', '9', ',', ' ', 'a', 'g', 'e', ':', '9', ',', 'E', 'M', 'A', 'l', '9', '@', 'g', 'm', 'a', 'i', 'l', '.', 'c', 'o', 'm', ',', '9', '6', '7', '6', '6', '2', '2', '0', '2', '9']\n"
     ]
    }
   ],
   "source": [
    "import re\n",
    "f=open(\"data.csv\")\n",
    "data=f.read()\n",
    "print re.findall(\".\",data,re.I)"
   ]
  },
  {
   "cell_type": "code",
   "execution_count": 40,
   "metadata": {},
   "outputs": [
    {
     "name": "stdout",
     "output_type": "stream",
     "text": [
      "['n', 'a', 'm', 'e', ':', '0', ',', ' ', 'a', 'g', 'e', ':', '0', ',', '9', '6', '7', '6', '6', '2', '2', '0', '2', '0', ',', 'e', 'm', 'a', 'i', 'l', '0', '@', 'g', 'm', 'a', 'i', 'l', '.', 'c', 'o', 'm', '\\n', 'e', 'm', 'a', 'i', 'l', '1', '@', 'g', 'm', 'a', 'i', 'l', '.', 'c', 'o', 'm', ',', 'n', 'a', 'm', 'e', ':', '1', ',', ' ', 'a', 'g', 'e', ':', '1', ',', '9', '6', '7', '6', '6', '2', '2', '0', '2', '1', '\\n', '9', '6', '7', '6', '6', '2', '2', '0', '2', '2', ',', 'n', 'a', 'm', 'e', ':', '2', ',', ' ', 'a', 'g', 'e', ':', '2', ',', 'e', 'm', 'a', 'i', 'l', '2', '@', 'g', 'm', 'a', 'i', 'l', '.', 'c', 'o', 'm', '\\n', 'a', 'g', 'e', ':', '3', ',', 'n', 'a', 'm', 'e', ':', '3', ',', ' ', '9', '6', '7', '6', '6', '2', '2', '0', '2', '3', ',', 'e', 'm', 'a', 'i', 'l', '3', '@', 'g', 'm', 'a', 'i', 'l', '.', 'c', 'o', 'm', '\\n', 'e', 'm', 'a', 'i', 'l', '4', '@', 'g', 'm', 'a', 'i', 'l', '.', 'c', 'o', 'm', ',', 'n', 'a', 'm', 'e', ':', '4', ',', ' ', 'A', 'G', 'E', ':', '4', ',', '9', '6', '7', '6', '6', '2', '2', '0', '2', '4', '\\n', '9', '6', '7', '6', '6', '2', '2', '0', '2', '5', ',', 'n', 'a', 'm', 'e', ':', '5', ',', ' ', 'a', 'g', 'e', ':', '5', ',', 'e', 'm', 'a', 'i', 'l', '5', '@', 'g', 'm', 'a', 'i', 'l', '.', 'c', 'o', 'm', '\\n', 'a', 'g', 'e', ':', '6', ',', 'n', 'a', 'm', 'e', ':', '6', ',', ' ', '9', '6', '7', '6', '6', '2', '2', '0', '2', '6', ',', 'e', 'm', 'a', 'i', 'l', '6', '@', 'g', 'm', 'a', 'i', 'l', '.', 'c', 'o', 'm', '\\n', 'n', 'a', 'm', 'e', ':', '7', ',', ' ', 'a', 'g', 'e', ':', '7', ',', 'e', 'm', 'a', 'i', 'l', '7', '@', 'g', 'm', 'a', 'i', 'l', '.', 'c', 'o', 'm', ',', '9', '6', '7', '6', '6', '2', '2', '0', '2', '7', '\\n', '9', '6', '7', '6', '6', '2', '2', '0', '2', '8', ',', 'n', 'a', 'm', 'e', ':', '8', ',', ' ', 'a', 'g', 'e', ':', '8', ',', 'e', 'm', 'a', 'i', 'l', '8', '@', 'g', 'm', 'a', 'i', 'l', '.', 'c', 'o', 'm', '\\n', 'n', 'a', 'm', 'e', ':', '9', ',', ' ', 'a', 'g', 'e', ':', '9', ',', 'E', 'M', 'A', 'l', '9', '@', 'g', 'm', 'a', 'i', 'l', '.', 'c', 'o', 'm', ',', '9', '6', '7', '6', '6', '2', '2', '0', '2', '9', '\\n']\n"
     ]
    }
   ],
   "source": [
    "import re\n",
    "f=open(\"data.csv\")\n",
    "data=f.read()\n",
    "print re.findall(\".\",data,re.I|re.DOTALL)"
   ]
  },
  {
   "cell_type": "code",
   "execution_count": 41,
   "metadata": {},
   "outputs": [
    {
     "name": "stdout",
     "output_type": "stream",
     "text": [
      "['.', '.', '.', '.', '.', '.', '.', '.', '.', '.']\n"
     ]
    }
   ],
   "source": [
    "import re\n",
    "f=open(\"data.csv\")\n",
    "data=f.read()\n",
    "print re.findall(\"\\.\",data,re.I|re.DOTALL)"
   ]
  },
  {
   "cell_type": "code",
   "execution_count": 42,
   "metadata": {},
   "outputs": [
    {
     "name": "stdout",
     "output_type": "stream",
     "text": [
      "[]\n"
     ]
    }
   ],
   "source": [
    "import re\n",
    "f=open(\"data.csv\")\n",
    "data=f.read()\n",
    "print re.findall(\"^[0-9]\",data,re.I)"
   ]
  },
  {
   "cell_type": "code",
   "execution_count": 43,
   "metadata": {},
   "outputs": [
    {
     "name": "stdout",
     "output_type": "stream",
     "text": [
      "name:0, age:0,9676622020,email0@gmail.com\n",
      "email1@gmail.com,name:1, age:1,9676622021\n",
      "9676622022,name:2, age:2,email2@gmail.com\n",
      "age:3,name:3, 9676622023,email3@gmail.com\n",
      "email4@gmail.com,name:4, AGE:4,9676622024\n",
      "9676622025,name:5, age:5,email5@gmail.com\n",
      "age:6,name:6, 9676622026,email6@gmail.com\n",
      "name:7, age:7,email7@gmail.com,9676622027\n",
      "9676622028,name:8, age:8,email8@gmail.com\n",
      "name:9, age:9,EMAl9@gmail.com,9676622029\n",
      "\n",
      "[]\n"
     ]
    }
   ],
   "source": [
    "import re\n",
    "f=open(\"data.csv\")\n",
    "data=f.read()\n",
    "print data\n",
    "print re.findall(\"^[0-9]\",data,re.I)"
   ]
  },
  {
   "cell_type": "code",
   "execution_count": 44,
   "metadata": {},
   "outputs": [
    {
     "name": "stdout",
     "output_type": "stream",
     "text": [
      "name:0, age:0,9676622020,email0@gmail.com\n",
      "email1@gmail.com,name:1, age:1,9676622021\n",
      "9676622022,name:2, age:2,email2@gmail.com\n",
      "age:3,name:3, 9676622023,email3@gmail.com\n",
      "email4@gmail.com,name:4, AGE:4,9676622024\n",
      "9676622025,name:5, age:5,email5@gmail.com\n",
      "age:6,name:6, 9676622026,email6@gmail.com\n",
      "name:7, age:7,email7@gmail.com,9676622027\n",
      "9676622028,name:8, age:8,email8@gmail.com\n",
      "name:9, age:9,EMAl9@gmail.com,9676622029\n",
      "\n",
      "['n']\n"
     ]
    }
   ],
   "source": [
    "import re\n",
    "f=open(\"data.csv\")\n",
    "data=f.read()\n",
    "print data\n",
    "print re.findall(\"^[a-z]\",data,re.I)"
   ]
  },
  {
   "cell_type": "code",
   "execution_count": 45,
   "metadata": {},
   "outputs": [
    {
     "name": "stdout",
     "output_type": "stream",
     "text": [
      "name:0, age:0,9676622020,email0@gmail.com\n",
      "email1@gmail.com,name:1, age:1,9676622021\n",
      "9676622022,name:2, age:2,email2@gmail.com\n",
      "age:3,name:3, 9676622023,email3@gmail.com\n",
      "email4@gmail.com,name:4, AGE:4,9676622024\n",
      "9676622025,name:5, age:5,email5@gmail.com\n",
      "age:6,name:6, 9676622026,email6@gmail.com\n",
      "name:7, age:7,email7@gmail.com,9676622027\n",
      "9676622028,name:8, age:8,email8@gmail.com\n",
      "name:9, age:9,EMAl9@gmail.com,9676622029\n",
      "\n",
      "[]\n"
     ]
    }
   ],
   "source": [
    "import re\n",
    "f=open(\"data.csv\")\n",
    "data=f.read()\n",
    "print data\n",
    "print re.findall(\"[a-z]$\",data,re.I)"
   ]
  },
  {
   "cell_type": "code",
   "execution_count": 46,
   "metadata": {},
   "outputs": [
    {
     "name": "stdout",
     "output_type": "stream",
     "text": [
      "name:0, age:0,9676622020,email0@gmail.com\n",
      "email1@gmail.com,name:1, age:1,9676622021\n",
      "9676622022,name:2, age:2,email2@gmail.com\n",
      "age:3,name:3, 9676622023,email3@gmail.com\n",
      "email4@gmail.com,name:4, AGE:4,9676622024\n",
      "9676622025,name:5, age:5,email5@gmail.com\n",
      "age:6,name:6, 9676622026,email6@gmail.com\n",
      "name:7, age:7,email7@gmail.com,9676622027\n",
      "9676622028,name:8, age:8,email8@gmail.com\n",
      "name:9, age:9,EMAl9@gmail.com,9676622029\n",
      "\n",
      "['9']\n"
     ]
    }
   ],
   "source": [
    "import re\n",
    "f=open(\"data.csv\")\n",
    "data=f.read()\n",
    "print data\n",
    "print re.findall(\"[0-9]$\",data,re.I)"
   ]
  },
  {
   "cell_type": "code",
   "execution_count": 47,
   "metadata": {},
   "outputs": [
    {
     "name": "stdout",
     "output_type": "stream",
     "text": [
      "name:0, age:0,9676622020,email0@gmail.com\n",
      "email1@gmail.com,name:1, age:1,9676622021\n",
      "9676622022,name:2, age:2,email2@gmail.com\n",
      "age:3,name:3, 9676622023,email3@gmail.com\n",
      "email4@gmail.com,name:4, AGE:4,9676622024\n",
      "9676622025,name:5, age:5,email5@gmail.com\n",
      "age:6,name:6, 9676622026,email6@gmail.com\n",
      "name:7, age:7,email7@gmail.com,9676622027\n",
      "9676622028,name:8, age:8,email8@gmail.com\n",
      "name:9, age:9,EMAl9@gmail.com,9676622029\n",
      "\n",
      "['1', '4', '7', '9']\n"
     ]
    }
   ],
   "source": [
    "import re\n",
    "f=open(\"data.csv\")\n",
    "data=f.read()\n",
    "print data\n",
    "print re.findall(\"[0-9]$\",data,re.I|re.M)"
   ]
  },
  {
   "cell_type": "code",
   "execution_count": 48,
   "metadata": {},
   "outputs": [
    {
     "name": "stdout",
     "output_type": "stream",
     "text": [
      "name:0, age:0,9676622020,email0@gmail.com\n",
      "email1@gmail.com,name:1, age:1,9676622021\n",
      "9676622022,name:2, age:2,email2@gmail.com\n",
      "age:3,name:3, 9676622023,email3@gmail.com\n",
      "email4@gmail.com,name:4, AGE:4,9676622024\n",
      "9676622025,name:5, age:5,email5@gmail.com\n",
      "age:6,name:6, 9676622026,email6@gmail.com\n",
      "name:7, age:7,email7@gmail.com,9676622027\n",
      "9676622028,name:8, age:8,email8@gmail.com\n",
      "name:9, age:9,EMAl9@gmail.com,9676622029\n",
      "\n",
      "['9', '9', '9']\n"
     ]
    }
   ],
   "source": [
    "import re\n",
    "f=open(\"data.csv\")\n",
    "data=f.read()\n",
    "print data\n",
    "print re.findall(\"^[0-9]\",data,re.I|re.M)"
   ]
  },
  {
   "cell_type": "code",
   "execution_count": 49,
   "metadata": {},
   "outputs": [
    {
     "name": "stdout",
     "output_type": "stream",
     "text": [
      "name:0, age:0,9676622020,email0@gmail.com\n",
      "email1@gmail.com,name:1, age:1,9676622021\n",
      "9676622022,name:2, age:2,email2@gmail.com\n",
      "age:3,name:3, 9676622023,email3@gmail.com\n",
      "email4@gmail.com,name:4, AGE:4,9676622024\n",
      "9676622025,name:5, age:5,email5@gmail.com\n",
      "age:6,name:6, 9676622026,email6@gmail.com\n",
      "name:7, age:7,email7@gmail.com,9676622027\n",
      "9676622028,name:8, age:8,email8@gmail.com\n",
      "name:9, age:9,EMAl9@gmail.com,9676622029\n",
      "\n",
      "<callable-iterator object at 0x7f03084b8b90>\n"
     ]
    }
   ],
   "source": [
    "import re\n",
    "f=open(\"data.csv\")\n",
    "data=f.read()\n",
    "print data\n",
    "print re.finditer(\"^[0-9]\",data,re.I|re.M)"
   ]
  },
  {
   "cell_type": "code",
   "execution_count": 50,
   "metadata": {},
   "outputs": [
    {
     "name": "stdout",
     "output_type": "stream",
     "text": [
      "name:0, age:0,9676622020,email0@gmail.com\n",
      "email1@gmail.com,name:1, age:1,9676622021\n",
      "9676622022,name:2, age:2,email2@gmail.com\n",
      "age:3,name:3, 9676622023,email3@gmail.com\n",
      "email4@gmail.com,name:4, AGE:4,9676622024\n",
      "9676622025,name:5, age:5,email5@gmail.com\n",
      "age:6,name:6, 9676622026,email6@gmail.com\n",
      "name:7, age:7,email7@gmail.com,9676622027\n",
      "9676622028,name:8, age:8,email8@gmail.com\n",
      "name:9, age:9,EMAl9@gmail.com,9676622029\n",
      "\n",
      "['9676622020', '9676622021', '9676622022', '9676622023', '9676622024', '9676622025', '9676622026', '9676622027', '9676622028', '9676622029']\n"
     ]
    }
   ],
   "source": [
    "import re\n",
    "f=open(\"data.csv\")\n",
    "data=f.read()\n",
    "print data\n",
    "print re.findall(\"[0-9]{10}\",data,re.I|re.M)"
   ]
  },
  {
   "cell_type": "code",
   "execution_count": 51,
   "metadata": {},
   "outputs": [
    {
     "name": "stdout",
     "output_type": "stream",
     "text": [
      "name:0, age:0,9676622020,email0@gmail.com\n",
      "email1@gmail.com,name:1, age:1,9676622021\n",
      "9676622022,name:2, age:2,email2@gmail.com\n",
      "age:3,name:3, 9676622023,email3@gmail.com\n",
      "email4@gmail.com,name:4, AGE:4,9676622024\n",
      "9676622025,name:5, age:5,email5@gmail.com\n",
      "age:6,name:6, 9676622026,email6@gmail.com\n",
      "name:7, age:7,email7@gmail.com,9676622027\n",
      "9676622028,name:8, age:8,email8@gmail.com\n",
      "name:9, age:9,EMAl9@gmail.com,9676622029\n",
      "\n",
      "<callable-iterator object at 0x7f03084b8ad0>\n"
     ]
    }
   ],
   "source": [
    "import re\n",
    "f=open(\"data.csv\")\n",
    "data=f.read()\n",
    "print data\n",
    "print re.finditer(\"[0-9]{10}\",data,re.I|re.M)"
   ]
  },
  {
   "cell_type": "code",
   "execution_count": 53,
   "metadata": {},
   "outputs": [
    {
     "name": "stdout",
     "output_type": "stream",
     "text": [
      "name:0, age:0,9676622020,email0@gmail.com\n",
      "email1@gmail.com,name:1, age:1,9676622021\n",
      "9676622022,name:2, age:2,email2@gmail.com\n",
      "age:3,name:3, 9676622023,email3@gmail.com\n",
      "email4@gmail.com,name:4, AGE:4,9676622024\n",
      "9676622025,name:5, age:5,email5@gmail.com\n",
      "age:6,name:6, 9676622026,email6@gmail.com\n",
      "name:7, age:7,email7@gmail.com,9676622027\n",
      "9676622028,name:8, age:8,email8@gmail.com\n",
      "name:9, age:9,EMAl9@gmail.com,9676622029\n",
      "\n",
      "<_sre.SRE_Match object at 0x7f03084cf3d8>\n",
      "<_sre.SRE_Match object at 0x7f03084cf370>\n",
      "<_sre.SRE_Match object at 0x7f03084cf3d8>\n",
      "<_sre.SRE_Match object at 0x7f03084cf370>\n",
      "<_sre.SRE_Match object at 0x7f03084cf3d8>\n",
      "<_sre.SRE_Match object at 0x7f03084cf370>\n",
      "<_sre.SRE_Match object at 0x7f03084cf3d8>\n",
      "<_sre.SRE_Match object at 0x7f03084cf370>\n",
      "<_sre.SRE_Match object at 0x7f03084cf3d8>\n",
      "<_sre.SRE_Match object at 0x7f03084cf370>\n"
     ]
    }
   ],
   "source": [
    "import re\n",
    "f=open(\"data.csv\")\n",
    "data=f.read()\n",
    "print data\n",
    "res = re.finditer(\"[0-9]{10}\",data,re.I|re.M)\n",
    "for row in res:\n",
    "    print row"
   ]
  },
  {
   "cell_type": "code",
   "execution_count": 54,
   "metadata": {},
   "outputs": [
    {
     "name": "stdout",
     "output_type": "stream",
     "text": [
      "name:0, age:0,9676622020,email0@gmail.com\n",
      "email1@gmail.com,name:1, age:1,9676622021\n",
      "9676622022,name:2, age:2,email2@gmail.com\n",
      "age:3,name:3, 9676622023,email3@gmail.com\n",
      "email4@gmail.com,name:4, AGE:4,9676622024\n",
      "9676622025,name:5, age:5,email5@gmail.com\n",
      "age:6,name:6, 9676622026,email6@gmail.com\n",
      "name:7, age:7,email7@gmail.com,9676622027\n",
      "9676622028,name:8, age:8,email8@gmail.com\n",
      "name:9, age:9,EMAl9@gmail.com,9676622029\n",
      "\n",
      "9676622020\n",
      "9676622021\n",
      "9676622022\n",
      "9676622023\n",
      "9676622024\n",
      "9676622025\n",
      "9676622026\n",
      "9676622027\n",
      "9676622028\n",
      "9676622029\n"
     ]
    }
   ],
   "source": [
    "import re\n",
    "f=open(\"data.csv\")\n",
    "data=f.read()\n",
    "print data\n",
    "res = re.finditer(\"[0-9]{10}\",data,re.I|re.M)\n",
    "for row in res:\n",
    "    print row.group(0)"
   ]
  },
  {
   "cell_type": "code",
   "execution_count": 56,
   "metadata": {},
   "outputs": [
    {
     "name": "stdout",
     "output_type": "stream",
     "text": [
      "name:0, age:0,9676622020,email0@gmail.com\n",
      "email1@gmail.com,name:1, age:1,9676622021\n",
      "9676622022,name:2, age:2,email2@gmail.com\n",
      "age:3,name:3, 9676622023,email3@gmail.com\n",
      "email4@gmail.com,name:4, AGE:4,9676622024\n",
      "9676622025,name:5, age:5,email5@gmail.com\n",
      "age:6,name:6, 9676622026,email6@gmail.com\n",
      "name:7, age:7,email7@gmail.com,9676622027\n",
      "9676622028,name:8, age:8,email8@gmail.com\n",
      "name:9, age:9,EMAl9@gmail.com,9676622029\n",
      "\n",
      "<_sre.SRE_Match object at 0x7f03084cf648>\n"
     ]
    }
   ],
   "source": [
    "# match, search, compile\n",
    "import re\n",
    "f=open(\"data.csv\")\n",
    "data=f.read()\n",
    "print data\n",
    "res = re.match(\"[a-z]{2}\",data)\n",
    "print res"
   ]
  },
  {
   "cell_type": "code",
   "execution_count": 57,
   "metadata": {},
   "outputs": [
    {
     "name": "stdout",
     "output_type": "stream",
     "text": [
      "name:0, age:0,9676622020,email0@gmail.com\n",
      "email1@gmail.com,name:1, age:1,9676622021\n",
      "9676622022,name:2, age:2,email2@gmail.com\n",
      "age:3,name:3, 9676622023,email3@gmail.com\n",
      "email4@gmail.com,name:4, AGE:4,9676622024\n",
      "9676622025,name:5, age:5,email5@gmail.com\n",
      "age:6,name:6, 9676622026,email6@gmail.com\n",
      "name:7, age:7,email7@gmail.com,9676622027\n",
      "9676622028,name:8, age:8,email8@gmail.com\n",
      "name:9, age:9,EMAl9@gmail.com,9676622029\n",
      "\n",
      "<_sre.SRE_Match object at 0x7f03084cf7e8>\n",
      "na\n"
     ]
    }
   ],
   "source": [
    "# match, search, compile\n",
    "import re\n",
    "f=open(\"data.csv\")\n",
    "data=f.read()\n",
    "print data\n",
    "res = re.match(\"[a-z]{2}\",data)\n",
    "print res\n",
    "print res.group(0)"
   ]
  },
  {
   "cell_type": "code",
   "execution_count": 58,
   "metadata": {},
   "outputs": [
    {
     "name": "stdout",
     "output_type": "stream",
     "text": [
      "name:0, age:0,9676622020,email0@gmail.com\n",
      "email1@gmail.com,name:1, age:1,9676622021\n",
      "9676622022,name:2, age:2,email2@gmail.com\n",
      "age:3,name:3, 9676622023,email3@gmail.com\n",
      "email4@gmail.com,name:4, AGE:4,9676622024\n",
      "9676622025,name:5, age:5,email5@gmail.com\n",
      "age:6,name:6, 9676622026,email6@gmail.com\n",
      "name:7, age:7,email7@gmail.com,9676622027\n",
      "9676622028,name:8, age:8,email8@gmail.com\n",
      "name:9, age:9,EMAl9@gmail.com,9676622029\n",
      "\n",
      "None\n"
     ]
    }
   ],
   "source": [
    "# match, search, compile\n",
    "import re\n",
    "f=open(\"data.csv\")\n",
    "data=f.read()\n",
    "print data\n",
    "res = re.match(\"[0-9]{2}\",data)\n",
    "print res\n"
   ]
  },
  {
   "cell_type": "code",
   "execution_count": 59,
   "metadata": {},
   "outputs": [
    {
     "name": "stdout",
     "output_type": "stream",
     "text": [
      "name:0, age:0,9676622020,email0@gmail.com\n",
      "email1@gmail.com,name:1, age:1,9676622021\n",
      "9676622022,name:2, age:2,email2@gmail.com\n",
      "age:3,name:3, 9676622023,email3@gmail.com\n",
      "email4@gmail.com,name:4, AGE:4,9676622024\n",
      "9676622025,name:5, age:5,email5@gmail.com\n",
      "age:6,name:6, 9676622026,email6@gmail.com\n",
      "name:7, age:7,email7@gmail.com,9676622027\n",
      "9676622028,name:8, age:8,email8@gmail.com\n",
      "name:9, age:9,EMAl9@gmail.com,9676622029\n",
      "\n",
      "<_sre.SRE_Match object at 0x7f03084cf850>\n"
     ]
    }
   ],
   "source": [
    "# match, search, compile\n",
    "import re\n",
    "f=open(\"data.csv\")\n",
    "data=f.read()\n",
    "print data\n",
    "res = re.search(\"[0-9]{2}\",data)\n",
    "print res\n"
   ]
  },
  {
   "cell_type": "code",
   "execution_count": 60,
   "metadata": {},
   "outputs": [
    {
     "name": "stdout",
     "output_type": "stream",
     "text": [
      "name:0, age:0,9676622020,email0@gmail.com\n",
      "email1@gmail.com,name:1, age:1,9676622021\n",
      "9676622022,name:2, age:2,email2@gmail.com\n",
      "age:3,name:3, 9676622023,email3@gmail.com\n",
      "email4@gmail.com,name:4, AGE:4,9676622024\n",
      "9676622025,name:5, age:5,email5@gmail.com\n",
      "age:6,name:6, 9676622026,email6@gmail.com\n",
      "name:7, age:7,email7@gmail.com,9676622027\n",
      "9676622028,name:8, age:8,email8@gmail.com\n",
      "name:9, age:9,EMAl9@gmail.com,9676622029\n",
      "\n",
      "96\n"
     ]
    }
   ],
   "source": [
    "# match, search, compile\n",
    "import re\n",
    "f=open(\"data.csv\")\n",
    "data=f.read()\n",
    "print data\n",
    "res = re.search(\"[0-9]{2}\",data)\n",
    "print res.group(0)\n"
   ]
  },
  {
   "cell_type": "code",
   "execution_count": 61,
   "metadata": {
    "collapsed": true
   },
   "outputs": [],
   "source": [
    "# constants.py\n",
    "mobile_reg=re.compile(\"[0-9]{10}\")"
   ]
  },
  {
   "cell_type": "code",
   "execution_count": 62,
   "metadata": {},
   "outputs": [
    {
     "data": {
      "text/plain": [
       "['9676622020',\n",
       " '9676622021',\n",
       " '9676622022',\n",
       " '9676622023',\n",
       " '9676622024',\n",
       " '9676622025',\n",
       " '9676622026',\n",
       " '9676622027',\n",
       " '9676622028',\n",
       " '9676622029']"
      ]
     },
     "execution_count": 62,
     "metadata": {},
     "output_type": "execute_result"
    }
   ],
   "source": [
    "# app.py\n",
    "# from cinstants import mobile_reg\n",
    "mobile_reg.findall(data)"
   ]
  },
  {
   "cell_type": "code",
   "execution_count": 63,
   "metadata": {},
   "outputs": [
    {
     "name": "stdout",
     "output_type": "stream",
     "text": [
      "name:0, age:0,9676622020,email0@gmail.com\n",
      "email1@gmail.com,name:1, age:1,9676622021\n",
      "9676622022,name:2, age:2,email2@gmail.com\n",
      "age:3,name:3, 9676622023,email3@gmail.com\n",
      "email4@gmail.com,name:4, AGE:4,9676622024\n",
      "9676622025,name:5, age:5,email5@gmail.com\n",
      "age:6,name:6, 9676622026,email6@gmail.com\n",
      "name:7, age:7,email7@gmail.com,9676622027\n",
      "9676622028,name:8, age:8,email8@gmail.com\n",
      "name:9, age:9,EMAl9@gmail.com,9676622029\n",
      "\n",
      "['9676622020', '9676622021', '9676622022', '9676622023', '9676622024', '9676622025', '9676622026', '9676622027', '9676622028', '9676622029']\n"
     ]
    }
   ],
   "source": [
    "# match, search, compile\n",
    "import re\n",
    "f=open(\"data.csv\")\n",
    "data=f.read()\n",
    "print data\n",
    "res = re.findall(\"[0-9]{10}\",data)\n",
    "print res\n"
   ]
  },
  {
   "cell_type": "code",
   "execution_count": 64,
   "metadata": {},
   "outputs": [
    {
     "name": "stdout",
     "output_type": "stream",
     "text": [
      "name:0, age:0,9676622020,email0@gmail.com\n",
      "email1@gmail.com,name:1, age:1,9676622021\n",
      "9676622022,name:2, age:2,email2@gmail.com\n",
      "age:3,name:3, 9676622023,email3@gmail.com\n",
      "email4@gmail.com,name:4, AGE:4,9676622024\n",
      "9676622025,name:5, age:5,email5@gmail.com\n",
      "age:6,name:6, 9676622026,email6@gmail.com\n",
      "name:7, age:7,email7@gmail.com,9676622027\n",
      "9676622028,name:8, age:8,email8@gmail.com\n",
      "name:9, age:9,EMAl9@gmail.com,9676622029\n",
      "\n",
      "['9676622020', '9676622021', '9676622022', '9676622023', '9676622024', '9676622025', '9676622026', '9676622027', '9676622028', '9676622029']\n"
     ]
    }
   ],
   "source": [
    "# match, search, compile\n",
    "import re\n",
    "f=open(\"data.csv\")\n",
    "data=f.read()\n",
    "print data\n",
    "res = re.findall(\"[\\d]{10}\",data)\n",
    "print res\n"
   ]
  },
  {
   "cell_type": "code",
   "execution_count": 66,
   "metadata": {},
   "outputs": [
    {
     "name": "stdout",
     "output_type": "stream",
     "text": [
      "{'message': 'program started', 'levelname': 'INFO', 'asctime': 1521517135.314686}\n"
     ]
    }
   ],
   "source": [
    "import time\n",
    "d={}\n",
    "d['asctime']=time.time()\n",
    "d['levelname']=\"INFO\"\n",
    "d['message']=\"program started\"\n",
    "print d"
   ]
  },
  {
   "cell_type": "code",
   "execution_count": 67,
   "metadata": {},
   "outputs": [
    {
     "name": "stdout",
     "output_type": "stream",
     "text": [
      "{'message': 'program started', 'levelname': 'INFO', 'asctime': 1521517148.775136}\n",
      "program started\n"
     ]
    }
   ],
   "source": [
    "import time\n",
    "d={}\n",
    "d['asctime']=time.time()\n",
    "d['levelname']=\"INFO\"\n",
    "d['message']=\"program started\"\n",
    "print d\n",
    "print d.get(\"message\")"
   ]
  },
  {
   "cell_type": "code",
   "execution_count": 68,
   "metadata": {},
   "outputs": [
    {
     "name": "stdout",
     "output_type": "stream",
     "text": [
      "{'message': 'program started', 'levelname': 'INFO', 'asctime': 1521517163.303537}\n",
      "program started\n",
      "program started\n"
     ]
    }
   ],
   "source": [
    "import time\n",
    "d={}\n",
    "d['asctime']=time.time()\n",
    "d['levelname']=\"INFO\"\n",
    "d['message']=\"program started\"\n",
    "print d\n",
    "print d.get(\"message\")\n",
    "print \"%(message)s\"%d"
   ]
  },
  {
   "cell_type": "code",
   "execution_count": 69,
   "metadata": {},
   "outputs": [
    {
     "name": "stdout",
     "output_type": "stream",
     "text": [
      "{'message': 'program started', 'levelname': 'INFO', 'asctime': 1521517188.824687}\n",
      "program started\n",
      "program started,INFO,1521517188.82\n"
     ]
    }
   ],
   "source": [
    "import time\n",
    "d={}\n",
    "d['asctime']=time.time()\n",
    "d['levelname']=\"INFO\"\n",
    "d['message']=\"program started\"\n",
    "print d\n",
    "print d.get(\"message\")\n",
    "print \"%(message)s,%(levelname)s,%(asctime)s\"%d"
   ]
  },
  {
   "cell_type": "code",
   "execution_count": null,
   "metadata": {
    "collapsed": true
   },
   "outputs": [],
   "source": []
  }
 ],
 "metadata": {
  "kernelspec": {
   "display_name": "Python 2",
   "language": "python",
   "name": "python2"
  },
  "language_info": {
   "codemirror_mode": {
    "name": "ipython",
    "version": 2
   },
   "file_extension": ".py",
   "mimetype": "text/x-python",
   "name": "python",
   "nbconvert_exporter": "python",
   "pygments_lexer": "ipython2",
   "version": "2.7.14"
  }
 },
 "nbformat": 4,
 "nbformat_minor": 2
}
