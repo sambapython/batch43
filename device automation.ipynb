{
 "cells": [
  {
   "cell_type": "code",
   "execution_count": 1,
   "metadata": {
    "collapsed": true
   },
   "outputs": [],
   "source": [
    "from github import Github\n",
    "username=\"\"\n",
    "password=\"\"\n",
    "g=Github(username, password)"
   ]
  },
  {
   "cell_type": "code",
   "execution_count": 2,
   "metadata": {},
   "outputs": [
    {
     "data": {
      "text/plain": [
       "['FIX_REPO_GET_GIT_REF',\n",
       " '_Github__get_FIX_REPO_GET_GIT_REF',\n",
       " '_Github__get_per_page',\n",
       " '_Github__requester',\n",
       " '_Github__set_FIX_REPO_GET_GIT_REF',\n",
       " '_Github__set_per_page',\n",
       " '__class__',\n",
       " '__delattr__',\n",
       " '__dict__',\n",
       " '__doc__',\n",
       " '__format__',\n",
       " '__getattribute__',\n",
       " '__hash__',\n",
       " '__init__',\n",
       " '__module__',\n",
       " '__new__',\n",
       " '__reduce__',\n",
       " '__reduce_ex__',\n",
       " '__repr__',\n",
       " '__setattr__',\n",
       " '__sizeof__',\n",
       " '__str__',\n",
       " '__subclasshook__',\n",
       " '__weakref__',\n",
       " 'create_from_raw_data',\n",
       " 'dump',\n",
       " 'get_api_status',\n",
       " 'get_api_status_messages',\n",
       " 'get_emojis',\n",
       " 'get_gist',\n",
       " 'get_gists',\n",
       " 'get_gitignore_template',\n",
       " 'get_gitignore_templates',\n",
       " 'get_hook',\n",
       " 'get_hooks',\n",
       " 'get_installation',\n",
       " 'get_last_api_status_message',\n",
       " 'get_organization',\n",
       " 'get_rate_limit',\n",
       " 'get_repo',\n",
       " 'get_repos',\n",
       " 'get_user',\n",
       " 'get_users',\n",
       " 'legacy_search_repos',\n",
       " 'legacy_search_user_by_email',\n",
       " 'legacy_search_users',\n",
       " 'load',\n",
       " 'oauth_scopes',\n",
       " 'per_page',\n",
       " 'rate_limiting',\n",
       " 'rate_limiting_resettime',\n",
       " 'render_markdown',\n",
       " 'search_code',\n",
       " 'search_issues',\n",
       " 'search_repositories',\n",
       " 'search_users']"
      ]
     },
     "execution_count": 2,
     "metadata": {},
     "output_type": "execute_result"
    }
   ],
   "source": [
    "dir(g)"
   ]
  },
  {
   "cell_type": "code",
   "execution_count": 4,
   "metadata": {},
   "outputs": [
    {
     "ename": "TypeError",
     "evalue": "get_organization() takes exactly 2 arguments (1 given)",
     "output_type": "error",
     "traceback": [
      "\u001b[0;31m---------------------------------------------------------------------------\u001b[0m",
      "\u001b[0;31mTypeError\u001b[0m                                 Traceback (most recent call last)",
      "\u001b[0;32m<ipython-input-4-c7fd4c6472a4>\u001b[0m in \u001b[0;36m<module>\u001b[0;34m()\u001b[0m\n\u001b[0;32m----> 1\u001b[0;31m \u001b[0mg\u001b[0m\u001b[0;34m.\u001b[0m\u001b[0mget_organization\u001b[0m\u001b[0;34m(\u001b[0m\u001b[0;34m)\u001b[0m\u001b[0;34m\u001b[0m\u001b[0m\n\u001b[0m",
      "\u001b[0;31mTypeError\u001b[0m: get_organization() takes exactly 2 arguments (1 given)"
     ]
    }
   ],
   "source": [
    "g.get_organization()"
   ]
  },
  {
   "cell_type": "code",
   "execution_count": 5,
   "metadata": {},
   "outputs": [
    {
     "ename": "UnknownObjectException",
     "evalue": "404 {u'documentation_url': u'https://developer.github.com/v3/orgs/#get-an-organization', u'message': u'Not Found'}",
     "output_type": "error",
     "traceback": [
      "\u001b[0;31m---------------------------------------------------------------------------\u001b[0m",
      "\u001b[0;31mUnknownObjectException\u001b[0m                    Traceback (most recent call last)",
      "\u001b[0;32m<ipython-input-5-8137f41dac16>\u001b[0m in \u001b[0;36m<module>\u001b[0;34m()\u001b[0m\n\u001b[0;32m----> 1\u001b[0;31m \u001b[0morg\u001b[0m \u001b[0;34m=\u001b[0m \u001b[0mg\u001b[0m\u001b[0;34m.\u001b[0m\u001b[0mget_organization\u001b[0m\u001b[0;34m(\u001b[0m\u001b[0;34m\"uday1834\"\u001b[0m\u001b[0;34m)\u001b[0m\u001b[0;34m\u001b[0m\u001b[0m\n\u001b[0m",
      "\u001b[0;32m/home/khyaathi-python/anaconda2/lib/python2.7/site-packages/github/MainClass.pyc\u001b[0m in \u001b[0;36mget_organization\u001b[0;34m(self, login)\u001b[0m\n\u001b[1;32m    196\u001b[0m         headers, data = self.__requester.requestJsonAndCheck(\n\u001b[1;32m    197\u001b[0m             \u001b[0;34m\"GET\"\u001b[0m\u001b[0;34m,\u001b[0m\u001b[0;34m\u001b[0m\u001b[0m\n\u001b[0;32m--> 198\u001b[0;31m             \u001b[0;34m\"/orgs/\"\u001b[0m \u001b[0;34m+\u001b[0m \u001b[0mlogin\u001b[0m\u001b[0;34m\u001b[0m\u001b[0m\n\u001b[0m\u001b[1;32m    199\u001b[0m         )\n\u001b[1;32m    200\u001b[0m         \u001b[0;32mreturn\u001b[0m \u001b[0mgithub\u001b[0m\u001b[0;34m.\u001b[0m\u001b[0mOrganization\u001b[0m\u001b[0;34m.\u001b[0m\u001b[0mOrganization\u001b[0m\u001b[0;34m(\u001b[0m\u001b[0mself\u001b[0m\u001b[0;34m.\u001b[0m\u001b[0m__requester\u001b[0m\u001b[0;34m,\u001b[0m \u001b[0mheaders\u001b[0m\u001b[0;34m,\u001b[0m \u001b[0mdata\u001b[0m\u001b[0;34m,\u001b[0m \u001b[0mcompleted\u001b[0m\u001b[0;34m=\u001b[0m\u001b[0mTrue\u001b[0m\u001b[0;34m)\u001b[0m\u001b[0;34m\u001b[0m\u001b[0m\n",
      "\u001b[0;32m/home/khyaathi-python/anaconda2/lib/python2.7/site-packages/github/Requester.pyc\u001b[0m in \u001b[0;36mrequestJsonAndCheck\u001b[0;34m(self, verb, url, parameters, headers, input, cnx)\u001b[0m\n\u001b[1;32m    170\u001b[0m \u001b[0;34m\u001b[0m\u001b[0m\n\u001b[1;32m    171\u001b[0m     \u001b[0;32mdef\u001b[0m \u001b[0mrequestJsonAndCheck\u001b[0m\u001b[0;34m(\u001b[0m\u001b[0mself\u001b[0m\u001b[0;34m,\u001b[0m \u001b[0mverb\u001b[0m\u001b[0;34m,\u001b[0m \u001b[0murl\u001b[0m\u001b[0;34m,\u001b[0m \u001b[0mparameters\u001b[0m\u001b[0;34m=\u001b[0m\u001b[0mNone\u001b[0m\u001b[0;34m,\u001b[0m \u001b[0mheaders\u001b[0m\u001b[0;34m=\u001b[0m\u001b[0mNone\u001b[0m\u001b[0;34m,\u001b[0m \u001b[0minput\u001b[0m\u001b[0;34m=\u001b[0m\u001b[0mNone\u001b[0m\u001b[0;34m,\u001b[0m \u001b[0mcnx\u001b[0m\u001b[0;34m=\u001b[0m\u001b[0mNone\u001b[0m\u001b[0;34m)\u001b[0m\u001b[0;34m:\u001b[0m\u001b[0;34m\u001b[0m\u001b[0m\n\u001b[0;32m--> 172\u001b[0;31m         \u001b[0;32mreturn\u001b[0m \u001b[0mself\u001b[0m\u001b[0;34m.\u001b[0m\u001b[0m__check\u001b[0m\u001b[0;34m(\u001b[0m\u001b[0;34m*\u001b[0m\u001b[0mself\u001b[0m\u001b[0;34m.\u001b[0m\u001b[0mrequestJson\u001b[0m\u001b[0;34m(\u001b[0m\u001b[0mverb\u001b[0m\u001b[0;34m,\u001b[0m \u001b[0murl\u001b[0m\u001b[0;34m,\u001b[0m \u001b[0mparameters\u001b[0m\u001b[0;34m,\u001b[0m \u001b[0mheaders\u001b[0m\u001b[0;34m,\u001b[0m \u001b[0minput\u001b[0m\u001b[0;34m,\u001b[0m \u001b[0mcnx\u001b[0m\u001b[0;34m)\u001b[0m\u001b[0;34m)\u001b[0m\u001b[0;34m\u001b[0m\u001b[0m\n\u001b[0m\u001b[1;32m    173\u001b[0m \u001b[0;34m\u001b[0m\u001b[0m\n\u001b[1;32m    174\u001b[0m     \u001b[0;32mdef\u001b[0m \u001b[0mrequestMultipartAndCheck\u001b[0m\u001b[0;34m(\u001b[0m\u001b[0mself\u001b[0m\u001b[0;34m,\u001b[0m \u001b[0mverb\u001b[0m\u001b[0;34m,\u001b[0m \u001b[0murl\u001b[0m\u001b[0;34m,\u001b[0m \u001b[0mparameters\u001b[0m\u001b[0;34m=\u001b[0m\u001b[0mNone\u001b[0m\u001b[0;34m,\u001b[0m \u001b[0mheaders\u001b[0m\u001b[0;34m=\u001b[0m\u001b[0mNone\u001b[0m\u001b[0;34m,\u001b[0m \u001b[0minput\u001b[0m\u001b[0;34m=\u001b[0m\u001b[0mNone\u001b[0m\u001b[0;34m)\u001b[0m\u001b[0;34m:\u001b[0m\u001b[0;34m\u001b[0m\u001b[0m\n",
      "\u001b[0;32m/home/khyaathi-python/anaconda2/lib/python2.7/site-packages/github/Requester.pyc\u001b[0m in \u001b[0;36m__check\u001b[0;34m(self, status, responseHeaders, output)\u001b[0m\n\u001b[1;32m    178\u001b[0m         \u001b[0moutput\u001b[0m \u001b[0;34m=\u001b[0m \u001b[0mself\u001b[0m\u001b[0;34m.\u001b[0m\u001b[0m__structuredFromJson\u001b[0m\u001b[0;34m(\u001b[0m\u001b[0moutput\u001b[0m\u001b[0;34m)\u001b[0m\u001b[0;34m\u001b[0m\u001b[0m\n\u001b[1;32m    179\u001b[0m         \u001b[0;32mif\u001b[0m \u001b[0mstatus\u001b[0m \u001b[0;34m>=\u001b[0m \u001b[0;36m400\u001b[0m\u001b[0;34m:\u001b[0m\u001b[0;34m\u001b[0m\u001b[0m\n\u001b[0;32m--> 180\u001b[0;31m             \u001b[0;32mraise\u001b[0m \u001b[0mself\u001b[0m\u001b[0;34m.\u001b[0m\u001b[0m__createException\u001b[0m\u001b[0;34m(\u001b[0m\u001b[0mstatus\u001b[0m\u001b[0;34m,\u001b[0m \u001b[0mresponseHeaders\u001b[0m\u001b[0;34m,\u001b[0m \u001b[0moutput\u001b[0m\u001b[0;34m)\u001b[0m\u001b[0;34m\u001b[0m\u001b[0m\n\u001b[0m\u001b[1;32m    181\u001b[0m         \u001b[0;32mreturn\u001b[0m \u001b[0mresponseHeaders\u001b[0m\u001b[0;34m,\u001b[0m \u001b[0moutput\u001b[0m\u001b[0;34m\u001b[0m\u001b[0m\n\u001b[1;32m    182\u001b[0m \u001b[0;34m\u001b[0m\u001b[0m\n",
      "\u001b[0;31mUnknownObjectException\u001b[0m: 404 {u'documentation_url': u'https://developer.github.com/v3/orgs/#get-an-organization', u'message': u'Not Found'}"
     ]
    }
   ],
   "source": [
    "org = g.get_organization(\"uday1834\")"
   ]
  },
  {
   "cell_type": "code",
   "execution_count": 6,
   "metadata": {
    "collapsed": true
   },
   "outputs": [],
   "source": [
    "user = g.get_user()"
   ]
  },
  {
   "cell_type": "code",
   "execution_count": 7,
   "metadata": {},
   "outputs": [
    {
     "name": "stdout",
     "output_type": "stream",
     "text": [
      "AuthenticatedUser(login=None)\n"
     ]
    }
   ],
   "source": [
    "print user"
   ]
  },
  {
   "cell_type": "code",
   "execution_count": 8,
   "metadata": {
    "collapsed": true
   },
   "outputs": [],
   "source": [
    "user.name"
   ]
  },
  {
   "cell_type": "code",
   "execution_count": 9,
   "metadata": {},
   "outputs": [
    {
     "data": {
      "text/plain": [
       "['CHECK_AFTER_INIT_FLAG',\n",
       " '_CompletableGithubObject__complete',\n",
       " '_CompletableGithubObject__completed',\n",
       " '_GithubObject__makeSimpleAttribute',\n",
       " '_GithubObject__makeSimpleListAttribute',\n",
       " '_GithubObject__makeTransformedAttribute',\n",
       " '__class__',\n",
       " '__delattr__',\n",
       " '__dict__',\n",
       " '__doc__',\n",
       " '__eq__',\n",
       " '__format__',\n",
       " '__getattribute__',\n",
       " '__hash__',\n",
       " '__init__',\n",
       " '__module__',\n",
       " '__ne__',\n",
       " '__new__',\n",
       " '__reduce__',\n",
       " '__reduce_ex__',\n",
       " '__repr__',\n",
       " '__setattr__',\n",
       " '__sizeof__',\n",
       " '__str__',\n",
       " '__subclasshook__',\n",
       " '__weakref__',\n",
       " '_avatar_url',\n",
       " '_bio',\n",
       " '_blog',\n",
       " '_collaborators',\n",
       " '_company',\n",
       " '_completeIfNeeded',\n",
       " '_completeIfNotSet',\n",
       " '_created_at',\n",
       " '_disk_usage',\n",
       " '_email',\n",
       " '_events_url',\n",
       " '_followers',\n",
       " '_followers_url',\n",
       " '_following',\n",
       " '_following_url',\n",
       " '_gists_url',\n",
       " '_gravatar_id',\n",
       " '_headers',\n",
       " '_hireable',\n",
       " '_html_url',\n",
       " '_id',\n",
       " '_initAttributes',\n",
       " '_location',\n",
       " '_login',\n",
       " '_makeBoolAttribute',\n",
       " '_makeClassAttribute',\n",
       " '_makeDatetimeAttribute',\n",
       " '_makeDictAttribute',\n",
       " '_makeDictOfStringsToClassesAttribute',\n",
       " '_makeIntAttribute',\n",
       " '_makeListOfClassesAttribute',\n",
       " '_makeListOfIntsAttribute',\n",
       " '_makeListOfListOfStringsAttribute',\n",
       " '_makeListOfStringsAttribute',\n",
       " '_makeStringAttribute',\n",
       " '_makeTimestampAttribute',\n",
       " '_name',\n",
       " '_organizations_url',\n",
       " '_owned_private_repos',\n",
       " '_parentUrl',\n",
       " '_plan',\n",
       " '_private_gists',\n",
       " '_public_gists',\n",
       " '_public_repos',\n",
       " '_rawData',\n",
       " '_received_events_url',\n",
       " '_repos_url',\n",
       " '_requester',\n",
       " '_site_admin',\n",
       " '_starred_url',\n",
       " '_storeAndUseAttributes',\n",
       " '_subscriptions_url',\n",
       " '_total_private_repos',\n",
       " '_type',\n",
       " '_updated_at',\n",
       " '_url',\n",
       " '_useAttributes',\n",
       " 'accept_invitation',\n",
       " 'add_to_emails',\n",
       " 'add_to_following',\n",
       " 'add_to_starred',\n",
       " 'add_to_subscriptions',\n",
       " 'add_to_watched',\n",
       " 'avatar_url',\n",
       " 'bio',\n",
       " 'blog',\n",
       " 'collaborators',\n",
       " 'company',\n",
       " 'create_authorization',\n",
       " 'create_fork',\n",
       " 'create_gist',\n",
       " 'create_key',\n",
       " 'create_repo',\n",
       " 'created_at',\n",
       " 'disk_usage',\n",
       " 'edit',\n",
       " 'email',\n",
       " 'etag',\n",
       " 'events_url',\n",
       " 'followers',\n",
       " 'followers_url',\n",
       " 'following',\n",
       " 'following_url',\n",
       " 'get__repr__',\n",
       " 'get_authorization',\n",
       " 'get_authorizations',\n",
       " 'get_emails',\n",
       " 'get_events',\n",
       " 'get_followers',\n",
       " 'get_following',\n",
       " 'get_gists',\n",
       " 'get_issues',\n",
       " 'get_key',\n",
       " 'get_keys',\n",
       " 'get_notification',\n",
       " 'get_notifications',\n",
       " 'get_organization_events',\n",
       " 'get_orgs',\n",
       " 'get_repo',\n",
       " 'get_repos',\n",
       " 'get_starred',\n",
       " 'get_starred_gists',\n",
       " 'get_subscriptions',\n",
       " 'get_teams',\n",
       " 'get_user_issues',\n",
       " 'get_watched',\n",
       " 'gists_url',\n",
       " 'gravatar_id',\n",
       " 'has_in_following',\n",
       " 'has_in_starred',\n",
       " 'has_in_subscriptions',\n",
       " 'has_in_watched',\n",
       " 'hireable',\n",
       " 'html_url',\n",
       " 'id',\n",
       " 'last_modified',\n",
       " 'location',\n",
       " 'login',\n",
       " 'name',\n",
       " 'organizations_url',\n",
       " 'owned_private_repos',\n",
       " 'plan',\n",
       " 'private_gists',\n",
       " 'public_gists',\n",
       " 'public_repos',\n",
       " 'raw_data',\n",
       " 'raw_headers',\n",
       " 'received_events_url',\n",
       " 'remove_from_emails',\n",
       " 'remove_from_following',\n",
       " 'remove_from_starred',\n",
       " 'remove_from_subscriptions',\n",
       " 'remove_from_watched',\n",
       " 'repos_url',\n",
       " 'setCheckAfterInitFlag',\n",
       " 'site_admin',\n",
       " 'starred_url',\n",
       " 'subscriptions_url',\n",
       " 'total_private_repos',\n",
       " 'type',\n",
       " 'update',\n",
       " 'updated_at',\n",
       " 'url']"
      ]
     },
     "execution_count": 9,
     "metadata": {},
     "output_type": "execute_result"
    }
   ],
   "source": [
    "dir(user)"
   ]
  },
  {
   "cell_type": "code",
   "execution_count": 10,
   "metadata": {},
   "outputs": [
    {
     "name": "stdout",
     "output_type": "stream",
     "text": [
      "Organization(name=None, id=34699715)\n",
      "Organization(name=None, id=34699732)\n",
      "Organization(name=None, id=37465038)\n"
     ]
    }
   ],
   "source": [
    "for org in user.get_orgs():\n",
    "    print org"
   ]
  },
  {
   "cell_type": "code",
   "execution_count": 11,
   "metadata": {},
   "outputs": [
    {
     "name": "stdout",
     "output_type": "stream",
     "text": [
      "None\n",
      "None\n",
      "None\n"
     ]
    }
   ],
   "source": [
    "for org in user.get_orgs():\n",
    "    print org.name"
   ]
  },
  {
   "cell_type": "code",
   "execution_count": 12,
   "metadata": {},
   "outputs": [
    {
     "data": {
      "text/plain": [
       "['CHECK_AFTER_INIT_FLAG',\n",
       " '_CompletableGithubObject__complete',\n",
       " '_CompletableGithubObject__completed',\n",
       " '_GithubObject__makeSimpleAttribute',\n",
       " '_GithubObject__makeSimpleListAttribute',\n",
       " '_GithubObject__makeTransformedAttribute',\n",
       " '__class__',\n",
       " '__delattr__',\n",
       " '__dict__',\n",
       " '__doc__',\n",
       " '__eq__',\n",
       " '__format__',\n",
       " '__getattribute__',\n",
       " '__hash__',\n",
       " '__init__',\n",
       " '__module__',\n",
       " '__ne__',\n",
       " '__new__',\n",
       " '__reduce__',\n",
       " '__reduce_ex__',\n",
       " '__repr__',\n",
       " '__setattr__',\n",
       " '__sizeof__',\n",
       " '__str__',\n",
       " '__subclasshook__',\n",
       " '__weakref__',\n",
       " '_avatar_url',\n",
       " '_billing_email',\n",
       " '_blog',\n",
       " '_collaborators',\n",
       " '_company',\n",
       " '_completeIfNeeded',\n",
       " '_completeIfNotSet',\n",
       " '_created_at',\n",
       " '_disk_usage',\n",
       " '_email',\n",
       " '_events_url',\n",
       " '_followers',\n",
       " '_following',\n",
       " '_gravatar_id',\n",
       " '_headers',\n",
       " '_html_url',\n",
       " '_id',\n",
       " '_initAttributes',\n",
       " '_location',\n",
       " '_login',\n",
       " '_makeBoolAttribute',\n",
       " '_makeClassAttribute',\n",
       " '_makeDatetimeAttribute',\n",
       " '_makeDictAttribute',\n",
       " '_makeDictOfStringsToClassesAttribute',\n",
       " '_makeIntAttribute',\n",
       " '_makeListOfClassesAttribute',\n",
       " '_makeListOfIntsAttribute',\n",
       " '_makeListOfListOfStringsAttribute',\n",
       " '_makeListOfStringsAttribute',\n",
       " '_makeStringAttribute',\n",
       " '_makeTimestampAttribute',\n",
       " '_members_url',\n",
       " '_name',\n",
       " '_owned_private_repos',\n",
       " '_parentUrl',\n",
       " '_plan',\n",
       " '_private_gists',\n",
       " '_public_gists',\n",
       " '_public_members_url',\n",
       " '_public_repos',\n",
       " '_rawData',\n",
       " '_repos_url',\n",
       " '_requester',\n",
       " '_storeAndUseAttributes',\n",
       " '_total_private_repos',\n",
       " '_type',\n",
       " '_updated_at',\n",
       " '_url',\n",
       " '_useAttributes',\n",
       " 'add_to_public_members',\n",
       " 'avatar_url',\n",
       " 'billing_email',\n",
       " 'blog',\n",
       " 'collaborators',\n",
       " 'company',\n",
       " 'create_fork',\n",
       " 'create_repo',\n",
       " 'create_team',\n",
       " 'created_at',\n",
       " 'disk_usage',\n",
       " 'edit',\n",
       " 'email',\n",
       " 'etag',\n",
       " 'events_url',\n",
       " 'followers',\n",
       " 'following',\n",
       " 'get__repr__',\n",
       " 'get_events',\n",
       " 'get_issues',\n",
       " 'get_members',\n",
       " 'get_public_members',\n",
       " 'get_repo',\n",
       " 'get_repos',\n",
       " 'get_team',\n",
       " 'get_teams',\n",
       " 'gravatar_id',\n",
       " 'has_in_members',\n",
       " 'has_in_public_members',\n",
       " 'html_url',\n",
       " 'id',\n",
       " 'last_modified',\n",
       " 'location',\n",
       " 'login',\n",
       " 'members_url',\n",
       " 'name',\n",
       " 'owned_private_repos',\n",
       " 'plan',\n",
       " 'private_gists',\n",
       " 'public_gists',\n",
       " 'public_members_url',\n",
       " 'public_repos',\n",
       " 'raw_data',\n",
       " 'raw_headers',\n",
       " 'remove_from_members',\n",
       " 'remove_from_public_members',\n",
       " 'repos_url',\n",
       " 'setCheckAfterInitFlag',\n",
       " 'total_private_repos',\n",
       " 'type',\n",
       " 'update',\n",
       " 'updated_at',\n",
       " 'url']"
      ]
     },
     "execution_count": 12,
     "metadata": {},
     "output_type": "execute_result"
    }
   ],
   "source": [
    "dir(org)"
   ]
  },
  {
   "cell_type": "code",
   "execution_count": 13,
   "metadata": {},
   "outputs": [
    {
     "name": "stdout",
     "output_type": "stream",
     "text": [
      "Repository(full_name=\"khyaathi/batch44_repo0\")\n",
      "Repository(full_name=\"tcloud123/batch44_repo1\")\n",
      "Repository(full_name=\"khyaathiinstitute/batch44_repo2\")\n"
     ]
    }
   ],
   "source": [
    "i=0\n",
    "for org in user.get_orgs():\n",
    "    print org.create_repo(\"batch44_repo%s\"%i)\n",
    "    i=i+1\n",
    "    "
   ]
  },
  {
   "cell_type": "code",
   "execution_count": 14,
   "metadata": {
    "collapsed": true
   },
   "outputs": [],
   "source": [
    "import requests"
   ]
  },
  {
   "cell_type": "code",
   "execution_count": 15,
   "metadata": {
    "collapsed": true
   },
   "outputs": [],
   "source": [
    "requests.post?"
   ]
  },
  {
   "cell_type": "code",
   "execution_count": null,
   "metadata": {
    "collapsed": true
   },
   "outputs": [],
   "source": [
    "requests.get"
   ]
  },
  {
   "cell_type": "code",
   "execution_count": null,
   "metadata": {
    "collapsed": true
   },
   "outputs": [],
   "source": [
    "requests.put"
   ]
  },
  {
   "cell_type": "code",
   "execution_count": null,
   "metadata": {
    "collapsed": true
   },
   "outputs": [],
   "source": [
    "requests.delete"
   ]
  },
  {
   "cell_type": "code",
   "execution_count": 17,
   "metadata": {
    "collapsed": true
   },
   "outputs": [],
   "source": [
    "resp = requests.get(\"https://api.github.com/orgs/khyaathi/repos\",auth=(username, password))"
   ]
  },
  {
   "cell_type": "code",
   "execution_count": 18,
   "metadata": {},
   "outputs": [
    {
     "data": {
      "text/plain": [
       "<Response [200]>"
      ]
     },
     "execution_count": 18,
     "metadata": {},
     "output_type": "execute_result"
    }
   ],
   "source": [
    "resp"
   ]
  },
  {
   "cell_type": "code",
   "execution_count": 19,
   "metadata": {
    "collapsed": true
   },
   "outputs": [],
   "source": [
    "repos = resp.json()"
   ]
  },
  {
   "cell_type": "code",
   "execution_count": 21,
   "metadata": {},
   "outputs": [
    {
     "name": "stdout",
     "output_type": "stream",
     "text": [
      "[{u'issues_url': u'https://api.github.com/repos/khyaathi/khyaathirepo1/issues{/number}', u'deployments_url': u'https://api.github.com/repos/khyaathi/khyaathirepo1/deployments', u'stargazers_count': 0, u'forks_url': u'https://api.github.com/repos/khyaathi/khyaathirepo1/forks', u'mirror_url': None, u'subscription_url': u'https://api.github.com/repos/khyaathi/khyaathirepo1/subscription', u'notifications_url': u'https://api.github.com/repos/khyaathi/khyaathirepo1/notifications{?since,all,participating}', u'collaborators_url': u'https://api.github.com/repos/khyaathi/khyaathirepo1/collaborators{/collaborator}', u'updated_at': u'2017-12-20T03:13:48Z', u'private': False, u'pulls_url': u'https://api.github.com/repos/khyaathi/khyaathirepo1/pulls{/number}', u'issue_comment_url': u'https://api.github.com/repos/khyaathi/khyaathirepo1/issues/comments{/number}', u'labels_url': u'https://api.github.com/repos/khyaathi/khyaathirepo1/labels{/name}', u'has_wiki': True, u'full_name': u'khyaathi/khyaathirepo1', u'owner': {u'following_url': u'https://api.github.com/users/khyaathi/following{/other_user}', u'events_url': u'https://api.github.com/users/khyaathi/events{/privacy}', u'organizations_url': u'https://api.github.com/users/khyaathi/orgs', u'url': u'https://api.github.com/users/khyaathi', u'gists_url': u'https://api.github.com/users/khyaathi/gists{/gist_id}', u'html_url': u'https://github.com/khyaathi', u'subscriptions_url': u'https://api.github.com/users/khyaathi/subscriptions', u'avatar_url': u'https://avatars2.githubusercontent.com/u/34699715?v=4', u'repos_url': u'https://api.github.com/users/khyaathi/repos', u'received_events_url': u'https://api.github.com/users/khyaathi/received_events', u'gravatar_id': u'', u'starred_url': u'https://api.github.com/users/khyaathi/starred{/owner}{/repo}', u'site_admin': False, u'login': u'khyaathi', u'type': u'Organization', u'id': 34699715, u'followers_url': u'https://api.github.com/users/khyaathi/followers'}, u'statuses_url': u'https://api.github.com/repos/khyaathi/khyaathirepo1/statuses/{sha}', u'id': 114837420, u'keys_url': u'https://api.github.com/repos/khyaathi/khyaathirepo1/keys{/key_id}', u'description': u'khyaathirepo1', u'tags_url': u'https://api.github.com/repos/khyaathi/khyaathirepo1/tags', u'archived': False, u'downloads_url': u'https://api.github.com/repos/khyaathi/khyaathirepo1/downloads', u'assignees_url': u'https://api.github.com/repos/khyaathi/khyaathirepo1/assignees{/user}', u'contents_url': u'https://api.github.com/repos/khyaathi/khyaathirepo1/contents/{+path}', u'has_pages': False, u'git_refs_url': u'https://api.github.com/repos/khyaathi/khyaathirepo1/git/refs{/sha}', u'open_issues_count': 0, u'has_projects': True, u'clone_url': u'https://github.com/khyaathi/khyaathirepo1.git', u'watchers_count': 0, u'git_tags_url': u'https://api.github.com/repos/khyaathi/khyaathirepo1/git/tags{/sha}', u'milestones_url': u'https://api.github.com/repos/khyaathi/khyaathirepo1/milestones{/number}', u'languages_url': u'https://api.github.com/repos/khyaathi/khyaathirepo1/languages', u'size': 0, u'homepage': None, u'fork': False, u'commits_url': u'https://api.github.com/repos/khyaathi/khyaathirepo1/commits{/sha}', u'releases_url': u'https://api.github.com/repos/khyaathi/khyaathirepo1/releases{/id}', u'issue_events_url': u'https://api.github.com/repos/khyaathi/khyaathirepo1/issues/events{/number}', u'archive_url': u'https://api.github.com/repos/khyaathi/khyaathirepo1/{archive_format}{/ref}', u'comments_url': u'https://api.github.com/repos/khyaathi/khyaathirepo1/comments{/number}', u'events_url': u'https://api.github.com/repos/khyaathi/khyaathirepo1/events', u'contributors_url': u'https://api.github.com/repos/khyaathi/khyaathirepo1/contributors', u'html_url': u'https://github.com/khyaathi/khyaathirepo1', u'forks': 0, u'compare_url': u'https://api.github.com/repos/khyaathi/khyaathirepo1/compare/{base}...{head}', u'open_issues': 0, u'watchers': 0, u'git_url': u'git://github.com/khyaathi/khyaathirepo1.git', u'svn_url': u'https://github.com/khyaathi/khyaathirepo1', u'merges_url': u'https://api.github.com/repos/khyaathi/khyaathirepo1/merges', u'has_issues': True, u'ssh_url': u'git@github.com:khyaathi/khyaathirepo1.git', u'blobs_url': u'https://api.github.com/repos/khyaathi/khyaathirepo1/git/blobs{/sha}', u'git_commits_url': u'https://api.github.com/repos/khyaathi/khyaathirepo1/git/commits{/sha}', u'hooks_url': u'https://api.github.com/repos/khyaathi/khyaathirepo1/hooks', u'has_downloads': True, u'license': None, u'name': u'khyaathirepo1', u'language': None, u'url': u'https://api.github.com/repos/khyaathi/khyaathirepo1', u'created_at': u'2017-12-20T03:13:48Z', u'pushed_at': u'2017-12-20T03:13:48Z', u'forks_count': 0, u'default_branch': u'master', u'teams_url': u'https://api.github.com/repos/khyaathi/khyaathirepo1/teams', u'trees_url': u'https://api.github.com/repos/khyaathi/khyaathirepo1/git/trees{/sha}', u'branches_url': u'https://api.github.com/repos/khyaathi/khyaathirepo1/branches{/branch}', u'subscribers_url': u'https://api.github.com/repos/khyaathi/khyaathirepo1/subscribers', u'permissions': {u'admin': True, u'push': True, u'pull': True}, u'stargazers_url': u'https://api.github.com/repos/khyaathi/khyaathirepo1/stargazers'}, {u'issues_url': u'https://api.github.com/repos/khyaathi/khyaathirepo2/issues{/number}', u'deployments_url': u'https://api.github.com/repos/khyaathi/khyaathirepo2/deployments', u'stargazers_count': 0, u'forks_url': u'https://api.github.com/repos/khyaathi/khyaathirepo2/forks', u'mirror_url': None, u'subscription_url': u'https://api.github.com/repos/khyaathi/khyaathirepo2/subscription', u'notifications_url': u'https://api.github.com/repos/khyaathi/khyaathirepo2/notifications{?since,all,participating}', u'collaborators_url': u'https://api.github.com/repos/khyaathi/khyaathirepo2/collaborators{/collaborator}', u'updated_at': u'2017-12-20T03:16:22Z', u'private': False, u'pulls_url': u'https://api.github.com/repos/khyaathi/khyaathirepo2/pulls{/number}', u'issue_comment_url': u'https://api.github.com/repos/khyaathi/khyaathirepo2/issues/comments{/number}', u'labels_url': u'https://api.github.com/repos/khyaathi/khyaathirepo2/labels{/name}', u'has_wiki': True, u'full_name': u'khyaathi/khyaathirepo2', u'owner': {u'following_url': u'https://api.github.com/users/khyaathi/following{/other_user}', u'events_url': u'https://api.github.com/users/khyaathi/events{/privacy}', u'organizations_url': u'https://api.github.com/users/khyaathi/orgs', u'url': u'https://api.github.com/users/khyaathi', u'gists_url': u'https://api.github.com/users/khyaathi/gists{/gist_id}', u'html_url': u'https://github.com/khyaathi', u'subscriptions_url': u'https://api.github.com/users/khyaathi/subscriptions', u'avatar_url': u'https://avatars2.githubusercontent.com/u/34699715?v=4', u'repos_url': u'https://api.github.com/users/khyaathi/repos', u'received_events_url': u'https://api.github.com/users/khyaathi/received_events', u'gravatar_id': u'', u'starred_url': u'https://api.github.com/users/khyaathi/starred{/owner}{/repo}', u'site_admin': False, u'login': u'khyaathi', u'type': u'Organization', u'id': 34699715, u'followers_url': u'https://api.github.com/users/khyaathi/followers'}, u'statuses_url': u'https://api.github.com/repos/khyaathi/khyaathirepo2/statuses/{sha}', u'id': 114837626, u'keys_url': u'https://api.github.com/repos/khyaathi/khyaathirepo2/keys{/key_id}', u'description': None, u'tags_url': u'https://api.github.com/repos/khyaathi/khyaathirepo2/tags', u'archived': False, u'downloads_url': u'https://api.github.com/repos/khyaathi/khyaathirepo2/downloads', u'assignees_url': u'https://api.github.com/repos/khyaathi/khyaathirepo2/assignees{/user}', u'contents_url': u'https://api.github.com/repos/khyaathi/khyaathirepo2/contents/{+path}', u'has_pages': False, u'git_refs_url': u'https://api.github.com/repos/khyaathi/khyaathirepo2/git/refs{/sha}', u'open_issues_count': 0, u'has_projects': True, u'clone_url': u'https://github.com/khyaathi/khyaathirepo2.git', u'watchers_count': 0, u'git_tags_url': u'https://api.github.com/repos/khyaathi/khyaathirepo2/git/tags{/sha}', u'milestones_url': u'https://api.github.com/repos/khyaathi/khyaathirepo2/milestones{/number}', u'languages_url': u'https://api.github.com/repos/khyaathi/khyaathirepo2/languages', u'size': 0, u'homepage': None, u'fork': False, u'commits_url': u'https://api.github.com/repos/khyaathi/khyaathirepo2/commits{/sha}', u'releases_url': u'https://api.github.com/repos/khyaathi/khyaathirepo2/releases{/id}', u'issue_events_url': u'https://api.github.com/repos/khyaathi/khyaathirepo2/issues/events{/number}', u'archive_url': u'https://api.github.com/repos/khyaathi/khyaathirepo2/{archive_format}{/ref}', u'comments_url': u'https://api.github.com/repos/khyaathi/khyaathirepo2/comments{/number}', u'events_url': u'https://api.github.com/repos/khyaathi/khyaathirepo2/events', u'contributors_url': u'https://api.github.com/repos/khyaathi/khyaathirepo2/contributors', u'html_url': u'https://github.com/khyaathi/khyaathirepo2', u'forks': 0, u'compare_url': u'https://api.github.com/repos/khyaathi/khyaathirepo2/compare/{base}...{head}', u'open_issues': 0, u'watchers': 0, u'git_url': u'git://github.com/khyaathi/khyaathirepo2.git', u'svn_url': u'https://github.com/khyaathi/khyaathirepo2', u'merges_url': u'https://api.github.com/repos/khyaathi/khyaathirepo2/merges', u'has_issues': True, u'ssh_url': u'git@github.com:khyaathi/khyaathirepo2.git', u'blobs_url': u'https://api.github.com/repos/khyaathi/khyaathirepo2/git/blobs{/sha}', u'git_commits_url': u'https://api.github.com/repos/khyaathi/khyaathirepo2/git/commits{/sha}', u'hooks_url': u'https://api.github.com/repos/khyaathi/khyaathirepo2/hooks', u'has_downloads': True, u'license': None, u'name': u'khyaathirepo2', u'language': None, u'url': u'https://api.github.com/repos/khyaathi/khyaathirepo2', u'created_at': u'2017-12-20T03:16:22Z', u'pushed_at': u'2017-12-20T03:16:23Z', u'forks_count': 0, u'default_branch': u'master', u'teams_url': u'https://api.github.com/repos/khyaathi/khyaathirepo2/teams', u'trees_url': u'https://api.github.com/repos/khyaathi/khyaathirepo2/git/trees{/sha}', u'branches_url': u'https://api.github.com/repos/khyaathi/khyaathirepo2/branches{/branch}', u'subscribers_url': u'https://api.github.com/repos/khyaathi/khyaathirepo2/subscribers', u'permissions': {u'admin': True, u'push': True, u'pull': True}, u'stargazers_url': u'https://api.github.com/repos/khyaathi/khyaathirepo2/stargazers'}, {u'issues_url': u'https://api.github.com/repos/khyaathi/python_repo/issues{/number}', u'deployments_url': u'https://api.github.com/repos/khyaathi/python_repo/deployments', u'stargazers_count': 0, u'forks_url': u'https://api.github.com/repos/khyaathi/python_repo/forks', u'mirror_url': None, u'subscription_url': u'https://api.github.com/repos/khyaathi/python_repo/subscription', u'notifications_url': u'https://api.github.com/repos/khyaathi/python_repo/notifications{?since,all,participating}', u'collaborators_url': u'https://api.github.com/repos/khyaathi/python_repo/collaborators{/collaborator}', u'updated_at': u'2018-01-20T05:35:44Z', u'private': False, u'pulls_url': u'https://api.github.com/repos/khyaathi/python_repo/pulls{/number}', u'issue_comment_url': u'https://api.github.com/repos/khyaathi/python_repo/issues/comments{/number}', u'labels_url': u'https://api.github.com/repos/khyaathi/python_repo/labels{/name}', u'has_wiki': True, u'full_name': u'khyaathi/python_repo', u'owner': {u'following_url': u'https://api.github.com/users/khyaathi/following{/other_user}', u'events_url': u'https://api.github.com/users/khyaathi/events{/privacy}', u'organizations_url': u'https://api.github.com/users/khyaathi/orgs', u'url': u'https://api.github.com/users/khyaathi', u'gists_url': u'https://api.github.com/users/khyaathi/gists{/gist_id}', u'html_url': u'https://github.com/khyaathi', u'subscriptions_url': u'https://api.github.com/users/khyaathi/subscriptions', u'avatar_url': u'https://avatars2.githubusercontent.com/u/34699715?v=4', u'repos_url': u'https://api.github.com/users/khyaathi/repos', u'received_events_url': u'https://api.github.com/users/khyaathi/received_events', u'gravatar_id': u'', u'starred_url': u'https://api.github.com/users/khyaathi/starred{/owner}{/repo}', u'site_admin': False, u'login': u'khyaathi', u'type': u'Organization', u'id': 34699715, u'followers_url': u'https://api.github.com/users/khyaathi/followers'}, u'statuses_url': u'https://api.github.com/repos/khyaathi/python_repo/statuses/{sha}', u'id': 118212671, u'keys_url': u'https://api.github.com/repos/khyaathi/python_repo/keys{/key_id}', u'description': None, u'tags_url': u'https://api.github.com/repos/khyaathi/python_repo/tags', u'archived': False, u'downloads_url': u'https://api.github.com/repos/khyaathi/python_repo/downloads', u'assignees_url': u'https://api.github.com/repos/khyaathi/python_repo/assignees{/user}', u'contents_url': u'https://api.github.com/repos/khyaathi/python_repo/contents/{+path}', u'has_pages': False, u'git_refs_url': u'https://api.github.com/repos/khyaathi/python_repo/git/refs{/sha}', u'open_issues_count': 0, u'has_projects': True, u'clone_url': u'https://github.com/khyaathi/python_repo.git', u'watchers_count': 0, u'git_tags_url': u'https://api.github.com/repos/khyaathi/python_repo/git/tags{/sha}', u'milestones_url': u'https://api.github.com/repos/khyaathi/python_repo/milestones{/number}', u'languages_url': u'https://api.github.com/repos/khyaathi/python_repo/languages', u'size': 0, u'homepage': None, u'fork': False, u'commits_url': u'https://api.github.com/repos/khyaathi/python_repo/commits{/sha}', u'releases_url': u'https://api.github.com/repos/khyaathi/python_repo/releases{/id}', u'issue_events_url': u'https://api.github.com/repos/khyaathi/python_repo/issues/events{/number}', u'archive_url': u'https://api.github.com/repos/khyaathi/python_repo/{archive_format}{/ref}', u'comments_url': u'https://api.github.com/repos/khyaathi/python_repo/comments{/number}', u'events_url': u'https://api.github.com/repos/khyaathi/python_repo/events', u'contributors_url': u'https://api.github.com/repos/khyaathi/python_repo/contributors', u'html_url': u'https://github.com/khyaathi/python_repo', u'forks': 0, u'compare_url': u'https://api.github.com/repos/khyaathi/python_repo/compare/{base}...{head}', u'open_issues': 0, u'watchers': 0, u'git_url': u'git://github.com/khyaathi/python_repo.git', u'svn_url': u'https://github.com/khyaathi/python_repo', u'merges_url': u'https://api.github.com/repos/khyaathi/python_repo/merges', u'has_issues': True, u'ssh_url': u'git@github.com:khyaathi/python_repo.git', u'blobs_url': u'https://api.github.com/repos/khyaathi/python_repo/git/blobs{/sha}', u'git_commits_url': u'https://api.github.com/repos/khyaathi/python_repo/git/commits{/sha}', u'hooks_url': u'https://api.github.com/repos/khyaathi/python_repo/hooks', u'has_downloads': True, u'license': None, u'name': u'python_repo', u'language': None, u'url': u'https://api.github.com/repos/khyaathi/python_repo', u'created_at': u'2018-01-20T05:35:44Z', u'pushed_at': u'2018-01-20T05:35:45Z', u'forks_count': 0, u'default_branch': u'master', u'teams_url': u'https://api.github.com/repos/khyaathi/python_repo/teams', u'trees_url': u'https://api.github.com/repos/khyaathi/python_repo/git/trees{/sha}', u'branches_url': u'https://api.github.com/repos/khyaathi/python_repo/branches{/branch}', u'subscribers_url': u'https://api.github.com/repos/khyaathi/python_repo/subscribers', u'permissions': {u'admin': True, u'push': True, u'pull': True}, u'stargazers_url': u'https://api.github.com/repos/khyaathi/python_repo/stargazers'}, {u'issues_url': u'https://api.github.com/repos/khyaathi/repo410/issues{/number}', u'deployments_url': u'https://api.github.com/repos/khyaathi/repo410/deployments', u'stargazers_count': 0, u'forks_url': u'https://api.github.com/repos/khyaathi/repo410/forks', u'mirror_url': None, u'subscription_url': u'https://api.github.com/repos/khyaathi/repo410/subscription', u'notifications_url': u'https://api.github.com/repos/khyaathi/repo410/notifications{?since,all,participating}', u'collaborators_url': u'https://api.github.com/repos/khyaathi/repo410/collaborators{/collaborator}', u'updated_at': u'2018-02-11T02:03:42Z', u'private': False, u'pulls_url': u'https://api.github.com/repos/khyaathi/repo410/pulls{/number}', u'issue_comment_url': u'https://api.github.com/repos/khyaathi/repo410/issues/comments{/number}', u'labels_url': u'https://api.github.com/repos/khyaathi/repo410/labels{/name}', u'has_wiki': True, u'full_name': u'khyaathi/repo410', u'owner': {u'following_url': u'https://api.github.com/users/khyaathi/following{/other_user}', u'events_url': u'https://api.github.com/users/khyaathi/events{/privacy}', u'organizations_url': u'https://api.github.com/users/khyaathi/orgs', u'url': u'https://api.github.com/users/khyaathi', u'gists_url': u'https://api.github.com/users/khyaathi/gists{/gist_id}', u'html_url': u'https://github.com/khyaathi', u'subscriptions_url': u'https://api.github.com/users/khyaathi/subscriptions', u'avatar_url': u'https://avatars2.githubusercontent.com/u/34699715?v=4', u'repos_url': u'https://api.github.com/users/khyaathi/repos', u'received_events_url': u'https://api.github.com/users/khyaathi/received_events', u'gravatar_id': u'', u'starred_url': u'https://api.github.com/users/khyaathi/starred{/owner}{/repo}', u'site_admin': False, u'login': u'khyaathi', u'type': u'Organization', u'id': 34699715, u'followers_url': u'https://api.github.com/users/khyaathi/followers'}, u'statuses_url': u'https://api.github.com/repos/khyaathi/repo410/statuses/{sha}', u'id': 121073615, u'keys_url': u'https://api.github.com/repos/khyaathi/repo410/keys{/key_id}', u'description': None, u'tags_url': u'https://api.github.com/repos/khyaathi/repo410/tags', u'archived': False, u'downloads_url': u'https://api.github.com/repos/khyaathi/repo410/downloads', u'assignees_url': u'https://api.github.com/repos/khyaathi/repo410/assignees{/user}', u'contents_url': u'https://api.github.com/repos/khyaathi/repo410/contents/{+path}', u'has_pages': False, u'git_refs_url': u'https://api.github.com/repos/khyaathi/repo410/git/refs{/sha}', u'open_issues_count': 0, u'has_projects': True, u'clone_url': u'https://github.com/khyaathi/repo410.git', u'watchers_count': 0, u'git_tags_url': u'https://api.github.com/repos/khyaathi/repo410/git/tags{/sha}', u'milestones_url': u'https://api.github.com/repos/khyaathi/repo410/milestones{/number}', u'languages_url': u'https://api.github.com/repos/khyaathi/repo410/languages', u'size': 0, u'homepage': None, u'fork': False, u'commits_url': u'https://api.github.com/repos/khyaathi/repo410/commits{/sha}', u'releases_url': u'https://api.github.com/repos/khyaathi/repo410/releases{/id}', u'issue_events_url': u'https://api.github.com/repos/khyaathi/repo410/issues/events{/number}', u'archive_url': u'https://api.github.com/repos/khyaathi/repo410/{archive_format}{/ref}', u'comments_url': u'https://api.github.com/repos/khyaathi/repo410/comments{/number}', u'events_url': u'https://api.github.com/repos/khyaathi/repo410/events', u'contributors_url': u'https://api.github.com/repos/khyaathi/repo410/contributors', u'html_url': u'https://github.com/khyaathi/repo410', u'forks': 0, u'compare_url': u'https://api.github.com/repos/khyaathi/repo410/compare/{base}...{head}', u'open_issues': 0, u'watchers': 0, u'git_url': u'git://github.com/khyaathi/repo410.git', u'svn_url': u'https://github.com/khyaathi/repo410', u'merges_url': u'https://api.github.com/repos/khyaathi/repo410/merges', u'has_issues': True, u'ssh_url': u'git@github.com:khyaathi/repo410.git', u'blobs_url': u'https://api.github.com/repos/khyaathi/repo410/git/blobs{/sha}', u'git_commits_url': u'https://api.github.com/repos/khyaathi/repo410/git/commits{/sha}', u'hooks_url': u'https://api.github.com/repos/khyaathi/repo410/hooks', u'has_downloads': True, u'license': None, u'name': u'repo410', u'language': None, u'url': u'https://api.github.com/repos/khyaathi/repo410', u'created_at': u'2018-02-11T02:03:42Z', u'pushed_at': u'2018-02-11T02:03:42Z', u'forks_count': 0, u'default_branch': u'master', u'teams_url': u'https://api.github.com/repos/khyaathi/repo410/teams', u'trees_url': u'https://api.github.com/repos/khyaathi/repo410/git/trees{/sha}', u'branches_url': u'https://api.github.com/repos/khyaathi/repo410/branches{/branch}', u'subscribers_url': u'https://api.github.com/repos/khyaathi/repo410/subscribers', u'permissions': {u'admin': True, u'push': True, u'pull': True}, u'stargazers_url': u'https://api.github.com/repos/khyaathi/repo410/stargazers'}, {u'issues_url': u'https://api.github.com/repos/khyaathi/repo_api/issues{/number}', u'deployments_url': u'https://api.github.com/repos/khyaathi/repo_api/deployments', u'stargazers_count': 0, u'forks_url': u'https://api.github.com/repos/khyaathi/repo_api/forks', u'mirror_url': None, u'subscription_url': u'https://api.github.com/repos/khyaathi/repo_api/subscription', u'notifications_url': u'https://api.github.com/repos/khyaathi/repo_api/notifications{?since,all,participating}', u'collaborators_url': u'https://api.github.com/repos/khyaathi/repo_api/collaborators{/collaborator}', u'updated_at': u'2018-02-11T02:13:33Z', u'private': False, u'pulls_url': u'https://api.github.com/repos/khyaathi/repo_api/pulls{/number}', u'issue_comment_url': u'https://api.github.com/repos/khyaathi/repo_api/issues/comments{/number}', u'labels_url': u'https://api.github.com/repos/khyaathi/repo_api/labels{/name}', u'has_wiki': True, u'full_name': u'khyaathi/repo_api', u'owner': {u'following_url': u'https://api.github.com/users/khyaathi/following{/other_user}', u'events_url': u'https://api.github.com/users/khyaathi/events{/privacy}', u'organizations_url': u'https://api.github.com/users/khyaathi/orgs', u'url': u'https://api.github.com/users/khyaathi', u'gists_url': u'https://api.github.com/users/khyaathi/gists{/gist_id}', u'html_url': u'https://github.com/khyaathi', u'subscriptions_url': u'https://api.github.com/users/khyaathi/subscriptions', u'avatar_url': u'https://avatars2.githubusercontent.com/u/34699715?v=4', u'repos_url': u'https://api.github.com/users/khyaathi/repos', u'received_events_url': u'https://api.github.com/users/khyaathi/received_events', u'gravatar_id': u'', u'starred_url': u'https://api.github.com/users/khyaathi/starred{/owner}{/repo}', u'site_admin': False, u'login': u'khyaathi', u'type': u'Organization', u'id': 34699715, u'followers_url': u'https://api.github.com/users/khyaathi/followers'}, u'statuses_url': u'https://api.github.com/repos/khyaathi/repo_api/statuses/{sha}', u'id': 121074417, u'keys_url': u'https://api.github.com/repos/khyaathi/repo_api/keys{/key_id}', u'description': None, u'tags_url': u'https://api.github.com/repos/khyaathi/repo_api/tags', u'archived': False, u'downloads_url': u'https://api.github.com/repos/khyaathi/repo_api/downloads', u'assignees_url': u'https://api.github.com/repos/khyaathi/repo_api/assignees{/user}', u'contents_url': u'https://api.github.com/repos/khyaathi/repo_api/contents/{+path}', u'has_pages': False, u'git_refs_url': u'https://api.github.com/repos/khyaathi/repo_api/git/refs{/sha}', u'open_issues_count': 0, u'has_projects': True, u'clone_url': u'https://github.com/khyaathi/repo_api.git', u'watchers_count': 0, u'git_tags_url': u'https://api.github.com/repos/khyaathi/repo_api/git/tags{/sha}', u'milestones_url': u'https://api.github.com/repos/khyaathi/repo_api/milestones{/number}', u'languages_url': u'https://api.github.com/repos/khyaathi/repo_api/languages', u'size': 0, u'homepage': None, u'fork': False, u'commits_url': u'https://api.github.com/repos/khyaathi/repo_api/commits{/sha}', u'releases_url': u'https://api.github.com/repos/khyaathi/repo_api/releases{/id}', u'issue_events_url': u'https://api.github.com/repos/khyaathi/repo_api/issues/events{/number}', u'archive_url': u'https://api.github.com/repos/khyaathi/repo_api/{archive_format}{/ref}', u'comments_url': u'https://api.github.com/repos/khyaathi/repo_api/comments{/number}', u'events_url': u'https://api.github.com/repos/khyaathi/repo_api/events', u'contributors_url': u'https://api.github.com/repos/khyaathi/repo_api/contributors', u'html_url': u'https://github.com/khyaathi/repo_api', u'forks': 0, u'compare_url': u'https://api.github.com/repos/khyaathi/repo_api/compare/{base}...{head}', u'open_issues': 0, u'watchers': 0, u'git_url': u'git://github.com/khyaathi/repo_api.git', u'svn_url': u'https://github.com/khyaathi/repo_api', u'merges_url': u'https://api.github.com/repos/khyaathi/repo_api/merges', u'has_issues': True, u'ssh_url': u'git@github.com:khyaathi/repo_api.git', u'blobs_url': u'https://api.github.com/repos/khyaathi/repo_api/git/blobs{/sha}', u'git_commits_url': u'https://api.github.com/repos/khyaathi/repo_api/git/commits{/sha}', u'hooks_url': u'https://api.github.com/repos/khyaathi/repo_api/hooks', u'has_downloads': True, u'license': None, u'name': u'repo_api', u'language': None, u'url': u'https://api.github.com/repos/khyaathi/repo_api', u'created_at': u'2018-02-11T02:13:33Z', u'pushed_at': u'2018-02-11T02:13:33Z', u'forks_count': 0, u'default_branch': u'master', u'teams_url': u'https://api.github.com/repos/khyaathi/repo_api/teams', u'trees_url': u'https://api.github.com/repos/khyaathi/repo_api/git/trees{/sha}', u'branches_url': u'https://api.github.com/repos/khyaathi/repo_api/branches{/branch}', u'subscribers_url': u'https://api.github.com/repos/khyaathi/repo_api/subscribers', u'permissions': {u'admin': True, u'push': True, u'pull': True}, u'stargazers_url': u'https://api.github.com/repos/khyaathi/repo_api/stargazers'}, {u'issues_url': u'https://api.github.com/repos/khyaathi/batch44_repo0/issues{/number}', u'deployments_url': u'https://api.github.com/repos/khyaathi/batch44_repo0/deployments', u'stargazers_count': 0, u'forks_url': u'https://api.github.com/repos/khyaathi/batch44_repo0/forks', u'mirror_url': None, u'subscription_url': u'https://api.github.com/repos/khyaathi/batch44_repo0/subscription', u'notifications_url': u'https://api.github.com/repos/khyaathi/batch44_repo0/notifications{?since,all,participating}', u'collaborators_url': u'https://api.github.com/repos/khyaathi/batch44_repo0/collaborators{/collaborator}', u'updated_at': u'2018-03-26T03:24:45Z', u'private': False, u'pulls_url': u'https://api.github.com/repos/khyaathi/batch44_repo0/pulls{/number}', u'issue_comment_url': u'https://api.github.com/repos/khyaathi/batch44_repo0/issues/comments{/number}', u'labels_url': u'https://api.github.com/repos/khyaathi/batch44_repo0/labels{/name}', u'has_wiki': True, u'full_name': u'khyaathi/batch44_repo0', u'owner': {u'following_url': u'https://api.github.com/users/khyaathi/following{/other_user}', u'events_url': u'https://api.github.com/users/khyaathi/events{/privacy}', u'organizations_url': u'https://api.github.com/users/khyaathi/orgs', u'url': u'https://api.github.com/users/khyaathi', u'gists_url': u'https://api.github.com/users/khyaathi/gists{/gist_id}', u'html_url': u'https://github.com/khyaathi', u'subscriptions_url': u'https://api.github.com/users/khyaathi/subscriptions', u'avatar_url': u'https://avatars2.githubusercontent.com/u/34699715?v=4', u'repos_url': u'https://api.github.com/users/khyaathi/repos', u'received_events_url': u'https://api.github.com/users/khyaathi/received_events', u'gravatar_id': u'', u'starred_url': u'https://api.github.com/users/khyaathi/starred{/owner}{/repo}', u'site_admin': False, u'login': u'khyaathi', u'type': u'Organization', u'id': 34699715, u'followers_url': u'https://api.github.com/users/khyaathi/followers'}, u'statuses_url': u'https://api.github.com/repos/khyaathi/batch44_repo0/statuses/{sha}', u'id': 126768133, u'keys_url': u'https://api.github.com/repos/khyaathi/batch44_repo0/keys{/key_id}', u'description': None, u'tags_url': u'https://api.github.com/repos/khyaathi/batch44_repo0/tags', u'archived': False, u'downloads_url': u'https://api.github.com/repos/khyaathi/batch44_repo0/downloads', u'assignees_url': u'https://api.github.com/repos/khyaathi/batch44_repo0/assignees{/user}', u'contents_url': u'https://api.github.com/repos/khyaathi/batch44_repo0/contents/{+path}', u'has_pages': False, u'git_refs_url': u'https://api.github.com/repos/khyaathi/batch44_repo0/git/refs{/sha}', u'open_issues_count': 0, u'has_projects': True, u'clone_url': u'https://github.com/khyaathi/batch44_repo0.git', u'watchers_count': 0, u'git_tags_url': u'https://api.github.com/repos/khyaathi/batch44_repo0/git/tags{/sha}', u'milestones_url': u'https://api.github.com/repos/khyaathi/batch44_repo0/milestones{/number}', u'languages_url': u'https://api.github.com/repos/khyaathi/batch44_repo0/languages', u'size': 0, u'homepage': None, u'fork': False, u'commits_url': u'https://api.github.com/repos/khyaathi/batch44_repo0/commits{/sha}', u'releases_url': u'https://api.github.com/repos/khyaathi/batch44_repo0/releases{/id}', u'issue_events_url': u'https://api.github.com/repos/khyaathi/batch44_repo0/issues/events{/number}', u'archive_url': u'https://api.github.com/repos/khyaathi/batch44_repo0/{archive_format}{/ref}', u'comments_url': u'https://api.github.com/repos/khyaathi/batch44_repo0/comments{/number}', u'events_url': u'https://api.github.com/repos/khyaathi/batch44_repo0/events', u'contributors_url': u'https://api.github.com/repos/khyaathi/batch44_repo0/contributors', u'html_url': u'https://github.com/khyaathi/batch44_repo0', u'forks': 0, u'compare_url': u'https://api.github.com/repos/khyaathi/batch44_repo0/compare/{base}...{head}', u'open_issues': 0, u'watchers': 0, u'git_url': u'git://github.com/khyaathi/batch44_repo0.git', u'svn_url': u'https://github.com/khyaathi/batch44_repo0', u'merges_url': u'https://api.github.com/repos/khyaathi/batch44_repo0/merges', u'has_issues': True, u'ssh_url': u'git@github.com:khyaathi/batch44_repo0.git', u'blobs_url': u'https://api.github.com/repos/khyaathi/batch44_repo0/git/blobs{/sha}', u'git_commits_url': u'https://api.github.com/repos/khyaathi/batch44_repo0/git/commits{/sha}', u'hooks_url': u'https://api.github.com/repos/khyaathi/batch44_repo0/hooks', u'has_downloads': True, u'license': None, u'name': u'batch44_repo0', u'language': None, u'url': u'https://api.github.com/repos/khyaathi/batch44_repo0', u'created_at': u'2018-03-26T03:24:45Z', u'pushed_at': u'2018-03-26T03:24:45Z', u'forks_count': 0, u'default_branch': u'master', u'teams_url': u'https://api.github.com/repos/khyaathi/batch44_repo0/teams', u'trees_url': u'https://api.github.com/repos/khyaathi/batch44_repo0/git/trees{/sha}', u'branches_url': u'https://api.github.com/repos/khyaathi/batch44_repo0/branches{/branch}', u'subscribers_url': u'https://api.github.com/repos/khyaathi/batch44_repo0/subscribers', u'permissions': {u'admin': True, u'push': True, u'pull': True}, u'stargazers_url': u'https://api.github.com/repos/khyaathi/batch44_repo0/stargazers'}]\n"
     ]
    }
   ],
   "source": [
    "print repos"
   ]
  },
  {
   "cell_type": "code",
   "execution_count": 23,
   "metadata": {},
   "outputs": [
    {
     "name": "stdout",
     "output_type": "stream",
     "text": [
      "[u'issues_url', u'deployments_url', u'stargazers_count', u'forks_url', u'mirror_url', u'subscription_url', u'notifications_url', u'collaborators_url', u'updated_at', u'private', u'pulls_url', u'issue_comment_url', u'labels_url', u'has_wiki', u'full_name', u'owner', u'statuses_url', u'id', u'keys_url', u'description', u'tags_url', u'archived', u'downloads_url', u'assignees_url', u'contents_url', u'has_pages', u'git_refs_url', u'open_issues_count', u'has_projects', u'clone_url', u'watchers_count', u'git_tags_url', u'milestones_url', u'languages_url', u'size', u'homepage', u'fork', u'commits_url', u'releases_url', u'issue_events_url', u'archive_url', u'comments_url', u'events_url', u'contributors_url', u'html_url', u'forks', u'compare_url', u'open_issues', u'watchers', u'git_url', u'svn_url', u'merges_url', u'has_issues', u'ssh_url', u'blobs_url', u'git_commits_url', u'hooks_url', u'has_downloads', u'license', u'name', u'language', u'url', u'created_at', u'pushed_at', u'forks_count', u'default_branch', u'teams_url', u'trees_url', u'branches_url', u'subscribers_url', u'permissions', u'stargazers_url']\n",
      "[u'issues_url', u'deployments_url', u'stargazers_count', u'forks_url', u'mirror_url', u'subscription_url', u'notifications_url', u'collaborators_url', u'updated_at', u'private', u'pulls_url', u'issue_comment_url', u'labels_url', u'has_wiki', u'full_name', u'owner', u'statuses_url', u'id', u'keys_url', u'description', u'tags_url', u'archived', u'downloads_url', u'assignees_url', u'contents_url', u'has_pages', u'git_refs_url', u'open_issues_count', u'has_projects', u'clone_url', u'watchers_count', u'git_tags_url', u'milestones_url', u'languages_url', u'size', u'homepage', u'fork', u'commits_url', u'releases_url', u'issue_events_url', u'archive_url', u'comments_url', u'events_url', u'contributors_url', u'html_url', u'forks', u'compare_url', u'open_issues', u'watchers', u'git_url', u'svn_url', u'merges_url', u'has_issues', u'ssh_url', u'blobs_url', u'git_commits_url', u'hooks_url', u'has_downloads', u'license', u'name', u'language', u'url', u'created_at', u'pushed_at', u'forks_count', u'default_branch', u'teams_url', u'trees_url', u'branches_url', u'subscribers_url', u'permissions', u'stargazers_url']\n",
      "[u'issues_url', u'deployments_url', u'stargazers_count', u'forks_url', u'mirror_url', u'subscription_url', u'notifications_url', u'collaborators_url', u'updated_at', u'private', u'pulls_url', u'issue_comment_url', u'labels_url', u'has_wiki', u'full_name', u'owner', u'statuses_url', u'id', u'keys_url', u'description', u'tags_url', u'archived', u'downloads_url', u'assignees_url', u'contents_url', u'has_pages', u'git_refs_url', u'open_issues_count', u'has_projects', u'clone_url', u'watchers_count', u'git_tags_url', u'milestones_url', u'languages_url', u'size', u'homepage', u'fork', u'commits_url', u'releases_url', u'issue_events_url', u'archive_url', u'comments_url', u'events_url', u'contributors_url', u'html_url', u'forks', u'compare_url', u'open_issues', u'watchers', u'git_url', u'svn_url', u'merges_url', u'has_issues', u'ssh_url', u'blobs_url', u'git_commits_url', u'hooks_url', u'has_downloads', u'license', u'name', u'language', u'url', u'created_at', u'pushed_at', u'forks_count', u'default_branch', u'teams_url', u'trees_url', u'branches_url', u'subscribers_url', u'permissions', u'stargazers_url']\n",
      "[u'issues_url', u'deployments_url', u'stargazers_count', u'forks_url', u'mirror_url', u'subscription_url', u'notifications_url', u'collaborators_url', u'updated_at', u'private', u'pulls_url', u'issue_comment_url', u'labels_url', u'has_wiki', u'full_name', u'owner', u'statuses_url', u'id', u'keys_url', u'description', u'tags_url', u'archived', u'downloads_url', u'assignees_url', u'contents_url', u'has_pages', u'git_refs_url', u'open_issues_count', u'has_projects', u'clone_url', u'watchers_count', u'git_tags_url', u'milestones_url', u'languages_url', u'size', u'homepage', u'fork', u'commits_url', u'releases_url', u'issue_events_url', u'archive_url', u'comments_url', u'events_url', u'contributors_url', u'html_url', u'forks', u'compare_url', u'open_issues', u'watchers', u'git_url', u'svn_url', u'merges_url', u'has_issues', u'ssh_url', u'blobs_url', u'git_commits_url', u'hooks_url', u'has_downloads', u'license', u'name', u'language', u'url', u'created_at', u'pushed_at', u'forks_count', u'default_branch', u'teams_url', u'trees_url', u'branches_url', u'subscribers_url', u'permissions', u'stargazers_url']\n",
      "[u'issues_url', u'deployments_url', u'stargazers_count', u'forks_url', u'mirror_url', u'subscription_url', u'notifications_url', u'collaborators_url', u'updated_at', u'private', u'pulls_url', u'issue_comment_url', u'labels_url', u'has_wiki', u'full_name', u'owner', u'statuses_url', u'id', u'keys_url', u'description', u'tags_url', u'archived', u'downloads_url', u'assignees_url', u'contents_url', u'has_pages', u'git_refs_url', u'open_issues_count', u'has_projects', u'clone_url', u'watchers_count', u'git_tags_url', u'milestones_url', u'languages_url', u'size', u'homepage', u'fork', u'commits_url', u'releases_url', u'issue_events_url', u'archive_url', u'comments_url', u'events_url', u'contributors_url', u'html_url', u'forks', u'compare_url', u'open_issues', u'watchers', u'git_url', u'svn_url', u'merges_url', u'has_issues', u'ssh_url', u'blobs_url', u'git_commits_url', u'hooks_url', u'has_downloads', u'license', u'name', u'language', u'url', u'created_at', u'pushed_at', u'forks_count', u'default_branch', u'teams_url', u'trees_url', u'branches_url', u'subscribers_url', u'permissions', u'stargazers_url']\n",
      "[u'issues_url', u'deployments_url', u'stargazers_count', u'forks_url', u'mirror_url', u'subscription_url', u'notifications_url', u'collaborators_url', u'updated_at', u'private', u'pulls_url', u'issue_comment_url', u'labels_url', u'has_wiki', u'full_name', u'owner', u'statuses_url', u'id', u'keys_url', u'description', u'tags_url', u'archived', u'downloads_url', u'assignees_url', u'contents_url', u'has_pages', u'git_refs_url', u'open_issues_count', u'has_projects', u'clone_url', u'watchers_count', u'git_tags_url', u'milestones_url', u'languages_url', u'size', u'homepage', u'fork', u'commits_url', u'releases_url', u'issue_events_url', u'archive_url', u'comments_url', u'events_url', u'contributors_url', u'html_url', u'forks', u'compare_url', u'open_issues', u'watchers', u'git_url', u'svn_url', u'merges_url', u'has_issues', u'ssh_url', u'blobs_url', u'git_commits_url', u'hooks_url', u'has_downloads', u'license', u'name', u'language', u'url', u'created_at', u'pushed_at', u'forks_count', u'default_branch', u'teams_url', u'trees_url', u'branches_url', u'subscribers_url', u'permissions', u'stargazers_url']\n"
     ]
    }
   ],
   "source": [
    "for repo in repos:\n",
    "    print repo.keys()"
   ]
  },
  {
   "cell_type": "code",
   "execution_count": 25,
   "metadata": {},
   "outputs": [
    {
     "name": "stdout",
     "output_type": "stream",
     "text": [
      "khyaathi/khyaathirepo1\n",
      "khyaathi/khyaathirepo2\n",
      "khyaathi/python_repo\n",
      "khyaathi/repo410\n",
      "khyaathi/repo_api\n",
      "khyaathi/batch44_repo0\n"
     ]
    }
   ],
   "source": [
    "for repo in repos:\n",
    "    print repo.get('full_name')"
   ]
  },
  {
   "cell_type": "code",
   "execution_count": 26,
   "metadata": {
    "collapsed": true
   },
   "outputs": [],
   "source": [
    "resp = requests.post(\"https://api.github.com/orgs/khyaathi/repos\",auth=(username, password),data={\"full_name\":\"repocreatedbyAPI\"})"
   ]
  },
  {
   "cell_type": "code",
   "execution_count": 27,
   "metadata": {},
   "outputs": [
    {
     "data": {
      "text/plain": [
       "<Response [400]>"
      ]
     },
     "execution_count": 27,
     "metadata": {},
     "output_type": "execute_result"
    }
   ],
   "source": [
    "resp"
   ]
  },
  {
   "cell_type": "code",
   "execution_count": 28,
   "metadata": {},
   "outputs": [
    {
     "data": {
      "text/plain": [
       "'Bad Request'"
      ]
     },
     "execution_count": 28,
     "metadata": {},
     "output_type": "execute_result"
    }
   ],
   "source": [
    "resp.reason"
   ]
  },
  {
   "cell_type": "code",
   "execution_count": 29,
   "metadata": {
    "collapsed": true
   },
   "outputs": [],
   "source": [
    "resp = requests.post(\"https://api.github.com/orgs/khyaathi/repos\",auth=(username, password),json={\"full_name\":\"repocreatedbyAPI\"})"
   ]
  },
  {
   "cell_type": "code",
   "execution_count": 30,
   "metadata": {},
   "outputs": [
    {
     "data": {
      "text/plain": [
       "<Response [422]>"
      ]
     },
     "execution_count": 30,
     "metadata": {},
     "output_type": "execute_result"
    }
   ],
   "source": [
    "resp"
   ]
  },
  {
   "cell_type": "code",
   "execution_count": 31,
   "metadata": {},
   "outputs": [
    {
     "data": {
      "text/plain": [
       "'Unprocessable Entity'"
      ]
     },
     "execution_count": 31,
     "metadata": {},
     "output_type": "execute_result"
    }
   ],
   "source": [
    "resp.reason"
   ]
  },
  {
   "cell_type": "code",
   "execution_count": 32,
   "metadata": {
    "collapsed": true
   },
   "outputs": [],
   "source": [
    "resp = requests.post(\"https://api.github.com/orgs/khyaathi/repos\",auth=(username, password),json={\"name\":\"repocreatedbyAPI\"})"
   ]
  },
  {
   "cell_type": "code",
   "execution_count": 33,
   "metadata": {},
   "outputs": [
    {
     "data": {
      "text/plain": [
       "<Response [201]>"
      ]
     },
     "execution_count": 33,
     "metadata": {},
     "output_type": "execute_result"
    }
   ],
   "source": [
    "resp"
   ]
  },
  {
   "cell_type": "code",
   "execution_count": 34,
   "metadata": {},
   "outputs": [
    {
     "name": "stdout",
     "output_type": "stream",
     "text": [
      "khyaathi/khyaathirepo1\n",
      "khyaathi/khyaathirepo2\n",
      "khyaathi/python_repo\n",
      "khyaathi/repo410\n",
      "khyaathi/repo_api\n",
      "khyaathi/batch44_repo0\n",
      "khyaathi/repocreatedbyAPI\n"
     ]
    }
   ],
   "source": [
    "resp = requests.get(\"https://api.github.com/orgs/khyaathi/repos\",auth=(username, password))\n",
    "for repo in resp.json():\n",
    "    print repo.get(\"full_name\")"
   ]
  },
  {
   "cell_type": "code",
   "execution_count": null,
   "metadata": {
    "collapsed": true
   },
   "outputs": [],
   "source": []
  }
 ],
 "metadata": {
  "kernelspec": {
   "display_name": "Python 2",
   "language": "python",
   "name": "python2"
  },
  "language_info": {
   "codemirror_mode": {
    "name": "ipython",
    "version": 2
   },
   "file_extension": ".py",
   "mimetype": "text/x-python",
   "name": "python",
   "nbconvert_exporter": "python",
   "pygments_lexer": "ipython2",
   "version": "2.7.14"
  }
 },
 "nbformat": 4,
 "nbformat_minor": 2
}
