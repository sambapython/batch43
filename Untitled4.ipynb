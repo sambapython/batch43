{
 "cells": [
  {
   "cell_type": "code",
   "execution_count": 1,
   "metadata": {
    "collapsed": true
   },
   "outputs": [],
   "source": [
    "# if if else if elif\n",
    "a=10"
   ]
  },
  {
   "cell_type": "code",
   "execution_count": 2,
   "metadata": {},
   "outputs": [
    {
     "name": "stdout",
     "output_type": "stream",
     "text": [
      "10\n"
     ]
    }
   ],
   "source": [
    "print a"
   ]
  },
  {
   "cell_type": "code",
   "execution_count": 3,
   "metadata": {},
   "outputs": [
    {
     "name": "stdout",
     "output_type": "stream",
     "text": [
      "st1\n",
      "st2\n",
      "st3\n"
     ]
    }
   ],
   "source": [
    "print \"st1\"\n",
    "print \"st2\"\n",
    "print \"st3\""
   ]
  },
  {
   "cell_type": "code",
   "execution_count": 4,
   "metadata": {},
   "outputs": [
    {
     "name": "stdout",
     "output_type": "stream",
     "text": [
      "a is big\n",
      "b is big\n"
     ]
    }
   ],
   "source": [
    "a=10\n",
    "b=20\n",
    "print \"a is big\"\n",
    "print \"b is big\""
   ]
  },
  {
   "cell_type": "code",
   "execution_count": 6,
   "metadata": {},
   "outputs": [
    {
     "name": "stdout",
     "output_type": "stream",
     "text": [
      "b is big\n"
     ]
    }
   ],
   "source": [
    "a=10\n",
    "b=20\n",
    "if a>b:\n",
    "    print \"a is big\"\n",
    "else:\n",
    "    print \"b is big\""
   ]
  },
  {
   "cell_type": "code",
   "execution_count": 7,
   "metadata": {},
   "outputs": [
    {
     "name": "stdout",
     "output_type": "stream",
     "text": [
      "a is big\n"
     ]
    }
   ],
   "source": [
    "a=100\n",
    "b=20\n",
    "if a>b:\n",
    "    print \"a is big\"\n",
    "else:\n",
    "    print \"b is big\""
   ]
  },
  {
   "cell_type": "code",
   "execution_count": 8,
   "metadata": {},
   "outputs": [
    {
     "name": "stdout",
     "output_type": "stream",
     "text": [
      "st1\n",
      "st2\n",
      "st3\n",
      "st4\n",
      "st5\n"
     ]
    }
   ],
   "source": [
    "#looping while for\n",
    "print \"st1\"\n",
    "print \"st2\"\n",
    "print \"st3\"\n",
    "print \"st4\"\n",
    "print \"st5\"\n"
   ]
  },
  {
   "cell_type": "code",
   "execution_count": 9,
   "metadata": {},
   "outputs": [
    {
     "name": "stdout",
     "output_type": "stream",
     "text": [
      "st1\n",
      "st2\n",
      "st3\n",
      "st4\n",
      "st5\n"
     ]
    }
   ],
   "source": [
    "for i in range(1,6):\n",
    "    print \"st%s\"%i"
   ]
  },
  {
   "cell_type": "code",
   "execution_count": 10,
   "metadata": {
    "collapsed": true
   },
   "outputs": [],
   "source": [
    "#datastructures. list. tuple. dict set\n",
    "a=10"
   ]
  },
  {
   "cell_type": "code",
   "execution_count": 11,
   "metadata": {
    "collapsed": true
   },
   "outputs": [],
   "source": [
    "a=[10,1.2,3+3j,\"sfdsd\"]"
   ]
  },
  {
   "cell_type": "code",
   "execution_count": 12,
   "metadata": {},
   "outputs": [
    {
     "name": "stdout",
     "output_type": "stream",
     "text": [
      "program started\n",
      "a=10, b=20\n",
      "res= 30\n",
      "some statements\n",
      "a=100, b=200\n",
      "res= 300\n",
      "some  other statements\n",
      "a=1000, b=2000\n",
      "res= 3000\n",
      "some nore statements\n",
      "a=10000, b=20000\n",
      "res= 30000\n",
      "some statements\n",
      "other statements in porgram\n",
      "proigram ended\n"
     ]
    }
   ],
   "source": [
    "#functions\n",
    "print \"program started\"\n",
    "a=10\n",
    "b=20\n",
    "res=a+b\n",
    "print \"a=%s, b=%s\"%(a,b)\n",
    "print \"res=\",res\n",
    "print \"some statements\"\n",
    "a=100\n",
    "b=200\n",
    "res=a+b\n",
    "print \"a=%s, b=%s\"%(a,b)\n",
    "print \"res=\",res\n",
    "print \"some  other statements\"\n",
    "a=1000\n",
    "b=2000\n",
    "res=a+b\n",
    "print \"a=%s, b=%s\"%(a,b)\n",
    "print \"res=\",res\n",
    "print \"some nore statements\"\n",
    "a=10000\n",
    "b=20000\n",
    "res=a+b\n",
    "print \"a=%s, b=%s\"%(a,b)\n",
    "print \"res=\",res\n",
    "print \"some statements\"\n",
    "print \"other statements in porgram\"\n",
    "print \"proigram ended\""
   ]
  },
  {
   "cell_type": "code",
   "execution_count": 13,
   "metadata": {},
   "outputs": [
    {
     "name": "stdout",
     "output_type": "stream",
     "text": [
      "program started\n",
      "a=10, b=20\n",
      "res= 30\n",
      "some statements\n",
      "a=100, b=200\n",
      "res= 300\n",
      "some  other statements\n",
      "a=1000, b=2000\n",
      "res= 3000\n",
      "some nore statements\n",
      "a=10000, b=20000\n",
      "res= 30000\n",
      "some statements\n",
      "other statements in porgram\n",
      "proigram ended\n"
     ]
    }
   ],
   "source": [
    "def fun(a,b):\n",
    "    print \"a=%s, b=%s\"%(a,b)\n",
    "    res=a+b\n",
    "    print \"res=\",res\n",
    "#functions\n",
    "print \"program started\"\n",
    "fun(10,20)\n",
    "print \"some statements\"\n",
    "fun(100,200)\n",
    "print \"some  other statements\"\n",
    "fun(1000,2000)\n",
    "print \"some nore statements\"\n",
    "fun(10000,20000)\n",
    "print \"some statements\"\n",
    "print \"other statements in porgram\"\n",
    "print \"proigram ended\""
   ]
  },
  {
   "cell_type": "code",
   "execution_count": 2,
   "metadata": {},
   "outputs": [
    {
     "name": "stdout",
     "output_type": "stream",
     "text": [
      "program started\n",
      "value of a=10, value of b=20\n",
      "summation = 30\n",
      "some statements\n",
      "value of a=100, value of b=200\n",
      "summation = 300\n",
      "some  other statements\n",
      "value of a=1000, value of b=2000\n",
      "summation = 3000\n",
      "some nore statements\n",
      "value of a=10000, value of b=20000\n",
      "summation = 30000\n",
      "some statements\n",
      "other statements in porgram\n",
      "proigram ended\n"
     ]
    }
   ],
   "source": [
    "#functions\n",
    "print \"program started\"\n",
    "a=10\n",
    "b=20\n",
    "res=a+b\n",
    "print \"value of a=%s, value of b=%s\"%(a,b)\n",
    "print \"summation =\",res\n",
    "print \"some statements\"\n",
    "a=100\n",
    "b=200\n",
    "res=a+b\n",
    "print \"value of a=%s, value of b=%s\"%(a,b)\n",
    "print \"summation =\",res\n",
    "print \"some  other statements\"\n",
    "a=1000\n",
    "b=2000\n",
    "res=a+b\n",
    "print \"value of a=%s, value of b=%s\"%(a,b)\n",
    "print \"summation =\",res\n",
    "print \"some nore statements\"\n",
    "a=10000\n",
    "b=20000\n",
    "res=a+b\n",
    "print \"value of a=%s, value of b=%s\"%(a,b)\n",
    "print \"summation =\",res\n",
    "print \"some statements\"\n",
    "print \"other statements in porgram\"\n",
    "print \"proigram ended\""
   ]
  },
  {
   "cell_type": "code",
   "execution_count": 3,
   "metadata": {},
   "outputs": [
    {
     "name": "stdout",
     "output_type": "stream",
     "text": [
      "program started\n",
      "value of a=10, value of b=20\n",
      "summation= 30\n",
      "some statements\n",
      "value of a=100, value of b=200\n",
      "summation= 300\n",
      "some  other statements\n",
      "value of a=1000, value of b=2000\n",
      "summation= 3000\n",
      "some nore statements\n",
      "value of a=10000, value of b=20000\n",
      "summation= 30000\n",
      "some statements\n",
      "other statements in porgram\n",
      "proigram ended\n"
     ]
    }
   ],
   "source": [
    "def fun(a,b):\n",
    "    print \"value of a=%s, value of b=%s\"%(a,b)\n",
    "    res=a+b\n",
    "    print \"summation=\",res\n",
    "#functions\n",
    "print \"program started\"\n",
    "fun(10,20)\n",
    "print \"some statements\"\n",
    "fun(100,200)\n",
    "print \"some  other statements\"\n",
    "fun(1000,2000)\n",
    "print \"some nore statements\"\n",
    "fun(10000,20000)\n",
    "print \"some statements\"\n",
    "print \"other statements in porgram\"\n",
    "print \"proigram ended\""
   ]
  },
  {
   "cell_type": "code",
   "execution_count": 5,
   "metadata": {},
   "outputs": [
    {
     "name": "stdout",
     "output_type": "stream",
     "text": [
      "['sambasiva', '9676622023', 'sambapython@gmail.com']\n",
      "['anil kumar', '9676622024', 'email2@gmail.com']\n"
     ]
    }
   ],
   "source": [
    "data=open(\"data.csv\").read()\n",
    "for row in data.splitlines():\n",
    "    print row.split(\",\")"
   ]
  },
  {
   "cell_type": "code",
   "execution_count": 6,
   "metadata": {},
   "outputs": [
    {
     "name": "stdout",
     "output_type": "stream",
     "text": [
      "9676622023\n",
      "9676622024\n"
     ]
    }
   ],
   "source": [
    "data=open(\"data.csv\").read()\n",
    "for row in data.splitlines():\n",
    "    print row.split(\",\")[1]"
   ]
  },
  {
   "cell_type": "code",
   "execution_count": 7,
   "metadata": {},
   "outputs": [
    {
     "name": "stdout",
     "output_type": "stream",
     "text": [
      "sambapython@gmail.com\n",
      "email2@gmail.com\n"
     ]
    }
   ],
   "source": [
    "data=open(\"data.csv\").read()\n",
    "for row in data.splitlines():\n",
    "    print row.split(\",\")[2]"
   ]
  },
  {
   "cell_type": "code",
   "execution_count": 9,
   "metadata": {},
   "outputs": [
    {
     "name": "stdout",
     "output_type": "stream",
     "text": [
      "sambapython@gmail.com\n",
      "anil kumar\n"
     ]
    }
   ],
   "source": [
    "data=open(\"data.csv\").read()\n",
    "for row in data.splitlines():\n",
    "    print row.split(\",\")[2]"
   ]
  },
  {
   "cell_type": "code",
   "execution_count": 10,
   "metadata": {},
   "outputs": [
    {
     "name": "stdout",
     "output_type": "stream",
     "text": [
      "['9676622023', '9676622024']\n"
     ]
    }
   ],
   "source": [
    "data=open(\"data.csv\").read()\n",
    "import re\n",
    "print re.findall(\"[0-9]{10}\",data)"
   ]
  },
  {
   "cell_type": "code",
   "execution_count": 11,
   "metadata": {},
   "outputs": [
    {
     "name": "stdout",
     "output_type": "stream",
     "text": [
      "10 20\n",
      "0\n"
     ]
    }
   ],
   "source": [
    "a=10\n",
    "b=20\n",
    "print a,b\n",
    "print a/b"
   ]
  },
  {
   "cell_type": "code",
   "execution_count": 12,
   "metadata": {},
   "outputs": [
    {
     "name": "stdout",
     "output_type": "stream",
     "text": [
      "10 20\n"
     ]
    },
    {
     "ename": "ZeroDivisionError",
     "evalue": "integer division or modulo by zero",
     "output_type": "error",
     "traceback": [
      "\u001b[0;31m---------------------------------------------------------------------------\u001b[0m",
      "\u001b[0;31mZeroDivisionError\u001b[0m                         Traceback (most recent call last)",
      "\u001b[0;32m<ipython-input-12-62b4a057f9d8>\u001b[0m in \u001b[0;36m<module>\u001b[0;34m()\u001b[0m\n\u001b[1;32m      2\u001b[0m \u001b[0mb\u001b[0m\u001b[0;34m=\u001b[0m\u001b[0;36m20\u001b[0m\u001b[0;34m\u001b[0m\u001b[0m\n\u001b[1;32m      3\u001b[0m \u001b[0;32mprint\u001b[0m \u001b[0ma\u001b[0m\u001b[0;34m,\u001b[0m\u001b[0mb\u001b[0m\u001b[0;34m\u001b[0m\u001b[0m\n\u001b[0;32m----> 4\u001b[0;31m \u001b[0;32mprint\u001b[0m \u001b[0ma\u001b[0m\u001b[0;34m/\u001b[0m\u001b[0;36m0\u001b[0m\u001b[0;34m\u001b[0m\u001b[0m\n\u001b[0m\u001b[1;32m      5\u001b[0m \u001b[0;32mprint\u001b[0m \u001b[0ma\u001b[0m\u001b[0;34m/\u001b[0m\u001b[0mb\u001b[0m\u001b[0;34m\u001b[0m\u001b[0m\n\u001b[1;32m      6\u001b[0m \u001b[0;32mprint\u001b[0m \u001b[0;34m\"end of the program\"\u001b[0m\u001b[0;34m\u001b[0m\u001b[0m\n",
      "\u001b[0;31mZeroDivisionError\u001b[0m: integer division or modulo by zero"
     ]
    }
   ],
   "source": [
    "a=10\n",
    "b=20\n",
    "print a,b\n",
    "print a/0\n",
    "print a/b\n",
    "print \"end of the program\""
   ]
  },
  {
   "cell_type": "code",
   "execution_count": 13,
   "metadata": {},
   "outputs": [
    {
     "ename": "SyntaxError",
     "evalue": "EOL while scanning string literal (<ipython-input-13-8bb6a82406d8>, line 7)",
     "output_type": "error",
     "traceback": [
      "\u001b[0;36m  File \u001b[0;32m\"<ipython-input-13-8bb6a82406d8>\"\u001b[0;36m, line \u001b[0;32m7\u001b[0m\n\u001b[0;31m    print \"asdfgh\u001b[0m\n\u001b[0m                ^\u001b[0m\n\u001b[0;31mSyntaxError\u001b[0m\u001b[0;31m:\u001b[0m EOL while scanning string literal\n"
     ]
    }
   ],
   "source": [
    "a=10\n",
    "b=20\n",
    "print a,b\n",
    "print a/0\n",
    "print a/b\n",
    "print \"end of the program\"\n",
    "print \"asdfgh"
   ]
  },
  {
   "cell_type": "code",
   "execution_count": 14,
   "metadata": {},
   "outputs": [
    {
     "data": {
      "image/png": "[encoded data removed]",
      "text/plain": [
       "<matplotlib.figure.Figure at 0x7f6e242aabd0>"
      ]
     },
     "metadata": {},
     "output_type": "display_data"
    }
   ],
   "source": [
    "import matplotlib.pyplot as plt\n",
    "plt.plot([1,2,3,4],[5,6,7,8])\n",
    "plt.show()"
   ]
  },
  {
   "cell_type": "code",
   "execution_count": null,
   "metadata": {
    "collapsed": true
   },
   "outputs": [],
   "source": []
  }
 ],
 "metadata": {
  "kernelspec": {
   "display_name": "Python 2",
   "language": "python",
   "name": "python2"
  },
  "language_info": {
   "codemirror_mode": {
    "name": "ipython",
    "version": 2
   },
   "file_extension": ".py",
   "mimetype": "text/x-python",
   "name": "python",
   "nbconvert_exporter": "python",
   "pygments_lexer": "ipython2",
   "version": "2.7.14"
  }
 },
 "nbformat": 4,
 "nbformat_minor": 2
}
