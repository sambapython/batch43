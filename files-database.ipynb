{
 "cells": [
  {
   "cell_type": "code",
   "execution_count": 2,
   "metadata": {},
   "outputs": [
    {
     "name": "stdout",
     "output_type": "stream",
     "text": [
      "pavan,ad1\n",
      "sunitha,ad3\n",
      "sunitha,ad2\n",
      "samba,ad2\n",
      "prashanth,ad1\n",
      "samba,ad2\n",
      "prashanth,ad3\n",
      "samba,ad1\n",
      "pavan,ad1\n",
      "samba,ad1\n",
      "samba,ad3\n",
      "pavan,ad1\n",
      "samba,ad2\n",
      "prashanth,ad2\n",
      "samba,ad2\n",
      "prashanth,ad2\n",
      "sunitha,ad1\n",
      "pavan,ad1\n",
      "murali,ad1\n",
      "sunitha,ad1\n",
      "murali,ad3\n",
      "samba,ad3\n",
      "pavan,ad2\n",
      "sunitha,ad1\n",
      "pavan,ad3\n",
      "prashanth,ad3\n",
      "pavan,ad3\n",
      "murali,ad1\n",
      "sunitha,ad1\n",
      "samba,ad1\n",
      "pavan,ad2\n",
      "murali,ad2\n",
      "pavan,ad1\n",
      "pavan,ad2\n",
      "murali,ad3\n",
      "pavan,ad1\n",
      "murali,ad2\n",
      "samba,ad3\n",
      "pavan,ad3\n",
      "prashanth,ad3\n",
      "murali,ad2\n",
      "pavan,ad1\n",
      "prashanth,ad1\n",
      "samba,ad1\n",
      "prashanth,ad2\n",
      "prashanth,ad3\n",
      "sunitha,ad2\n",
      "prashanth,ad3\n",
      "pavan,ad3\n",
      "murali,ad1\n",
      "samba,ad2\n",
      "pavan,ad1\n",
      "pavan,ad3\n",
      "sunitha,ad3\n",
      "murali,ad2\n",
      "prashanth,ad2\n",
      "prashanth,ad2\n",
      "pavan,ad1\n",
      "murali,ad1\n",
      "samba,ad2\n",
      "prashanth,ad3\n",
      "pavan,ad1\n",
      "prashanth,ad3\n",
      "prashanth,ad2\n",
      "murali,ad1\n",
      "pavan,ad2\n",
      "samba,ad2\n",
      "murali,ad3\n",
      "pavan,ad2\n",
      "pavan,ad3\n",
      "murali,ad3\n",
      "pavan,ad3\n",
      "sunitha,ad3\n",
      "samba,ad1\n",
      "murali,ad1\n",
      "sunitha,ad3\n",
      "murali,ad1\n",
      "samba,ad3\n",
      "sunitha,ad2\n",
      "prashanth,ad2\n",
      "sunitha,ad1\n",
      "pavan,ad1\n",
      "samba,ad3\n",
      "murali,ad1\n",
      "pavan,ad2\n",
      "samba,ad1\n",
      "sunitha,ad2\n",
      "murali,ad3\n",
      "sunitha,ad2\n",
      "prashanth,ad3\n",
      "samba,ad3\n",
      "prashanth,ad1\n",
      "sunitha,ad2\n",
      "prashanth,ad2\n",
      "sunitha,ad3\n",
      "prashanth,ad1\n",
      "murali,ad2\n",
      "prashanth,ad1\n",
      "prashanth,ad1\n",
      "prashanth,ad3\n",
      "\n"
     ]
    }
   ],
   "source": [
    "f=open(\"data2.csv\",\"r\")\n",
    "data=f.read()\n",
    "print data"
   ]
  },
  {
   "cell_type": "code",
   "execution_count": 4,
   "metadata": {},
   "outputs": [
    {
     "name": "stdout",
     "output_type": "stream",
     "text": [
      "pavan,ad1\n",
      "sunitha,ad3\n",
      "sunitha,ad2\n",
      "samba,ad2\n",
      "prashanth,ad1\n",
      "samba,ad2\n",
      "prashanth,ad3\n",
      "samba,ad1\n",
      "pavan,ad1\n",
      "samba,ad1\n",
      "samba,ad3\n",
      "pavan,ad1\n",
      "samba,ad2\n",
      "prashanth,ad2\n",
      "samba,ad2\n",
      "prashanth,ad2\n",
      "sunitha,ad1\n",
      "pavan,ad1\n",
      "murali,ad1\n",
      "sunitha,ad1\n",
      "murali,ad3\n",
      "samba,ad3\n",
      "pavan,ad2\n",
      "sunitha,ad1\n",
      "pavan,ad3\n",
      "prashanth,ad3\n",
      "pavan,ad3\n",
      "murali,ad1\n",
      "sunitha,ad1\n",
      "samba,ad1\n",
      "pavan,ad2\n",
      "murali,ad2\n",
      "pavan,ad1\n",
      "pavan,ad2\n",
      "murali,ad3\n",
      "pavan,ad1\n",
      "murali,ad2\n",
      "samba,ad3\n",
      "pavan,ad3\n",
      "prashanth,ad3\n",
      "murali,ad2\n",
      "pavan,ad1\n",
      "prashanth,ad1\n",
      "samba,ad1\n",
      "prashanth,ad2\n",
      "prashanth,ad3\n",
      "sunitha,ad2\n",
      "prashanth,ad3\n",
      "pavan,ad3\n",
      "murali,ad1\n",
      "samba,ad2\n",
      "pavan,ad1\n",
      "pavan,ad3\n",
      "sunitha,ad3\n",
      "murali,ad2\n",
      "prashanth,ad2\n",
      "prashanth,ad2\n",
      "pavan,ad1\n",
      "murali,ad1\n",
      "samba,ad2\n",
      "prashanth,ad3\n",
      "pavan,ad1\n",
      "prashanth,ad3\n",
      "prashanth,ad2\n",
      "murali,ad1\n",
      "pavan,ad2\n",
      "samba,ad2\n",
      "murali,ad3\n",
      "pavan,ad2\n",
      "pavan,ad3\n",
      "murali,ad3\n",
      "pavan,ad3\n",
      "sunitha,ad3\n",
      "samba,ad1\n",
      "murali,ad1\n",
      "sunitha,ad3\n",
      "murali,ad1\n",
      "samba,ad3\n",
      "sunitha,ad2\n",
      "prashanth,ad2\n",
      "sunitha,ad1\n",
      "pavan,ad1\n",
      "samba,ad3\n",
      "murali,ad1\n",
      "pavan,ad2\n",
      "samba,ad1\n",
      "sunitha,ad2\n",
      "murali,ad3\n",
      "sunitha,ad2\n",
      "prashanth,ad3\n",
      "samba,ad3\n",
      "p\n",
      "@@@@@@@@@@@@@@@@@@@@@@@@@@@@@@@@@@@@@@@@@@@@@@@@@@\n",
      "rashanth,ad1\n",
      "sunitha,ad2\n",
      "prashanth,ad2\n",
      "sunitha,ad3\n",
      "prashanth,ad1\n",
      "murali,ad2\n",
      "prashanth,ad1\n",
      "prashanth,ad1\n",
      "prashanth,ad3\n",
      "\n"
     ]
    }
   ],
   "source": [
    "f=open(\"data2.csv\",\"r\")\n",
    "data1=f.read(1024)\n",
    "data2=f.read(1024)\n",
    "print data1\n",
    "print \"@\"*50\n",
    "print data2"
   ]
  },
  {
   "cell_type": "code",
   "execution_count": 5,
   "metadata": {},
   "outputs": [
    {
     "name": "stdout",
     "output_type": "stream",
     "text": [
      "['pavan,ad1\\n', 'sunitha,ad3\\n', 'sunitha,ad2\\n', 'samba,ad2\\n', 'prashanth,ad1\\n', 'samba,ad2\\n', 'prashanth,ad3\\n', 'samba,ad1\\n', 'pavan,ad1\\n', 'samba,ad1\\n', 'samba,ad3\\n', 'pavan,ad1\\n', 'samba,ad2\\n', 'prashanth,ad2\\n', 'samba,ad2\\n', 'prashanth,ad2\\n', 'sunitha,ad1\\n', 'pavan,ad1\\n', 'murali,ad1\\n', 'sunitha,ad1\\n', 'murali,ad3\\n', 'samba,ad3\\n', 'pavan,ad2\\n', 'sunitha,ad1\\n', 'pavan,ad3\\n', 'prashanth,ad3\\n', 'pavan,ad3\\n', 'murali,ad1\\n', 'sunitha,ad1\\n', 'samba,ad1\\n', 'pavan,ad2\\n', 'murali,ad2\\n', 'pavan,ad1\\n', 'pavan,ad2\\n', 'murali,ad3\\n', 'pavan,ad1\\n', 'murali,ad2\\n', 'samba,ad3\\n', 'pavan,ad3\\n', 'prashanth,ad3\\n', 'murali,ad2\\n', 'pavan,ad1\\n', 'prashanth,ad1\\n', 'samba,ad1\\n', 'prashanth,ad2\\n', 'prashanth,ad3\\n', 'sunitha,ad2\\n', 'prashanth,ad3\\n', 'pavan,ad3\\n', 'murali,ad1\\n', 'samba,ad2\\n', 'pavan,ad1\\n', 'pavan,ad3\\n', 'sunitha,ad3\\n', 'murali,ad2\\n', 'prashanth,ad2\\n', 'prashanth,ad2\\n', 'pavan,ad1\\n', 'murali,ad1\\n', 'samba,ad2\\n', 'prashanth,ad3\\n', 'pavan,ad1\\n', 'prashanth,ad3\\n', 'prashanth,ad2\\n', 'murali,ad1\\n', 'pavan,ad2\\n', 'samba,ad2\\n', 'murali,ad3\\n', 'pavan,ad2\\n', 'pavan,ad3\\n', 'murali,ad3\\n', 'pavan,ad3\\n', 'sunitha,ad3\\n', 'samba,ad1\\n', 'murali,ad1\\n', 'sunitha,ad3\\n', 'murali,ad1\\n', 'samba,ad3\\n', 'sunitha,ad2\\n', 'prashanth,ad2\\n', 'sunitha,ad1\\n', 'pavan,ad1\\n', 'samba,ad3\\n', 'murali,ad1\\n', 'pavan,ad2\\n', 'samba,ad1\\n', 'sunitha,ad2\\n', 'murali,ad3\\n', 'sunitha,ad2\\n', 'prashanth,ad3\\n', 'samba,ad3\\n', 'prashanth,ad1\\n', 'sunitha,ad2\\n', 'prashanth,ad2\\n', 'sunitha,ad3\\n', 'prashanth,ad1\\n', 'murali,ad2\\n', 'prashanth,ad1\\n', 'prashanth,ad1\\n', 'prashanth,ad3\\n']\n"
     ]
    }
   ],
   "source": [
    "f=open(\"data2.csv\",\"r\")\n",
    "print f.readlines()"
   ]
  },
  {
   "cell_type": "code",
   "execution_count": 6,
   "metadata": {},
   "outputs": [
    {
     "name": "stdout",
     "output_type": "stream",
     "text": [
      "pavan,ad1\n",
      "\n",
      "sunitha,ad3\n",
      "\n",
      "sunitha,ad2\n",
      "\n"
     ]
    }
   ],
   "source": [
    "f=open(\"data2.csv\",\"r\")\n",
    "print f.readline()\n",
    "print f.readline()\n",
    "print f.readline()"
   ]
  },
  {
   "cell_type": "code",
   "execution_count": 7,
   "metadata": {},
   "outputs": [
    {
     "name": "stdout",
     "output_type": "stream",
     "text": [
      "['samba,ad2\\n', 'prashanth,ad1\\n', 'samba,ad2\\n', 'prashanth,ad3\\n', 'samba,ad1\\n', 'pavan,ad1\\n', 'samba,ad1\\n', 'samba,ad3\\n', 'pavan,ad1\\n', 'samba,ad2\\n', 'prashanth,ad2\\n', 'samba,ad2\\n', 'prashanth,ad2\\n', 'sunitha,ad1\\n', 'pavan,ad1\\n', 'murali,ad1\\n', 'sunitha,ad1\\n', 'murali,ad3\\n', 'samba,ad3\\n', 'pavan,ad2\\n', 'sunitha,ad1\\n', 'pavan,ad3\\n', 'prashanth,ad3\\n', 'pavan,ad3\\n', 'murali,ad1\\n', 'sunitha,ad1\\n', 'samba,ad1\\n', 'pavan,ad2\\n', 'murali,ad2\\n', 'pavan,ad1\\n', 'pavan,ad2\\n', 'murali,ad3\\n', 'pavan,ad1\\n', 'murali,ad2\\n', 'samba,ad3\\n', 'pavan,ad3\\n', 'prashanth,ad3\\n', 'murali,ad2\\n', 'pavan,ad1\\n', 'prashanth,ad1\\n', 'samba,ad1\\n', 'prashanth,ad2\\n', 'prashanth,ad3\\n', 'sunitha,ad2\\n', 'prashanth,ad3\\n', 'pavan,ad3\\n', 'murali,ad1\\n', 'samba,ad2\\n', 'pavan,ad1\\n', 'pavan,ad3\\n', 'sunitha,ad3\\n', 'murali,ad2\\n', 'prashanth,ad2\\n', 'prashanth,ad2\\n', 'pavan,ad1\\n', 'murali,ad1\\n', 'samba,ad2\\n', 'prashanth,ad3\\n', 'pavan,ad1\\n', 'prashanth,ad3\\n', 'prashanth,ad2\\n', 'murali,ad1\\n', 'pavan,ad2\\n', 'samba,ad2\\n', 'murali,ad3\\n', 'pavan,ad2\\n', 'pavan,ad3\\n', 'murali,ad3\\n', 'pavan,ad3\\n', 'sunitha,ad3\\n', 'samba,ad1\\n', 'murali,ad1\\n', 'sunitha,ad3\\n', 'murali,ad1\\n', 'samba,ad3\\n', 'sunitha,ad2\\n', 'prashanth,ad2\\n', 'sunitha,ad1\\n', 'pavan,ad1\\n', 'samba,ad3\\n', 'murali,ad1\\n', 'pavan,ad2\\n', 'samba,ad1\\n', 'sunitha,ad2\\n', 'murali,ad3\\n', 'sunitha,ad2\\n', 'prashanth,ad3\\n', 'samba,ad3\\n', 'prashanth,ad1\\n', 'sunitha,ad2\\n', 'prashanth,ad2\\n', 'sunitha,ad3\\n', 'prashanth,ad1\\n', 'murali,ad2\\n', 'prashanth,ad1\\n', 'prashanth,ad1\\n', 'prashanth,ad3\\n']\n"
     ]
    }
   ],
   "source": [
    "print f.readlines()"
   ]
  },
  {
   "cell_type": "code",
   "execution_count": 8,
   "metadata": {},
   "outputs": [
    {
     "name": "stdout",
     "output_type": "stream",
     "text": [
      "data1= \n"
     ]
    }
   ],
   "source": [
    "f=open(\"data2.csv\",\"r\")\n",
    "data=f.read()\n",
    "data1=f.read()\n",
    "print \"data1=\",data1"
   ]
  },
  {
   "cell_type": "code",
   "execution_count": 9,
   "metadata": {},
   "outputs": [
    {
     "name": "stdout",
     "output_type": "stream",
     "text": [
      "data1= rashanth,ad1\n",
      "sunitha,ad2\n",
      "prashanth,ad2\n",
      "sunitha,ad3\n",
      "prashanth,ad1\n",
      "murali,ad2\n",
      "prashanth,ad1\n",
      "prashanth,ad1\n",
      "prashanth,ad3\n",
      "\n"
     ]
    }
   ],
   "source": [
    "f=open(\"data2.csv\",\"r\")\n",
    "data=f.read(1024)\n",
    "data1=f.read()\n",
    "print \"data1=\",data1"
   ]
  },
  {
   "cell_type": "code",
   "execution_count": 10,
   "metadata": {},
   "outputs": [
    {
     "name": "stdout",
     "output_type": "stream",
     "text": [
      "0\n",
      "1024\n",
      "1142\n",
      "data1= rashanth,ad1\n",
      "sunitha,ad2\n",
      "prashanth,ad2\n",
      "sunitha,ad3\n",
      "prashanth,ad1\n",
      "murali,ad2\n",
      "prashanth,ad1\n",
      "prashanth,ad1\n",
      "prashanth,ad3\n",
      "\n"
     ]
    }
   ],
   "source": [
    "f=open(\"data2.csv\",\"r\")\n",
    "print f.tell()\n",
    "data=f.read(1024)\n",
    "print f.tell()\n",
    "data1=f.read()\n",
    "print f.tell()\n",
    "print \"data1=\",data1"
   ]
  },
  {
   "cell_type": "code",
   "execution_count": 11,
   "metadata": {},
   "outputs": [
    {
     "name": "stdout",
     "output_type": "stream",
     "text": [
      "0\n",
      "1142\n",
      "1142\n",
      "data1= \n"
     ]
    }
   ],
   "source": [
    "f=open(\"data2.csv\",\"r\")\n",
    "print f.tell()\n",
    "data=f.read()\n",
    "print f.tell()\n",
    "data1=f.read()\n",
    "print f.tell()\n",
    "print \"data1=\",data1"
   ]
  },
  {
   "cell_type": "code",
   "execution_count": 13,
   "metadata": {},
   "outputs": [
    {
     "name": "stdout",
     "output_type": "stream",
     "text": [
      "0\n",
      "1142\n",
      "changing the pointer to zero\n",
      "0\n",
      "reding second time\n",
      "1142\n",
      "data1= pavan,ad1\n",
      "sunitha,ad3\n",
      "sunitha,ad2\n",
      "samba,ad2\n",
      "prashanth,ad1\n",
      "samba,ad2\n",
      "prashanth,ad3\n",
      "samba,ad1\n",
      "pavan,ad1\n",
      "samba,ad1\n",
      "samba,ad3\n",
      "pavan,ad1\n",
      "samba,ad2\n",
      "prashanth,ad2\n",
      "samba,ad2\n",
      "prashanth,ad2\n",
      "sunitha,ad1\n",
      "pavan,ad1\n",
      "murali,ad1\n",
      "sunitha,ad1\n",
      "murali,ad3\n",
      "samba,ad3\n",
      "pavan,ad2\n",
      "sunitha,ad1\n",
      "pavan,ad3\n",
      "prashanth,ad3\n",
      "pavan,ad3\n",
      "murali,ad1\n",
      "sunitha,ad1\n",
      "samba,ad1\n",
      "pavan,ad2\n",
      "murali,ad2\n",
      "pavan,ad1\n",
      "pavan,ad2\n",
      "murali,ad3\n",
      "pavan,ad1\n",
      "murali,ad2\n",
      "samba,ad3\n",
      "pavan,ad3\n",
      "prashanth,ad3\n",
      "murali,ad2\n",
      "pavan,ad1\n",
      "prashanth,ad1\n",
      "samba,ad1\n",
      "prashanth,ad2\n",
      "prashanth,ad3\n",
      "sunitha,ad2\n",
      "prashanth,ad3\n",
      "pavan,ad3\n",
      "murali,ad1\n",
      "samba,ad2\n",
      "pavan,ad1\n",
      "pavan,ad3\n",
      "sunitha,ad3\n",
      "murali,ad2\n",
      "prashanth,ad2\n",
      "prashanth,ad2\n",
      "pavan,ad1\n",
      "murali,ad1\n",
      "samba,ad2\n",
      "prashanth,ad3\n",
      "pavan,ad1\n",
      "prashanth,ad3\n",
      "prashanth,ad2\n",
      "murali,ad1\n",
      "pavan,ad2\n",
      "samba,ad2\n",
      "murali,ad3\n",
      "pavan,ad2\n",
      "pavan,ad3\n",
      "murali,ad3\n",
      "pavan,ad3\n",
      "sunitha,ad3\n",
      "samba,ad1\n",
      "murali,ad1\n",
      "sunitha,ad3\n",
      "murali,ad1\n",
      "samba,ad3\n",
      "sunitha,ad2\n",
      "prashanth,ad2\n",
      "sunitha,ad1\n",
      "pavan,ad1\n",
      "samba,ad3\n",
      "murali,ad1\n",
      "pavan,ad2\n",
      "samba,ad1\n",
      "sunitha,ad2\n",
      "murali,ad3\n",
      "sunitha,ad2\n",
      "prashanth,ad3\n",
      "samba,ad3\n",
      "prashanth,ad1\n",
      "sunitha,ad2\n",
      "prashanth,ad2\n",
      "sunitha,ad3\n",
      "prashanth,ad1\n",
      "murali,ad2\n",
      "prashanth,ad1\n",
      "prashanth,ad1\n",
      "prashanth,ad3\n",
      "\n"
     ]
    }
   ],
   "source": [
    "f=open(\"data2.csv\",\"r\")\n",
    "print f.tell()\n",
    "data=f.read()\n",
    "print f.tell()\n",
    "print \"changing the pointer to zero\"\n",
    "f.seek(0)\n",
    "print f.tell()\n",
    "print \"reding second time\"\n",
    "data1=f.read()\n",
    "print f.tell()\n",
    "print \"data1=\",data1"
   ]
  },
  {
   "cell_type": "code",
   "execution_count": 14,
   "metadata": {},
   "outputs": [
    {
     "name": "stdout",
     "output_type": "stream",
     "text": [
      "pavan,ad1\n",
      "\n"
     ]
    }
   ],
   "source": [
    "f=open(\"data2.csv\",\"r\")\n",
    "data=f.read()\n",
    "f.close()\n",
    "f=open(\"data2.csv\",\"r\")\n",
    "data=f.read()\n",
    "print data[:10]"
   ]
  },
  {
   "cell_type": "code",
   "execution_count": 16,
   "metadata": {},
   "outputs": [
    {
     "name": "stdout",
     "output_type": "stream",
     "text": [
      "10\n",
      "sunitha,ad\n"
     ]
    }
   ],
   "source": [
    "f=open(\"data2.csv\",\"r\")\n",
    "data=f.read()\n",
    "f.seek(10)\n",
    "print f.tell()\n",
    "data=f.read()\n",
    "print data[:10]"
   ]
  },
  {
   "cell_type": "code",
   "execution_count": 17,
   "metadata": {},
   "outputs": [
    {
     "name": "stdout",
     "output_type": "stream",
     "text": [
      "pavan,ad1\n",
      "\n",
      "sunitha,ad3\n",
      "\n",
      "sunitha,ad2\n",
      "\n",
      "samba,ad2\n",
      "\n",
      "prashanth,ad1\n",
      "\n",
      "samba,ad2\n",
      "\n",
      "prashanth,ad3\n",
      "\n",
      "samba,ad1\n",
      "\n",
      "pavan,ad1\n",
      "\n",
      "samba,ad1\n",
      "\n",
      "samba,ad3\n",
      "\n",
      "pavan,ad1\n",
      "\n",
      "samba,ad2\n",
      "\n",
      "prashanth,ad2\n",
      "\n",
      "samba,ad2\n",
      "\n",
      "prashanth,ad2\n",
      "\n",
      "sunitha,ad1\n",
      "\n",
      "pavan,ad1\n",
      "\n",
      "murali,ad1\n",
      "\n",
      "sunitha,ad1\n",
      "\n",
      "murali,ad3\n",
      "\n",
      "samba,ad3\n",
      "\n",
      "pavan,ad2\n",
      "\n",
      "sunitha,ad1\n",
      "\n",
      "pavan,ad3\n",
      "\n",
      "prashanth,ad3\n",
      "\n",
      "pavan,ad3\n",
      "\n",
      "murali,ad1\n",
      "\n",
      "sunitha,ad1\n",
      "\n",
      "samba,ad1\n",
      "\n",
      "pavan,ad2\n",
      "\n",
      "murali,ad2\n",
      "\n",
      "pavan,ad1\n",
      "\n",
      "pavan,ad2\n",
      "\n",
      "murali,ad3\n",
      "\n",
      "pavan,ad1\n",
      "\n",
      "murali,ad2\n",
      "\n",
      "samba,ad3\n",
      "\n",
      "pavan,ad3\n",
      "\n",
      "prashanth,ad3\n",
      "\n",
      "murali,ad2\n",
      "\n",
      "pavan,ad1\n",
      "\n",
      "prashanth,ad1\n",
      "\n",
      "samba,ad1\n",
      "\n",
      "prashanth,ad2\n",
      "\n",
      "prashanth,ad3\n",
      "\n",
      "sunitha,ad2\n",
      "\n",
      "prashanth,ad3\n",
      "\n",
      "pavan,ad3\n",
      "\n",
      "murali,ad1\n",
      "\n",
      "samba,ad2\n",
      "\n",
      "pavan,ad1\n",
      "\n",
      "pavan,ad3\n",
      "\n",
      "sunitha,ad3\n",
      "\n",
      "murali,ad2\n",
      "\n",
      "prashanth,ad2\n",
      "\n",
      "prashanth,ad2\n",
      "\n",
      "pavan,ad1\n",
      "\n",
      "murali,ad1\n",
      "\n",
      "samba,ad2\n",
      "\n",
      "prashanth,ad3\n",
      "\n",
      "pavan,ad1\n",
      "\n",
      "prashanth,ad3\n",
      "\n",
      "prashanth,ad2\n",
      "\n",
      "murali,ad1\n",
      "\n",
      "pavan,ad2\n",
      "\n",
      "samba,ad2\n",
      "\n",
      "murali,ad3\n",
      "\n",
      "pavan,ad2\n",
      "\n",
      "pavan,ad3\n",
      "\n",
      "murali,ad3\n",
      "\n",
      "pavan,ad3\n",
      "\n",
      "sunitha,ad3\n",
      "\n",
      "samba,ad1\n",
      "\n",
      "murali,ad1\n",
      "\n",
      "sunitha,ad3\n",
      "\n",
      "murali,ad1\n",
      "\n",
      "samba,ad3\n",
      "\n",
      "sunitha,ad2\n",
      "\n",
      "prashanth,ad2\n",
      "\n",
      "sunitha,ad1\n",
      "\n",
      "pavan,ad1\n",
      "\n",
      "samba,ad3\n",
      "\n",
      "murali,ad1\n",
      "\n",
      "pavan,ad2\n",
      "\n",
      "samba,ad1\n",
      "\n",
      "sunitha,ad2\n",
      "\n",
      "murali,ad3\n",
      "\n",
      "sunitha,ad2\n",
      "\n",
      "prashanth,ad3\n",
      "\n",
      "samba,ad3\n",
      "\n",
      "prashanth,ad1\n",
      "\n",
      "sunitha,ad2\n",
      "\n",
      "prashanth,ad2\n",
      "\n",
      "sunitha,ad3\n",
      "\n",
      "prashanth,ad1\n",
      "\n",
      "murali,ad2\n",
      "\n",
      "prashanth,ad1\n",
      "\n",
      "prashanth,ad1\n",
      "\n",
      "prashanth,ad3\n",
      "\n"
     ]
    }
   ],
   "source": [
    "f=open(\"data2.csv\",\"r\")\n",
    "for i in f:\n",
    "    print i\n",
    "    "
   ]
  },
  {
   "cell_type": "code",
   "execution_count": 18,
   "metadata": {},
   "outputs": [
    {
     "name": "stdout",
     "output_type": "stream",
     "text": [
      "����\u0000\u0010JFIF\u0000\u0001\u0001\u0000\u0000\u0001\u0000\u0001\u0000\u0000��\u0000C\u0000\u0005\u0003\u0004\u0004\u0004\u0003\u0005\u0004\u0004\u0004\u0005\u0005\u0005\u0006\u0007\f",
      "\b\u0007\u0007\u0007\u0007\u000f\u000b",
      "\u000b",
      "\t\f",
      "\u0011\u000f\u0012\u0012\u0011\u000f\u0011\u0011\u0013\u0016\u001c",
      "\u0017\u0013\u0014\u001a\u0015\u0011\u0011\u0018!\u0018\u001a\u001d",
      "\u001d",
      "\u001f\u001f\u001f\u0013\u0017\"$\"\u001e",
      "$\u001c",
      "\u001e",
      "\u001f\u001e",
      "��\u0000C\u0001\u0005\u0005\u0005\u0007\u0006\u0007\n"
     ]
    }
   ],
   "source": [
    "f=open(\"1.jpg\",\"r\")\n",
    "data=f.read()\n",
    "print data[:100]"
   ]
  },
  {
   "cell_type": "code",
   "execution_count": 19,
   "metadata": {
    "collapsed": true
   },
   "outputs": [],
   "source": [
    "f=open(\"1.jpg\",\"r\")\n",
    "data=f.read()\n",
    "f.close()\n",
    "f=open(\"1_copy.jpg\",\"w\")\n",
    "f.write(data)\n",
    "f.close()"
   ]
  },
  {
   "cell_type": "code",
   "execution_count": 20,
   "metadata": {
    "collapsed": true
   },
   "outputs": [],
   "source": [
    "f=open(\"1.jpg\",\"rb\")\n",
    "data=f.read()\n",
    "f.close()\n",
    "f=open(\"1_copy.jpg\",\"wb\")\n",
    "f.write(data)\n",
    "f.close()"
   ]
  },
  {
   "cell_type": "code",
   "execution_count": 21,
   "metadata": {},
   "outputs": [
    {
     "name": "stdout",
     "output_type": "stream",
     "text": [
      "---\n",
      "environment: production\n",
      "classes:\n",
      "  nfs::server:\n",
      "    exports:\n",
      "      - /srv/share1\n",
      "      - /srv/share3\n",
      "parameters:\n",
      "\n"
     ]
    }
   ],
   "source": [
    "f=open(\"data.yaml\",\"r\")\n",
    "data=f.read()\n",
    "print data"
   ]
  },
  {
   "cell_type": "code",
   "execution_count": 22,
   "metadata": {
    "collapsed": true
   },
   "outputs": [],
   "source": [
    "f=open(\"data.yaml\",\"r\")\n",
    "#data=f.read()\n",
    "#print data\n",
    "import yaml"
   ]
  },
  {
   "cell_type": "code",
   "execution_count": 23,
   "metadata": {},
   "outputs": [
    {
     "name": "stdout",
     "output_type": "stream",
     "text": [
      "{'environment': 'production', 'classes': {'nfs::server': {'exports': ['/srv/share1', '/srv/share3']}}, 'parameters': None}\n"
     ]
    }
   ],
   "source": [
    "f=open(\"data.yaml\",\"r\")\n",
    "#data=f.read()\n",
    "#print data\n",
    "import yaml\n",
    "data = yaml.load(f)\n",
    "print data"
   ]
  },
  {
   "cell_type": "code",
   "execution_count": 24,
   "metadata": {},
   "outputs": [
    {
     "name": "stdout",
     "output_type": "stream",
     "text": [
      "{\n",
      "    \"glossary\": {\n",
      "        \"title\": \"example glossary\",\n",
      "\t\t\"GlossDiv\": {\n",
      "            \"title\": \"S\",\n",
      "\t\t\t\"GlossList\": {\n",
      "                \"GlossEntry\": {\n",
      "                    \"ID\": \"SGML\",\n",
      "\t\t\t\t\t\"SortAs\": \"SGML\",\n",
      "\t\t\t\t\t\"GlossTerm\": \"Standard Generalized Markup Language\",\n",
      "\t\t\t\t\t\"Acronym\": \"SGML\",\n",
      "\t\t\t\t\t\"Abbrev\": \"ISO 8879:1986\",\n",
      "\t\t\t\t\t\"GlossDef\": {\n",
      "                        \"para\": \"A meta-markup language, used to create markup languages such as DocBook.\",\n",
      "\t\t\t\t\t\t\"GlossSeeAlso\": [\"GML\", \"XML\"]\n",
      "                    },\n",
      "\t\t\t\t\t\"GlossSee\": \"markup\"\n",
      "                }\n",
      "            }\n",
      "        }\n",
      "    }\n",
      "}\n",
      "\n"
     ]
    }
   ],
   "source": [
    "f=open(\"data.json\")\n",
    "data=f.read()\n",
    "print data"
   ]
  },
  {
   "cell_type": "code",
   "execution_count": 25,
   "metadata": {},
   "outputs": [
    {
     "name": "stdout",
     "output_type": "stream",
     "text": [
      "{\n",
      "    \"glossary\": {\n",
      "        \"title\": \"example glossary\",\n",
      "\t\t\"GlossDiv\": {\n",
      "            \"title\": \"S\",\n",
      "\t\t\t\"GlossList\": {\n",
      "                \"GlossEntry\": {\n",
      "                    \"ID\": \"SGML\",\n",
      "\t\t\t\t\t\"SortAs\": \"SGML\",\n",
      "\t\t\t\t\t\"GlossTerm\": \"Standard Generalized Markup Language\",\n",
      "\t\t\t\t\t\"Acronym\": \"SGML\",\n",
      "\t\t\t\t\t\"Abbrev\": \"ISO 8879:1986\",\n",
      "\t\t\t\t\t\"GlossDef\": {\n",
      "                        \"para\": \"A meta-markup language, used to create markup languages such as DocBook.\",\n",
      "\t\t\t\t\t\t\"GlossSeeAlso\": [\"GML\", \"XML\"]\n",
      "                    },\n",
      "\t\t\t\t\t\"GlossSee\": \"markup\"\n",
      "                }\n",
      "            }\n",
      "        }\n",
      "    }\n",
      "}\n",
      "<type 'str'>\n"
     ]
    }
   ],
   "source": [
    "f=open(\"data.json\")\n",
    "data=f.read()\n",
    "print data,type(data)"
   ]
  },
  {
   "cell_type": "code",
   "execution_count": 26,
   "metadata": {},
   "outputs": [
    {
     "name": "stdout",
     "output_type": "stream",
     "text": [
      "{\n",
      "    \"glossary\": {\n",
      "        \"title\": \"example glossary\",\n",
      "\t\t\"GlossDiv\": {\n",
      "            \"title\": \"S\",\n",
      "\t\t\t\"GlossList\": {\n",
      "                \"GlossEntry\": {\n",
      "                    \"ID\": \"SGML\",\n",
      "\t\t\t\t\t\"SortAs\": \"SGML\",\n",
      "\t\t\t\t\t\"GlossTerm\": \"Standard Generalized Markup Language\",\n",
      "\t\t\t\t\t\"Acronym\": \"SGML\",\n",
      "\t\t\t\t\t\"Abbrev\": \"ISO 8879:1986\",\n",
      "\t\t\t\t\t\"GlossDef\": {\n",
      "                        \"para\": \"A meta-markup language, used to create markup languages such as DocBook.\",\n",
      "\t\t\t\t\t\t\"GlossSeeAlso\": [\"GML\", \"XML\"]\n",
      "                    },\n",
      "\t\t\t\t\t\"GlossSee\": \"markup\"\n",
      "                }\n",
      "            }\n",
      "        }\n",
      "    }\n",
      "}\n",
      "<type 'str'>\n"
     ]
    },
    {
     "ename": "AttributeError",
     "evalue": "'str' object has no attribute 'get'",
     "output_type": "error",
     "traceback": [
      "\u001b[0;31m---------------------------------------------------------------------------\u001b[0m",
      "\u001b[0;31mAttributeError\u001b[0m                            Traceback (most recent call last)",
      "\u001b[0;32m<ipython-input-26-5d571dc7e61b>\u001b[0m in \u001b[0;36m<module>\u001b[0;34m()\u001b[0m\n\u001b[1;32m      2\u001b[0m \u001b[0mdata\u001b[0m\u001b[0;34m=\u001b[0m\u001b[0mf\u001b[0m\u001b[0;34m.\u001b[0m\u001b[0mread\u001b[0m\u001b[0;34m(\u001b[0m\u001b[0;34m)\u001b[0m\u001b[0;34m\u001b[0m\u001b[0m\n\u001b[1;32m      3\u001b[0m \u001b[0;32mprint\u001b[0m \u001b[0mdata\u001b[0m\u001b[0;34m,\u001b[0m\u001b[0mtype\u001b[0m\u001b[0;34m(\u001b[0m\u001b[0mdata\u001b[0m\u001b[0;34m)\u001b[0m\u001b[0;34m\u001b[0m\u001b[0m\n\u001b[0;32m----> 4\u001b[0;31m \u001b[0;32mprint\u001b[0m \u001b[0mdata\u001b[0m\u001b[0;34m.\u001b[0m\u001b[0mget\u001b[0m\u001b[0;34m(\u001b[0m\u001b[0;34m\"glossary\"\u001b[0m\u001b[0;34m)\u001b[0m\u001b[0;34m\u001b[0m\u001b[0m\n\u001b[0m",
      "\u001b[0;31mAttributeError\u001b[0m: 'str' object has no attribute 'get'"
     ]
    }
   ],
   "source": [
    "f=open(\"data.json\")\n",
    "data=f.read()\n",
    "print data,type(data)\n",
    "print data.get(\"glossary\")"
   ]
  },
  {
   "cell_type": "code",
   "execution_count": 27,
   "metadata": {},
   "outputs": [
    {
     "name": "stdout",
     "output_type": "stream",
     "text": [
      "<type 'dict'>\n",
      "{u'glossary': {u'GlossDiv': {u'GlossList': {u'GlossEntry': {u'GlossDef': {u'GlossSeeAlso': [u'GML', u'XML'], u'para': u'A meta-markup language, used to create markup languages such as DocBook.'}, u'GlossSee': u'markup', u'Acronym': u'SGML', u'GlossTerm': u'Standard Generalized Markup Language', u'Abbrev': u'ISO 8879:1986', u'SortAs': u'SGML', u'ID': u'SGML'}}, u'title': u'S'}, u'title': u'example glossary'}}\n"
     ]
    }
   ],
   "source": [
    "f=open(\"data.json\")\n",
    "import json\n",
    "data=json.load(f)\n",
    "print type(data)\n",
    "print data"
   ]
  },
  {
   "cell_type": "code",
   "execution_count": 28,
   "metadata": {},
   "outputs": [
    {
     "name": "stdout",
     "output_type": "stream",
     "text": [
      "<type 'dict'>\n",
      "{u'glossary': {u'GlossDiv': {u'GlossList': {u'GlossEntry': {u'GlossDef': {u'GlossSeeAlso': [u'GML', u'XML'], u'para': u'A meta-markup language, used to create markup languages such as DocBook.'}, u'GlossSee': u'markup', u'Acronym': u'SGML', u'GlossTerm': u'Standard Generalized Markup Language', u'Abbrev': u'ISO 8879:1986', u'SortAs': u'SGML', u'ID': u'SGML'}}, u'title': u'S'}, u'title': u'example glossary'}}\n",
      "{u'GlossDiv': {u'GlossList': {u'GlossEntry': {u'GlossDef': {u'GlossSeeAlso': [u'GML', u'XML'], u'para': u'A meta-markup language, used to create markup languages such as DocBook.'}, u'GlossSee': u'markup', u'Acronym': u'SGML', u'GlossTerm': u'Standard Generalized Markup Language', u'Abbrev': u'ISO 8879:1986', u'SortAs': u'SGML', u'ID': u'SGML'}}, u'title': u'S'}, u'title': u'example glossary'}\n"
     ]
    }
   ],
   "source": [
    "f=open(\"data.json\")\n",
    "import json\n",
    "data=json.load(f)\n",
    "print type(data)\n",
    "print data\n",
    "print data.get(\"glossary\")"
   ]
  },
  {
   "cell_type": "code",
   "execution_count": 29,
   "metadata": {},
   "outputs": [
    {
     "ename": "TypeError",
     "evalue": "expected a string or other character buffer object",
     "output_type": "error",
     "traceback": [
      "\u001b[0;31m---------------------------------------------------------------------------\u001b[0m",
      "\u001b[0;31mTypeError\u001b[0m                                 Traceback (most recent call last)",
      "\u001b[0;32m<ipython-input-29-88dda43dd8cc>\u001b[0m in \u001b[0;36m<module>\u001b[0;34m()\u001b[0m\n\u001b[1;32m      1\u001b[0m \u001b[0mf\u001b[0m\u001b[0;34m=\u001b[0m\u001b[0mopen\u001b[0m\u001b[0;34m(\u001b[0m\u001b[0;34m\"data4.txt\"\u001b[0m\u001b[0;34m,\u001b[0m\u001b[0;34m\"w\"\u001b[0m\u001b[0;34m)\u001b[0m\u001b[0;34m\u001b[0m\u001b[0m\n\u001b[0;32m----> 2\u001b[0;31m \u001b[0mf\u001b[0m\u001b[0;34m.\u001b[0m\u001b[0mwrite\u001b[0m\u001b[0;34m(\u001b[0m\u001b[0;36m120\u001b[0m\u001b[0;34m)\u001b[0m\u001b[0;34m\u001b[0m\u001b[0m\n\u001b[0m\u001b[1;32m      3\u001b[0m \u001b[0mf\u001b[0m\u001b[0;34m.\u001b[0m\u001b[0mclose\u001b[0m\u001b[0;34m(\u001b[0m\u001b[0;34m)\u001b[0m\u001b[0;34m\u001b[0m\u001b[0m\n",
      "\u001b[0;31mTypeError\u001b[0m: expected a string or other character buffer object"
     ]
    }
   ],
   "source": [
    "f=open(\"data4.txt\",\"w\")\n",
    "f.write(120)\n",
    "f.close()"
   ]
  },
  {
   "cell_type": "code",
   "execution_count": 30,
   "metadata": {},
   "outputs": [
    {
     "ename": "TypeError",
     "evalue": "expected a string or other character buffer object",
     "output_type": "error",
     "traceback": [
      "\u001b[0;31m---------------------------------------------------------------------------\u001b[0m",
      "\u001b[0;31mTypeError\u001b[0m                                 Traceback (most recent call last)",
      "\u001b[0;32m<ipython-input-30-f562278cee39>\u001b[0m in \u001b[0;36m<module>\u001b[0;34m()\u001b[0m\n\u001b[1;32m      1\u001b[0m \u001b[0mpersons\u001b[0m\u001b[0;34m=\u001b[0m\u001b[0;34m[\u001b[0m\u001b[0;34m{\u001b[0m\u001b[0;34m\"name\"\u001b[0m\u001b[0;34m:\u001b[0m\u001b[0;34m\"name1\"\u001b[0m\u001b[0;34m,\u001b[0m\u001b[0;34m\"age\"\u001b[0m\u001b[0;34m:\u001b[0m\u001b[0;36m23\u001b[0m\u001b[0;34m}\u001b[0m\u001b[0;34m,\u001b[0m\u001b[0;34m{\u001b[0m\u001b[0;34m\"name\"\u001b[0m\u001b[0;34m:\u001b[0m\u001b[0;34m\"name2\"\u001b[0m\u001b[0;34m,\u001b[0m\u001b[0;34m\"age\"\u001b[0m\u001b[0;34m:\u001b[0m\u001b[0;36m24\u001b[0m\u001b[0;34m}\u001b[0m\u001b[0;34m]\u001b[0m\u001b[0;34m\u001b[0m\u001b[0m\n\u001b[1;32m      2\u001b[0m \u001b[0mf\u001b[0m\u001b[0;34m=\u001b[0m\u001b[0mopen\u001b[0m\u001b[0;34m(\u001b[0m\u001b[0;34m\"data4.txt\"\u001b[0m\u001b[0;34m,\u001b[0m\u001b[0;34m\"w\"\u001b[0m\u001b[0;34m)\u001b[0m\u001b[0;34m\u001b[0m\u001b[0m\n\u001b[0;32m----> 3\u001b[0;31m \u001b[0mf\u001b[0m\u001b[0;34m.\u001b[0m\u001b[0mwrite\u001b[0m\u001b[0;34m(\u001b[0m\u001b[0mpersons\u001b[0m\u001b[0;34m)\u001b[0m\u001b[0;34m\u001b[0m\u001b[0m\n\u001b[0m\u001b[1;32m      4\u001b[0m \u001b[0mf\u001b[0m\u001b[0;34m.\u001b[0m\u001b[0mclose\u001b[0m\u001b[0;34m(\u001b[0m\u001b[0;34m)\u001b[0m\u001b[0;34m\u001b[0m\u001b[0m\n",
      "\u001b[0;31mTypeError\u001b[0m: expected a string or other character buffer object"
     ]
    }
   ],
   "source": [
    "persons=[{\"name\":\"name1\",\"age\":23},{\"name\":\"name2\",\"age\":24}]\n",
    "f=open(\"data4.txt\",\"w\")\n",
    "f.write(persons)\n",
    "f.close()"
   ]
  },
  {
   "cell_type": "code",
   "execution_count": 31,
   "metadata": {},
   "outputs": [
    {
     "ename": "TypeError",
     "evalue": "writelines() argument must be a sequence of strings",
     "output_type": "error",
     "traceback": [
      "\u001b[0;31m---------------------------------------------------------------------------\u001b[0m",
      "\u001b[0;31mTypeError\u001b[0m                                 Traceback (most recent call last)",
      "\u001b[0;32m<ipython-input-31-291c6d9b77ab>\u001b[0m in \u001b[0;36m<module>\u001b[0;34m()\u001b[0m\n\u001b[1;32m      1\u001b[0m \u001b[0mpersons\u001b[0m\u001b[0;34m=\u001b[0m\u001b[0;34m[\u001b[0m\u001b[0;34m{\u001b[0m\u001b[0;34m\"name\"\u001b[0m\u001b[0;34m:\u001b[0m\u001b[0;34m\"name1\"\u001b[0m\u001b[0;34m,\u001b[0m\u001b[0;34m\"age\"\u001b[0m\u001b[0;34m:\u001b[0m\u001b[0;36m23\u001b[0m\u001b[0;34m}\u001b[0m\u001b[0;34m,\u001b[0m\u001b[0;34m{\u001b[0m\u001b[0;34m\"name\"\u001b[0m\u001b[0;34m:\u001b[0m\u001b[0;34m\"name2\"\u001b[0m\u001b[0;34m,\u001b[0m\u001b[0;34m\"age\"\u001b[0m\u001b[0;34m:\u001b[0m\u001b[0;36m24\u001b[0m\u001b[0;34m}\u001b[0m\u001b[0;34m]\u001b[0m\u001b[0;34m\u001b[0m\u001b[0m\n\u001b[1;32m      2\u001b[0m \u001b[0mf\u001b[0m\u001b[0;34m=\u001b[0m\u001b[0mopen\u001b[0m\u001b[0;34m(\u001b[0m\u001b[0;34m\"data4.txt\"\u001b[0m\u001b[0;34m,\u001b[0m\u001b[0;34m\"w\"\u001b[0m\u001b[0;34m)\u001b[0m\u001b[0;34m\u001b[0m\u001b[0m\n\u001b[0;32m----> 3\u001b[0;31m \u001b[0mf\u001b[0m\u001b[0;34m.\u001b[0m\u001b[0mwritelines\u001b[0m\u001b[0;34m(\u001b[0m\u001b[0mpersons\u001b[0m\u001b[0;34m)\u001b[0m\u001b[0;34m\u001b[0m\u001b[0m\n\u001b[0m\u001b[1;32m      4\u001b[0m \u001b[0mf\u001b[0m\u001b[0;34m.\u001b[0m\u001b[0mclose\u001b[0m\u001b[0;34m(\u001b[0m\u001b[0;34m)\u001b[0m\u001b[0;34m\u001b[0m\u001b[0m\n",
      "\u001b[0;31mTypeError\u001b[0m: writelines() argument must be a sequence of strings"
     ]
    }
   ],
   "source": [
    "persons=[{\"name\":\"name1\",\"age\":23},{\"name\":\"name2\",\"age\":24}]\n",
    "f=open(\"data4.txt\",\"w\")\n",
    "f.writelines(persons)\n",
    "f.close()"
   ]
  },
  {
   "cell_type": "code",
   "execution_count": 32,
   "metadata": {
    "collapsed": true
   },
   "outputs": [],
   "source": [
    "persons=[{\"name\":\"name1\",\"age\":23},{\"name\":\"name2\",\"age\":24}]\n",
    "f=open(\"data4.txt\",\"w\")\n",
    "f.writelines(str(persons))\n",
    "f.close()"
   ]
  },
  {
   "cell_type": "code",
   "execution_count": 33,
   "metadata": {},
   "outputs": [
    {
     "name": "stdout",
     "output_type": "stream",
     "text": [
      "<type 'str'>\n"
     ]
    }
   ],
   "source": [
    "data=open(\"data4.txt\").read()\n",
    "print type(data)"
   ]
  },
  {
   "cell_type": "code",
   "execution_count": 34,
   "metadata": {
    "collapsed": true
   },
   "outputs": [],
   "source": [
    "import pickle\n",
    "persons=[{\"name\":\"name1\",\"age\":23},{\"name\":\"name2\",\"age\":24}]\n",
    "f=open(\"data4.txt\",\"w\")\n",
    "pickle.dump(persons,f)\n",
    "f.close()\n"
   ]
  },
  {
   "cell_type": "code",
   "execution_count": 35,
   "metadata": {},
   "outputs": [
    {
     "name": "stdout",
     "output_type": "stream",
     "text": [
      "(lp0\n",
      "(dp1\n",
      "S'age'\n",
      "p2\n",
      "I23\n",
      "sS'name'\n",
      "p3\n",
      "S'name1'\n",
      "p4\n",
      "sa(dp5\n",
      "g2\n",
      "I24\n",
      "sg3\n",
      "S'name2'\n",
      "p6\n",
      "sa.\n"
     ]
    }
   ],
   "source": [
    "import pickle\n",
    "f=open(\"data4.txt\",\"r\")\n",
    "data=f.read()\n",
    "print data"
   ]
  },
  {
   "cell_type": "code",
   "execution_count": 36,
   "metadata": {},
   "outputs": [
    {
     "name": "stdout",
     "output_type": "stream",
     "text": [
      "[{'age': 23, 'name': 'name1'}, {'age': 24, 'name': 'name2'}]\n"
     ]
    }
   ],
   "source": [
    "import pickle\n",
    "f=open(\"data4.txt\",\"r\")\n",
    "data=pickle.load(f)\n",
    "print data"
   ]
  },
  {
   "cell_type": "code",
   "execution_count": 37,
   "metadata": {},
   "outputs": [
    {
     "data": {
      "text/plain": [
       "list"
      ]
     },
     "execution_count": 37,
     "metadata": {},
     "output_type": "execute_result"
    }
   ],
   "source": [
    "type(data)"
   ]
  },
  {
   "cell_type": "code",
   "execution_count": 38,
   "metadata": {},
   "outputs": [
    {
     "data": {
      "text/plain": [
       "<sqlite3.Cursor at 0x7f2050169180>"
      ]
     },
     "execution_count": 38,
     "metadata": {},
     "output_type": "execute_result"
    }
   ],
   "source": [
    "import sqlite3\n",
    "con = sqlite3.connect(\"db1.db\")\n",
    "cur=con.cursor()\n",
    "cur.execute(\"create table customer(id int, name varchar)\")"
   ]
  },
  {
   "cell_type": "code",
   "execution_count": 39,
   "metadata": {},
   "outputs": [
    {
     "data": {
      "text/plain": [
       "<sqlite3.Cursor at 0x7f2050169180>"
      ]
     },
     "execution_count": 39,
     "metadata": {},
     "output_type": "execute_result"
    }
   ],
   "source": [
    "q=\"insert into customer values(1,'name1')\"\n",
    "cur.execute(q)"
   ]
  },
  {
   "cell_type": "code",
   "execution_count": 40,
   "metadata": {
    "collapsed": true
   },
   "outputs": [],
   "source": [
    "con.commit()"
   ]
  },
  {
   "cell_type": "code",
   "execution_count": 41,
   "metadata": {},
   "outputs": [
    {
     "name": "stdout",
     "output_type": "stream",
     "text": [
      "Enter person id:3\n",
      "Enter person name:name3\n",
      "insert into customer values(3,'name3')\n"
     ]
    }
   ],
   "source": [
    "p_id=raw_input(\"Enter person id:\")\n",
    "p_name=raw_input(\"Enter person name:\")\n",
    "#\"insert into customer values(2,'name2')\"\n",
    "q=\"insert into customer values(%s,'%s')\"%(p_id,p_name)\n",
    "print q"
   ]
  },
  {
   "cell_type": "code",
   "execution_count": 42,
   "metadata": {},
   "outputs": [
    {
     "name": "stdout",
     "output_type": "stream",
     "text": [
      "Enter person id:3\n",
      "Enter person name:name3\n",
      "insert into customer values(3,'name3')\n"
     ]
    }
   ],
   "source": [
    "p_id=raw_input(\"Enter person id:\")\n",
    "p_name=raw_input(\"Enter person name:\")\n",
    "#\"insert into customer values(2,'name2')\"\n",
    "q=\"insert into customer values(%s,'%s')\"%(p_id,p_name)\n",
    "print q\n",
    "cur.execute(q)\n",
    "con.commit()"
   ]
  },
  {
   "cell_type": "code",
   "execution_count": 43,
   "metadata": {},
   "outputs": [
    {
     "name": "stdout",
     "output_type": "stream",
     "text": [
      "Enter person id:4\n",
      "Enter person name:name4\n",
      "insert into customer values(4,'name4')\n"
     ]
    }
   ],
   "source": [
    "data={}\n",
    "for col in ['id','name']:\n",
    "    value=raw_input(\"Enter person %s:\"%col)\n",
    "    data.update({col:value})\n",
    "#\"insert into customer values(2,'name2')\"\n",
    "q=\"insert into customer values(%s,'%s')\"%(data.get('id'),data.get(\"name\"))\n",
    "print q\n",
    "cur.execute(q)\n",
    "con.commit()"
   ]
  },
  {
   "cell_type": "code",
   "execution_count": 44,
   "metadata": {},
   "outputs": [
    {
     "name": "stdout",
     "output_type": "stream",
     "text": [
      "Enter person id:5\n",
      "Enter person name:name5\n",
      "insert into customer values(5,'name5')\n"
     ]
    }
   ],
   "source": [
    "data={}\n",
    "for col in ['id','name']:\n",
    "    value=raw_input(\"Enter person %s:\"%col)\n",
    "    data.update({col:value})\n",
    "#\"insert into customer values(2,'name2')\"\n",
    "q=\"insert into customer values(%(id)s,'%(name)s')\"%data\n",
    "print q\n",
    "cur.execute(q)\n",
    "con.commit()"
   ]
  },
  {
   "cell_type": "code",
   "execution_count": 45,
   "metadata": {},
   "outputs": [
    {
     "data": {
      "text/plain": [
       "<sqlite3.Cursor at 0x7f2050169180>"
      ]
     },
     "execution_count": 45,
     "metadata": {},
     "output_type": "execute_result"
    }
   ],
   "source": [
    "q=\"select * from customer\"\n",
    "cur.execute(q)"
   ]
  },
  {
   "cell_type": "code",
   "execution_count": 46,
   "metadata": {},
   "outputs": [
    {
     "name": "stdout",
     "output_type": "stream",
     "text": [
      "[(1, u'name1'), (3, u'name3'), (4, u'name4'), (5, u'name5')]\n"
     ]
    }
   ],
   "source": [
    "data=cur.fetchall()\n",
    "print data"
   ]
  },
  {
   "cell_type": "code",
   "execution_count": 47,
   "metadata": {},
   "outputs": [
    {
     "name": "stdout",
     "output_type": "stream",
     "text": [
      "[(u'name1', 1), (u'name3', 3), (u'name4', 4), (u'name5', 5)]\n"
     ]
    }
   ],
   "source": [
    "q=\"select name,id from customer\"\n",
    "cur.execute(q)\n",
    "print cur.fetchall()"
   ]
  },
  {
   "cell_type": "code",
   "execution_count": 48,
   "metadata": {},
   "outputs": [
    {
     "name": "stdout",
     "output_type": "stream",
     "text": [
      "[(u'name1',), (u'name3',), (u'name4',), (u'name5',)]\n"
     ]
    }
   ],
   "source": [
    "q=\"select name from customer\"\n",
    "cur.execute(q)\n",
    "print cur.fetchall()"
   ]
  },
  {
   "cell_type": "code",
   "execution_count": 49,
   "metadata": {
    "collapsed": true
   },
   "outputs": [],
   "source": [
    "q=\"update customer set name='modified name'\"\n",
    "cur.execute(q)\n",
    "con.commit()"
   ]
  },
  {
   "cell_type": "code",
   "execution_count": 50,
   "metadata": {
    "collapsed": true
   },
   "outputs": [],
   "source": [
    "q=\"update customer set name='modified addd name' where id=3\"\n",
    "cur.execute(q)\n",
    "con.commit()"
   ]
  },
  {
   "cell_type": "code",
   "execution_count": 51,
   "metadata": {
    "collapsed": true
   },
   "outputs": [],
   "source": [
    "q=\"delete customer where id=1\"\n"
   ]
  },
  {
   "cell_type": "code",
   "execution_count": 53,
   "metadata": {
    "collapsed": true
   },
   "outputs": [],
   "source": [
    "q=\"delete from customer where id=1\"\n",
    "cur.execute(q)\n",
    "con.commit()"
   ]
  },
  {
   "cell_type": "code",
   "execution_count": 54,
   "metadata": {},
   "outputs": [
    {
     "ename": "OperationalError",
     "evalue": "near \"change\": syntax error",
     "output_type": "error",
     "traceback": [
      "\u001b[0;31m---------------------------------------------------------------------------\u001b[0m",
      "\u001b[0;31mOperationalError\u001b[0m                          Traceback (most recent call last)",
      "\u001b[0;32m<ipython-input-54-92a67893ad0a>\u001b[0m in \u001b[0;36m<module>\u001b[0;34m()\u001b[0m\n\u001b[1;32m      1\u001b[0m \u001b[0mq\u001b[0m\u001b[0;34m=\u001b[0m\u001b[0;34m\"alter table customer change name cust_name\"\u001b[0m\u001b[0;34m\u001b[0m\u001b[0m\n\u001b[0;32m----> 2\u001b[0;31m \u001b[0mcur\u001b[0m\u001b[0;34m.\u001b[0m\u001b[0mexecute\u001b[0m\u001b[0;34m(\u001b[0m\u001b[0mq\u001b[0m\u001b[0;34m)\u001b[0m\u001b[0;34m\u001b[0m\u001b[0m\n\u001b[0m",
      "\u001b[0;31mOperationalError\u001b[0m: near \"change\": syntax error"
     ]
    }
   ],
   "source": [
    "q=\"alter table customer change name cust_name\"\n",
    "cur.execute(q)"
   ]
  },
  {
   "cell_type": "code",
   "execution_count": null,
   "metadata": {
    "collapsed": true
   },
   "outputs": [],
   "source": [
    "# register customer\n",
    "# usermanagement\n",
    "# register the user\n",
    "# login to app\n",
    "# show some menu:\n",
    "    create custoemr\n",
    "    update a customer\n",
    "    delete a custoemr\n",
    "    reports\n",
    "        "
   ]
  },
  {
   "cell_type": "code",
   "execution_count": 1,
   "metadata": {
    "collapsed": true
   },
   "outputs": [],
   "source": [
    "import psycopg2\n",
    "con= psycopg2.connect?"
   ]
  },
  {
   "cell_type": "code",
   "execution_count": 3,
   "metadata": {},
   "outputs": [],
   "source": [
    "import psycopg2\n",
    "con= psycopg2.connect(database=\"batch43\",host=\"localhost\",user=\"postgres\",password=\"root\")\n",
    "cur = con.cursor()\n",
    "create_query = \"create table customer(id int, name varchar(250))\"\n",
    "cur.execute(create_query)\n",
    "for i in range(100):\n",
    "    q=\"insert into customer values(%s, 'name:%s')\"%(i,i)\n",
    "    cur.execute(q)\n",
    "con.commit()"
   ]
  },
  {
   "cell_type": "code",
   "execution_count": null,
   "metadata": {
    "collapsed": true
   },
   "outputs": [],
   "source": []
  }
 ],
 "metadata": {
  "kernelspec": {
   "display_name": "Python 2",
   "language": "python",
   "name": "python2"
  },
  "language_info": {
   "codemirror_mode": {
    "name": "ipython",
    "version": 2
   },
   "file_extension": ".py",
   "mimetype": "text/x-python",
   "name": "python",
   "nbconvert_exporter": "python",
   "pygments_lexer": "ipython2",
   "version": "2.7.14"
  }
 },
 "nbformat": 4,
 "nbformat_minor": 2
}
