{
 "cells": [
  {
   "cell_type": "code",
   "execution_count": 1,
   "metadata": {},
   "outputs": [
    {
     "name": "stdout",
     "output_type": "stream",
     "text": [
      "[{'age': 24, 'name': 'anil', 'sal': 345678}, {'age': 43, 'name': 'anil', 'sal': 345678}, {'age': 23, 'name': 'danush', 'sal': 2345678}, {'age': 35, 'name': 'prashanth', 'sal': 345678}, {'age': 43, 'name': 'pavan', 'sal': 234567}, {'age': 51, 'name': 'sai', 'sal': 234567}, {'age': 23, 'name': 'anil', 'sal': 2345678}, {'age': 23, 'name': 'anil', 'sal': 234567}, {'age': 23, 'name': 'suneetha', 'sal': 345678}, {'age': 26, 'name': 'murali', 'sal': 2436784}, {'age': 43, 'name': 'anil', 'sal': 2436784}, {'age': 36, 'name': 'anil', 'sal': 2436784}, {'age': 23, 'name': 'prashanth', 'sal': 2436784}, {'age': 36, 'name': 'prashanth', 'sal': 134567}, {'age': 24, 'name': 'suneetha', 'sal': 234567}, {'age': 23, 'name': 'kiran', 'sal': 2436784}, {'age': 35, 'name': 'kiran', 'sal': 345678}, {'age': 26, 'name': 'sai', 'sal': 234567}, {'age': 43, 'name': 'danush', 'sal': 234567}, {'age': 23, 'name': 'sai', 'sal': 123456}, {'age': 24, 'name': 'jay', 'sal': 234567}, {'age': 43, 'name': 'danush', 'sal': 234567}, {'age': 43, 'name': 'jay', 'sal': 345678}, {'age': 26, 'name': 'prashanth', 'sal': 123456}, {'age': 51, 'name': 'danush', 'sal': 345678}, {'age': 51, 'name': 'jay', 'sal': 345678}, {'age': 23, 'name': 'sai', 'sal': 134567}, {'age': 51, 'name': 'sai', 'sal': 2345678}, {'age': 36, 'name': 'pavan', 'sal': 345678}, {'age': 24, 'name': 'sai', 'sal': 234567}, {'age': 35, 'name': 'suneetha', 'sal': 345678}, {'age': 26, 'name': 'murali', 'sal': 345678}, {'age': 35, 'name': 'pavan', 'sal': 123456}, {'age': 35, 'name': 'pavan', 'sal': 2345678}, {'age': 43, 'name': 'anil', 'sal': 345678}, {'age': 36, 'name': 'pavan', 'sal': 345678}, {'age': 43, 'name': 'sai', 'sal': 123456}, {'age': 51, 'name': 'suneetha', 'sal': 2436784}, {'age': 36, 'name': 'anil', 'sal': 234567}, {'age': 43, 'name': 'murali', 'sal': 234567}, {'age': 23, 'name': 'kiran', 'sal': 2345678}, {'age': 51, 'name': 'danush', 'sal': 234567}, {'age': 43, 'name': 'murali', 'sal': 134567}, {'age': 23, 'name': 'sai', 'sal': 345678}, {'age': 43, 'name': 'jay', 'sal': 345678}, {'age': 23, 'name': 'sai', 'sal': 234567}, {'age': 24, 'name': 'pavan', 'sal': 2436784}, {'age': 26, 'name': 'danush', 'sal': 2436784}, {'age': 51, 'name': 'danush', 'sal': 2345678}, {'age': 26, 'name': 'murali', 'sal': 123456}, {'age': 35, 'name': 'suneetha', 'sal': 123456}, {'age': 43, 'name': 'suneetha', 'sal': 345678}, {'age': 51, 'name': 'anil', 'sal': 234567}, {'age': 35, 'name': 'suneetha', 'sal': 2436784}, {'age': 24, 'name': 'sai', 'sal': 2345678}, {'age': 26, 'name': 'danush', 'sal': 2436784}, {'age': 51, 'name': 'sai', 'sal': 2436784}, {'age': 35, 'name': 'kiran', 'sal': 134567}, {'age': 23, 'name': 'suneetha', 'sal': 234567}, {'age': 43, 'name': 'suneetha', 'sal': 2345678}, {'age': 36, 'name': 'danush', 'sal': 2345678}, {'age': 23, 'name': 'murali', 'sal': 234567}, {'age': 36, 'name': 'kiran', 'sal': 123456}, {'age': 24, 'name': 'murali', 'sal': 123456}, {'age': 26, 'name': 'danush', 'sal': 123456}, {'age': 36, 'name': 'pavan', 'sal': 2436784}, {'age': 23, 'name': 'jay', 'sal': 134567}, {'age': 51, 'name': 'sai', 'sal': 2345678}, {'age': 51, 'name': 'anil', 'sal': 345678}, {'age': 43, 'name': 'sai', 'sal': 2345678}, {'age': 51, 'name': 'danush', 'sal': 123456}, {'age': 24, 'name': 'kiran', 'sal': 134567}, {'age': 43, 'name': 'jay', 'sal': 234567}, {'age': 24, 'name': 'anil', 'sal': 123456}, {'age': 35, 'name': 'kiran', 'sal': 234567}, {'age': 26, 'name': 'pavan', 'sal': 2436784}, {'age': 35, 'name': 'prashanth', 'sal': 345678}, {'age': 23, 'name': 'murali', 'sal': 2436784}, {'age': 36, 'name': 'prashanth', 'sal': 2345678}, {'age': 24, 'name': 'suneetha', 'sal': 2436784}, {'age': 51, 'name': 'pavan', 'sal': 2345678}, {'age': 43, 'name': 'suneetha', 'sal': 123456}, {'age': 35, 'name': 'sai', 'sal': 123456}, {'age': 36, 'name': 'anil', 'sal': 2345678}, {'age': 24, 'name': 'murali', 'sal': 2345678}, {'age': 43, 'name': 'pavan', 'sal': 234567}, {'age': 24, 'name': 'suneetha', 'sal': 2436784}, {'age': 36, 'name': 'kiran', 'sal': 2345678}, {'age': 51, 'name': 'suneetha', 'sal': 345678}, {'age': 51, 'name': 'suneetha', 'sal': 134567}, {'age': 43, 'name': 'jay', 'sal': 123456}, {'age': 51, 'name': 'murali', 'sal': 234567}, {'age': 36, 'name': 'pavan', 'sal': 234567}, {'age': 51, 'name': 'sai', 'sal': 234567}, {'age': 36, 'name': 'pavan', 'sal': 123456}, {'age': 51, 'name': 'prashanth', 'sal': 345678}, {'age': 43, 'name': 'kiran', 'sal': 345678}, {'age': 23, 'name': 'prashanth', 'sal': 2345678}, {'age': 43, 'name': 'jay', 'sal': 345678}, {'age': 43, 'name': 'prashanth', 'sal': 234567}]\n"
     ]
    }
   ],
   "source": [
    "import random\n",
    "names=[\"anil\",\"jay\",\"sai\",\"danush\",\"kiran\",\"pavan\",\"murali\",\"prashanth\",\"suneetha\"]\n",
    "sals = [123456,234567,345678,134567,2436784,2345678]\n",
    "ages=[23,24,35,26,43,51,36]\n",
    "data=[]\n",
    "for i in range(100):\n",
    "    data.append({\"name\":random.choice(names),\n",
    "             \"age\": random.choice(ages),\n",
    "             \"sal\": random.choice(sals)})\n",
    "print data\n"
   ]
  },
  {
   "cell_type": "code",
   "execution_count": 2,
   "metadata": {},
   "outputs": [
    {
     "name": "stdout",
     "output_type": "stream",
     "text": [
      "    age       name      sal\n",
      "0    36  prashanth  2436784\n",
      "1    35  prashanth  2345678\n",
      "2    36     murali   234567\n",
      "3    36  prashanth   134567\n",
      "4    51   suneetha   345678\n",
      "5    23       anil  2436784\n",
      "6    36        jay  2345678\n",
      "7    43        jay   345678\n",
      "8    24   suneetha   123456\n",
      "9    36   suneetha   345678\n",
      "10   43     danush   123456\n",
      "11   43   suneetha   123456\n",
      "12   43        sai   123456\n",
      "13   26      kiran   134567\n",
      "14   26        jay   234567\n",
      "15   23   suneetha   234567\n",
      "16   23      pavan  2436784\n",
      "17   23      kiran   234567\n",
      "18   35      kiran  2436784\n",
      "19   43     murali   134567\n",
      "20   23        sai   134567\n",
      "21   26      kiran   234567\n",
      "22   26       anil   134567\n",
      "23   35     murali  2436784\n",
      "24   43       anil   123456\n",
      "25   43   suneetha  2345678\n",
      "26   23        jay   234567\n",
      "27   26        sai  2436784\n",
      "28   23      pavan   123456\n",
      "29   26       anil   134567\n",
      "..  ...        ...      ...\n",
      "70   43   suneetha  2436784\n",
      "71   35     murali  2436784\n",
      "72   24  prashanth  2436784\n",
      "73   51  prashanth  2436784\n",
      "74   35  prashanth  2436784\n",
      "75   51     danush   134567\n",
      "76   51     murali   134567\n",
      "77   23     murali  2436784\n",
      "78   51        sai  2345678\n",
      "79   26     murali   134567\n",
      "80   43     danush  2345678\n",
      "81   51  prashanth  2436784\n",
      "82   51     danush   234567\n",
      "83   24     murali   123456\n",
      "84   23       anil   345678\n",
      "85   23        sai   234567\n",
      "86   24     murali   234567\n",
      "87   23      kiran  2436784\n",
      "88   35     murali  2345678\n",
      "89   51     danush   123456\n",
      "90   36        jay   123456\n",
      "91   51      kiran  2436784\n",
      "92   23      pavan   134567\n",
      "93   26        jay   345678\n",
      "94   24       anil   345678\n",
      "95   36        sai   345678\n",
      "96   36      pavan   123456\n",
      "97   51     murali  2345678\n",
      "98   36      pavan   234567\n",
      "99   24      kiran   134567\n",
      "\n",
      "[100 rows x 3 columns]\n"
     ]
    }
   ],
   "source": [
    "import random\n",
    "names=[\"anil\",\"jay\",\"sai\",\"danush\",\"kiran\",\"pavan\",\"murali\",\"prashanth\",\"suneetha\"]\n",
    "sals = [123456,234567,345678,134567,2436784,2345678]\n",
    "ages=[23,24,35,26,43,51,36]\n",
    "data=[]\n",
    "for i in range(100):\n",
    "    data.append({\"name\":random.choice(names),\n",
    "             \"age\": random.choice(ages),\n",
    "             \"sal\": random.choice(sals)})\n",
    "import pandas as pd\n",
    "df = pd.DataFrame(data)\n",
    "print df"
   ]
  },
  {
   "cell_type": "code",
   "execution_count": 3,
   "metadata": {},
   "outputs": [
    {
     "name": "stdout",
     "output_type": "stream",
     "text": [
      "<class 'pandas.core.frame.DataFrame'>\n"
     ]
    }
   ],
   "source": [
    "print type(df)"
   ]
  },
  {
   "cell_type": "code",
   "execution_count": 4,
   "metadata": {
    "collapsed": true
   },
   "outputs": [],
   "source": [
    "import matplotlib.pyplot as plt"
   ]
  },
  {
   "cell_type": "code",
   "execution_count": 5,
   "metadata": {},
   "outputs": [
    {
     "data": {
      "image/png": "[encoded data removed]",
      "text/plain": [
       "<matplotlib.figure.Figure at 0x7fa1c05d1090>"
      ]
     },
     "metadata": {},
     "output_type": "display_data"
    }
   ],
   "source": [
    "df.plot()\n",
    "plt.show()"
   ]
  },
  {
   "cell_type": "code",
   "execution_count": 6,
   "metadata": {},
   "outputs": [
    {
     "data": {
      "image/png": "[encoded data removed]",
      "text/plain": [
       "<matplotlib.figure.Figure at 0x7fa1c062af90>"
      ]
     },
     "metadata": {},
     "output_type": "display_data"
    }
   ],
   "source": [
    "df.plot(kind=\"bar\")\n",
    "plt.show()"
   ]
  },
  {
   "cell_type": "code",
   "execution_count": 7,
   "metadata": {
    "collapsed": true
   },
   "outputs": [],
   "source": [
    "df_sal_sort = df.sort_values(by=\"sal\")"
   ]
  },
  {
   "cell_type": "code",
   "execution_count": 8,
   "metadata": {},
   "outputs": [
    {
     "data": {
      "text/html": [
       "<div>\n",
       "<style>\n",
       "    .dataframe thead tr:only-child th {\n",
       "        text-align: right;\n",
       "    }\n",
       "\n",
       "    .dataframe thead th {\n",
       "        text-align: left;\n",
       "    }\n",
       "\n",
       "    .dataframe tbody tr th {\n",
       "        vertical-align: top;\n",
       "    }\n",
       "</style>\n",
       "<table border=\"1\" class=\"dataframe\">\n",
       "  <thead>\n",
       "    <tr style=\"text-align: right;\">\n",
       "      <th></th>\n",
       "      <th>age</th>\n",
       "      <th>name</th>\n",
       "      <th>sal</th>\n",
       "    </tr>\n",
       "  </thead>\n",
       "  <tbody>\n",
       "    <tr>\n",
       "      <th>10</th>\n",
       "      <td>43</td>\n",
       "      <td>danush</td>\n",
       "      <td>123456</td>\n",
       "    </tr>\n",
       "    <tr>\n",
       "      <th>24</th>\n",
       "      <td>43</td>\n",
       "      <td>anil</td>\n",
       "      <td>123456</td>\n",
       "    </tr>\n",
       "    <tr>\n",
       "      <th>61</th>\n",
       "      <td>36</td>\n",
       "      <td>kiran</td>\n",
       "      <td>123456</td>\n",
       "    </tr>\n",
       "    <tr>\n",
       "      <th>28</th>\n",
       "      <td>23</td>\n",
       "      <td>pavan</td>\n",
       "      <td>123456</td>\n",
       "    </tr>\n",
       "    <tr>\n",
       "      <th>58</th>\n",
       "      <td>36</td>\n",
       "      <td>pavan</td>\n",
       "      <td>123456</td>\n",
       "    </tr>\n",
       "    <tr>\n",
       "      <th>12</th>\n",
       "      <td>43</td>\n",
       "      <td>sai</td>\n",
       "      <td>123456</td>\n",
       "    </tr>\n",
       "    <tr>\n",
       "      <th>11</th>\n",
       "      <td>43</td>\n",
       "      <td>suneetha</td>\n",
       "      <td>123456</td>\n",
       "    </tr>\n",
       "    <tr>\n",
       "      <th>64</th>\n",
       "      <td>36</td>\n",
       "      <td>pavan</td>\n",
       "      <td>123456</td>\n",
       "    </tr>\n",
       "    <tr>\n",
       "      <th>83</th>\n",
       "      <td>24</td>\n",
       "      <td>murali</td>\n",
       "      <td>123456</td>\n",
       "    </tr>\n",
       "    <tr>\n",
       "      <th>65</th>\n",
       "      <td>36</td>\n",
       "      <td>jay</td>\n",
       "      <td>123456</td>\n",
       "    </tr>\n",
       "    <tr>\n",
       "      <th>56</th>\n",
       "      <td>43</td>\n",
       "      <td>suneetha</td>\n",
       "      <td>123456</td>\n",
       "    </tr>\n",
       "    <tr>\n",
       "      <th>89</th>\n",
       "      <td>51</td>\n",
       "      <td>danush</td>\n",
       "      <td>123456</td>\n",
       "    </tr>\n",
       "    <tr>\n",
       "      <th>90</th>\n",
       "      <td>36</td>\n",
       "      <td>jay</td>\n",
       "      <td>123456</td>\n",
       "    </tr>\n",
       "    <tr>\n",
       "      <th>55</th>\n",
       "      <td>26</td>\n",
       "      <td>murali</td>\n",
       "      <td>123456</td>\n",
       "    </tr>\n",
       "    <tr>\n",
       "      <th>96</th>\n",
       "      <td>36</td>\n",
       "      <td>pavan</td>\n",
       "      <td>123456</td>\n",
       "    </tr>\n",
       "    <tr>\n",
       "      <th>8</th>\n",
       "      <td>24</td>\n",
       "      <td>suneetha</td>\n",
       "      <td>123456</td>\n",
       "    </tr>\n",
       "    <tr>\n",
       "      <th>57</th>\n",
       "      <td>36</td>\n",
       "      <td>murali</td>\n",
       "      <td>134567</td>\n",
       "    </tr>\n",
       "    <tr>\n",
       "      <th>29</th>\n",
       "      <td>26</td>\n",
       "      <td>anil</td>\n",
       "      <td>134567</td>\n",
       "    </tr>\n",
       "    <tr>\n",
       "      <th>60</th>\n",
       "      <td>43</td>\n",
       "      <td>suneetha</td>\n",
       "      <td>134567</td>\n",
       "    </tr>\n",
       "    <tr>\n",
       "      <th>44</th>\n",
       "      <td>23</td>\n",
       "      <td>pavan</td>\n",
       "      <td>134567</td>\n",
       "    </tr>\n",
       "    <tr>\n",
       "      <th>62</th>\n",
       "      <td>26</td>\n",
       "      <td>murali</td>\n",
       "      <td>134567</td>\n",
       "    </tr>\n",
       "    <tr>\n",
       "      <th>99</th>\n",
       "      <td>24</td>\n",
       "      <td>kiran</td>\n",
       "      <td>134567</td>\n",
       "    </tr>\n",
       "    <tr>\n",
       "      <th>19</th>\n",
       "      <td>43</td>\n",
       "      <td>murali</td>\n",
       "      <td>134567</td>\n",
       "    </tr>\n",
       "    <tr>\n",
       "      <th>20</th>\n",
       "      <td>23</td>\n",
       "      <td>sai</td>\n",
       "      <td>134567</td>\n",
       "    </tr>\n",
       "    <tr>\n",
       "      <th>42</th>\n",
       "      <td>35</td>\n",
       "      <td>suneetha</td>\n",
       "      <td>134567</td>\n",
       "    </tr>\n",
       "    <tr>\n",
       "      <th>66</th>\n",
       "      <td>23</td>\n",
       "      <td>sai</td>\n",
       "      <td>134567</td>\n",
       "    </tr>\n",
       "    <tr>\n",
       "      <th>75</th>\n",
       "      <td>51</td>\n",
       "      <td>danush</td>\n",
       "      <td>134567</td>\n",
       "    </tr>\n",
       "    <tr>\n",
       "      <th>76</th>\n",
       "      <td>51</td>\n",
       "      <td>murali</td>\n",
       "      <td>134567</td>\n",
       "    </tr>\n",
       "    <tr>\n",
       "      <th>79</th>\n",
       "      <td>26</td>\n",
       "      <td>murali</td>\n",
       "      <td>134567</td>\n",
       "    </tr>\n",
       "    <tr>\n",
       "      <th>13</th>\n",
       "      <td>26</td>\n",
       "      <td>kiran</td>\n",
       "      <td>134567</td>\n",
       "    </tr>\n",
       "    <tr>\n",
       "      <th>...</th>\n",
       "      <td>...</td>\n",
       "      <td>...</td>\n",
       "      <td>...</td>\n",
       "    </tr>\n",
       "    <tr>\n",
       "      <th>78</th>\n",
       "      <td>51</td>\n",
       "      <td>sai</td>\n",
       "      <td>2345678</td>\n",
       "    </tr>\n",
       "    <tr>\n",
       "      <th>63</th>\n",
       "      <td>26</td>\n",
       "      <td>pavan</td>\n",
       "      <td>2345678</td>\n",
       "    </tr>\n",
       "    <tr>\n",
       "      <th>88</th>\n",
       "      <td>35</td>\n",
       "      <td>murali</td>\n",
       "      <td>2345678</td>\n",
       "    </tr>\n",
       "    <tr>\n",
       "      <th>80</th>\n",
       "      <td>43</td>\n",
       "      <td>danush</td>\n",
       "      <td>2345678</td>\n",
       "    </tr>\n",
       "    <tr>\n",
       "      <th>6</th>\n",
       "      <td>36</td>\n",
       "      <td>jay</td>\n",
       "      <td>2345678</td>\n",
       "    </tr>\n",
       "    <tr>\n",
       "      <th>25</th>\n",
       "      <td>43</td>\n",
       "      <td>suneetha</td>\n",
       "      <td>2345678</td>\n",
       "    </tr>\n",
       "    <tr>\n",
       "      <th>52</th>\n",
       "      <td>24</td>\n",
       "      <td>suneetha</td>\n",
       "      <td>2345678</td>\n",
       "    </tr>\n",
       "    <tr>\n",
       "      <th>1</th>\n",
       "      <td>35</td>\n",
       "      <td>prashanth</td>\n",
       "      <td>2345678</td>\n",
       "    </tr>\n",
       "    <tr>\n",
       "      <th>35</th>\n",
       "      <td>51</td>\n",
       "      <td>pavan</td>\n",
       "      <td>2345678</td>\n",
       "    </tr>\n",
       "    <tr>\n",
       "      <th>97</th>\n",
       "      <td>51</td>\n",
       "      <td>murali</td>\n",
       "      <td>2345678</td>\n",
       "    </tr>\n",
       "    <tr>\n",
       "      <th>5</th>\n",
       "      <td>23</td>\n",
       "      <td>anil</td>\n",
       "      <td>2436784</td>\n",
       "    </tr>\n",
       "    <tr>\n",
       "      <th>87</th>\n",
       "      <td>23</td>\n",
       "      <td>kiran</td>\n",
       "      <td>2436784</td>\n",
       "    </tr>\n",
       "    <tr>\n",
       "      <th>91</th>\n",
       "      <td>51</td>\n",
       "      <td>kiran</td>\n",
       "      <td>2436784</td>\n",
       "    </tr>\n",
       "    <tr>\n",
       "      <th>69</th>\n",
       "      <td>24</td>\n",
       "      <td>danush</td>\n",
       "      <td>2436784</td>\n",
       "    </tr>\n",
       "    <tr>\n",
       "      <th>77</th>\n",
       "      <td>23</td>\n",
       "      <td>murali</td>\n",
       "      <td>2436784</td>\n",
       "    </tr>\n",
       "    <tr>\n",
       "      <th>16</th>\n",
       "      <td>23</td>\n",
       "      <td>pavan</td>\n",
       "      <td>2436784</td>\n",
       "    </tr>\n",
       "    <tr>\n",
       "      <th>74</th>\n",
       "      <td>35</td>\n",
       "      <td>prashanth</td>\n",
       "      <td>2436784</td>\n",
       "    </tr>\n",
       "    <tr>\n",
       "      <th>73</th>\n",
       "      <td>51</td>\n",
       "      <td>prashanth</td>\n",
       "      <td>2436784</td>\n",
       "    </tr>\n",
       "    <tr>\n",
       "      <th>72</th>\n",
       "      <td>24</td>\n",
       "      <td>prashanth</td>\n",
       "      <td>2436784</td>\n",
       "    </tr>\n",
       "    <tr>\n",
       "      <th>71</th>\n",
       "      <td>35</td>\n",
       "      <td>murali</td>\n",
       "      <td>2436784</td>\n",
       "    </tr>\n",
       "    <tr>\n",
       "      <th>70</th>\n",
       "      <td>43</td>\n",
       "      <td>suneetha</td>\n",
       "      <td>2436784</td>\n",
       "    </tr>\n",
       "    <tr>\n",
       "      <th>18</th>\n",
       "      <td>35</td>\n",
       "      <td>kiran</td>\n",
       "      <td>2436784</td>\n",
       "    </tr>\n",
       "    <tr>\n",
       "      <th>23</th>\n",
       "      <td>35</td>\n",
       "      <td>murali</td>\n",
       "      <td>2436784</td>\n",
       "    </tr>\n",
       "    <tr>\n",
       "      <th>27</th>\n",
       "      <td>26</td>\n",
       "      <td>sai</td>\n",
       "      <td>2436784</td>\n",
       "    </tr>\n",
       "    <tr>\n",
       "      <th>59</th>\n",
       "      <td>43</td>\n",
       "      <td>murali</td>\n",
       "      <td>2436784</td>\n",
       "    </tr>\n",
       "    <tr>\n",
       "      <th>31</th>\n",
       "      <td>51</td>\n",
       "      <td>anil</td>\n",
       "      <td>2436784</td>\n",
       "    </tr>\n",
       "    <tr>\n",
       "      <th>51</th>\n",
       "      <td>26</td>\n",
       "      <td>danush</td>\n",
       "      <td>2436784</td>\n",
       "    </tr>\n",
       "    <tr>\n",
       "      <th>41</th>\n",
       "      <td>26</td>\n",
       "      <td>danush</td>\n",
       "      <td>2436784</td>\n",
       "    </tr>\n",
       "    <tr>\n",
       "      <th>81</th>\n",
       "      <td>51</td>\n",
       "      <td>prashanth</td>\n",
       "      <td>2436784</td>\n",
       "    </tr>\n",
       "    <tr>\n",
       "      <th>0</th>\n",
       "      <td>36</td>\n",
       "      <td>prashanth</td>\n",
       "      <td>2436784</td>\n",
       "    </tr>\n",
       "  </tbody>\n",
       "</table>\n",
       "<p>100 rows × 3 columns</p>\n",
       "</div>"
      ],
      "text/plain": [
       "    age       name      sal\n",
       "10   43     danush   123456\n",
       "24   43       anil   123456\n",
       "61   36      kiran   123456\n",
       "28   23      pavan   123456\n",
       "58   36      pavan   123456\n",
       "12   43        sai   123456\n",
       "11   43   suneetha   123456\n",
       "64   36      pavan   123456\n",
       "83   24     murali   123456\n",
       "65   36        jay   123456\n",
       "56   43   suneetha   123456\n",
       "89   51     danush   123456\n",
       "90   36        jay   123456\n",
       "55   26     murali   123456\n",
       "96   36      pavan   123456\n",
       "8    24   suneetha   123456\n",
       "57   36     murali   134567\n",
       "29   26       anil   134567\n",
       "60   43   suneetha   134567\n",
       "44   23      pavan   134567\n",
       "62   26     murali   134567\n",
       "99   24      kiran   134567\n",
       "19   43     murali   134567\n",
       "20   23        sai   134567\n",
       "42   35   suneetha   134567\n",
       "66   23        sai   134567\n",
       "75   51     danush   134567\n",
       "76   51     murali   134567\n",
       "79   26     murali   134567\n",
       "13   26      kiran   134567\n",
       "..  ...        ...      ...\n",
       "78   51        sai  2345678\n",
       "63   26      pavan  2345678\n",
       "88   35     murali  2345678\n",
       "80   43     danush  2345678\n",
       "6    36        jay  2345678\n",
       "25   43   suneetha  2345678\n",
       "52   24   suneetha  2345678\n",
       "1    35  prashanth  2345678\n",
       "35   51      pavan  2345678\n",
       "97   51     murali  2345678\n",
       "5    23       anil  2436784\n",
       "87   23      kiran  2436784\n",
       "91   51      kiran  2436784\n",
       "69   24     danush  2436784\n",
       "77   23     murali  2436784\n",
       "16   23      pavan  2436784\n",
       "74   35  prashanth  2436784\n",
       "73   51  prashanth  2436784\n",
       "72   24  prashanth  2436784\n",
       "71   35     murali  2436784\n",
       "70   43   suneetha  2436784\n",
       "18   35      kiran  2436784\n",
       "23   35     murali  2436784\n",
       "27   26        sai  2436784\n",
       "59   43     murali  2436784\n",
       "31   51       anil  2436784\n",
       "51   26     danush  2436784\n",
       "41   26     danush  2436784\n",
       "81   51  prashanth  2436784\n",
       "0    36  prashanth  2436784\n",
       "\n",
       "[100 rows x 3 columns]"
      ]
     },
     "execution_count": 8,
     "metadata": {},
     "output_type": "execute_result"
    }
   ],
   "source": [
    "df_sal_sort"
   ]
  },
  {
   "cell_type": "code",
   "execution_count": 9,
   "metadata": {},
   "outputs": [
    {
     "data": {
      "text/html": [
       "<div>\n",
       "<style>\n",
       "    .dataframe thead tr:only-child th {\n",
       "        text-align: right;\n",
       "    }\n",
       "\n",
       "    .dataframe thead th {\n",
       "        text-align: left;\n",
       "    }\n",
       "\n",
       "    .dataframe tbody tr th {\n",
       "        vertical-align: top;\n",
       "    }\n",
       "</style>\n",
       "<table border=\"1\" class=\"dataframe\">\n",
       "  <thead>\n",
       "    <tr style=\"text-align: right;\">\n",
       "      <th></th>\n",
       "      <th>age</th>\n",
       "      <th>name</th>\n",
       "      <th>sal</th>\n",
       "    </tr>\n",
       "  </thead>\n",
       "  <tbody>\n",
       "    <tr>\n",
       "      <th>70</th>\n",
       "      <td>43</td>\n",
       "      <td>suneetha</td>\n",
       "      <td>2436784</td>\n",
       "    </tr>\n",
       "    <tr>\n",
       "      <th>18</th>\n",
       "      <td>35</td>\n",
       "      <td>kiran</td>\n",
       "      <td>2436784</td>\n",
       "    </tr>\n",
       "    <tr>\n",
       "      <th>23</th>\n",
       "      <td>35</td>\n",
       "      <td>murali</td>\n",
       "      <td>2436784</td>\n",
       "    </tr>\n",
       "    <tr>\n",
       "      <th>27</th>\n",
       "      <td>26</td>\n",
       "      <td>sai</td>\n",
       "      <td>2436784</td>\n",
       "    </tr>\n",
       "    <tr>\n",
       "      <th>59</th>\n",
       "      <td>43</td>\n",
       "      <td>murali</td>\n",
       "      <td>2436784</td>\n",
       "    </tr>\n",
       "    <tr>\n",
       "      <th>31</th>\n",
       "      <td>51</td>\n",
       "      <td>anil</td>\n",
       "      <td>2436784</td>\n",
       "    </tr>\n",
       "    <tr>\n",
       "      <th>51</th>\n",
       "      <td>26</td>\n",
       "      <td>danush</td>\n",
       "      <td>2436784</td>\n",
       "    </tr>\n",
       "    <tr>\n",
       "      <th>41</th>\n",
       "      <td>26</td>\n",
       "      <td>danush</td>\n",
       "      <td>2436784</td>\n",
       "    </tr>\n",
       "    <tr>\n",
       "      <th>81</th>\n",
       "      <td>51</td>\n",
       "      <td>prashanth</td>\n",
       "      <td>2436784</td>\n",
       "    </tr>\n",
       "    <tr>\n",
       "      <th>0</th>\n",
       "      <td>36</td>\n",
       "      <td>prashanth</td>\n",
       "      <td>2436784</td>\n",
       "    </tr>\n",
       "  </tbody>\n",
       "</table>\n",
       "</div>"
      ],
      "text/plain": [
       "    age       name      sal\n",
       "70   43   suneetha  2436784\n",
       "18   35      kiran  2436784\n",
       "23   35     murali  2436784\n",
       "27   26        sai  2436784\n",
       "59   43     murali  2436784\n",
       "31   51       anil  2436784\n",
       "51   26     danush  2436784\n",
       "41   26     danush  2436784\n",
       "81   51  prashanth  2436784\n",
       "0    36  prashanth  2436784"
      ]
     },
     "execution_count": 9,
     "metadata": {},
     "output_type": "execute_result"
    }
   ],
   "source": [
    "df_sal_sort.tail(10)"
   ]
  },
  {
   "cell_type": "code",
   "execution_count": 10,
   "metadata": {},
   "outputs": [
    {
     "data": {
      "image/png": "[encoded data removed]",
      "text/plain": [
       "<matplotlib.figure.Figure at 0x7fa196cc5f10>"
      ]
     },
     "metadata": {},
     "output_type": "display_data"
    }
   ],
   "source": [
    "df.sort_values(by=\"sal\").tail(10).plot(kind=\"bar\",x=\"name\",y=\"sal\")\n",
    "plt.show()"
   ]
  },
  {
   "cell_type": "code",
   "execution_count": 11,
   "metadata": {},
   "outputs": [
    {
     "data": {
      "text/html": [
       "<div>\n",
       "<style>\n",
       "    .dataframe thead tr:only-child th {\n",
       "        text-align: right;\n",
       "    }\n",
       "\n",
       "    .dataframe thead th {\n",
       "        text-align: left;\n",
       "    }\n",
       "\n",
       "    .dataframe tbody tr th {\n",
       "        vertical-align: top;\n",
       "    }\n",
       "</style>\n",
       "<table border=\"1\" class=\"dataframe\">\n",
       "  <thead>\n",
       "    <tr style=\"text-align: right;\">\n",
       "      <th></th>\n",
       "      <th>age</th>\n",
       "      <th>name</th>\n",
       "      <th>sal</th>\n",
       "    </tr>\n",
       "  </thead>\n",
       "  <tbody>\n",
       "    <tr>\n",
       "      <th>13</th>\n",
       "      <td>26</td>\n",
       "      <td>kiran</td>\n",
       "      <td>134567</td>\n",
       "    </tr>\n",
       "    <tr>\n",
       "      <th>14</th>\n",
       "      <td>26</td>\n",
       "      <td>jay</td>\n",
       "      <td>234567</td>\n",
       "    </tr>\n",
       "    <tr>\n",
       "      <th>21</th>\n",
       "      <td>26</td>\n",
       "      <td>kiran</td>\n",
       "      <td>234567</td>\n",
       "    </tr>\n",
       "    <tr>\n",
       "      <th>22</th>\n",
       "      <td>26</td>\n",
       "      <td>anil</td>\n",
       "      <td>134567</td>\n",
       "    </tr>\n",
       "    <tr>\n",
       "      <th>27</th>\n",
       "      <td>26</td>\n",
       "      <td>sai</td>\n",
       "      <td>2436784</td>\n",
       "    </tr>\n",
       "    <tr>\n",
       "      <th>29</th>\n",
       "      <td>26</td>\n",
       "      <td>anil</td>\n",
       "      <td>134567</td>\n",
       "    </tr>\n",
       "    <tr>\n",
       "      <th>41</th>\n",
       "      <td>26</td>\n",
       "      <td>danush</td>\n",
       "      <td>2436784</td>\n",
       "    </tr>\n",
       "    <tr>\n",
       "      <th>43</th>\n",
       "      <td>26</td>\n",
       "      <td>sai</td>\n",
       "      <td>345678</td>\n",
       "    </tr>\n",
       "    <tr>\n",
       "      <th>51</th>\n",
       "      <td>26</td>\n",
       "      <td>danush</td>\n",
       "      <td>2436784</td>\n",
       "    </tr>\n",
       "    <tr>\n",
       "      <th>55</th>\n",
       "      <td>26</td>\n",
       "      <td>murali</td>\n",
       "      <td>123456</td>\n",
       "    </tr>\n",
       "    <tr>\n",
       "      <th>62</th>\n",
       "      <td>26</td>\n",
       "      <td>murali</td>\n",
       "      <td>134567</td>\n",
       "    </tr>\n",
       "    <tr>\n",
       "      <th>63</th>\n",
       "      <td>26</td>\n",
       "      <td>pavan</td>\n",
       "      <td>2345678</td>\n",
       "    </tr>\n",
       "    <tr>\n",
       "      <th>67</th>\n",
       "      <td>26</td>\n",
       "      <td>kiran</td>\n",
       "      <td>345678</td>\n",
       "    </tr>\n",
       "    <tr>\n",
       "      <th>79</th>\n",
       "      <td>26</td>\n",
       "      <td>murali</td>\n",
       "      <td>134567</td>\n",
       "    </tr>\n",
       "    <tr>\n",
       "      <th>93</th>\n",
       "      <td>26</td>\n",
       "      <td>jay</td>\n",
       "      <td>345678</td>\n",
       "    </tr>\n",
       "  </tbody>\n",
       "</table>\n",
       "</div>"
      ],
      "text/plain": [
       "    age    name      sal\n",
       "13   26   kiran   134567\n",
       "14   26     jay   234567\n",
       "21   26   kiran   234567\n",
       "22   26    anil   134567\n",
       "27   26     sai  2436784\n",
       "29   26    anil   134567\n",
       "41   26  danush  2436784\n",
       "43   26     sai   345678\n",
       "51   26  danush  2436784\n",
       "55   26  murali   123456\n",
       "62   26  murali   134567\n",
       "63   26   pavan  2345678\n",
       "67   26   kiran   345678\n",
       "79   26  murali   134567\n",
       "93   26     jay   345678"
      ]
     },
     "execution_count": 11,
     "metadata": {},
     "output_type": "execute_result"
    }
   ],
   "source": [
    "df[df['age']==26]"
   ]
  },
  {
   "cell_type": "code",
   "execution_count": 12,
   "metadata": {},
   "outputs": [
    {
     "data": {
      "text/plain": [
       "<matplotlib.axes._subplots.AxesSubplot at 0x7fa1969647d0>"
      ]
     },
     "execution_count": 12,
     "metadata": {},
     "output_type": "execute_result"
    }
   ],
   "source": [
    "df[df['age']==26].plot(kind=\"bar\", x=\"name\",y=\"sal\")"
   ]
  },
  {
   "cell_type": "code",
   "execution_count": 13,
   "metadata": {},
   "outputs": [
    {
     "data": {
      "image/png": "[encoded data removed]",
      "text/plain": [
       "<matplotlib.figure.Figure at 0x7fa196ba9f10>"
      ]
     },
     "metadata": {},
     "output_type": "display_data"
    }
   ],
   "source": [
    "plt.show()"
   ]
  },
  {
   "cell_type": "code",
   "execution_count": 14,
   "metadata": {
    "collapsed": true
   },
   "outputs": [],
   "source": [
    "df_group_age = df.groupby(\"age\").max()"
   ]
  },
  {
   "cell_type": "code",
   "execution_count": 15,
   "metadata": {},
   "outputs": [
    {
     "name": "stdout",
     "output_type": "stream",
     "text": [
      "         name      sal\n",
      "age                   \n",
      "23   suneetha  2436784\n",
      "24   suneetha  2436784\n",
      "26        sai  2436784\n",
      "35   suneetha  2436784\n",
      "36   suneetha  2436784\n",
      "43   suneetha  2436784\n",
      "51   suneetha  2436784\n"
     ]
    }
   ],
   "source": [
    "print df_group_age"
   ]
  },
  {
   "cell_type": "code",
   "execution_count": 16,
   "metadata": {},
   "outputs": [
    {
     "data": {
      "text/html": [
       "<div>\n",
       "<style>\n",
       "    .dataframe thead tr:only-child th {\n",
       "        text-align: right;\n",
       "    }\n",
       "\n",
       "    .dataframe thead th {\n",
       "        text-align: left;\n",
       "    }\n",
       "\n",
       "    .dataframe tbody tr th {\n",
       "        vertical-align: top;\n",
       "    }\n",
       "</style>\n",
       "<table border=\"1\" class=\"dataframe\">\n",
       "  <thead>\n",
       "    <tr style=\"text-align: right;\">\n",
       "      <th></th>\n",
       "      <th>sal</th>\n",
       "    </tr>\n",
       "    <tr>\n",
       "      <th>age</th>\n",
       "      <th></th>\n",
       "    </tr>\n",
       "  </thead>\n",
       "  <tbody>\n",
       "    <tr>\n",
       "      <th>23</th>\n",
       "      <td>12618729</td>\n",
       "    </tr>\n",
       "    <tr>\n",
       "      <th>24</th>\n",
       "      <td>8761215</td>\n",
       "    </tr>\n",
       "    <tr>\n",
       "      <th>26</th>\n",
       "      <td>11958489</td>\n",
       "    </tr>\n",
       "    <tr>\n",
       "      <th>35</th>\n",
       "      <td>18079227</td>\n",
       "    </tr>\n",
       "    <tr>\n",
       "      <th>36</th>\n",
       "      <td>7656523</td>\n",
       "    </tr>\n",
       "    <tr>\n",
       "      <th>43</th>\n",
       "      <td>13622939</td>\n",
       "    </tr>\n",
       "    <tr>\n",
       "      <th>51</th>\n",
       "      <td>18337250</td>\n",
       "    </tr>\n",
       "  </tbody>\n",
       "</table>\n",
       "</div>"
      ],
      "text/plain": [
       "          sal\n",
       "age          \n",
       "23   12618729\n",
       "24    8761215\n",
       "26   11958489\n",
       "35   18079227\n",
       "36    7656523\n",
       "43   13622939\n",
       "51   18337250"
      ]
     },
     "execution_count": 16,
     "metadata": {},
     "output_type": "execute_result"
    }
   ],
   "source": [
    "df.groupby(\"age\").sum()"
   ]
  },
  {
   "cell_type": "code",
   "execution_count": 17,
   "metadata": {},
   "outputs": [
    {
     "data": {
      "text/plain": [
       "<matplotlib.axes._subplots.AxesSubplot at 0x7fa19697d510>"
      ]
     },
     "execution_count": 17,
     "metadata": {},
     "output_type": "execute_result"
    }
   ],
   "source": [
    "df.groupby(\"age\").sum().plot(kind=\"bar\")"
   ]
  },
  {
   "cell_type": "code",
   "execution_count": 18,
   "metadata": {},
   "outputs": [
    {
     "data": {
      "image/png": "[encoded data removed]",
      "text/plain": [
       "<matplotlib.figure.Figure at 0x7fa196cf9310>"
      ]
     },
     "metadata": {},
     "output_type": "display_data"
    }
   ],
   "source": [
    "plt.show()"
   ]
  },
  {
   "cell_type": "code",
   "execution_count": 19,
   "metadata": {
    "collapsed": true
   },
   "outputs": [],
   "source": [
    "df.to_csv(\"data_2.csv\")"
   ]
  },
  {
   "cell_type": "code",
   "execution_count": 20,
   "metadata": {
    "collapsed": true
   },
   "outputs": [],
   "source": [
    "df1 = pd.read_csv(\"data_2.csv\")"
   ]
  },
  {
   "cell_type": "code",
   "execution_count": 22,
   "metadata": {},
   "outputs": [
    {
     "name": "stdout",
     "output_type": "stream",
     "text": [
      "    Unnamed: 0  age       name      sal\n",
      "0            0   36  prashanth  2436784\n",
      "1            1   35  prashanth  2345678\n",
      "2            2   36     murali   234567\n",
      "3            3   36  prashanth   134567\n",
      "4            4   51   suneetha   345678\n",
      "5            5   23       anil  2436784\n",
      "6            6   36        jay  2345678\n",
      "7            7   43        jay   345678\n",
      "8            8   24   suneetha   123456\n",
      "9            9   36   suneetha   345678\n",
      "10          10   43     danush   123456\n",
      "11          11   43   suneetha   123456\n",
      "12          12   43        sai   123456\n",
      "13          13   26      kiran   134567\n",
      "14          14   26        jay   234567\n",
      "15          15   23   suneetha   234567\n",
      "16          16   23      pavan  2436784\n",
      "17          17   23      kiran   234567\n",
      "18          18   35      kiran  2436784\n",
      "19          19   43     murali   134567\n",
      "20          20   23        sai   134567\n",
      "21          21   26      kiran   234567\n",
      "22          22   26       anil   134567\n",
      "23          23   35     murali  2436784\n",
      "24          24   43       anil   123456\n",
      "25          25   43   suneetha  2345678\n",
      "26          26   23        jay   234567\n",
      "27          27   26        sai  2436784\n",
      "28          28   23      pavan   123456\n",
      "29          29   26       anil   134567\n",
      "..         ...  ...        ...      ...\n",
      "70          70   43   suneetha  2436784\n",
      "71          71   35     murali  2436784\n",
      "72          72   24  prashanth  2436784\n",
      "73          73   51  prashanth  2436784\n",
      "74          74   35  prashanth  2436784\n",
      "75          75   51     danush   134567\n",
      "76          76   51     murali   134567\n",
      "77          77   23     murali  2436784\n",
      "78          78   51        sai  2345678\n",
      "79          79   26     murali   134567\n",
      "80          80   43     danush  2345678\n",
      "81          81   51  prashanth  2436784\n",
      "82          82   51     danush   234567\n",
      "83          83   24     murali   123456\n",
      "84          84   23       anil   345678\n",
      "85          85   23        sai   234567\n",
      "86          86   24     murali   234567\n",
      "87          87   23      kiran  2436784\n",
      "88          88   35     murali  2345678\n",
      "89          89   51     danush   123456\n",
      "90          90   36        jay   123456\n",
      "91          91   51      kiran  2436784\n",
      "92          92   23      pavan   134567\n",
      "93          93   26        jay   345678\n",
      "94          94   24       anil   345678\n",
      "95          95   36        sai   345678\n",
      "96          96   36      pavan   123456\n",
      "97          97   51     murali  2345678\n",
      "98          98   36      pavan   234567\n",
      "99          99   24      kiran   134567\n",
      "\n",
      "[100 rows x 4 columns]\n"
     ]
    }
   ],
   "source": [
    "print df1"
   ]
  },
  {
   "cell_type": "code",
   "execution_count": 23,
   "metadata": {},
   "outputs": [
    {
     "name": "stdout",
     "output_type": "stream",
     "text": [
      "[{'age': 36, 'name': 'prashanth', 'sal': 2436784}, {'age': 35, 'name': 'prashanth', 'sal': 2345678}, {'age': 36, 'name': 'murali', 'sal': 234567}, {'age': 36, 'name': 'prashanth', 'sal': 134567}, {'age': 51, 'name': 'suneetha', 'sal': 345678}, {'age': 23, 'name': 'anil', 'sal': 2436784}, {'age': 36, 'name': 'jay', 'sal': 2345678}, {'age': 43, 'name': 'jay', 'sal': 345678}, {'age': 24, 'name': 'suneetha', 'sal': 123456}, {'age': 36, 'name': 'suneetha', 'sal': 345678}, {'age': 43, 'name': 'danush', 'sal': 123456}, {'age': 43, 'name': 'suneetha', 'sal': 123456}, {'age': 43, 'name': 'sai', 'sal': 123456}, {'age': 26, 'name': 'kiran', 'sal': 134567}, {'age': 26, 'name': 'jay', 'sal': 234567}, {'age': 23, 'name': 'suneetha', 'sal': 234567}, {'age': 23, 'name': 'pavan', 'sal': 2436784}, {'age': 23, 'name': 'kiran', 'sal': 234567}, {'age': 35, 'name': 'kiran', 'sal': 2436784}, {'age': 43, 'name': 'murali', 'sal': 134567}, {'age': 23, 'name': 'sai', 'sal': 134567}, {'age': 26, 'name': 'kiran', 'sal': 234567}, {'age': 26, 'name': 'anil', 'sal': 134567}, {'age': 35, 'name': 'murali', 'sal': 2436784}, {'age': 43, 'name': 'anil', 'sal': 123456}, {'age': 43, 'name': 'suneetha', 'sal': 2345678}, {'age': 23, 'name': 'jay', 'sal': 234567}, {'age': 26, 'name': 'sai', 'sal': 2436784}, {'age': 23, 'name': 'pavan', 'sal': 123456}, {'age': 26, 'name': 'anil', 'sal': 134567}, {'age': 43, 'name': 'anil', 'sal': 2345678}, {'age': 51, 'name': 'anil', 'sal': 2436784}, {'age': 23, 'name': 'murali', 'sal': 234567}, {'age': 35, 'name': 'murali', 'sal': 234567}, {'age': 36, 'name': 'murali', 'sal': 234567}, {'age': 51, 'name': 'pavan', 'sal': 2345678}, {'age': 24, 'name': 'murali', 'sal': 234567}, {'age': 35, 'name': 'murali', 'sal': 234567}, {'age': 51, 'name': 'kiran', 'sal': 234567}, {'age': 43, 'name': 'suneetha', 'sal': 134567}, {'age': 24, 'name': 'sai', 'sal': 345678}, {'age': 26, 'name': 'danush', 'sal': 2436784}, {'age': 35, 'name': 'suneetha', 'sal': 134567}, {'age': 26, 'name': 'sai', 'sal': 345678}, {'age': 23, 'name': 'pavan', 'sal': 134567}, {'age': 23, 'name': 'murali', 'sal': 345678}, {'age': 23, 'name': 'murali', 'sal': 345678}, {'age': 51, 'name': 'prashanth', 'sal': 345678}, {'age': 35, 'name': 'sai', 'sal': 345678}, {'age': 36, 'name': 'pavan', 'sal': 234567}, {'age': 43, 'name': 'sai', 'sal': 345678}, {'age': 26, 'name': 'danush', 'sal': 2436784}, {'age': 24, 'name': 'suneetha', 'sal': 2345678}, {'age': 35, 'name': 'prashanth', 'sal': 345678}, {'age': 36, 'name': 'suneetha', 'sal': 234567}, {'age': 26, 'name': 'murali', 'sal': 123456}, {'age': 43, 'name': 'suneetha', 'sal': 123456}, {'age': 36, 'name': 'murali', 'sal': 134567}, {'age': 36, 'name': 'pavan', 'sal': 123456}, {'age': 43, 'name': 'murali', 'sal': 2436784}, {'age': 43, 'name': 'suneetha', 'sal': 134567}, {'age': 36, 'name': 'kiran', 'sal': 123456}, {'age': 26, 'name': 'murali', 'sal': 134567}, {'age': 26, 'name': 'pavan', 'sal': 2345678}, {'age': 36, 'name': 'pavan', 'sal': 123456}, {'age': 36, 'name': 'jay', 'sal': 123456}, {'age': 23, 'name': 'sai', 'sal': 134567}, {'age': 26, 'name': 'kiran', 'sal': 345678}, {'age': 35, 'name': 'pavan', 'sal': 2345678}, {'age': 24, 'name': 'danush', 'sal': 2436784}, {'age': 43, 'name': 'suneetha', 'sal': 2436784}, {'age': 35, 'name': 'murali', 'sal': 2436784}, {'age': 24, 'name': 'prashanth', 'sal': 2436784}, {'age': 51, 'name': 'prashanth', 'sal': 2436784}, {'age': 35, 'name': 'prashanth', 'sal': 2436784}, {'age': 51, 'name': 'danush', 'sal': 134567}, {'age': 51, 'name': 'murali', 'sal': 134567}, {'age': 23, 'name': 'murali', 'sal': 2436784}, {'age': 51, 'name': 'sai', 'sal': 2345678}, {'age': 26, 'name': 'murali', 'sal': 134567}, {'age': 43, 'name': 'danush', 'sal': 2345678}, {'age': 51, 'name': 'prashanth', 'sal': 2436784}, {'age': 51, 'name': 'danush', 'sal': 234567}, {'age': 24, 'name': 'murali', 'sal': 123456}, {'age': 23, 'name': 'anil', 'sal': 345678}, {'age': 23, 'name': 'sai', 'sal': 234567}, {'age': 24, 'name': 'murali', 'sal': 234567}, {'age': 23, 'name': 'kiran', 'sal': 2436784}, {'age': 35, 'name': 'murali', 'sal': 2345678}, {'age': 51, 'name': 'danush', 'sal': 123456}, {'age': 36, 'name': 'jay', 'sal': 123456}, {'age': 51, 'name': 'kiran', 'sal': 2436784}, {'age': 23, 'name': 'pavan', 'sal': 134567}, {'age': 26, 'name': 'jay', 'sal': 345678}, {'age': 24, 'name': 'anil', 'sal': 345678}, {'age': 36, 'name': 'sai', 'sal': 345678}, {'age': 36, 'name': 'pavan', 'sal': 123456}, {'age': 51, 'name': 'murali', 'sal': 2345678}, {'age': 36, 'name': 'pavan', 'sal': 234567}, {'age': 24, 'name': 'kiran', 'sal': 134567}]\n"
     ]
    }
   ],
   "source": [
    "print data"
   ]
  },
  {
   "cell_type": "code",
   "execution_count": 25,
   "metadata": {},
   "outputs": [],
   "source": [
    "import sqlite3\n",
    "con=sqlite3.connect(\"db2.db\")\n",
    "cur=con.cursor()\n",
    "try:\n",
    "    cur.execute(\"create table person(name varchar(50), age int, sal int)\")\n",
    "    for row in data:\n",
    "        q=\"insert into person (name, age, sal) values('%(name)s',%(age)s,%(sal)s)\"%row\n",
    "        cur.execute(q)\n",
    "    con.commit()\n",
    "except Exception as err:\n",
    "    print err\n",
    "finally:\n",
    "    con.close()"
   ]
  },
  {
   "cell_type": "code",
   "execution_count": 26,
   "metadata": {
    "collapsed": true
   },
   "outputs": [],
   "source": [
    "con=sqlite3.connect(\"db2.db\")\n",
    "df = pd.read_sql(\"select * from person\", con)"
   ]
  },
  {
   "cell_type": "code",
   "execution_count": 27,
   "metadata": {},
   "outputs": [
    {
     "name": "stdout",
     "output_type": "stream",
     "text": [
      "         name  age      sal\n",
      "0   prashanth   36  2436784\n",
      "1   prashanth   35  2345678\n",
      "2      murali   36   234567\n",
      "3   prashanth   36   134567\n",
      "4    suneetha   51   345678\n",
      "5        anil   23  2436784\n",
      "6         jay   36  2345678\n",
      "7         jay   43   345678\n",
      "8    suneetha   24   123456\n",
      "9    suneetha   36   345678\n",
      "10     danush   43   123456\n",
      "11   suneetha   43   123456\n",
      "12        sai   43   123456\n",
      "13      kiran   26   134567\n",
      "14        jay   26   234567\n",
      "15   suneetha   23   234567\n",
      "16      pavan   23  2436784\n",
      "17      kiran   23   234567\n",
      "18      kiran   35  2436784\n",
      "19     murali   43   134567\n",
      "20        sai   23   134567\n",
      "21      kiran   26   234567\n",
      "22       anil   26   134567\n",
      "23     murali   35  2436784\n",
      "24       anil   43   123456\n",
      "25   suneetha   43  2345678\n",
      "26        jay   23   234567\n",
      "27        sai   26  2436784\n",
      "28      pavan   23   123456\n",
      "29       anil   26   134567\n",
      "..        ...  ...      ...\n",
      "70   suneetha   43  2436784\n",
      "71     murali   35  2436784\n",
      "72  prashanth   24  2436784\n",
      "73  prashanth   51  2436784\n",
      "74  prashanth   35  2436784\n",
      "75     danush   51   134567\n",
      "76     murali   51   134567\n",
      "77     murali   23  2436784\n",
      "78        sai   51  2345678\n",
      "79     murali   26   134567\n",
      "80     danush   43  2345678\n",
      "81  prashanth   51  2436784\n",
      "82     danush   51   234567\n",
      "83     murali   24   123456\n",
      "84       anil   23   345678\n",
      "85        sai   23   234567\n",
      "86     murali   24   234567\n",
      "87      kiran   23  2436784\n",
      "88     murali   35  2345678\n",
      "89     danush   51   123456\n",
      "90        jay   36   123456\n",
      "91      kiran   51  2436784\n",
      "92      pavan   23   134567\n",
      "93        jay   26   345678\n",
      "94       anil   24   345678\n",
      "95        sai   36   345678\n",
      "96      pavan   36   123456\n",
      "97     murali   51  2345678\n",
      "98      pavan   36   234567\n",
      "99      kiran   24   134567\n",
      "\n",
      "[100 rows x 3 columns]\n"
     ]
    }
   ],
   "source": [
    "print df"
   ]
  },
  {
   "cell_type": "code",
   "execution_count": 28,
   "metadata": {
    "collapsed": true
   },
   "outputs": [],
   "source": [
    "tables = pd.read_html(\"https://www.w3schools.com/html/html_tables.asp\")"
   ]
  },
  {
   "cell_type": "code",
   "execution_count": 29,
   "metadata": {},
   "outputs": [
    {
     "name": "stdout",
     "output_type": "stream",
     "text": [
      "                              0                 1        2\n",
      "0                       Company           Contact  Country\n",
      "1           Alfreds Futterkiste      Maria Anders  Germany\n",
      "2    Centro comercial Moctezuma   Francisco Chang   Mexico\n",
      "3                  Ernst Handel     Roland Mendel  Austria\n",
      "4                Island Trading     Helen Bennett       UK\n",
      "5  Laughing Bacchus Winecellars   Yoshi Tannamuri   Canada\n",
      "6  Magazzini Alimentari Riuniti  Giovanni Rovelli    Italy\n",
      "             0                                                  1\n",
      "0          Tag                                        Description\n",
      "1      <table>                                    Defines a table\n",
      "2         <th>                   Defines a header cell in a table\n",
      "3         <tr>                           Defines a row in a table\n",
      "4         <td>                          Defines a cell in a table\n",
      "5    <caption>                            Defines a table caption\n",
      "6   <colgroup>  Specifies a group of one or more columns in a ...\n",
      "7        <col>  Specifies column properties for each column wi...\n",
      "8      <thead>               Groups the header content in a table\n",
      "9      <tbody>                 Groups the body content in a table\n",
      "10     <tfoot>               Groups the footer content in a table\n"
     ]
    }
   ],
   "source": [
    "for table in tables:\n",
    "    print table"
   ]
  },
  {
   "cell_type": "code",
   "execution_count": 30,
   "metadata": {},
   "outputs": [
    {
     "data": {
      "text/html": [
       "<div>\n",
       "<style>\n",
       "    .dataframe thead tr:only-child th {\n",
       "        text-align: right;\n",
       "    }\n",
       "\n",
       "    .dataframe thead th {\n",
       "        text-align: left;\n",
       "    }\n",
       "\n",
       "    .dataframe tbody tr th {\n",
       "        vertical-align: top;\n",
       "    }\n",
       "</style>\n",
       "<table border=\"1\" class=\"dataframe\">\n",
       "  <thead>\n",
       "    <tr style=\"text-align: right;\">\n",
       "      <th></th>\n",
       "      <th>0</th>\n",
       "      <th>1</th>\n",
       "    </tr>\n",
       "  </thead>\n",
       "  <tbody>\n",
       "    <tr>\n",
       "      <th>0</th>\n",
       "      <td>Tag</td>\n",
       "      <td>Description</td>\n",
       "    </tr>\n",
       "    <tr>\n",
       "      <th>1</th>\n",
       "      <td>&lt;table&gt;</td>\n",
       "      <td>Defines a table</td>\n",
       "    </tr>\n",
       "    <tr>\n",
       "      <th>2</th>\n",
       "      <td>&lt;th&gt;</td>\n",
       "      <td>Defines a header cell in a table</td>\n",
       "    </tr>\n",
       "    <tr>\n",
       "      <th>3</th>\n",
       "      <td>&lt;tr&gt;</td>\n",
       "      <td>Defines a row in a table</td>\n",
       "    </tr>\n",
       "    <tr>\n",
       "      <th>4</th>\n",
       "      <td>&lt;td&gt;</td>\n",
       "      <td>Defines a cell in a table</td>\n",
       "    </tr>\n",
       "    <tr>\n",
       "      <th>5</th>\n",
       "      <td>&lt;caption&gt;</td>\n",
       "      <td>Defines a table caption</td>\n",
       "    </tr>\n",
       "    <tr>\n",
       "      <th>6</th>\n",
       "      <td>&lt;colgroup&gt;</td>\n",
       "      <td>Specifies a group of one or more columns in a ...</td>\n",
       "    </tr>\n",
       "    <tr>\n",
       "      <th>7</th>\n",
       "      <td>&lt;col&gt;</td>\n",
       "      <td>Specifies column properties for each column wi...</td>\n",
       "    </tr>\n",
       "    <tr>\n",
       "      <th>8</th>\n",
       "      <td>&lt;thead&gt;</td>\n",
       "      <td>Groups the header content in a table</td>\n",
       "    </tr>\n",
       "    <tr>\n",
       "      <th>9</th>\n",
       "      <td>&lt;tbody&gt;</td>\n",
       "      <td>Groups the body content in a table</td>\n",
       "    </tr>\n",
       "    <tr>\n",
       "      <th>10</th>\n",
       "      <td>&lt;tfoot&gt;</td>\n",
       "      <td>Groups the footer content in a table</td>\n",
       "    </tr>\n",
       "  </tbody>\n",
       "</table>\n",
       "</div>"
      ],
      "text/plain": [
       "             0                                                  1\n",
       "0          Tag                                        Description\n",
       "1      <table>                                    Defines a table\n",
       "2         <th>                   Defines a header cell in a table\n",
       "3         <tr>                           Defines a row in a table\n",
       "4         <td>                          Defines a cell in a table\n",
       "5    <caption>                            Defines a table caption\n",
       "6   <colgroup>  Specifies a group of one or more columns in a ...\n",
       "7        <col>  Specifies column properties for each column wi...\n",
       "8      <thead>               Groups the header content in a table\n",
       "9      <tbody>                 Groups the body content in a table\n",
       "10     <tfoot>               Groups the footer content in a table"
      ]
     },
     "execution_count": 30,
     "metadata": {},
     "output_type": "execute_result"
    }
   ],
   "source": [
    "table"
   ]
  },
  {
   "cell_type": "code",
   "execution_count": 32,
   "metadata": {},
   "outputs": [
    {
     "data": {
      "image/png": "[encoded data removed]",
      "text/plain": [
       "<matplotlib.figure.Figure at 0x7fa192356610>"
      ]
     },
     "metadata": {},
     "output_type": "display_data"
    }
   ],
   "source": [
    "x=range(10)\n",
    "y=[4,6,2,1,-3,-10,-8,9,23,45]\n",
    "plt.plot(x,y)\n",
    "plt.show()"
   ]
  },
  {
   "cell_type": "code",
   "execution_count": 33,
   "metadata": {},
   "outputs": [
    {
     "data": {
      "image/png": "[encoded data removed]",
      "text/plain": [
       "<matplotlib.figure.Figure at 0x7fa1922eb150>"
      ]
     },
     "metadata": {},
     "output_type": "display_data"
    }
   ],
   "source": [
    "plt.barh(x,y)\n",
    "plt.show()"
   ]
  },
  {
   "cell_type": "code",
   "execution_count": 34,
   "metadata": {},
   "outputs": [
    {
     "data": {
      "image/png": "[encoded data removed]",
      "text/plain": [
       "<matplotlib.figure.Figure at 0x7fa19216dbd0>"
      ]
     },
     "metadata": {},
     "output_type": "display_data"
    }
   ],
   "source": [
    "plt.bar(x,y)\n",
    "plt.show()"
   ]
  },
  {
   "cell_type": "code",
   "execution_count": 36,
   "metadata": {},
   "outputs": [
    {
     "data": {
      "image/png": "[encoded data removed]",
      "text/plain": [
       "<matplotlib.figure.Figure at 0x7fa192062650>"
      ]
     },
     "metadata": {},
     "output_type": "display_data"
    }
   ],
   "source": [
    "plt.bar(x,y,color=\"red\")\n",
    "plt.show()"
   ]
  },
  {
   "cell_type": "code",
   "execution_count": 37,
   "metadata": {},
   "outputs": [
    {
     "data": {
      "image/png": "[encoded data removed]",
      "text/plain": [
       "<matplotlib.figure.Figure at 0x7fa192026810>"
      ]
     },
     "metadata": {},
     "output_type": "display_data"
    }
   ],
   "source": [
    "plt.bar(x,y,color=\"green\")\n",
    "plt.show()"
   ]
  },
  {
   "cell_type": "code",
   "execution_count": 38,
   "metadata": {
    "collapsed": true
   },
   "outputs": [],
   "source": [
    "plt.table?"
   ]
  },
  {
   "cell_type": "code",
   "execution_count": null,
   "metadata": {
    "collapsed": true
   },
   "outputs": [],
   "source": []
  }
 ],
 "metadata": {
  "kernelspec": {
   "display_name": "Python 2",
   "language": "python",
   "name": "python2"
  },
  "language_info": {
   "codemirror_mode": {
    "name": "ipython",
    "version": 2
   },
   "file_extension": ".py",
   "mimetype": "text/x-python",
   "name": "python",
   "nbconvert_exporter": "python",
   "pygments_lexer": "ipython2",
   "version": "2.7.14"
  }
 },
 "nbformat": 4,
 "nbformat_minor": 2
}
