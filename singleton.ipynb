{
 "cells": [
  {
   "cell_type": "code",
   "execution_count": 1,
   "metadata": {
    "collapsed": true
   },
   "outputs": [],
   "source": [
    "class User:\n",
    "    def __init__(self, user,password):\n",
    "        self.user=user\n",
    "        self.password=password\n",
    "anil=User(\"anil\",\"p1\")\n",
    "ashok=User(\"ashok\",\"p1\")\n",
    "pavan=User(\"pavan\",\"p1\")\n",
    "jay=User(\"jayaram\",\"p1\")\n",
    "sathish=User(\"sathish\",\"p1\")\n",
    "ajay=User(\"ajay\",\"p1\")"
   ]
  },
  {
   "cell_type": "code",
   "execution_count": 3,
   "metadata": {},
   "outputs": [
    {
     "name": "stdout",
     "output_type": "stream",
     "text": [
      "('anil', 'p1')\n"
     ]
    }
   ],
   "source": [
    "class User(object):\n",
    "    def __init__(self, user,password):\n",
    "        self.user=user\n",
    "        self.password=password\n",
    "    def get(self):\n",
    "        return self.user, self.password\n",
    "\n",
    "anil=User(\"anil\",\"p1\")\n",
    "print anil.get()"
   ]
  },
  {
   "cell_type": "code",
   "execution_count": 5,
   "metadata": {},
   "outputs": [
    {
     "name": "stdout",
     "output_type": "stream",
     "text": [
      "anil= None\n"
     ]
    },
    {
     "ename": "AttributeError",
     "evalue": "'NoneType' object has no attribute 'get'",
     "output_type": "error",
     "traceback": [
      "\u001b[0;31m---------------------------------------------------------------------------\u001b[0m",
      "\u001b[0;31mAttributeError\u001b[0m                            Traceback (most recent call last)",
      "\u001b[0;32m<ipython-input-5-c3973c0e1ffd>\u001b[0m in \u001b[0;36m<module>\u001b[0;34m()\u001b[0m\n\u001b[1;32m     11\u001b[0m \u001b[0manil\u001b[0m\u001b[0;34m=\u001b[0m\u001b[0mUser\u001b[0m\u001b[0;34m(\u001b[0m\u001b[0;34m\"anil\"\u001b[0m\u001b[0;34m,\u001b[0m\u001b[0;34m\"p1\"\u001b[0m\u001b[0;34m)\u001b[0m\u001b[0;34m\u001b[0m\u001b[0m\n\u001b[1;32m     12\u001b[0m \u001b[0;32mprint\u001b[0m \u001b[0;34m\"anil=\"\u001b[0m\u001b[0;34m,\u001b[0m\u001b[0manil\u001b[0m\u001b[0;34m\u001b[0m\u001b[0m\n\u001b[0;32m---> 13\u001b[0;31m \u001b[0;32mprint\u001b[0m \u001b[0manil\u001b[0m\u001b[0;34m.\u001b[0m\u001b[0mget\u001b[0m\u001b[0;34m(\u001b[0m\u001b[0;34m)\u001b[0m\u001b[0;34m\u001b[0m\u001b[0m\n\u001b[0m",
      "\u001b[0;31mAttributeError\u001b[0m: 'NoneType' object has no attribute 'get'"
     ]
    }
   ],
   "source": [
    "class User(object):\n",
    "    def __new__(cls,user,password):\n",
    "        \n",
    "        return None\n",
    "    def __init__(self, user,password):\n",
    "        self.user=user\n",
    "        self.password=password\n",
    "    def get(self):\n",
    "        return self.user, self.password\n",
    "# it will call the __new__ method first. __new__ returns the object. using that object calling __init__: object.__init__(\"anil\",\"p1\")\n",
    "anil=User(\"anil\",\"p1\")\n",
    "print \"anil=\",anil\n",
    "print anil.get()"
   ]
  },
  {
   "cell_type": "code",
   "execution_count": 6,
   "metadata": {},
   "outputs": [
    {
     "name": "stdout",
     "output_type": "stream",
     "text": [
      "<type 'NoneType'>\n"
     ]
    }
   ],
   "source": [
    "a=None\n",
    "print type(a)"
   ]
  },
  {
   "cell_type": "code",
   "execution_count": 7,
   "metadata": {},
   "outputs": [
    {
     "name": "stdout",
     "output_type": "stream",
     "text": [
      "anil= 10\n"
     ]
    },
    {
     "ename": "AttributeError",
     "evalue": "'int' object has no attribute 'get'",
     "output_type": "error",
     "traceback": [
      "\u001b[0;31m---------------------------------------------------------------------------\u001b[0m",
      "\u001b[0;31mAttributeError\u001b[0m                            Traceback (most recent call last)",
      "\u001b[0;32m<ipython-input-7-6259ae23fb0b>\u001b[0m in \u001b[0;36m<module>\u001b[0;34m()\u001b[0m\n\u001b[1;32m     11\u001b[0m \u001b[0manil\u001b[0m\u001b[0;34m=\u001b[0m\u001b[0mUser\u001b[0m\u001b[0;34m(\u001b[0m\u001b[0;34m\"anil\"\u001b[0m\u001b[0;34m,\u001b[0m\u001b[0;34m\"p1\"\u001b[0m\u001b[0;34m)\u001b[0m\u001b[0;34m\u001b[0m\u001b[0m\n\u001b[1;32m     12\u001b[0m \u001b[0;32mprint\u001b[0m \u001b[0;34m\"anil=\"\u001b[0m\u001b[0;34m,\u001b[0m\u001b[0manil\u001b[0m\u001b[0;34m\u001b[0m\u001b[0m\n\u001b[0;32m---> 13\u001b[0;31m \u001b[0;32mprint\u001b[0m \u001b[0manil\u001b[0m\u001b[0;34m.\u001b[0m\u001b[0mget\u001b[0m\u001b[0;34m(\u001b[0m\u001b[0;34m)\u001b[0m\u001b[0;34m\u001b[0m\u001b[0m\n\u001b[0m",
      "\u001b[0;31mAttributeError\u001b[0m: 'int' object has no attribute 'get'"
     ]
    }
   ],
   "source": [
    "class User(object):\n",
    "    def __new__(cls,user,password):\n",
    "        return 10\n",
    "    def __init__(self, user,password):\n",
    "        self.user=user\n",
    "        self.password=password\n",
    "    def get(self):\n",
    "        return self.user, self.password\n",
    "# it will call the __new__ method first. __new__ returns the object. using that object calling __init__: object.__init__(\"anil\",\"p1\")\n",
    "anil=User(\"anil\",\"p1\")\n",
    "print \"anil=\",anil\n",
    "print anil.get()"
   ]
  },
  {
   "cell_type": "code",
   "execution_count": 8,
   "metadata": {},
   "outputs": [
    {
     "name": "stdout",
     "output_type": "stream",
     "text": [
      "<__main__.User object at 0x7f65951dd950>\n",
      "anil= 10\n"
     ]
    },
    {
     "ename": "AttributeError",
     "evalue": "'int' object has no attribute 'get'",
     "output_type": "error",
     "traceback": [
      "\u001b[0;31m---------------------------------------------------------------------------\u001b[0m",
      "\u001b[0;31mAttributeError\u001b[0m                            Traceback (most recent call last)",
      "\u001b[0;32m<ipython-input-8-7f1e361b1561>\u001b[0m in \u001b[0;36m<module>\u001b[0;34m()\u001b[0m\n\u001b[1;32m     12\u001b[0m \u001b[0manil\u001b[0m\u001b[0;34m=\u001b[0m\u001b[0mUser\u001b[0m\u001b[0;34m(\u001b[0m\u001b[0;34m\"anil\"\u001b[0m\u001b[0;34m,\u001b[0m\u001b[0;34m\"p1\"\u001b[0m\u001b[0;34m)\u001b[0m\u001b[0;34m\u001b[0m\u001b[0m\n\u001b[1;32m     13\u001b[0m \u001b[0;32mprint\u001b[0m \u001b[0;34m\"anil=\"\u001b[0m\u001b[0;34m,\u001b[0m\u001b[0manil\u001b[0m\u001b[0;34m\u001b[0m\u001b[0m\n\u001b[0;32m---> 14\u001b[0;31m \u001b[0;32mprint\u001b[0m \u001b[0manil\u001b[0m\u001b[0;34m.\u001b[0m\u001b[0mget\u001b[0m\u001b[0;34m(\u001b[0m\u001b[0;34m)\u001b[0m\u001b[0;34m\u001b[0m\u001b[0m\n\u001b[0m",
      "\u001b[0;31mAttributeError\u001b[0m: 'int' object has no attribute 'get'"
     ]
    }
   ],
   "source": [
    "class User(object):\n",
    "    def __new__(cls,user,password):\n",
    "        obj = object.__new__(cls)\n",
    "        print obj\n",
    "        return 10\n",
    "    def __init__(self, user,password):\n",
    "        self.user=user\n",
    "        self.password=password\n",
    "    def get(self):\n",
    "        return self.user, self.password\n",
    "# it will call the __new__ method first. __new__ returns the object. using that object calling __init__: object.__init__(\"anil\",\"p1\")\n",
    "anil=User(\"anil\",\"p1\")\n",
    "print \"anil=\",anil\n",
    "print anil.get()"
   ]
  },
  {
   "cell_type": "code",
   "execution_count": 9,
   "metadata": {},
   "outputs": [
    {
     "name": "stdout",
     "output_type": "stream",
     "text": [
      "anil= <__main__.User object at 0x7f65951ddcd0>\n",
      "('anil', 'p1')\n"
     ]
    }
   ],
   "source": [
    "class User(object):\n",
    "    def __new__(cls,user,password):\n",
    "        obj = object.__new__(cls)\n",
    "        return obj\n",
    "    def __init__(self, user,password):\n",
    "        self.user=user\n",
    "        self.password=password\n",
    "    def get(self):\n",
    "        return self.user, self.password\n",
    "# it will call the __new__ method first. __new__ returns the object. using that object calling __init__: object.__init__(\"anil\",\"p1\")\n",
    "anil=User(\"anil\",\"p1\")\n",
    "print \"anil=\",anil\n",
    "print anil.get()"
   ]
  },
  {
   "cell_type": "code",
   "execution_count": 11,
   "metadata": {},
   "outputs": [
    {
     "name": "stdout",
     "output_type": "stream",
     "text": [
      "anil= <__main__.User object at 0x7f6595245590>\n",
      "('anil', 'p1')\n"
     ]
    }
   ],
   "source": [
    "class User(object):\n",
    "    obj_count=0\n",
    "    def __new__(cls,user,password):\n",
    "        if cls.obj_count==0:\n",
    "            obj = object.__new__(cls)\n",
    "            cls.obj_count = cls.obj_count+1\n",
    "            return obj\n",
    "        else:\n",
    "            raise Exception(\"Can create only one object\")\n",
    "            \n",
    "            \n",
    "    def __init__(self, user,password):\n",
    "        self.user=user\n",
    "        self.password=password\n",
    "    def get(self):\n",
    "        return self.user, self.password\n",
    "# it will call the __new__ method first. __new__ returns the object. using that object calling __init__: object.__init__(\"anil\",\"p1\")\n",
    "anil=User(\"anil\",\"p1\")\n",
    "print \"anil=\",anil\n",
    "print anil.get()"
   ]
  },
  {
   "cell_type": "code",
   "execution_count": 12,
   "metadata": {},
   "outputs": [
    {
     "name": "stdout",
     "output_type": "stream",
     "text": [
      "0\n",
      "1\n",
      "anil= <__main__.User object at 0x7f6595245a10>\n",
      "('anil', 'p1')\n"
     ]
    },
    {
     "ename": "Exception",
     "evalue": "Can create only one object",
     "output_type": "error",
     "traceback": [
      "\u001b[0;31m---------------------------------------------------------------------------\u001b[0m",
      "\u001b[0;31mException\u001b[0m                                 Traceback (most recent call last)",
      "\u001b[0;32m<ipython-input-12-30e17534ed98>\u001b[0m in \u001b[0;36m<module>\u001b[0;34m()\u001b[0m\n\u001b[1;32m     21\u001b[0m \u001b[0;32mprint\u001b[0m \u001b[0;34m\"anil=\"\u001b[0m\u001b[0;34m,\u001b[0m\u001b[0manil\u001b[0m\u001b[0;34m\u001b[0m\u001b[0m\n\u001b[1;32m     22\u001b[0m \u001b[0;32mprint\u001b[0m \u001b[0manil\u001b[0m\u001b[0;34m.\u001b[0m\u001b[0mget\u001b[0m\u001b[0;34m(\u001b[0m\u001b[0;34m)\u001b[0m\u001b[0;34m\u001b[0m\u001b[0m\n\u001b[0;32m---> 23\u001b[0;31m \u001b[0mjay\u001b[0m\u001b[0;34m=\u001b[0m\u001b[0mUser\u001b[0m\u001b[0;34m(\u001b[0m\u001b[0;34m\"jayaram\"\u001b[0m\u001b[0;34m,\u001b[0m\u001b[0;34m\"p1\"\u001b[0m\u001b[0;34m)\u001b[0m\u001b[0;34m\u001b[0m\u001b[0m\n\u001b[0m",
      "\u001b[0;32m<ipython-input-12-30e17534ed98>\u001b[0m in \u001b[0;36m__new__\u001b[0;34m(cls, user, password)\u001b[0m\n\u001b[1;32m      7\u001b[0m             \u001b[0;32mreturn\u001b[0m \u001b[0mobj\u001b[0m\u001b[0;34m\u001b[0m\u001b[0m\n\u001b[1;32m      8\u001b[0m         \u001b[0;32melse\u001b[0m\u001b[0;34m:\u001b[0m\u001b[0;34m\u001b[0m\u001b[0m\n\u001b[0;32m----> 9\u001b[0;31m             \u001b[0;32mraise\u001b[0m \u001b[0mException\u001b[0m\u001b[0;34m(\u001b[0m\u001b[0;34m\"Can create only one object\"\u001b[0m\u001b[0;34m)\u001b[0m\u001b[0;34m\u001b[0m\u001b[0m\n\u001b[0m\u001b[1;32m     10\u001b[0m \u001b[0;34m\u001b[0m\u001b[0m\n\u001b[1;32m     11\u001b[0m \u001b[0;34m\u001b[0m\u001b[0m\n",
      "\u001b[0;31mException\u001b[0m: Can create only one object"
     ]
    }
   ],
   "source": [
    "class User(object):\n",
    "    obj_count=0\n",
    "    def __new__(cls,user,password):\n",
    "        if cls.obj_count==0:\n",
    "            obj = object.__new__(cls)\n",
    "            cls.obj_count = cls.obj_count+1\n",
    "            return obj\n",
    "        else:\n",
    "            raise Exception(\"Can create only one object\")\n",
    "            \n",
    "            \n",
    "    def __init__(self, user,password):\n",
    "        self.user=user\n",
    "        self.password=password\n",
    "    def get(self):\n",
    "        return self.user, self.password\n",
    "# it will call the __new__ method first. __new__ returns the object. using that object calling __init__: object.__init__(\"anil\",\"p1\")\n",
    "print User.obj_count\n",
    "anil=User(\"anil\",\"p1\")\n",
    "print User.obj_count\n",
    "print \"anil=\",anil\n",
    "print anil.get()\n",
    "jay=User(\"jayaram\",\"p1\")"
   ]
  },
  {
   "cell_type": "code",
   "execution_count": null,
   "metadata": {
    "collapsed": true
   },
   "outputs": [],
   "source": []
  }
 ],
 "metadata": {
  "kernelspec": {
   "display_name": "Python 2",
   "language": "python",
   "name": "python2"
  },
  "language_info": {
   "codemirror_mode": {
    "name": "ipython",
    "version": 2
   },
   "file_extension": ".py",
   "mimetype": "text/x-python",
   "name": "python",
   "nbconvert_exporter": "python",
   "pygments_lexer": "ipython2",
   "version": "2.7.14"
  }
 },
 "nbformat": 4,
 "nbformat_minor": 2
}
