{
 "cells": [
  {
   "cell_type": "code",
   "execution_count": 1,
   "metadata": {
    "collapsed": true
   },
   "outputs": [],
   "source": [
    "s=\"python program\""
   ]
  },
  {
   "cell_type": "code",
   "execution_count": 2,
   "metadata": {},
   "outputs": [
    {
     "name": "stdout",
     "output_type": "stream",
     "text": [
      "Python program\n"
     ]
    }
   ],
   "source": [
    "print s.capitalize()"
   ]
  },
  {
   "cell_type": "code",
   "execution_count": 3,
   "metadata": {},
   "outputs": [
    {
     "name": "stdout",
     "output_type": "stream",
     "text": [
      "Python program is a pure object oriented progaming language\n"
     ]
    }
   ],
   "source": [
    "s=\"python proGRAM is a PURE object oriented PROGAMING LANGUAGE\"\n",
    "print s.capitalize()"
   ]
  },
  {
   "cell_type": "code",
   "execution_count": 4,
   "metadata": {},
   "outputs": [
    {
     "name": "stdout",
     "output_type": "stream",
     "text": [
      "1python program is a pure object oriented progaming language\n"
     ]
    }
   ],
   "source": [
    "s=\"1python proGRAM is a PURE object oriented PROGAMING LANGUAGE\"\n",
    "print s.capitalize()"
   ]
  },
  {
   "cell_type": "code",
   "execution_count": 5,
   "metadata": {},
   "outputs": [
    {
     "name": "stdout",
     "output_type": "stream",
     "text": [
      "1python program is a pure object oriented progaming language\n"
     ]
    }
   ],
   "source": [
    "s=\"1Python proGRAM is a PURE object oriented PROGAMING LANGUAGE\"\n",
    "print s.capitalize()"
   ]
  },
  {
   "cell_type": "code",
   "execution_count": 6,
   "metadata": {},
   "outputs": [
    {
     "data": {
      "text/plain": [
       "''"
      ]
     },
     "execution_count": 6,
     "metadata": {},
     "output_type": "execute_result"
    }
   ],
   "source": [
    "s=\"\"\n",
    "s.capitalize()"
   ]
  },
  {
   "cell_type": "code",
   "execution_count": 7,
   "metadata": {},
   "outputs": [
    {
     "data": {
      "text/plain": [
       "'123456787654321'"
      ]
     },
     "execution_count": 7,
     "metadata": {},
     "output_type": "execute_result"
    }
   ],
   "source": [
    "s=\"123456787654321\"\n",
    "s.capitalize()"
   ]
  },
  {
   "cell_type": "code",
   "execution_count": 8,
   "metadata": {},
   "outputs": [
    {
     "data": {
      "text/plain": [
       "'@#$%^&*'"
      ]
     },
     "execution_count": 8,
     "metadata": {},
     "output_type": "execute_result"
    }
   ],
   "source": [
    "s=\"@#$%^&*\"\n",
    "s.capitalize()"
   ]
  },
  {
   "cell_type": "code",
   "execution_count": 9,
   "metadata": {},
   "outputs": [
    {
     "name": "stdout",
     "output_type": "stream",
     "text": [
      " python program is a pure object oriented progaming language\n"
     ]
    }
   ],
   "source": [
    "s=\" python proGRAM is a PURE object oriented PROGAMING LANGUAGE\"\n",
    "print s.capitalize()"
   ]
  },
  {
   "cell_type": "code",
   "execution_count": 10,
   "metadata": {},
   "outputs": [
    {
     "name": "stdout",
     "output_type": "stream",
     "text": [
      "python program\n",
      "Python program\n"
     ]
    }
   ],
   "source": [
    "def own_caps(s):\n",
    "    print s\n",
    "    s1=s[0]\n",
    "    s2=s[1:]\n",
    "    s1_u=s1.upper()\n",
    "    s2_l = s2.lower()\n",
    "    mod_s = s1_u+s2_l\n",
    "    return mod_s\n",
    "print own_caps(\"python program\")"
   ]
  },
  {
   "cell_type": "code",
   "execution_count": 12,
   "metadata": {},
   "outputs": [
    {
     "name": "stdout",
     "output_type": "stream",
     "text": [
      "1python proGRAM\n",
      "1python program\n",
      "1python program\n"
     ]
    }
   ],
   "source": [
    "def own_caps(s):\n",
    "    print s\n",
    "    s1=s[0]\n",
    "    s2=s[1:]\n",
    "    s1_u=s1.upper()\n",
    "    s2_l = s2.lower()\n",
    "    mod_s = s1_u+s2_l\n",
    "    return mod_s\n",
    "s=\"1python proGRAM\"\n",
    "print own_caps(s)\n",
    "print s.capitalize()"
   ]
  },
  {
   "cell_type": "code",
   "execution_count": 13,
   "metadata": {},
   "outputs": [
    {
     "name": "stdout",
     "output_type": "stream",
     "text": [
      "1234567\n",
      "1234567\n",
      "1234567\n"
     ]
    }
   ],
   "source": [
    "def own_caps(s):\n",
    "    print s\n",
    "    s1=s[0]\n",
    "    s2=s[1:]\n",
    "    s1_u=s1.upper()\n",
    "    s2_l = s2.lower()\n",
    "    mod_s = s1_u+s2_l\n",
    "    return mod_s\n",
    "s=\"1234567\"\n",
    "print own_caps(s)\n",
    "print s.capitalize()"
   ]
  },
  {
   "cell_type": "code",
   "execution_count": 14,
   "metadata": {},
   "outputs": [
    {
     "name": "stdout",
     "output_type": "stream",
     "text": [
      " 1234567\n",
      " 1234567\n",
      " 1234567\n"
     ]
    }
   ],
   "source": [
    "def own_caps(s):\n",
    "    print s\n",
    "    s1=s[0]\n",
    "    s2=s[1:]\n",
    "    s1_u=s1.upper()\n",
    "    s2_l = s2.lower()\n",
    "    mod_s = s1_u+s2_l\n",
    "    return mod_s\n",
    "s=\" 1234567\"\n",
    "print own_caps(s)\n",
    "print s.capitalize()"
   ]
  },
  {
   "cell_type": "code",
   "execution_count": 15,
   "metadata": {},
   "outputs": [
    {
     "name": "stdout",
     "output_type": "stream",
     "text": [
      "\n"
     ]
    },
    {
     "ename": "IndexError",
     "evalue": "string index out of range",
     "output_type": "error",
     "traceback": [
      "\u001b[0;31m---------------------------------------------------------------------------\u001b[0m",
      "\u001b[0;31mIndexError\u001b[0m                                Traceback (most recent call last)",
      "\u001b[0;32m<ipython-input-15-b87263cf8995>\u001b[0m in \u001b[0;36m<module>\u001b[0;34m()\u001b[0m\n\u001b[1;32m      8\u001b[0m     \u001b[0;32mreturn\u001b[0m \u001b[0mmod_s\u001b[0m\u001b[0;34m\u001b[0m\u001b[0m\n\u001b[1;32m      9\u001b[0m \u001b[0ms\u001b[0m\u001b[0;34m=\u001b[0m\u001b[0;34m\"\"\u001b[0m\u001b[0;34m\u001b[0m\u001b[0m\n\u001b[0;32m---> 10\u001b[0;31m \u001b[0;32mprint\u001b[0m \u001b[0mown_caps\u001b[0m\u001b[0;34m(\u001b[0m\u001b[0ms\u001b[0m\u001b[0;34m)\u001b[0m\u001b[0;34m\u001b[0m\u001b[0m\n\u001b[0m\u001b[1;32m     11\u001b[0m \u001b[0;32mprint\u001b[0m \u001b[0ms\u001b[0m\u001b[0;34m.\u001b[0m\u001b[0mcapitalize\u001b[0m\u001b[0;34m(\u001b[0m\u001b[0;34m)\u001b[0m\u001b[0;34m\u001b[0m\u001b[0m\n",
      "\u001b[0;32m<ipython-input-15-b87263cf8995>\u001b[0m in \u001b[0;36mown_caps\u001b[0;34m(s)\u001b[0m\n\u001b[1;32m      1\u001b[0m \u001b[0;32mdef\u001b[0m \u001b[0mown_caps\u001b[0m\u001b[0;34m(\u001b[0m\u001b[0ms\u001b[0m\u001b[0;34m)\u001b[0m\u001b[0;34m:\u001b[0m\u001b[0;34m\u001b[0m\u001b[0m\n\u001b[1;32m      2\u001b[0m     \u001b[0;32mprint\u001b[0m \u001b[0ms\u001b[0m\u001b[0;34m\u001b[0m\u001b[0m\n\u001b[0;32m----> 3\u001b[0;31m     \u001b[0ms1\u001b[0m\u001b[0;34m=\u001b[0m\u001b[0ms\u001b[0m\u001b[0;34m[\u001b[0m\u001b[0;36m0\u001b[0m\u001b[0;34m]\u001b[0m\u001b[0;34m\u001b[0m\u001b[0m\n\u001b[0m\u001b[1;32m      4\u001b[0m     \u001b[0ms2\u001b[0m\u001b[0;34m=\u001b[0m\u001b[0ms\u001b[0m\u001b[0;34m[\u001b[0m\u001b[0;36m1\u001b[0m\u001b[0;34m:\u001b[0m\u001b[0;34m]\u001b[0m\u001b[0;34m\u001b[0m\u001b[0m\n\u001b[1;32m      5\u001b[0m     \u001b[0ms1_u\u001b[0m\u001b[0;34m=\u001b[0m\u001b[0ms1\u001b[0m\u001b[0;34m.\u001b[0m\u001b[0mupper\u001b[0m\u001b[0;34m(\u001b[0m\u001b[0;34m)\u001b[0m\u001b[0;34m\u001b[0m\u001b[0m\n",
      "\u001b[0;31mIndexError\u001b[0m: string index out of range"
     ]
    }
   ],
   "source": [
    "def own_caps(s):\n",
    "    print s\n",
    "    s1=s[0]\n",
    "    s2=s[1:]\n",
    "    s1_u=s1.upper()\n",
    "    s2_l = s2.lower()\n",
    "    mod_s = s1_u+s2_l\n",
    "    return mod_s\n",
    "s=\"\"\n",
    "print own_caps(s)\n",
    "print s.capitalize()"
   ]
  },
  {
   "cell_type": "code",
   "execution_count": 16,
   "metadata": {},
   "outputs": [
    {
     "name": "stdout",
     "output_type": "stream",
     "text": [
      "\n",
      "\n"
     ]
    },
    {
     "ename": "IndexError",
     "evalue": "string index out of range",
     "output_type": "error",
     "traceback": [
      "\u001b[0;31m---------------------------------------------------------------------------\u001b[0m",
      "\u001b[0;31mIndexError\u001b[0m                                Traceback (most recent call last)",
      "\u001b[0;32m<ipython-input-16-8d4bf2ace70b>\u001b[0m in \u001b[0;36m<module>\u001b[0;34m()\u001b[0m\n\u001b[1;32m      9\u001b[0m \u001b[0;32mprint\u001b[0m \u001b[0ms\u001b[0m\u001b[0;34m.\u001b[0m\u001b[0mcapitalize\u001b[0m\u001b[0;34m(\u001b[0m\u001b[0;34m)\u001b[0m\u001b[0;34m\u001b[0m\u001b[0m\n\u001b[1;32m     10\u001b[0m \u001b[0ms\u001b[0m\u001b[0;34m=\u001b[0m\u001b[0;34m\"\"\u001b[0m\u001b[0;34m\u001b[0m\u001b[0m\n\u001b[0;32m---> 11\u001b[0;31m \u001b[0;32mprint\u001b[0m \u001b[0mown_caps\u001b[0m\u001b[0;34m(\u001b[0m\u001b[0ms\u001b[0m\u001b[0;34m)\u001b[0m\u001b[0;34m\u001b[0m\u001b[0m\n\u001b[0m\u001b[1;32m     12\u001b[0m \u001b[0;32mprint\u001b[0m \u001b[0ms\u001b[0m\u001b[0;34m.\u001b[0m\u001b[0mcapitalize\u001b[0m\u001b[0;34m(\u001b[0m\u001b[0;34m)\u001b[0m\u001b[0;34m\u001b[0m\u001b[0m\n",
      "\u001b[0;32m<ipython-input-16-8d4bf2ace70b>\u001b[0m in \u001b[0;36mown_caps\u001b[0;34m(s)\u001b[0m\n\u001b[1;32m      1\u001b[0m \u001b[0;32mdef\u001b[0m \u001b[0mown_caps\u001b[0m\u001b[0;34m(\u001b[0m\u001b[0ms\u001b[0m\u001b[0;34m)\u001b[0m\u001b[0;34m:\u001b[0m\u001b[0;34m\u001b[0m\u001b[0m\n\u001b[1;32m      2\u001b[0m     \u001b[0;32mprint\u001b[0m \u001b[0ms\u001b[0m\u001b[0;34m\u001b[0m\u001b[0m\n\u001b[0;32m----> 3\u001b[0;31m     \u001b[0ms1\u001b[0m\u001b[0;34m=\u001b[0m\u001b[0ms\u001b[0m\u001b[0;34m[\u001b[0m\u001b[0;36m0\u001b[0m\u001b[0;34m]\u001b[0m\u001b[0;34m\u001b[0m\u001b[0m\n\u001b[0m\u001b[1;32m      4\u001b[0m     \u001b[0ms2\u001b[0m\u001b[0;34m=\u001b[0m\u001b[0ms\u001b[0m\u001b[0;34m[\u001b[0m\u001b[0;36m1\u001b[0m\u001b[0;34m:\u001b[0m\u001b[0;34m]\u001b[0m\u001b[0;34m\u001b[0m\u001b[0m\n\u001b[1;32m      5\u001b[0m     \u001b[0ms1_u\u001b[0m\u001b[0;34m=\u001b[0m\u001b[0ms1\u001b[0m\u001b[0;34m.\u001b[0m\u001b[0mupper\u001b[0m\u001b[0;34m(\u001b[0m\u001b[0;34m)\u001b[0m\u001b[0;34m\u001b[0m\u001b[0m\n",
      "\u001b[0;31mIndexError\u001b[0m: string index out of range"
     ]
    }
   ],
   "source": [
    "def own_caps(s):\n",
    "    print s\n",
    "    s1=s[0]\n",
    "    s2=s[1:]\n",
    "    s1_u=s1.upper()\n",
    "    s2_l = s2.lower()\n",
    "    mod_s = s1_u+s2_l\n",
    "    return mod_s\n",
    "print s.capitalize()\n",
    "s=\"\"\n",
    "print own_caps(s)\n",
    "print s.capitalize()"
   ]
  },
  {
   "cell_type": "code",
   "execution_count": 17,
   "metadata": {},
   "outputs": [
    {
     "name": "stdout",
     "output_type": "stream",
     "text": [
      "\n",
      "\n",
      "\n"
     ]
    }
   ],
   "source": [
    "def own_caps(s):\n",
    "    if s:\n",
    "        print s\n",
    "        s1=s[0]\n",
    "        s2=s[1:]\n",
    "        s1_u=s1.upper()\n",
    "        s2_l = s2.lower()\n",
    "        mod_s = s1_u+s2_l\n",
    "        return mod_s\n",
    "    return s\n",
    "print s.capitalize()\n",
    "s=\"\"\n",
    "print own_caps(s)\n",
    "print s.capitalize()"
   ]
  },
  {
   "cell_type": "code",
   "execution_count": 18,
   "metadata": {},
   "outputs": [
    {
     "data": {
      "text/plain": [
       "118"
      ]
     },
     "execution_count": 18,
     "metadata": {},
     "output_type": "execute_result"
    }
   ],
   "source": [
    "s=\"123456789876543212345678987654321234567890-098765433333333333333333333333333333333333333333333333333333333334444444444\"\n",
    "len(s)"
   ]
  },
  {
   "cell_type": "code",
   "execution_count": 19,
   "metadata": {},
   "outputs": [
    {
     "name": "stdout",
     "output_type": "stream",
     "text": [
      "python program\n"
     ]
    }
   ],
   "source": [
    "s=\"python program\"\n",
    "print s"
   ]
  },
  {
   "cell_type": "code",
   "execution_count": 21,
   "metadata": {},
   "outputs": [
    {
     "name": "stdout",
     "output_type": "stream",
     "text": [
      "python program\n",
      "                                                     python program                                                     \n"
     ]
    }
   ],
   "source": [
    "s=\"python program\"\n",
    "print s\n",
    "print s.center(120)"
   ]
  },
  {
   "cell_type": "code",
   "execution_count": 22,
   "metadata": {},
   "outputs": [
    {
     "name": "stdout",
     "output_type": "stream",
     "text": [
      "python program\n",
      "14\n",
      "120\n"
     ]
    }
   ],
   "source": [
    "s=\"python program\"\n",
    "print s\n",
    "s1=s.center(120)\n",
    "print len(s)\n",
    "print len(s1)"
   ]
  },
  {
   "cell_type": "code",
   "execution_count": 24,
   "metadata": {},
   "outputs": [
    {
     "name": "stdout",
     "output_type": "stream",
     "text": [
      "python program\n",
      "                                                     python program                                                     \n",
      "$$$$$$$$$$$$$$$$$$$$$$$$$$$$$$$$$$$$$$$$$$$$$$$$$$$$$python program$$$$$$$$$$$$$$$$$$$$$$$$$$$$$$$$$$$$$$$$$$$$$$$$$$$$$\n",
      "14\n",
      "120\n"
     ]
    }
   ],
   "source": [
    "s=\"python program\"\n",
    "print s\n",
    "s1=s.center(120)\n",
    "s2=s.center(120,\"$\")\n",
    "print s1\n",
    "print s2\n",
    "print len(s)\n",
    "print len(s1)"
   ]
  },
  {
   "cell_type": "code",
   "execution_count": 25,
   "metadata": {},
   "outputs": [
    {
     "name": "stdout",
     "output_type": "stream",
     "text": [
      "python program\n",
      "                                                     python program                                                     \n",
      "$$$$$$$$$$$$$$$$$$$$$$$$$$$$$$$$$$$$$$$$$$$$$$$$$$$$$python program$$$$$$$$$$$$$$$$$$$$$$$$$$$$$$$$$$$$$$$$$$$$$$$$$$$$$\n",
      "python program                                                                                                          \n",
      "                                                                                                          python program\n",
      "python program^^^^^^^^^^^^^^^^^^^^^^^^^^^^^^^^^^^^^^^^^^^^^^^^^^^^^^^^^^^^^^^^^^^^^^^^^^^^^^^^^^^^^^^^^^^^^^^^^^^^^^^^^^\n",
      "&&&&&&&&&&&&&&&&&&&&&&&&&&&&&&&&&&&&&&&&&&&&&&&&&&&&&&&&&&&&&&&&&&&&&&&&&&&&&&&&&&&&&&&&&&&&&&&&&&&&&&&&&&python program\n"
     ]
    }
   ],
   "source": [
    "s=\"python program\"\n",
    "print s\n",
    "print s.center(120)\n",
    "print s.center(120,\"$\")\n",
    "print s.ljust(120)\n",
    "print s.rjust(120)\n",
    "print s.ljust(120,\"^\")\n",
    "print s.rjust(120,\"&\")\n"
   ]
  },
  {
   "cell_type": "code",
   "execution_count": 26,
   "metadata": {},
   "outputs": [
    {
     "name": "stdout",
     "output_type": "stream",
     "text": [
      "python program\n",
      "14\n",
      "python program\n",
      "python program\n",
      "python program\n"
     ]
    }
   ],
   "source": [
    "s=\"python program\"\n",
    "print s\n",
    "print len(s)\n",
    "print s.center(10)\n",
    "print s.ljust(10)\n",
    "print s.rjust(10)"
   ]
  },
  {
   "cell_type": "code",
   "execution_count": null,
   "metadata": {
    "collapsed": true
   },
   "outputs": [],
   "source": []
  },
  {
   "cell_type": "code",
   "execution_count": null,
   "metadata": {
    "collapsed": true
   },
   "outputs": [],
   "source": [
    "\"111111111111111111111111111111111111111111111111111111111111111111111111111111111111111111111111111111111111111111111111111111111111111111111111111111111111111111111111111111111111111111111\""
   ]
  },
  {
   "cell_type": "code",
   "execution_count": 27,
   "metadata": {},
   "outputs": [
    {
     "name": "stdout",
     "output_type": "stream",
     "text": [
      "\n",
      "0\n",
      "          \n",
      "          \n",
      "          \n"
     ]
    }
   ],
   "source": [
    "s=\"\"\n",
    "print s\n",
    "print len(s)\n",
    "print s.center(10)\n",
    "print s.ljust(10)\n",
    "print s.rjust(10)"
   ]
  },
  {
   "cell_type": "code",
   "execution_count": 28,
   "metadata": {},
   "outputs": [
    {
     "name": "stdout",
     "output_type": "stream",
     "text": [
      "\n",
      "0\n",
      "\n",
      "\n",
      "\n"
     ]
    }
   ],
   "source": [
    "s=\"\"\n",
    "print s\n",
    "print len(s)\n",
    "print s.center(-10)\n",
    "print s.ljust(-10)\n",
    "print s.rjust(-10)"
   ]
  },
  {
   "cell_type": "code",
   "execution_count": 29,
   "metadata": {},
   "outputs": [
    {
     "name": "stdout",
     "output_type": "stream",
     "text": [
      "qwerty\n",
      "6\n",
      "qwerty\n",
      "qwerty\n",
      "qwerty\n"
     ]
    }
   ],
   "source": [
    "s=\"qwerty\"\n",
    "print s\n",
    "print len(s)\n",
    "print s.center(-10)\n",
    "print s.ljust(-10)\n",
    "print s.rjust(-10)"
   ]
  },
  {
   "cell_type": "code",
   "execution_count": 30,
   "metadata": {},
   "outputs": [
    {
     "name": "stdout",
     "output_type": "stream",
     "text": [
      "qwerty\n",
      "6\n",
      "qwerty\n",
      "qwerty\n",
      "qwerty\n"
     ]
    }
   ],
   "source": [
    "s=\"qwerty\"\n",
    "print s\n",
    "print len(s)\n",
    "print s.center(0)\n",
    "print s.ljust(0)\n",
    "print s.rjust(0)"
   ]
  },
  {
   "cell_type": "code",
   "execution_count": 31,
   "metadata": {},
   "outputs": [
    {
     "name": "stdout",
     "output_type": "stream",
     "text": [
      "          python         \n"
     ]
    }
   ],
   "source": [
    "s=\"python\"\n",
    "print s.center(25)"
   ]
  },
  {
   "cell_type": "code",
   "execution_count": 32,
   "metadata": {},
   "outputs": [
    {
     "name": "stdout",
     "output_type": "stream",
     "text": [
      "2\n",
      "0\n"
     ]
    }
   ],
   "source": [
    "s=\"python program python\"\n",
    "print s.count(\"python\")\n",
    "print s.count(\"java\")"
   ]
  },
  {
   "cell_type": "code",
   "execution_count": 33,
   "metadata": {},
   "outputs": [
    {
     "name": "stdout",
     "output_type": "stream",
     "text": [
      "2\n",
      "0\n",
      "3\n"
     ]
    }
   ],
   "source": [
    "s=\"python program python1212123\"\n",
    "print s.count(\"python\")\n",
    "print s.count(\"java\")\n",
    "print s.count(\"12\")"
   ]
  },
  {
   "cell_type": "code",
   "execution_count": 34,
   "metadata": {},
   "outputs": [
    {
     "name": "stdout",
     "output_type": "stream",
     "text": [
      "2\n",
      "0\n",
      "3\n",
      "2\n"
     ]
    }
   ],
   "source": [
    "s=\"python program python1212123\"\n",
    "print s.count(\"python\")\n",
    "print s.count(\"java\")\n",
    "print s.count(\"12\")\n",
    "print s.count(\"21\")"
   ]
  },
  {
   "cell_type": "code",
   "execution_count": 35,
   "metadata": {},
   "outputs": [
    {
     "name": "stdout",
     "output_type": "stream",
     "text": [
      "2\n",
      "0\n",
      "3\n",
      "2\n",
      "1\n",
      "0\n"
     ]
    }
   ],
   "source": [
    "s=\"python program python1212123\"\n",
    "print s.count(\"python\")\n",
    "print s.count(\"java\")\n",
    "print s.count(\"12\")\n",
    "print s.count(\"21\")\n",
    "print s.count(\"123\")\n",
    "print s.count(\"11\")"
   ]
  },
  {
   "cell_type": "code",
   "execution_count": 36,
   "metadata": {},
   "outputs": [
    {
     "name": "stdout",
     "output_type": "stream",
     "text": [
      "0\n",
      "2\n",
      "0\n",
      "3\n",
      "2\n",
      "1\n",
      "0\n"
     ]
    }
   ],
   "source": [
    "s=\"python program python1212123\"\n",
    "print s.count(\"PYTHON\")\n",
    "print s.count(\"python\")\n",
    "print s.count(\"java\")\n",
    "print s.count(\"12\")\n",
    "print s.count(\"21\")\n",
    "print s.count(\"123\")\n",
    "print s.count(\"11\")"
   ]
  },
  {
   "cell_type": "code",
   "execution_count": 37,
   "metadata": {},
   "outputs": [
    {
     "name": "stdout",
     "output_type": "stream",
     "text": [
      "0\n"
     ]
    }
   ],
   "source": [
    "s=\"python program python1212123\"\n",
    "print s.count(\"PYTHON\")\n"
   ]
  },
  {
   "cell_type": "code",
   "execution_count": 38,
   "metadata": {},
   "outputs": [
    {
     "name": "stdout",
     "output_type": "stream",
     "text": [
      "Enter sub string:python\n",
      "0\n"
     ]
    }
   ],
   "source": [
    "act=\"Python Is A Pure Object Oriented Programing Language\"\n",
    "sub = raw_input(\"Enter sub string:\")\n",
    "print act.count(sub)"
   ]
  },
  {
   "cell_type": "code",
   "execution_count": 39,
   "metadata": {
    "collapsed": true
   },
   "outputs": [],
   "source": [
    "s.count?"
   ]
  },
  {
   "cell_type": "code",
   "execution_count": 40,
   "metadata": {},
   "outputs": [
    {
     "name": "stdout",
     "output_type": "stream",
     "text": [
      "Enter sub string:Python\n",
      "1\n"
     ]
    }
   ],
   "source": [
    "act=\"Python Is A Pure Object Oriented Programing Language\"\n",
    "sub = raw_input(\"Enter sub string:\")\n",
    "print act.count(sub,0,30)"
   ]
  },
  {
   "cell_type": "code",
   "execution_count": 41,
   "metadata": {},
   "outputs": [
    {
     "name": "stdout",
     "output_type": "stream",
     "text": [
      "Enter sub string:Language\n",
      "0\n",
      "1\n"
     ]
    }
   ],
   "source": [
    "act=\"Python Is A Pure Object Oriented Programing Language\"\n",
    "sub = raw_input(\"Enter sub string:\")\n",
    "print act.count(sub,0,30)\n",
    "print act.count(sub)"
   ]
  },
  {
   "cell_type": "code",
   "execution_count": 42,
   "metadata": {},
   "outputs": [
    {
     "name": "stdout",
     "output_type": "stream",
     "text": [
      "Enter sub string:P\n",
      "2\n",
      "11\n"
     ]
    }
   ],
   "source": [
    "act=\"Python Is A Pure Object Oriented Programing LanguagePPPPPPPP\"\n",
    "sub = raw_input(\"Enter sub string:\")\n",
    "print act.count(sub,0,30)\n",
    "print act.count(sub)"
   ]
  },
  {
   "cell_type": "code",
   "execution_count": 43,
   "metadata": {},
   "outputs": [
    {
     "name": "stdout",
     "output_type": "stream",
     "text": [
      "Enter sub string:python\n",
      "1\n",
      "1\n"
     ]
    }
   ],
   "source": [
    "act=\"Python Is A Pure Object Oriented Programing LanguagePPPPPPPP\"\n",
    "sub = raw_input(\"Enter sub string:\")\n",
    "act_l=act.lower()\n",
    "sub_l=sub.lower()\n",
    "print act_l.count(sub_l,0,30)\n",
    "print act_l.count(sub_l)"
   ]
  },
  {
   "cell_type": "code",
   "execution_count": 44,
   "metadata": {},
   "outputs": [
    {
     "name": "stdout",
     "output_type": "stream",
     "text": [
      "Enter sub string:LaNgUaGE\n",
      "0\n",
      "1\n"
     ]
    }
   ],
   "source": [
    "act=\"Python Is A Pure Object Oriented Programing LanguagePPPPPPPP\"\n",
    "sub = raw_input(\"Enter sub string:\")\n",
    "act_l=act.lower()\n",
    "sub_l=sub.lower()\n",
    "print act_l.count(sub_l,0,30)\n",
    "print act_l.count(sub_l)"
   ]
  },
  {
   "cell_type": "code",
   "execution_count": 45,
   "metadata": {},
   "outputs": [
    {
     "name": "stdout",
     "output_type": "stream",
     "text": [
      "1\n"
     ]
    }
   ],
   "source": [
    "s=\"python program\"\n",
    "print s.count(\" \")"
   ]
  },
  {
   "cell_type": "code",
   "execution_count": null,
   "metadata": {
    "collapsed": true
   },
   "outputs": [],
   "source": [
    "s=\"python program\"\n",
    "print s.count(\"\")"
   ]
  },
  {
   "cell_type": "code",
   "execution_count": 46,
   "metadata": {},
   "outputs": [
    {
     "name": "stdout",
     "output_type": "stream",
     "text": [
      "Enter sub string:python\n",
      "1\n",
      "1\n"
     ]
    }
   ],
   "source": [
    "act=\"Python Is A Pure Object Oriented Programing LanguagePPPPPPPP\"\n",
    "sub = raw_input(\"Enter sub string:\")\n",
    "act_u=act.upper()\n",
    "sub_u=sub.upper()\n",
    "print act_u.count(sub_u,0,30)\n",
    "print act_u.count(sub_u)"
   ]
  },
  {
   "cell_type": "code",
   "execution_count": null,
   "metadata": {
    "collapsed": true
   },
   "outputs": [],
   "source": []
  }
 ],
 "metadata": {
  "kernelspec": {
   "display_name": "Python 2",
   "language": "python",
   "name": "python2"
  },
  "language_info": {
   "codemirror_mode": {
    "name": "ipython",
    "version": 2
   },
   "file_extension": ".py",
   "mimetype": "text/x-python",
   "name": "python",
   "nbconvert_exporter": "python",
   "pygments_lexer": "ipython2",
   "version": "2.7.14"
  }
 },
 "nbformat": 4,
 "nbformat_minor": 2
}
