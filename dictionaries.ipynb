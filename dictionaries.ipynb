{
 "cells": [
  {
   "cell_type": "code",
   "execution_count": 4,
   "metadata": {
    "collapsed": true
   },
   "outputs": [],
   "source": [
    "d={\"name\":\"anil\",\"age\":23,\"pan\":\"BDSW@ERTY\"}"
   ]
  },
  {
   "cell_type": "code",
   "execution_count": 5,
   "metadata": {},
   "outputs": [
    {
     "data": {
      "text/plain": [
       "'anil'"
      ]
     },
     "execution_count": 5,
     "metadata": {},
     "output_type": "execute_result"
    }
   ],
   "source": [
    "d['name']"
   ]
  },
  {
   "cell_type": "code",
   "execution_count": 6,
   "metadata": {},
   "outputs": [
    {
     "ename": "KeyError",
     "evalue": "0",
     "output_type": "error",
     "traceback": [
      "\u001b[0;31m---------------------------------------------------------------------------\u001b[0m",
      "\u001b[0;31mKeyError\u001b[0m                                  Traceback (most recent call last)",
      "\u001b[0;32m<ipython-input-6-17371c6688f6>\u001b[0m in \u001b[0;36m<module>\u001b[0;34m()\u001b[0m\n\u001b[0;32m----> 1\u001b[0;31m \u001b[0md\u001b[0m\u001b[0;34m[\u001b[0m\u001b[0;36m0\u001b[0m\u001b[0;34m]\u001b[0m\u001b[0;34m\u001b[0m\u001b[0m\n\u001b[0m",
      "\u001b[0;31mKeyError\u001b[0m: 0"
     ]
    }
   ],
   "source": [
    "d[0]"
   ]
  },
  {
   "cell_type": "code",
   "execution_count": 7,
   "metadata": {},
   "outputs": [
    {
     "data": {
      "text/plain": [
       "'anil'"
      ]
     },
     "execution_count": 7,
     "metadata": {},
     "output_type": "execute_result"
    }
   ],
   "source": [
    "d.get(\"name\")"
   ]
  },
  {
   "cell_type": "code",
   "execution_count": 8,
   "metadata": {},
   "outputs": [
    {
     "name": "stdout",
     "output_type": "stream",
     "text": [
      "anil\n",
      "anil\n"
     ]
    }
   ],
   "source": [
    "print d['name']\n",
    "print d.get(\"name\")"
   ]
  },
  {
   "cell_type": "code",
   "execution_count": 9,
   "metadata": {},
   "outputs": [
    {
     "name": "stdout",
     "output_type": "stream",
     "text": [
      "anil\n",
      "anil\n"
     ]
    },
    {
     "ename": "KeyError",
     "evalue": "'adhar'",
     "output_type": "error",
     "traceback": [
      "\u001b[0;31m---------------------------------------------------------------------------\u001b[0m",
      "\u001b[0;31mKeyError\u001b[0m                                  Traceback (most recent call last)",
      "\u001b[0;32m<ipython-input-9-d41e83cdff39>\u001b[0m in \u001b[0;36m<module>\u001b[0;34m()\u001b[0m\n\u001b[1;32m      2\u001b[0m \u001b[0;32mprint\u001b[0m \u001b[0md\u001b[0m\u001b[0;34m[\u001b[0m\u001b[0;34m'name'\u001b[0m\u001b[0;34m]\u001b[0m\u001b[0;34m\u001b[0m\u001b[0m\n\u001b[1;32m      3\u001b[0m \u001b[0;32mprint\u001b[0m \u001b[0md\u001b[0m\u001b[0;34m.\u001b[0m\u001b[0mget\u001b[0m\u001b[0;34m(\u001b[0m\u001b[0;34m\"name\"\u001b[0m\u001b[0;34m)\u001b[0m\u001b[0;34m\u001b[0m\u001b[0m\n\u001b[0;32m----> 4\u001b[0;31m \u001b[0;32mprint\u001b[0m \u001b[0md\u001b[0m\u001b[0;34m[\u001b[0m\u001b[0;34m'adhar'\u001b[0m\u001b[0;34m]\u001b[0m\u001b[0;34m\u001b[0m\u001b[0m\n\u001b[0m",
      "\u001b[0;31mKeyError\u001b[0m: 'adhar'"
     ]
    }
   ],
   "source": [
    "d={\"name\":\"anil\",\"age\":23,\"pan\":\"BDSW@ERTY\"}\n",
    "print d['name']\n",
    "print d.get(\"name\")\n",
    "print d['adhar']"
   ]
  },
  {
   "cell_type": "code",
   "execution_count": 10,
   "metadata": {},
   "outputs": [
    {
     "name": "stdout",
     "output_type": "stream",
     "text": [
      "anil\n",
      "anil\n",
      "None\n"
     ]
    }
   ],
   "source": [
    "d={\"name\":\"anil\",\"age\":23,\"pan\":\"BDSW@ERTY\"}\n",
    "print d['name']\n",
    "print d.get(\"name\")\n",
    "print d.get('adhar')"
   ]
  },
  {
   "cell_type": "code",
   "execution_count": 11,
   "metadata": {},
   "outputs": [
    {
     "name": "stdout",
     "output_type": "stream",
     "text": [
      "anil\n",
      "anil\n",
      "default\n"
     ]
    }
   ],
   "source": [
    "d={\"name\":\"anil\",\"age\":23,\"pan\":\"BDSW@ERTY\"}\n",
    "print d['name']\n",
    "print d.get(\"name\")\n",
    "print d.get('adhar',\"default\")"
   ]
  },
  {
   "cell_type": "code",
   "execution_count": 12,
   "metadata": {},
   "outputs": [
    {
     "name": "stdout",
     "output_type": "stream",
     "text": [
      "{'tuple': (1, 2, 3, 4), 'int': 10, 'comp': (1+2j), 'float': 1.2, 'list': [1, 2, 3, 4, 5], 'dic': {1: 2, 3: 4, 5: 6}}\n"
     ]
    }
   ],
   "source": [
    "d={\"int\":10,\"float\":1.2,\"list\":[1,2,3,4,5],\"tuple\":(1,2,3,4),\"comp\":1+2j,\"dic\":{1:2,3:4,5:6}}\n",
    "print d"
   ]
  },
  {
   "cell_type": "code",
   "execution_count": 13,
   "metadata": {},
   "outputs": [
    {
     "name": "stdout",
     "output_type": "stream",
     "text": [
      "[10, 20, 30, 405]\n",
      "(10, 20, 30, 40, 5)\n",
      "{'tuple': (1, 2, 3, 4), 'int': 10, 'comp': (1+2j), 'float': 1.2, 'list': [1, 2, 3, 4, 5], 'dic': {1: 2, 3: 4, 5: 6}}\n"
     ]
    }
   ],
   "source": [
    "l=[10,20,30,405]\n",
    "t=(10,20,30,40,5)\n",
    "print l\n",
    "print t\n",
    "d={\"int\":10,\"float\":1.2,\"list\":[1,2,3,4,5],\"tuple\":(1,2,3,4),\"comp\":1+2j,\"dic\":{1:2,3:4,5:6}}\n",
    "print d"
   ]
  },
  {
   "cell_type": "code",
   "execution_count": 14,
   "metadata": {},
   "outputs": [
    {
     "name": "stdout",
     "output_type": "stream",
     "text": [
      "[10, 20, 30, 405]\n",
      "(10, 20, 30, 40, 5)\n",
      "{'tuple': (1, 2, 3, 4), 'int': 10, 'comp': (1+2j), 'float': 1.2, 'list': [1, 2, 3, 4, 5], 'dic': {1: 2, 3: 4, 5: 6}}\n",
      "10\n",
      "20\n",
      "30\n",
      "405\n"
     ]
    }
   ],
   "source": [
    "l=[10,20,30,405]\n",
    "t=(10,20,30,40,5)\n",
    "print l\n",
    "print t\n",
    "d={\"int\":10,\"float\":1.2,\"list\":[1,2,3,4,5],\"tuple\":(1,2,3,4),\"comp\":1+2j,\"dic\":{1:2,3:4,5:6}}\n",
    "print d\n",
    "for i  in l:\n",
    "    print i"
   ]
  },
  {
   "cell_type": "code",
   "execution_count": 16,
   "metadata": {},
   "outputs": [
    {
     "name": "stdout",
     "output_type": "stream",
     "text": [
      "[10, 20, 30, 405]\n",
      "(10, 20, 30, 40, 5)\n",
      "{'tuple': (1, 2, 3, 4), 'int': 10, 'comp': (1+2j), 'float': 1.2, 'list': [1, 2, 3, 4, 5], 'dic': {1: 2, 3: 4, 5: 6}}\n",
      "10\n",
      "20\n",
      "30\n",
      "405\n",
      "iterating dict\n",
      "tuple\n",
      "int\n",
      "comp\n",
      "float\n",
      "list\n",
      "dic\n"
     ]
    }
   ],
   "source": [
    "l=[10,20,30,405]\n",
    "t=(10,20,30,40,5)\n",
    "print l\n",
    "print t\n",
    "d={\"int\":10,\"float\":1.2,\"list\":[1,2,3,4,5],\"tuple\":(1,2,3,4),\"comp\":1+2j,\"dic\":{1:2,3:4,5:6}}\n",
    "print d\n",
    "for i  in l:\n",
    "    print i\n",
    "print \"iterating dict\"\n",
    "for i in d:\n",
    "    print i"
   ]
  },
  {
   "cell_type": "code",
   "execution_count": 17,
   "metadata": {},
   "outputs": [
    {
     "name": "stdout",
     "output_type": "stream",
     "text": [
      "[10, 20, 30, 405]\n",
      "(10, 20, 30, 40, 5)\n",
      "{'tuple': (1, 2, 3, 4), 'int': 10, 'comp': (1+2j), 'float': 1.2, 'list': [1, 2, 3, 4, 5], 'dic': {1: 2, 3: 4, 5: 6}}\n",
      "10\n",
      "20\n",
      "30\n",
      "405\n",
      "iterating dict\n",
      "tuple (1, 2, 3, 4)\n",
      "int 10\n",
      "comp (1+2j)\n",
      "float 1.2\n",
      "list [1, 2, 3, 4, 5]\n",
      "dic {1: 2, 3: 4, 5: 6}\n"
     ]
    }
   ],
   "source": [
    "l=[10,20,30,405]\n",
    "t=(10,20,30,40,5)\n",
    "print l\n",
    "print t\n",
    "d={\"int\":10,\"float\":1.2,\"list\":[1,2,3,4,5],\"tuple\":(1,2,3,4),\"comp\":1+2j,\"dic\":{1:2,3:4,5:6}}\n",
    "print d\n",
    "for i  in l:\n",
    "    print i\n",
    "print \"iterating dict\"\n",
    "for i in d:\n",
    "    print i,d.get(i)"
   ]
  },
  {
   "cell_type": "code",
   "execution_count": 18,
   "metadata": {},
   "outputs": [
    {
     "name": "stdout",
     "output_type": "stream",
     "text": [
      "tuple (1, 2, 3, 4)\n",
      "int 10\n",
      "comp (1+2j)\n",
      "float 1.2\n",
      "list [1, 2, 3, 4, 5]\n",
      "dic {1: 2, 3: 4, 5: 6}\n"
     ]
    }
   ],
   "source": [
    "d={\"int\":10,\"float\":1.2,\"list\":[1,2,3,4,5],\"tuple\":(1,2,3,4),\"comp\":1+2j,\"dic\":{1:2,3:4,5:6}}\n",
    "for i in d:\n",
    "    print i,d.get(i)"
   ]
  },
  {
   "cell_type": "code",
   "execution_count": 19,
   "metadata": {
    "collapsed": true
   },
   "outputs": [],
   "source": [
    "d={1:\"int\",1.2:\"float\",1+2j:\"comp\",True:\"bool\",(1,2,3):\"tuple\"}"
   ]
  },
  {
   "cell_type": "code",
   "execution_count": 20,
   "metadata": {},
   "outputs": [
    {
     "data": {
      "text/plain": [
       "'bool'"
      ]
     },
     "execution_count": 20,
     "metadata": {},
     "output_type": "execute_result"
    }
   ],
   "source": [
    "d[1]"
   ]
  },
  {
   "cell_type": "code",
   "execution_count": 21,
   "metadata": {},
   "outputs": [
    {
     "name": "stdout",
     "output_type": "stream",
     "text": [
      "{1: 34, 3: 45}\n"
     ]
    }
   ],
   "source": [
    "d={1:12,3:45,1:34}\n",
    "print d"
   ]
  },
  {
   "cell_type": "code",
   "execution_count": 22,
   "metadata": {},
   "outputs": [
    {
     "name": "stdout",
     "output_type": "stream",
     "text": [
      "tuple\n"
     ]
    }
   ],
   "source": [
    "d={1:\"int\",1.2:\"float\",1+2j:\"comp\",True:\"bool\",(1,2,3):\"tuple\"}\n",
    "print d[(1,2,3)]"
   ]
  },
  {
   "cell_type": "code",
   "execution_count": 23,
   "metadata": {},
   "outputs": [
    {
     "ename": "TypeError",
     "evalue": "unhashable type: 'list'",
     "output_type": "error",
     "traceback": [
      "\u001b[0;31m---------------------------------------------------------------------------\u001b[0m",
      "\u001b[0;31mTypeError\u001b[0m                                 Traceback (most recent call last)",
      "\u001b[0;32m<ipython-input-23-90acca437a22>\u001b[0m in \u001b[0;36m<module>\u001b[0;34m()\u001b[0m\n\u001b[0;32m----> 1\u001b[0;31m \u001b[0md\u001b[0m\u001b[0;34m=\u001b[0m\u001b[0;34m{\u001b[0m\u001b[0;36m1\u001b[0m\u001b[0;34m:\u001b[0m\u001b[0;34m\"int\"\u001b[0m\u001b[0;34m,\u001b[0m\u001b[0;36m1.2\u001b[0m\u001b[0;34m:\u001b[0m\u001b[0;34m\"float\"\u001b[0m\u001b[0;34m,\u001b[0m\u001b[0;36m1\u001b[0m\u001b[0;34m+\u001b[0m\u001b[0;36m2j\u001b[0m\u001b[0;34m:\u001b[0m\u001b[0;34m\"comp\"\u001b[0m\u001b[0;34m,\u001b[0m\u001b[0mTrue\u001b[0m\u001b[0;34m:\u001b[0m\u001b[0;34m\"bool\"\u001b[0m\u001b[0;34m,\u001b[0m\u001b[0;34m(\u001b[0m\u001b[0;36m1\u001b[0m\u001b[0;34m,\u001b[0m\u001b[0;36m2\u001b[0m\u001b[0;34m,\u001b[0m\u001b[0;36m3\u001b[0m\u001b[0;34m)\u001b[0m\u001b[0;34m:\u001b[0m\u001b[0;34m\"tuple\"\u001b[0m\u001b[0;34m,\u001b[0m\u001b[0;34m[\u001b[0m\u001b[0;36m1\u001b[0m\u001b[0;34m,\u001b[0m\u001b[0;36m2\u001b[0m\u001b[0;34m,\u001b[0m\u001b[0;36m3\u001b[0m\u001b[0;34m,\u001b[0m\u001b[0;36m4\u001b[0m\u001b[0;34m]\u001b[0m\u001b[0;34m:\u001b[0m\u001b[0;34m\"list\"\u001b[0m\u001b[0;34m}\u001b[0m\u001b[0;34m\u001b[0m\u001b[0m\n\u001b[0m\u001b[1;32m      2\u001b[0m \u001b[0;32mprint\u001b[0m \u001b[0md\u001b[0m\u001b[0;34m[\u001b[0m\u001b[0;34m(\u001b[0m\u001b[0;36m1\u001b[0m\u001b[0;34m,\u001b[0m\u001b[0;36m2\u001b[0m\u001b[0;34m,\u001b[0m\u001b[0;36m3\u001b[0m\u001b[0;34m)\u001b[0m\u001b[0;34m]\u001b[0m\u001b[0;34m\u001b[0m\u001b[0m\n",
      "\u001b[0;31mTypeError\u001b[0m: unhashable type: 'list'"
     ]
    }
   ],
   "source": [
    "d={1:\"int\",1.2:\"float\",1+2j:\"comp\",True:\"bool\",(1,2,3):\"tuple\",[1,2,3,4]:\"list\"}\n",
    "print d[(1,2,3)]"
   ]
  },
  {
   "cell_type": "code",
   "execution_count": 24,
   "metadata": {},
   "outputs": [
    {
     "ename": "TypeError",
     "evalue": "unsupported operand type(s) for +: 'dict' and 'dict'",
     "output_type": "error",
     "traceback": [
      "\u001b[0;31m---------------------------------------------------------------------------\u001b[0m",
      "\u001b[0;31mTypeError\u001b[0m                                 Traceback (most recent call last)",
      "\u001b[0;32m<ipython-input-24-f03679ff4c71>\u001b[0m in \u001b[0;36m<module>\u001b[0;34m()\u001b[0m\n\u001b[1;32m      1\u001b[0m \u001b[0md1\u001b[0m\u001b[0;34m=\u001b[0m\u001b[0;34m{\u001b[0m\u001b[0;36m1\u001b[0m\u001b[0;34m:\u001b[0m\u001b[0;36m2\u001b[0m\u001b[0;34m,\u001b[0m\u001b[0;34m}\u001b[0m\u001b[0;34m\u001b[0m\u001b[0m\n\u001b[1;32m      2\u001b[0m \u001b[0md2\u001b[0m\u001b[0;34m=\u001b[0m\u001b[0;34m{\u001b[0m\u001b[0;36m3\u001b[0m\u001b[0;34m:\u001b[0m\u001b[0;36m4\u001b[0m\u001b[0;34m}\u001b[0m\u001b[0;34m\u001b[0m\u001b[0m\n\u001b[0;32m----> 3\u001b[0;31m \u001b[0;32mprint\u001b[0m \u001b[0md1\u001b[0m\u001b[0;34m+\u001b[0m\u001b[0md2\u001b[0m\u001b[0;34m\u001b[0m\u001b[0m\n\u001b[0m",
      "\u001b[0;31mTypeError\u001b[0m: unsupported operand type(s) for +: 'dict' and 'dict'"
     ]
    }
   ],
   "source": [
    "d1={1:2,}\n",
    "d2={3:4}\n",
    "print d1+d2"
   ]
  },
  {
   "cell_type": "code",
   "execution_count": 25,
   "metadata": {},
   "outputs": [
    {
     "ename": "TypeError",
     "evalue": "unsupported operand type(s) for -: 'dict' and 'dict'",
     "output_type": "error",
     "traceback": [
      "\u001b[0;31m---------------------------------------------------------------------------\u001b[0m",
      "\u001b[0;31mTypeError\u001b[0m                                 Traceback (most recent call last)",
      "\u001b[0;32m<ipython-input-25-85e8b104bae7>\u001b[0m in \u001b[0;36m<module>\u001b[0;34m()\u001b[0m\n\u001b[0;32m----> 1\u001b[0;31m \u001b[0;32mprint\u001b[0m \u001b[0md1\u001b[0m\u001b[0;34m-\u001b[0m\u001b[0md2\u001b[0m\u001b[0;34m\u001b[0m\u001b[0m\n\u001b[0m",
      "\u001b[0;31mTypeError\u001b[0m: unsupported operand type(s) for -: 'dict' and 'dict'"
     ]
    }
   ],
   "source": [
    "print d1-d2"
   ]
  },
  {
   "cell_type": "code",
   "execution_count": 26,
   "metadata": {},
   "outputs": [
    {
     "ename": "TypeError",
     "evalue": "unsupported operand type(s) for *: 'dict' and 'dict'",
     "output_type": "error",
     "traceback": [
      "\u001b[0;31m---------------------------------------------------------------------------\u001b[0m",
      "\u001b[0;31mTypeError\u001b[0m                                 Traceback (most recent call last)",
      "\u001b[0;32m<ipython-input-26-4697b7888aab>\u001b[0m in \u001b[0;36m<module>\u001b[0;34m()\u001b[0m\n\u001b[0;32m----> 1\u001b[0;31m \u001b[0;32mprint\u001b[0m \u001b[0md1\u001b[0m\u001b[0;34m*\u001b[0m\u001b[0md2\u001b[0m\u001b[0;34m\u001b[0m\u001b[0m\n\u001b[0m",
      "\u001b[0;31mTypeError\u001b[0m: unsupported operand type(s) for *: 'dict' and 'dict'"
     ]
    }
   ],
   "source": [
    "print d1*d2"
   ]
  },
  {
   "cell_type": "code",
   "execution_count": 27,
   "metadata": {},
   "outputs": [
    {
     "ename": "TypeError",
     "evalue": "unsupported operand type(s) for *: 'dict' and 'int'",
     "output_type": "error",
     "traceback": [
      "\u001b[0;31m---------------------------------------------------------------------------\u001b[0m",
      "\u001b[0;31mTypeError\u001b[0m                                 Traceback (most recent call last)",
      "\u001b[0;32m<ipython-input-27-8f8ff995b8be>\u001b[0m in \u001b[0;36m<module>\u001b[0;34m()\u001b[0m\n\u001b[0;32m----> 1\u001b[0;31m \u001b[0;32mprint\u001b[0m \u001b[0md1\u001b[0m\u001b[0;34m*\u001b[0m\u001b[0;36m2\u001b[0m\u001b[0;34m\u001b[0m\u001b[0m\n\u001b[0m",
      "\u001b[0;31mTypeError\u001b[0m: unsupported operand type(s) for *: 'dict' and 'int'"
     ]
    }
   ],
   "source": [
    "print d1*2"
   ]
  },
  {
   "cell_type": "code",
   "execution_count": 28,
   "metadata": {},
   "outputs": [
    {
     "data": {
      "text/plain": [
       "False"
      ]
     },
     "execution_count": 28,
     "metadata": {},
     "output_type": "execute_result"
    }
   ],
   "source": [
    "d1>d2"
   ]
  },
  {
   "cell_type": "code",
   "execution_count": 29,
   "metadata": {},
   "outputs": [
    {
     "name": "stdout",
     "output_type": "stream",
     "text": [
      "True\n"
     ]
    }
   ],
   "source": [
    "d1={1:10,2:20}\n",
    "d2={2:20,1:10}\n",
    "print d1==d2"
   ]
  },
  {
   "cell_type": "code",
   "execution_count": 30,
   "metadata": {},
   "outputs": [
    {
     "name": "stdout",
     "output_type": "stream",
     "text": [
      "False\n"
     ]
    }
   ],
   "source": [
    "d1={1:10,2:20}\n",
    "d2={2:20,1:100}\n",
    "print d1==d2"
   ]
  },
  {
   "cell_type": "code",
   "execution_count": 31,
   "metadata": {},
   "outputs": [
    {
     "name": "stdout",
     "output_type": "stream",
     "text": [
      "False\n"
     ]
    }
   ],
   "source": [
    "d1={1:10,2:20}\n",
    "d2={2:20,1:100}\n",
    "print d1>d2"
   ]
  },
  {
   "cell_type": "code",
   "execution_count": 32,
   "metadata": {},
   "outputs": [
    {
     "name": "stdout",
     "output_type": "stream",
     "text": [
      "True\n"
     ]
    }
   ],
   "source": [
    "d1={1:10,2:20}\n",
    "d2={2:20,1:100}\n",
    "print d2>d1"
   ]
  },
  {
   "cell_type": "code",
   "execution_count": 33,
   "metadata": {},
   "outputs": [
    {
     "name": "stdout",
     "output_type": "stream",
     "text": [
      "True\n"
     ]
    }
   ],
   "source": [
    "d1={1:10,2:20,3:3000}\n",
    "d2={2:20,1:100,3:30}\n",
    "print d2>d1"
   ]
  },
  {
   "cell_type": "code",
   "execution_count": 34,
   "metadata": {},
   "outputs": [
    {
     "name": "stdout",
     "output_type": "stream",
     "text": [
      "{'age': 23, 'name': 'anil kumar', 'adhar': 'asfdgdhfg'}\n"
     ]
    }
   ],
   "source": [
    "person={\"name\":\"anil kumar\",\"age\":23,\"adhar\":\"asfdgdhfg\"}\n",
    "address={\"street\":\"maithrivana\",\"state\":\"TS\",\"city\":\"hyd\"}\n",
    "print person"
   ]
  },
  {
   "cell_type": "code",
   "execution_count": 35,
   "metadata": {},
   "outputs": [
    {
     "name": "stdout",
     "output_type": "stream",
     "text": [
      "{'age': 23, 'name': 'anil kumar', 'adhar': 'asfdgdhfg'}\n",
      "{'age': 23, 'address': 'ad1', 'name': 'anil kumar', 'adhar': 'asfdgdhfg'}\n"
     ]
    }
   ],
   "source": [
    "person={\"name\":\"anil kumar\",\"age\":23,\"adhar\":\"asfdgdhfg\"}\n",
    "address={\"street\":\"maithrivana\",\"state\":\"TS\",\"city\":\"hyd\"}\n",
    "print person\n",
    "person['address']=\"ad1\"\n",
    "print person"
   ]
  },
  {
   "cell_type": "code",
   "execution_count": 36,
   "metadata": {},
   "outputs": [
    {
     "name": "stdout",
     "output_type": "stream",
     "text": [
      "{'age': 23, 'name': 'anil kumar', 'adhar': 'asfdgdhfg'}\n",
      "{'age': 23, 'address': 'ad1', 'name': 'anil kumar', 'adhar': 'asfdgdhfg'}\n"
     ]
    }
   ],
   "source": [
    "person={\"name\":\"anil kumar\",\"age\":23,\"adhar\":\"asfdgdhfg\"}\n",
    "print person\n",
    "person.setdefault(\"address\",\"ad1\")\n",
    "print person"
   ]
  },
  {
   "cell_type": "code",
   "execution_count": 37,
   "metadata": {},
   "outputs": [
    {
     "name": "stdout",
     "output_type": "stream",
     "text": [
      "{'age': 23, 'name': 'anil kumar', 'adhar': 'asfdgdhfg'}\n",
      "{'age': 23, 'address': 'ad1', 'name': 'anil kumar', 'adhar': 'asfdgdhfg'}\n"
     ]
    }
   ],
   "source": [
    "person={\"name\":\"anil kumar\",\"age\":23,\"adhar\":\"asfdgdhfg\"}\n",
    "print person\n",
    "person.update({\"address\":\"ad1\"})\n",
    "print person"
   ]
  },
  {
   "cell_type": "code",
   "execution_count": 38,
   "metadata": {},
   "outputs": [
    {
     "name": "stdout",
     "output_type": "stream",
     "text": [
      "{'age': 23, 'name': 'anil kumar', 'adhar': 'asfdgdhfg'}\n",
      "{'city': 'hyd', 'state': 'TS', 'street': 'maithrivana', 'name': 'anil kumar', 'age': 23, 'adhar': 'asfdgdhfg'}\n"
     ]
    }
   ],
   "source": [
    "person={\"name\":\"anil kumar\",\"age\":23,\"adhar\":\"asfdgdhfg\"}\n",
    "address={\"street\":\"maithrivana\",\"state\":\"TS\",\"city\":\"hyd\"}\n",
    "print person\n",
    "person.update(address)\n",
    "print person"
   ]
  },
  {
   "cell_type": "code",
   "execution_count": 40,
   "metadata": {},
   "outputs": [
    {
     "name": "stdout",
     "output_type": "stream",
     "text": [
      "{'age': 23, 'name': 'anil kumar', 'adhar': 'asfdgdhfg'}\n",
      "{'city': 'hyd', 'state': 'TS', 'street': 'maithrivana', 'name': 'anil kumar', 'age': 23, 'adhar': 'asfdgdhfg'}\n",
      "{'city': 'hyd', 'state': 'TS', 'street': 'maithrivana'}\n"
     ]
    }
   ],
   "source": [
    "person={\"name\":\"anil kumar\",\"age\":23,\"adhar\":\"asfdgdhfg\"}\n",
    "address={\"street\":\"maithrivana\",\"state\":\"TS\",\"city\":\"hyd\"}\n",
    "print person\n",
    "person.update(address)\n",
    "print person\n",
    "print address"
   ]
  },
  {
   "cell_type": "code",
   "execution_count": 42,
   "metadata": {},
   "outputs": [
    {
     "name": "stdout",
     "output_type": "stream",
     "text": [
      "{'cell': 9676622023, 'age': 23, 'name': 'anil kumar', 'adhar': 'asfdgdhfg'}\n"
     ]
    }
   ],
   "source": [
    "person={\"name\":\"anil kumar\",\"age\":23,\"adhar\":\"asfdgdhfg\"}\n",
    "person.update({\"cell\":9676622023})\n",
    "print person             "
   ]
  },
  {
   "cell_type": "code",
   "execution_count": 43,
   "metadata": {},
   "outputs": [
    {
     "name": "stdout",
     "output_type": "stream",
     "text": [
      "{'age': 23, 'name': 9676622023, 'adhar': 'asfdgdhfg'}\n"
     ]
    }
   ],
   "source": [
    "person={\"name\":\"anil kumar\",\"age\":23,\"adhar\":\"asfdgdhfg\"}\n",
    "person.update({\"name\":9676622023})\n",
    "print person             "
   ]
  },
  {
   "cell_type": "code",
   "execution_count": 44,
   "metadata": {},
   "outputs": [
    {
     "name": "stdout",
     "output_type": "stream",
     "text": [
      "True\n",
      "{'age': 23, 'name': 9676622023, 'adhar': 'asfdgdhfg'}\n"
     ]
    }
   ],
   "source": [
    "person={\"name\":\"anil kumar\",\"age\":23,\"adhar\":\"asfdgdhfg\"}\n",
    "print \"name\" in person\n",
    "person.update({\"name\":9676622023})\n",
    "print person             "
   ]
  },
  {
   "cell_type": "code",
   "execution_count": 45,
   "metadata": {},
   "outputs": [
    {
     "name": "stdout",
     "output_type": "stream",
     "text": [
      "False\n",
      "{'age': 23, 'name': 9676622023, 'adhar': 'asfdgdhfg'}\n"
     ]
    }
   ],
   "source": [
    "person={\"name\":\"anil kumar\",\"age\":23,\"adhar\":\"asfdgdhfg\"}\n",
    "print \"name\" not in person\n",
    "person.update({\"name\":9676622023})\n",
    "print person             "
   ]
  },
  {
   "cell_type": "code",
   "execution_count": 46,
   "metadata": {},
   "outputs": [
    {
     "name": "stdout",
     "output_type": "stream",
     "text": [
      "False\n",
      "key: name already exist\n",
      "{'age': 23, 'name': 'anil kumar', 'adhar': 'asfdgdhfg'}\n"
     ]
    }
   ],
   "source": [
    "person={\"name\":\"anil kumar\",\"age\":23,\"adhar\":\"asfdgdhfg\"}\n",
    "print \"name\" not in person\n",
    "if \"name\" not in person:\n",
    "    person.update({\"name\":9676622023})\n",
    "else:\n",
    "    print \"key: name already exist\"\n",
    "print person             "
   ]
  },
  {
   "cell_type": "code",
   "execution_count": 47,
   "metadata": {},
   "outputs": [
    {
     "name": "stdout",
     "output_type": "stream",
     "text": [
      "False\n",
      "key: name already exist\n",
      "{'age': 23, 'name': 'anil kumar', 'adhar': 'asfdgdhfg'}\n"
     ]
    }
   ],
   "source": [
    "person={\"name\":\"anil kumar\",\"age\":23,\"adhar\":\"asfdgdhfg\"}\n",
    "print \"name\" not in person\n",
    "if  not person.has_key(\"name\"):\n",
    "    person.update({\"name\":9676622023})\n",
    "else:\n",
    "    print \"key: name already exist\"\n",
    "print person             "
   ]
  },
  {
   "cell_type": "code",
   "execution_count": 48,
   "metadata": {},
   "outputs": [
    {
     "data": {
      "text/plain": [
       "True"
      ]
     },
     "execution_count": 48,
     "metadata": {},
     "output_type": "execute_result"
    }
   ],
   "source": [
    "person.has_key(\"name\")"
   ]
  },
  {
   "cell_type": "code",
   "execution_count": 49,
   "metadata": {},
   "outputs": [
    {
     "data": {
      "text/plain": [
       "[23, 'anil kumar', 'asfdgdhfg']"
      ]
     },
     "execution_count": 49,
     "metadata": {},
     "output_type": "execute_result"
    }
   ],
   "source": [
    "person={\"name\":\"anil kumar\",\"age\":23,\"adhar\":\"asfdgdhfg\"}\n",
    "person.values()"
   ]
  },
  {
   "cell_type": "code",
   "execution_count": 50,
   "metadata": {},
   "outputs": [
    {
     "data": {
      "text/plain": [
       "['age', 'name', 'adhar']"
      ]
     },
     "execution_count": 50,
     "metadata": {},
     "output_type": "execute_result"
    }
   ],
   "source": [
    "person={\"name\":\"anil kumar\",\"age\":23,\"adhar\":\"asfdgdhfg\"}\n",
    "person.keys()"
   ]
  },
  {
   "cell_type": "code",
   "execution_count": 51,
   "metadata": {},
   "outputs": [
    {
     "name": "stdout",
     "output_type": "stream",
     "text": [
      "True\n"
     ]
    }
   ],
   "source": [
    "person={\"name\":\"anil kumar\",\"age\":23,\"adhar\":\"asfdgdhfg\"}\n",
    "print \"anil kumar\" in person.values()"
   ]
  },
  {
   "cell_type": "code",
   "execution_count": 52,
   "metadata": {},
   "outputs": [
    {
     "name": "stdout",
     "output_type": "stream",
     "text": [
      "True\n"
     ]
    }
   ],
   "source": [
    "person={\"name\":\"anil kumar\",\"age\":23,\"adhar\":\"asfdgdhfg\"}\n",
    "print \"name\" in person.keys()"
   ]
  },
  {
   "cell_type": "code",
   "execution_count": 53,
   "metadata": {},
   "outputs": [
    {
     "name": "stdout",
     "output_type": "stream",
     "text": [
      "{}\n"
     ]
    }
   ],
   "source": [
    "person={\"name\":\"anil kumar\",\"age\":23,\"adhar\":\"asfdgdhfg\"}\n",
    "person.clear()\n",
    "print person"
   ]
  },
  {
   "cell_type": "code",
   "execution_count": 54,
   "metadata": {},
   "outputs": [
    {
     "name": "stdout",
     "output_type": "stream",
     "text": [
      "{}\n",
      "{}\n"
     ]
    }
   ],
   "source": [
    "person={\"name\":\"anil kumar\",\"age\":23,\"adhar\":\"asfdgdhfg\"}\n",
    "p1=person\n",
    "person.clear()\n",
    "print person\n",
    "print p1"
   ]
  },
  {
   "cell_type": "code",
   "execution_count": 55,
   "metadata": {},
   "outputs": [
    {
     "name": "stdout",
     "output_type": "stream",
     "text": [
      "{}\n",
      "{}\n",
      "{'age': 23, 'name': 'anil kumar', 'adhar': 'asfdgdhfg'}\n"
     ]
    }
   ],
   "source": [
    "person={\"name\":\"anil kumar\",\"age\":23,\"adhar\":\"asfdgdhfg\"}\n",
    "p1=person\n",
    "p2=person.copy()\n",
    "person.clear()\n",
    "print person\n",
    "print p1\n",
    "print p2"
   ]
  },
  {
   "cell_type": "code",
   "execution_count": 56,
   "metadata": {},
   "outputs": [
    {
     "name": "stdout",
     "output_type": "stream",
     "text": [
      "[1, 2, 3]\n"
     ]
    }
   ],
   "source": [
    "l1=[1,2,3,4]\n",
    "l2=l1\n",
    "l1.pop()\n",
    "print l2"
   ]
  },
  {
   "cell_type": "code",
   "execution_count": 57,
   "metadata": {},
   "outputs": [
    {
     "name": "stdout",
     "output_type": "stream",
     "text": [
      "[1, 2, 3]\n",
      "[1, 2, 3, 4]\n"
     ]
    }
   ],
   "source": [
    "l1=[1,2,3,4]\n",
    "l2=l1\n",
    "l3=l1[:]\n",
    "l1.pop()\n",
    "print l2\n",
    "print l3"
   ]
  },
  {
   "cell_type": "code",
   "execution_count": 58,
   "metadata": {},
   "outputs": [
    {
     "name": "stdout",
     "output_type": "stream",
     "text": [
      "{'age': 'dummy value', 'apn': 'dummy value', 'name': 'dummy value', 'adhar': 'dummy value'}\n"
     ]
    }
   ],
   "source": [
    "keys=[\"name\",\"age\",\"apn\",\"adhar\"]\n",
    "d={}\n",
    "d1=d.fromkeys(keys,\"dummy value\")\n",
    "print d1"
   ]
  },
  {
   "cell_type": "code",
   "execution_count": 59,
   "metadata": {},
   "outputs": [
    {
     "ename": "TypeError",
     "evalue": "pop expected at least 1 arguments, got 0",
     "output_type": "error",
     "traceback": [
      "\u001b[0;31m---------------------------------------------------------------------------\u001b[0m",
      "\u001b[0;31mTypeError\u001b[0m                                 Traceback (most recent call last)",
      "\u001b[0;32m<ipython-input-59-1f576f4087ec>\u001b[0m in \u001b[0;36m<module>\u001b[0;34m()\u001b[0m\n\u001b[1;32m      1\u001b[0m \u001b[0mperson\u001b[0m\u001b[0;34m=\u001b[0m\u001b[0;34m{\u001b[0m\u001b[0;34m\"name\"\u001b[0m\u001b[0;34m:\u001b[0m\u001b[0;34m\"anil kumar\"\u001b[0m\u001b[0;34m,\u001b[0m\u001b[0;34m\"age\"\u001b[0m\u001b[0;34m:\u001b[0m\u001b[0;36m23\u001b[0m\u001b[0;34m,\u001b[0m\u001b[0;34m\"adhar\"\u001b[0m\u001b[0;34m:\u001b[0m\u001b[0;34m\"asfdgdhfg\"\u001b[0m\u001b[0;34m}\u001b[0m\u001b[0;34m\u001b[0m\u001b[0m\n\u001b[0;32m----> 2\u001b[0;31m \u001b[0mp1\u001b[0m\u001b[0;34m=\u001b[0m\u001b[0mperson\u001b[0m\u001b[0;34m.\u001b[0m\u001b[0mpop\u001b[0m\u001b[0;34m(\u001b[0m\u001b[0;34m)\u001b[0m\u001b[0;34m\u001b[0m\u001b[0m\n\u001b[0m\u001b[1;32m      3\u001b[0m \u001b[0;32mprint\u001b[0m \u001b[0mp1\u001b[0m\u001b[0;34m\u001b[0m\u001b[0m\n\u001b[1;32m      4\u001b[0m \u001b[0;32mprint\u001b[0m \u001b[0mperson\u001b[0m\u001b[0;34m\u001b[0m\u001b[0m\n",
      "\u001b[0;31mTypeError\u001b[0m: pop expected at least 1 arguments, got 0"
     ]
    }
   ],
   "source": [
    "person={\"name\":\"anil kumar\",\"age\":23,\"adhar\":\"asfdgdhfg\"}\n",
    "p1=person.pop()\n",
    "print p1\n",
    "print person"
   ]
  },
  {
   "cell_type": "code",
   "execution_count": 60,
   "metadata": {},
   "outputs": [
    {
     "name": "stdout",
     "output_type": "stream",
     "text": [
      "23\n",
      "{'name': 'anil kumar', 'adhar': 'asfdgdhfg'}\n"
     ]
    }
   ],
   "source": [
    "person={\"name\":\"anil kumar\",\"age\":23,\"adhar\":\"asfdgdhfg\"}\n",
    "p1=person.pop(\"age\")\n",
    "print p1\n",
    "print person"
   ]
  },
  {
   "cell_type": "code",
   "execution_count": 61,
   "metadata": {},
   "outputs": [
    {
     "name": "stdout",
     "output_type": "stream",
     "text": [
      "('age', 23)\n",
      "{'name': 'anil kumar', 'adhar': 'asfdgdhfg'}\n"
     ]
    }
   ],
   "source": [
    "person={\"name\":\"anil kumar\",\"age\":23,\"adhar\":\"asfdgdhfg\"}\n",
    "p1=person.popitem()\n",
    "print p1\n",
    "print person"
   ]
  },
  {
   "cell_type": "code",
   "execution_count": 62,
   "metadata": {},
   "outputs": [
    {
     "ename": "KeyError",
     "evalue": "'pan'",
     "output_type": "error",
     "traceback": [
      "\u001b[0;31m---------------------------------------------------------------------------\u001b[0m",
      "\u001b[0;31mKeyError\u001b[0m                                  Traceback (most recent call last)",
      "\u001b[0;32m<ipython-input-62-7a25563023ae>\u001b[0m in \u001b[0;36m<module>\u001b[0;34m()\u001b[0m\n\u001b[1;32m      1\u001b[0m \u001b[0mperson\u001b[0m\u001b[0;34m=\u001b[0m\u001b[0;34m{\u001b[0m\u001b[0;34m\"name\"\u001b[0m\u001b[0;34m:\u001b[0m\u001b[0;34m\"anil kumar\"\u001b[0m\u001b[0;34m,\u001b[0m\u001b[0;34m\"age\"\u001b[0m\u001b[0;34m:\u001b[0m\u001b[0;36m23\u001b[0m\u001b[0;34m,\u001b[0m\u001b[0;34m\"adhar\"\u001b[0m\u001b[0;34m:\u001b[0m\u001b[0;34m\"asfdgdhfg\"\u001b[0m\u001b[0;34m}\u001b[0m\u001b[0;34m\u001b[0m\u001b[0m\n\u001b[0;32m----> 2\u001b[0;31m \u001b[0mp1\u001b[0m\u001b[0;34m=\u001b[0m\u001b[0mperson\u001b[0m\u001b[0;34m.\u001b[0m\u001b[0mpop\u001b[0m\u001b[0;34m(\u001b[0m\u001b[0;34m\"pan\"\u001b[0m\u001b[0;34m)\u001b[0m\u001b[0;34m\u001b[0m\u001b[0m\n\u001b[0m\u001b[1;32m      3\u001b[0m \u001b[0;32mprint\u001b[0m \u001b[0mp1\u001b[0m\u001b[0;34m\u001b[0m\u001b[0m\n\u001b[1;32m      4\u001b[0m \u001b[0;32mprint\u001b[0m \u001b[0mperson\u001b[0m\u001b[0;34m\u001b[0m\u001b[0m\n",
      "\u001b[0;31mKeyError\u001b[0m: 'pan'"
     ]
    }
   ],
   "source": [
    "person={\"name\":\"anil kumar\",\"age\":23,\"adhar\":\"asfdgdhfg\"}\n",
    "p1=person.pop(\"pan\")\n",
    "print p1\n",
    "print person"
   ]
  },
  {
   "cell_type": "code",
   "execution_count": 64,
   "metadata": {},
   "outputs": [
    {
     "name": "stdout",
     "output_type": "stream",
     "text": [
      "age\n",
      "name\n",
      "adhar\n"
     ]
    }
   ],
   "source": [
    "person={\"name\":\"anil kumar\",\"age\":23,\"adhar\":\"asfdgdhfg\"}\n",
    "for i in person:\n",
    "    print i"
   ]
  },
  {
   "cell_type": "code",
   "execution_count": 65,
   "metadata": {},
   "outputs": [
    {
     "name": "stdout",
     "output_type": "stream",
     "text": [
      "age 23\n",
      "name anil kumar\n",
      "adhar asfdgdhfg\n"
     ]
    }
   ],
   "source": [
    "person={\"name\":\"anil kumar\",\"age\":23,\"adhar\":\"asfdgdhfg\"}\n",
    "for i in person:\n",
    "    print i,person[i]"
   ]
  },
  {
   "cell_type": "code",
   "execution_count": 66,
   "metadata": {},
   "outputs": [
    {
     "data": {
      "text/plain": [
       "[('age', 23), ('name', 'anil kumar'), ('adhar', 'asfdgdhfg')]"
      ]
     },
     "execution_count": 66,
     "metadata": {},
     "output_type": "execute_result"
    }
   ],
   "source": [
    "person={\"name\":\"anil kumar\",\"age\":23,\"adhar\":\"asfdgdhfg\"}\n",
    "person.items()"
   ]
  },
  {
   "cell_type": "code",
   "execution_count": 67,
   "metadata": {},
   "outputs": [
    {
     "name": "stdout",
     "output_type": "stream",
     "text": [
      "('age', 23)\n",
      "('name', 'anil kumar')\n",
      "('adhar', 'asfdgdhfg')\n"
     ]
    }
   ],
   "source": [
    "person={\"name\":\"anil kumar\",\"age\":23,\"adhar\":\"asfdgdhfg\"}\n",
    "person.items()\n",
    "for i in person.items():\n",
    "    print i"
   ]
  },
  {
   "cell_type": "code",
   "execution_count": 68,
   "metadata": {},
   "outputs": [
    {
     "name": "stdout",
     "output_type": "stream",
     "text": [
      "age 23\n",
      "name anil kumar\n",
      "adhar asfdgdhfg\n"
     ]
    }
   ],
   "source": [
    "person={\"name\":\"anil kumar\",\"age\":23,\"adhar\":\"asfdgdhfg\"}\n",
    "person.items()\n",
    "for i in person.items():\n",
    "    print i[0],i[1]"
   ]
  },
  {
   "cell_type": "code",
   "execution_count": 69,
   "metadata": {},
   "outputs": [
    {
     "name": "stdout",
     "output_type": "stream",
     "text": [
      "age 23\n",
      "name anil kumar\n",
      "adhar asfdgdhfg\n"
     ]
    }
   ],
   "source": [
    "person={\"name\":\"anil kumar\",\"age\":23,\"adhar\":\"asfdgdhfg\"}\n",
    "person.items()\n",
    "for i,j in person.items():\n",
    "    print i,j"
   ]
  },
  {
   "cell_type": "code",
   "execution_count": 70,
   "metadata": {},
   "outputs": [
    {
     "name": "stdout",
     "output_type": "stream",
     "text": [
      "age 23\n",
      "name anil kumar\n",
      "adhar asfdgdhfg\n"
     ]
    }
   ],
   "source": [
    "person={\"name\":\"anil kumar\",\"age\":23,\"adhar\":\"asfdgdhfg\"}\n",
    "person.items()\n",
    "for key,value in person.items():\n",
    "    print key, value"
   ]
  },
  {
   "cell_type": "code",
   "execution_count": 72,
   "metadata": {},
   "outputs": [
    {
     "name": "stdout",
     "output_type": "stream",
     "text": [
      "items\n",
      "age 23\n",
      "name anil kumar\n",
      "adhar asfdgdhfg\n",
      "iteritems\n",
      "age 23\n",
      "name anil kumar\n",
      "adhar asfdgdhfg\n",
      "viewitems\n",
      "age 23\n",
      "name anil kumar\n",
      "adhar asfdgdhfg\n"
     ]
    }
   ],
   "source": [
    "person={\"name\":\"anil kumar\",\"age\":23,\"adhar\":\"asfdgdhfg\"}\n",
    "person.items()\n",
    "print \"items\"\n",
    "for key,value in person.items():\n",
    "    print key, value\n",
    "print \"iteritems\"\n",
    "for key,value in person.iteritems():\n",
    "    print key, value\n",
    "print \"viewitems\"\n",
    "for key,value in person.viewitems():\n",
    "    print key, value"
   ]
  },
  {
   "cell_type": "code",
   "execution_count": 73,
   "metadata": {},
   "outputs": [
    {
     "name": "stdout",
     "output_type": "stream",
     "text": [
      "[('age', 23), ('name', 'anil kumar'), ('adhar', 'asfdgdhfg')]\n",
      "<dictionary-itemiterator object at 0x7f9964656af8>\n",
      "dict_items([('age', 23), ('name', 'anil kumar'), ('adhar', 'asfdgdhfg')])\n"
     ]
    }
   ],
   "source": [
    "person={\"name\":\"anil kumar\",\"age\":23,\"adhar\":\"asfdgdhfg\"}\n",
    "print person.items()\n",
    "print person.iteritems()\n",
    "print person.viewitems()"
   ]
  },
  {
   "cell_type": "code",
   "execution_count": 74,
   "metadata": {},
   "outputs": [
    {
     "name": "stdout",
     "output_type": "stream",
     "text": [
      "('age', 23)\n",
      "('name', 'anil kumar')\n",
      "('adhar', 'asfdgdhfg')\n",
      "******************************\n",
      "('age', 23)\n",
      "('name', 'anil kumar')\n",
      "('adhar', 'asfdgdhfg')\n",
      "##############################\n",
      "('age', 23)\n",
      "('name', 'anil kumar')\n",
      "('adhar', 'asfdgdhfg')\n"
     ]
    }
   ],
   "source": [
    "person={\"name\":\"anil kumar\",\"age\":23,\"adhar\":\"asfdgdhfg\"}\n",
    "i=person.items()\n",
    "ii=person.iteritems()\n",
    "vi=person.viewitems()\n",
    "for j in i:\n",
    "    print j\n",
    "print \"*\"*30\n",
    "for j in ii:\n",
    "    print j\n",
    "print \"#\"*30\n",
    "for j in vi:\n",
    "    print j"
   ]
  },
  {
   "cell_type": "code",
   "execution_count": 75,
   "metadata": {},
   "outputs": [
    {
     "name": "stdout",
     "output_type": "stream",
     "text": [
      "[('age', 23), ('name', 'anil kumar'), ('adhar', 'asfdgdhfg')]\n",
      "after updationi\n",
      "[('age', 23), ('name', 'anil kumar'), ('adhar', 'asfdgdhfg')]\n"
     ]
    }
   ],
   "source": [
    "person={\"name\":\"anil kumar\",\"age\":23,\"adhar\":\"asfdgdhfg\"}\n",
    "i=person.items()\n",
    "print i\n",
    "ii=person.iteritems()\n",
    "vi=person.viewitems()\n",
    "address={\"street\":\"maithrivana\",\"state\":\"TS\",\"city\":\"hyd\"}\n",
    "person.update(address)\n",
    "print \"after updationi\"\n",
    "print i"
   ]
  },
  {
   "cell_type": "code",
   "execution_count": 76,
   "metadata": {},
   "outputs": [
    {
     "name": "stdout",
     "output_type": "stream",
     "text": [
      "<dictionary-itemiterator object at 0x7f9964656af8>\n",
      "after updationi\n",
      "<dictionary-itemiterator object at 0x7f9964656af8>\n"
     ]
    }
   ],
   "source": [
    "person={\"name\":\"anil kumar\",\"age\":23,\"adhar\":\"asfdgdhfg\"}\n",
    "i=person.items()\n",
    "\n",
    "ii=person.iteritems()\n",
    "print ii\n",
    "vi=person.viewitems()\n",
    "address={\"street\":\"maithrivana\",\"state\":\"TS\",\"city\":\"hyd\"}\n",
    "person.update(address)\n",
    "print \"after updationi\"\n",
    "print ii"
   ]
  },
  {
   "cell_type": "code",
   "execution_count": 77,
   "metadata": {},
   "outputs": [
    {
     "name": "stdout",
     "output_type": "stream",
     "text": [
      "<dictionary-itemiterator object at 0x7f9964656d60>\n",
      "after updationi\n",
      "<dictionary-itemiterator object at 0x7f9964656d60>\n"
     ]
    },
    {
     "ename": "RuntimeError",
     "evalue": "dictionary changed size during iteration",
     "output_type": "error",
     "traceback": [
      "\u001b[0;31m---------------------------------------------------------------------------\u001b[0m",
      "\u001b[0;31mRuntimeError\u001b[0m                              Traceback (most recent call last)",
      "\u001b[0;32m<ipython-input-77-426bcbdcaf8c>\u001b[0m in \u001b[0;36m<module>\u001b[0;34m()\u001b[0m\n\u001b[1;32m      9\u001b[0m \u001b[0;32mprint\u001b[0m \u001b[0;34m\"after updationi\"\u001b[0m\u001b[0;34m\u001b[0m\u001b[0m\n\u001b[1;32m     10\u001b[0m \u001b[0;32mprint\u001b[0m \u001b[0mii\u001b[0m\u001b[0;34m\u001b[0m\u001b[0m\n\u001b[0;32m---> 11\u001b[0;31m \u001b[0;32mfor\u001b[0m \u001b[0mj\u001b[0m \u001b[0;32min\u001b[0m \u001b[0mii\u001b[0m\u001b[0;34m:\u001b[0m\u001b[0;34m\u001b[0m\u001b[0m\n\u001b[0m\u001b[1;32m     12\u001b[0m     \u001b[0;32mprint\u001b[0m \u001b[0mj\u001b[0m\u001b[0;34m\u001b[0m\u001b[0m\n",
      "\u001b[0;31mRuntimeError\u001b[0m: dictionary changed size during iteration"
     ]
    }
   ],
   "source": [
    "person={\"name\":\"anil kumar\",\"age\":23,\"adhar\":\"asfdgdhfg\"}\n",
    "i=person.items()\n",
    "\n",
    "ii=person.iteritems()\n",
    "print ii\n",
    "vi=person.viewitems()\n",
    "address={\"street\":\"maithrivana\",\"state\":\"TS\",\"city\":\"hyd\"}\n",
    "person.update(address)\n",
    "print \"after updationi\"\n",
    "print ii\n",
    "for j in ii:\n",
    "    print j"
   ]
  },
  {
   "cell_type": "code",
   "execution_count": 78,
   "metadata": {},
   "outputs": [
    {
     "name": "stdout",
     "output_type": "stream",
     "text": [
      "<dictionary-itemiterator object at 0x7f9964656e68>\n",
      "('age', 23)\n",
      "('name', 'anil kumar')\n",
      "('adhar', 'asfdgdhfg')\n",
      "iteratin second time\n"
     ]
    }
   ],
   "source": [
    "person={\"name\":\"anil kumar\",\"age\":23,\"adhar\":\"asfdgdhfg\"}\n",
    "ii=person.iteritems()\n",
    "print ii\n",
    "for j in ii:\n",
    "    print j\n",
    "print \"iteratin second time\"\n",
    "for j in ii:\n",
    "    print j"
   ]
  },
  {
   "cell_type": "code",
   "execution_count": 79,
   "metadata": {},
   "outputs": [
    {
     "name": "stdout",
     "output_type": "stream",
     "text": [
      "dict_items([('age', 23), ('name', 'anil kumar'), ('adhar', 'asfdgdhfg')])\n",
      "('age', 23)\n",
      "('name', 'anil kumar')\n",
      "('adhar', 'asfdgdhfg')\n",
      "iteratin second time\n",
      "('age', 23)\n",
      "('name', 'anil kumar')\n",
      "('adhar', 'asfdgdhfg')\n"
     ]
    }
   ],
   "source": [
    "person={\"name\":\"anil kumar\",\"age\":23,\"adhar\":\"asfdgdhfg\"}\n",
    "vi=person.viewitems()\n",
    "print vi\n",
    "for j in vi:\n",
    "    print j\n",
    "print \"iteratin second time\"\n",
    "for j in vi:\n",
    "    print j"
   ]
  },
  {
   "cell_type": "code",
   "execution_count": 80,
   "metadata": {},
   "outputs": [
    {
     "name": "stdout",
     "output_type": "stream",
     "text": [
      "dict_items([('age', 23), ('name', 'anil kumar'), ('adhar', 'asfdgdhfg')])\n",
      "('age', 23)\n",
      "('name', 'anil kumar')\n",
      "('adhar', 'asfdgdhfg')\n",
      "iteratin second time\n",
      "('age', 23)\n",
      "('name', 'anil kumar')\n",
      "('adhar', 'asfdgdhfg')\n",
      "After updation\n",
      "('city', 'hyd')\n",
      "('state', 'TS')\n",
      "('street', 'maithrivana')\n",
      "('name', 'anil kumar')\n",
      "('age', 23)\n",
      "('adhar', 'asfdgdhfg')\n"
     ]
    }
   ],
   "source": [
    "person={\"name\":\"anil kumar\",\"age\":23,\"adhar\":\"asfdgdhfg\"}\n",
    "vi=person.viewitems()\n",
    "print vi\n",
    "for j in vi:\n",
    "    print j\n",
    "print \"iteratin second time\"\n",
    "for j in vi:\n",
    "    print j\n",
    "address={\"street\":\"maithrivana\",\"state\":\"TS\",\"city\":\"hyd\"}\n",
    "person.update(address)\n",
    "print \"After updation\"\n",
    "for j in vi:\n",
    "    print j"
   ]
  },
  {
   "cell_type": "code",
   "execution_count": 81,
   "metadata": {},
   "outputs": [
    {
     "data": {
      "text/plain": [
       "dict_keys(['city', 'state', 'street', 'name', 'age', 'adhar'])"
      ]
     },
     "execution_count": 81,
     "metadata": {},
     "output_type": "execute_result"
    }
   ],
   "source": [
    "person.viewkeys()"
   ]
  },
  {
   "cell_type": "code",
   "execution_count": 82,
   "metadata": {},
   "outputs": [
    {
     "name": "stdout",
     "output_type": "stream",
     "text": [
      "True\n",
      "True\n",
      "True\n"
     ]
    }
   ],
   "source": [
    "person={\"name\":\"anil kumar\",\"age\":23,\"adhar\":\"asfdgdhfg\"}\n",
    "print \"name\" in person\n",
    "print \"name\" in person.keys()\n",
    "print person.has_key(\"name\")"
   ]
  },
  {
   "cell_type": "code",
   "execution_count": null,
   "metadata": {
    "collapsed": true
   },
   "outputs": [],
   "source": []
  }
 ],
 "metadata": {
  "kernelspec": {
   "display_name": "Python 2",
   "language": "python",
   "name": "python2"
  },
  "language_info": {
   "codemirror_mode": {
    "name": "ipython",
    "version": 2
   },
   "file_extension": ".py",
   "mimetype": "text/x-python",
   "name": "python",
   "nbconvert_exporter": "python",
   "pygments_lexer": "ipython2",
   "version": "2.7.14"
  }
 },
 "nbformat": 4,
 "nbformat_minor": 2
}
