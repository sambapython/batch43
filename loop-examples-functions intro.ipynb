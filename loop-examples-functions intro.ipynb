{
 "cells": [
  {
   "cell_type": "code",
   "execution_count": 2,
   "metadata": {},
   "outputs": [
    {
     "name": "stdout",
     "output_type": "stream",
     "text": [
      "Enter a value:12\n",
      "Enter b value:6\n",
      "12 can divisible by 6\n"
     ]
    }
   ],
   "source": [
    "# take two numbers from the user and decide whether first number / second number or not\n",
    "a=int(raw_input(\"Enter a value:\"))\n",
    "b=int(raw_input(\"Enter b value:\"))\n",
    "if a%b==0:\n",
    "    print \"%s can divisible by %s\"%(a,b)\n",
    "else:\n",
    "    print \"%s can not divisible by %s\"%(a,b)"
   ]
  },
  {
   "cell_type": "code",
   "execution_count": 3,
   "metadata": {},
   "outputs": [
    {
     "name": "stdout",
     "output_type": "stream",
     "text": [
      "Enter a value:13\n",
      "Enter b value:6\n",
      "13 can not divisible by 6\n"
     ]
    }
   ],
   "source": [
    "# take two numbers from the user and decide whether first number / second number or not\n",
    "a=int(raw_input(\"Enter a value:\"))\n",
    "b=int(raw_input(\"Enter b value:\"))\n",
    "if a%b==0:\n",
    "    print \"%s can divisible by %s\"%(a,b)\n",
    "else:\n",
    "    print \"%s can not divisible by %s\"%(a,b)"
   ]
  },
  {
   "cell_type": "code",
   "execution_count": 4,
   "metadata": {},
   "outputs": [
    {
     "name": "stdout",
     "output_type": "stream",
     "text": [
      "Enter a number:7\n",
      "2\n",
      "3\n",
      "4\n",
      "5\n",
      "6\n"
     ]
    }
   ],
   "source": [
    "# take a number from the user and check whether it is prime number or not.\n",
    "n=int(raw_input(\"Enter a number:\"))\n",
    "# only divisible by 1 and n but not any number in between 2,n-1\n",
    "#19, 2,18\n",
    "#7, 2,6\n",
    "i=2\n",
    "while i<n:\n",
    "    print i\n",
    "    i=i+1"
   ]
  },
  {
   "cell_type": "code",
   "execution_count": 5,
   "metadata": {},
   "outputs": [
    {
     "name": "stdout",
     "output_type": "stream",
     "text": [
      "Enter a number:11\n",
      "2\n",
      "3\n",
      "4\n",
      "5\n",
      "6\n",
      "7\n",
      "8\n",
      "9\n",
      "10\n"
     ]
    }
   ],
   "source": [
    "# take a number from the user and check whether it is prime number or not.\n",
    "n=int(raw_input(\"Enter a number:\"))\n",
    "# only divisible by 1 and n but not any number in between 2,n-1\n",
    "#19, 2,18\n",
    "#7, 2,6\n",
    "i=2\n",
    "while i<n:\n",
    "    print i\n",
    "    i=i+1"
   ]
  },
  {
   "cell_type": "code",
   "execution_count": 7,
   "metadata": {},
   "outputs": [
    {
     "name": "stdout",
     "output_type": "stream",
     "text": [
      "Enter a number:10\n",
      "2\n",
      "not a prime number\n",
      "3\n",
      "prime number\n",
      "4\n",
      "prime number\n",
      "5\n",
      "not a prime number\n",
      "6\n",
      "prime number\n",
      "7\n",
      "prime number\n",
      "8\n",
      "prime number\n",
      "9\n",
      "prime number\n"
     ]
    }
   ],
   "source": [
    "# take a number from the user and check whether it is prime number or not.\n",
    "n=int(raw_input(\"Enter a number:\"))\n",
    "# only divisible by 1 and n but not any number in between 2,n-1\n",
    "#19, 2,18\n",
    "#7, 2,6\n",
    "i=2\n",
    "while i<n:\n",
    "    print i\n",
    "    if n%i==0:\n",
    "        print \"not a prime number\"\n",
    "    else:\n",
    "        print \"prime number\"\n",
    "    i=i+1"
   ]
  },
  {
   "cell_type": "code",
   "execution_count": 8,
   "metadata": {},
   "outputs": [
    {
     "name": "stdout",
     "output_type": "stream",
     "text": [
      "Enter a number:11\n",
      "2\n",
      "3\n",
      "4\n",
      "5\n",
      "6\n",
      "7\n",
      "8\n",
      "9\n",
      "10\n",
      "0\n"
     ]
    }
   ],
   "source": [
    "# take a number from the user and check whether it is prime number or not.\n",
    "n=int(raw_input(\"Enter a number:\"))\n",
    "# only divisible by 1 and n but not any number in between 2,n-1\n",
    "#19, 2,18\n",
    "#7, 2,6\n",
    "i=2\n",
    "count=0\n",
    "while i<n:\n",
    "    print i\n",
    "    if n%i==0:\n",
    "        count=count+1\n",
    "    i=i+1\n",
    "print count"
   ]
  },
  {
   "cell_type": "code",
   "execution_count": 9,
   "metadata": {},
   "outputs": [
    {
     "name": "stdout",
     "output_type": "stream",
     "text": [
      "Enter a number:12\n",
      "2\n",
      "3\n",
      "4\n",
      "5\n",
      "6\n",
      "7\n",
      "8\n",
      "9\n",
      "10\n",
      "11\n",
      "4\n"
     ]
    }
   ],
   "source": [
    "# take a number from the user and check whether it is prime number or not.\n",
    "n=int(raw_input(\"Enter a number:\"))\n",
    "# only divisible by 1 and n but not any number in between 2,n-1\n",
    "#19, 2,18\n",
    "#7, 2,6\n",
    "i=2\n",
    "count=0\n",
    "while i<n:\n",
    "    print i\n",
    "    if n%i==0:\n",
    "        count=count+1\n",
    "    i=i+1\n",
    "print count"
   ]
  },
  {
   "cell_type": "code",
   "execution_count": 10,
   "metadata": {},
   "outputs": [
    {
     "name": "stdout",
     "output_type": "stream",
     "text": [
      "Enter a number:7\n",
      "2\n",
      "3\n",
      "4\n",
      "5\n",
      "6\n",
      "0\n",
      "prime number\n"
     ]
    }
   ],
   "source": [
    "# take a number from the user and check whether it is prime number or not.\n",
    "n=int(raw_input(\"Enter a number:\"))\n",
    "# only divisible by 1 and n but not any number in between 2,n-1\n",
    "#19, 2,18\n",
    "#7, 2,6\n",
    "i=2\n",
    "count=0\n",
    "while i<n:\n",
    "    print i\n",
    "    if n%i==0:\n",
    "        count=count+1\n",
    "    i=i+1\n",
    "print count\n",
    "if count==0:\n",
    "    print \"prime number\"\n",
    "else:\n",
    "    print \"not a prime number\""
   ]
  },
  {
   "cell_type": "code",
   "execution_count": 11,
   "metadata": {},
   "outputs": [
    {
     "name": "stdout",
     "output_type": "stream",
     "text": [
      "Enter a number:12\n",
      "2\n",
      "3\n",
      "4\n",
      "5\n",
      "6\n",
      "7\n",
      "8\n",
      "9\n",
      "10\n",
      "11\n",
      "4\n",
      "not a prime number\n"
     ]
    }
   ],
   "source": [
    "# take a number from the user and check whether it is prime number or not.\n",
    "n=int(raw_input(\"Enter a number:\"))\n",
    "# only divisible by 1 and n but not any number in between 2,n-1\n",
    "#19, 2,18\n",
    "#7, 2,6\n",
    "i=2\n",
    "count=0\n",
    "while i<n:\n",
    "    print i\n",
    "    if n%i==0:\n",
    "        count=count+1\n",
    "    i=i+1\n",
    "print count\n",
    "if count==0:\n",
    "    print \"prime number\"\n",
    "else:\n",
    "    print \"not a prime number\""
   ]
  },
  {
   "cell_type": "code",
   "execution_count": 12,
   "metadata": {},
   "outputs": [
    {
     "name": "stdout",
     "output_type": "stream",
     "text": [
      "Enter a number:7\n",
      "prime number\n"
     ]
    }
   ],
   "source": [
    "# take a number from the user and check whether it is prime number or not.\n",
    "n=int(raw_input(\"Enter a number:\"))\n",
    "# only divisible by 1 and n but not any number in between 2,n-1\n",
    "#19, 2,18\n",
    "#7, 2,6\n",
    "i=2\n",
    "count=0\n",
    "while i<n:\n",
    "    if n%i==0:\n",
    "        count=count+1\n",
    "    i=i+1\n",
    "if count==0:\n",
    "    print \"prime number\"\n",
    "else:\n",
    "    print \"not a prime number\""
   ]
  },
  {
   "cell_type": "code",
   "execution_count": 13,
   "metadata": {},
   "outputs": [
    {
     "name": "stdout",
     "output_type": "stream",
     "text": [
      "Enter a number:12\n",
      "not a prime number\n"
     ]
    }
   ],
   "source": [
    "# take a number from the user and check whether it is prime number or not.\n",
    "n=int(raw_input(\"Enter a number:\"))\n",
    "# only divisible by 1 and n but not any number in between 2,n-1\n",
    "#19, 2,18\n",
    "#7, 2,6\n",
    "i=2\n",
    "count=0\n",
    "while i<n:\n",
    "    if n%i==0:\n",
    "        count=count+1\n",
    "    i=i+1\n",
    "if count==0:\n",
    "    print \"prime number\"\n",
    "else:\n",
    "    print \"not a prime number\""
   ]
  },
  {
   "cell_type": "code",
   "execution_count": 15,
   "metadata": {},
   "outputs": [
    {
     "name": "stdout",
     "output_type": "stream",
     "text": [
      "Enter a number:12\n",
      "2\n",
      "3\n",
      "4\n",
      "5\n",
      "6\n",
      "7\n",
      "8\n",
      "9\n",
      "10\n",
      "11\n",
      "not a prime number\n"
     ]
    }
   ],
   "source": [
    "# take a number from the user and check whether it is prime number or not.\n",
    "n=int(raw_input(\"Enter a number:\"))\n",
    "# only divisible by 1 and n but not any number in between 2,n-1\n",
    "#19, 2,18\n",
    "#7, 2,6\n",
    "i=2\n",
    "count=0\n",
    "while i<n:\n",
    "    print i\n",
    "    if n%i==0:\n",
    "        count=count+1\n",
    "    i=i+1\n",
    "if count==0:\n",
    "    print \"prime number\"\n",
    "else:\n",
    "    print \"not a prime number\""
   ]
  },
  {
   "cell_type": "code",
   "execution_count": 16,
   "metadata": {},
   "outputs": [
    {
     "name": "stdout",
     "output_type": "stream",
     "text": [
      "Enter a number:10\n",
      "2\n",
      "3\n",
      "4\n",
      "5\n",
      "6\n",
      "7\n",
      "8\n",
      "9\n",
      "not a prime number\n"
     ]
    }
   ],
   "source": [
    "# take a number from the user and check whether it is prime number or not.\n",
    "n=int(raw_input(\"Enter a number:\"))\n",
    "# only divisible by 1 and n but not any number in between 2,n-1\n",
    "#19, 2,18\n",
    "#7, 2,6\n",
    "i=2\n",
    "count=0\n",
    "while i<n:\n",
    "    print i\n",
    "    if n%i==0:\n",
    "        count=count+1\n",
    "    i=i+1\n",
    "if count==0:\n",
    "    print \"prime number\"\n",
    "else:\n",
    "    print \"not a prime number\""
   ]
  },
  {
   "cell_type": "code",
   "execution_count": 17,
   "metadata": {},
   "outputs": [
    {
     "name": "stdout",
     "output_type": "stream",
     "text": [
      "Enter a number:12\n",
      "2\n",
      "not a prime number\n"
     ]
    }
   ],
   "source": [
    "# take a number from the user and check whether it is prime number or not.\n",
    "n=int(raw_input(\"Enter a number:\"))\n",
    "# only divisible by 1 and n but not any number in between 2,n-1\n",
    "#19, 2,18\n",
    "#7, 2,6\n",
    "i=2\n",
    "count=0\n",
    "while i<n:\n",
    "    print i\n",
    "    if n%i==0:\n",
    "        count=count+1\n",
    "        break\n",
    "    i=i+1\n",
    "if count==0:\n",
    "    print \"prime number\"\n",
    "else:\n",
    "    print \"not a prime number\""
   ]
  },
  {
   "cell_type": "code",
   "execution_count": 18,
   "metadata": {},
   "outputs": [
    {
     "name": "stdout",
     "output_type": "stream",
     "text": [
      "Enter a number:10\n",
      "2\n",
      "not a prime number\n"
     ]
    }
   ],
   "source": [
    "# take a number from the user and check whether it is prime number or not.\n",
    "n=int(raw_input(\"Enter a number:\"))\n",
    "# only divisible by 1 and n but not any number in between 2,n-1\n",
    "#19, 2,18\n",
    "#7, 2,6\n",
    "i=2\n",
    "count=0\n",
    "while i<n:\n",
    "    print i\n",
    "    if n%i==0:\n",
    "        count=count+1\n",
    "        break\n",
    "    i=i+1\n",
    "if count==0:\n",
    "    print \"prime number\"\n",
    "else:\n",
    "    print \"not a prime number\""
   ]
  },
  {
   "cell_type": "code",
   "execution_count": 19,
   "metadata": {},
   "outputs": [
    {
     "name": "stdout",
     "output_type": "stream",
     "text": [
      "Enter a number:15\n",
      "2\n",
      "3\n",
      "not a prime number\n"
     ]
    }
   ],
   "source": [
    "# take a number from the user and check whether it is prime number or not.\n",
    "n=int(raw_input(\"Enter a number:\"))\n",
    "# only divisible by 1 and n but not any number in between 2,n-1\n",
    "#19, 2,18\n",
    "#7, 2,6\n",
    "i=2\n",
    "count=0\n",
    "while i<n:\n",
    "    print i\n",
    "    if n%i==0:\n",
    "        count=count+1\n",
    "        break\n",
    "    i=i+1\n",
    "if count==0:\n",
    "    print \"prime number\"\n",
    "else:\n",
    "    print \"not a prime number\""
   ]
  },
  {
   "cell_type": "code",
   "execution_count": 20,
   "metadata": {},
   "outputs": [
    {
     "name": "stdout",
     "output_type": "stream",
     "text": [
      "Enter a number:25\n",
      "2\n",
      "3\n",
      "4\n",
      "5\n",
      "not a prime number\n"
     ]
    }
   ],
   "source": [
    "# take a number from the user and check whether it is prime number or not.\n",
    "n=int(raw_input(\"Enter a number:\"))\n",
    "# only divisible by 1 and n but not any number in between 2,n-1\n",
    "#19, 2,18\n",
    "#7, 2,6\n",
    "i=2\n",
    "count=0\n",
    "while i<n:\n",
    "    print i\n",
    "    if n%i==0:\n",
    "        count=count+1\n",
    "        break\n",
    "    i=i+1\n",
    "if count==0:\n",
    "    print \"prime number\"\n",
    "else:\n",
    "    print \"not a prime number\""
   ]
  },
  {
   "cell_type": "code",
   "execution_count": 21,
   "metadata": {},
   "outputs": [
    {
     "name": "stdout",
     "output_type": "stream",
     "text": [
      "Enter a number:97\n",
      "2\n",
      "3\n",
      "4\n",
      "5\n",
      "6\n",
      "7\n",
      "8\n",
      "9\n",
      "10\n",
      "11\n",
      "12\n",
      "13\n",
      "14\n",
      "15\n",
      "16\n",
      "17\n",
      "18\n",
      "19\n",
      "20\n",
      "21\n",
      "22\n",
      "23\n",
      "24\n",
      "25\n",
      "26\n",
      "27\n",
      "28\n",
      "29\n",
      "30\n",
      "31\n",
      "32\n",
      "33\n",
      "34\n",
      "35\n",
      "36\n",
      "37\n",
      "38\n",
      "39\n",
      "40\n",
      "41\n",
      "42\n",
      "43\n",
      "44\n",
      "45\n",
      "46\n",
      "47\n",
      "48\n",
      "49\n",
      "50\n",
      "51\n",
      "52\n",
      "53\n",
      "54\n",
      "55\n",
      "56\n",
      "57\n",
      "58\n",
      "59\n",
      "60\n",
      "61\n",
      "62\n",
      "63\n",
      "64\n",
      "65\n",
      "66\n",
      "67\n",
      "68\n",
      "69\n",
      "70\n",
      "71\n",
      "72\n",
      "73\n",
      "74\n",
      "75\n",
      "76\n",
      "77\n",
      "78\n",
      "79\n",
      "80\n",
      "81\n",
      "82\n",
      "83\n",
      "84\n",
      "85\n",
      "86\n",
      "87\n",
      "88\n",
      "89\n",
      "90\n",
      "91\n",
      "92\n",
      "93\n",
      "94\n",
      "95\n",
      "96\n",
      "prime number\n"
     ]
    }
   ],
   "source": [
    "# take a number from the user and check whether it is prime number or not.\n",
    "n=int(raw_input(\"Enter a number:\"))\n",
    "# only divisible by 1 and n but not any number in between 2,n-1\n",
    "#19, 2,18\n",
    "#7, 2,6\n",
    "i=2\n",
    "count=0\n",
    "while i<n:\n",
    "    print i\n",
    "    if n%i==0:\n",
    "        count=count+1\n",
    "        break\n",
    "    i=i+1\n",
    "if count==0:\n",
    "    print \"prime number\"\n",
    "else:\n",
    "    print \"not a prime number\""
   ]
  },
  {
   "cell_type": "code",
   "execution_count": 22,
   "metadata": {},
   "outputs": [
    {
     "name": "stdout",
     "output_type": "stream",
     "text": [
      "Enter a number:96\n",
      "2\n",
      "not a prime number\n"
     ]
    }
   ],
   "source": [
    "# take a number from the user and check whether it is prime number or not.\n",
    "n=int(raw_input(\"Enter a number:\"))\n",
    "# only divisible by 1 and n but not any number in between 2,n-1\n",
    "#19, 2,18\n",
    "#7, 2,6\n",
    "i=2\n",
    "count=0\n",
    "while i<n/2:\n",
    "    print i\n",
    "    if n%i==0:\n",
    "        count=count+1\n",
    "        break\n",
    "    i=i+1\n",
    "if count==0:\n",
    "    print \"prime number\"\n",
    "else:\n",
    "    print \"not a prime number\""
   ]
  },
  {
   "cell_type": "code",
   "execution_count": 23,
   "metadata": {},
   "outputs": [
    {
     "name": "stdout",
     "output_type": "stream",
     "text": [
      "Enter a number:97\n",
      "2\n",
      "3\n",
      "4\n",
      "5\n",
      "6\n",
      "7\n",
      "8\n",
      "9\n",
      "10\n",
      "11\n",
      "12\n",
      "13\n",
      "14\n",
      "15\n",
      "16\n",
      "17\n",
      "18\n",
      "19\n",
      "20\n",
      "21\n",
      "22\n",
      "23\n",
      "24\n",
      "25\n",
      "26\n",
      "27\n",
      "28\n",
      "29\n",
      "30\n",
      "31\n",
      "32\n",
      "33\n",
      "34\n",
      "35\n",
      "36\n",
      "37\n",
      "38\n",
      "39\n",
      "40\n",
      "41\n",
      "42\n",
      "43\n",
      "44\n",
      "45\n",
      "46\n",
      "47\n",
      "prime number\n"
     ]
    }
   ],
   "source": [
    "# take a number from the user and check whether it is prime number or not.\n",
    "n=int(raw_input(\"Enter a number:\"))\n",
    "# only divisible by 1 and n but not any number in between 2,n-1\n",
    "#19, 2,18\n",
    "#7, 2,6\n",
    "i=2\n",
    "count=0\n",
    "while i<n/2:\n",
    "    print i\n",
    "    if n%i==0:\n",
    "        count=count+1\n",
    "        break\n",
    "    i=i+1\n",
    "if count==0:\n",
    "    print \"prime number\"\n",
    "else:\n",
    "    print \"not a prime number\""
   ]
  },
  {
   "cell_type": "code",
   "execution_count": 24,
   "metadata": {},
   "outputs": [
    {
     "name": "stdout",
     "output_type": "stream",
     "text": [
      "Enter a number:10000\n",
      "2\n",
      "not a prime number\n"
     ]
    }
   ],
   "source": [
    "# take a number from the user and check whether it is prime number or not.\n",
    "n=int(raw_input(\"Enter a number:\"))\n",
    "# only divisible by 1 and n but not any number in between 2,n-1\n",
    "#19, 2,18\n",
    "#7, 2,6\n",
    "i=2\n",
    "count=0\n",
    "while i<n/2:\n",
    "    print i\n",
    "    if n%i==0:\n",
    "        count=count+1\n",
    "        break\n",
    "    i=i+1\n",
    "if count==0:\n",
    "    print \"prime number\"\n",
    "else:\n",
    "    print \"not a prime number\""
   ]
  },
  {
   "cell_type": "code",
   "execution_count": null,
   "metadata": {
    "collapsed": true
   },
   "outputs": [],
   "source": [
    "# take a number from the user and check whether it is prime number or not.\n",
    "n=int(raw_input(\"Enter a number:\"))\n",
    "# only divisible by 1 and n but not any number in between 2,n-1\n",
    "#19, 2,18\n",
    "#7, 2,6\n",
    "i=2\n",
    "\n",
    "while i<n/2:\n",
    "    print i\n",
    "    if n%i==0:\n",
    "        count=count+1\n",
    "        break\n",
    "    i=i+1\n"
   ]
  },
  {
   "cell_type": "code",
   "execution_count": 25,
   "metadata": {},
   "outputs": [
    {
     "name": "stdout",
     "output_type": "stream",
     "text": [
      "this is else\n"
     ]
    }
   ],
   "source": [
    "i=0\n",
    "while i<10:\n",
    "    if i==12:\n",
    "        break\n",
    "    i=i+1\n",
    "else:\n",
    "    print \"this is else\""
   ]
  },
  {
   "cell_type": "code",
   "execution_count": 26,
   "metadata": {
    "collapsed": true
   },
   "outputs": [],
   "source": [
    "i=0\n",
    "while i<10:\n",
    "    if i==5:\n",
    "        break\n",
    "    i=i+1\n",
    "else:\n",
    "    print \"this is else\""
   ]
  },
  {
   "cell_type": "code",
   "execution_count": 27,
   "metadata": {},
   "outputs": [
    {
     "name": "stdout",
     "output_type": "stream",
     "text": [
      "Enter a number:12\n",
      "2\n",
      "not a prime number\n"
     ]
    }
   ],
   "source": [
    "# take a number from the user and check whether it is prime number or not.\n",
    "n=int(raw_input(\"Enter a number:\"))\n",
    "# only divisible by 1 and n but not any number in between 2,n-1\n",
    "#19, 2,18\n",
    "#7, 2,6\n",
    "i=2\n",
    "while i<n/2:\n",
    "    print i\n",
    "    if n%i==0:\n",
    "        print \"not a prime number\"\n",
    "        break\n",
    "    i=i+1\n",
    "else:\n",
    "    print \"prime number\"\n",
    "    \n"
   ]
  },
  {
   "cell_type": "code",
   "execution_count": 28,
   "metadata": {},
   "outputs": [
    {
     "name": "stdout",
     "output_type": "stream",
     "text": [
      "Enter a number:11\n",
      "2\n",
      "3\n",
      "4\n",
      "prime number\n"
     ]
    }
   ],
   "source": [
    "# take a number from the user and check whether it is prime number or not.\n",
    "n=int(raw_input(\"Enter a number:\"))\n",
    "# only divisible by 1 and n but not any number in between 2,n-1\n",
    "#19, 2,18\n",
    "#7, 2,6\n",
    "i=2\n",
    "while i<n/2:\n",
    "    print i\n",
    "    if n%i==0:\n",
    "        print \"not a prime number\"\n",
    "        break\n",
    "    i=i+1\n",
    "else:\n",
    "    print \"prime number\"\n",
    "    \n"
   ]
  },
  {
   "cell_type": "code",
   "execution_count": 29,
   "metadata": {},
   "outputs": [
    {
     "name": "stdout",
     "output_type": "stream",
     "text": [
      "Enter a number:23\n",
      "ODD\n"
     ]
    }
   ],
   "source": [
    "# odd\n",
    "num=int(raw_input(\"Enter a number:\"))\n",
    "if num%2==0:\n",
    "    print \"EVEN\"\n",
    "else:\n",
    "    print \"ODD\""
   ]
  },
  {
   "cell_type": "code",
   "execution_count": 30,
   "metadata": {},
   "outputs": [
    {
     "name": "stdout",
     "output_type": "stream",
     "text": [
      "Enter a number:45\n",
      "ODD\n"
     ]
    }
   ],
   "source": [
    "# odd\n",
    "num=int(raw_input(\"Enter a number:\"))\n",
    "if num%2==0:\n",
    "    print \"EVEN\"\n",
    "else:\n",
    "    print \"ODD\""
   ]
  },
  {
   "cell_type": "code",
   "execution_count": 31,
   "metadata": {},
   "outputs": [
    {
     "name": "stdout",
     "output_type": "stream",
     "text": [
      "Enter a number:12\n",
      "Enter a number:34\n",
      "23\n"
     ]
    }
   ],
   "source": [
    "# mean\n",
    "num1=int(raw_input(\"Enter a number:\"))\n",
    "num2=int(raw_input(\"Enter a number:\"))\n",
    "print (num1+num2)/2"
   ]
  },
  {
   "cell_type": "code",
   "execution_count": 32,
   "metadata": {},
   "outputs": [
    {
     "name": "stdout",
     "output_type": "stream",
     "text": [
      "Enter a number:6\n",
      "Enter a number:6\n",
      "9\n"
     ]
    }
   ],
   "source": [
    "# mean\n",
    "num1=int(raw_input(\"Enter a number:\"))\n",
    "num2=int(raw_input(\"Enter a number:\"))\n",
    "print num1+num2/2"
   ]
  },
  {
   "cell_type": "code",
   "execution_count": 33,
   "metadata": {},
   "outputs": [
    {
     "name": "stdout",
     "output_type": "stream",
     "text": [
      "program starteed\n",
      "other statements in program\n",
      "program ended\n"
     ]
    }
   ],
   "source": [
    "print \"program starteed\"\n",
    "def fun(): # function signature\n",
    "    #function body\n",
    "    print \"fucntion started\"\n",
    "    print \"this is function\"\n",
    "    print \"function ende\"\n",
    "    \n",
    "print \"other statements in program\"\n",
    "print \"program ended\""
   ]
  },
  {
   "cell_type": "code",
   "execution_count": 34,
   "metadata": {},
   "outputs": [
    {
     "name": "stdout",
     "output_type": "stream",
     "text": [
      "program starteed\n",
      "other statements in program\n",
      "fucntion started\n",
      "this is function\n",
      "function ende\n",
      "program ended\n"
     ]
    }
   ],
   "source": [
    "print \"program starteed\"\n",
    "def fun(): # function signature\n",
    "    #function body\n",
    "    print \"fucntion started\"\n",
    "    print \"this is function\"\n",
    "    print \"function ende\"\n",
    "    \n",
    "print \"other statements in program\"\n",
    "fun()\n",
    "print \"program ended\""
   ]
  },
  {
   "cell_type": "code",
   "execution_count": 35,
   "metadata": {},
   "outputs": [
    {
     "name": "stdout",
     "output_type": "stream",
     "text": [
      "program starteed\n",
      "other statements in program\n",
      "fucntion started\n",
      "this is function\n",
      "function ende\n",
      "********************\n",
      "fucntion started\n",
      "this is function\n",
      "function ende\n",
      "####################\n",
      "fucntion started\n",
      "this is function\n",
      "function ende\n"
     ]
    }
   ],
   "source": [
    "print \"program starteed\"\n",
    "def fun(): # function signature\n",
    "    #function body\n",
    "    print \"fucntion started\"\n",
    "    print \"this is function\"\n",
    "    print \"function ende\"\n",
    "    \n",
    "print \"other statements in program\"\n",
    "fun()\n",
    "print \"*\"*20\n",
    "fun()\n",
    "print \"#\"*20\n",
    "fun()"
   ]
  },
  {
   "cell_type": "code",
   "execution_count": 36,
   "metadata": {},
   "outputs": [
    {
     "name": "stdout",
     "output_type": "stream",
     "text": [
      "10 20\n"
     ]
    }
   ],
   "source": [
    "def add(a,b):\n",
    "    print a,b\n",
    "add(10,20)"
   ]
  },
  {
   "cell_type": "code",
   "execution_count": 37,
   "metadata": {},
   "outputs": [
    {
     "name": "stdout",
     "output_type": "stream",
     "text": [
      "10 20\n",
      "30\n"
     ]
    }
   ],
   "source": [
    "def add(a,b):\n",
    "    print a,b\n",
    "    print a+b\n",
    "add(10,20)"
   ]
  },
  {
   "cell_type": "code",
   "execution_count": 39,
   "metadata": {},
   "outputs": [
    {
     "name": "stdout",
     "output_type": "stream",
     "text": [
      "a=10, b=20\n",
      "30\n",
      "a=100, b=200\n",
      "300\n",
      "a=1000, b=2000\n",
      "3000\n",
      "a=10000, b=20000\n",
      "30000\n"
     ]
    }
   ],
   "source": [
    "def add(a,b):\n",
    "    print \"a=%s, b=%s\"%(a,b)\n",
    "    print a+b\n",
    "add(10,20)\n",
    "add(100,200)\n",
    "add(1000,2000)\n",
    "add(10000,20000)"
   ]
  },
  {
   "cell_type": "code",
   "execution_count": 40,
   "metadata": {},
   "outputs": [
    {
     "name": "stdout",
     "output_type": "stream",
     "text": [
      "a=10, b=20\n",
      "30\n",
      "a=100, b=200\n",
      "300\n",
      "a=1000, b=2000\n",
      "3000\n",
      "a=10000, b=20000\n",
      "30000\n",
      "a=100000, b=200000\n",
      "300000\n"
     ]
    }
   ],
   "source": [
    "def add(a,b):\n",
    "    print \"a=%s, b=%s\"%(a,b)\n",
    "    print a+b\n",
    "add(10,20)\n",
    "add(100,200)\n",
    "add(1000,2000)\n",
    "add(10000,20000)\n",
    "add(100000,200000)"
   ]
  },
  {
   "cell_type": "code",
   "execution_count": 41,
   "metadata": {
    "collapsed": true
   },
   "outputs": [],
   "source": [
    "a=12345678654323456787123456787654321234567897654323456789876543"
   ]
  },
  {
   "cell_type": "code",
   "execution_count": 42,
   "metadata": {},
   "outputs": [
    {
     "data": {
      "text/plain": [
       "long"
      ]
     },
     "execution_count": 42,
     "metadata": {},
     "output_type": "execute_result"
    }
   ],
   "source": [
    "type(a)"
   ]
  },
  {
   "cell_type": "code",
   "execution_count": null,
   "metadata": {
    "collapsed": true
   },
   "outputs": [],
   "source": []
  }
 ],
 "metadata": {
  "kernelspec": {
   "display_name": "Python 2",
   "language": "python",
   "name": "python2"
  },
  "language_info": {
   "codemirror_mode": {
    "name": "ipython",
    "version": 2
   },
   "file_extension": ".py",
   "mimetype": "text/x-python",
   "name": "python",
   "nbconvert_exporter": "python",
   "pygments_lexer": "ipython2",
   "version": "2.7.14"
  }
 },
 "nbformat": 4,
 "nbformat_minor": 2
}
