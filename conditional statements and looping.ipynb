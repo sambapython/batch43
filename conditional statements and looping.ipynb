{
 "cells": [
  {
   "cell_type": "code",
   "execution_count": 1,
   "metadata": {},
   "outputs": [
    {
     "name": "stdout",
     "output_type": "stream",
     "text": [
      "Welcome to mobile store\n",
      "\t1.Android\n",
      "\t2.Mac\n",
      "\t3.windows\n",
      "Enter an option:1\n",
      "You are selected: 1\n",
      "GOTO fist floor\n",
      "Thank you, Happy shoping\n"
     ]
    }
   ],
   "source": [
    "print \"Welcome to mobile store\\n\\t1.Android\\n\\t2.Mac\\n\\t3.windows\"\n",
    "flag = raw_input(\"Enter an option:\")\n",
    "print \"You are selected:\",flag\n",
    "if flag==\"1\":\n",
    "    print \"GOTO fist floor\"\n",
    "elif flag==\"2\":\n",
    "    print \"GOTO second floor\"\n",
    "elif flag==\"3\":\n",
    "    print \"GOTO third floor\"\n",
    "else:\n",
    "    print \"Have only three floors!!. Select 1 or 2 or 3\"\n",
    "print \"Thank you, Happy shoping\""
   ]
  },
  {
   "cell_type": "code",
   "execution_count": 2,
   "metadata": {},
   "outputs": [
    {
     "name": "stdout",
     "output_type": "stream",
     "text": [
      "Welcome to mobile store\n",
      "\t1.Android\n",
      "\t2.Mac\n",
      "\t3.windows\n",
      "Enter an option:2\n",
      "You are selected: 2\n",
      "GOTO second floor\n",
      "Thank you, Happy shoping\n"
     ]
    }
   ],
   "source": [
    "print \"Welcome to mobile store\\n\\t1.Android\\n\\t2.Mac\\n\\t3.windows\"\n",
    "flag = raw_input(\"Enter an option:\")\n",
    "print \"You are selected:\",flag\n",
    "if flag==\"1\":\n",
    "    print \"GOTO fist floor\"\n",
    "elif flag==\"2\":\n",
    "    print \"GOTO second floor\"\n",
    "elif flag==\"3\":\n",
    "    print \"GOTO third floor\"\n",
    "else:\n",
    "    print \"Have only three floors!!. Select 1 or 2 or 3\"\n",
    "print \"Thank you, Happy shoping\""
   ]
  },
  {
   "cell_type": "code",
   "execution_count": 3,
   "metadata": {},
   "outputs": [
    {
     "name": "stdout",
     "output_type": "stream",
     "text": [
      "Welcome to mobile store\n",
      "\t1.Android\n",
      "\t2.Mac\n",
      "\t3.windows\n",
      "Enter an option:3\n",
      "You are selected: 3\n",
      "GOTO third floor\n",
      "Thank you, Happy shoping\n"
     ]
    }
   ],
   "source": [
    "print \"Welcome to mobile store\\n\\t1.Android\\n\\t2.Mac\\n\\t3.windows\"\n",
    "flag = raw_input(\"Enter an option:\")\n",
    "print \"You are selected:\",flag\n",
    "if flag==\"1\":\n",
    "    print \"GOTO fist floor\"\n",
    "elif flag==\"2\":\n",
    "    print \"GOTO second floor\"\n",
    "elif flag==\"3\":\n",
    "    print \"GOTO third floor\"\n",
    "else:\n",
    "    print \"Have only three floors!!. Select 1 or 2 or 3\"\n",
    "print \"Thank you, Happy shoping\""
   ]
  },
  {
   "cell_type": "code",
   "execution_count": 4,
   "metadata": {},
   "outputs": [
    {
     "name": "stdout",
     "output_type": "stream",
     "text": [
      "Welcome to mobile store\n",
      "\t1.Android\n",
      "\t2.Mac\n",
      "\t3.windows\n",
      "Enter an option:5\n",
      "You are selected: 5\n",
      "Have only three floors!!. Select 1 or 2 or 3\n",
      "Thank you, Happy shoping\n"
     ]
    }
   ],
   "source": [
    "print \"Welcome to mobile store\\n\\t1.Android\\n\\t2.Mac\\n\\t3.windows\"\n",
    "flag = raw_input(\"Enter an option:\")\n",
    "print \"You are selected:\",flag\n",
    "if flag==\"1\":\n",
    "    print \"GOTO fist floor\"\n",
    "elif flag==\"2\":\n",
    "    print \"GOTO second floor\"\n",
    "elif flag==\"3\":\n",
    "    print \"GOTO third floor\"\n",
    "else:\n",
    "    print \"Have only three floors!!. Select 1 or 2 or 3\"\n",
    "print \"Thank you, Happy shoping\""
   ]
  },
  {
   "cell_type": "code",
   "execution_count": 5,
   "metadata": {},
   "outputs": [
    {
     "name": "stdout",
     "output_type": "stream",
     "text": [
      "Welcome to mobile store\n",
      "\t1.Android\n",
      "\t2.Mac\n",
      "\t3.windows\n",
      "Enter an option:2\n",
      "You are selected: 2\n",
      "GOTO second floor\n",
      "you have selected other than 3\n",
      "Thank you, Happy shoping\n"
     ]
    }
   ],
   "source": [
    "print \"Welcome to mobile store\\n\\t1.Android\\n\\t2.Mac\\n\\t3.windows\"\n",
    "flag = raw_input(\"Enter an option:\")\n",
    "print \"You are selected:\",flag\n",
    "if flag==\"1\":\n",
    "    print \"GOTO fist floor\"\n",
    "elif flag==\"2\":\n",
    "    print \"GOTO second floor\"\n",
    "elif flag==\"3\":\n",
    "    print \"GOTO third floor\"\n",
    "else:\n",
    "    print \"Have only three floors!!. Select 1 or 2 or 3\"\n",
    "if flag==\"3\":\n",
    "    print \"Goto thrd flor\"\n",
    "else:\n",
    "    print \"you have selected other than 3\"\n",
    "print \"Thank you, Happy shoping\""
   ]
  },
  {
   "cell_type": "code",
   "execution_count": 6,
   "metadata": {},
   "outputs": [
    {
     "name": "stdout",
     "output_type": "stream",
     "text": [
      "Welcome to mobile store\n",
      "\t1.Android\n",
      "\t2.Mac\n",
      "\t3.windows\n",
      "Enter an option:3\n",
      "You are selected: 3\n",
      "GOTO third floor\n",
      "Goto thrd flor\n",
      "Thank you, Happy shoping\n"
     ]
    }
   ],
   "source": [
    "print \"Welcome to mobile store\\n\\t1.Android\\n\\t2.Mac\\n\\t3.windows\"\n",
    "flag = raw_input(\"Enter an option:\")\n",
    "print \"You are selected:\",flag\n",
    "if flag==\"1\":\n",
    "    print \"GOTO fist floor\"\n",
    "elif flag==\"2\":\n",
    "    print \"GOTO second floor\"\n",
    "elif flag==\"3\":\n",
    "    print \"GOTO third floor\"\n",
    "    \n",
    "if flag==\"3\":\n",
    "    print \"Goto thrd flor\"\n",
    "else:\n",
    "    print \"you have selected other than 3\"\n",
    "print \"Thank you, Happy shoping\""
   ]
  },
  {
   "cell_type": "code",
   "execution_count": 7,
   "metadata": {},
   "outputs": [
    {
     "name": "stdout",
     "output_type": "stream",
     "text": [
      "Welcome to mobile store\n",
      "\t1.Android\n",
      "\t2.Mac\n",
      "\t3.windows\n",
      "Enter an option:2\n",
      "You are selected: 2\n",
      "GOTO second floor\n",
      "Have only three floors!!. Select 1 or 2 or 3\n",
      "Thank you, Happy shoping\n"
     ]
    }
   ],
   "source": [
    "print \"Welcome to mobile store\\n\\t1.Android\\n\\t2.Mac\\n\\t3.windows\"\n",
    "flag = raw_input(\"Enter an option:\")\n",
    "print \"You are selected:\",flag\n",
    "if flag==\"1\":\n",
    "    print \"GOTO fist floor\"\n",
    "if flag==\"2\":\n",
    "    print \"GOTO second floor\"\n",
    "if flag==\"3\":\n",
    "    print \"GOTO third floor\"\n",
    "else:\n",
    "    print \"Have only three floors!!. Select 1 or 2 or 3\"\n",
    "print \"Thank you, Happy shoping\""
   ]
  },
  {
   "cell_type": "code",
   "execution_count": 8,
   "metadata": {},
   "outputs": [
    {
     "name": "stdout",
     "output_type": "stream",
     "text": [
      "Welcome to mobile store\n",
      "\t1.Android\n",
      "\t2.Mac\n",
      "\t3.windows\n",
      "Enter an option:1\n",
      "You are selected: 1\n",
      "GOTO fist floor\n",
      "Have only three floors!!. Select 1 or 2 or 3\n",
      "Thank you, Happy shoping\n"
     ]
    }
   ],
   "source": [
    "print \"Welcome to mobile store\\n\\t1.Android\\n\\t2.Mac\\n\\t3.windows\"\n",
    "flag = raw_input(\"Enter an option:\")\n",
    "print \"You are selected:\",flag\n",
    "if flag==\"1\":\n",
    "    print \"GOTO fist floor\"\n",
    "if flag==\"2\":\n",
    "    print \"GOTO second floor\"\n",
    "if flag==\"3\":\n",
    "    print \"GOTO third floor\"\n",
    "else:\n",
    "    print \"Have only three floors!!. Select 1 or 2 or 3\"\n",
    "print \"Thank you, Happy shoping\""
   ]
  },
  {
   "cell_type": "code",
   "execution_count": 9,
   "metadata": {},
   "outputs": [
    {
     "name": "stdout",
     "output_type": "stream",
     "text": [
      "Welcome to mobile store\n",
      "\t1.Android\n",
      "\t2.Mac\n",
      "\t3.windows\n",
      "Enter an option:6\n",
      "You are selected: 6\n",
      "Have only three floors!!. Select 1 or 2 or 3\n",
      "Thank you, Happy shoping\n"
     ]
    }
   ],
   "source": [
    "print \"Welcome to mobile store\\n\\t1.Android\\n\\t2.Mac\\n\\t3.windows\"\n",
    "flag = raw_input(\"Enter an option:\")\n",
    "print \"You are selected:\",flag\n",
    "if flag==\"1\":\n",
    "    print \"GOTO fist floor\"\n",
    "elif flag==\"2\":\n",
    "    print \"GOTO second floor\"\n",
    "elif flag==\"3\":\n",
    "    print \"GOTO third floor\"\n",
    "else:\n",
    "    print \"Have only three floors!!. Select 1 or 2 or 3\"\n",
    "print \"Thank you, Happy shoping\""
   ]
  },
  {
   "cell_type": "code",
   "execution_count": 10,
   "metadata": {},
   "outputs": [
    {
     "name": "stdout",
     "output_type": "stream",
     "text": [
      "program started\n",
      "this is if block\n",
      "other statements in program\n",
      "program ended\n"
     ]
    }
   ],
   "source": [
    "# while for->else ; break continue \n",
    "print \"program started\"\n",
    "a=0\n",
    "if a<10:\n",
    "    print \"this is if block\"\n",
    "else:\n",
    "    print \"this an else\"\n",
    "print \"other statements in program\"\n",
    "print \"program ended\""
   ]
  },
  {
   "cell_type": "code",
   "execution_count": 11,
   "metadata": {},
   "outputs": [
    {
     "name": "stdout",
     "output_type": "stream",
     "text": [
      "program started\n",
      "this is if block\n",
      "other statements in program\n",
      "program ended\n"
     ]
    }
   ],
   "source": [
    "# while for->else ; break continue \n",
    "print \"program started\"\n",
    "a=0\n",
    "if a<10:\n",
    "    print \"this is if block\"\n",
    "\n",
    "print \"other statements in program\"\n",
    "print \"program ended\""
   ]
  },
  {
   "cell_type": "code",
   "execution_count": null,
   "metadata": {
    "collapsed": true
   },
   "outputs": [],
   "source": [
    "# while for->else ; break continue \n",
    "print \"program started\"\n",
    "a=0\n",
    "while a<10:\n",
    "    print \"this is while block\"\n",
    "    \n",
    "\n",
    "print \"other statements in program\"\n",
    "print \"program ended\""
   ]
  },
  {
   "cell_type": "code",
   "execution_count": 12,
   "metadata": {},
   "outputs": [
    {
     "name": "stdout",
     "output_type": "stream",
     "text": [
      "program started\n",
      "iteration started\n",
      "a= 0\n",
      "iteration ended\n",
      "iteration started\n",
      "a= 1\n",
      "iteration ended\n",
      "iteration started\n",
      "a= 2\n",
      "iteration ended\n",
      "other statements in program\n",
      "program ended\n"
     ]
    }
   ],
   "source": [
    "# while for->else ; break continue \n",
    "print \"program started\"\n",
    "a=0\n",
    "while a<3:\n",
    "    print \"iteration started\"\n",
    "    print \"a=\",a\n",
    "    a=a+1\n",
    "    print \"iteration ended\" \n",
    "print \"other statements in program\"\n",
    "print \"program ended\""
   ]
  },
  {
   "cell_type": "code",
   "execution_count": 13,
   "metadata": {},
   "outputs": [
    {
     "name": "stdout",
     "output_type": "stream",
     "text": [
      "program started\n",
      "other statements in program\n",
      "program ended\n"
     ]
    }
   ],
   "source": [
    "# while for->else ; break continue \n",
    "print \"program started\"\n",
    "a=0\n",
    "while a>3:\n",
    "    print \"iteration started\"\n",
    "    print \"a=\",a\n",
    "    a=a+1\n",
    "    print \"iteration ended\" \n",
    "print \"other statements in program\"\n",
    "print \"program ended\""
   ]
  },
  {
   "cell_type": "code",
   "execution_count": null,
   "metadata": {
    "collapsed": true
   },
   "outputs": [],
   "source": [
    "# while for->else ; break continue \n",
    "print \"program started\"\n",
    "a=0\n",
    "while a<3:\n",
    "    print \"a=\",a\n",
    "    \n",
    "a=a+1\n",
    "print \"other statements in program\"\n",
    "print \"program ended\""
   ]
  },
  {
   "cell_type": "code",
   "execution_count": 14,
   "metadata": {},
   "outputs": [
    {
     "name": "stdout",
     "output_type": "stream",
     "text": [
      "program started\n",
      "a out side loop: 3\n",
      "other statements in program\n",
      "program ended\n"
     ]
    }
   ],
   "source": [
    "# while for->else ; break continue \n",
    "print \"program started\"\n",
    "a=0\n",
    "while a<3:\n",
    "    a=a+1\n",
    "    \n",
    "print \"a out side loop:\",a\n",
    "print \"other statements in program\"\n",
    "print \"program ended\""
   ]
  },
  {
   "cell_type": "code",
   "execution_count": 15,
   "metadata": {},
   "outputs": [
    {
     "name": "stdout",
     "output_type": "stream",
     "text": [
      "program started\n",
      "p\n",
      "y\n",
      "t\n",
      "h\n",
      "o\n",
      "n\n",
      "other statements in program\n",
      "program ended\n"
     ]
    }
   ],
   "source": [
    "# for(int i=0; i<array.length, i++)\n",
    "print \"program started\"\n",
    "s=\"python\"\n",
    "i=0\n",
    "while i<len(s):\n",
    "    print s[i]\n",
    "    i=i+1\n",
    "print \"other statements in program\"\n",
    "print \"program ended\"\n"
   ]
  },
  {
   "cell_type": "code",
   "execution_count": 16,
   "metadata": {},
   "outputs": [
    {
     "name": "stdout",
     "output_type": "stream",
     "text": [
      "program started\n",
      "p\n",
      "y\n",
      "t\n",
      "h\n",
      "o\n",
      "n\n",
      "other statements in program\n",
      "program ended\n"
     ]
    }
   ],
   "source": [
    "# for(int i=0; i<array.length, i++)\n",
    "print \"program started\"\n",
    "s=\"python\"\n",
    "for i in s:\n",
    "    print i\n",
    "print \"other statements in program\"\n",
    "print \"program ended\"\n"
   ]
  },
  {
   "cell_type": "code",
   "execution_count": 17,
   "metadata": {},
   "outputs": [
    {
     "name": "stdout",
     "output_type": "stream",
     "text": [
      "program started\n"
     ]
    },
    {
     "ename": "TypeError",
     "evalue": "'int' object is not iterable",
     "output_type": "error",
     "traceback": [
      "\u001b[0;31m---------------------------------------------------------------------------\u001b[0m",
      "\u001b[0;31mTypeError\u001b[0m                                 Traceback (most recent call last)",
      "\u001b[0;32m<ipython-input-17-282ba20ec960>\u001b[0m in \u001b[0;36m<module>\u001b[0;34m()\u001b[0m\n\u001b[1;32m      2\u001b[0m \u001b[0;32mprint\u001b[0m \u001b[0;34m\"program started\"\u001b[0m\u001b[0;34m\u001b[0m\u001b[0m\n\u001b[1;32m      3\u001b[0m \u001b[0ms\u001b[0m\u001b[0;34m=\u001b[0m\u001b[0;36m123456789\u001b[0m\u001b[0;34m\u001b[0m\u001b[0m\n\u001b[0;32m----> 4\u001b[0;31m \u001b[0;32mfor\u001b[0m \u001b[0mi\u001b[0m \u001b[0;32min\u001b[0m \u001b[0ms\u001b[0m\u001b[0;34m:\u001b[0m\u001b[0;34m\u001b[0m\u001b[0m\n\u001b[0m\u001b[1;32m      5\u001b[0m     \u001b[0;32mprint\u001b[0m \u001b[0mi\u001b[0m\u001b[0;34m\u001b[0m\u001b[0m\n\u001b[1;32m      6\u001b[0m \u001b[0;32mprint\u001b[0m \u001b[0;34m\"other statements in program\"\u001b[0m\u001b[0;34m\u001b[0m\u001b[0m\n",
      "\u001b[0;31mTypeError\u001b[0m: 'int' object is not iterable"
     ]
    }
   ],
   "source": [
    "# for(int i=0; i<array.length, i++)\n",
    "print \"program started\"\n",
    "s=123456789\n",
    "for i in s:\n",
    "    print i\n",
    "print \"other statements in program\"\n",
    "print \"program ended\"\n"
   ]
  },
  {
   "cell_type": "code",
   "execution_count": 18,
   "metadata": {},
   "outputs": [
    {
     "name": "stdout",
     "output_type": "stream",
     "text": [
      "program started\n",
      "iteration started\n",
      "i= p\n",
      "iteration ended\n",
      "iteration started\n",
      "i= y\n",
      "iteration ended\n",
      "iteration started\n",
      "i= t\n",
      "iteration ended\n",
      "iteration started\n",
      "i= h\n",
      "iteration ended\n",
      "iteration started\n",
      "i= o\n",
      "iteration ended\n",
      "iteration started\n",
      "i= n\n",
      "iteration ended\n",
      "other statements in program\n",
      "program ended\n"
     ]
    }
   ],
   "source": [
    "# for(int i=0; i<array.length, i++)\n",
    "print \"program started\"\n",
    "s=\"python\"\n",
    "for i in s:\n",
    "    print \"iteration started\"\n",
    "    print \"i=\",i\n",
    "    print \"iteration ended\"\n",
    "    \n",
    "print \"other statements in program\"\n",
    "print \"program ended\"\n"
   ]
  },
  {
   "cell_type": "code",
   "execution_count": 19,
   "metadata": {},
   "outputs": [
    {
     "name": "stdout",
     "output_type": "stream",
     "text": [
      "program started\n",
      "iteration started\n",
      "i= a\n",
      "iteration ended\n",
      "iteration started\n",
      "i= b\n",
      "iteration ended\n",
      "iteration started\n",
      "i= c\n",
      "iteration ended\n",
      "other statements in program\n",
      "program ended\n"
     ]
    }
   ],
   "source": [
    "# for(int i=0; i<array.length, i++)\n",
    "print \"program started\"\n",
    "for i in \"abc\":\n",
    "    print \"iteration started\"\n",
    "    print \"i=\",i\n",
    "    print \"iteration ended\"\n",
    "    \n",
    "print \"other statements in program\"\n",
    "print \"program ended\"\n"
   ]
  },
  {
   "cell_type": "code",
   "execution_count": 20,
   "metadata": {},
   "outputs": [
    {
     "name": "stdout",
     "output_type": "stream",
     "text": [
      "program started\n",
      "iteration started\n",
      "i= a\n",
      "iteration ended\n",
      "iteration started\n",
      "i= b\n",
      "iteration ended\n",
      "iteration started\n",
      "i= c\n",
      "iteration ended\n",
      "i outside loop: c\n",
      "other statements in program\n",
      "program ended\n"
     ]
    }
   ],
   "source": [
    "# for(int i=0; i<array.length, i++)\n",
    "print \"program started\"\n",
    "for i in \"abc\":\n",
    "    print \"iteration started\"\n",
    "    print \"i=\",i\n",
    "    print \"iteration ended\"\n",
    "    \n",
    "print \"i outside loop:\",i  \n",
    "print \"other statements in program\"\n",
    "print \"program ended\"\n"
   ]
  },
  {
   "cell_type": "code",
   "execution_count": 21,
   "metadata": {},
   "outputs": [
    {
     "ename": "IndentationError",
     "evalue": "expected an indented block (<ipython-input-21-acbecf2cf559>, line 5)",
     "output_type": "error",
     "traceback": [
      "\u001b[0;36m  File \u001b[0;32m\"<ipython-input-21-acbecf2cf559>\"\u001b[0;36m, line \u001b[0;32m5\u001b[0m\n\u001b[0;31m    print \"i outside loop:\",i\u001b[0m\n\u001b[0m        ^\u001b[0m\n\u001b[0;31mIndentationError\u001b[0m\u001b[0;31m:\u001b[0m expected an indented block\n"
     ]
    }
   ],
   "source": [
    "# for(int i=0; i<array.length, i++)\n",
    "print \"program started\"\n",
    "for i in \"abc\":\n",
    "    \n",
    "print \"i outside loop:\",i  \n",
    "print \"other statements in program\"\n",
    "print \"program ended\"\n"
   ]
  },
  {
   "cell_type": "code",
   "execution_count": 22,
   "metadata": {},
   "outputs": [
    {
     "name": "stdout",
     "output_type": "stream",
     "text": [
      "program started\n",
      "i outside loop: c\n",
      "other statements in program\n",
      "program ended\n"
     ]
    }
   ],
   "source": [
    "# for(int i=0; i<array.length, i++)\n",
    "print \"program started\"\n",
    "for i in \"abc\":\n",
    "    pass\n",
    "print \"i outside loop:\",i  \n",
    "print \"other statements in program\"\n",
    "print \"program ended\"\n"
   ]
  },
  {
   "cell_type": "code",
   "execution_count": 23,
   "metadata": {},
   "outputs": [
    {
     "name": "stdout",
     "output_type": "stream",
     "text": [
      "program started\n",
      "a\n",
      "b\n",
      "c\n",
      "i outside loop: c\n",
      "other statements in program\n",
      "program ended\n"
     ]
    }
   ],
   "source": [
    "# for(int i=0; i<array.length, i++)\n",
    "print \"program started\"\n",
    "for i in \"abc\":\n",
    "    print i\n",
    "print \"i outside loop:\",i  \n",
    "print \"other statements in program\"\n",
    "print \"program ended\"\n"
   ]
  },
  {
   "cell_type": "code",
   "execution_count": 24,
   "metadata": {},
   "outputs": [
    {
     "name": "stdout",
     "output_type": "stream",
     "text": [
      "program started\n",
      "c\n",
      "b\n",
      "a\n",
      "i outside loop: a\n",
      "other statements in program\n",
      "program ended\n"
     ]
    }
   ],
   "source": [
    "# for(int i=0; i<array.length, i++)\n",
    "print \"program started\"\n",
    "for i in \"abc\"[::-1]:\n",
    "    print i\n",
    "print \"i outside loop:\",i  \n",
    "print \"other statements in program\"\n",
    "print \"program ended\"\n"
   ]
  },
  {
   "cell_type": "code",
   "execution_count": 25,
   "metadata": {},
   "outputs": [
    {
     "name": "stdout",
     "output_type": "stream",
     "text": [
      "program started\n",
      "p\n",
      "y\n",
      "t\n",
      "o\n",
      "n\n",
      " \n",
      "p\n",
      "r\n",
      "o\n",
      "g\n",
      "r\n",
      "a\n",
      "m\n",
      "i outside loop: m\n",
      "other statements in program\n",
      "program ended\n"
     ]
    }
   ],
   "source": [
    "# for(int i=0; i<array.length, i++)\n",
    "print \"program started\"\n",
    "s=\"pyton program\"\n",
    "for i in s:\n",
    "    print i\n",
    "print \"i outside loop:\",i  \n",
    "print \"other statements in program\"\n",
    "print \"program ended\"\n"
   ]
  },
  {
   "cell_type": "code",
   "execution_count": 26,
   "metadata": {},
   "outputs": [
    {
     "name": "stdout",
     "output_type": "stream",
     "text": [
      "program started\n",
      "p\n",
      "t\n",
      "n\n",
      "p\n",
      "o\n",
      "r\n",
      "m\n",
      "i outside loop: m\n",
      "other statements in program\n",
      "program ended\n"
     ]
    }
   ],
   "source": [
    "# for(int i=0; i<array.length, i++)\n",
    "print \"program started\"\n",
    "s=\"pyton program\"\n",
    "for i in s[::2]:\n",
    "    print i\n",
    "print \"i outside loop:\",i  \n",
    "print \"other statements in program\"\n",
    "print \"program ended\"\n"
   ]
  },
  {
   "cell_type": "code",
   "execution_count": null,
   "metadata": {
    "collapsed": true
   },
   "outputs": [],
   "source": []
  }
 ],
 "metadata": {
  "kernelspec": {
   "display_name": "Python 2",
   "language": "python",
   "name": "python2"
  },
  "language_info": {
   "codemirror_mode": {
    "name": "ipython",
    "version": 2
   },
   "file_extension": ".py",
   "mimetype": "text/x-python",
   "name": "python",
   "nbconvert_exporter": "python",
   "pygments_lexer": "ipython2",
   "version": "2.7.14"
  }
 },
 "nbformat": 4,
 "nbformat_minor": 2
}
