{
 "cells": [
  {
   "cell_type": "code",
   "execution_count": 2,
   "metadata": {},
   "outputs": [
    {
     "name": "stdout",
     "output_type": "stream",
     "text": [
      "program started\n",
      "Enter a value:12\n",
      "enter b value:6\n",
      "a=12, b=6\n",
      "After conversion: a=12, b=6\n",
      "res=2\n",
      "other statements in progrm\n",
      "program ended\n"
     ]
    }
   ],
   "source": [
    "print \"program started\"\n",
    "a=raw_input(\"Enter a value:\")\n",
    "b=raw_input(\"enter b value:\")\n",
    "print \"a=%s, b=%s\"%(a,b)\n",
    "a=int(a)\n",
    "b=int(b)\n",
    "print \"After conversion: a=%s, b=%s\"%(a,b)\n",
    "res=a/b\n",
    "print \"res=%s\"%(res)\n",
    "print \"other statements in progrm\"\n",
    "print \"program ended\"\n"
   ]
  },
  {
   "cell_type": "code",
   "execution_count": 3,
   "metadata": {},
   "outputs": [
    {
     "name": "stdout",
     "output_type": "stream",
     "text": [
      "program started\n",
      "Enter a value:12\n",
      "enter b value:6\n",
      "a=12, b=6\n",
      "After conversion: a=12, b=6\n",
      "res=2\n",
      "other statements in progrm\n",
      "program ended\n"
     ]
    }
   ],
   "source": [
    "print \"program started\"\n",
    "a=raw_input(\"Enter a value:\")\n",
    "b=raw_input(\"enter b value:\")\n",
    "print \"a=%s, b=%s\"%(a,b)\n",
    "a=int(a)\n",
    "b=int(b)\n",
    "print \"After conversion: a=%s, b=%s\"%(a,b)\n",
    "res=a/b\n",
    "print \"res=%s\"%(res)\n",
    "print \"other statements in progrm\"\n",
    "print \"program ended\"\n"
   ]
  },
  {
   "cell_type": "code",
   "execution_count": 4,
   "metadata": {},
   "outputs": [
    {
     "name": "stdout",
     "output_type": "stream",
     "text": [
      "program started\n",
      "Enter a value:12.24\n",
      "enter b value:6\n",
      "a=12.24, b=6\n"
     ]
    },
    {
     "ename": "ValueError",
     "evalue": "invalid literal for int() with base 10: '12.24'",
     "output_type": "error",
     "traceback": [
      "\u001b[0;31m---------------------------------------------------------------------------\u001b[0m",
      "\u001b[0;31mValueError\u001b[0m                                Traceback (most recent call last)",
      "\u001b[0;32m<ipython-input-4-78706b028d04>\u001b[0m in \u001b[0;36m<module>\u001b[0;34m()\u001b[0m\n\u001b[1;32m      3\u001b[0m \u001b[0mb\u001b[0m\u001b[0;34m=\u001b[0m\u001b[0mraw_input\u001b[0m\u001b[0;34m(\u001b[0m\u001b[0;34m\"enter b value:\"\u001b[0m\u001b[0;34m)\u001b[0m\u001b[0;34m\u001b[0m\u001b[0m\n\u001b[1;32m      4\u001b[0m \u001b[0;32mprint\u001b[0m \u001b[0;34m\"a=%s, b=%s\"\u001b[0m\u001b[0;34m%\u001b[0m\u001b[0;34m(\u001b[0m\u001b[0ma\u001b[0m\u001b[0;34m,\u001b[0m\u001b[0mb\u001b[0m\u001b[0;34m)\u001b[0m\u001b[0;34m\u001b[0m\u001b[0m\n\u001b[0;32m----> 5\u001b[0;31m \u001b[0ma\u001b[0m\u001b[0;34m=\u001b[0m\u001b[0mint\u001b[0m\u001b[0;34m(\u001b[0m\u001b[0ma\u001b[0m\u001b[0;34m)\u001b[0m\u001b[0;34m\u001b[0m\u001b[0m\n\u001b[0m\u001b[1;32m      6\u001b[0m \u001b[0mb\u001b[0m\u001b[0;34m=\u001b[0m\u001b[0mint\u001b[0m\u001b[0;34m(\u001b[0m\u001b[0mb\u001b[0m\u001b[0;34m)\u001b[0m\u001b[0;34m\u001b[0m\u001b[0m\n\u001b[1;32m      7\u001b[0m \u001b[0;32mprint\u001b[0m \u001b[0;34m\"After conversion: a=%s, b=%s\"\u001b[0m\u001b[0;34m%\u001b[0m\u001b[0;34m(\u001b[0m\u001b[0ma\u001b[0m\u001b[0;34m,\u001b[0m\u001b[0mb\u001b[0m\u001b[0;34m)\u001b[0m\u001b[0;34m\u001b[0m\u001b[0m\n",
      "\u001b[0;31mValueError\u001b[0m: invalid literal for int() with base 10: '12.24'"
     ]
    }
   ],
   "source": [
    "print \"program started\"\n",
    "a=raw_input(\"Enter a value:\")\n",
    "b=raw_input(\"enter b value:\")\n",
    "print \"a=%s, b=%s\"%(a,b)\n",
    "a=int(a)\n",
    "b=int(b)\n",
    "print \"After conversion: a=%s, b=%s\"%(a,b)\n",
    "res=a/b\n",
    "print \"res=%s\"%(res)\n",
    "print \"other statements in progrm\"\n",
    "print \"program ended\"\n"
   ]
  },
  {
   "cell_type": "code",
   "execution_count": 5,
   "metadata": {},
   "outputs": [
    {
     "data": {
      "text/plain": [
       "12"
      ]
     },
     "execution_count": 5,
     "metadata": {},
     "output_type": "execute_result"
    }
   ],
   "source": [
    "int(12.34)"
   ]
  },
  {
   "cell_type": "code",
   "execution_count": 6,
   "metadata": {},
   "outputs": [
    {
     "ename": "ValueError",
     "evalue": "invalid literal for int() with base 10: '12.34'",
     "output_type": "error",
     "traceback": [
      "\u001b[0;31m---------------------------------------------------------------------------\u001b[0m",
      "\u001b[0;31mValueError\u001b[0m                                Traceback (most recent call last)",
      "\u001b[0;32m<ipython-input-6-53b343f46d73>\u001b[0m in \u001b[0;36m<module>\u001b[0;34m()\u001b[0m\n\u001b[0;32m----> 1\u001b[0;31m \u001b[0mint\u001b[0m\u001b[0;34m(\u001b[0m\u001b[0;34m\"12.34\"\u001b[0m\u001b[0;34m)\u001b[0m\u001b[0;34m\u001b[0m\u001b[0m\n\u001b[0m",
      "\u001b[0;31mValueError\u001b[0m: invalid literal for int() with base 10: '12.34'"
     ]
    }
   ],
   "source": [
    "int(\"12.34\")"
   ]
  },
  {
   "cell_type": "code",
   "execution_count": 7,
   "metadata": {},
   "outputs": [
    {
     "data": {
      "text/plain": [
       "12.34"
      ]
     },
     "execution_count": 7,
     "metadata": {},
     "output_type": "execute_result"
    }
   ],
   "source": [
    "float(\"12.34\")"
   ]
  },
  {
   "cell_type": "code",
   "execution_count": 8,
   "metadata": {},
   "outputs": [
    {
     "name": "stdout",
     "output_type": "stream",
     "text": [
      "program started\n",
      "Enter a value:12\n",
      "enter b value:6\n",
      "a=12, b=6\n",
      "After conversion: a=12.0, b=6.0\n",
      "res=2.0\n",
      "other statements in progrm\n",
      "program ended\n"
     ]
    }
   ],
   "source": [
    "print \"program started\"\n",
    "a=raw_input(\"Enter a value:\")\n",
    "b=raw_input(\"enter b value:\")\n",
    "print \"a=%s, b=%s\"%(a,b)\n",
    "a=float(a)\n",
    "b=float(b)\n",
    "print \"After conversion: a=%s, b=%s\"%(a,b)\n",
    "res=a/b\n",
    "print \"res=%s\"%(res)\n",
    "print \"other statements in progrm\"\n",
    "print \"program ended\"\n"
   ]
  },
  {
   "cell_type": "code",
   "execution_count": 9,
   "metadata": {},
   "outputs": [
    {
     "name": "stdout",
     "output_type": "stream",
     "text": [
      "program started\n",
      "Enter a value:12.24\n",
      "enter b value:0.6\n",
      "a=12.24, b=0.6\n",
      "After conversion: a=12.24, b=0.6\n",
      "res=20.4\n",
      "other statements in progrm\n",
      "program ended\n"
     ]
    }
   ],
   "source": [
    "print \"program started\"\n",
    "a=raw_input(\"Enter a value:\")\n",
    "b=raw_input(\"enter b value:\")\n",
    "print \"a=%s, b=%s\"%(a,b)\n",
    "a=float(a)\n",
    "b=float(b)\n",
    "print \"After conversion: a=%s, b=%s\"%(a,b)\n",
    "res=a/b\n",
    "print \"res=%s\"%(res)\n",
    "print \"other statements in progrm\"\n",
    "print \"program ended\"\n"
   ]
  },
  {
   "cell_type": "code",
   "execution_count": 10,
   "metadata": {},
   "outputs": [
    {
     "name": "stdout",
     "output_type": "stream",
     "text": [
      "program started\n",
      "Enter a value:12\n",
      "enter b value:0\n",
      "a=12, b=0\n",
      "After conversion: a=12.0, b=0.0\n"
     ]
    },
    {
     "ename": "ZeroDivisionError",
     "evalue": "float division by zero",
     "output_type": "error",
     "traceback": [
      "\u001b[0;31m---------------------------------------------------------------------------\u001b[0m",
      "\u001b[0;31mZeroDivisionError\u001b[0m                         Traceback (most recent call last)",
      "\u001b[0;32m<ipython-input-10-937c0069da3b>\u001b[0m in \u001b[0;36m<module>\u001b[0;34m()\u001b[0m\n\u001b[1;32m      6\u001b[0m \u001b[0mb\u001b[0m\u001b[0;34m=\u001b[0m\u001b[0mfloat\u001b[0m\u001b[0;34m(\u001b[0m\u001b[0mb\u001b[0m\u001b[0;34m)\u001b[0m\u001b[0;34m\u001b[0m\u001b[0m\n\u001b[1;32m      7\u001b[0m \u001b[0;32mprint\u001b[0m \u001b[0;34m\"After conversion: a=%s, b=%s\"\u001b[0m\u001b[0;34m%\u001b[0m\u001b[0;34m(\u001b[0m\u001b[0ma\u001b[0m\u001b[0;34m,\u001b[0m\u001b[0mb\u001b[0m\u001b[0;34m)\u001b[0m\u001b[0;34m\u001b[0m\u001b[0m\n\u001b[0;32m----> 8\u001b[0;31m \u001b[0mres\u001b[0m\u001b[0;34m=\u001b[0m\u001b[0ma\u001b[0m\u001b[0;34m/\u001b[0m\u001b[0mb\u001b[0m\u001b[0;34m\u001b[0m\u001b[0m\n\u001b[0m\u001b[1;32m      9\u001b[0m \u001b[0;32mprint\u001b[0m \u001b[0;34m\"res=%s\"\u001b[0m\u001b[0;34m%\u001b[0m\u001b[0;34m(\u001b[0m\u001b[0mres\u001b[0m\u001b[0;34m)\u001b[0m\u001b[0;34m\u001b[0m\u001b[0m\n\u001b[1;32m     10\u001b[0m \u001b[0;32mprint\u001b[0m \u001b[0;34m\"other statements in progrm\"\u001b[0m\u001b[0;34m\u001b[0m\u001b[0m\n",
      "\u001b[0;31mZeroDivisionError\u001b[0m: float division by zero"
     ]
    }
   ],
   "source": [
    "print \"program started\"\n",
    "a=raw_input(\"Enter a value:\")\n",
    "b=raw_input(\"enter b value:\")\n",
    "print \"a=%s, b=%s\"%(a,b)\n",
    "a=float(a)\n",
    "b=float(b)\n",
    "print \"After conversion: a=%s, b=%s\"%(a,b)\n",
    "res=a/b\n",
    "print \"res=%s\"%(res)\n",
    "print \"other statements in progrm\"\n",
    "print \"program ended\""
   ]
  },
  {
   "cell_type": "code",
   "execution_count": 11,
   "metadata": {},
   "outputs": [
    {
     "name": "stdout",
     "output_type": "stream",
     "text": [
      "program started\n",
      "Enter a value:12\n",
      "enter b value:6\n",
      "a=12, b=6\n",
      "After conversion: a=12.0, b=6.0\n",
      "res=2.0\n",
      "other statements in progrm\n",
      "program ended\n"
     ]
    }
   ],
   "source": [
    "try:\n",
    "    print \"program started\"\n",
    "    a=raw_input(\"Enter a value:\")\n",
    "    b=raw_input(\"enter b value:\")\n",
    "    print \"a=%s, b=%s\"%(a,b)\n",
    "    a=float(a)\n",
    "    b=float(b)\n",
    "    print \"After conversion: a=%s, b=%s\"%(a,b)\n",
    "    res=a/b\n",
    "    print \"res=%s\"%(res)\n",
    "    print \"other statements in progrm\"\n",
    "    print \"program ended\"\n",
    "except:\n",
    "    print \"something went wrong\""
   ]
  },
  {
   "cell_type": "code",
   "execution_count": 12,
   "metadata": {},
   "outputs": [
    {
     "name": "stdout",
     "output_type": "stream",
     "text": [
      "program started\n",
      "Enter a value:12\n",
      "enter b value:0\n",
      "a=12, b=0\n",
      "After conversion: a=12.0, b=0.0\n",
      "something went wrong\n"
     ]
    }
   ],
   "source": [
    "try:\n",
    "    print \"program started\"\n",
    "    a=raw_input(\"Enter a value:\")\n",
    "    b=raw_input(\"enter b value:\")\n",
    "    print \"a=%s, b=%s\"%(a,b)\n",
    "    a=float(a)\n",
    "    b=float(b)\n",
    "    print \"After conversion: a=%s, b=%s\"%(a,b)\n",
    "    res=a/b\n",
    "    print \"res=%s\"%(res)\n",
    "    print \"other statements in progrm\"\n",
    "    print \"program ended\"\n",
    "except:\n",
    "    print \"something went wrong\"\n",
    "    "
   ]
  },
  {
   "cell_type": "code",
   "execution_count": 13,
   "metadata": {},
   "outputs": [
    {
     "name": "stdout",
     "output_type": "stream",
     "text": [
      "program started\n",
      "Enter a value:12\n",
      "enter b value:0\n",
      "a=12, b=0\n",
      "After conversion: a=12.0, b=0.0\n",
      "something went wrong\n",
      "main block statements\n"
     ]
    }
   ],
   "source": [
    "try:\n",
    "    print \"program started\"\n",
    "    a=raw_input(\"Enter a value:\")\n",
    "    b=raw_input(\"enter b value:\")\n",
    "    print \"a=%s, b=%s\"%(a,b)\n",
    "    a=float(a)\n",
    "    b=float(b)\n",
    "    print \"After conversion: a=%s, b=%s\"%(a,b)\n",
    "    res=a/b\n",
    "    print \"res=%s\"%(res)\n",
    "    print \"other statements in progrm\"\n",
    "    print \"program ended\"\n",
    "except:\n",
    "    print \"something went wrong\"\n",
    "print \"main block statements\""
   ]
  },
  {
   "cell_type": "code",
   "execution_count": 14,
   "metadata": {},
   "outputs": [
    {
     "name": "stdout",
     "output_type": "stream",
     "text": [
      "program started\n",
      "Enter a value:12\n",
      "enter b value:6\n",
      "a=12, b=6\n",
      "After conversion: a=12.0, b=6.0\n",
      "res=2.0\n",
      "other statements in progrm\n",
      "program ended\n",
      "main block statements\n"
     ]
    }
   ],
   "source": [
    "try:\n",
    "    print \"program started\"\n",
    "    a=raw_input(\"Enter a value:\")\n",
    "    b=raw_input(\"enter b value:\")\n",
    "    print \"a=%s, b=%s\"%(a,b)\n",
    "    a=float(a)\n",
    "    b=float(b)\n",
    "    print \"After conversion: a=%s, b=%s\"%(a,b)\n",
    "    res=a/b\n",
    "    print \"res=%s\"%(res)\n",
    "    print \"other statements in progrm\"\n",
    "    print \"program ended\"\n",
    "except:\n",
    "    print \"something went wrong\"\n",
    "print \"main block statements\""
   ]
  },
  {
   "cell_type": "code",
   "execution_count": null,
   "metadata": {
    "collapsed": true
   },
   "outputs": [],
   "source": [
    "print \"program started\"\n",
    "try:\n",
    "    \n",
    "    a=raw_input(\"Enter a value:\")\n",
    "    b=raw_input(\"enter b value:\")\n",
    "    print \"a=%s, b=%s\"%(a,b)\n",
    "    a=float(a)\n",
    "    b=float(b)\n",
    "    print \"After conversion: a=%s, b=%s\"%(a,b)\n",
    "    res=a/b\n",
    "    print \"res=%s\"%(res)\n",
    "    print \"other statements in progrm\"\n",
    "    print \"program ended\"\n",
    "except:\n",
    "    print \"something went wrong\"\n",
    "print \"main block statements\""
   ]
  },
  {
   "cell_type": "code",
   "execution_count": 15,
   "metadata": {},
   "outputs": [
    {
     "data": {
      "text/plain": [
       "0"
      ]
     },
     "execution_count": 15,
     "metadata": {},
     "output_type": "execute_result"
    }
   ],
   "source": [
    "s=\"pyton program\"\n",
    "s.index(\"p\")"
   ]
  },
  {
   "cell_type": "code",
   "execution_count": 16,
   "metadata": {},
   "outputs": [
    {
     "ename": "ValueError",
     "evalue": "substring not found",
     "output_type": "error",
     "traceback": [
      "\u001b[0;31m---------------------------------------------------------------------------\u001b[0m",
      "\u001b[0;31mValueError\u001b[0m                                Traceback (most recent call last)",
      "\u001b[0;32m<ipython-input-16-b7d70361fb28>\u001b[0m in \u001b[0;36m<module>\u001b[0;34m()\u001b[0m\n\u001b[1;32m      1\u001b[0m \u001b[0ms\u001b[0m\u001b[0;34m=\u001b[0m\u001b[0;34m\"pyton program\"\u001b[0m\u001b[0;34m\u001b[0m\u001b[0m\n\u001b[0;32m----> 2\u001b[0;31m \u001b[0ms\u001b[0m\u001b[0;34m.\u001b[0m\u001b[0mindex\u001b[0m\u001b[0;34m(\u001b[0m\u001b[0;34m\"java\"\u001b[0m\u001b[0;34m)\u001b[0m\u001b[0;34m\u001b[0m\u001b[0m\n\u001b[0m",
      "\u001b[0;31mValueError\u001b[0m: substring not found"
     ]
    }
   ],
   "source": [
    "s=\"pyton program\"\n",
    "s.index(\"java\")"
   ]
  },
  {
   "cell_type": "code",
   "execution_count": 17,
   "metadata": {},
   "outputs": [
    {
     "data": {
      "text/plain": [
       "-1"
      ]
     },
     "execution_count": 17,
     "metadata": {},
     "output_type": "execute_result"
    }
   ],
   "source": [
    "s=\"pyton program\"\n",
    "s.find(\"java\")"
   ]
  },
  {
   "cell_type": "code",
   "execution_count": 18,
   "metadata": {},
   "outputs": [
    {
     "ename": "ValueError",
     "evalue": "could not convert string to float: sdfsdf",
     "output_type": "error",
     "traceback": [
      "\u001b[0;31m---------------------------------------------------------------------------\u001b[0m",
      "\u001b[0;31mValueError\u001b[0m                                Traceback (most recent call last)",
      "\u001b[0;32m<ipython-input-18-250ba3da24d4>\u001b[0m in \u001b[0;36m<module>\u001b[0;34m()\u001b[0m\n\u001b[0;32m----> 1\u001b[0;31m \u001b[0mfloat\u001b[0m\u001b[0;34m(\u001b[0m\u001b[0;34m\"sdfsdf\"\u001b[0m\u001b[0;34m)\u001b[0m\u001b[0;34m\u001b[0m\u001b[0m\n\u001b[0m",
      "\u001b[0;31mValueError\u001b[0m: could not convert string to float: sdfsdf"
     ]
    }
   ],
   "source": [
    "float(\"sdfsdf\")"
   ]
  },
  {
   "cell_type": "code",
   "execution_count": 19,
   "metadata": {},
   "outputs": [
    {
     "name": "stdout",
     "output_type": "stream",
     "text": [
      "program started\n",
      "Enter a value:12\n",
      "enter b value:6\n",
      "a=12, b=6\n",
      "After conversion: a=12.0, b=6.0\n",
      "res=2.0\n",
      "main block statements\n",
      "other statements in progrm\n",
      "program ended\n"
     ]
    }
   ],
   "source": [
    "print \"program started\"\n",
    "a=raw_input(\"Enter a value:\")\n",
    "b=raw_input(\"enter b value:\")\n",
    "print \"a=%s, b=%s\"%(a,b)\n",
    "try:\n",
    "    a=float(a)\n",
    "    b=float(b)\n",
    "    print \"After conversion: a=%s, b=%s\"%(a,b)\n",
    "    res=a/b\n",
    "    print \"res=%s\"%(res)\n",
    "except:\n",
    "    print \"something went wrong\"\n",
    "print \"main block statements\"\n",
    "print \"other statements in progrm\"\n",
    "print \"program ended\""
   ]
  },
  {
   "cell_type": "code",
   "execution_count": 20,
   "metadata": {},
   "outputs": [
    {
     "name": "stdout",
     "output_type": "stream",
     "text": [
      "program started\n",
      "Enter a value:2\n",
      "enter b value:0\n",
      "a=2, b=0\n",
      "After conversion: a=2.0, b=0.0\n",
      "something went wrong\n",
      "main block statements\n",
      "other statements in progrm\n",
      "program ended\n"
     ]
    }
   ],
   "source": [
    "print \"program started\"\n",
    "a=raw_input(\"Enter a value:\")\n",
    "b=raw_input(\"enter b value:\")\n",
    "print \"a=%s, b=%s\"%(a,b)\n",
    "try:\n",
    "    a=float(a)\n",
    "    b=float(b)\n",
    "    print \"After conversion: a=%s, b=%s\"%(a,b)\n",
    "    res=a/b\n",
    "    print \"res=%s\"%(res)\n",
    "except:\n",
    "    print \"something went wrong\"\n",
    "print \"main block statements\"\n",
    "print \"other statements in progrm\"\n",
    "print \"program ended\""
   ]
  },
  {
   "cell_type": "code",
   "execution_count": 21,
   "metadata": {},
   "outputs": [
    {
     "name": "stdout",
     "output_type": "stream",
     "text": [
      "program started\n",
      "Enter a value:qwe\n",
      "enter b value:qwe\n",
      "a=qwe, b=qwe\n",
      "something went wrong\n",
      "main block statements\n",
      "other statements in progrm\n",
      "program ended\n"
     ]
    }
   ],
   "source": [
    "print \"program started\"\n",
    "a=raw_input(\"Enter a value:\")\n",
    "b=raw_input(\"enter b value:\")\n",
    "print \"a=%s, b=%s\"%(a,b)\n",
    "try:\n",
    "    a=float(a)\n",
    "    b=float(b)\n",
    "    print \"After conversion: a=%s, b=%s\"%(a,b)\n",
    "    res=a/b\n",
    "    print \"res=%s\"%(res)\n",
    "except:\n",
    "    print \"something went wrong\"\n",
    "print \"main block statements\"\n",
    "print \"other statements in progrm\"\n",
    "print \"program ended\""
   ]
  },
  {
   "cell_type": "code",
   "execution_count": 22,
   "metadata": {},
   "outputs": [
    {
     "name": "stdout",
     "output_type": "stream",
     "text": [
      "program started\n",
      "Enter a value:12\n",
      "enter b value:6\n",
      "a=12, b=6\n",
      "After conversion: a=12.0, b=6.0\n",
      "res=2.0\n",
      "main block statements\n",
      "other statements in progrm\n",
      "program ended\n"
     ]
    }
   ],
   "source": [
    "print \"program started\"\n",
    "a=raw_input(\"Enter a value:\")\n",
    "b=raw_input(\"enter b value:\")\n",
    "print \"a=%s, b=%s\"%(a,b)\n",
    "try:\n",
    "    a=float(a)\n",
    "    b=float(b)\n",
    "    print \"After conversion: a=%s, b=%s\"%(a,b)\n",
    "    res=a/b\n",
    "    print \"res=%s\"%(res)\n",
    "except:\n",
    "    print \"enter value b!=0\"\n",
    "    print \"Enter only digits\"\n",
    "    print \"something went wrong\"\n",
    "print \"main block statements\"\n",
    "print \"other statements in progrm\"\n",
    "print \"program ended\""
   ]
  },
  {
   "cell_type": "code",
   "execution_count": 23,
   "metadata": {},
   "outputs": [
    {
     "name": "stdout",
     "output_type": "stream",
     "text": [
      "program started\n",
      "Enter a value:12\n",
      "enter b value:0\n",
      "a=12, b=0\n",
      "After conversion: a=12.0, b=0.0\n",
      "enter value b!=0\n",
      "Enter only digits\n",
      "something went wrong\n",
      "main block statements\n",
      "other statements in progrm\n",
      "program ended\n"
     ]
    }
   ],
   "source": [
    "print \"program started\"\n",
    "a=raw_input(\"Enter a value:\")\n",
    "b=raw_input(\"enter b value:\")\n",
    "print \"a=%s, b=%s\"%(a,b)\n",
    "try:\n",
    "    a=float(a)\n",
    "    b=float(b)\n",
    "    print \"After conversion: a=%s, b=%s\"%(a,b)\n",
    "    res=a/b\n",
    "    print \"res=%s\"%(res)\n",
    "except:\n",
    "    print \"enter value b!=0\"\n",
    "    print \"Enter only digits\"\n",
    "    print \"something went wrong\"\n",
    "print \"main block statements\"\n",
    "print \"other statements in progrm\"\n",
    "print \"program ended\""
   ]
  },
  {
   "cell_type": "code",
   "execution_count": 24,
   "metadata": {},
   "outputs": [
    {
     "name": "stdout",
     "output_type": "stream",
     "text": [
      "program started\n",
      "Enter a value:12\n",
      "enter b value:6\n",
      "a=12, b=6\n",
      "After conversion: a=12.0, b=6.0\n",
      "res=2.0\n",
      "main block statements\n",
      "other statements in progrm\n",
      "program ended\n"
     ]
    }
   ],
   "source": [
    "print \"program started\"\n",
    "a=raw_input(\"Enter a value:\")\n",
    "b=raw_input(\"enter b value:\")\n",
    "print \"a=%s, b=%s\"%(a,b)\n",
    "try:\n",
    "    a=float(a)\n",
    "    b=float(b)\n",
    "    print \"After conversion: a=%s, b=%s\"%(a,b)\n",
    "    res=a/b\n",
    "    print \"res=%s\"%(res)\n",
    "except Exception as err:\n",
    "    print err\n",
    "    print \"something went wrong\"\n",
    "print \"main block statements\"\n",
    "print \"other statements in progrm\"\n",
    "print \"program ended\""
   ]
  },
  {
   "cell_type": "code",
   "execution_count": 26,
   "metadata": {},
   "outputs": [
    {
     "name": "stdout",
     "output_type": "stream",
     "text": [
      "program started\n",
      "Enter a value:12\n",
      "enter b value:0\n",
      "a=12, b=0\n",
      "After conversion: a=12.0, b=0.0\n",
      "error: float division by zero\n",
      "something went wrong\n",
      "main block statements\n",
      "other statements in progrm\n",
      "program ended\n"
     ]
    }
   ],
   "source": [
    "print \"program started\"\n",
    "a=raw_input(\"Enter a value:\")\n",
    "b=raw_input(\"enter b value:\")\n",
    "print \"a=%s, b=%s\"%(a,b)\n",
    "try:\n",
    "    a=float(a)\n",
    "    b=float(b)\n",
    "    print \"After conversion: a=%s, b=%s\"%(a,b)\n",
    "    res=a/b\n",
    "    print \"res=%s\"%(res)\n",
    "except Exception as err:\n",
    "    print \"error:\", err\n",
    "    print \"something went wrong\"\n",
    "print \"main block statements\"\n",
    "print \"other statements in progrm\"\n",
    "print \"program ended\""
   ]
  },
  {
   "cell_type": "code",
   "execution_count": 27,
   "metadata": {},
   "outputs": [
    {
     "name": "stdout",
     "output_type": "stream",
     "text": [
      "program started\n",
      "Enter a value:ad\n",
      "enter b value:12\n",
      "a=ad, b=12\n",
      "error: could not convert string to float: ad\n",
      "something went wrong\n",
      "main block statements\n",
      "other statements in progrm\n",
      "program ended\n"
     ]
    }
   ],
   "source": [
    "print \"program started\"\n",
    "a=raw_input(\"Enter a value:\")\n",
    "b=raw_input(\"enter b value:\")\n",
    "print \"a=%s, b=%s\"%(a,b)\n",
    "try:\n",
    "    a=float(a)\n",
    "    b=float(b)\n",
    "    print \"After conversion: a=%s, b=%s\"%(a,b)\n",
    "    res=a/b\n",
    "    print \"res=%s\"%(res)\n",
    "except Exception as err:\n",
    "    print \"error:\", err\n",
    "    print \"something went wrong\"\n",
    "print \"main block statements\"\n",
    "print \"other statements in progrm\"\n",
    "print \"program ended\""
   ]
  },
  {
   "cell_type": "code",
   "execution_count": 28,
   "metadata": {},
   "outputs": [
    {
     "name": "stdout",
     "output_type": "stream",
     "text": [
      "program started\n",
      "Enter a value:12\n",
      "enter b value:0\n",
      "a=12, b=0\n",
      "After conversion: a=12.0, b=0.0\n",
      "error: float division by zero\n",
      "enter b!=0\n",
      "main block statements\n",
      "other statements in progrm\n",
      "program ended\n"
     ]
    }
   ],
   "source": [
    "print \"program started\"\n",
    "a=raw_input(\"Enter a value:\")\n",
    "b=raw_input(\"enter b value:\")\n",
    "print \"a=%s, b=%s\"%(a,b)\n",
    "try:\n",
    "    a=float(a)\n",
    "    b=float(b)\n",
    "    print \"After conversion: a=%s, b=%s\"%(a,b)\n",
    "    res=a/b\n",
    "    print \"res=%s\"%(res)\n",
    "except ZeroDivisionError as err:\n",
    "    print \"error:\",err\n",
    "    print \"enter b!=0\"\n",
    "except Exception as err:\n",
    "    print \"error:\", err\n",
    "    print \"something went wrong\"\n",
    "print \"main block statements\"\n",
    "print \"other statements in progrm\"\n",
    "print \"program ended\""
   ]
  },
  {
   "cell_type": "code",
   "execution_count": 29,
   "metadata": {},
   "outputs": [
    {
     "name": "stdout",
     "output_type": "stream",
     "text": [
      "program started\n",
      "Enter a value:12\n",
      "enter b value:6\n",
      "a=12, b=6\n",
      "After conversion: a=12.0, b=6.0\n",
      "res=2.0\n",
      "main block statements\n",
      "other statements in progrm\n",
      "program ended\n"
     ]
    }
   ],
   "source": [
    "print \"program started\"\n",
    "a=raw_input(\"Enter a value:\")\n",
    "b=raw_input(\"enter b value:\")\n",
    "print \"a=%s, b=%s\"%(a,b)\n",
    "try:\n",
    "    a=float(a)\n",
    "    b=float(b)\n",
    "    print \"After conversion: a=%s, b=%s\"%(a,b)\n",
    "    res=a/b\n",
    "    print \"res=%s\"%(res)\n",
    "except ValueError as err:\n",
    "    print \"erroe:\",err\n",
    "    print \"Enter only digits\"\n",
    "except ZeroDivisionError as err:\n",
    "    print \"error:\",err\n",
    "    print \"enter b!=0\"\n",
    "except Exception as err:\n",
    "    print \"error:\", err\n",
    "    print \"something went wrong\"\n",
    "print \"main block statements\"\n",
    "print \"other statements in progrm\"\n",
    "print \"program ended\""
   ]
  },
  {
   "cell_type": "code",
   "execution_count": 30,
   "metadata": {},
   "outputs": [
    {
     "name": "stdout",
     "output_type": "stream",
     "text": [
      "program started\n",
      "Enter a value:qw\n",
      "enter b value:qw\n",
      "a=qw, b=qw\n",
      "erroe: could not convert string to float: qw\n",
      "Enter only digits\n",
      "main block statements\n",
      "other statements in progrm\n",
      "program ended\n"
     ]
    }
   ],
   "source": [
    "print \"program started\"\n",
    "a=raw_input(\"Enter a value:\")\n",
    "b=raw_input(\"enter b value:\")\n",
    "print \"a=%s, b=%s\"%(a,b)\n",
    "try:\n",
    "    a=float(a)\n",
    "    b=float(b)\n",
    "    print \"After conversion: a=%s, b=%s\"%(a,b)\n",
    "    res=a/b\n",
    "    print \"res=%s\"%(res)\n",
    "except ValueError as err:\n",
    "    print \"erroe:\",err\n",
    "    print \"Enter only digits\"\n",
    "except ZeroDivisionError as err:\n",
    "    print \"error:\",err\n",
    "    print \"enter b!=0\"\n",
    "except Exception as err:\n",
    "    print \"error:\", err\n",
    "    print \"something went wrong\"\n",
    "print \"main block statements\"\n",
    "print \"other statements in progrm\"\n",
    "print \"program ended\""
   ]
  },
  {
   "cell_type": "code",
   "execution_count": 31,
   "metadata": {},
   "outputs": [
    {
     "name": "stdout",
     "output_type": "stream",
     "text": [
      "program started\n",
      "Enter a value:2\n",
      "enter b value:0\n",
      "a=2, b=0\n",
      "After conversion: a=2.0, b=0.0\n",
      "error: float division by zero\n",
      "enter b!=0\n",
      "main block statements\n",
      "other statements in progrm\n",
      "program ended\n"
     ]
    }
   ],
   "source": [
    "print \"program started\"\n",
    "a=raw_input(\"Enter a value:\")\n",
    "b=raw_input(\"enter b value:\")\n",
    "print \"a=%s, b=%s\"%(a,b)\n",
    "try:\n",
    "    a=float(a)\n",
    "    b=float(b)\n",
    "    print \"After conversion: a=%s, b=%s\"%(a,b)\n",
    "    res=a/b\n",
    "    print \"res=%s\"%(res)\n",
    "except ValueError as err:\n",
    "    print \"erroe:\",err\n",
    "    print \"Enter only digits\"\n",
    "except ZeroDivisionError as err:\n",
    "    print \"error:\",err\n",
    "    print \"enter b!=0\"\n",
    "except Exception as err:\n",
    "    print \"error:\", err\n",
    "    print \"something went wrong\"\n",
    "print \"main block statements\"\n",
    "print \"other statements in progrm\"\n",
    "print \"program ended\""
   ]
  },
  {
   "cell_type": "code",
   "execution_count": 32,
   "metadata": {},
   "outputs": [
    {
     "ename": "TypeError",
     "evalue": "unsupported operand type(s) for +: 'int' and 'str'",
     "output_type": "error",
     "traceback": [
      "\u001b[0;31m---------------------------------------------------------------------------\u001b[0m",
      "\u001b[0;31mTypeError\u001b[0m                                 Traceback (most recent call last)",
      "\u001b[0;32m<ipython-input-32-f70e224c34ee>\u001b[0m in \u001b[0;36m<module>\u001b[0;34m()\u001b[0m\n\u001b[0;32m----> 1\u001b[0;31m \u001b[0;36m12\u001b[0m\u001b[0;34m+\u001b[0m\u001b[0;34m\"sd\"\u001b[0m\u001b[0;34m\u001b[0m\u001b[0m\n\u001b[0m",
      "\u001b[0;31mTypeError\u001b[0m: unsupported operand type(s) for +: 'int' and 'str'"
     ]
    }
   ],
   "source": [
    "12+\"sd\""
   ]
  },
  {
   "cell_type": "code",
   "execution_count": 33,
   "metadata": {},
   "outputs": [
    {
     "name": "stdout",
     "output_type": "stream",
     "text": [
      "program started\n",
      "Enter a value:12\n",
      "enter b value:3\n",
      "a=12, b=3\n",
      "After conversion: a=12.0, b=3.0\n",
      "error: unsupported operand type(s) for +: 'int' and 'str'\n",
      "something went wrong\n",
      "main block statements\n",
      "other statements in progrm\n",
      "program ended\n"
     ]
    }
   ],
   "source": [
    "print \"program started\"\n",
    "a=raw_input(\"Enter a value:\")\n",
    "b=raw_input(\"enter b value:\")\n",
    "print \"a=%s, b=%s\"%(a,b)\n",
    "try:\n",
    "    a=float(a)\n",
    "    b=float(b)\n",
    "    print \"After conversion: a=%s, b=%s\"%(a,b)\n",
    "    res=a/b\n",
    "    print 12+\"sdfsd\"\n",
    "    print \"res=%s\"%(res)\n",
    "except ValueError as err:\n",
    "    print \"erroe:\",err\n",
    "    print \"Enter only digits\"\n",
    "except ZeroDivisionError as err:\n",
    "    print \"error:\",err\n",
    "    print \"enter b!=0\"\n",
    "except Exception as err:\n",
    "    print \"error:\", err\n",
    "    print \"something went wrong\"\n",
    "print \"main block statements\"\n",
    "print \"other statements in progrm\"\n",
    "print \"program ended\""
   ]
  },
  {
   "cell_type": "code",
   "execution_count": 34,
   "metadata": {},
   "outputs": [
    {
     "name": "stdout",
     "output_type": "stream",
     "text": [
      "program started\n",
      "Enter a value:12\n",
      "enter b value:6\n",
      "a=12, b=6\n",
      "After conversion: a=12.0, b=6.0\n",
      "error: unsupported operand type(s) for +: 'int' and 'str'\n",
      "something went wrong\n",
      "FINALLY BLOCK\n",
      "main block statements\n",
      "other statements in progrm\n",
      "program ended\n"
     ]
    }
   ],
   "source": [
    "print \"program started\"\n",
    "a=raw_input(\"Enter a value:\")\n",
    "b=raw_input(\"enter b value:\")\n",
    "print \"a=%s, b=%s\"%(a,b)\n",
    "try:\n",
    "    a=float(a)\n",
    "    b=float(b)\n",
    "    print \"After conversion: a=%s, b=%s\"%(a,b)\n",
    "    res=a/b\n",
    "    print 12+\"sdfsd\"\n",
    "    print \"res=%s\"%(res)\n",
    "except ValueError as err:\n",
    "    print \"erroe:\",err\n",
    "    print \"Enter only digits\"\n",
    "except ZeroDivisionError as err:\n",
    "    print \"error:\",err\n",
    "    print \"enter b!=0\"\n",
    "except Exception as err:\n",
    "    print \"error:\", err\n",
    "    print \"something went wrong\"\n",
    "finally:\n",
    "    print \"FINALLY BLOCK\"\n",
    "print \"main block statements\"\n",
    "print \"other statements in progrm\"\n",
    "print \"program ended\""
   ]
  },
  {
   "cell_type": "code",
   "execution_count": 35,
   "metadata": {},
   "outputs": [
    {
     "name": "stdout",
     "output_type": "stream",
     "text": [
      "program started\n",
      "Enter a value:2\n",
      "enter b value:0\n",
      "a=2, b=0\n",
      "After conversion: a=2.0, b=0.0\n",
      "error: float division by zero\n",
      "enter b!=0\n",
      "FINALLY BLOCK\n",
      "main block statements\n",
      "other statements in progrm\n",
      "program ended\n"
     ]
    }
   ],
   "source": [
    "print \"program started\"\n",
    "a=raw_input(\"Enter a value:\")\n",
    "b=raw_input(\"enter b value:\")\n",
    "print \"a=%s, b=%s\"%(a,b)\n",
    "try:\n",
    "    a=float(a)\n",
    "    b=float(b)\n",
    "    print \"After conversion: a=%s, b=%s\"%(a,b)\n",
    "    res=a/b\n",
    "    print 12+\"sdfsd\"\n",
    "    print \"res=%s\"%(res)\n",
    "except ValueError as err:\n",
    "    print \"erroe:\",err\n",
    "    print \"Enter only digits\"\n",
    "except ZeroDivisionError as err:\n",
    "    print \"error:\",err\n",
    "    print \"enter b!=0\"\n",
    "except Exception as err:\n",
    "    print \"error:\", err\n",
    "    print \"something went wrong\"\n",
    "finally:\n",
    "    print \"FINALLY BLOCK\"\n",
    "print \"main block statements\"\n",
    "print \"other statements in progrm\"\n",
    "print \"program ended\""
   ]
  },
  {
   "cell_type": "code",
   "execution_count": 36,
   "metadata": {},
   "outputs": [
    {
     "name": "stdout",
     "output_type": "stream",
     "text": [
      "program started\n",
      "Enter a value:12\n",
      "enter b value:0\n",
      "a=12, b=0\n",
      "After conversion: a=12.0, b=0.0\n",
      "error: float division by zero\n",
      "enter b!=0\n",
      "FINALLY BLOCK\n",
      "main block statements\n",
      "other statements in progrm\n",
      "program ended\n"
     ]
    }
   ],
   "source": [
    "print \"program started\"\n",
    "a=raw_input(\"Enter a value:\")\n",
    "b=raw_input(\"enter b value:\")\n",
    "print \"a=%s, b=%s\"%(a,b)\n",
    "try:\n",
    "    a=float(a)\n",
    "    b=float(b)\n",
    "    print \"After conversion: a=%s, b=%s\"%(a,b)\n",
    "    res=a/b\n",
    "    print \"res=%s\"%(res)\n",
    "except ValueError as err:\n",
    "    print \"erroe:\",err\n",
    "    print \"Enter only digits\"\n",
    "except ZeroDivisionError as err:\n",
    "    print \"error:\",err\n",
    "    print \"enter b!=0\"\n",
    "except Exception as err:\n",
    "    print \"error:\", err\n",
    "    print \"something went wrong\"\n",
    "finally:\n",
    "    print \"FINALLY BLOCK\"\n",
    "print \"main block statements\"\n",
    "print \"other statements in progrm\"\n",
    "print \"program ended\""
   ]
  },
  {
   "cell_type": "code",
   "execution_count": 37,
   "metadata": {},
   "outputs": [
    {
     "name": "stdout",
     "output_type": "stream",
     "text": [
      "program started\n",
      "Enter a value:2\n",
      "enter b value:6\n",
      "a=2, b=6\n",
      "After conversion: a=2.0, b=6.0\n",
      "res=0.333333333333\n",
      "FINALLY BLOCK\n",
      "main block statements\n",
      "other statements in progrm\n",
      "program ended\n"
     ]
    }
   ],
   "source": [
    "print \"program started\"\n",
    "a=raw_input(\"Enter a value:\")\n",
    "b=raw_input(\"enter b value:\")\n",
    "print \"a=%s, b=%s\"%(a,b)\n",
    "try:\n",
    "    a=float(a)\n",
    "    b=float(b)\n",
    "    print \"After conversion: a=%s, b=%s\"%(a,b)\n",
    "    res=a/b\n",
    "    print \"res=%s\"%(res)\n",
    "except ValueError as err:\n",
    "    print \"erroe:\",err\n",
    "    print \"Enter only digits\"\n",
    "except ZeroDivisionError as err:\n",
    "    print \"error:\",err\n",
    "    print \"enter b!=0\"\n",
    "except Exception as err:\n",
    "    print \"error:\", err\n",
    "    print \"something went wrong\"\n",
    "finally:\n",
    "    print \"FINALLY BLOCK\"\n",
    "print \"main block statements\"\n",
    "print \"other statements in progrm\"\n",
    "print \"program ended\""
   ]
  },
  {
   "cell_type": "code",
   "execution_count": 38,
   "metadata": {},
   "outputs": [
    {
     "name": "stdout",
     "output_type": "stream",
     "text": [
      "program started\n",
      "Enter a value:12\n",
      "enter b value:6\n",
      "a=12, b=6\n",
      "After conversion: a=12.0, b=6.0\n",
      "res=2.0\n",
      "else block\n",
      "FINALLY BLOCK\n",
      "main block statements\n",
      "other statements in progrm\n",
      "program ended\n"
     ]
    }
   ],
   "source": [
    "print \"program started\"\n",
    "a=raw_input(\"Enter a value:\")\n",
    "b=raw_input(\"enter b value:\")\n",
    "print \"a=%s, b=%s\"%(a,b)\n",
    "try:\n",
    "    a=float(a)\n",
    "    b=float(b)\n",
    "    print \"After conversion: a=%s, b=%s\"%(a,b)\n",
    "    res=a/b\n",
    "    print \"res=%s\"%(res)\n",
    "except ValueError as err:\n",
    "    print \"erroe:\",err\n",
    "    print \"Enter only digits\"\n",
    "except ZeroDivisionError as err:\n",
    "    print \"error:\",err\n",
    "    print \"enter b!=0\"\n",
    "except Exception as err:\n",
    "    print \"error:\", err\n",
    "    print \"something went wrong\"\n",
    "else:\n",
    "    print \"else block\"\n",
    "finally:\n",
    "    print \"FINALLY BLOCK\"\n",
    "print \"main block statements\"\n",
    "print \"other statements in progrm\"\n",
    "print \"program ended\""
   ]
  },
  {
   "cell_type": "code",
   "execution_count": 39,
   "metadata": {},
   "outputs": [
    {
     "name": "stdout",
     "output_type": "stream",
     "text": [
      "program started\n",
      "Enter a value:2\n",
      "enter b value:0\n",
      "a=2, b=0\n",
      "After conversion: a=2.0, b=0.0\n",
      "error: float division by zero\n",
      "enter b!=0\n",
      "FINALLY BLOCK\n",
      "main block statements\n",
      "other statements in progrm\n",
      "program ended\n"
     ]
    }
   ],
   "source": [
    "print \"program started\"\n",
    "a=raw_input(\"Enter a value:\")\n",
    "b=raw_input(\"enter b value:\")\n",
    "print \"a=%s, b=%s\"%(a,b)\n",
    "try:\n",
    "    a=float(a)\n",
    "    b=float(b)\n",
    "    print \"After conversion: a=%s, b=%s\"%(a,b)\n",
    "    res=a/b\n",
    "    print \"res=%s\"%(res)\n",
    "except ValueError as err:\n",
    "    print \"erroe:\",err\n",
    "    print \"Enter only digits\"\n",
    "except ZeroDivisionError as err:\n",
    "    print \"error:\",err\n",
    "    print \"enter b!=0\"\n",
    "except Exception as err:\n",
    "    print \"error:\", err\n",
    "    print \"something went wrong\"\n",
    "else:\n",
    "    print \"else block\"\n",
    "finally:\n",
    "    print \"FINALLY BLOCK\"\n",
    "print \"main block statements\"\n",
    "print \"other statements in progrm\"\n",
    "print \"program ended\""
   ]
  },
  {
   "cell_type": "code",
   "execution_count": null,
   "metadata": {
    "collapsed": true
   },
   "outputs": [],
   "source": [
    "1"
   ]
  }
 ],
 "metadata": {
  "kernelspec": {
   "display_name": "Python 2",
   "language": "python",
   "name": "python2"
  },
  "language_info": {
   "codemirror_mode": {
    "name": "ipython",
    "version": 2
   },
   "file_extension": ".py",
   "mimetype": "text/x-python",
   "name": "python",
   "nbconvert_exporter": "python",
   "pygments_lexer": "ipython2",
   "version": "2.7.14"
  }
 },
 "nbformat": 4,
 "nbformat_minor": 2
}
