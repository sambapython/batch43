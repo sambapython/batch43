{
 "cells": [
  {
   "cell_type": "code",
   "execution_count": 1,
   "metadata": {},
   "outputs": [
    {
     "name": "stdout",
     "output_type": "stream",
     "text": [
      "this is op1 in c1\n"
     ]
    }
   ],
   "source": [
    "class c1:\n",
    "    def op1(self):\n",
    "        print \"this is op1 in c1\"\n",
    "class c2(c1):\n",
    "    def operations(self):\n",
    "        self.op1()\n",
    "o2=c2()\n",
    "o2.operations()"
   ]
  },
  {
   "cell_type": "code",
   "execution_count": 2,
   "metadata": {},
   "outputs": [
    {
     "name": "stdout",
     "output_type": "stream",
     "text": [
      "this is op1 in c2\n"
     ]
    }
   ],
   "source": [
    "class c1:\n",
    "    def op1(self):\n",
    "        print \"this is op1 in c1\"\n",
    "class c2(c1):\n",
    "    def op1(self):\n",
    "        print \"this is op1 in c2\"\n",
    "    def operations(self):\n",
    "        self.op1()\n",
    "o2=c2()\n",
    "o2.operations()"
   ]
  },
  {
   "cell_type": "code",
   "execution_count": null,
   "metadata": {
    "collapsed": true
   },
   "outputs": [],
   "source": [
    "class c1:\n",
    "    def op1(self):\n",
    "        print \"this is op1 in c1\"\n",
    "class c2(c1):\n",
    "    def op1(self):\n",
    "        print \"this is op1 in c2\"\n",
    "        self.op1()\n",
    "        \n",
    "    def operations(self):\n",
    "        self.op1()\n",
    "o2=c2()\n",
    "o2.operations()"
   ]
  },
  {
   "cell_type": "code",
   "execution_count": 3,
   "metadata": {},
   "outputs": [
    {
     "name": "stdout",
     "output_type": "stream",
     "text": [
      "this is op1 in c2\n"
     ]
    }
   ],
   "source": [
    "class c1:\n",
    "    def op1(self):\n",
    "        print \"this is op1 in c1\"\n",
    "class c2(c1):\n",
    "    def op1(self):\n",
    "        print \"this is op1 in c2\"\n",
    "        \n",
    "        \n",
    "    def operations(self):\n",
    "        self.op1()\n",
    "o2=c2()\n",
    "o2.operations()"
   ]
  },
  {
   "cell_type": "code",
   "execution_count": 6,
   "metadata": {},
   "outputs": [
    {
     "name": "stdout",
     "output_type": "stream",
     "text": [
      "this is op1 in c2\n",
      "this is op1 in c1\n"
     ]
    }
   ],
   "source": [
    "class c1:\n",
    "    def op1(self):\n",
    "        print \"this is op1 in c1\"\n",
    "class c2(c1):\n",
    "    def op1(self):\n",
    "        print \"this is op1 in c2\"\n",
    "    def operations(self):\n",
    "        self.op1()\n",
    "        c1.op1(self)\n",
    "        \n",
    "        \n",
    "o2=c2()\n",
    "o2.operations()\n",
    "#c2.operations(o2)"
   ]
  },
  {
   "cell_type": "code",
   "execution_count": 7,
   "metadata": {},
   "outputs": [
    {
     "name": "stdout",
     "output_type": "stream",
     "text": [
      "this is op1 in c2\n",
      "this is op1 in c1\n",
      "this is op1 in c1\n"
     ]
    }
   ],
   "source": [
    "class c1:\n",
    "    def op1(self):\n",
    "        print \"this is op1 in c1\"\n",
    "class c2(c1):\n",
    "    def op1(self):\n",
    "        print \"this is op1 in c2\"\n",
    "        c1.op1(self)\n",
    "    def operations(self):\n",
    "        self.op1()\n",
    "        c1.op1(self)\n",
    "        \n",
    "        \n",
    "o2=c2()\n",
    "o2.operations()\n",
    "#c2.operations(o2)"
   ]
  },
  {
   "cell_type": "code",
   "execution_count": 8,
   "metadata": {},
   "outputs": [
    {
     "name": "stdout",
     "output_type": "stream",
     "text": [
      "insert into database: {'c_id': '228', 'name': 'samba'}\n"
     ]
    }
   ],
   "source": [
    "class Model:\n",
    "    def create(self, **data):\n",
    "        print \"insert into database:\",data\n",
    "        \n",
    "class Customer(Model):\n",
    "    def __init__(self,name,c_id):\n",
    "        self.name=name\n",
    "        self.c_id=c_id\n",
    "    \n",
    "samba = Customer(\"samba\",\"228\")\n",
    "samba.create(name=samba.name, c_id=samba.c_id)"
   ]
  },
  {
   "cell_type": "code",
   "execution_count": 10,
   "metadata": {},
   "outputs": [
    {
     "name": "stdout",
     "output_type": "stream",
     "text": [
      "insert into database: {'c_id': '228', 'name': 'samba'}\n",
      "insert into database: {'s_id': 1, 'name': 'sup1'}\n",
      "Invalid data\n"
     ]
    }
   ],
   "source": [
    "class Model:\n",
    "    def create(self, **data):\n",
    "        print \"insert into database:\",data\n",
    "        \n",
    "class Customer(Model):\n",
    "    def __init__(self,name,c_id):\n",
    "        self.name=name\n",
    "        self.c_id=c_id\n",
    "class Supplier(Model):\n",
    "    def __init__(self,name,s_id):\n",
    "        self.name=name\n",
    "        self.s_id=s_id\n",
    "    def verify_create(self,**data):\n",
    "        if isinstance(data['s_id'],int):\n",
    "            print \"insert into database:\",data\n",
    "        else:\n",
    "            print \"Invalid data\"\n",
    "    \n",
    "samba = Customer(\"samba\",\"228\")\n",
    "samba.create(name=samba.name, c_id=samba.c_id)\n",
    "sup1=Supplier(\"sup1\",1)\n",
    "sup2=Supplier(\"sup2\",\"23\")\n",
    "sup1.verify_create(name=sup1.name, s_id=sup1.s_id)\n",
    "sup2.verify_create(name=sup2.name, s_id=sup2.s_id)"
   ]
  },
  {
   "cell_type": "code",
   "execution_count": 11,
   "metadata": {},
   "outputs": [
    {
     "name": "stdout",
     "output_type": "stream",
     "text": [
      "insert into database: {'c_id': '228', 'name': 'samba'}\n",
      "insert into database: {'s_id': 1, 'name': 'sup1'}\n",
      "Invalid data\n"
     ]
    }
   ],
   "source": [
    "class Model:\n",
    "    def create(self, **data):\n",
    "        print \"insert into database:\",data\n",
    "        \n",
    "class Customer(Model):\n",
    "    def __init__(self,name,c_id):\n",
    "        self.name=name\n",
    "        self.c_id=c_id\n",
    "class Supplier(Model):\n",
    "    def __init__(self,name,s_id):\n",
    "        self.name=name\n",
    "        self.s_id=s_id\n",
    "    def create(self,**data):\n",
    "        if isinstance(data['s_id'],int):\n",
    "            print \"insert into database:\",data\n",
    "        else:\n",
    "            print \"Invalid data\"\n",
    "    \n",
    "samba = Customer(\"samba\",\"228\")\n",
    "samba.create(name=samba.name, c_id=samba.c_id)\n",
    "sup1=Supplier(\"sup1\",1)\n",
    "sup2=Supplier(\"sup2\",\"23\")\n",
    "sup1.create(name=sup1.name, s_id=sup1.s_id)\n",
    "sup2.create(name=sup2.name, s_id=sup2.s_id)"
   ]
  },
  {
   "cell_type": "code",
   "execution_count": 12,
   "metadata": {},
   "outputs": [
    {
     "name": "stdout",
     "output_type": "stream",
     "text": [
      "insert into database: {'c_id': '228', 'name': 'samba'}\n",
      "insert into database: {'s_id': 1, 'name': 'sup1'}\n",
      "Invalid data\n"
     ]
    }
   ],
   "source": [
    "class Model:\n",
    "    def create(self, **data):\n",
    "        print \"insert into database:\",data\n",
    "        \n",
    "class Customer(Model):\n",
    "    def __init__(self,name,c_id):\n",
    "        self.name=name\n",
    "        self.c_id=c_id\n",
    "class Supplier(Model):\n",
    "    def __init__(self,name,s_id):\n",
    "        self.name=name\n",
    "        self.s_id=s_id\n",
    "    def verify_create(self,**data):\n",
    "        if isinstance(data['s_id'],int):\n",
    "            self.create(**data)\n",
    "        else:\n",
    "            print \"Invalid data\"\n",
    "    \n",
    "samba = Customer(\"samba\",\"228\")\n",
    "samba.create(name=samba.name, c_id=samba.c_id)\n",
    "sup1=Supplier(\"sup1\",1)\n",
    "sup2=Supplier(\"sup2\",\"23\")\n",
    "sup1.verify_create(name=sup1.name, s_id=sup1.s_id)\n",
    "sup2.verify_create(name=sup2.name, s_id=sup2.s_id)"
   ]
  },
  {
   "cell_type": "code",
   "execution_count": 14,
   "metadata": {},
   "outputs": [
    {
     "name": "stdout",
     "output_type": "stream",
     "text": [
      "insert into database: {'c_id': '228', 'name': 'samba'}\n",
      "insert into database: {'s_id': 1, 'name': 'sup1'}\n",
      "Invalid data\n"
     ]
    }
   ],
   "source": [
    "# methosd overriding\n",
    "class Model:\n",
    "    def create(self, **data):\n",
    "        print \"insert into database:\",data\n",
    "        \n",
    "class Customer(Model):\n",
    "    def __init__(self,name,c_id):\n",
    "        self.name=name\n",
    "        self.c_id=c_id\n",
    "        \n",
    "class Supplier(Model):\n",
    "    def __init__(self,name,s_id):\n",
    "        self.name=name\n",
    "        self.s_id=s_id\n",
    "    def create(self,**data):\n",
    "        if isinstance(data['s_id'],int):\n",
    "            Model.create(self,**data)\n",
    "        else:\n",
    "            print \"Invalid data\"\n",
    "    def insert(self,**data):\n",
    "        Model.create(self,**data)\n",
    "    \n",
    "samba = Customer(\"samba\",\"228\")\n",
    "samba.create(name=samba.name, c_id=samba.c_id)\n",
    "sup1=Supplier(\"sup1\",1)\n",
    "sup2=Supplier(\"sup2\",\"23\")\n",
    "sup1.create(name=sup1.name, s_id=sup1.s_id)\n",
    "sup2.create(name=sup2.name, s_id=sup2.s_id)"
   ]
  },
  {
   "cell_type": "code",
   "execution_count": 15,
   "metadata": {
    "collapsed": true
   },
   "outputs": [],
   "source": [
    "class c1:\n",
    "    def op1(self):\n",
    "        print \"this is op1 in c1\"\n",
    "        \n",
    "class c2(c1):\n",
    "    def op2(self):\n",
    "        print \"this is op2 in c2\"\n",
    "o2=c2()"
   ]
  },
  {
   "cell_type": "code",
   "execution_count": 16,
   "metadata": {},
   "outputs": [
    {
     "ename": "TypeError",
     "evalue": "__init__() takes exactly 3 arguments (1 given)",
     "output_type": "error",
     "traceback": [
      "\u001b[0;31m---------------------------------------------------------------------------\u001b[0m",
      "\u001b[0;31mTypeError\u001b[0m                                 Traceback (most recent call last)",
      "\u001b[0;32m<ipython-input-16-3b347dd89cc8>\u001b[0m in \u001b[0;36m<module>\u001b[0;34m()\u001b[0m\n\u001b[1;32m     10\u001b[0m     \u001b[0;32mdef\u001b[0m \u001b[0mop2\u001b[0m\u001b[0;34m(\u001b[0m\u001b[0mself\u001b[0m\u001b[0;34m)\u001b[0m\u001b[0;34m:\u001b[0m\u001b[0;34m\u001b[0m\u001b[0m\n\u001b[1;32m     11\u001b[0m         \u001b[0;32mprint\u001b[0m \u001b[0;34m\"this is op2 in c2\"\u001b[0m\u001b[0;34m\u001b[0m\u001b[0m\n\u001b[0;32m---> 12\u001b[0;31m \u001b[0mo2\u001b[0m\u001b[0;34m=\u001b[0m\u001b[0mc2\u001b[0m\u001b[0;34m(\u001b[0m\u001b[0;34m)\u001b[0m\u001b[0;34m\u001b[0m\u001b[0m\n\u001b[0m",
      "\u001b[0;31mTypeError\u001b[0m: __init__() takes exactly 3 arguments (1 given)"
     ]
    }
   ],
   "source": [
    "class c1:\n",
    "    def op1(self):\n",
    "        print \"this is op1 in c1\"\n",
    "        \n",
    "class c2(c1):\n",
    "    def __init__(self,a,b):\n",
    "        self.a=a\n",
    "        self.b=b\n",
    "        \n",
    "    def op2(self):\n",
    "        print \"this is op2 in c2\"\n",
    "o2=c2()"
   ]
  },
  {
   "cell_type": "code",
   "execution_count": 17,
   "metadata": {
    "collapsed": true
   },
   "outputs": [],
   "source": [
    "class c1:\n",
    "    def op1(self):\n",
    "        print \"this is op1 in c1\"\n",
    "        \n",
    "class c2(c1):\n",
    "    def __init__(self,a,b):\n",
    "        self.a=a\n",
    "        self.b=b\n",
    "        \n",
    "    def op2(self):\n",
    "        print \"this is op2 in c2\"\n",
    "o2=c2(100,200)"
   ]
  },
  {
   "cell_type": "code",
   "execution_count": 18,
   "metadata": {},
   "outputs": [
    {
     "ename": "TypeError",
     "evalue": "__init__() takes exactly 3 arguments (1 given)",
     "output_type": "error",
     "traceback": [
      "\u001b[0;31m---------------------------------------------------------------------------\u001b[0m",
      "\u001b[0;31mTypeError\u001b[0m                                 Traceback (most recent call last)",
      "\u001b[0;32m<ipython-input-18-dda693421c5e>\u001b[0m in \u001b[0;36m<module>\u001b[0;34m()\u001b[0m\n\u001b[1;32m     10\u001b[0m     \u001b[0;32mdef\u001b[0m \u001b[0mop2\u001b[0m\u001b[0;34m(\u001b[0m\u001b[0mself\u001b[0m\u001b[0;34m)\u001b[0m\u001b[0;34m:\u001b[0m\u001b[0;34m\u001b[0m\u001b[0m\n\u001b[1;32m     11\u001b[0m         \u001b[0;32mprint\u001b[0m \u001b[0;34m\"this is op2 in c2\"\u001b[0m\u001b[0;34m\u001b[0m\u001b[0m\n\u001b[0;32m---> 12\u001b[0;31m \u001b[0mo2\u001b[0m\u001b[0;34m=\u001b[0m\u001b[0mc2\u001b[0m\u001b[0;34m(\u001b[0m\u001b[0;34m)\u001b[0m\u001b[0;34m\u001b[0m\u001b[0m\n\u001b[0m",
      "\u001b[0;31mTypeError\u001b[0m: __init__() takes exactly 3 arguments (1 given)"
     ]
    }
   ],
   "source": [
    "class c1:\n",
    "    def __init__(self,a,b):\n",
    "        self.a=a\n",
    "        self.b=b\n",
    "        \n",
    "    def op1(self):\n",
    "        print \"this is op1 in c1\"\n",
    "        \n",
    "class c2(c1):\n",
    "    def op2(self):\n",
    "        print \"this is op2 in c2\"\n",
    "o2=c2()"
   ]
  },
  {
   "cell_type": "code",
   "execution_count": 19,
   "metadata": {
    "collapsed": true
   },
   "outputs": [],
   "source": [
    "class c1:\n",
    "    def __init__(self,a,b):\n",
    "        self.a=a\n",
    "        self.b=b\n",
    "        \n",
    "    def op1(self):\n",
    "        print \"this is op1 in c1\"\n",
    "        \n",
    "class c2(c1):\n",
    "    def op2(self):\n",
    "        print \"this is op2 in c2\"\n",
    "o2=c2(100,200)"
   ]
  },
  {
   "cell_type": "code",
   "execution_count": 20,
   "metadata": {
    "collapsed": true
   },
   "outputs": [],
   "source": [
    "class c1:\n",
    "    def __init__(self,a,b):\n",
    "        self.a=a\n",
    "        self.b=b\n",
    "        \n",
    "    def op1(self):\n",
    "        print \"this is op1 in c1\"\n",
    "        \n",
    "class c2(c1):\n",
    "    def __init__(self,c):\n",
    "        self.c=c\n",
    "        \n",
    "    def get(self):\n",
    "        return self.a, self.b,self.c\n",
    "    def op2(self):\n",
    "        print \"this is op2 in c2\"\n",
    "o2=c2(10)"
   ]
  },
  {
   "cell_type": "code",
   "execution_count": 21,
   "metadata": {},
   "outputs": [
    {
     "ename": "AttributeError",
     "evalue": "c2 instance has no attribute 'a'",
     "output_type": "error",
     "traceback": [
      "\u001b[0;31m---------------------------------------------------------------------------\u001b[0m",
      "\u001b[0;31mAttributeError\u001b[0m                            Traceback (most recent call last)",
      "\u001b[0;32m<ipython-input-21-6689a8dcb8fd>\u001b[0m in \u001b[0;36m<module>\u001b[0;34m()\u001b[0m\n\u001b[1;32m     16\u001b[0m         \u001b[0;32mprint\u001b[0m \u001b[0;34m\"this is op2 in c2\"\u001b[0m\u001b[0;34m\u001b[0m\u001b[0m\n\u001b[1;32m     17\u001b[0m \u001b[0mo2\u001b[0m\u001b[0;34m=\u001b[0m\u001b[0mc2\u001b[0m\u001b[0;34m(\u001b[0m\u001b[0;36m10\u001b[0m\u001b[0;34m)\u001b[0m\u001b[0;34m\u001b[0m\u001b[0m\n\u001b[0;32m---> 18\u001b[0;31m \u001b[0;32mprint\u001b[0m \u001b[0mo2\u001b[0m\u001b[0;34m.\u001b[0m\u001b[0mget\u001b[0m\u001b[0;34m(\u001b[0m\u001b[0;34m)\u001b[0m\u001b[0;34m\u001b[0m\u001b[0m\n\u001b[0m",
      "\u001b[0;32m<ipython-input-21-6689a8dcb8fd>\u001b[0m in \u001b[0;36mget\u001b[0;34m(self)\u001b[0m\n\u001b[1;32m     12\u001b[0m \u001b[0;34m\u001b[0m\u001b[0m\n\u001b[1;32m     13\u001b[0m     \u001b[0;32mdef\u001b[0m \u001b[0mget\u001b[0m\u001b[0;34m(\u001b[0m\u001b[0mself\u001b[0m\u001b[0;34m)\u001b[0m\u001b[0;34m:\u001b[0m\u001b[0;34m\u001b[0m\u001b[0m\n\u001b[0;32m---> 14\u001b[0;31m         \u001b[0;32mreturn\u001b[0m \u001b[0mself\u001b[0m\u001b[0;34m.\u001b[0m\u001b[0ma\u001b[0m\u001b[0;34m,\u001b[0m \u001b[0mself\u001b[0m\u001b[0;34m.\u001b[0m\u001b[0mb\u001b[0m\u001b[0;34m,\u001b[0m\u001b[0mself\u001b[0m\u001b[0;34m.\u001b[0m\u001b[0mc\u001b[0m\u001b[0;34m\u001b[0m\u001b[0m\n\u001b[0m\u001b[1;32m     15\u001b[0m     \u001b[0;32mdef\u001b[0m \u001b[0mop2\u001b[0m\u001b[0;34m(\u001b[0m\u001b[0mself\u001b[0m\u001b[0;34m)\u001b[0m\u001b[0;34m:\u001b[0m\u001b[0;34m\u001b[0m\u001b[0m\n\u001b[1;32m     16\u001b[0m         \u001b[0;32mprint\u001b[0m \u001b[0;34m\"this is op2 in c2\"\u001b[0m\u001b[0;34m\u001b[0m\u001b[0m\n",
      "\u001b[0;31mAttributeError\u001b[0m: c2 instance has no attribute 'a'"
     ]
    }
   ],
   "source": [
    "class c1:\n",
    "    def __init__(self,a,b):\n",
    "        self.a=a\n",
    "        self.b=b\n",
    "        \n",
    "    def op1(self):\n",
    "        print \"this is op1 in c1\"\n",
    "        \n",
    "class c2(c1):\n",
    "    def __init__(self,c):\n",
    "        self.c=c\n",
    "        \n",
    "    def get(self):\n",
    "        return self.a, self.b,self.c\n",
    "    def op2(self):\n",
    "        print \"this is op2 in c2\"\n",
    "o2=c2(10)\n",
    "print o2.get()"
   ]
  },
  {
   "cell_type": "code",
   "execution_count": 23,
   "metadata": {},
   "outputs": [
    {
     "name": "stdout",
     "output_type": "stream",
     "text": [
      "(10, 20, 30)\n"
     ]
    }
   ],
   "source": [
    "class c1:\n",
    "    def __init__(self,a,b):\n",
    "        self.a=a\n",
    "        self.b=b\n",
    "        \n",
    "    def op1(self):\n",
    "        print \"this is op1 in c1\"\n",
    "        \n",
    "class c2(c1):\n",
    "    def __init__(self,a,b,c):\n",
    "        self.c=c\n",
    "        self.a=a\n",
    "        self.b=b\n",
    "        \n",
    "    def get(self):\n",
    "        return self.a, self.b,self.c\n",
    "    def op2(self):\n",
    "        print \"this is op2 in c2\"\n",
    "o2=c2(10,20,30)\n",
    "print o2.get()"
   ]
  },
  {
   "cell_type": "code",
   "execution_count": 24,
   "metadata": {},
   "outputs": [
    {
     "name": "stdout",
     "output_type": "stream",
     "text": [
      "(10, 20, 30)\n"
     ]
    }
   ],
   "source": [
    "class c1:\n",
    "    def __init__(self,a,b):\n",
    "        self.a=a\n",
    "        self.b=b\n",
    "        \n",
    "    def op1(self):\n",
    "        print \"this is op1 in c1\"\n",
    "        \n",
    "class c2(c1):\n",
    "    def __init__(self,a,b,c):\n",
    "        self.c=c\n",
    "        c1.__init__(self,a,b)\n",
    "        \n",
    "    def get(self):\n",
    "        return self.a, self.b,self.c\n",
    "    def op2(self):\n",
    "        print \"this is op2 in c2\"\n",
    "o2=c2(10,20,30)\n",
    "print o2.get()"
   ]
  },
  {
   "cell_type": "code",
   "execution_count": 25,
   "metadata": {},
   "outputs": [
    {
     "name": "stdout",
     "output_type": "stream",
     "text": [
      "('sambasiva', 234567, 20, 281480.4)\n"
     ]
    }
   ],
   "source": [
    "# encapsulation\n",
    "class Emp:\n",
    "    def __init__(self, name, sal, incp):\n",
    "        self.name=name\n",
    "        self.sal=sal\n",
    "        self.incp=incp\n",
    "        self.usal=self.sal\n",
    "    def u_sal(self):\n",
    "        self.usal=self.sal+self.sal*(self.incp/100.0)\n",
    "    def get(self):\n",
    "        return self.name,self.sal,self.incp, self.usal\n",
    "\n",
    "samba=Emp(\"sambasiva\",234567,20)\n",
    "samba.u_sal()\n",
    "print samba.get()"
   ]
  },
  {
   "cell_type": "code",
   "execution_count": 26,
   "metadata": {},
   "outputs": [
    {
     "name": "stdout",
     "output_type": "stream",
     "text": [
      "('sambasiva', 234567, 100, 469134.0)\n"
     ]
    }
   ],
   "source": [
    "# encapsulation\n",
    "class Emp:\n",
    "    def __init__(self, name, sal, incp):\n",
    "        self.name=name\n",
    "        self.sal=sal\n",
    "        self.incp=incp\n",
    "        self.usal=self.sal\n",
    "    def u_sal(self):\n",
    "        self.usal=self.sal+self.sal*(self.incp/100.0)\n",
    "    def get(self):\n",
    "        return self.name,self.sal,self.incp, self.usal\n",
    "\n",
    "samba=Emp(\"sambasiva\",234567,20)\n",
    "if samba.name==\"sambasiva\":\n",
    "    samba.incp=100\n",
    "samba.u_sal()\n",
    "print samba.get()"
   ]
  },
  {
   "cell_type": "code",
   "execution_count": 27,
   "metadata": {},
   "outputs": [
    {
     "name": "stdout",
     "output_type": "stream",
     "text": [
      "('sambasiva', 234567, 20, 281480.4)\n"
     ]
    }
   ],
   "source": [
    "# encapsulation\n",
    "class Emp:\n",
    "    def __init__(self, name, sal, incp):\n",
    "        self.name=name\n",
    "        self.sal=sal\n",
    "        self.__incp=incp\n",
    "        self.usal=self.sal\n",
    "    def u_sal(self):\n",
    "        \n",
    "        self.usal=self.sal+self.sal*(self.__incp/100.0)\n",
    "    def get(self):\n",
    "        return self.name,self.sal,self.__incp, self.usal\n",
    "\n",
    "samba=Emp(\"sambasiva\",234567,20)\n",
    "if samba.name==\"sambasiva\":\n",
    "    samba.__incp=100\n",
    "samba.u_sal()\n",
    "print samba.get()"
   ]
  },
  {
   "cell_type": "code",
   "execution_count": 29,
   "metadata": {},
   "outputs": [
    {
     "name": "stdout",
     "output_type": "stream",
     "text": [
      "('sambasiva', 234567, 20, 281480.4)\n",
      "********************\n",
      "('sambasiva', 234567, 30, 304937.1)\n"
     ]
    }
   ],
   "source": [
    "# encapsulation\n",
    "class Emp:\n",
    "    def __init__(self, name, sal, incp):\n",
    "        self.name=name\n",
    "        self.sal=sal\n",
    "        self.__incp=incp\n",
    "        self.usal=self.sal\n",
    "    def modify_incp(self,per):\n",
    "        self.__incp=per\n",
    "    def u_sal(self):\n",
    "        self.usal=self.sal+self.sal*(self.__incp/100.0)\n",
    "    def get(self):\n",
    "        return self.name,self.sal,self.__incp, self.usal\n",
    "\n",
    "samba=Emp(\"sambasiva\",234567,20)\n",
    "if samba.name==\"sambasiva\":\n",
    "    samba.__incp=100\n",
    "samba.u_sal()\n",
    "print samba.get()\n",
    "print \"*\"*20\n",
    "samba.modify_incp(30)\n",
    "samba.u_sal()\n",
    "print samba.get()"
   ]
  },
  {
   "cell_type": "code",
   "execution_count": 30,
   "metadata": {},
   "outputs": [
    {
     "name": "stdout",
     "output_type": "stream",
     "text": [
      "('sambasiva', 234567, 20, 281480.4)\n",
      "********************\n",
      "('sambasiva', 234567, 20, 281480.4)\n"
     ]
    }
   ],
   "source": [
    "# encapsulation\n",
    "class Emp:\n",
    "    def __init__(self, name, sal, incp,group):\n",
    "        self.name=name\n",
    "        self.sal=sal\n",
    "        self.__incp=incp\n",
    "        self.usal=self.sal\n",
    "        self.group=group\n",
    "    def modify_incp(self,per):\n",
    "        if self.group==\"CEO\":\n",
    "            self.__incp=per\n",
    "    def u_sal(self):\n",
    "        self.usal=self.sal+self.sal*(self.__incp/100.0)\n",
    "    def get(self):\n",
    "        return self.name,self.sal,self.__incp, self.usal\n",
    "\n",
    "samba=Emp(\"sambasiva\",234567,20,\"employee\")\n",
    "if samba.name==\"sambasiva\":\n",
    "    samba.__incp=100\n",
    "samba.u_sal()\n",
    "print samba.get()\n",
    "print \"*\"*20\n",
    "samba.modify_incp(30)\n",
    "samba.u_sal()\n",
    "print samba.get()"
   ]
  },
  {
   "cell_type": "code",
   "execution_count": 31,
   "metadata": {},
   "outputs": [
    {
     "name": "stdout",
     "output_type": "stream",
     "text": [
      "('sambasiva', 234567, 20, 281480.4)\n",
      "********************\n"
     ]
    },
    {
     "ename": "AttributeError",
     "evalue": "Emp instance has no attribute '__modify_incp'",
     "output_type": "error",
     "traceback": [
      "\u001b[0;31m---------------------------------------------------------------------------\u001b[0m",
      "\u001b[0;31mAttributeError\u001b[0m                            Traceback (most recent call last)",
      "\u001b[0;32m<ipython-input-31-c976b8b69c6b>\u001b[0m in \u001b[0;36m<module>\u001b[0;34m()\u001b[0m\n\u001b[1;32m     21\u001b[0m \u001b[0;32mprint\u001b[0m \u001b[0msamba\u001b[0m\u001b[0;34m.\u001b[0m\u001b[0mget\u001b[0m\u001b[0;34m(\u001b[0m\u001b[0;34m)\u001b[0m\u001b[0;34m\u001b[0m\u001b[0m\n\u001b[1;32m     22\u001b[0m \u001b[0;32mprint\u001b[0m \u001b[0;34m\"*\"\u001b[0m\u001b[0;34m*\u001b[0m\u001b[0;36m20\u001b[0m\u001b[0;34m\u001b[0m\u001b[0m\n\u001b[0;32m---> 23\u001b[0;31m \u001b[0msamba\u001b[0m\u001b[0;34m.\u001b[0m\u001b[0m__modify_incp\u001b[0m\u001b[0;34m(\u001b[0m\u001b[0;36m30\u001b[0m\u001b[0;34m)\u001b[0m\u001b[0;34m\u001b[0m\u001b[0m\n\u001b[0m\u001b[1;32m     24\u001b[0m \u001b[0msamba\u001b[0m\u001b[0;34m.\u001b[0m\u001b[0mu_sal\u001b[0m\u001b[0;34m(\u001b[0m\u001b[0;34m)\u001b[0m\u001b[0;34m\u001b[0m\u001b[0m\n\u001b[1;32m     25\u001b[0m \u001b[0;32mprint\u001b[0m \u001b[0msamba\u001b[0m\u001b[0;34m.\u001b[0m\u001b[0mget\u001b[0m\u001b[0;34m(\u001b[0m\u001b[0;34m)\u001b[0m\u001b[0;34m\u001b[0m\u001b[0m\n",
      "\u001b[0;31mAttributeError\u001b[0m: Emp instance has no attribute '__modify_incp'"
     ]
    }
   ],
   "source": [
    "# encapsulation\n",
    "class Emp:\n",
    "    def __init__(self, name, sal, incp,group):\n",
    "        self.name=name\n",
    "        self.sal=sal\n",
    "        self.__incp=incp\n",
    "        self.usal=self.sal\n",
    "        self.group=group\n",
    "    def __modify_incp(self,per):\n",
    "        if self.group==\"CEO\":\n",
    "            self.__incp=per\n",
    "    def u_sal(self):\n",
    "        self.usal=self.sal+self.sal*(self.__incp/100.0)\n",
    "    def get(self):\n",
    "        return self.name,self.sal,self.__incp, self.usal\n",
    "\n",
    "samba=Emp(\"sambasiva\",234567,20,\"employee\")\n",
    "if samba.name==\"sambasiva\":\n",
    "    samba.__incp=100\n",
    "samba.u_sal()\n",
    "print samba.get()\n",
    "print \"*\"*20\n",
    "samba.__modify_incp(30)\n",
    "samba.u_sal()\n",
    "print samba.get()"
   ]
  },
  {
   "cell_type": "code",
   "execution_count": 37,
   "metadata": {},
   "outputs": [
    {
     "name": "stdout",
     "output_type": "stream",
     "text": [
      "('sambasiva', 234567, 20, 234567)\n",
      "20\n",
      "('sambasiva', 234567, 20, 281480.4)\n",
      "********************\n"
     ]
    },
    {
     "ename": "AttributeError",
     "evalue": "Emp instance has no attribute '__modify_incp'",
     "output_type": "error",
     "traceback": [
      "\u001b[0;31m---------------------------------------------------------------------------\u001b[0m",
      "\u001b[0;31mAttributeError\u001b[0m                            Traceback (most recent call last)",
      "\u001b[0;32m<ipython-input-37-c44ddb645416>\u001b[0m in \u001b[0;36m<module>\u001b[0;34m()\u001b[0m\n\u001b[1;32m     26\u001b[0m \u001b[0;32mprint\u001b[0m \u001b[0msamba\u001b[0m\u001b[0;34m.\u001b[0m\u001b[0mget\u001b[0m\u001b[0;34m(\u001b[0m\u001b[0;34m)\u001b[0m\u001b[0;34m\u001b[0m\u001b[0m\n\u001b[1;32m     27\u001b[0m \u001b[0;32mprint\u001b[0m \u001b[0;34m\"*\"\u001b[0m\u001b[0;34m*\u001b[0m\u001b[0;36m20\u001b[0m\u001b[0;34m\u001b[0m\u001b[0m\n\u001b[0;32m---> 28\u001b[0;31m \u001b[0msamba\u001b[0m\u001b[0;34m.\u001b[0m\u001b[0m__modify_incp\u001b[0m\u001b[0;34m(\u001b[0m\u001b[0;36m30\u001b[0m\u001b[0;34m)\u001b[0m\u001b[0;34m\u001b[0m\u001b[0m\n\u001b[0m\u001b[1;32m     29\u001b[0m \u001b[0msamba\u001b[0m\u001b[0;34m.\u001b[0m\u001b[0mu_sal\u001b[0m\u001b[0;34m(\u001b[0m\u001b[0;34m)\u001b[0m\u001b[0;34m\u001b[0m\u001b[0m\n\u001b[1;32m     30\u001b[0m \u001b[0;32mprint\u001b[0m \u001b[0msamba\u001b[0m\u001b[0;34m.\u001b[0m\u001b[0mget\u001b[0m\u001b[0;34m(\u001b[0m\u001b[0;34m)\u001b[0m\u001b[0;34m\u001b[0m\u001b[0m\n",
      "\u001b[0;31mAttributeError\u001b[0m: Emp instance has no attribute '__modify_incp'"
     ]
    }
   ],
   "source": [
    "# encapsulation\n",
    "class Emp:\n",
    "    def __init__(self, name, sal, incp,group):\n",
    "        self.name=name\n",
    "        self.sal=sal\n",
    "        self.group=group\n",
    "        self.__incp=incp\n",
    "        self.__incp=self.__modify_incp(incp)\n",
    "        self.usal=self.sal\n",
    "        \n",
    "    def __modify_incp(self,per):\n",
    "        if self.group==\"CEO\":\n",
    "            self.__incp=per\n",
    "        return self.__incp\n",
    "    def u_sal(self):\n",
    "        print self.__incp\n",
    "        self.usal=self.sal+self.sal*(self.__incp/100.0)\n",
    "    def get(self):\n",
    "        return self.name,self.sal,self.__incp, self.usal\n",
    "\n",
    "samba=Emp(\"sambasiva\",234567,20,\"employee\")\n",
    "print samba.get()\n",
    "if samba.name==\"sambasiva\":\n",
    "    samba.__incp=100\n",
    "samba.u_sal()\n",
    "print samba.get()\n",
    "print \"*\"*20\n",
    "samba.__modify_incp(30)\n",
    "samba.u_sal()\n",
    "print samba.get()"
   ]
  },
  {
   "cell_type": "code",
   "execution_count": 38,
   "metadata": {},
   "outputs": [
    {
     "name": "stdout",
     "output_type": "stream",
     "text": [
      "60\n"
     ]
    },
    {
     "ename": "TypeError",
     "evalue": "fun() takes exactly 3 arguments (2 given)",
     "output_type": "error",
     "traceback": [
      "\u001b[0;31m---------------------------------------------------------------------------\u001b[0m",
      "\u001b[0;31mTypeError\u001b[0m                                 Traceback (most recent call last)",
      "\u001b[0;32m<ipython-input-38-5fd494cc56cd>\u001b[0m in \u001b[0;36m<module>\u001b[0;34m()\u001b[0m\n\u001b[1;32m      7\u001b[0m     \u001b[0;32mreturn\u001b[0m \u001b[0ma\u001b[0m\u001b[0;34m+\u001b[0m\u001b[0mb\u001b[0m\u001b[0;34m+\u001b[0m\u001b[0mc\u001b[0m\u001b[0;34m\u001b[0m\u001b[0m\n\u001b[1;32m      8\u001b[0m \u001b[0;32mprint\u001b[0m \u001b[0mfun\u001b[0m\u001b[0;34m(\u001b[0m\u001b[0;36m10\u001b[0m\u001b[0;34m,\u001b[0m\u001b[0;36m20\u001b[0m\u001b[0;34m,\u001b[0m\u001b[0;36m30\u001b[0m\u001b[0;34m)\u001b[0m\u001b[0;34m\u001b[0m\u001b[0m\n\u001b[0;32m----> 9\u001b[0;31m \u001b[0;32mprint\u001b[0m \u001b[0mfun\u001b[0m\u001b[0;34m(\u001b[0m\u001b[0;36m10\u001b[0m\u001b[0;34m,\u001b[0m\u001b[0;36m20\u001b[0m\u001b[0;34m)\u001b[0m\u001b[0;34m\u001b[0m\u001b[0m\n\u001b[0m",
      "\u001b[0;31mTypeError\u001b[0m: fun() takes exactly 3 arguments (2 given)"
     ]
    }
   ],
   "source": [
    "#polymorphism\n",
    "# oprator overloading, method oveloading, method overriding\n",
    "# calling same function with different number arguments, but definition should be same\n",
    "def fun(a,b):\n",
    "    return a+b\n",
    "def fun(a,b,c):\n",
    "    return a+b+c\n",
    "print fun(10,20,30)\n",
    "print fun(10,20)"
   ]
  },
  {
   "cell_type": "code",
   "execution_count": 39,
   "metadata": {},
   "outputs": [
    {
     "name": "stdout",
     "output_type": "stream",
     "text": [
      "60\n",
      "30\n"
     ]
    }
   ],
   "source": [
    "#polymorphism\n",
    "# oprator overloading, method oveloading, method overriding\n",
    "# calling same function with different number arguments, but definition should be same\n",
    "def fun(a,b,c=0):\n",
    "    return a+b+c\n",
    "print fun(10,20,30)\n",
    "print fun(10,20)"
   ]
  },
  {
   "cell_type": "code",
   "execution_count": 40,
   "metadata": {},
   "outputs": [
    {
     "name": "stdout",
     "output_type": "stream",
     "text": [
      "60\n",
      "30\n",
      "100\n",
      "6539\n"
     ]
    }
   ],
   "source": [
    "#polymorphism\n",
    "# oprator overloading, method oveloading, method overriding\n",
    "# calling same function with different number arguments, but definition should be same\n",
    "def fun(*a):\n",
    "    return sum(a)\n",
    "print fun(10,20,30)\n",
    "print fun(10,20)\n",
    "print fun(10,20,30,40)\n",
    "print fun(10,20,30,40,50,6070,70,80,80,89)"
   ]
  },
  {
   "cell_type": "code",
   "execution_count": 41,
   "metadata": {
    "collapsed": true
   },
   "outputs": [],
   "source": [
    "class Emp:\n",
    "    def __init__(self, name,empid, age=26, passport=\"\", adhar=\"\"):\n",
    "        self.name=name\n",
    "        self.empid=empid\n",
    "        self.age=age\n",
    "        self.passport=passport\n",
    "        self.adhar=adhar\n",
    "samba=Emp(\"sambasiva\",\"228\")\n",
    "anil=Emp(\"Anil kumar\",\"229\",34,\"23456werty\")"
   ]
  },
  {
   "cell_type": "code",
   "execution_count": 42,
   "metadata": {},
   "outputs": [
    {
     "name": "stdout",
     "output_type": "stream",
     "text": [
      "insert into database: {'c_id': '228', 'name': 'samba'}\n",
      "insert into database: {'s_id': 1, 'name': 'sup1'}\n",
      "Invalid data\n"
     ]
    }
   ],
   "source": [
    "# methosd overriding\n",
    "class Model:\n",
    "    def create(self, **data):\n",
    "        print \"insert into database:\",data\n",
    "        \n",
    "class Customer(Model):\n",
    "    def __init__(self,name,c_id):\n",
    "        self.name=name\n",
    "        self.c_id=c_id\n",
    "        \n",
    "class Supplier(Model):\n",
    "    def __init__(self,name,s_id):\n",
    "        self.name=name\n",
    "        self.s_id=s_id\n",
    "    def create(self,**data):\n",
    "        if isinstance(data['s_id'],int):\n",
    "            Model.create(self,**data)\n",
    "        else:\n",
    "            print \"Invalid data\"\n",
    "    def insert(self,**data):\n",
    "        Model.create(self,**data)\n",
    "    \n",
    "samba = Customer(\"samba\",\"228\")\n",
    "samba.create(name=samba.name, c_id=samba.c_id)\n",
    "sup1=Supplier(\"sup1\",1)\n",
    "sup2=Supplier(\"sup2\",\"23\")\n",
    "sup1.create(name=sup1.name, s_id=sup1.s_id)\n",
    "sup2.create(name=sup2.name, s_id=sup2.s_id)"
   ]
  },
  {
   "cell_type": "code",
   "execution_count": 43,
   "metadata": {},
   "outputs": [
    {
     "name": "stdout",
     "output_type": "stream",
     "text": [
      "30\n",
      "st1str2\n",
      "(1+2j)\n",
      "(4+6j)\n"
     ]
    }
   ],
   "source": [
    "# operator overloading\n",
    "print 10+20\n",
    "print \"st1\"+\"str2\"\n",
    "print 1+2j\n",
    "print 1+2j+3+4j"
   ]
  },
  {
   "cell_type": "code",
   "execution_count": 44,
   "metadata": {},
   "outputs": [
    {
     "name": "stdout",
     "output_type": "stream",
     "text": [
      "22\n"
     ]
    }
   ],
   "source": [
    "class Emp:\n",
    "    def __init__(self, name,empid, age=26, passport=\"\", adhar=\"\"):\n",
    "        self.name=name\n",
    "        self.empid=empid\n",
    "        self.age=age\n",
    "        self.passport=passport\n",
    "        self.adhar=adhar\n",
    "samba=Emp(\"sambasiva\",\"228\")\n",
    "anil=Emp(\"Anil kumar\",\"229\",34,\"23456werty\")\n",
    "a=10\n",
    "b=12\n",
    "print a+b"
   ]
  },
  {
   "cell_type": "code",
   "execution_count": 45,
   "metadata": {},
   "outputs": [
    {
     "name": "stdout",
     "output_type": "stream",
     "text": [
      "22\n"
     ]
    },
    {
     "ename": "TypeError",
     "evalue": "unsupported operand type(s) for +: 'instance' and 'instance'",
     "output_type": "error",
     "traceback": [
      "\u001b[0;31m---------------------------------------------------------------------------\u001b[0m",
      "\u001b[0;31mTypeError\u001b[0m                                 Traceback (most recent call last)",
      "\u001b[0;32m<ipython-input-45-cbdb04cf0fb1>\u001b[0m in \u001b[0;36m<module>\u001b[0;34m()\u001b[0m\n\u001b[1;32m     11\u001b[0m \u001b[0mb\u001b[0m\u001b[0;34m=\u001b[0m\u001b[0;36m12\u001b[0m\u001b[0;34m\u001b[0m\u001b[0m\n\u001b[1;32m     12\u001b[0m \u001b[0;32mprint\u001b[0m \u001b[0ma\u001b[0m\u001b[0;34m+\u001b[0m\u001b[0mb\u001b[0m\u001b[0;34m\u001b[0m\u001b[0m\n\u001b[0;32m---> 13\u001b[0;31m \u001b[0;32mprint\u001b[0m \u001b[0msamba\u001b[0m\u001b[0;34m+\u001b[0m\u001b[0manil\u001b[0m\u001b[0;34m\u001b[0m\u001b[0m\n\u001b[0m",
      "\u001b[0;31mTypeError\u001b[0m: unsupported operand type(s) for +: 'instance' and 'instance'"
     ]
    }
   ],
   "source": [
    "class Emp:\n",
    "    def __init__(self, name,empid, age=26, passport=\"\", adhar=\"\"):\n",
    "        self.name=name\n",
    "        self.empid=empid\n",
    "        self.age=age\n",
    "        self.passport=passport\n",
    "        self.adhar=adhar\n",
    "samba=Emp(\"sambasiva\",\"228\")\n",
    "anil=Emp(\"Anil kumar\",\"229\",34,\"23456werty\")\n",
    "a=10\n",
    "b=12\n",
    "print a+b\n",
    "print samba+anil"
   ]
  },
  {
   "cell_type": "code",
   "execution_count": 46,
   "metadata": {},
   "outputs": [
    {
     "ename": "TypeError",
     "evalue": "unsupported operand type(s) for +: 'dict' and 'dict'",
     "output_type": "error",
     "traceback": [
      "\u001b[0;31m---------------------------------------------------------------------------\u001b[0m",
      "\u001b[0;31mTypeError\u001b[0m                                 Traceback (most recent call last)",
      "\u001b[0;32m<ipython-input-46-0cc183cfea5c>\u001b[0m in \u001b[0;36m<module>\u001b[0;34m()\u001b[0m\n\u001b[1;32m      1\u001b[0m \u001b[0md1\u001b[0m\u001b[0;34m=\u001b[0m\u001b[0;34m{\u001b[0m\u001b[0;36m1\u001b[0m\u001b[0;34m:\u001b[0m\u001b[0;36m2\u001b[0m\u001b[0;34m}\u001b[0m\u001b[0;34m\u001b[0m\u001b[0m\n\u001b[1;32m      2\u001b[0m \u001b[0md2\u001b[0m\u001b[0;34m=\u001b[0m\u001b[0;34m{\u001b[0m\u001b[0;36m3\u001b[0m\u001b[0;34m:\u001b[0m\u001b[0;36m4\u001b[0m\u001b[0;34m}\u001b[0m\u001b[0;34m\u001b[0m\u001b[0m\n\u001b[0;32m----> 3\u001b[0;31m \u001b[0;32mprint\u001b[0m \u001b[0md1\u001b[0m\u001b[0;34m+\u001b[0m\u001b[0md2\u001b[0m\u001b[0;34m\u001b[0m\u001b[0m\n\u001b[0m",
      "\u001b[0;31mTypeError\u001b[0m: unsupported operand type(s) for +: 'dict' and 'dict'"
     ]
    }
   ],
   "source": [
    "d1={1:2}\n",
    "d2={3:4}\n",
    "print d1+d2"
   ]
  },
  {
   "cell_type": "code",
   "execution_count": 47,
   "metadata": {},
   "outputs": [
    {
     "name": "stdout",
     "output_type": "stream",
     "text": [
      "p\n",
      "y\n",
      "t\n",
      "h\n",
      "o\n",
      "n\n"
     ]
    }
   ],
   "source": [
    "for i in \"python\":\n",
    "    print i"
   ]
  },
  {
   "cell_type": "code",
   "execution_count": 48,
   "metadata": {},
   "outputs": [
    {
     "ename": "TypeError",
     "evalue": "'int' object is not iterable",
     "output_type": "error",
     "traceback": [
      "\u001b[0;31m---------------------------------------------------------------------------\u001b[0m",
      "\u001b[0;31mTypeError\u001b[0m                                 Traceback (most recent call last)",
      "\u001b[0;32m<ipython-input-48-dae0df8168f7>\u001b[0m in \u001b[0;36m<module>\u001b[0;34m()\u001b[0m\n\u001b[0;32m----> 1\u001b[0;31m \u001b[0;32mfor\u001b[0m \u001b[0mi\u001b[0m \u001b[0;32min\u001b[0m \u001b[0;36m10\u001b[0m\u001b[0;34m:\u001b[0m\u001b[0;34m\u001b[0m\u001b[0m\n\u001b[0m\u001b[1;32m      2\u001b[0m     \u001b[0;32mprint\u001b[0m \u001b[0mi\u001b[0m\u001b[0;34m\u001b[0m\u001b[0m\n",
      "\u001b[0;31mTypeError\u001b[0m: 'int' object is not iterable"
     ]
    }
   ],
   "source": [
    "for i in 10:\n",
    "    print i"
   ]
  },
  {
   "cell_type": "code",
   "execution_count": 49,
   "metadata": {},
   "outputs": [
    {
     "ename": "TypeError",
     "evalue": "iteration over non-sequence",
     "output_type": "error",
     "traceback": [
      "\u001b[0;31m---------------------------------------------------------------------------\u001b[0m",
      "\u001b[0;31mTypeError\u001b[0m                                 Traceback (most recent call last)",
      "\u001b[0;32m<ipython-input-49-0b411a2cf5d8>\u001b[0m in \u001b[0;36m<module>\u001b[0;34m()\u001b[0m\n\u001b[0;32m----> 1\u001b[0;31m \u001b[0;32mfor\u001b[0m \u001b[0mi\u001b[0m \u001b[0;32min\u001b[0m \u001b[0msamba\u001b[0m\u001b[0;34m:\u001b[0m\u001b[0;34m\u001b[0m\u001b[0m\n\u001b[0m\u001b[1;32m      2\u001b[0m     \u001b[0;32mprint\u001b[0m \u001b[0mi\u001b[0m\u001b[0;34m\u001b[0m\u001b[0m\n",
      "\u001b[0;31mTypeError\u001b[0m: iteration over non-sequence"
     ]
    }
   ],
   "source": [
    "for i in samba:\n",
    "    print i"
   ]
  },
  {
   "cell_type": "code",
   "execution_count": 50,
   "metadata": {},
   "outputs": [
    {
     "name": "stdout",
     "output_type": "stream",
     "text": [
      "p\n",
      "y\n",
      "t\n",
      "h\n",
      "o\n",
      "n\n"
     ]
    }
   ],
   "source": [
    "a=\"python\"\n",
    "for i in a:\n",
    "    print i"
   ]
  },
  {
   "cell_type": "code",
   "execution_count": null,
   "metadata": {
    "collapsed": true
   },
   "outputs": [],
   "source": []
  }
 ],
 "metadata": {
  "kernelspec": {
   "display_name": "Python 2",
   "language": "python",
   "name": "python2"
  },
  "language_info": {
   "codemirror_mode": {
    "name": "ipython",
    "version": 2
   },
   "file_extension": ".py",
   "mimetype": "text/x-python",
   "name": "python",
   "nbconvert_exporter": "python",
   "pygments_lexer": "ipython2",
   "version": "2.7.14"
  }
 },
 "nbformat": 4,
 "nbformat_minor": 2
}
