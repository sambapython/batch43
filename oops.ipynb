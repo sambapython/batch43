{
 "cells": [
  {
   "cell_type": "code",
   "execution_count": 1,
   "metadata": {},
   "outputs": [
    {
     "name": "stdout",
     "output_type": "stream",
     "text": [
      "30\n",
      "200\n",
      "0\n"
     ]
    }
   ],
   "source": [
    "def add(a,b):\n",
    "    print a+b\n",
    "    \n",
    "def mul(a,b):\n",
    "    print a*b\n",
    "def div(a,b):\n",
    "    print a/b\n",
    "\n",
    "add(10,20)\n",
    "mul(10,20)\n",
    "div(10,20)"
   ]
  },
  {
   "cell_type": "code",
   "execution_count": 2,
   "metadata": {},
   "outputs": [
    {
     "name": "stdout",
     "output_type": "stream",
     "text": [
      "30\n",
      "str1str2\n",
      "[1, 2, 3, 4, 5, 6, 7, 8]\n"
     ]
    }
   ],
   "source": [
    "print 10+20\n",
    "print \"str1\"+\"str2\"\n",
    "print [1,2,3,4]+[5,6,7,8]"
   ]
  },
  {
   "cell_type": "code",
   "execution_count": 3,
   "metadata": {},
   "outputs": [
    {
     "name": "stdout",
     "output_type": "stream",
     "text": [
      "30\n",
      "60\n",
      "100\n"
     ]
    }
   ],
   "source": [
    "def fun(a,b,c=0,d=0):\n",
    "    print a+b+c+d\n",
    "fun(10,20)\n",
    "fun(10,20,30)\n",
    "fun(10,20,30,40)"
   ]
  },
  {
   "cell_type": "code",
   "execution_count": 4,
   "metadata": {
    "collapsed": true
   },
   "outputs": [],
   "source": [
    "class ClassName:\n",
    "    pass"
   ]
  },
  {
   "cell_type": "code",
   "execution_count": 5,
   "metadata": {
    "collapsed": true
   },
   "outputs": [],
   "source": [
    "class classname:\n",
    "    pass"
   ]
  },
  {
   "cell_type": "code",
   "execution_count": 6,
   "metadata": {},
   "outputs": [
    {
     "name": "stdout",
     "output_type": "stream",
     "text": [
      "this is class\n"
     ]
    }
   ],
   "source": [
    "def fun():\n",
    "    print \"this is function\"\n",
    "    \n",
    "class Employee:\n",
    "    print \"this is class\"\n",
    "    name=\"anil\"\n",
    "    age=23"
   ]
  },
  {
   "cell_type": "code",
   "execution_count": 7,
   "metadata": {},
   "outputs": [
    {
     "name": "stdout",
     "output_type": "stream",
     "text": [
      "this is class\n"
     ]
    }
   ],
   "source": [
    "def fun():\n",
    "    print \"this is function\"\n",
    "    \n",
    "class Employee:\n",
    "    print \"this is class\"\n",
    "    name=\"anil\"\n",
    "    age=23\n",
    "    def op1(a,b):\n",
    "        print \"this is operation in class\"\n",
    "    "
   ]
  },
  {
   "cell_type": "code",
   "execution_count": 8,
   "metadata": {},
   "outputs": [
    {
     "name": "stdout",
     "output_type": "stream",
     "text": [
      "this is class\n",
      "name inside class: anil\n",
      "Age inside class: 23\n",
      "calling op1 inside class:\n",
      "this is operation in class\n"
     ]
    }
   ],
   "source": [
    "def fun():\n",
    "    print \"this is function\"\n",
    "    \n",
    "class Employee:\n",
    "    print \"this is class\"\n",
    "    name=\"anil\"\n",
    "    age=23\n",
    "    def op1(a,b):\n",
    "        print \"this is operation in class\"\n",
    "    print \"name inside class:\",name\n",
    "    print \"Age inside class:\",age\n",
    "    print \"calling op1 inside class:\"\n",
    "    op1(10,20)"
   ]
  },
  {
   "cell_type": "code",
   "execution_count": 9,
   "metadata": {},
   "outputs": [
    {
     "name": "stdout",
     "output_type": "stream",
     "text": [
      "this is class\n",
      "name outside class:"
     ]
    },
    {
     "ename": "NameError",
     "evalue": "name 'name' is not defined",
     "output_type": "error",
     "traceback": [
      "\u001b[0;31m---------------------------------------------------------------------------\u001b[0m",
      "\u001b[0;31mNameError\u001b[0m                                 Traceback (most recent call last)",
      "\u001b[0;32m<ipython-input-9-916deea87a92>\u001b[0m in \u001b[0;36m<module>\u001b[0;34m()\u001b[0m\n\u001b[1;32m      9\u001b[0m         \u001b[0;32mprint\u001b[0m \u001b[0;34m\"this is operation in class\"\u001b[0m\u001b[0;34m\u001b[0m\u001b[0m\n\u001b[1;32m     10\u001b[0m \u001b[0;34m\u001b[0m\u001b[0m\n\u001b[0;32m---> 11\u001b[0;31m \u001b[0;32mprint\u001b[0m \u001b[0;34m\"name outside class:\"\u001b[0m\u001b[0;34m,\u001b[0m\u001b[0mname\u001b[0m\u001b[0;34m\u001b[0m\u001b[0m\n\u001b[0m",
      "\u001b[0;31mNameError\u001b[0m: name 'name' is not defined"
     ]
    }
   ],
   "source": [
    "def fun():\n",
    "    print \"this is function\"\n",
    "    \n",
    "class Employee:\n",
    "    print \"this is class\"\n",
    "    name=\"anil\"\n",
    "    age=23\n",
    "    def op1(a,b):\n",
    "        print \"this is operation in class\"\n",
    "        \n",
    "print \"name outside class:\",name"
   ]
  },
  {
   "cell_type": "code",
   "execution_count": 10,
   "metadata": {},
   "outputs": [
    {
     "name": "stdout",
     "output_type": "stream",
     "text": [
      " this is class\n",
      "name outside class:"
     ]
    },
    {
     "ename": "NameError",
     "evalue": "name 'name' is not defined",
     "output_type": "error",
     "traceback": [
      "\u001b[0;31m---------------------------------------------------------------------------\u001b[0m",
      "\u001b[0;31mNameError\u001b[0m                                 Traceback (most recent call last)",
      "\u001b[0;32m<ipython-input-10-916deea87a92>\u001b[0m in \u001b[0;36m<module>\u001b[0;34m()\u001b[0m\n\u001b[1;32m      9\u001b[0m         \u001b[0;32mprint\u001b[0m \u001b[0;34m\"this is operation in class\"\u001b[0m\u001b[0;34m\u001b[0m\u001b[0m\n\u001b[1;32m     10\u001b[0m \u001b[0;34m\u001b[0m\u001b[0m\n\u001b[0;32m---> 11\u001b[0;31m \u001b[0;32mprint\u001b[0m \u001b[0;34m\"name outside class:\"\u001b[0m\u001b[0;34m,\u001b[0m\u001b[0mname\u001b[0m\u001b[0;34m\u001b[0m\u001b[0m\n\u001b[0m",
      "\u001b[0;31mNameError\u001b[0m: name 'name' is not defined"
     ]
    }
   ],
   "source": [
    "def fun():\n",
    "    print \"this is function\"\n",
    "    \n",
    "class Employee:\n",
    "    print \"this is class\"\n",
    "    name=\"anil\"\n",
    "    age=23\n",
    "    def op1(a,b):\n",
    "        print \"this is operation in class\"\n",
    "        \n",
    "print \"name outside class:\",name"
   ]
  },
  {
   "cell_type": "code",
   "execution_count": 11,
   "metadata": {},
   "outputs": [
    {
     "name": "stdout",
     "output_type": "stream",
     "text": [
      " this is class\n"
     ]
    },
    {
     "ename": "NameError",
     "evalue": "name 'op1' is not defined",
     "output_type": "error",
     "traceback": [
      "\u001b[0;31m---------------------------------------------------------------------------\u001b[0m",
      "\u001b[0;31mNameError\u001b[0m                                 Traceback (most recent call last)",
      "\u001b[0;32m<ipython-input-11-e83dc3729dec>\u001b[0m in \u001b[0;36m<module>\u001b[0;34m()\u001b[0m\n\u001b[1;32m      9\u001b[0m         \u001b[0;32mprint\u001b[0m \u001b[0;34m\"this is operation in class\"\u001b[0m\u001b[0;34m\u001b[0m\u001b[0m\n\u001b[1;32m     10\u001b[0m \u001b[0;34m\u001b[0m\u001b[0m\n\u001b[0;32m---> 11\u001b[0;31m \u001b[0mop1\u001b[0m\u001b[0;34m(\u001b[0m\u001b[0;34m)\u001b[0m\u001b[0;34m\u001b[0m\u001b[0m\n\u001b[0m",
      "\u001b[0;31mNameError\u001b[0m: name 'op1' is not defined"
     ]
    }
   ],
   "source": [
    "def fun():\n",
    "    print \"this is function\"\n",
    "    \n",
    "class Employee:\n",
    "    print \"this is class\"\n",
    "    name=\"anil\"\n",
    "    age=23\n",
    "    def op1(a,b):\n",
    "        print \"this is operation in class\"\n",
    "        \n",
    "op1()"
   ]
  },
  {
   "cell_type": "code",
   "execution_count": 12,
   "metadata": {},
   "outputs": [
    {
     "name": "stdout",
     "output_type": "stream",
     "text": [
      "this is class\n",
      "name outside class: anil\n",
      "age outside class: 23\n"
     ]
    }
   ],
   "source": [
    "def fun():\n",
    "    print \"this is function\"\n",
    "    \n",
    "class Employee:\n",
    "    print \"this is class\"\n",
    "    name=\"anil\"\n",
    "    age=23\n",
    "    def op1(a,b):\n",
    "        print \"this is operation in class\"\n",
    "        \n",
    "print \"name outside class:\",Employee.name\n",
    "print \"age outside class:\",Employee.age"
   ]
  },
  {
   "cell_type": "code",
   "execution_count": 13,
   "metadata": {},
   "outputs": [
    {
     "name": "stdout",
     "output_type": "stream",
     "text": [
      "this is class\n",
      "name outside class: anil\n",
      "age outside class: 23\n"
     ]
    },
    {
     "ename": "TypeError",
     "evalue": "unbound method op1() must be called with Employee instance as first argument (got int instance instead)",
     "output_type": "error",
     "traceback": [
      "\u001b[0;31m---------------------------------------------------------------------------\u001b[0m",
      "\u001b[0;31mTypeError\u001b[0m                                 Traceback (most recent call last)",
      "\u001b[0;32m<ipython-input-13-48ca6a5f6dfa>\u001b[0m in \u001b[0;36m<module>\u001b[0;34m()\u001b[0m\n\u001b[1;32m     11\u001b[0m \u001b[0;32mprint\u001b[0m \u001b[0;34m\"name outside class:\"\u001b[0m\u001b[0;34m,\u001b[0m\u001b[0mEmployee\u001b[0m\u001b[0;34m.\u001b[0m\u001b[0mname\u001b[0m\u001b[0;34m\u001b[0m\u001b[0m\n\u001b[1;32m     12\u001b[0m \u001b[0;32mprint\u001b[0m \u001b[0;34m\"age outside class:\"\u001b[0m\u001b[0;34m,\u001b[0m\u001b[0mEmployee\u001b[0m\u001b[0;34m.\u001b[0m\u001b[0mage\u001b[0m\u001b[0;34m\u001b[0m\u001b[0m\n\u001b[0;32m---> 13\u001b[0;31m \u001b[0mEmployee\u001b[0m\u001b[0;34m.\u001b[0m\u001b[0mop1\u001b[0m\u001b[0;34m(\u001b[0m\u001b[0;36m10\u001b[0m\u001b[0;34m,\u001b[0m\u001b[0;36m20\u001b[0m\u001b[0;34m)\u001b[0m\u001b[0;34m\u001b[0m\u001b[0m\n\u001b[0m",
      "\u001b[0;31mTypeError\u001b[0m: unbound method op1() must be called with Employee instance as first argument (got int instance instead)"
     ]
    }
   ],
   "source": [
    "def fun():\n",
    "    print \"this is function\"\n",
    "    \n",
    "class Employee:\n",
    "    print \"this is class\"\n",
    "    name=\"anil\"\n",
    "    age=23\n",
    "    def op1(a,b):\n",
    "        print \"this is operation in class\"\n",
    "        \n",
    "print \"name outside class:\",Employee.name\n",
    "print \"age outside class:\",Employee.age\n",
    "Employee.op1(10,20)"
   ]
  },
  {
   "cell_type": "code",
   "execution_count": 14,
   "metadata": {},
   "outputs": [
    {
     "name": "stdout",
     "output_type": "stream",
     "text": [
      "this is class\n",
      "name outside class: anil\n",
      "age outside class: 23\n",
      "a= <__main__.Employee instance at 0x7f031c464998>\n",
      "b= 20\n",
      "this is operation in class\n"
     ]
    }
   ],
   "source": [
    "def fun():\n",
    "    print \"this is function\"\n",
    "    \n",
    "class Employee:\n",
    "    print \"this is class\"\n",
    "    name=\"anil\"\n",
    "    age=23\n",
    "    def op1(a,b):\n",
    "        print \"a=\",a\n",
    "        print \"b=\",b\n",
    "        print \"this is operation in class\"\n",
    "        \n",
    "print \"name outside class:\",Employee.name\n",
    "print \"age outside class:\",Employee.age\n",
    "#Employee.op1(10,20)\n",
    "anil = Employee()\n",
    "Employee.op1(anil,20)"
   ]
  },
  {
   "cell_type": "code",
   "execution_count": 15,
   "metadata": {
    "collapsed": true
   },
   "outputs": [],
   "source": [
    "a=10"
   ]
  },
  {
   "cell_type": "code",
   "execution_count": 16,
   "metadata": {
    "collapsed": true
   },
   "outputs": [],
   "source": [
    "s=\"asdfsdf\""
   ]
  },
  {
   "cell_type": "code",
   "execution_count": 17,
   "metadata": {
    "collapsed": true
   },
   "outputs": [],
   "source": [
    "f=12.34"
   ]
  },
  {
   "cell_type": "code",
   "execution_count": 18,
   "metadata": {
    "collapsed": true
   },
   "outputs": [],
   "source": [
    "s=[1,2,3,4]"
   ]
  },
  {
   "cell_type": "code",
   "execution_count": 19,
   "metadata": {},
   "outputs": [
    {
     "name": "stdout",
     "output_type": "stream",
     "text": [
      "this is class\n",
      "name outside class: anil\n",
      "age outside class: 23\n",
      "a= <__main__.Employee instance at 0x7f031c464fc8>\n",
      "b= 20\n",
      "this is operation in class\n",
      "calling name throuogh dataobject: anil\n",
      "calling age throuogh dataobject: anil\n",
      "calling op1 throuogh dataobject: a= <__main__.Employee instance at 0x7f031c464fc8>\n",
      "b= 20\n",
      "this is operation in class\n",
      "None\n"
     ]
    }
   ],
   "source": [
    "def fun():\n",
    "    print \"this is function\"\n",
    "    \n",
    "class Employee:\n",
    "    print \"this is class\"\n",
    "    name=\"anil\"\n",
    "    age=23\n",
    "    def op1(a,b):\n",
    "        print \"a=\",a\n",
    "        print \"b=\",b\n",
    "        print \"this is operation in class\"\n",
    "        \n",
    "print \"name outside class:\",Employee.name\n",
    "print \"age outside class:\",Employee.age\n",
    "#Employee.op1(10,20)\n",
    "anil = Employee()\n",
    "Employee.op1(anil,20)\n",
    "print \"calling name throuogh dataobject:\",anil.name\n",
    "print \"calling age throuogh dataobject:\",anil.name\n",
    "print \"calling op1 throuogh dataobject:\",anil.op1(20)\n"
   ]
  },
  {
   "cell_type": "code",
   "execution_count": 1,
   "metadata": {},
   "outputs": [
    {
     "name": "stdout",
     "output_type": "stream",
     "text": [
      "10 20\n"
     ]
    }
   ],
   "source": [
    "def fun(a,b):\n",
    "    print a,b\n",
    "fun(10,20)"
   ]
  },
  {
   "cell_type": "code",
   "execution_count": 2,
   "metadata": {},
   "outputs": [
    {
     "ename": "TypeError",
     "evalue": "fun() takes exactly 2 arguments (1 given)",
     "output_type": "error",
     "traceback": [
      "\u001b[0;31m---------------------------------------------------------------------------\u001b[0m",
      "\u001b[0;31mTypeError\u001b[0m                                 Traceback (most recent call last)",
      "\u001b[0;32m<ipython-input-2-3d7b15255b03>\u001b[0m in \u001b[0;36m<module>\u001b[0;34m()\u001b[0m\n\u001b[1;32m      1\u001b[0m \u001b[0;32mdef\u001b[0m \u001b[0mfun\u001b[0m\u001b[0;34m(\u001b[0m\u001b[0ma\u001b[0m\u001b[0;34m,\u001b[0m\u001b[0mb\u001b[0m\u001b[0;34m)\u001b[0m\u001b[0;34m:\u001b[0m\u001b[0;34m\u001b[0m\u001b[0m\n\u001b[1;32m      2\u001b[0m     \u001b[0;32mprint\u001b[0m \u001b[0ma\u001b[0m\u001b[0;34m,\u001b[0m\u001b[0mb\u001b[0m\u001b[0;34m\u001b[0m\u001b[0m\n\u001b[0;32m----> 3\u001b[0;31m \u001b[0mfun\u001b[0m\u001b[0;34m(\u001b[0m\u001b[0;36m20\u001b[0m\u001b[0;34m)\u001b[0m\u001b[0;34m\u001b[0m\u001b[0m\n\u001b[0m",
      "\u001b[0;31mTypeError\u001b[0m: fun() takes exactly 2 arguments (1 given)"
     ]
    }
   ],
   "source": [
    "def fun(a,b):\n",
    "    print a,b\n",
    "fun(20)"
   ]
  },
  {
   "cell_type": "code",
   "execution_count": 3,
   "metadata": {},
   "outputs": [
    {
     "name": "stdout",
     "output_type": "stream",
     "text": [
      "o1= <__main__.c1 instance at 0x7f18c126fe60> 139744296500832\n"
     ]
    },
    {
     "ename": "TypeError",
     "evalue": "unbound method op1() must be called with c1 instance as first argument (got int instance instead)",
     "output_type": "error",
     "traceback": [
      "\u001b[0;31m---------------------------------------------------------------------------\u001b[0m",
      "\u001b[0;31mTypeError\u001b[0m                                 Traceback (most recent call last)",
      "\u001b[0;32m<ipython-input-3-8bd64fc12bce>\u001b[0m in \u001b[0;36m<module>\u001b[0;34m()\u001b[0m\n\u001b[1;32m      6\u001b[0m \u001b[0mo1\u001b[0m\u001b[0;34m=\u001b[0m\u001b[0mc1\u001b[0m\u001b[0;34m(\u001b[0m\u001b[0;34m)\u001b[0m\u001b[0;34m\u001b[0m\u001b[0m\n\u001b[1;32m      7\u001b[0m \u001b[0;32mprint\u001b[0m \u001b[0;34m\"o1=\"\u001b[0m\u001b[0;34m,\u001b[0m\u001b[0mo1\u001b[0m\u001b[0;34m,\u001b[0m\u001b[0mid\u001b[0m\u001b[0;34m(\u001b[0m\u001b[0mo1\u001b[0m\u001b[0;34m)\u001b[0m\u001b[0;34m\u001b[0m\u001b[0m\n\u001b[0;32m----> 8\u001b[0;31m \u001b[0mc1\u001b[0m\u001b[0;34m.\u001b[0m\u001b[0mop1\u001b[0m\u001b[0;34m(\u001b[0m\u001b[0;36m10\u001b[0m\u001b[0;34m,\u001b[0m\u001b[0;36m200\u001b[0m\u001b[0;34m)\u001b[0m\u001b[0;34m\u001b[0m\u001b[0m\n\u001b[0m",
      "\u001b[0;31mTypeError\u001b[0m: unbound method op1() must be called with c1 instance as first argument (got int instance instead)"
     ]
    }
   ],
   "source": [
    "class c1:\n",
    "    def op1(a,b):\n",
    "        \n",
    "        print \"a=%s, b=%s\"%(a,b)\n",
    "        print \"id(a)=\",id(a)\n",
    "o1=c1()\n",
    "print \"o1=\",o1,id(o1)\n",
    "c1.op1(10,200)"
   ]
  },
  {
   "cell_type": "code",
   "execution_count": 4,
   "metadata": {},
   "outputs": [
    {
     "name": "stdout",
     "output_type": "stream",
     "text": [
      "o1= <__main__.c1 instance at 0x7f18c1290440> 139744296633408\n",
      "a=<__main__.c1 instance at 0x7f18c1290440>, b=200\n",
      "id(a)= 139744296633408\n"
     ]
    }
   ],
   "source": [
    "class c1:\n",
    "    def op1(a,b):\n",
    "        \n",
    "        print \"a=%s, b=%s\"%(a,b)\n",
    "        print \"id(a)=\",id(a)\n",
    "o1=c1()\n",
    "print \"o1=\",o1,id(o1)\n",
    "c1.op1(o1,200)"
   ]
  },
  {
   "cell_type": "code",
   "execution_count": 5,
   "metadata": {},
   "outputs": [
    {
     "name": "stdout",
     "output_type": "stream",
     "text": [
      "o1= <__main__.c1 instance at 0x7f18c1290488> 139744296633480\n",
      "a=<__main__.c1 instance at 0x7f18c1290488>, b=200\n",
      "id(a)= 139744296633480\n"
     ]
    }
   ],
   "source": [
    "class c1:\n",
    "    def op1(a,b):\n",
    "        \n",
    "        print \"a=%s, b=%s\"%(a,b)\n",
    "        print \"id(a)=\",id(a)\n",
    "o1=c1()\n",
    "print \"o1=\",o1,id(o1)\n",
    "o1.op1(200)"
   ]
  },
  {
   "cell_type": "code",
   "execution_count": 6,
   "metadata": {},
   "outputs": [
    {
     "name": "stdout",
     "output_type": "stream",
     "text": [
      "o1= <__main__.c1 instance at 0x7f18c12903f8> 139744296633336\n"
     ]
    },
    {
     "ename": "TypeError",
     "evalue": "op1() takes exactly 2 arguments (3 given)",
     "output_type": "error",
     "traceback": [
      "\u001b[0;31m---------------------------------------------------------------------------\u001b[0m",
      "\u001b[0;31mTypeError\u001b[0m                                 Traceback (most recent call last)",
      "\u001b[0;32m<ipython-input-6-4cfd882482bd>\u001b[0m in \u001b[0;36m<module>\u001b[0;34m()\u001b[0m\n\u001b[1;32m      6\u001b[0m \u001b[0mo1\u001b[0m\u001b[0;34m=\u001b[0m\u001b[0mc1\u001b[0m\u001b[0;34m(\u001b[0m\u001b[0;34m)\u001b[0m\u001b[0;34m\u001b[0m\u001b[0m\n\u001b[1;32m      7\u001b[0m \u001b[0;32mprint\u001b[0m \u001b[0;34m\"o1=\"\u001b[0m\u001b[0;34m,\u001b[0m\u001b[0mo1\u001b[0m\u001b[0;34m,\u001b[0m\u001b[0mid\u001b[0m\u001b[0;34m(\u001b[0m\u001b[0mo1\u001b[0m\u001b[0;34m)\u001b[0m\u001b[0;34m\u001b[0m\u001b[0m\n\u001b[0;32m----> 8\u001b[0;31m \u001b[0mo1\u001b[0m\u001b[0;34m.\u001b[0m\u001b[0mop1\u001b[0m\u001b[0;34m(\u001b[0m\u001b[0mo1\u001b[0m\u001b[0;34m,\u001b[0m\u001b[0;36m200\u001b[0m\u001b[0;34m)\u001b[0m\u001b[0;34m\u001b[0m\u001b[0m\n\u001b[0m",
      "\u001b[0;31mTypeError\u001b[0m: op1() takes exactly 2 arguments (3 given)"
     ]
    }
   ],
   "source": [
    "class c1:\n",
    "    def op1(a,b):\n",
    "        \n",
    "        print \"a=%s, b=%s\"%(a,b)\n",
    "        print \"id(a)=\",id(a)\n",
    "o1=c1()\n",
    "print \"o1=\",o1,id(o1)\n",
    "o1.op1(o1,200)"
   ]
  },
  {
   "cell_type": "code",
   "execution_count": 7,
   "metadata": {},
   "outputs": [
    {
     "name": "stdout",
     "output_type": "stream",
     "text": [
      "o1= <__main__.c1 instance at 0x7f18c1af9cf8> 139744305454328\n",
      "a=<__main__.c1 instance at 0x7f18c1af9cf8>, b=200\n",
      "id(a)= 139744305454328\n",
      "a=<__main__.c1 instance at 0x7f18c1af9cf8>, b=2000\n",
      "id(a)= 139744305454328\n"
     ]
    }
   ],
   "source": [
    "class c1:\n",
    "    def op1(a,b):\n",
    "        \n",
    "        print \"a=%s, b=%s\"%(a,b)\n",
    "        print \"id(a)=\",id(a)\n",
    "o1=c1()\n",
    "print \"o1=\",o1,id(o1)\n",
    "o1.op1(200)\n",
    "c1.op1(o1,2000)"
   ]
  },
  {
   "cell_type": "code",
   "execution_count": 8,
   "metadata": {
    "collapsed": true
   },
   "outputs": [],
   "source": [
    "class c1:\n",
    "    def create(a):\n",
    "        pass"
   ]
  },
  {
   "cell_type": "code",
   "execution_count": 9,
   "metadata": {},
   "outputs": [
    {
     "name": "stdout",
     "output_type": "stream",
     "text": [
      "o1= <__main__.c1 instance at 0x7f18c1290b48> 139744296635208\n",
      "a=<__main__.c1 instance at 0x7f18c1290b48>, b=200\n",
      "id(a)= 139744296635208\n"
     ]
    },
    {
     "ename": "TypeError",
     "evalue": "unbound method op1() must be called with c1 instance as first argument (got int instance instead)",
     "output_type": "error",
     "traceback": [
      "\u001b[0;31m---------------------------------------------------------------------------\u001b[0m",
      "\u001b[0;31mTypeError\u001b[0m                                 Traceback (most recent call last)",
      "\u001b[0;32m<ipython-input-9-e944fd0222f2>\u001b[0m in \u001b[0;36m<module>\u001b[0;34m()\u001b[0m\n\u001b[1;32m      6\u001b[0m \u001b[0;32mprint\u001b[0m \u001b[0;34m\"o1=\"\u001b[0m\u001b[0;34m,\u001b[0m\u001b[0mo1\u001b[0m\u001b[0;34m,\u001b[0m\u001b[0mid\u001b[0m\u001b[0;34m(\u001b[0m\u001b[0mo1\u001b[0m\u001b[0;34m)\u001b[0m\u001b[0;34m\u001b[0m\u001b[0m\n\u001b[1;32m      7\u001b[0m \u001b[0mo1\u001b[0m\u001b[0;34m.\u001b[0m\u001b[0mop1\u001b[0m\u001b[0;34m(\u001b[0m\u001b[0;36m200\u001b[0m\u001b[0;34m)\u001b[0m\u001b[0;34m\u001b[0m\u001b[0m\n\u001b[0;32m----> 8\u001b[0;31m \u001b[0mc1\u001b[0m\u001b[0;34m.\u001b[0m\u001b[0mop1\u001b[0m\u001b[0;34m(\u001b[0m\u001b[0;36m10\u001b[0m\u001b[0;34m,\u001b[0m\u001b[0;36m2000\u001b[0m\u001b[0;34m)\u001b[0m\u001b[0;34m\u001b[0m\u001b[0m\n\u001b[0m",
      "\u001b[0;31mTypeError\u001b[0m: unbound method op1() must be called with c1 instance as first argument (got int instance instead)"
     ]
    }
   ],
   "source": [
    "class c1:\n",
    "    def op1(a,b):\n",
    "        print \"a=%s, b=%s\"%(a,b)\n",
    "        print \"id(a)=\",id(a)\n",
    "o1=c1()\n",
    "print \"o1=\",o1,id(o1)\n",
    "o1.op1(200)\n",
    "c1.op1(10,2000)"
   ]
  },
  {
   "cell_type": "code",
   "execution_count": 10,
   "metadata": {},
   "outputs": [
    {
     "name": "stdout",
     "output_type": "stream",
     "text": [
      "o1= <__main__.c1 instance at 0x7f18c1290d88> 139744296635784\n",
      "a=<__main__.c1 instance at 0x7f18c1290d88>, b=200\n",
      "id(a)= 139744296635784\n",
      "a=<__main__.c1 instance at 0x7f18c1290d88>, b=2000\n",
      "id(a)= 139744296635784\n"
     ]
    }
   ],
   "source": [
    "class c1:\n",
    "    def op1(a,b):\n",
    "        print \"a=%s, b=%s\"%(a,b)\n",
    "        print \"id(a)=\",id(a)\n",
    "o1=c1()\n",
    "print \"o1=\",o1,id(o1)\n",
    "o1.op1(200)\n",
    "c1.op1(o1,2000)"
   ]
  },
  {
   "cell_type": "code",
   "execution_count": 11,
   "metadata": {},
   "outputs": [
    {
     "name": "stdout",
     "output_type": "stream",
     "text": [
      "a=1000\n",
      "o1= <__main__.c1 instance at 0x7f18c1290a28> 139744296634920\n",
      "a=<__main__.c1 instance at 0x7f18c1290a28>, b=200\n",
      "id(a)= 139744296634920\n",
      "a=<__main__.c1 instance at 0x7f18c1290a28>, b=2000\n",
      "id(a)= 139744296634920\n"
     ]
    }
   ],
   "source": [
    "class c1:\n",
    "    a=1000\n",
    "    print \"a=%s\"%a\n",
    "    def op1(a,b):\n",
    "        print \"a=%s, b=%s\"%(a,b)\n",
    "        print \"id(a)=\",id(a)\n",
    "o1=c1()\n",
    "print \"o1=\",o1,id(o1)\n",
    "o1.op1(200)\n",
    "c1.op1(o1,2000)"
   ]
  },
  {
   "cell_type": "code",
   "execution_count": 12,
   "metadata": {},
   "outputs": [
    {
     "name": "stdout",
     "output_type": "stream",
     "text": [
      "a=1000\n",
      "o1= <__main__.c1 instance at 0x7f18c121a050> 139744296149072\n",
      "a=<__main__.c1 instance at 0x7f18c121a050>, b=200\n",
      "id(a)= 139744296149072\n",
      "c="
     ]
    },
    {
     "ename": "NameError",
     "evalue": "global name 'c' is not defined",
     "output_type": "error",
     "traceback": [
      "\u001b[0;31m---------------------------------------------------------------------------\u001b[0m",
      "\u001b[0;31mNameError\u001b[0m                                 Traceback (most recent call last)",
      "\u001b[0;32m<ipython-input-12-8bb6be989445>\u001b[0m in \u001b[0;36m<module>\u001b[0;34m()\u001b[0m\n\u001b[1;32m      8\u001b[0m \u001b[0mo1\u001b[0m\u001b[0;34m=\u001b[0m\u001b[0mc1\u001b[0m\u001b[0;34m(\u001b[0m\u001b[0;34m)\u001b[0m\u001b[0;34m\u001b[0m\u001b[0m\n\u001b[1;32m      9\u001b[0m \u001b[0;32mprint\u001b[0m \u001b[0;34m\"o1=\"\u001b[0m\u001b[0;34m,\u001b[0m\u001b[0mo1\u001b[0m\u001b[0;34m,\u001b[0m\u001b[0mid\u001b[0m\u001b[0;34m(\u001b[0m\u001b[0mo1\u001b[0m\u001b[0;34m)\u001b[0m\u001b[0;34m\u001b[0m\u001b[0m\n\u001b[0;32m---> 10\u001b[0;31m \u001b[0mo1\u001b[0m\u001b[0;34m.\u001b[0m\u001b[0mop1\u001b[0m\u001b[0;34m(\u001b[0m\u001b[0;36m200\u001b[0m\u001b[0;34m)\u001b[0m\u001b[0;34m\u001b[0m\u001b[0m\n\u001b[0m\u001b[1;32m     11\u001b[0m \u001b[0mc1\u001b[0m\u001b[0;34m.\u001b[0m\u001b[0mop1\u001b[0m\u001b[0;34m(\u001b[0m\u001b[0mo1\u001b[0m\u001b[0;34m,\u001b[0m\u001b[0;36m2000\u001b[0m\u001b[0;34m)\u001b[0m\u001b[0;34m\u001b[0m\u001b[0m\n",
      "\u001b[0;32m<ipython-input-12-8bb6be989445>\u001b[0m in \u001b[0;36mop1\u001b[0;34m(a, b)\u001b[0m\n\u001b[1;32m      5\u001b[0m         \u001b[0;32mprint\u001b[0m \u001b[0;34m\"a=%s, b=%s\"\u001b[0m\u001b[0;34m%\u001b[0m\u001b[0;34m(\u001b[0m\u001b[0ma\u001b[0m\u001b[0;34m,\u001b[0m\u001b[0mb\u001b[0m\u001b[0;34m)\u001b[0m\u001b[0;34m\u001b[0m\u001b[0m\n\u001b[1;32m      6\u001b[0m         \u001b[0;32mprint\u001b[0m \u001b[0;34m\"id(a)=\"\u001b[0m\u001b[0;34m,\u001b[0m\u001b[0mid\u001b[0m\u001b[0;34m(\u001b[0m\u001b[0ma\u001b[0m\u001b[0;34m)\u001b[0m\u001b[0;34m\u001b[0m\u001b[0m\n\u001b[0;32m----> 7\u001b[0;31m         \u001b[0;32mprint\u001b[0m \u001b[0;34m\"c=\"\u001b[0m\u001b[0;34m,\u001b[0m\u001b[0mc\u001b[0m\u001b[0;34m\u001b[0m\u001b[0m\n\u001b[0m\u001b[1;32m      8\u001b[0m \u001b[0mo1\u001b[0m\u001b[0;34m=\u001b[0m\u001b[0mc1\u001b[0m\u001b[0;34m(\u001b[0m\u001b[0;34m)\u001b[0m\u001b[0;34m\u001b[0m\u001b[0m\n\u001b[1;32m      9\u001b[0m \u001b[0;32mprint\u001b[0m \u001b[0;34m\"o1=\"\u001b[0m\u001b[0;34m,\u001b[0m\u001b[0mo1\u001b[0m\u001b[0;34m,\u001b[0m\u001b[0mid\u001b[0m\u001b[0;34m(\u001b[0m\u001b[0mo1\u001b[0m\u001b[0;34m)\u001b[0m\u001b[0;34m\u001b[0m\u001b[0m\n",
      "\u001b[0;31mNameError\u001b[0m: global name 'c' is not defined"
     ]
    }
   ],
   "source": [
    "class c1:\n",
    "    c=1000\n",
    "    print \"a=%s\"%c\n",
    "    def op1(a,b):\n",
    "        print \"a=%s, b=%s\"%(a,b)\n",
    "        print \"id(a)=\",id(a)\n",
    "        print \"c=\",c\n",
    "o1=c1()\n",
    "print \"o1=\",o1,id(o1)\n",
    "o1.op1(200)\n",
    "c1.op1(o1,2000)"
   ]
  },
  {
   "cell_type": "code",
   "execution_count": 13,
   "metadata": {},
   "outputs": [
    {
     "name": "stdout",
     "output_type": "stream",
     "text": [
      " a=1000\n",
      "o1= <__main__.c1 instance at 0x7f18c121a3f8> 139744296150008\n",
      "a=<__main__.c1 instance at 0x7f18c121a3f8>, b=200\n",
      "id(a)= 139744296150008\n",
      "c= 1\n",
      "a=<__main__.c1 instance at 0x7f18c121a3f8>, b=2000\n",
      "id(a)= 139744296150008\n",
      "c= 1\n"
     ]
    }
   ],
   "source": [
    "c=1\n",
    "class c1:\n",
    "    c=1000\n",
    "    print \"a=%s\"%c\n",
    "    def op1(a,b):\n",
    "        print \"a=%s, b=%s\"%(a,b)\n",
    "        print \"id(a)=\",id(a)\n",
    "        print \"c=\",c\n",
    "o1=c1()\n",
    "print \"o1=\",o1,id(o1)\n",
    "o1.op1(200)\n",
    "c1.op1(o1,2000)"
   ]
  },
  {
   "cell_type": "code",
   "execution_count": 14,
   "metadata": {},
   "outputs": [
    {
     "name": "stdout",
     "output_type": "stream",
     "text": [
      "a=1000\n",
      "o1= <__main__.c1 instance at 0x7f18c121a320> 139744296149792\n",
      "a=<__main__.c1 instance at 0x7f18c121a320>, b=200\n",
      "id(a)= 139744296149792\n",
      "c= 2\n",
      "a=<__main__.c1 instance at 0x7f18c121a320>, b=2000\n",
      "id(a)= 139744296149792\n",
      "c= 2\n"
     ]
    }
   ],
   "source": [
    "c=1\n",
    "class c1:\n",
    "    c=1000\n",
    "    print \"a=%s\"%c\n",
    "    def op1(a,b):\n",
    "        c=2\n",
    "        print \"a=%s, b=%s\"%(a,b)\n",
    "        print \"id(a)=\",id(a)\n",
    "        print \"c=\",c\n",
    "o1=c1()\n",
    "print \"o1=\",o1,id(o1)\n",
    "o1.op1(200)\n",
    "c1.op1(o1,2000)"
   ]
  },
  {
   "cell_type": "code",
   "execution_count": 15,
   "metadata": {},
   "outputs": [
    {
     "name": "stdout",
     "output_type": "stream",
     "text": [
      "a=1000\n",
      "o1= <__main__.c1 instance at 0x7f18c121a758> 139744296150872\n",
      "a=<__main__.c1 instance at 0x7f18c121a758>, b=200\n",
      "id(a)= 139744296150872\n",
      "c= 1000\n",
      "a=<__main__.c1 instance at 0x7f18c121a758>, b=2000\n",
      "id(a)= 139744296150872\n",
      "c= 1000\n"
     ]
    }
   ],
   "source": [
    "class c1:\n",
    "    c=1000\n",
    "    print \"a=%s\"%c\n",
    "    def op1(a,b):\n",
    "        print \"a=%s, b=%s\"%(a,b)\n",
    "        print \"id(a)=\",id(a)\n",
    "        print \"c=\",a.c\n",
    "o1=c1()\n",
    "print \"o1=\",o1,id(o1)\n",
    "o1.op1(200)\n",
    "c1.op1(o1,2000)"
   ]
  },
  {
   "cell_type": "code",
   "execution_count": 16,
   "metadata": {},
   "outputs": [
    {
     "name": "stdout",
     "output_type": "stream",
     "text": [
      "a=1000\n",
      "o1= <__main__.c1 instance at 0x7f18c121a638> 139744296150584\n",
      "a=<__main__.c1 instance at 0x7f18c121a638>, b=200\n",
      "id(a)= 139744296150584\n",
      "c= 1000\n",
      "a=<__main__.c1 instance at 0x7f18c121a638>, b=2000\n",
      "id(a)= 139744296150584\n",
      "c= 1000\n"
     ]
    }
   ],
   "source": [
    "c=1\n",
    "class c1:\n",
    "    c=1000\n",
    "    print \"a=%s\"%c\n",
    "    def op1(a,b):\n",
    "        c=2\n",
    "        print \"a=%s, b=%s\"%(a,b)\n",
    "        print \"id(a)=\",id(a)\n",
    "        print \"c=\",a.c\n",
    "o1=c1()\n",
    "print \"o1=\",o1,id(o1)\n",
    "o1.op1(200)\n",
    "c1.op1(o1,2000)"
   ]
  },
  {
   "cell_type": "code",
   "execution_count": 17,
   "metadata": {},
   "outputs": [
    {
     "name": "stdout",
     "output_type": "stream",
     "text": [
      "Anil Kuma\n"
     ]
    }
   ],
   "source": [
    "class Emp:\n",
    "    def op1(a,b):\n",
    "        print a, b\n",
    "    def get(a):\n",
    "        return name\n",
    "anil=Emp()\n",
    "samba=Emp()\n",
    "chatarjee=Emp()\n",
    "anil.name=\"Anil Kuma\"\n",
    "anil.address=\"Moosapet\"\n",
    "samba.name=\"Sambasiva\"\n",
    "samba.address=\"Anjaneyanagar\"\n",
    "chatarjee.name=\"Chatarjee\"\n",
    "chatarjee.address=\"Kalyan nagar\"\n",
    "print anil.name"
   ]
  },
  {
   "cell_type": "code",
   "execution_count": 18,
   "metadata": {},
   "outputs": [
    {
     "name": "stdout",
     "output_type": "stream",
     "text": [
      "Anil Kuma\n",
      "Sambasiva\n",
      "Chatarjee\n"
     ]
    }
   ],
   "source": [
    "class Emp:\n",
    "    def op1(a,b):\n",
    "        print a, b\n",
    "    def get(a):\n",
    "        return name\n",
    "anil=Emp()\n",
    "samba=Emp()\n",
    "chatarjee=Emp()\n",
    "anil.name=\"Anil Kuma\"\n",
    "anil.address=\"Moosapet\"\n",
    "samba.name=\"Sambasiva\"\n",
    "samba.address=\"Anjaneyanagar\"\n",
    "chatarjee.name=\"Chatarjee\"\n",
    "chatarjee.address=\"Kalyan nagar\"\n",
    "print anil.name\n",
    "print samba.name\n",
    "print chatarjee.name"
   ]
  },
  {
   "cell_type": "code",
   "execution_count": 19,
   "metadata": {},
   "outputs": [
    {
     "name": "stdout",
     "output_type": "stream",
     "text": [
      "('Anil Kuma', 'Moosapet')\n"
     ]
    }
   ],
   "source": [
    "class Emp:\n",
    "    def op1(a,b):\n",
    "        print a, b\n",
    "    def get(a):\n",
    "        return a.name,a.address\n",
    "anil=Emp()\n",
    "samba=Emp()\n",
    "chatarjee=Emp()\n",
    "anil.name=\"Anil Kuma\"\n",
    "anil.address=\"Moosapet\"\n",
    "samba.name=\"Sambasiva\"\n",
    "samba.address=\"Anjaneyanagar\"\n",
    "chatarjee.name=\"Chatarjee\"\n",
    "chatarjee.address=\"Kalyan nagar\"\n",
    "print Emp.get(anil)"
   ]
  },
  {
   "cell_type": "code",
   "execution_count": 20,
   "metadata": {},
   "outputs": [
    {
     "name": "stdout",
     "output_type": "stream",
     "text": [
      "('Anil Kuma', 'Moosapet')\n",
      "('Sambasiva', 'Anjaneyanagar')\n",
      "('Chatarjee', 'Kalyan nagar')\n"
     ]
    }
   ],
   "source": [
    "class Emp:\n",
    "    def op1(a,b):\n",
    "        print a, b\n",
    "    def get(a):\n",
    "        return a.name,a.address\n",
    "anil=Emp()\n",
    "samba=Emp()\n",
    "chatarjee=Emp()\n",
    "anil.name=\"Anil Kuma\"\n",
    "anil.address=\"Moosapet\"\n",
    "samba.name=\"Sambasiva\"\n",
    "samba.address=\"Anjaneyanagar\"\n",
    "chatarjee.name=\"Chatarjee\"\n",
    "chatarjee.address=\"Kalyan nagar\"\n",
    "print Emp.get(anil)\n",
    "print Emp.get(samba)\n",
    "print Emp.get(chatarjee)"
   ]
  },
  {
   "cell_type": "code",
   "execution_count": 21,
   "metadata": {},
   "outputs": [
    {
     "name": "stdout",
     "output_type": "stream",
     "text": [
      "('Anil Kuma', 'Moosapet')\n",
      "('Sambasiva', 'Anjaneyanagar')\n",
      "('Chatarjee', 'Kalyan nagar')\n"
     ]
    }
   ],
   "source": [
    "class Emp:\n",
    "    def op1(a,b):\n",
    "        print a, b\n",
    "        \n",
    "    def get(a):\n",
    "        return a.name,a.address\n",
    "anil=Emp()\n",
    "samba=Emp()\n",
    "chatarjee=Emp()\n",
    "anil.name=\"Anil Kuma\"\n",
    "anil.address=\"Moosapet\"\n",
    "samba.name=\"Sambasiva\"\n",
    "samba.address=\"Anjaneyanagar\"\n",
    "chatarjee.name=\"Chatarjee\"\n",
    "chatarjee.address=\"Kalyan nagar\"\n",
    "#print Emp.get(anil)\n",
    "print anil.get()\n",
    "#print Emp.get(samba)\n",
    "print samba.get()\n",
    "#print Emp.get(chatarjee)\n",
    "print chatarjee.get()"
   ]
  },
  {
   "cell_type": "code",
   "execution_count": 22,
   "metadata": {},
   "outputs": [
    {
     "name": "stdout",
     "output_type": "stream",
     "text": [
      "('Anil Kuma', 'Moosapet')\n"
     ]
    }
   ],
   "source": [
    "class Emp:\n",
    "    def op1(a,b):\n",
    "        print a, b\n",
    "        \n",
    "    def get(a):\n",
    "        return a.name,a.address\n",
    "anil=Emp()\n",
    "samba=Emp()\n",
    "chatarjee=Emp()\n",
    "anil.name=\"Anil Kuma\"\n",
    "anil.address=\"Moosapet\"\n",
    "samba.name=\"Sambasiva\"\n",
    "samba.address=\"Anjaneyanagar\"\n",
    "chatarjee.name=\"Chatarjee\"\n",
    "chatarjee.address=\"Kalyan nagar\"\n",
    "#print Emp.get(anil)\n",
    "print anil.get()\n"
   ]
  },
  {
   "cell_type": "code",
   "execution_count": 23,
   "metadata": {
    "collapsed": true
   },
   "outputs": [],
   "source": [
    "class Emp:\n",
    "    def op1(a,b):\n",
    "        print a, b\n",
    "        \n",
    "    def get(a):\n",
    "        return a.name,a.address\n",
    "anil=Emp()\n",
    "samba=Emp()\n",
    "chatarjee=Emp()\n",
    "anil.name=\"Anil Kuma\"\n",
    "anil.address=\"Moosapet\"\n",
    "samba.name=\"Sambasiva\"\n",
    "samba.address=\"Anjaneyanagar\"\n",
    "chatarjee.name=\"Chatarjee\"\n",
    "chatarjee.address=\"Kalyan nagar\"\n"
   ]
  },
  {
   "cell_type": "code",
   "execution_count": 25,
   "metadata": {},
   "outputs": [
    {
     "name": "stdout",
     "output_type": "stream",
     "text": [
      "('Sambasiva', 'Anjaneyanagar', 'Anil Kuma', 'Moosapet', 'Chatarjee', 'Kalyan nagar')\n"
     ]
    }
   ],
   "source": [
    "class Emp:\n",
    "    def op1(a,b):\n",
    "        print a, b\n",
    "        \n",
    "    def get(a,b,c):\n",
    "        return a.name,a.address,b.name,b.address,c.name,c.address\n",
    "anil=Emp()\n",
    "samba=Emp()\n",
    "chatarjee=Emp()\n",
    "anil.name=\"Anil Kuma\"\n",
    "anil.address=\"Moosapet\"\n",
    "samba.name=\"Sambasiva\"\n",
    "samba.address=\"Anjaneyanagar\"\n",
    "chatarjee.name=\"Chatarjee\"\n",
    "chatarjee.address=\"Kalyan nagar\"\n",
    "print samba.get(anil,chatarjee)"
   ]
  },
  {
   "cell_type": "code",
   "execution_count": 27,
   "metadata": {},
   "outputs": [
    {
     "name": "stdout",
     "output_type": "stream",
     "text": [
      "('Sambasiva', 'Anjaneyanagar')\n",
      "34567\n"
     ]
    }
   ],
   "source": [
    "class Emp:\n",
    "    def op1(a,b):\n",
    "        print a, b\n",
    "    def cal_sal(self):\n",
    "        print self.sal\n",
    "    def get(a):\n",
    "        return a.name,a.address\n",
    "anil=Emp()\n",
    "samba=Emp()\n",
    "chatarjee=Emp()\n",
    "anil.name=\"Anil Kuma\"\n",
    "anil.address=\"Moosapet\"\n",
    "anil.sal=1234\n",
    "samba.name=\"Sambasiva\"\n",
    "samba.address=\"Anjaneyanagar\"\n",
    "samba.sal=34567\n",
    "chatarjee.name=\"Chatarjee\"\n",
    "chatarjee.address=\"Kalyan nagar\"\n",
    "chatarjee.sal=2345\n",
    "print samba.get()\n",
    "samba.cal_sal()"
   ]
  },
  {
   "cell_type": "code",
   "execution_count": 28,
   "metadata": {},
   "outputs": [
    {
     "name": "stdout",
     "output_type": "stream",
     "text": [
      "('Sambasiva', 'Anjaneyanagar')\n",
      "34567\n",
      "1234\n"
     ]
    }
   ],
   "source": [
    "class Emp:\n",
    "    def op1(a,b):\n",
    "        print a, b\n",
    "    def cal_sal(self):\n",
    "        print self.sal\n",
    "    def get(a):\n",
    "        return a.name,a.address\n",
    "anil=Emp()\n",
    "samba=Emp()\n",
    "chatarjee=Emp()\n",
    "anil.name=\"Anil Kuma\"\n",
    "anil.address=\"Moosapet\"\n",
    "anil.sal=1234\n",
    "samba.name=\"Sambasiva\"\n",
    "samba.address=\"Anjaneyanagar\"\n",
    "samba.sal=34567\n",
    "chatarjee.name=\"Chatarjee\"\n",
    "chatarjee.address=\"Kalyan nagar\"\n",
    "chatarjee.sal=2345\n",
    "print samba.get()\n",
    "samba.cal_sal()\n",
    "anil.cal_sal()"
   ]
  },
  {
   "cell_type": "code",
   "execution_count": 29,
   "metadata": {},
   "outputs": [
    {
     "name": "stdout",
     "output_type": "stream",
     "text": [
      "('Sambasiva', 'Anjaneyanagar')\n",
      "34567\n",
      "1234\n",
      "2345\n"
     ]
    }
   ],
   "source": [
    "class Emp:\n",
    "    def op1(a,b):\n",
    "        print a, b\n",
    "    def cal_sal(self):\n",
    "        print self.sal\n",
    "        \n",
    "    def get(a):\n",
    "        return a.name,a.address\n",
    "anil=Emp()\n",
    "samba=Emp()\n",
    "chatarjee=Emp()\n",
    "anil.name=\"Anil Kuma\"\n",
    "anil.address=\"Moosapet\"\n",
    "anil.sal=1234\n",
    "samba.name=\"Sambasiva\"\n",
    "samba.address=\"Anjaneyanagar\"\n",
    "samba.sal=34567\n",
    "chatarjee.name=\"Chatarjee\"\n",
    "chatarjee.address=\"Kalyan nagar\"\n",
    "chatarjee.sal=2345\n",
    "print samba.get()\n",
    "samba.cal_sal()\n",
    "anil.cal_sal()\n",
    "chatarjee.cal_sal()"
   ]
  },
  {
   "cell_type": "code",
   "execution_count": 31,
   "metadata": {},
   "outputs": [],
   "source": [
    "class Emp:\n",
    "    def op1(a,b):\n",
    "        print a, b\n",
    "    def cal_sal(self):\n",
    "        print self.sal\n",
    "    def set_data(self, e_name, e_address, e_sal):\n",
    "        self.name=e_name\n",
    "        self.address = e_address\n",
    "        self.sal=e_sal\n",
    "    def get(a):\n",
    "        return a.name,a.address\n",
    "anil=Emp()\n",
    "samba=Emp()\n",
    "chatarjee=Emp()\n",
    "'''\n",
    "anil.name=\"Anil Kuma\"\n",
    "anil.address=\"Moosapet\"\n",
    "anil.sal=1234\n",
    "'''\n",
    "anil.set_data(\"anil kumar\",\"Mosapet\",123434)\n",
    "'''\n",
    "samba.name=\"Sambasiva\"\n",
    "samba.address=\"Anjaneyanagar\"\n",
    "samba.sal=34567\n",
    "'''\n",
    "samba.set_data(\"sambasiva\",\"anjaneyanagar\",23456)\n",
    "'''\n",
    "chatarjee.name=\"Chatarjee\"\n",
    "chatarjee.address=\"Kalyan nagar\"\n",
    "chatarjee.sal=2345\n",
    "'''\n",
    "chatarjee.set_data(\"chatarjee\",\"kalyan nagar\",2345)\n"
   ]
  },
  {
   "cell_type": "code",
   "execution_count": 32,
   "metadata": {},
   "outputs": [
    {
     "name": "stdout",
     "output_type": "stream",
     "text": [
      "('anil kumar', 'Mosapet', 123434)\n"
     ]
    }
   ],
   "source": [
    "class Emp:\n",
    "    def op1(a,b):\n",
    "        print a, b\n",
    "    def cal_sal(self):\n",
    "        print self.sal\n",
    "    def set_data(self, e_name, e_address, e_sal):\n",
    "        self.name=e_name\n",
    "        self.address = e_address\n",
    "        self.sal=e_sal\n",
    "    def get(self):\n",
    "        return self.name,self.address,self.sal\n",
    "anil=Emp()\n",
    "samba=Emp()\n",
    "chatarjee=Emp()\n",
    "anil.set_data(\"anil kumar\",\"Mosapet\",123434)\n",
    "samba.set_data(\"sambasiva\",\"anjaneyanagar\",23456)\n",
    "chatarjee.set_data(\"chatarjee\",\"kalyan nagar\",2345)\n",
    "print anil.get()"
   ]
  },
  {
   "cell_type": "code",
   "execution_count": 34,
   "metadata": {},
   "outputs": [
    {
     "name": "stdout",
     "output_type": "stream",
     "text": [
      "('sambasiva', 'anjaneyanagar', 23456)\n"
     ]
    }
   ],
   "source": [
    "class Emp:\n",
    "    def op1(a,b):\n",
    "        print a, b\n",
    "    def cal_sal(self):\n",
    "        print self.sal\n",
    "    def set_data(self, e_name, e_address, e_sal):\n",
    "        self.name=e_name\n",
    "        self.address = e_address\n",
    "        self.sal=e_sal\n",
    "    def get(self):\n",
    "        return self.name,self.address,self.sal\n",
    "anil=Emp()\n",
    "samba=Emp()\n",
    "chatarjee=Emp()\n",
    "anil.set_data(\"anil kumar\",\"Mosapet\",123434)\n",
    "samba.set_data(\"sambasiva\",\"anjaneyanagar\",23456)\n",
    "chatarjee.set_data(\"chatarjee\",\"kalyan nagar\",2345)\n",
    "print samba.get()"
   ]
  },
  {
   "cell_type": "code",
   "execution_count": 35,
   "metadata": {},
   "outputs": [
    {
     "name": "stdout",
     "output_type": "stream",
     "text": [
      "('chatarjee', 'kalyan nagar', 2345)\n"
     ]
    }
   ],
   "source": [
    "class Emp:\n",
    "    def op1(a,b):\n",
    "        print a, b\n",
    "    def cal_sal(self):\n",
    "        print self.sal\n",
    "    def set_data(self, e_name, e_address, e_sal):\n",
    "        self.name=e_name\n",
    "        self.address = e_address\n",
    "        self.sal=e_sal\n",
    "    def get(self):\n",
    "        return self.name,self.address,self.sal\n",
    "anil=Emp()\n",
    "samba=Emp()\n",
    "chatarjee=Emp()\n",
    "anil.set_data(\"anil kumar\",\"Mosapet\",123434)\n",
    "samba.set_data(\"sambasiva\",\"anjaneyanagar\",23456)\n",
    "chatarjee.set_data(\"chatarjee\",\"kalyan nagar\",2345)\n",
    "print chatarjee.get()"
   ]
  },
  {
   "cell_type": "code",
   "execution_count": 36,
   "metadata": {},
   "outputs": [
    {
     "name": "stdout",
     "output_type": "stream",
     "text": [
      "('chatarjee', 'kalyan nagar', 2345)\n",
      "135777.4\n"
     ]
    }
   ],
   "source": [
    "class Emp:\n",
    "    def op1(a,b):\n",
    "        print a, b\n",
    "    def cal_sal(self):\n",
    "        return self.sal+self.sal*0.1\n",
    "    def set_data(self, e_name, e_address, e_sal):\n",
    "        self.name=e_name\n",
    "        self.address = e_address\n",
    "        self.sal=e_sal\n",
    "    def get(self):\n",
    "        return self.name,self.address,self.sal\n",
    "anil=Emp()\n",
    "samba=Emp()\n",
    "chatarjee=Emp()\n",
    "anil.set_data(\"anil kumar\",\"Mosapet\",123434)\n",
    "samba.set_data(\"sambasiva\",\"anjaneyanagar\",23456)\n",
    "chatarjee.set_data(\"chatarjee\",\"kalyan nagar\",2345)\n",
    "print chatarjee.get()\n",
    "print anil.cal_sal()"
   ]
  },
  {
   "cell_type": "code",
   "execution_count": 37,
   "metadata": {},
   "outputs": [
    {
     "ename": "AttributeError",
     "evalue": "Emp instance has no attribute 'age'",
     "output_type": "error",
     "traceback": [
      "\u001b[0;31m---------------------------------------------------------------------------\u001b[0m",
      "\u001b[0;31mAttributeError\u001b[0m                            Traceback (most recent call last)",
      "\u001b[0;32m<ipython-input-37-45135f3379ed>\u001b[0m in \u001b[0;36m<module>\u001b[0;34m()\u001b[0m\n\u001b[1;32m     18\u001b[0m \u001b[0mchatarjee\u001b[0m\u001b[0;34m.\u001b[0m\u001b[0mset_data\u001b[0m\u001b[0;34m(\u001b[0m\u001b[0;34m\"chatarjee\"\u001b[0m\u001b[0;34m,\u001b[0m\u001b[0;34m\"kalyan nagar\"\u001b[0m\u001b[0;34m,\u001b[0m\u001b[0;36m2345\u001b[0m\u001b[0;34m)\u001b[0m\u001b[0;34m\u001b[0m\u001b[0m\n\u001b[1;32m     19\u001b[0m \u001b[0manil\u001b[0m\u001b[0;34m.\u001b[0m\u001b[0mage\u001b[0m\u001b[0;34m=\u001b[0m\u001b[0;36m23\u001b[0m\u001b[0;34m\u001b[0m\u001b[0m\n\u001b[0;32m---> 20\u001b[0;31m \u001b[0;32mprint\u001b[0m \u001b[0msamba\u001b[0m\u001b[0;34m.\u001b[0m\u001b[0mage\u001b[0m\u001b[0;34m\u001b[0m\u001b[0m\n\u001b[0m",
      "\u001b[0;31mAttributeError\u001b[0m: Emp instance has no attribute 'age'"
     ]
    }
   ],
   "source": [
    "class Emp:\n",
    "    company=\"KHYAATHI\"\n",
    "    def op1(a,b):\n",
    "        print a, b\n",
    "    def cal_sal(self):\n",
    "        return self.sal+self.sal*0.1\n",
    "    def set_data(self, e_name, e_address, e_sal):\n",
    "        self.name=e_name\n",
    "        self.address = e_address\n",
    "        self.sal=e_sal\n",
    "    def get(self):\n",
    "        return self.name,self.address,self.sal\n",
    "anil=Emp()\n",
    "samba=Emp()\n",
    "chatarjee=Emp()\n",
    "anil.set_data(\"anil kumar\",\"Mosapet\",123434)\n",
    "samba.set_data(\"sambasiva\",\"anjaneyanagar\",23456)\n",
    "chatarjee.set_data(\"chatarjee\",\"kalyan nagar\",2345)\n",
    "anil.age=23\n",
    "print samba.age"
   ]
  },
  {
   "cell_type": "code",
   "execution_count": 38,
   "metadata": {},
   "outputs": [
    {
     "name": "stdout",
     "output_type": "stream",
     "text": [
      "23\n"
     ]
    },
    {
     "ename": "AttributeError",
     "evalue": "Emp instance has no attribute 'age'",
     "output_type": "error",
     "traceback": [
      "\u001b[0;31m---------------------------------------------------------------------------\u001b[0m",
      "\u001b[0;31mAttributeError\u001b[0m                            Traceback (most recent call last)",
      "\u001b[0;32m<ipython-input-38-12436e2c2468>\u001b[0m in \u001b[0;36m<module>\u001b[0;34m()\u001b[0m\n\u001b[1;32m     19\u001b[0m \u001b[0manil\u001b[0m\u001b[0;34m.\u001b[0m\u001b[0mage\u001b[0m\u001b[0;34m=\u001b[0m\u001b[0;36m23\u001b[0m\u001b[0;34m\u001b[0m\u001b[0m\n\u001b[1;32m     20\u001b[0m \u001b[0;32mprint\u001b[0m \u001b[0manil\u001b[0m\u001b[0;34m.\u001b[0m\u001b[0mage\u001b[0m\u001b[0;34m\u001b[0m\u001b[0m\n\u001b[0;32m---> 21\u001b[0;31m \u001b[0;32mprint\u001b[0m \u001b[0msamba\u001b[0m\u001b[0;34m.\u001b[0m\u001b[0mage\u001b[0m\u001b[0;34m\u001b[0m\u001b[0m\n\u001b[0m",
      "\u001b[0;31mAttributeError\u001b[0m: Emp instance has no attribute 'age'"
     ]
    }
   ],
   "source": [
    "class Emp:\n",
    "    company=\"KHYAATHI\"\n",
    "    def op1(a,b):\n",
    "        print a, b\n",
    "    def cal_sal(self):\n",
    "        return self.sal+self.sal*0.1\n",
    "    def set_data(self, e_name, e_address, e_sal):\n",
    "        self.name=e_name\n",
    "        self.address = e_address\n",
    "        self.sal=e_sal\n",
    "    def get(self):\n",
    "        return self.name,self.address,self.sal\n",
    "anil=Emp()\n",
    "samba=Emp()\n",
    "chatarjee=Emp()\n",
    "anil.set_data(\"anil kumar\",\"Mosapet\",123434)\n",
    "samba.set_data(\"sambasiva\",\"anjaneyanagar\",23456)\n",
    "chatarjee.set_data(\"chatarjee\",\"kalyan nagar\",2345)\n",
    "anil.age=23\n",
    "print anil.age\n",
    "print samba.age"
   ]
  },
  {
   "cell_type": "code",
   "execution_count": 39,
   "metadata": {},
   "outputs": [
    {
     "name": "stdout",
     "output_type": "stream",
     "text": [
      "KHYAATHI\n"
     ]
    }
   ],
   "source": [
    "class Emp:\n",
    "    company=\"KHYAATHI\"\n",
    "    def op1(a,b):\n",
    "        print a, b\n",
    "    def cal_sal(self):\n",
    "        return self.sal+self.sal*0.1\n",
    "    def set_data(self, e_name, e_address, e_sal):\n",
    "        self.name=e_name\n",
    "        self.address = e_address\n",
    "        self.sal=e_sal\n",
    "    def get(self):\n",
    "        return self.name,self.address,self.sal\n",
    "anil=Emp()\n",
    "samba=Emp()\n",
    "chatarjee=Emp()\n",
    "anil.set_data(\"anil kumar\",\"Mosapet\",123434)\n",
    "samba.set_data(\"sambasiva\",\"anjaneyanagar\",23456)\n",
    "chatarjee.set_data(\"chatarjee\",\"kalyan nagar\",2345)\n",
    "print Emp.company"
   ]
  },
  {
   "cell_type": "code",
   "execution_count": 40,
   "metadata": {},
   "outputs": [
    {
     "ename": "AttributeError",
     "evalue": "class Emp has no attribute 'name'",
     "output_type": "error",
     "traceback": [
      "\u001b[0;31m---------------------------------------------------------------------------\u001b[0m",
      "\u001b[0;31mAttributeError\u001b[0m                            Traceback (most recent call last)",
      "\u001b[0;32m<ipython-input-40-2ba99d36bee3>\u001b[0m in \u001b[0;36m<module>\u001b[0;34m()\u001b[0m\n\u001b[1;32m     17\u001b[0m \u001b[0msamba\u001b[0m\u001b[0;34m.\u001b[0m\u001b[0mset_data\u001b[0m\u001b[0;34m(\u001b[0m\u001b[0;34m\"sambasiva\"\u001b[0m\u001b[0;34m,\u001b[0m\u001b[0;34m\"anjaneyanagar\"\u001b[0m\u001b[0;34m,\u001b[0m\u001b[0;36m23456\u001b[0m\u001b[0;34m)\u001b[0m\u001b[0;34m\u001b[0m\u001b[0m\n\u001b[1;32m     18\u001b[0m \u001b[0mchatarjee\u001b[0m\u001b[0;34m.\u001b[0m\u001b[0mset_data\u001b[0m\u001b[0;34m(\u001b[0m\u001b[0;34m\"chatarjee\"\u001b[0m\u001b[0;34m,\u001b[0m\u001b[0;34m\"kalyan nagar\"\u001b[0m\u001b[0;34m,\u001b[0m\u001b[0;36m2345\u001b[0m\u001b[0;34m)\u001b[0m\u001b[0;34m\u001b[0m\u001b[0m\n\u001b[0;32m---> 19\u001b[0;31m \u001b[0;32mprint\u001b[0m \u001b[0mEmp\u001b[0m\u001b[0;34m.\u001b[0m\u001b[0mname\u001b[0m\u001b[0;34m\u001b[0m\u001b[0m\n\u001b[0m",
      "\u001b[0;31mAttributeError\u001b[0m: class Emp has no attribute 'name'"
     ]
    }
   ],
   "source": [
    "class Emp:\n",
    "    company=\"KHYAATHI\"\n",
    "    def op1(a,b):\n",
    "        print a, b\n",
    "    def cal_sal(self):\n",
    "        return self.sal+self.sal*0.1\n",
    "    def set_data(self, e_name, e_address, e_sal):\n",
    "        self.name=e_name\n",
    "        self.address = e_address\n",
    "        self.sal=e_sal\n",
    "    def get(self):\n",
    "        return self.name,self.address,self.sal\n",
    "anil=Emp()\n",
    "samba=Emp()\n",
    "chatarjee=Emp()\n",
    "anil.set_data(\"anil kumar\",\"Mosapet\",123434)\n",
    "samba.set_data(\"sambasiva\",\"anjaneyanagar\",23456)\n",
    "chatarjee.set_data(\"chatarjee\",\"kalyan nagar\",2345)\n",
    "print Emp.name"
   ]
  },
  {
   "cell_type": "code",
   "execution_count": 41,
   "metadata": {},
   "outputs": [
    {
     "name": "stdout",
     "output_type": "stream",
     "text": [
      "KHYAATHI\n"
     ]
    }
   ],
   "source": [
    "class Emp:\n",
    "    company=\"KHYAATHI\"\n",
    "    def op1(a,b):\n",
    "        print a, b\n",
    "    def cal_sal(self):\n",
    "        return self.sal+self.sal*0.1\n",
    "    def set_data(self, e_name, e_address, e_sal):\n",
    "        self.name=e_name\n",
    "        self.address = e_address\n",
    "        self.sal=e_sal\n",
    "    def get(self):\n",
    "        return self.name,self.address,self.sal\n",
    "anil=Emp()\n",
    "samba=Emp()\n",
    "chatarjee=Emp()\n",
    "anil.set_data(\"anil kumar\",\"Mosapet\",123434)\n",
    "samba.set_data(\"sambasiva\",\"anjaneyanagar\",23456)\n",
    "chatarjee.set_data(\"chatarjee\",\"kalyan nagar\",2345)\n",
    "print anil.company"
   ]
  },
  {
   "cell_type": "code",
   "execution_count": 42,
   "metadata": {},
   "outputs": [
    {
     "name": "stdout",
     "output_type": "stream",
     "text": [
      "KHYAATHI\n",
      "KHYAATHI\n",
      "KHYAATHI\n"
     ]
    }
   ],
   "source": [
    "class Emp:\n",
    "    company=\"KHYAATHI\"\n",
    "    def op1(a,b):\n",
    "        print a, b\n",
    "    def cal_sal(self):\n",
    "        return self.sal+self.sal*0.1\n",
    "    def set_data(self, e_name, e_address, e_sal):\n",
    "        self.name=e_name\n",
    "        self.address = e_address\n",
    "        self.sal=e_sal\n",
    "    def get(self):\n",
    "        return self.name,self.address,self.sal\n",
    "anil=Emp()\n",
    "samba=Emp()\n",
    "chatarjee=Emp()\n",
    "anil.set_data(\"anil kumar\",\"Mosapet\",123434)\n",
    "samba.set_data(\"sambasiva\",\"anjaneyanagar\",23456)\n",
    "chatarjee.set_data(\"chatarjee\",\"kalyan nagar\",2345)\n",
    "print anil.company\n",
    "print samba.company\n",
    "print chatarjee.company"
   ]
  },
  {
   "cell_type": "code",
   "execution_count": 43,
   "metadata": {},
   "outputs": [
    {
     "name": "stdout",
     "output_type": "stream",
     "text": [
      "('anil kumar', 'Mosapet', 123434, 'KHYAATHI')\n",
      "('sambasiva', 'anjaneyanagar', 23456, 'KHYAATHI')\n",
      "('chatarjee', 'kalyan nagar', 2345, 'KHYAATHI')\n"
     ]
    }
   ],
   "source": [
    "class Emp:\n",
    "    company=\"KHYAATHI\"\n",
    "    def op1(a,b):\n",
    "        print a, b\n",
    "    def cal_sal(self):\n",
    "        return self.sal+self.sal*0.1\n",
    "    def set_data(self, e_name, e_address, e_sal):\n",
    "        self.name=e_name\n",
    "        self.address = e_address\n",
    "        self.sal=e_sal\n",
    "    def get(self):\n",
    "        return self.name,self.address,self.sal, self.company\n",
    "anil=Emp()\n",
    "samba=Emp()\n",
    "chatarjee=Emp()\n",
    "anil.set_data(\"anil kumar\",\"Mosapet\",123434)\n",
    "samba.set_data(\"sambasiva\",\"anjaneyanagar\",23456)\n",
    "chatarjee.set_data(\"chatarjee\",\"kalyan nagar\",2345)\n",
    "print anil.get()\n",
    "print samba.get()\n",
    "print chatarjee.get()"
   ]
  },
  {
   "cell_type": "code",
   "execution_count": 44,
   "metadata": {},
   "outputs": [
    {
     "name": "stdout",
     "output_type": "stream",
     "text": [
      "('anil kumar', 'Mosapet', 123434, 'KHYAATHI')\n",
      "('sambasiva', 'anjaneyanagar', 23456, 'KHYAATHI')\n",
      "('chatarjee', 'kalyan nagar', 2345, 'KHYAATHI')\n",
      "KHYAATHI\n"
     ]
    },
    {
     "ename": "AttributeError",
     "evalue": "Emp instance has no attribute 'name'",
     "output_type": "error",
     "traceback": [
      "\u001b[0;31m---------------------------------------------------------------------------\u001b[0m",
      "\u001b[0;31mAttributeError\u001b[0m                            Traceback (most recent call last)",
      "\u001b[0;32m<ipython-input-44-21d6d2235d08>\u001b[0m in \u001b[0;36m<module>\u001b[0;34m()\u001b[0m\n\u001b[1;32m     22\u001b[0m \u001b[0;32mprint\u001b[0m \u001b[0mchatarjee\u001b[0m\u001b[0;34m.\u001b[0m\u001b[0mget\u001b[0m\u001b[0;34m(\u001b[0m\u001b[0;34m)\u001b[0m\u001b[0;34m\u001b[0m\u001b[0m\n\u001b[1;32m     23\u001b[0m \u001b[0;32mprint\u001b[0m \u001b[0msanthosh\u001b[0m\u001b[0;34m.\u001b[0m\u001b[0mcompany\u001b[0m\u001b[0;34m\u001b[0m\u001b[0m\n\u001b[0;32m---> 24\u001b[0;31m \u001b[0;32mprint\u001b[0m \u001b[0msanthosh\u001b[0m\u001b[0;34m.\u001b[0m\u001b[0mget\u001b[0m\u001b[0;34m(\u001b[0m\u001b[0;34m)\u001b[0m\u001b[0;34m\u001b[0m\u001b[0m\n\u001b[0m",
      "\u001b[0;32m<ipython-input-44-21d6d2235d08>\u001b[0m in \u001b[0;36mget\u001b[0;34m(self)\u001b[0m\n\u001b[1;32m     10\u001b[0m         \u001b[0mself\u001b[0m\u001b[0;34m.\u001b[0m\u001b[0msal\u001b[0m\u001b[0;34m=\u001b[0m\u001b[0me_sal\u001b[0m\u001b[0;34m\u001b[0m\u001b[0m\n\u001b[1;32m     11\u001b[0m     \u001b[0;32mdef\u001b[0m \u001b[0mget\u001b[0m\u001b[0;34m(\u001b[0m\u001b[0mself\u001b[0m\u001b[0;34m)\u001b[0m\u001b[0;34m:\u001b[0m\u001b[0;34m\u001b[0m\u001b[0m\n\u001b[0;32m---> 12\u001b[0;31m         \u001b[0;32mreturn\u001b[0m \u001b[0mself\u001b[0m\u001b[0;34m.\u001b[0m\u001b[0mname\u001b[0m\u001b[0;34m,\u001b[0m\u001b[0mself\u001b[0m\u001b[0;34m.\u001b[0m\u001b[0maddress\u001b[0m\u001b[0;34m,\u001b[0m\u001b[0mself\u001b[0m\u001b[0;34m.\u001b[0m\u001b[0msal\u001b[0m\u001b[0;34m,\u001b[0m \u001b[0mself\u001b[0m\u001b[0;34m.\u001b[0m\u001b[0mcompany\u001b[0m\u001b[0;34m\u001b[0m\u001b[0m\n\u001b[0m\u001b[1;32m     13\u001b[0m \u001b[0manil\u001b[0m\u001b[0;34m=\u001b[0m\u001b[0mEmp\u001b[0m\u001b[0;34m(\u001b[0m\u001b[0;34m)\u001b[0m\u001b[0;34m\u001b[0m\u001b[0m\n\u001b[1;32m     14\u001b[0m \u001b[0msamba\u001b[0m\u001b[0;34m=\u001b[0m\u001b[0mEmp\u001b[0m\u001b[0;34m(\u001b[0m\u001b[0;34m)\u001b[0m\u001b[0;34m\u001b[0m\u001b[0m\n",
      "\u001b[0;31mAttributeError\u001b[0m: Emp instance has no attribute 'name'"
     ]
    }
   ],
   "source": [
    "class Emp:\n",
    "    company=\"KHYAATHI\"\n",
    "    def op1(a,b):\n",
    "        print a, b\n",
    "    def cal_sal(self):\n",
    "        return self.sal+self.sal*0.1\n",
    "    def set_data(self, e_name, e_address, e_sal):\n",
    "        self.name=e_name\n",
    "        self.address = e_address\n",
    "        self.sal=e_sal\n",
    "    def get(self):\n",
    "        return self.name,self.address,self.sal, self.company\n",
    "anil=Emp()\n",
    "samba=Emp()\n",
    "chatarjee=Emp()\n",
    "anil.set_data(\"anil kumar\",\"Mosapet\",123434)\n",
    "samba.set_data(\"sambasiva\",\"anjaneyanagar\",23456)\n",
    "chatarjee.set_data(\"chatarjee\",\"kalyan nagar\",2345)\n",
    "santhosh  = Emp()\n",
    "print anil.get()\n",
    "print samba.get()\n",
    "print chatarjee.get()\n",
    "print santhosh.company\n",
    "print santhosh.get()"
   ]
  },
  {
   "cell_type": "code",
   "execution_count": null,
   "metadata": {
    "collapsed": true
   },
   "outputs": [],
   "source": []
  }
 ],
 "metadata": {
  "kernelspec": {
   "display_name": "Python 2",
   "language": "python",
   "name": "python2"
  },
  "language_info": {
   "codemirror_mode": {
    "name": "ipython",
    "version": 2
   },
   "file_extension": ".py",
   "mimetype": "text/x-python",
   "name": "python",
   "nbconvert_exporter": "python",
   "pygments_lexer": "ipython2",
   "version": "2.7.14"
  }
 },
 "nbformat": 4,
 "nbformat_minor": 2
}
