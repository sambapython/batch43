{
 "cells": [
  {
   "cell_type": "code",
   "execution_count": 1,
   "metadata": {},
   "outputs": [
    {
     "name": "stdout",
     "output_type": "stream",
     "text": [
      "program started\n",
      "Enter a string:python\n",
      "i= p\n",
      "i= y\n",
      "i= t\n",
      "i= h\n",
      "i= o\n",
      "i= n\n",
      "other statement in program\n",
      "progrma ended\n"
     ]
    }
   ],
   "source": [
    "# continue, break, \n",
    "print \"program started\"\n",
    "s=raw_input(\"Enter a string:\")\n",
    "for i in s:\n",
    "    print \"i=\",i\n",
    "print \"other statement in program\"\n",
    "print \"progrma ended\"\n"
   ]
  },
  {
   "cell_type": "code",
   "execution_count": 2,
   "metadata": {},
   "outputs": [
    {
     "name": "stdout",
     "output_type": "stream",
     "text": [
      "program started\n",
      "Enter a string:a b c\n",
      "i= a\n",
      "i=  \n",
      "i= b\n",
      "i=  \n",
      "i= c\n",
      "other statement in program\n",
      "progrma ended\n"
     ]
    }
   ],
   "source": [
    "# continue, break, \n",
    "print \"program started\"\n",
    "s=raw_input(\"Enter a string:\")\n",
    "for i in s:\n",
    "    print \"i=\",i\n",
    "print \"other statement in program\"\n",
    "print \"progrma ended\"\n",
    "#<space>"
   ]
  },
  {
   "cell_type": "code",
   "execution_count": 3,
   "metadata": {},
   "outputs": [
    {
     "name": "stdout",
     "output_type": "stream",
     "text": [
      "program started\n",
      "Enter a string:abc\n",
      "i= a\n",
      "i= b\n",
      "i= c\n",
      "other statement in program\n",
      "progrma ended\n"
     ]
    }
   ],
   "source": [
    "# continue, break, \n",
    "print \"program started\"\n",
    "s=raw_input(\"Enter a string:\")\n",
    "for i in s:\n",
    "    if i==\" \":\n",
    "        print \"i=<space>\"\n",
    "    else:\n",
    "        print \"i=\",i\n",
    "print \"other statement in program\"\n",
    "print \"progrma ended\"\n",
    "#<space>"
   ]
  },
  {
   "cell_type": "code",
   "execution_count": 4,
   "metadata": {},
   "outputs": [
    {
     "name": "stdout",
     "output_type": "stream",
     "text": [
      "program started\n",
      "Enter a string:a b c\n",
      "i= a\n",
      "i=<space>\n",
      "i= b\n",
      "i=<space>\n",
      "i= c\n",
      "other statement in program\n",
      "progrma ended\n"
     ]
    }
   ],
   "source": [
    "# continue, break, \n",
    "print \"program started\"\n",
    "s=raw_input(\"Enter a string:\")\n",
    "for i in s:\n",
    "    if i==\" \":\n",
    "        print \"i=<space>\"\n",
    "    else:\n",
    "        print \"i=\",i\n",
    "print \"other statement in program\"\n",
    "print \"progrma ended\"\n",
    "#<space>"
   ]
  },
  {
   "cell_type": "code",
   "execution_count": 5,
   "metadata": {},
   "outputs": [
    {
     "name": "stdout",
     "output_type": "stream",
     "text": [
      "program started\n",
      "Enter a string:abc\n",
      "iteration started\n",
      "i= a\n",
      "iteration ended\n",
      "iteration started\n",
      "i= b\n",
      "iteration ended\n",
      "iteration started\n",
      "i= c\n",
      "iteration ended\n",
      "other statement in program\n",
      "progrma ended\n"
     ]
    }
   ],
   "source": [
    "# continue, break, \n",
    "print \"program started\"\n",
    "s=raw_input(\"Enter a string:\")\n",
    "for i in s:\n",
    "    print \"iteration started\"\n",
    "    if i==\" \":\n",
    "        break\n",
    "    else:\n",
    "        print \"i=\",i\n",
    "    print \"iteration ended\"\n",
    "print \"other statement in program\"\n",
    "print \"progrma ended\"\n",
    "#<space>"
   ]
  },
  {
   "cell_type": "code",
   "execution_count": 6,
   "metadata": {},
   "outputs": [
    {
     "name": "stdout",
     "output_type": "stream",
     "text": [
      "program started\n",
      "Enter a string:a b c\n",
      "iteration started\n",
      "i= a\n",
      "some other statements in loop\n",
      "iteration ended\n",
      "iteration started\n",
      "other statement in program\n",
      "progrma ended\n"
     ]
    }
   ],
   "source": [
    "# continue, break, \n",
    "print \"program started\"\n",
    "s=raw_input(\"Enter a string:\")\n",
    "for i in s:\n",
    "    print \"iteration started\"\n",
    "    if i==\" \":\n",
    "        break\n",
    "    else:\n",
    "        print \"i=\",i\n",
    "    print \"some other statements in loop\"\n",
    "    print \"iteration ended\"\n",
    "    \n",
    "print \"other statement in program\"\n",
    "print \"progrma ended\"\n",
    "#<space>"
   ]
  },
  {
   "cell_type": "code",
   "execution_count": 7,
   "metadata": {},
   "outputs": [
    {
     "name": "stdout",
     "output_type": "stream",
     "text": [
      "program started\n",
      "Enter a string:abc\n",
      "iteration started\n",
      "i= a\n",
      "some other statements in loop\n",
      "iteration ended\n",
      "iteration started\n",
      "i= b\n",
      "some other statements in loop\n",
      "iteration ended\n",
      "iteration started\n",
      "i= c\n",
      "some other statements in loop\n",
      "iteration ended\n",
      "other statement in program\n",
      "progrma ended\n"
     ]
    }
   ],
   "source": [
    "# continue, break, \n",
    "print \"program started\"\n",
    "s=raw_input(\"Enter a string:\")\n",
    "for i in s:\n",
    "    print \"iteration started\"\n",
    "    if i==\" \":\n",
    "        break\n",
    "    else:\n",
    "        print \"i=\",i\n",
    "    print \"some other statements in loop\"\n",
    "    print \"iteration ended\"\n",
    "    \n",
    "print \"other statement in program\"\n",
    "print \"progrma ended\"\n",
    "#<space>"
   ]
  },
  {
   "cell_type": "code",
   "execution_count": 8,
   "metadata": {},
   "outputs": [
    {
     "name": "stdout",
     "output_type": "stream",
     "text": [
      "program started\n",
      "Enter a string:a b c\n",
      "iteration started\n",
      "i= a\n",
      "some other statements in loop\n",
      "iteration ended\n",
      "iteration started\n",
      "other statement in program\n",
      "progrma ended\n"
     ]
    }
   ],
   "source": [
    "# continue, break, \n",
    "print \"program started\"\n",
    "s=raw_input(\"Enter a string:\")\n",
    "for i in s:\n",
    "    print \"iteration started\"\n",
    "    if i==\" \":\n",
    "        break\n",
    "    else:\n",
    "        print \"i=\",i\n",
    "    print \"some other statements in loop\"\n",
    "    print \"iteration ended\"\n",
    "    \n",
    "print \"other statement in program\"\n",
    "print \"progrma ended\"\n",
    "#<space>"
   ]
  },
  {
   "cell_type": "code",
   "execution_count": 9,
   "metadata": {},
   "outputs": [
    {
     "name": "stdout",
     "output_type": "stream",
     "text": [
      "i out side the loop: 1\n"
     ]
    }
   ],
   "source": [
    "i=0\n",
    "while i<10:\n",
    "    i=i+1\n",
    "    break\n",
    "print \"i out side the loop:\",i"
   ]
  },
  {
   "cell_type": "code",
   "execution_count": 10,
   "metadata": {},
   "outputs": [
    {
     "name": "stdout",
     "output_type": "stream",
     "text": [
      "i out side the loop: 0\n"
     ]
    }
   ],
   "source": [
    "i=0\n",
    "while i<10:\n",
    "    break\n",
    "    i=i+1\n",
    "print \"i out side the loop:\",i"
   ]
  },
  {
   "cell_type": "code",
   "execution_count": 11,
   "metadata": {},
   "outputs": [
    {
     "name": "stdout",
     "output_type": "stream",
     "text": [
      "i out side the loop: p\n"
     ]
    }
   ],
   "source": [
    "for i in \"python\":\n",
    "    break\n",
    "print \"i out side the loop:\",i"
   ]
  },
  {
   "cell_type": "code",
   "execution_count": 12,
   "metadata": {},
   "outputs": [
    {
     "name": "stdout",
     "output_type": "stream",
     "text": [
      "i out side the loop: 5\n"
     ]
    }
   ],
   "source": [
    "i=0\n",
    "while i<10:\n",
    "    if i==5:\n",
    "        break\n",
    "    i=i+1\n",
    "print \"i out side the loop:\",i"
   ]
  },
  {
   "cell_type": "code",
   "execution_count": 13,
   "metadata": {},
   "outputs": [
    {
     "name": "stdout",
     "output_type": "stream",
     "text": [
      "i out side the loop: 7\n"
     ]
    }
   ],
   "source": [
    "i=0\n",
    "while i<10:\n",
    "    if i==5:\n",
    "        i=i+2\n",
    "        break\n",
    "    i=i+1\n",
    "print \"i out side the loop:\",i"
   ]
  },
  {
   "cell_type": "code",
   "execution_count": 14,
   "metadata": {},
   "outputs": [
    {
     "name": "stdout",
     "output_type": "stream",
     "text": [
      "i= 0\n",
      "i= 1\n",
      "i= 2\n",
      "i= 3\n",
      "i= 4\n",
      "i= 5\n",
      "i= 6\n",
      "i= 7\n",
      "i= 8\n",
      "i= 9\n",
      "i out side the loop: 10\n"
     ]
    }
   ],
   "source": [
    "i=0\n",
    "while i<10:\n",
    "    print \"i=\",i\n",
    "    i=i+1\n",
    "    continue\n",
    "print \"i out side the loop:\",i"
   ]
  },
  {
   "cell_type": "code",
   "execution_count": 15,
   "metadata": {},
   "outputs": [
    {
     "name": "stdout",
     "output_type": "stream",
     "text": [
      "i= 0\n",
      "i= 1\n",
      "i= 2\n",
      "i= 3\n",
      "i= 4\n",
      "i= 5\n",
      "i= 6\n",
      "i= 7\n",
      "i= 8\n",
      "i= 9\n",
      "i out side the loop: 10\n"
     ]
    }
   ],
   "source": [
    "i=0\n",
    "while i<10:\n",
    "    print \"i=\",i\n",
    "    i=i+1\n",
    "print \"i out side the loop:\",i"
   ]
  },
  {
   "cell_type": "code",
   "execution_count": 16,
   "metadata": {},
   "outputs": [
    {
     "name": "stdout",
     "output_type": "stream",
     "text": [
      "i= 0\n",
      "i= 1\n",
      "i= 2\n",
      "i= 3\n",
      "i= 4\n",
      "i= 5\n",
      "i= 6\n",
      "i= 7\n",
      "i= 8\n",
      "i= 9\n",
      "i out side the loop: 10\n"
     ]
    }
   ],
   "source": [
    "i=0\n",
    "while i<10:\n",
    "    print \"i=\",i\n",
    "    i=i+1\n",
    "    continue\n",
    "    print \"some other statements in loop\"\n",
    "    print \n",
    "print \"i out side the loop:\",i"
   ]
  },
  {
   "cell_type": "code",
   "execution_count": 17,
   "metadata": {},
   "outputs": [
    {
     "name": "stdout",
     "output_type": "stream",
     "text": [
      "i= 0\n",
      "some other statements in loop\n",
      "iteration ended\n",
      "i= 1\n",
      "some other statements in loop\n",
      "iteration ended\n",
      "i= 2\n",
      "some other statements in loop\n",
      "iteration ended\n",
      "i= 3\n",
      "some other statements in loop\n",
      "iteration ended\n",
      "i= 4\n",
      "some other statements in loop\n",
      "iteration ended\n",
      "i= 5\n",
      "some other statements in loop\n",
      "iteration ended\n",
      "i= 6\n",
      "some other statements in loop\n",
      "iteration ended\n",
      "i= 7\n",
      "some other statements in loop\n",
      "iteration ended\n",
      "i= 8\n",
      "some other statements in loop\n",
      "iteration ended\n",
      "i= 9\n",
      "some other statements in loop\n",
      "iteration ended\n",
      "i out side the loop: 10\n"
     ]
    }
   ],
   "source": [
    "i=0\n",
    "while i<10:\n",
    "    print \"i=\",i\n",
    "    i=i+1\n",
    "    #continue\n",
    "    print \"some other statements in loop\"\n",
    "    print \"iteration ended\"\n",
    "print \"i out side the loop:\",i"
   ]
  },
  {
   "cell_type": "code",
   "execution_count": 18,
   "metadata": {},
   "outputs": [
    {
     "name": "stdout",
     "output_type": "stream",
     "text": [
      "Enter a value:abc\n",
      "iteration started\n",
      "i= a\n",
      "other statement in loop\n",
      "iteration edned\n",
      "iteration started\n",
      "i= b\n",
      "other statement in loop\n",
      "iteration edned\n",
      "iteration started\n",
      "i= c\n",
      "other statement in loop\n",
      "iteration edned\n",
      "other statements in program\n",
      "program ended\n"
     ]
    }
   ],
   "source": [
    "s=raw_input(\"Enter a value:\")\n",
    "for i in s:\n",
    "    print \"iteration started\"\n",
    "    if i==\" \":\n",
    "        continue\n",
    "    print \"i=\",i\n",
    "    print \"other statement in loop\"\n",
    "    print \"iteration edned\"\n",
    "print \"other statements in program\"\n",
    "print \"program ended\""
   ]
  },
  {
   "cell_type": "code",
   "execution_count": 19,
   "metadata": {},
   "outputs": [
    {
     "name": "stdout",
     "output_type": "stream",
     "text": [
      "Enter a value:ab cd ef gh\n",
      "iteration started\n",
      "i= a\n",
      "other statement in loop\n",
      "iteration edned\n",
      "iteration started\n",
      "i= b\n",
      "other statement in loop\n",
      "iteration edned\n",
      "iteration started\n",
      "iteration started\n",
      "i= c\n",
      "other statement in loop\n",
      "iteration edned\n",
      "iteration started\n",
      "i= d\n",
      "other statement in loop\n",
      "iteration edned\n",
      "iteration started\n",
      "iteration started\n",
      "i= e\n",
      "other statement in loop\n",
      "iteration edned\n",
      "iteration started\n",
      "i= f\n",
      "other statement in loop\n",
      "iteration edned\n",
      "iteration started\n",
      "iteration started\n",
      "i= g\n",
      "other statement in loop\n",
      "iteration edned\n",
      "iteration started\n",
      "i= h\n",
      "other statement in loop\n",
      "iteration edned\n",
      "other statements in program\n",
      "program ended\n"
     ]
    }
   ],
   "source": [
    "s=raw_input(\"Enter a value:\")\n",
    "for i in s:\n",
    "    print \"iteration started\"\n",
    "    if i==\" \":\n",
    "        continue\n",
    "    print \"i=\",i\n",
    "    print \"other statement in loop\"\n",
    "    print \"iteration edned\"\n",
    "print \"other statements in program\"\n",
    "print \"program ended\""
   ]
  },
  {
   "cell_type": "code",
   "execution_count": 20,
   "metadata": {
    "scrolled": true
   },
   "outputs": [
    {
     "name": "stdout",
     "output_type": "stream",
     "text": [
      "Enter a value:ab cd ef\n",
      "iteration started\n",
      "i= a\n",
      "other statement in loop\n",
      "iteration edned\n",
      "iteration started\n",
      "i= b\n",
      "other statement in loop\n",
      "iteration edned\n",
      "iteration started\n",
      "<space>\n",
      "iteration started\n",
      "i= c\n",
      "other statement in loop\n",
      "iteration edned\n",
      "iteration started\n",
      "i= d\n",
      "other statement in loop\n",
      "iteration edned\n",
      "iteration started\n",
      "<space>\n",
      "iteration started\n",
      "i= e\n",
      "other statement in loop\n",
      "iteration edned\n",
      "iteration started\n",
      "i= f\n",
      "other statement in loop\n",
      "iteration edned\n",
      "other statements in program\n",
      "program ended\n"
     ]
    }
   ],
   "source": [
    "s=raw_input(\"Enter a value:\")\n",
    "for i in s:\n",
    "    print \"iteration started\"\n",
    "    if i==\" \":\n",
    "        print \"<space>\"\n",
    "        continue\n",
    "    print \"i=\",i\n",
    "    print \"other statement in loop\"\n",
    "    print \"iteration edned\"\n",
    "print \"other statements in program\"\n",
    "print \"program ended\""
   ]
  },
  {
   "cell_type": "code",
   "execution_count": 21,
   "metadata": {},
   "outputs": [
    {
     "name": "stdout",
     "output_type": "stream",
     "text": [
      "i out side the loop: 1\n"
     ]
    }
   ],
   "source": [
    "i=0\n",
    "while i<10:\n",
    "    i=i+1\n",
    "    break\n",
    "print \"i out side the loop:\",i"
   ]
  },
  {
   "cell_type": "code",
   "execution_count": 22,
   "metadata": {},
   "outputs": [
    {
     "name": "stdout",
     "output_type": "stream",
     "text": [
      "i out side the loop: 10\n"
     ]
    }
   ],
   "source": [
    "i=0\n",
    "while i<10:\n",
    "    i=i+1\n",
    "    continue\n",
    "print \"i out side the loop:\",i"
   ]
  },
  {
   "cell_type": "code",
   "execution_count": 23,
   "metadata": {},
   "outputs": [
    {
     "name": "stdout",
     "output_type": "stream",
     "text": [
      "i out side the loop: 0\n"
     ]
    }
   ],
   "source": [
    "i=0\n",
    "while i<10:\n",
    "    break\n",
    "    i=i+1\n",
    "print \"i out side the loop:\",i"
   ]
  },
  {
   "cell_type": "code",
   "execution_count": null,
   "metadata": {
    "collapsed": true
   },
   "outputs": [],
   "source": [
    "i=0\n",
    "while i<10:\n",
    "    continue\n",
    "    i=i+1\n",
    "print \"i out side the loop:\",i"
   ]
  },
  {
   "cell_type": "code",
   "execution_count": 24,
   "metadata": {},
   "outputs": [
    {
     "name": "stdout",
     "output_type": "stream",
     "text": [
      "i= 0\n",
      "i= 1\n",
      "i= 2\n",
      "i= 3\n",
      "i= 4\n",
      "i= 5\n",
      "i= 6\n",
      "i= 7\n",
      "i= 8\n",
      "i= 9\n",
      "i out side the loop: 10\n"
     ]
    }
   ],
   "source": [
    "i=0\n",
    "while i<10:\n",
    "    print \"i=\",i\n",
    "    i=i+1\n",
    "print \"i out side the loop:\",i"
   ]
  },
  {
   "cell_type": "code",
   "execution_count": null,
   "metadata": {
    "collapsed": true
   },
   "outputs": [],
   "source": [
    "i=1\n",
    "while i<10:\n",
    "    print \"i=\",i\n",
    "    if i%2==1:\n",
    "        continue\n",
    "    i=i+1\n",
    "print \"i out side the loop:\",i"
   ]
  },
  {
   "cell_type": "code",
   "execution_count": 25,
   "metadata": {},
   "outputs": [
    {
     "name": "stdout",
     "output_type": "stream",
     "text": [
      "i outside loop: n\n"
     ]
    }
   ],
   "source": [
    "for i in \"python\":\n",
    "    continue\n",
    "print \"i outside loop:\",i"
   ]
  },
  {
   "cell_type": "code",
   "execution_count": 26,
   "metadata": {},
   "outputs": [
    {
     "name": "stdout",
     "output_type": "stream",
     "text": [
      "i= p\n",
      "i= y\n",
      "i= t\n",
      "i= h\n",
      "i= o\n",
      "i= n\n",
      "i outside loop: n\n"
     ]
    }
   ],
   "source": [
    "for i in \"python\":\n",
    "    print \"i=\",i\n",
    "    continue\n",
    "    print \"iteration ended\"\n",
    "    \n",
    "print \"i outside loop:\",i"
   ]
  },
  {
   "cell_type": "code",
   "execution_count": 27,
   "metadata": {},
   "outputs": [
    {
     "name": "stdout",
     "output_type": "stream",
     "text": [
      "i= p\n",
      "i outside loop: p\n"
     ]
    }
   ],
   "source": [
    "for i in \"python\":\n",
    "    print \"i=\",i\n",
    "    break\n",
    "    print \"iteration ended\"\n",
    "    \n",
    "print \"i outside loop:\",i"
   ]
  },
  {
   "cell_type": "code",
   "execution_count": null,
   "metadata": {
    "collapsed": true
   },
   "outputs": [],
   "source": [
    "i=0\n",
    "while i<10:\n",
    "    print \"i=\",i\n",
    "    if i==2:\n",
    "        continue\n",
    "    i=i+1\n",
    "    \n",
    "print \"i out side the loop:\",i"
   ]
  },
  {
   "cell_type": "code",
   "execution_count": null,
   "metadata": {
    "collapsed": true
   },
   "outputs": [],
   "source": [
    "i=0\n",
    "while i<10:\n",
    "    print \"i=\",i\n",
    "    i=i+1\n",
    "    if i==2:\n",
    "        continue\n",
    "  \n",
    "    \n",
    "print \"i out side the loop:\",i"
   ]
  },
  {
   "cell_type": "code",
   "execution_count": 28,
   "metadata": {},
   "outputs": [
    {
     "name": "stdout",
     "output_type": "stream",
     "text": [
      "Enter a value:abc\n",
      "iteration started\n",
      "i= a\n",
      "other statements in loop\n",
      "iteration ended\n",
      "iteration started\n",
      "i= b\n",
      "other statements in loop\n",
      "iteration ended\n",
      "iteration started\n",
      "i= c\n",
      "other statements in loop\n",
      "iteration ended\n"
     ]
    }
   ],
   "source": [
    "s=raw_input(\"Enter a value:\")\n",
    "for i in s:\n",
    "    print \"iteration started\"\n",
    "    print \"i=\",i\n",
    "    print \"other statements in loop\"\n",
    "    print \"iteration ended\""
   ]
  },
  {
   "cell_type": "code",
   "execution_count": 29,
   "metadata": {},
   "outputs": [
    {
     "name": "stdout",
     "output_type": "stream",
     "text": [
      "Enter a value:abc\n",
      "iteration started\n",
      "i= a\n",
      "other statements in loop\n",
      "iteration ended\n",
      "iteration started\n",
      "i= b\n",
      "other statements in loop\n",
      "iteration ended\n",
      "iteration started\n",
      "i= c\n",
      "other statements in loop\n",
      "iteration ended\n",
      "other statements in program\n",
      "program ended\n"
     ]
    }
   ],
   "source": [
    "s=raw_input(\"Enter a value:\")\n",
    "for i in s:\n",
    "    print \"iteration started\"\n",
    "    print \"i=\",i\n",
    "    print \"other statements in loop\"\n",
    "    print \"iteration ended\"\n",
    "print \"other statements in program\"\n",
    "print \"program ended\""
   ]
  },
  {
   "cell_type": "code",
   "execution_count": 30,
   "metadata": {},
   "outputs": [
    {
     "name": "stdout",
     "output_type": "stream",
     "text": [
      "Enter a value:a b\n",
      "iteration started\n",
      "i= a\n",
      "other statements in loop\n",
      "iteration ended\n",
      "iteration started\n",
      "i=  \n",
      "other statements in loop\n",
      "iteration ended\n",
      "iteration started\n",
      "i= b\n",
      "other statements in loop\n",
      "iteration ended\n",
      "other statements in program\n",
      "program ended\n"
     ]
    }
   ],
   "source": [
    "s=raw_input(\"Enter a value:\")\n",
    "for i in s:\n",
    "    print \"iteration started\"\n",
    "    print \"i=\",i\n",
    "    print \"other statements in loop\"\n",
    "    print \"iteration ended\"\n",
    "print \"other statements in program\"\n",
    "print \"program ended\""
   ]
  },
  {
   "cell_type": "code",
   "execution_count": 31,
   "metadata": {},
   "outputs": [
    {
     "name": "stdout",
     "output_type": "stream",
     "text": [
      "Enter a value:a b\n",
      "iteration started\n",
      "<space>\n",
      "i= a\n",
      "other statements in loop\n",
      "iteration ended\n",
      "iteration started\n",
      "<space>\n",
      "i=  \n",
      "other statements in loop\n",
      "iteration ended\n",
      "iteration started\n",
      "<space>\n",
      "i= b\n",
      "other statements in loop\n",
      "iteration ended\n",
      "other statements in program\n",
      "program ended\n"
     ]
    }
   ],
   "source": [
    "s=raw_input(\"Enter a value:\")\n",
    "for i in s:\n",
    "    print \"iteration started\"\n",
    "    print \"<space>\"\n",
    "    print \"i=\",i\n",
    "    print \"other statements in loop\"\n",
    "    print \"iteration ended\"\n",
    "print \"other statements in program\"\n",
    "print \"program ended\"\n",
    "#<space>"
   ]
  },
  {
   "cell_type": "code",
   "execution_count": 33,
   "metadata": {},
   "outputs": [
    {
     "name": "stdout",
     "output_type": "stream",
     "text": [
      "Enter a value:a b\n",
      "iteration started\n",
      "i= a\n",
      "other statements in loop\n",
      "iteration ended\n",
      "iteration started\n",
      "i=<space>\n",
      "other statements in loop\n",
      "iteration ended\n",
      "iteration started\n",
      "i= b\n",
      "other statements in loop\n",
      "iteration ended\n",
      "other statements in program\n",
      "program ended\n"
     ]
    }
   ],
   "source": [
    "s=raw_input(\"Enter a value:\")\n",
    "for i in s:\n",
    "    print \"iteration started\"\n",
    "    if i==\" \":\n",
    "        print \"i=<space>\"\n",
    "    else:\n",
    "        print \"i=\",i\n",
    "    print \"other statements in loop\"\n",
    "    print \"iteration ended\"\n",
    "print \"other statements in program\"\n",
    "print \"program ended\"\n",
    "#<space>"
   ]
  },
  {
   "cell_type": "code",
   "execution_count": 34,
   "metadata": {},
   "outputs": [
    {
     "name": "stdout",
     "output_type": "stream",
     "text": [
      "Enter a value:ab cd ef \n",
      "iteration started\n",
      "i= a\n",
      "other statements in loop\n",
      "iteration ended\n",
      "iteration started\n",
      "i= b\n",
      "other statements in loop\n",
      "iteration ended\n",
      "iteration started\n",
      "i=<space>\n",
      "other statements in loop\n",
      "iteration ended\n",
      "iteration started\n",
      "i= c\n",
      "other statements in loop\n",
      "iteration ended\n",
      "iteration started\n",
      "i= d\n",
      "other statements in loop\n",
      "iteration ended\n",
      "iteration started\n",
      "i=<space>\n",
      "other statements in loop\n",
      "iteration ended\n",
      "iteration started\n",
      "i= e\n",
      "other statements in loop\n",
      "iteration ended\n",
      "iteration started\n",
      "i= f\n",
      "other statements in loop\n",
      "iteration ended\n",
      "iteration started\n",
      "i=<space>\n",
      "other statements in loop\n",
      "iteration ended\n",
      "other statements in program\n",
      "program ended\n"
     ]
    }
   ],
   "source": [
    "s=raw_input(\"Enter a value:\")\n",
    "for i in s:\n",
    "    print \"iteration started\"\n",
    "    if i==\" \":\n",
    "        print \"i=<space>\"\n",
    "    else:\n",
    "        print \"i=\",i\n",
    "    print \"other statements in loop\"\n",
    "    print \"iteration ended\"\n",
    "print \"other statements in program\"\n",
    "print \"program ended\"\n",
    "#<space>"
   ]
  },
  {
   "cell_type": "code",
   "execution_count": 35,
   "metadata": {},
   "outputs": [
    {
     "name": "stdout",
     "output_type": "stream",
     "text": [
      "Enter a value:abc\n",
      "iteration started\n",
      "i= a\n",
      "other statements in loop\n",
      "iteration ended\n",
      "iteration started\n",
      "i= b\n",
      "other statements in loop\n",
      "iteration ended\n",
      "iteration started\n",
      "i= c\n",
      "other statements in loop\n",
      "iteration ended\n",
      "other statements in program\n",
      "program ended\n"
     ]
    }
   ],
   "source": [
    "s=raw_input(\"Enter a value:\")\n",
    "for i in s:\n",
    "    print \"iteration started\"\n",
    "    if i==\" \":\n",
    "        print \"i=<space>\"\n",
    "        break\n",
    "    else:\n",
    "        print \"i=\",i\n",
    "    print \"other statements in loop\"\n",
    "    print \"iteration ended\"\n",
    "print \"other statements in program\"\n",
    "print \"program ended\"\n",
    "#<space>"
   ]
  },
  {
   "cell_type": "code",
   "execution_count": 36,
   "metadata": {},
   "outputs": [
    {
     "name": "stdout",
     "output_type": "stream",
     "text": [
      "Enter a value:a b c d e f\n",
      "iteration started\n",
      "i= a\n",
      "other statements in loop\n",
      "iteration ended\n",
      "iteration started\n",
      "i=<space>\n",
      "other statements in program\n",
      "program ended\n"
     ]
    }
   ],
   "source": [
    "s=raw_input(\"Enter a value:\")\n",
    "for i in s:\n",
    "    print \"iteration started\"\n",
    "    if i==\" \":\n",
    "        print \"i=<space>\"\n",
    "        break\n",
    "    else:\n",
    "        print \"i=\",i\n",
    "    print \"other statements in loop\"\n",
    "    print \"iteration ended\"\n",
    "    \n",
    "print \"other statements in program\"\n",
    "print \"program ended\"\n",
    "#<space>"
   ]
  },
  {
   "cell_type": "code",
   "execution_count": 37,
   "metadata": {},
   "outputs": [
    {
     "name": "stdout",
     "output_type": "stream",
     "text": [
      "Enter a value:abc\n",
      "iteration started\n",
      "i= a\n",
      "other statements in loop\n",
      "iteration ended\n",
      "iteration started\n",
      "i= b\n",
      "other statements in loop\n",
      "iteration ended\n",
      "iteration started\n",
      "i= c\n",
      "other statements in loop\n",
      "iteration ended\n",
      "other statements in program\n",
      "program ended\n"
     ]
    }
   ],
   "source": [
    "s=raw_input(\"Enter a value:\")\n",
    "for i in s:\n",
    "    print \"iteration started\"\n",
    "    if i==\" \":\n",
    "        print \"i=<space>\"\n",
    "        continue\n",
    "    else:\n",
    "        print \"i=\",i\n",
    "    print \"other statements in loop\"\n",
    "    print \"iteration ended\"\n",
    "    \n",
    "print \"other statements in program\"\n",
    "print \"program ended\"\n",
    "#<space>"
   ]
  },
  {
   "cell_type": "code",
   "execution_count": 38,
   "metadata": {},
   "outputs": [
    {
     "name": "stdout",
     "output_type": "stream",
     "text": [
      "Enter a value:a b c\n",
      "iteration started\n",
      "i= a\n",
      "other statements in loop\n",
      "iteration ended\n",
      "iteration started\n",
      "i=<space>\n",
      "iteration started\n",
      "i= b\n",
      "other statements in loop\n",
      "iteration ended\n",
      "iteration started\n",
      "i=<space>\n",
      "iteration started\n",
      "i= c\n",
      "other statements in loop\n",
      "iteration ended\n",
      "other statements in program\n",
      "program ended\n"
     ]
    }
   ],
   "source": [
    "s=raw_input(\"Enter a value:\")\n",
    "for i in s:\n",
    "    print \"iteration started\"\n",
    "    if i==\" \":\n",
    "        print \"i=<space>\"\n",
    "        continue\n",
    "    else:\n",
    "        print \"i=\",i\n",
    "        \n",
    "    print \"other statements in loop\"\n",
    "    print \"iteration ended\"\n",
    "    \n",
    "print \"other statements in program\"\n",
    "print \"program ended\"\n",
    "#<space>"
   ]
  },
  {
   "cell_type": "code",
   "execution_count": null,
   "metadata": {
    "collapsed": true
   },
   "outputs": [],
   "source": []
  }
 ],
 "metadata": {
  "kernelspec": {
   "display_name": "Python 2",
   "language": "python",
   "name": "python2"
  },
  "language_info": {
   "codemirror_mode": {
    "name": "ipython",
    "version": 2
   },
   "file_extension": ".py",
   "mimetype": "text/x-python",
   "name": "python",
   "nbconvert_exporter": "python",
   "pygments_lexer": "ipython2",
   "version": "2.7.14"
  }
 },
 "nbformat": 4,
 "nbformat_minor": 2
}
